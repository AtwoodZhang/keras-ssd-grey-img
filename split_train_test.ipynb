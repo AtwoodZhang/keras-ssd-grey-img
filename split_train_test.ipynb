{
 "cells": [
  {
   "cell_type": "code",
   "execution_count": 1,
   "metadata": {},
   "outputs": [
    {
     "name": "stdout",
     "output_type": "stream",
     "text": [
      "total number is 430\n",
      "trainVal number is 387\n",
      "train number is  348\n",
      "test number is  43\n"
     ]
    }
   ],
   "source": [
    "# 生成ImageSets\\Main文件夹下4个txt文件\n",
    "\n",
    "import os\n",
    "import random\n",
    "\n",
    "trainval_percent = 0.9  # trainval数据集占所有数据的比例\n",
    "train_percent = 0.9  # train数据集占trainval数据的比例\n",
    "xmlfilepath = \"/home/zya/zya/AI/NNet/detection/class_01_mobilenet_ssd/test1_from_bubbliiing/VOCdevkit/VOC2007/Annotations\"\n",
    "txtsavepath = \"/home/zya/zya/AI/NNet/detection/class_01_mobilenet_ssd/test1_from_bubbliiing/VOCdevkit/VOC2007/ImageSets/Main\"\n",
    "\n",
    "total_xml = os.listdir(xmlfilepath)\n",
    "\n",
    "num = len(total_xml)\n",
    "print(\"total number is\", num)\n",
    "list = range(num)\n",
    "\n",
    "tv = int(num*trainval_percent)\n",
    "print(\"trainVal number is\", tv)\n",
    "\n",
    "tr = int(tv * train_percent)\n",
    "print('train number is ', tr)\n",
    "print('test number is ', num - tv)\n",
    "\n",
    "trainval = random.sample(list, tv)\n",
    "train = random.sample(trainval, tr)\n",
    "\n",
    "ftrainval = open(txtsavepath+'/trainval.txt', 'w')\n",
    "ftest = open(txtsavepath+'/test.txt', 'w')\n",
    "ftrain = open(txtsavepath+'/train.txt', 'w')\n",
    "fval = open(txtsavepath+'/val.txt', 'w')\n",
    "\n",
    "for i in list:\n",
    "    name = total_xml[i][:-4] + '\\n'\n",
    "    if i in trainval:\n",
    "        ftrainval.write(name)\n",
    "        if i in train:\n",
    "            ftrain.write(name)\n",
    "        else:\n",
    "            fval.write(name)\n",
    "    else:\n",
    "        ftest.write(name)\n",
    "\n",
    "ftrainval.close()\n",
    "ftrain.close()\n",
    "fval.close()\n",
    "ftest.close()"
   ]
  }
 ],
 "metadata": {
  "kernelspec": {
   "display_name": "Python 3.6.13 ('env_for_buddliing': conda)",
   "language": "python",
   "name": "python3"
  },
  "language_info": {
   "codemirror_mode": {
    "name": "ipython",
    "version": 3
   },
   "file_extension": ".py",
   "mimetype": "text/x-python",
   "name": "python",
   "nbconvert_exporter": "python",
   "pygments_lexer": "ipython3",
   "version": "3.6.13"
  },
  "orig_nbformat": 4,
  "vscode": {
   "interpreter": {
    "hash": "02d31c52c19e8391bc1374cd0158bf50e031047c56f121d7dbdd3c3d0ef2ae0c"
   }
  }
 },
 "nbformat": 4,
 "nbformat_minor": 2
}
