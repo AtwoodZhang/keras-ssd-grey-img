{
 "cells": [
  {
   "cell_type": "markdown",
   "metadata": {},
   "source": [
    "# 1. 编辑文件夹"
   ]
  },
  {
   "cell_type": "markdown",
   "metadata": {},
   "source": [
    "##### 1）将JPEGImages路径下，没有与之对应Annotations中的注释的图片删除。\n",
    "##### 2）输出 注释数目；输出 图片数目；"
   ]
  },
  {
   "cell_type": "code",
   "execution_count": 7,
   "metadata": {},
   "outputs": [],
   "source": [
    "import os\n",
    "import sys\n",
    "\n",
    "\n",
    "Anno_path = \"/home/zya/zya/AI/Dataset/voc/VOCdevkit/VOC2007_label/Annotations\"\n",
    "JPEG_path = \"/home/zya/zya/AI/Dataset/voc/VOCdevkit/VOC2007_label/JPEGImages\""
   ]
  },
  {
   "cell_type": "code",
   "execution_count": 8,
   "metadata": {},
   "outputs": [
    {
     "name": "stdout",
     "output_type": "stream",
     "text": [
      "['007166.xml', '002117.xml', '005416.xml']\n",
      "['000021', '000036', '000063']\n",
      "['005738.jpg', '007359.jpg', '004195.jpg']\n",
      "['000005', '000007', '000009']\n"
     ]
    }
   ],
   "source": [
    "Anno_list = os.listdir(Anno_path)\n",
    "Anno_name_list = [x[0:-4] for x in Anno_list ]\n",
    "Anno_name_list = sorted(Anno_name_list)\n",
    "print(Anno_list[0:3])\n",
    "print(Anno_name_list[0:3])\n",
    "JPEG_list = os.listdir(JPEG_path)\n",
    "JPEG_name_list = [x[0:-4] for x in JPEG_list ]\n",
    "JPEG_name_list = sorted(JPEG_name_list)\n",
    "print(JPEG_list[0:3])\n",
    "print(JPEG_name_list[0:3])"
   ]
  },
  {
   "cell_type": "code",
   "execution_count": 9,
   "metadata": {},
   "outputs": [
    {
     "name": "stdout",
     "output_type": "stream",
     "text": [
      "recent Anno count: 430\n",
      "recent JPEG count: 430\n"
     ]
    }
   ],
   "source": [
    "for i in JPEG_name_list:\n",
    "    if i not in Anno_name_list:\n",
    "        no_anno_jpg_name = i+\".jpg\"\n",
    "        no_anno_jpg_path = JPEG_path + \"/\" + no_anno_jpg_name\n",
    "        # print(no_anno_jpg_path)\n",
    "        os.remove(no_anno_jpg_path)\n",
    "\n",
    "Anno_new_list = os.listdir(Anno_path)\n",
    "JPEG_new_list = os.listdir(JPEG_path)\n",
    "\n",
    "print(\"recent Anno count:\",len(Anno_new_list))\n",
    "print(\"recent JPEG count:\",len(JPEG_new_list))"
   ]
  },
  {
   "cell_type": "code",
   "execution_count": null,
   "metadata": {},
   "outputs": [],
   "source": []
  }
 ],
 "metadata": {
  "kernelspec": {
   "display_name": "Python 3.6.13 ('env_for_buddliing': conda)",
   "language": "python",
   "name": "python3"
  },
  "language_info": {
   "codemirror_mode": {
    "name": "ipython",
    "version": 3
   },
   "file_extension": ".py",
   "mimetype": "text/x-python",
   "name": "python",
   "nbconvert_exporter": "python",
   "pygments_lexer": "ipython3",
   "version": "3.6.13"
  },
  "orig_nbformat": 4,
  "vscode": {
   "interpreter": {
    "hash": "02d31c52c19e8391bc1374cd0158bf50e031047c56f121d7dbdd3c3d0ef2ae0c"
   }
  }
 },
 "nbformat": 4,
 "nbformat_minor": 2
}
