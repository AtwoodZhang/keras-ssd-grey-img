{
 "cells": [
  {
   "cell_type": "markdown",
   "metadata": {},
   "source": [
    "# 2. QAT"
   ]
  },
  {
   "cell_type": "markdown",
   "metadata": {},
   "source": [
    "QAT概述：与其他量化方法相比，QAT在训练过程中模拟量化的效果，可以获得更高的accuracy. 在训练过程中，所有的计算都是再浮点上进行的，使用fake_quant模块通过夹紧和摄入的方式对量化效果进行建模，模拟int8的效果。模型转换后，权值和激活被量化，激活在可能的情况下被融合到前一层。它通常与CNN一起使用，与PTQ相比具有更高的accuracy."
   ]
  },
  {
   "cell_type": "markdown",
   "metadata": {},
   "source": [
    "1)  量化模型"
   ]
  },
  {
   "cell_type": "code",
   "execution_count": 5,
   "metadata": {},
   "outputs": [],
   "source": [
    "import torch\n",
    "from torch import nn, Tensor\n",
    "\n",
    "\n",
    "class M(nn.Module):\n",
    "    def __init__(self):\n",
    "        super().__init__()\n",
    "        self.conv = torch.nn.Conv2d(1, 1, 1)\n",
    "        self.relu = torch.nn.ReLU()\n",
    "        \n",
    "    def _forward_impl(self, x:Tensor) -> Tensor:\n",
    "        \"\"\"提供便捷函数\"\"\"\n",
    "        x = self.conv(x)\n",
    "        x = self.relu(x)\n",
    "        return x\n",
    "    \n",
    "    def forward(self, x:Tensor) -> Tensor:\n",
    "        x = self._forward_impl(x)\n",
    "        return x\n",
    "\n",
    "from torch.ao.quantization import QuantStub, DeQuantStub\n",
    "\n",
    "class QM(M):\n",
    "    \"\"\"_summary_\n",
    "\n",
    "    Args:\n",
    "        M (_type_): _description_\n",
    "        is_print: 为了测试需求，打印一些信息\n",
    "    \"\"\"\n",
    "    def __init__(self, is_print: bool=False):\n",
    "        super().__init__()\n",
    "        self.is_print = is_print\n",
    "        self.quant = QuantStub()  # 将张量从浮点转换为量化\n",
    "        self.dequant = DeQuantStub()  # 将张量从量化转换为浮点\n",
    "        \n",
    "    def forward(self, x:Tensor) -> Tensor:\n",
    "        # 手动指定张量将在量化模型中从浮点模块转换为量化模块的位置；\n",
    "        x = self.quant(x)\n",
    "        if self.is_print:\n",
    "            print(\"量化前的类型：\", x.dtype)\n",
    "        x = self._forward_impl(x)\n",
    "        if self.is_print:\n",
    "            print(\"量化中的类型：\", x.dtype)\n",
    "        # 在量化模型中手动指定张量从量化到浮点的转换位置；\n",
    "        x = self.dequant(x)\n",
    "        if self.is_print:\n",
    "            print(\"量化后的类型：\", x.dtype)\n",
    "        return x"
   ]
  },
  {
   "cell_type": "code",
   "execution_count": 3,
   "metadata": {},
   "outputs": [],
   "source": [
    "class M2(M):\n",
    "    def __init__(self):\n",
    "        super().__init__()\n",
    "        self.bn = torch.nn.BatchNorm2d(1)\n",
    "    \n",
    "    def __forward_impl(self, x: Tensor) -> Tensor:\n",
    "        \"\"\"提供便捷函数\"\"\"\n",
    "        x = self.conv(x)\n",
    "        x = self.bn(x)\n",
    "        x = self.relu(x)\n",
    "        return x\n",
    "    "
   ]
  },
  {
   "cell_type": "code",
   "execution_count": 6,
   "metadata": {},
   "outputs": [],
   "source": [
    "# 定义可量化模块\n",
    "class QM2(M2, QM):\n",
    "    def __init__(self):\n",
    "        super().__init__()"
   ]
  },
  {
   "cell_type": "code",
   "execution_count": 8,
   "metadata": {},
   "outputs": [
    {
     "data": {
      "text/plain": [
       "QM2(\n",
       "  (conv): Conv2d(1, 1, kernel_size=(1, 1), stride=(1, 1))\n",
       "  (relu): ReLU()\n",
       "  (quant): QuantStub()\n",
       "  (dequant): DeQuantStub()\n",
       "  (bn): BatchNorm2d(1, eps=1e-05, momentum=0.1, affine=True, track_running_stats=True)\n",
       ")"
      ]
     },
     "execution_count": 8,
     "metadata": {},
     "output_type": "execute_result"
    }
   ],
   "source": [
    "# 创建浮点模型实例\n",
    "model_fp32 = QM2()\n",
    "model_fp32"
   ]
  },
  {
   "cell_type": "markdown",
   "metadata": {},
   "source": [
    "2)  模型必须设置为训练模式，以便QAT使用"
   ]
  },
  {
   "cell_type": "code",
   "execution_count": 9,
   "metadata": {},
   "outputs": [
    {
     "data": {
      "text/plain": [
       "QM2(\n",
       "  (conv): Conv2d(1, 1, kernel_size=(1, 1), stride=(1, 1))\n",
       "  (relu): ReLU()\n",
       "  (quant): QuantStub()\n",
       "  (dequant): DeQuantStub()\n",
       "  (bn): BatchNorm2d(1, eps=1e-05, momentum=0.1, affine=True, track_running_stats=True)\n",
       ")"
      ]
     },
     "execution_count": 9,
     "metadata": {},
     "output_type": "execute_result"
    }
   ],
   "source": [
    "model_fp32.train()"
   ]
  },
  {
   "cell_type": "code",
   "execution_count": 10,
   "metadata": {},
   "outputs": [],
   "source": [
    "# 添加量化配置(与PTQ相同相似)\n",
    "model_fp32.qconfig = torch.ao.quantization.get_default_qat_qconfig('fbgemm')"
   ]
  },
  {
   "cell_type": "code",
   "execution_count": 11,
   "metadata": {},
   "outputs": [],
   "source": [
    "# 融合QAT模块\n",
    "# QAT的模块融合与PTQ相同相似\n",
    "from torch.ao.quantization import fuse_modules_qat\n",
    "model_fp32_fused = fuse_modules_qat(model_fp32,[['conv', 'bn', 'relu']])"
   ]
  },
  {
   "cell_type": "code",
   "execution_count": 14,
   "metadata": {},
   "outputs": [
    {
     "name": "stderr",
     "output_type": "stream",
     "text": [
      "/home/zhangyouan/anaconda3/envs/stc/lib/python3.10/site-packages/torch/ao/quantization/observer.py:214: UserWarning: Please use quant_min and quant_max to specify the range for observers.                     reduce_range will be deprecated in a future release of PyTorch.\n",
      "  warnings.warn(\n"
     ]
    }
   ],
   "source": [
    "# 准备QAT模型\n",
    "model_fp32_prepared = torch.quantization.prepare_qat(model_fp32_fused)\n",
    "# 训练QAT模型\n",
    "def training_loop(para):\n",
    "    pass\n",
    "training_loop(model_fp32_prepared)\n"
   ]
  },
  {
   "cell_type": "code",
   "execution_count": 15,
   "metadata": {},
   "outputs": [
    {
     "name": "stderr",
     "output_type": "stream",
     "text": [
      "/home/zhangyouan/anaconda3/envs/stc/lib/python3.10/site-packages/torch/ao/quantization/utils.py:310: UserWarning: must run observer before calling calculate_qparams. Returning default values.\n",
      "  warnings.warn(\n"
     ]
    }
   ],
   "source": [
    "# 将观测到的模型转换为量化模型。需要：\n",
    "# 1. 量化权重，计算和存储用于每个激活张量的尺度（scale)和偏差（bias)值，\n",
    "# 2. 在适当的地方融合模块，并用量化实现替换关键算子；\n",
    "model_fp32_prepared.eval()\n",
    "model_int8 = torch.quantization.convert(model_fp32_prepared)"
   ]
  },
  {
   "cell_type": "code",
   "execution_count": 17,
   "metadata": {},
   "outputs": [],
   "source": [
    "# 运行模型，相关的计算将在{data}torch.qint8中发生\n",
    "input_fp32 = torch.randn(4, 1, 4, 4)\n",
    "res = model_int8(input_fp32)"
   ]
  },
  {
   "cell_type": "code",
   "execution_count": null,
   "metadata": {},
   "outputs": [],
   "source": []
  }
 ],
 "metadata": {
  "kernelspec": {
   "display_name": "Python 3.10.4 ('stc')",
   "language": "python",
   "name": "python3"
  },
  "language_info": {
   "codemirror_mode": {
    "name": "ipython",
    "version": 3
   },
   "file_extension": ".py",
   "mimetype": "text/x-python",
   "name": "python",
   "nbconvert_exporter": "python",
   "pygments_lexer": "ipython3",
   "version": "3.10.4"
  },
  "orig_nbformat": 4,
  "vscode": {
   "interpreter": {
    "hash": "f6a050d9f10360465fbc02ae273ccd06cb1948ad5cd96cc14a3b3a9694a266bf"
   }
  }
 },
 "nbformat": 4,
 "nbformat_minor": 2
}
