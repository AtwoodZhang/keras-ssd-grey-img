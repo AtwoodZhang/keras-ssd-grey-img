{
 "cells": [
  {
   "cell_type": "markdown",
   "metadata": {},
   "source": [
    "# From 知乎：\n",
    "https://zhuanlan.zhihu.com/p/489995404#%E6%A6%82%E8%BF%B0%EF%BC%9APQT%20%E4%B8%8E%20QAT"
   ]
  },
  {
   "cell_type": "code",
   "execution_count": null,
   "metadata": {},
   "outputs": [],
   "source": []
  }
 ],
 "metadata": {
  "language_info": {
   "name": "python"
  },
  "orig_nbformat": 4
 },
 "nbformat": 4,
 "nbformat_minor": 2
}
