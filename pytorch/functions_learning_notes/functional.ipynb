{
 "cells": [
  {
   "cell_type": "markdown",
   "metadata": {},
   "source": [
    "## torch.nn\n",
    "##### 在__init__()函数里面定义，定义的是一个类；\n",
    "\n",
    "## torch.nn.functional\n",
    "##### 在__forward()__函数里面定义，定义的是一个函数；"
   ]
  },
  {
   "cell_type": "code",
   "execution_count": null,
   "metadata": {},
   "outputs": [],
   "source": []
  }
 ],
 "metadata": {
  "kernelspec": {
   "display_name": "Python 3.10.4 ('stc')",
   "language": "python",
   "name": "python3"
  },
  "language_info": {
   "name": "python",
   "version": "3.10.4"
  },
  "orig_nbformat": 4,
  "vscode": {
   "interpreter": {
    "hash": "f6a050d9f10360465fbc02ae273ccd06cb1948ad5cd96cc14a3b3a9694a266bf"
   }
  }
 },
 "nbformat": 4,
 "nbformat_minor": 2
}
