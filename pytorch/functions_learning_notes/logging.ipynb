{
 "cells": [
  {
   "cell_type": "code",
   "execution_count": 1,
   "metadata": {},
   "outputs": [],
   "source": [
    "# logging的六种级别：\n",
    "# NOTEST (0); DEBUG (10); INFO (20); WARNING (30); ERROR (40); CRITICAL (50)\n",
    "# logging执行时会输出大于等于设置的日志级别的日志信息；"
   ]
  },
  {
   "cell_type": "markdown",
   "metadata": {},
   "source": [
    "##  1. logging.basicConfig"
   ]
  },
  {
   "cell_type": "code",
   "execution_count": 2,
   "metadata": {},
   "outputs": [
    {
     "name": "stderr",
     "output_type": "stream",
     "text": [
      "WARNING:root:This is a warning message\n",
      "ERROR:root:This is an error message\n",
      "CRITICAL:root:This is a critical message\n"
     ]
    }
   ],
   "source": [
    "import logging\n",
    "logging.basicConfig()\n",
    "logging.debug('This is a debug message')\n",
    "logging.info('This is an info message')\n",
    "logging.warning('This is a warning message')\n",
    "logging.error('This is an error message')\n",
    "logging.critical('This is a critical message')"
   ]
  },
  {
   "cell_type": "code",
   "execution_count": 5,
   "metadata": {},
   "outputs": [
    {
     "name": "stderr",
     "output_type": "stream",
     "text": [
      "WARNING:root:this is a warning message\n",
      "ERROR:root:this is an error message\n",
      "CRITICAL:root:this is a critical message\n"
     ]
    }
   ],
   "source": [
    "import logging\n",
    "\n",
    "logging.basicConfig(filename='test.log', filemode='w', format=\"%(asctime)s %(name)s:%(levelname)s:%(message)s\", datefmt=\"%d-%M-%Y %H:%M:%S\", level=logging.DEBUG)\n",
    "logging.debug(\"this is a debug message\")\n",
    "logging.info(\"this is an info message\")\n",
    "logging.warning(\"this is a warning message\")\n",
    "logging.error(\"this is an error message\")\n",
    "logging.critical(\"this is a critical message\")"
   ]
  },
  {
   "cell_type": "markdown",
   "metadata": {},
   "source": [
    "## 2. logging.getLogger(logger)"
   ]
  },
  {
   "cell_type": "code",
   "execution_count": 6,
   "metadata": {},
   "outputs": [],
   "source": [
    "# 用logging.getLogger(name)方法进行初始化，name可以不填\n",
    "# logger对象的常用方法有："
   ]
  },
  {
   "cell_type": "markdown",
   "metadata": {},
   "source": [
    "###### SETLEVEL: 设置日志等级\n",
    "###### CRITICAL: 'CRITICAL'\n",
    "###### ERROR: \"ERROR\"\n",
    "###### WARNING: \"WARNING\"\n",
    "###### INFO: \"INFO\"\n",
    "###### DEBUG: \"DEBUG\"\n",
    "###### NOTSET: \"NOTSET\""
   ]
  },
  {
   "cell_type": "code",
   "execution_count": 7,
   "metadata": {},
   "outputs": [],
   "source": [
    "import logging\n",
    "import sys\n",
    "\n",
    "l_g = logging.getLogger()\n",
    "l_g.setLevel(logging.ERROR) #日志等级为ERROR\n",
    "\n",
    "s_h = logging.StreamHandler(sys.stderr)\n",
    "l_g.addHandler(s_h)\n",
    "\n",
    "\n",
    "l_g.info('dddd') #输出等级为info"
   ]
  }
 ],
 "metadata": {
  "kernelspec": {
   "display_name": "Python 3.10.4 ('stc')",
   "language": "python",
   "name": "python3"
  },
  "language_info": {
   "codemirror_mode": {
    "name": "ipython",
    "version": 3
   },
   "file_extension": ".py",
   "mimetype": "text/x-python",
   "name": "python",
   "nbconvert_exporter": "python",
   "pygments_lexer": "ipython3",
   "version": "3.10.4"
  },
  "orig_nbformat": 4,
  "vscode": {
   "interpreter": {
    "hash": "f6a050d9f10360465fbc02ae273ccd06cb1948ad5cd96cc14a3b3a9694a266bf"
   }
  }
 },
 "nbformat": 4,
 "nbformat_minor": 2
}
