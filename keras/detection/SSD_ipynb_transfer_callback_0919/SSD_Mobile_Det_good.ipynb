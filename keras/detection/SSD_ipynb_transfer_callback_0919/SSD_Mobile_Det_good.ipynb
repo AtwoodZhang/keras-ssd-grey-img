{
 "cells": [
  {
   "cell_type": "code",
   "execution_count": 2,
   "metadata": {},
   "outputs": [],
   "source": [
    "import sys\n",
    "sys.path.append('./')\n",
    "import numpy as np\n",
    "import os\n",
    "import datetime\n",
    "import keras.backend as K\n",
    "import tensorflow as tf\n",
    "from keras.layers import Conv2D, Dense, DepthwiseConv2D,add\n",
    "from keras.optimizers import SGD, Adam\n",
    "import numpy as np\n",
    "import math\n",
    "import keras\n",
    "from PIL import Image\n",
    "from random import shuffle\n",
    "from keras import layers as KL\n",
    "from Anchors import get_anchors\n",
    "from Datasets import SSDDatasets\n",
    "from learning_rate import WarmUpCosineDecayScheduler\n",
    "from loss import MultiboxLoss\n",
    "from Models import SSD300\n",
    "from utils import get_classes, show_config\n",
    "from log_record import record_log, read_log\n",
    "from keras.callbacks import (EarlyStopping, LearningRateScheduler,\n",
    "                             ModelCheckpoint, TensorBoard)\n",
    "from callbacks import (ExponentDecayScheduler, LossHistory,\n",
    "                       ParallelModelCheckpoint, EvalCallback)\n"
   ]
  },
  {
   "cell_type": "code",
   "execution_count": 4,
   "metadata": {},
   "outputs": [
    {
     "name": "stdout",
     "output_type": "stream",
     "text": [
      "class_names: ['good'] num_classes: 2\n",
      "type: <class 'numpy.ndarray'> shape: (1242, 4)\n",
      "Train on 1603 samples, val on 179 samples, with batch size 32.\n",
      "Configurations:\n",
      "----------------------------------------------------------------------\n",
      "|                     keys |                                   values|\n",
      "----------------------------------------------------------------------\n",
      "|             classes_path |             ./model_data/voc_classes.txt|\n",
      "|               model_path |                                         |\n",
      "|              input_shape |                               [120, 160]|\n",
      "|                    Epoch |                                      150|\n",
      "|               batch_size |                                       32|\n",
      "|                       lr |                                    0.001|\n",
      "|           optimizer_type |                                     Adam|\n",
      "|                 momentum |                                    0.937|\n",
      "|                num_train |                                     1603|\n",
      "|                  num_val |                                      179|\n",
      "----------------------------------------------------------------------\n",
      "Epoch 1/150\n"
     ]
    },
    {
     "name": "stderr",
     "output_type": "stream",
     "text": [
      "2023-08-19 07:19:20.410890: W tensorflow/c/c_api.cc:291] Operation '{name:'Conv2D_loc_DD5_2/kernel/Assign' id:1567 op device:{requested: '', assigned: ''} def:{{{node Conv2D_loc_DD5_2/kernel/Assign}} = AssignVariableOp[_has_manual_control_dependencies=true, dtype=DT_FLOAT, validate_shape=false](Conv2D_loc_DD5_2/kernel, Conv2D_loc_DD5_2/kernel/Initializer/stateless_random_uniform)}}' was changed by setting attribute after it was run by a session. This mutation will have no effect, and will trigger an error in the future. Either don't modify nodes after running them or create a new session.\n",
      "/tmp/ipykernel_17687/3038357533.py:98: UserWarning: `model.fit_generator` is deprecated and will be removed in a future version. Please use `Model.fit`, which supports generators.\n",
      "  history = model.fit_generator(\n",
      "2023-08-19 07:19:20.655189: W tensorflow/c/c_api.cc:291] Operation '{name:'beta_1/Assign' id:1911 op device:{requested: '', assigned: ''} def:{{{node beta_1/Assign}} = AssignVariableOp[_has_manual_control_dependencies=true, dtype=DT_FLOAT, validate_shape=false](beta_1, beta_1/Initializer/initial_value)}}' was changed by setting attribute after it was run by a session. This mutation will have no effect, and will trigger an error in the future. Either don't modify nodes after running them or create a new session.\n",
      "2023-08-19 07:19:21.716547: W tensorflow/c/c_api.cc:291] Operation '{name:'loss/AddN' id:1780 op device:{requested: '', assigned: ''} def:{{{node loss/AddN}} = AddN[N=2, T=DT_FLOAT, _has_manual_control_dependencies=true](loss/mul, loss/Conv2D_layer13/kernel/Regularizer/mul)}}' was changed by setting attribute after it was run by a session. This mutation will have no effect, and will trigger an error in the future. Either don't modify nodes after running them or create a new session.\n",
      "2023-08-19 07:19:21.844390: W tensorflow/c/c_api.cc:291] Operation '{name:'training/Adam/block_2_conv_dw/depthwise_kernel/v/Assign' id:3344 op device:{requested: '', assigned: ''} def:{{{node training/Adam/block_2_conv_dw/depthwise_kernel/v/Assign}} = AssignVariableOp[_has_manual_control_dependencies=true, dtype=DT_FLOAT, validate_shape=false](training/Adam/block_2_conv_dw/depthwise_kernel/v, training/Adam/block_2_conv_dw/depthwise_kernel/v/Initializer/zeros)}}' was changed by setting attribute after it was run by a session. This mutation will have no effect, and will trigger an error in the future. Either don't modify nodes after running them or create a new session.\n"
     ]
    },
    {
     "name": "stdout",
     "output_type": "stream",
     "text": [
      " 3/50 [>.............................] - ETA: 3s - batch: 1.0000 - size: 32.0000 - loss: 7.4510     "
     ]
    },
    {
     "name": "stderr",
     "output_type": "stream",
     "text": [
      "2023-08-19 07:19:22.502041: I tensorflow/core/profiler/lib/profiler_session.cc:101] Profiler session initializing.\n",
      "2023-08-19 07:19:22.502067: I tensorflow/core/profiler/lib/profiler_session.cc:116] Profiler session started.\n",
      "2023-08-19 07:19:22.577554: I tensorflow/core/profiler/lib/profiler_session.cc:67] Profiler session collecting data.\n",
      "2023-08-19 07:19:22.579281: I tensorflow/core/profiler/lib/profiler_session.cc:128] Profiler session tear down.\n",
      "2023-08-19 07:19:22.579405: I tensorflow/core/profiler/rpc/client/save_profile.cc:164] Collecting XSpace to repository: /home/zhangyouan/桌面/zya/NN_net/network/SSD/IMX_681_ssd_mobilenet_git/keras/detection/SSD_ipynb_transfer_callback/output/20230819/unetlogs/plugins/profile/2023_08_19_07_19_22/SSSLXSRVLS001.xplane.pb\n"
     ]
    },
    {
     "name": "stdout",
     "output_type": "stream",
     "text": [
      "50/50 [==============================] - ETA: 0s - batch: 24.5000 - size: 32.0000 - loss: 7.5389"
     ]
    },
    {
     "name": "stderr",
     "output_type": "stream",
     "text": [
      "2023-08-19 07:19:26.309262: W tensorflow/c/c_api.cc:291] Operation '{name:'loss/AddN' id:1780 op device:{requested: '', assigned: ''} def:{{{node loss/AddN}} = AddN[N=2, T=DT_FLOAT, _has_manual_control_dependencies=true](loss/mul, loss/Conv2D_layer13/kernel/Regularizer/mul)}}' was changed by setting attribute after it was run by a session. This mutation will have no effect, and will trigger an error in the future. Either don't modify nodes after running them or create a new session.\n"
     ]
    },
    {
     "name": "stdout",
     "output_type": "stream",
     "text": [
      "50/50 [==============================] - 6s 85ms/step - batch: 24.5000 - size: 32.0000 - loss: 7.5389 - val_loss: 7.4990\n",
      "Epoch 2/150\n",
      "50/50 [==============================] - 4s 82ms/step - batch: 24.5000 - size: 32.0000 - loss: 7.4851 - val_loss: 7.4135\n",
      "Epoch 3/150\n",
      "50/50 [==============================] - 4s 83ms/step - batch: 24.5000 - size: 32.0000 - loss: 7.3045 - val_loss: 6.9101\n",
      "Epoch 4/150\n",
      "50/50 [==============================] - 4s 82ms/step - batch: 24.5000 - size: 32.0000 - loss: 6.5722 - val_loss: 6.3068\n",
      "Epoch 5/150\n",
      "50/50 [==============================] - 4s 83ms/step - batch: 24.5000 - size: 32.0000 - loss: 6.1325 - val_loss: 5.9284\n",
      "Epoch 6/150\n",
      "50/50 [==============================] - 4s 83ms/step - batch: 24.5000 - size: 32.0000 - loss: 5.7069 - val_loss: 5.4933\n",
      "Epoch 7/150\n",
      "50/50 [==============================] - 4s 83ms/step - batch: 24.5000 - size: 32.0000 - loss: 5.4429 - val_loss: 5.3549\n",
      "Epoch 8/150\n",
      "50/50 [==============================] - 4s 83ms/step - batch: 24.5000 - size: 32.0000 - loss: 5.3238 - val_loss: 5.2816\n",
      "Epoch 9/150\n",
      "50/50 [==============================] - 4s 85ms/step - batch: 24.5000 - size: 32.0000 - loss: 5.2738 - val_loss: 5.2051\n",
      "Epoch 10/150\n",
      "50/50 [==============================] - ETA: 0s - batch: 24.5000 - size: 32.0000 - loss: 5.2059Get map.\n"
     ]
    },
    {
     "name": "stderr",
     "output_type": "stream",
     "text": [
      "  0%|          | 0/179 [00:00<?, ?it/s]2023-08-19 07:20:04.187909: W tensorflow/c/c_api.cc:291] Operation '{name:'predictions/concat' id:1603 op device:{requested: '', assigned: ''} def:{{{node predictions/concat}} = ConcatV2[N=2, T=DT_FLOAT, Tidx=DT_INT32, _has_manual_control_dependencies=true](mbox_loc_final/Reshape, cls_conf_final/Softmax, predictions/concat/axis)}}' was changed by setting attribute after it was run by a session. This mutation will have no effect, and will trigger an error in the future. Either don't modify nodes after running them or create a new session.\n",
      "100%|██████████| 179/179 [00:01<00:00, 118.69it/s]\n"
     ]
    },
    {
     "name": "stdout",
     "output_type": "stream",
     "text": [
      "Calculate Map.\n",
      "Path '.temp_map_out/results' already exists.\n",
      "1.91% = good AP \t||\tscore_threhold=0.5 : F1=0.00 ; Recall=0.00% ; Precision=0.00%\n",
      "mAP = 1.91%\n",
      "Path '/home/zhangyouan/桌面/zya/NN_net/network/SSD/IMX_681_ssd_mobilenet_git/keras/detection/SSD_ipynb_transfer_callback/output/20230819/loss_2023_08_19_07_19_20' created successfully.\n",
      "Get map done.\n",
      "50/50 [==============================] - 7s 139ms/step - batch: 24.5000 - size: 32.0000 - loss: 5.2059 - val_loss: 5.1603\n",
      "Epoch 11/150\n",
      "50/50 [==============================] - 4s 82ms/step - batch: 24.5000 - size: 32.0000 - loss: 5.1969 - val_loss: 5.1649\n",
      "Epoch 12/150\n",
      "50/50 [==============================] - 4s 82ms/step - batch: 24.5000 - size: 32.0000 - loss: 5.1716 - val_loss: 5.1462\n",
      "Epoch 13/150\n",
      "50/50 [==============================] - 4s 84ms/step - batch: 24.5000 - size: 32.0000 - loss: 5.1428 - val_loss: 5.1510\n",
      "Epoch 14/150\n",
      "50/50 [==============================] - 4s 83ms/step - batch: 24.5000 - size: 32.0000 - loss: 5.1743 - val_loss: 5.1547\n",
      "Epoch 15/150\n",
      "50/50 [==============================] - 4s 83ms/step - batch: 24.5000 - size: 32.0000 - loss: 5.1271 - val_loss: 5.1468\n",
      "Epoch 16/150\n",
      "50/50 [==============================] - 4s 82ms/step - batch: 24.5000 - size: 32.0000 - loss: 5.1059 - val_loss: 5.1707\n",
      "Epoch 17/150\n",
      "50/50 [==============================] - 4s 83ms/step - batch: 24.5000 - size: 32.0000 - loss: 5.1687 - val_loss: 5.1295\n",
      "Epoch 18/150\n",
      "50/50 [==============================] - 4s 82ms/step - batch: 24.5000 - size: 32.0000 - loss: 5.0928 - val_loss: 5.1454\n",
      "Epoch 19/150\n",
      "50/50 [==============================] - 4s 82ms/step - batch: 24.5000 - size: 32.0000 - loss: 5.1346 - val_loss: 5.1035\n",
      "Epoch 20/150\n",
      "50/50 [==============================] - ETA: 0s - batch: 24.5000 - size: 32.0000 - loss: 5.1442Get map.\n"
     ]
    },
    {
     "name": "stderr",
     "output_type": "stream",
     "text": [
      "100%|██████████| 179/179 [00:01<00:00, 118.87it/s]\n"
     ]
    },
    {
     "name": "stdout",
     "output_type": "stream",
     "text": [
      "Calculate Map.\n",
      "Path '.temp_map_out/results' already exists.\n",
      "2.03% = good AP \t||\tscore_threhold=0.5 : F1=0.00 ; Recall=0.00% ; Precision=0.00%\n",
      "mAP = 2.03%\n",
      "Path '/home/zhangyouan/桌面/zya/NN_net/network/SSD/IMX_681_ssd_mobilenet_git/keras/detection/SSD_ipynb_transfer_callback/output/20230819/loss_2023_08_19_07_19_20' already exists.\n",
      "Get map done.\n",
      "50/50 [==============================] - 7s 137ms/step - batch: 24.5000 - size: 32.0000 - loss: 5.1442 - val_loss: 5.1105\n",
      "Epoch 21/150\n",
      "50/50 [==============================] - 4s 81ms/step - batch: 24.5000 - size: 32.0000 - loss: 5.0943 - val_loss: 5.1323\n",
      "Epoch 22/150\n",
      "50/50 [==============================] - 4s 82ms/step - batch: 24.5000 - size: 32.0000 - loss: 5.0817 - val_loss: 5.1103\n",
      "Epoch 23/150\n",
      "50/50 [==============================] - 4s 82ms/step - batch: 24.5000 - size: 32.0000 - loss: 5.1083 - val_loss: 5.1097\n",
      "Epoch 24/150\n",
      "50/50 [==============================] - 4s 82ms/step - batch: 24.5000 - size: 32.0000 - loss: 5.1083 - val_loss: 5.1053\n",
      "Epoch 25/150\n",
      "50/50 [==============================] - 4s 82ms/step - batch: 24.5000 - size: 32.0000 - loss: 5.1220 - val_loss: 5.1194\n",
      "Epoch 26/150\n",
      "50/50 [==============================] - 4s 82ms/step - batch: 24.5000 - size: 32.0000 - loss: 5.0867 - val_loss: 5.1070\n",
      "Epoch 27/150\n",
      "50/50 [==============================] - 4s 82ms/step - batch: 24.5000 - size: 32.0000 - loss: 5.0998 - val_loss: 5.1206\n",
      "Epoch 28/150\n",
      "50/50 [==============================] - 4s 82ms/step - batch: 24.5000 - size: 32.0000 - loss: 5.0910 - val_loss: 5.1064\n",
      "Epoch 29/150\n",
      "50/50 [==============================] - 4s 82ms/step - batch: 24.5000 - size: 32.0000 - loss: 5.0900 - val_loss: 5.1006\n",
      "Epoch 30/150\n",
      "50/50 [==============================] - ETA: 0s - batch: 24.5000 - size: 32.0000 - loss: 5.1088Get map.\n"
     ]
    },
    {
     "name": "stderr",
     "output_type": "stream",
     "text": [
      "100%|██████████| 179/179 [00:01<00:00, 129.45it/s]\n"
     ]
    },
    {
     "name": "stdout",
     "output_type": "stream",
     "text": [
      "Calculate Map.\n",
      "Path '.temp_map_out/results' already exists.\n",
      "3.40% = good AP \t||\tscore_threhold=0.5 : F1=0.00 ; Recall=0.00% ; Precision=0.00%\n",
      "mAP = 3.40%\n",
      "Path '/home/zhangyouan/桌面/zya/NN_net/network/SSD/IMX_681_ssd_mobilenet_git/keras/detection/SSD_ipynb_transfer_callback/output/20230819/loss_2023_08_19_07_19_20' already exists.\n",
      "Get map done.\n",
      "50/50 [==============================] - 7s 133ms/step - batch: 24.5000 - size: 32.0000 - loss: 5.1088 - val_loss: 5.1007\n",
      "Epoch 31/150\n",
      "50/50 [==============================] - 4s 82ms/step - batch: 24.5000 - size: 32.0000 - loss: 5.0935 - val_loss: 5.1218\n",
      "Epoch 32/150\n",
      "50/50 [==============================] - 4s 82ms/step - batch: 24.5000 - size: 32.0000 - loss: 5.0772 - val_loss: 5.1214\n",
      "Epoch 33/150\n",
      "50/50 [==============================] - 4s 82ms/step - batch: 24.5000 - size: 32.0000 - loss: 5.0936 - val_loss: 5.1009\n",
      "Epoch 34/150\n",
      "50/50 [==============================] - 4s 82ms/step - batch: 24.5000 - size: 32.0000 - loss: 5.0712 - val_loss: 5.1058\n",
      "Epoch 35/150\n",
      "50/50 [==============================] - 4s 83ms/step - batch: 24.5000 - size: 32.0000 - loss: 5.0763 - val_loss: 5.1043\n",
      "Epoch 36/150\n",
      "50/50 [==============================] - 4s 82ms/step - batch: 24.5000 - size: 32.0000 - loss: 5.0997 - val_loss: 5.1115\n",
      "Epoch 37/150\n",
      "50/50 [==============================] - 4s 82ms/step - batch: 24.5000 - size: 32.0000 - loss: 5.0779 - val_loss: 5.1060\n",
      "Epoch 38/150\n",
      "50/50 [==============================] - 4s 84ms/step - batch: 24.5000 - size: 32.0000 - loss: 5.0650 - val_loss: 5.1076\n",
      "Epoch 39/150\n",
      "50/50 [==============================] - 4s 82ms/step - batch: 24.5000 - size: 32.0000 - loss: 5.0626 - val_loss: 5.1046\n",
      "Epoch 40/150\n",
      "50/50 [==============================] - ETA: 0s - batch: 24.5000 - size: 32.0000 - loss: 5.0795Get map.\n"
     ]
    },
    {
     "name": "stderr",
     "output_type": "stream",
     "text": [
      "100%|██████████| 179/179 [00:01<00:00, 120.98it/s]\n"
     ]
    },
    {
     "name": "stdout",
     "output_type": "stream",
     "text": [
      "Calculate Map.\n",
      "Path '.temp_map_out/results' already exists.\n",
      "2.34% = good AP \t||\tscore_threhold=0.5 : F1=0.00 ; Recall=0.00% ; Precision=0.00%\n",
      "mAP = 2.34%\n",
      "Path '/home/zhangyouan/桌面/zya/NN_net/network/SSD/IMX_681_ssd_mobilenet_git/keras/detection/SSD_ipynb_transfer_callback/output/20230819/loss_2023_08_19_07_19_20' already exists.\n",
      "Get map done.\n",
      "50/50 [==============================] - 7s 135ms/step - batch: 24.5000 - size: 32.0000 - loss: 5.0795 - val_loss: 5.1058\n",
      "Epoch 41/150\n",
      "50/50 [==============================] - 4s 81ms/step - batch: 24.5000 - size: 32.0000 - loss: 5.0763 - val_loss: 5.1087\n",
      "Epoch 42/150\n",
      "50/50 [==============================] - 4s 82ms/step - batch: 24.5000 - size: 32.0000 - loss: 5.0685 - val_loss: 5.1101\n",
      "Epoch 43/150\n",
      "50/50 [==============================] - 4s 82ms/step - batch: 24.5000 - size: 32.0000 - loss: 5.0726 - val_loss: 5.0988\n",
      "Epoch 44/150\n",
      "50/50 [==============================] - 4s 86ms/step - batch: 24.5000 - size: 32.0000 - loss: 5.0814 - val_loss: 5.1141\n",
      "Epoch 45/150\n",
      "50/50 [==============================] - 4s 83ms/step - batch: 24.5000 - size: 32.0000 - loss: 5.0169 - val_loss: 5.0213\n",
      "Epoch 46/150\n",
      "50/50 [==============================] - 4s 82ms/step - batch: 24.5000 - size: 32.0000 - loss: 4.9223 - val_loss: 4.9704\n",
      "Epoch 47/150\n",
      "50/50 [==============================] - 4s 85ms/step - batch: 24.5000 - size: 32.0000 - loss: 4.7959 - val_loss: 4.6637\n",
      "Epoch 48/150\n",
      "50/50 [==============================] - 4s 84ms/step - batch: 24.5000 - size: 32.0000 - loss: 4.5216 - val_loss: 4.4600\n",
      "Epoch 49/150\n",
      "50/50 [==============================] - 4s 85ms/step - batch: 24.5000 - size: 32.0000 - loss: 4.1546 - val_loss: 3.9777\n",
      "Epoch 50/150\n",
      "50/50 [==============================] - ETA: 0s - batch: 24.5000 - size: 32.0000 - loss: 3.7890Get map.\n"
     ]
    },
    {
     "name": "stderr",
     "output_type": "stream",
     "text": [
      "100%|██████████| 179/179 [00:01<00:00, 128.15it/s]\n"
     ]
    },
    {
     "name": "stdout",
     "output_type": "stream",
     "text": [
      "Calculate Map.\n",
      "Path '.temp_map_out/results' already exists.\n",
      "72.99% = good AP \t||\tscore_threhold=0.5 : F1=0.75 ; Recall=67.60% ; Precision=83.45%\n",
      "mAP = 72.99%\n",
      "Path '/home/zhangyouan/桌面/zya/NN_net/network/SSD/IMX_681_ssd_mobilenet_git/keras/detection/SSD_ipynb_transfer_callback/output/20230819/loss_2023_08_19_07_19_20' already exists.\n",
      "Get map done.\n",
      "50/50 [==============================] - 7s 134ms/step - batch: 24.5000 - size: 32.0000 - loss: 3.7890 - val_loss: 3.6119\n",
      "Epoch 51/150\n",
      "50/50 [==============================] - 4s 83ms/step - batch: 24.5000 - size: 32.0000 - loss: 3.4622 - val_loss: 3.3770\n",
      "Epoch 52/150\n",
      "50/50 [==============================] - 4s 83ms/step - batch: 24.5000 - size: 32.0000 - loss: 3.2126 - val_loss: 3.1410\n",
      "Epoch 53/150\n",
      "50/50 [==============================] - 4s 83ms/step - batch: 24.5000 - size: 32.0000 - loss: 3.1171 - val_loss: 3.1259\n",
      "Epoch 54/150\n",
      "50/50 [==============================] - 4s 83ms/step - batch: 24.5000 - size: 32.0000 - loss: 2.9147 - val_loss: 2.7859\n",
      "Epoch 55/150\n",
      "50/50 [==============================] - 4s 82ms/step - batch: 24.5000 - size: 32.0000 - loss: 2.7417 - val_loss: 2.6661\n",
      "Epoch 56/150\n",
      "50/50 [==============================] - 4s 82ms/step - batch: 24.5000 - size: 32.0000 - loss: 2.6150 - val_loss: 2.5818\n",
      "Epoch 57/150\n",
      "50/50 [==============================] - 4s 84ms/step - batch: 24.5000 - size: 32.0000 - loss: 2.5038 - val_loss: 2.4524\n",
      "Epoch 58/150\n",
      "50/50 [==============================] - 4s 83ms/step - batch: 24.5000 - size: 32.0000 - loss: 2.4099 - val_loss: 2.4210\n",
      "Epoch 59/150\n",
      "50/50 [==============================] - 4s 83ms/step - batch: 24.5000 - size: 32.0000 - loss: 2.3162 - val_loss: 2.5175\n",
      "Epoch 60/150\n",
      "50/50 [==============================] - ETA: 0s - batch: 24.5000 - size: 32.0000 - loss: 2.2415Get map.\n"
     ]
    },
    {
     "name": "stderr",
     "output_type": "stream",
     "text": [
      "100%|██████████| 179/179 [00:01<00:00, 157.92it/s]\n"
     ]
    },
    {
     "name": "stdout",
     "output_type": "stream",
     "text": [
      "Calculate Map.\n",
      "Path '.temp_map_out/results' already exists.\n",
      "91.21% = good AP \t||\tscore_threhold=0.5 : F1=0.90 ; Recall=87.15% ; Precision=92.86%\n",
      "mAP = 91.21%\n",
      "Path '/home/zhangyouan/桌面/zya/NN_net/network/SSD/IMX_681_ssd_mobilenet_git/keras/detection/SSD_ipynb_transfer_callback/output/20230819/loss_2023_08_19_07_19_20' already exists.\n",
      "Get map done.\n",
      "50/50 [==============================] - 6s 113ms/step - batch: 24.5000 - size: 32.0000 - loss: 2.2415 - val_loss: 2.3852\n",
      "Epoch 61/150\n",
      "50/50 [==============================] - 4s 82ms/step - batch: 24.5000 - size: 32.0000 - loss: 2.1809 - val_loss: 2.1736\n",
      "Epoch 62/150\n",
      "50/50 [==============================] - 4s 83ms/step - batch: 24.5000 - size: 32.0000 - loss: 2.0663 - val_loss: 2.1825\n",
      "Epoch 63/150\n",
      "50/50 [==============================] - 4s 83ms/step - batch: 24.5000 - size: 32.0000 - loss: 2.0130 - val_loss: 2.0535\n",
      "Epoch 64/150\n",
      "50/50 [==============================] - 4s 84ms/step - batch: 24.5000 - size: 32.0000 - loss: 1.9154 - val_loss: 2.0256\n",
      "Epoch 65/150\n",
      "50/50 [==============================] - 4s 83ms/step - batch: 24.5000 - size: 32.0000 - loss: 1.9503 - val_loss: 1.9751\n",
      "Epoch 66/150\n",
      "50/50 [==============================] - 4s 83ms/step - batch: 24.5000 - size: 32.0000 - loss: 1.8546 - val_loss: 1.9826\n",
      "Epoch 67/150\n",
      "50/50 [==============================] - 4s 83ms/step - batch: 24.5000 - size: 32.0000 - loss: 1.8269 - val_loss: 1.9189\n",
      "Epoch 68/150\n",
      "50/50 [==============================] - 4s 83ms/step - batch: 24.5000 - size: 32.0000 - loss: 1.7645 - val_loss: 1.9198\n",
      "Epoch 69/150\n",
      "50/50 [==============================] - 4s 84ms/step - batch: 24.5000 - size: 32.0000 - loss: 1.6900 - val_loss: 1.9018\n",
      "Epoch 70/150\n",
      "50/50 [==============================] - ETA: 0s - batch: 24.5000 - size: 32.0000 - loss: 1.6965Get map.\n"
     ]
    },
    {
     "name": "stderr",
     "output_type": "stream",
     "text": [
      "100%|██████████| 179/179 [00:01<00:00, 167.60it/s]\n"
     ]
    },
    {
     "name": "stdout",
     "output_type": "stream",
     "text": [
      "Calculate Map.\n",
      "Path '.temp_map_out/results' already exists.\n",
      "97.38% = good AP \t||\tscore_threhold=0.5 : F1=0.95 ; Recall=94.41% ; Precision=95.48%\n",
      "mAP = 97.38%\n",
      "Path '/home/zhangyouan/桌面/zya/NN_net/network/SSD/IMX_681_ssd_mobilenet_git/keras/detection/SSD_ipynb_transfer_callback/output/20230819/loss_2023_08_19_07_19_20' already exists.\n",
      "Get map done.\n",
      "50/50 [==============================] - 5s 110ms/step - batch: 24.5000 - size: 32.0000 - loss: 1.6965 - val_loss: 1.9077\n",
      "Epoch 71/150\n",
      "50/50 [==============================] - 4s 82ms/step - batch: 24.5000 - size: 32.0000 - loss: 1.6793 - val_loss: 1.8159\n",
      "Epoch 72/150\n",
      "50/50 [==============================] - 4s 85ms/step - batch: 24.5000 - size: 32.0000 - loss: 1.5961 - val_loss: 1.8199\n",
      "Epoch 73/150\n",
      "50/50 [==============================] - 4s 83ms/step - batch: 24.5000 - size: 32.0000 - loss: 1.5997 - val_loss: 1.7949\n",
      "Epoch 74/150\n",
      "50/50 [==============================] - 4s 83ms/step - batch: 24.5000 - size: 32.0000 - loss: 1.5786 - val_loss: 1.7591\n",
      "Epoch 75/150\n",
      "50/50 [==============================] - 4s 82ms/step - batch: 24.5000 - size: 32.0000 - loss: 1.5533 - val_loss: 1.7625\n",
      "Epoch 76/150\n",
      "50/50 [==============================] - 4s 83ms/step - batch: 24.5000 - size: 32.0000 - loss: 1.5391 - val_loss: 1.7374\n",
      "Epoch 77/150\n",
      "50/50 [==============================] - 4s 83ms/step - batch: 24.5000 - size: 32.0000 - loss: 1.5093 - val_loss: 1.7502\n",
      "Epoch 78/150\n",
      "50/50 [==============================] - 4s 83ms/step - batch: 24.5000 - size: 32.0000 - loss: 1.4807 - val_loss: 1.7200\n",
      "Epoch 79/150\n",
      "50/50 [==============================] - 4s 83ms/step - batch: 24.5000 - size: 32.0000 - loss: 1.4821 - val_loss: 1.7248\n",
      "Epoch 80/150\n",
      "50/50 [==============================] - ETA: 0s - batch: 24.5000 - size: 32.0000 - loss: 1.4416Get map.\n"
     ]
    },
    {
     "name": "stderr",
     "output_type": "stream",
     "text": [
      "100%|██████████| 179/179 [00:01<00:00, 165.27it/s]\n"
     ]
    },
    {
     "name": "stdout",
     "output_type": "stream",
     "text": [
      "Calculate Map.\n",
      "Path '.temp_map_out/results' already exists.\n",
      "97.47% = good AP \t||\tscore_threhold=0.5 : F1=0.96 ; Recall=96.65% ; Precision=96.11%\n",
      "mAP = 97.47%\n",
      "Path '/home/zhangyouan/桌面/zya/NN_net/network/SSD/IMX_681_ssd_mobilenet_git/keras/detection/SSD_ipynb_transfer_callback/output/20230819/loss_2023_08_19_07_19_20' already exists.\n",
      "Get map done.\n",
      "50/50 [==============================] - 6s 110ms/step - batch: 24.5000 - size: 32.0000 - loss: 1.4416 - val_loss: 1.7182\n",
      "Epoch 81/150\n",
      "50/50 [==============================] - 4s 82ms/step - batch: 24.5000 - size: 32.0000 - loss: 1.4388 - val_loss: 1.7162\n",
      "Epoch 82/150\n",
      "50/50 [==============================] - 4s 83ms/step - batch: 24.5000 - size: 32.0000 - loss: 1.4096 - val_loss: 1.7081\n",
      "Epoch 83/150\n",
      "50/50 [==============================] - 4s 84ms/step - batch: 24.5000 - size: 32.0000 - loss: 1.4073 - val_loss: 1.7269\n",
      "Epoch 84/150\n",
      "50/50 [==============================] - 4s 83ms/step - batch: 24.5000 - size: 32.0000 - loss: 1.3995 - val_loss: 1.7106\n",
      "Epoch 85/150\n",
      "50/50 [==============================] - 4s 83ms/step - batch: 24.5000 - size: 32.0000 - loss: 1.3821 - val_loss: 1.6994\n",
      "Epoch 86/150\n",
      "50/50 [==============================] - 4s 82ms/step - batch: 24.5000 - size: 32.0000 - loss: 1.3590 - val_loss: 1.6895\n",
      "Epoch 87/150\n",
      "50/50 [==============================] - 4s 82ms/step - batch: 24.5000 - size: 32.0000 - loss: 1.3593 - val_loss: 1.6985\n",
      "Epoch 88/150\n",
      "50/50 [==============================] - 4s 83ms/step - batch: 24.5000 - size: 32.0000 - loss: 1.3228 - val_loss: 1.6973\n",
      "Epoch 89/150\n",
      "50/50 [==============================] - 4s 83ms/step - batch: 24.5000 - size: 32.0000 - loss: 1.3301 - val_loss: 1.6587\n",
      "Epoch 90/150\n",
      "50/50 [==============================] - ETA: 0s - batch: 24.5000 - size: 32.0000 - loss: 1.3670Get map.\n"
     ]
    },
    {
     "name": "stderr",
     "output_type": "stream",
     "text": [
      "100%|██████████| 179/179 [00:01<00:00, 155.70it/s]\n"
     ]
    },
    {
     "name": "stdout",
     "output_type": "stream",
     "text": [
      "Calculate Map.\n",
      "Path '.temp_map_out/results' already exists.\n",
      "98.52% = good AP \t||\tscore_threhold=0.5 : F1=0.95 ; Recall=95.53% ; Precision=95.00%\n",
      "mAP = 98.52%\n",
      "Path '/home/zhangyouan/桌面/zya/NN_net/network/SSD/IMX_681_ssd_mobilenet_git/keras/detection/SSD_ipynb_transfer_callback/output/20230819/loss_2023_08_19_07_19_20' already exists.\n",
      "Get map done.\n",
      "50/50 [==============================] - 6s 112ms/step - batch: 24.5000 - size: 32.0000 - loss: 1.3670 - val_loss: 1.6841\n",
      "Epoch 91/150\n",
      "50/50 [==============================] - 4s 82ms/step - batch: 24.5000 - size: 32.0000 - loss: 1.3177 - val_loss: 1.6490\n",
      "Epoch 92/150\n",
      "50/50 [==============================] - 4s 83ms/step - batch: 24.5000 - size: 32.0000 - loss: 1.2861 - val_loss: 1.6618\n",
      "Epoch 93/150\n",
      "50/50 [==============================] - 4s 83ms/step - batch: 24.5000 - size: 32.0000 - loss: 1.2838 - val_loss: 1.6442\n",
      "Epoch 94/150\n",
      "50/50 [==============================] - 4s 82ms/step - batch: 24.5000 - size: 32.0000 - loss: 1.2826 - val_loss: 1.6466\n",
      "Epoch 95/150\n",
      "50/50 [==============================] - 4s 82ms/step - batch: 24.5000 - size: 32.0000 - loss: 1.2503 - val_loss: 1.6330\n",
      "Epoch 96/150\n",
      "50/50 [==============================] - 4s 82ms/step - batch: 24.5000 - size: 32.0000 - loss: 1.2665 - val_loss: 1.6876\n",
      "Epoch 97/150\n",
      "50/50 [==============================] - 4s 84ms/step - batch: 24.5000 - size: 32.0000 - loss: 1.2507 - val_loss: 1.6584\n",
      "Epoch 98/150\n",
      "50/50 [==============================] - 4s 86ms/step - batch: 24.5000 - size: 32.0000 - loss: 1.2513 - val_loss: 1.6615\n",
      "Epoch 99/150\n",
      "50/50 [==============================] - 4s 85ms/step - batch: 24.5000 - size: 32.0000 - loss: 1.2351 - val_loss: 1.6283\n",
      "Epoch 100/150\n",
      "50/50 [==============================] - ETA: 0s - batch: 24.5000 - size: 32.0000 - loss: 1.2248Get map.\n"
     ]
    },
    {
     "name": "stderr",
     "output_type": "stream",
     "text": [
      "100%|██████████| 179/179 [00:00<00:00, 191.52it/s]\n"
     ]
    },
    {
     "name": "stdout",
     "output_type": "stream",
     "text": [
      "Calculate Map.\n",
      "Path '.temp_map_out/results' already exists.\n",
      "98.98% = good AP \t||\tscore_threhold=0.5 : F1=0.96 ; Recall=96.09% ; Precision=96.09%\n",
      "mAP = 98.98%\n",
      "Path '/home/zhangyouan/桌面/zya/NN_net/network/SSD/IMX_681_ssd_mobilenet_git/keras/detection/SSD_ipynb_transfer_callback/output/20230819/loss_2023_08_19_07_19_20' already exists.\n",
      "Get map done.\n",
      "50/50 [==============================] - 5s 107ms/step - batch: 24.5000 - size: 32.0000 - loss: 1.2248 - val_loss: 1.6404\n",
      "Epoch 101/150\n",
      "50/50 [==============================] - 4s 84ms/step - batch: 24.5000 - size: 32.0000 - loss: 1.2265 - val_loss: 1.6227\n",
      "Epoch 102/150\n",
      "50/50 [==============================] - 4s 83ms/step - batch: 24.5000 - size: 32.0000 - loss: 1.2022 - val_loss: 1.6415\n",
      "Epoch 103/150\n",
      "50/50 [==============================] - 4s 82ms/step - batch: 24.5000 - size: 32.0000 - loss: 1.2140 - val_loss: 1.6272\n",
      "Epoch 104/150\n",
      "50/50 [==============================] - 4s 82ms/step - batch: 24.5000 - size: 32.0000 - loss: 1.1955 - val_loss: 1.6344\n",
      "Epoch 105/150\n",
      "50/50 [==============================] - 4s 82ms/step - batch: 24.5000 - size: 32.0000 - loss: 1.1958 - val_loss: 1.6707\n",
      "Epoch 106/150\n",
      "50/50 [==============================] - 4s 83ms/step - batch: 24.5000 - size: 32.0000 - loss: 1.1936 - val_loss: 1.6277\n",
      "Epoch 107/150\n",
      "50/50 [==============================] - 4s 82ms/step - batch: 24.5000 - size: 32.0000 - loss: 1.1806 - val_loss: 1.6478\n",
      "Epoch 108/150\n",
      "50/50 [==============================] - 4s 83ms/step - batch: 24.5000 - size: 32.0000 - loss: 1.1870 - val_loss: 1.6302\n",
      "Epoch 109/150\n",
      "50/50 [==============================] - 4s 86ms/step - batch: 24.5000 - size: 32.0000 - loss: 1.1728 - val_loss: 1.6373\n",
      "Epoch 110/150\n",
      "50/50 [==============================] - ETA: 0s - batch: 24.5000 - size: 32.0000 - loss: 1.1581Get map.\n"
     ]
    },
    {
     "name": "stderr",
     "output_type": "stream",
     "text": [
      "100%|██████████| 179/179 [00:01<00:00, 158.34it/s]\n"
     ]
    },
    {
     "name": "stdout",
     "output_type": "stream",
     "text": [
      "Calculate Map.\n",
      "Path '.temp_map_out/results' already exists.\n",
      "98.78% = good AP \t||\tscore_threhold=0.5 : F1=0.96 ; Recall=96.09% ; Precision=95.03%\n",
      "mAP = 98.78%\n",
      "Path '/home/zhangyouan/桌面/zya/NN_net/network/SSD/IMX_681_ssd_mobilenet_git/keras/detection/SSD_ipynb_transfer_callback/output/20230819/loss_2023_08_19_07_19_20' already exists.\n",
      "Get map done.\n",
      "50/50 [==============================] - 6s 110ms/step - batch: 24.5000 - size: 32.0000 - loss: 1.1581 - val_loss: 1.6236\n",
      "Epoch 111/150\n",
      "50/50 [==============================] - 4s 82ms/step - batch: 24.5000 - size: 32.0000 - loss: 1.1544 - val_loss: 1.6165\n",
      "Epoch 112/150\n",
      "50/50 [==============================] - 4s 82ms/step - batch: 24.5000 - size: 32.0000 - loss: 1.1655 - val_loss: 1.6231\n",
      "Epoch 113/150\n",
      "50/50 [==============================] - 4s 84ms/step - batch: 24.5000 - size: 32.0000 - loss: 1.1543 - val_loss: 1.6168\n",
      "Epoch 114/150\n",
      "50/50 [==============================] - 4s 82ms/step - batch: 24.5000 - size: 32.0000 - loss: 1.1266 - val_loss: 1.6247\n",
      "Epoch 115/150\n",
      "50/50 [==============================] - 4s 85ms/step - batch: 24.5000 - size: 32.0000 - loss: 1.1642 - val_loss: 1.6157\n",
      "Epoch 116/150\n",
      "50/50 [==============================] - 4s 83ms/step - batch: 24.5000 - size: 32.0000 - loss: 1.1432 - val_loss: 1.6366\n",
      "Epoch 117/150\n",
      "50/50 [==============================] - 4s 84ms/step - batch: 24.5000 - size: 32.0000 - loss: 1.1248 - val_loss: 1.6121\n",
      "Epoch 118/150\n",
      "50/50 [==============================] - 4s 83ms/step - batch: 24.5000 - size: 32.0000 - loss: 1.1478 - val_loss: 1.6235\n",
      "Epoch 119/150\n",
      "50/50 [==============================] - 4s 84ms/step - batch: 24.5000 - size: 32.0000 - loss: 1.1224 - val_loss: 1.6132\n",
      "Epoch 120/150\n",
      "50/50 [==============================] - ETA: 0s - batch: 24.5000 - size: 32.0000 - loss: 1.1249Get map.\n"
     ]
    },
    {
     "name": "stderr",
     "output_type": "stream",
     "text": [
      "100%|██████████| 179/179 [00:01<00:00, 171.82it/s]\n"
     ]
    },
    {
     "name": "stdout",
     "output_type": "stream",
     "text": [
      "Calculate Map.\n",
      "Path '.temp_map_out/results' already exists.\n",
      "98.58% = good AP \t||\tscore_threhold=0.5 : F1=0.96 ; Recall=96.65% ; Precision=96.11%\n",
      "mAP = 98.58%\n",
      "Path '/home/zhangyouan/桌面/zya/NN_net/network/SSD/IMX_681_ssd_mobilenet_git/keras/detection/SSD_ipynb_transfer_callback/output/20230819/loss_2023_08_19_07_19_20' already exists.\n",
      "Get map done.\n",
      "50/50 [==============================] - 5s 109ms/step - batch: 24.5000 - size: 32.0000 - loss: 1.1249 - val_loss: 1.6118\n",
      "Epoch 121/150\n",
      "50/50 [==============================] - 4s 82ms/step - batch: 24.5000 - size: 32.0000 - loss: 1.1372 - val_loss: 1.6240\n",
      "Epoch 122/150\n",
      "50/50 [==============================] - 4s 83ms/step - batch: 24.5000 - size: 32.0000 - loss: 1.1027 - val_loss: 1.6012\n",
      "Epoch 123/150\n",
      "50/50 [==============================] - 4s 83ms/step - batch: 24.5000 - size: 32.0000 - loss: 1.1262 - val_loss: 1.6055\n",
      "Epoch 124/150\n",
      "50/50 [==============================] - 4s 82ms/step - batch: 24.5000 - size: 32.0000 - loss: 1.0941 - val_loss: 1.6039\n",
      "Epoch 125/150\n",
      "50/50 [==============================] - 4s 83ms/step - batch: 24.5000 - size: 32.0000 - loss: 1.1358 - val_loss: 1.6182\n",
      "Epoch 126/150\n",
      "50/50 [==============================] - 4s 83ms/step - batch: 24.5000 - size: 32.0000 - loss: 1.1213 - val_loss: 1.6030\n",
      "Epoch 127/150\n",
      "50/50 [==============================] - 4s 82ms/step - batch: 24.5000 - size: 32.0000 - loss: 1.0891 - val_loss: 1.6055\n",
      "Epoch 128/150\n",
      "50/50 [==============================] - 4s 82ms/step - batch: 24.5000 - size: 32.0000 - loss: 1.0928 - val_loss: 1.6071\n",
      "Epoch 129/150\n",
      "50/50 [==============================] - 4s 84ms/step - batch: 24.5000 - size: 32.0000 - loss: 1.1248 - val_loss: 1.6014\n",
      "Epoch 130/150\n",
      "50/50 [==============================] - ETA: 0s - batch: 24.5000 - size: 32.0000 - loss: 1.0928Get map.\n"
     ]
    },
    {
     "name": "stderr",
     "output_type": "stream",
     "text": [
      "100%|██████████| 179/179 [00:01<00:00, 157.49it/s]\n"
     ]
    },
    {
     "name": "stdout",
     "output_type": "stream",
     "text": [
      "Calculate Map.\n",
      "Path '.temp_map_out/results' already exists.\n",
      "98.72% = good AP \t||\tscore_threhold=0.5 : F1=0.97 ; Recall=97.21% ; Precision=96.67%\n",
      "mAP = 98.72%\n",
      "Path '/home/zhangyouan/桌面/zya/NN_net/network/SSD/IMX_681_ssd_mobilenet_git/keras/detection/SSD_ipynb_transfer_callback/output/20230819/loss_2023_08_19_07_19_20' already exists.\n",
      "Get map done.\n",
      "50/50 [==============================] - 6s 112ms/step - batch: 24.5000 - size: 32.0000 - loss: 1.0928 - val_loss: 1.6008\n",
      "Epoch 131/150\n",
      "50/50 [==============================] - 4s 83ms/step - batch: 24.5000 - size: 32.0000 - loss: 1.0903 - val_loss: 1.6044\n",
      "Epoch 132/150\n",
      "50/50 [==============================] - 4s 83ms/step - batch: 24.5000 - size: 32.0000 - loss: 1.1251 - val_loss: 1.6070\n",
      "Epoch 133/150\n",
      "50/50 [==============================] - 4s 83ms/step - batch: 24.5000 - size: 32.0000 - loss: 1.1002 - val_loss: 1.5995\n",
      "Epoch 134/150\n",
      "50/50 [==============================] - 4s 83ms/step - batch: 24.5000 - size: 32.0000 - loss: 1.0929 - val_loss: 1.6029\n",
      "Epoch 135/150\n",
      "50/50 [==============================] - 4s 84ms/step - batch: 24.5000 - size: 32.0000 - loss: 1.0868 - val_loss: 1.6030\n",
      "Epoch 136/150\n",
      "50/50 [==============================] - 4s 83ms/step - batch: 24.5000 - size: 32.0000 - loss: 1.0893 - val_loss: 1.6074\n",
      "Epoch 137/150\n",
      "50/50 [==============================] - 4s 83ms/step - batch: 24.5000 - size: 32.0000 - loss: 1.1186 - val_loss: 1.6001\n",
      "Epoch 138/150\n",
      "50/50 [==============================] - 4s 83ms/step - batch: 24.5000 - size: 32.0000 - loss: 1.0709 - val_loss: 1.6063\n",
      "Epoch 139/150\n",
      "50/50 [==============================] - 4s 83ms/step - batch: 24.5000 - size: 32.0000 - loss: 1.1074 - val_loss: 1.6047\n",
      "Epoch 140/150\n",
      "50/50 [==============================] - ETA: 0s - batch: 24.5000 - size: 32.0000 - loss: 1.1076Get map.\n"
     ]
    },
    {
     "name": "stderr",
     "output_type": "stream",
     "text": [
      "100%|██████████| 179/179 [00:01<00:00, 160.55it/s]\n"
     ]
    },
    {
     "name": "stdout",
     "output_type": "stream",
     "text": [
      "Calculate Map.\n",
      "Path '.temp_map_out/results' already exists.\n",
      "98.73% = good AP \t||\tscore_threhold=0.5 : F1=0.97 ; Recall=97.21% ; Precision=96.67%\n",
      "mAP = 98.73%\n",
      "Path '/home/zhangyouan/桌面/zya/NN_net/network/SSD/IMX_681_ssd_mobilenet_git/keras/detection/SSD_ipynb_transfer_callback/output/20230819/loss_2023_08_19_07_19_20' already exists.\n",
      "Get map done.\n",
      "50/50 [==============================] - 5s 110ms/step - batch: 24.5000 - size: 32.0000 - loss: 1.1076 - val_loss: 1.6032\n",
      "Epoch 141/150\n",
      "50/50 [==============================] - 4s 82ms/step - batch: 24.5000 - size: 32.0000 - loss: 1.0702 - val_loss: 1.6046\n",
      "Epoch 142/150\n",
      "50/50 [==============================] - 4s 83ms/step - batch: 24.5000 - size: 32.0000 - loss: 1.0832 - val_loss: 1.6010\n",
      "Epoch 143/150\n",
      "50/50 [==============================] - 4s 83ms/step - batch: 24.5000 - size: 32.0000 - loss: 1.1005 - val_loss: 1.6015\n",
      "Epoch 144/150\n",
      "50/50 [==============================] - 4s 84ms/step - batch: 24.5000 - size: 32.0000 - loss: 1.0736 - val_loss: 1.6030\n",
      "Epoch 145/150\n",
      "50/50 [==============================] - 4s 83ms/step - batch: 24.5000 - size: 32.0000 - loss: 1.1021 - val_loss: 1.6001\n",
      "Epoch 146/150\n",
      "50/50 [==============================] - 4s 83ms/step - batch: 24.5000 - size: 32.0000 - loss: 1.0872 - val_loss: 1.6007\n",
      "Epoch 147/150\n",
      "50/50 [==============================] - 4s 83ms/step - batch: 24.5000 - size: 32.0000 - loss: 1.0781 - val_loss: 1.6007\n",
      "Epoch 148/150\n",
      "50/50 [==============================] - 4s 86ms/step - batch: 24.5000 - size: 32.0000 - loss: 1.0965 - val_loss: 1.6007\n",
      "Epoch 149/150\n",
      "50/50 [==============================] - 4s 86ms/step - batch: 24.5000 - size: 32.0000 - loss: 1.0784 - val_loss: 1.6008\n",
      "Epoch 150/150\n",
      "50/50 [==============================] - ETA: 0s - batch: 24.5000 - size: 32.0000 - loss: 1.0871Get map.\n"
     ]
    },
    {
     "name": "stderr",
     "output_type": "stream",
     "text": [
      "100%|██████████| 179/179 [00:00<00:00, 185.33it/s]\n"
     ]
    },
    {
     "name": "stdout",
     "output_type": "stream",
     "text": [
      "Calculate Map.\n",
      "Path '.temp_map_out/results' already exists.\n",
      "98.74% = good AP \t||\tscore_threhold=0.5 : F1=0.97 ; Recall=97.21% ; Precision=96.67%\n",
      "mAP = 98.74%\n",
      "Path '/home/zhangyouan/桌面/zya/NN_net/network/SSD/IMX_681_ssd_mobilenet_git/keras/detection/SSD_ipynb_transfer_callback/output/20230819/loss_2023_08_19_07_19_20' already exists.\n",
      "Get map done.\n",
      "50/50 [==============================] - 6s 110ms/step - batch: 24.5000 - size: 32.0000 - loss: 1.0871 - val_loss: 1.6008\n"
     ]
    },
    {
     "name": "stderr",
     "output_type": "stream",
     "text": [
      "WARNING:absl:Found untraced functions such as _jit_compiled_convolution_op, _jit_compiled_convolution_op, _jit_compiled_convolution_op, _jit_compiled_convolution_op, _jit_compiled_convolution_op while saving (showing 5 of 60). These functions will not be directly callable after loading.\n"
     ]
    },
    {
     "name": "stdout",
     "output_type": "stream",
     "text": [
      "INFO:tensorflow:Assets written to: /home/zhangyouan/桌面/zya/NN_net/network/SSD/IMX_681_ssd_mobilenet_git/keras/detection/SSD_ipynb_transfer_callback/output/20230819/good_detection_test_callback_2.pb/assets\n"
     ]
    },
    {
     "name": "stderr",
     "output_type": "stream",
     "text": [
      "INFO:tensorflow:Assets written to: /home/zhangyouan/桌面/zya/NN_net/network/SSD/IMX_681_ssd_mobilenet_git/keras/detection/SSD_ipynb_transfer_callback/output/20230819/good_detection_test_callback_2.pb/assets\n"
     ]
    }
   ],
   "source": [
    "from keras.regularizers import l2\n",
    "\n",
    "if __name__ == \"__main__\":\n",
    "    \n",
    "    # 设置训练参数\n",
    "    Epoch = 150  # 训练100 epochs\n",
    "    lr = 1e-3  # Adam优化器，所以较小的学习率\n",
    "    optimizer_type = \"Adam\"\n",
    "    momentum = 0.937\n",
    "    batch_size = 32\n",
    "    imgcolor = 'grey'  # imgcolor选“rgb” or “grey”, 则处理图像变单通道或者三通道\n",
    "    tmp_dir = str(datetime.datetime.strftime(datetime.datetime.now(), '%Y%m%d'))\n",
    "    save_dir = \"/home/zhangyouan/桌面/zya/NN_net/network/SSD/IMX_681_ssd_mobilenet_git/keras/detection/SSD_ipynb_transfer_callback/output/\"+tmp_dir\n",
    "    \n",
    "    # 设置SSD参数\n",
    "    cls_name_path = \"./model_data/voc_classes.txt\"  # 导入目标检测类别；\n",
    "    input_shape = [120, 160]  # 输入的尺寸大小\n",
    "    anchor_size = [32, 59, 86, 113, 141, 168]  # 用于设定先验框的大小，根据公式计算而来；如果要检测小物体，修改浅层先验框的大小，越小的话，识别的物体越小；    \n",
    "    train_annotation_path = '/home/zhangyouan/桌面/zya/NN_net/network/SSD/IMX_681_ssd_mobilenet_git/Img_Pro/preprocessing/2007_trainval.txt'  # 训练图片路径和标签\n",
    "    val_annotation_path = '/home/zhangyouan/桌面/zya/NN_net/network/SSD/IMX_681_ssd_mobilenet_git/Img_Pro/preprocessing/2007_test.txt'  # 验证图片路径和标签\n",
    "    \n",
    "    # 1. 获取classes和anchor\n",
    "    class_names, num_cls = get_classes(cls_name_path)\n",
    "    num_cls += 1  # 增加一个背景类别\n",
    "    print(\"class_names:\", class_names, \"num_classes:\", num_cls)\n",
    "    \n",
    "    # 2. 获取anchors, 输出的是归一化之后的anchors\n",
    "    anchor = get_anchors(input_shape, anchor_size)\n",
    "    print(\"type:\",type(anchor), \"shape:\", np.shape(anchor))\n",
    "\n",
    "    # 3. 模型编译\n",
    "    K.clear_session()\n",
    "    model_path = \"\"\n",
    "    # model_path = \"./output/20230804_3/good_detection_test_callback.h5\"\n",
    "    model = SSD300((input_shape[0], input_shape[1], 1), num_cls)\n",
    "    # model.save(\"template.h5\")\n",
    "    # model.summary()\n",
    "    if model_path != \"\":\n",
    "        model.load_weights(model_path, by_name = True, skip_mismatch=True)\n",
    "       \n",
    "    # 4. 优化器\n",
    "    # optimizer = Adam(lr = lr, beta_1=momentum)\n",
    "    optimizer = Adam(lr=0.001, beta_1=0.9, beta_2=0.999, epsilon=1e-08, decay=0.0)\n",
    "    \n",
    "    # 5. 导入数据集\n",
    "    with open(train_annotation_path, encoding='utf-8') as f:\n",
    "        train_lines = f.readlines()\n",
    "    with open(val_annotation_path, encoding='utf-8') as f:\n",
    "        val_lines = f.readlines()\n",
    "    num_train = len(train_lines)\n",
    "    num_val = len(val_lines)\n",
    "    epoch_step = num_train // batch_size\n",
    "    epoch_step_val = num_val // batch_size\n",
    "    train_dataloader = SSDDatasets(train_lines, input_shape, anchor, batch_size, num_cls, train=False, imgcolor=imgcolor)\n",
    "    val_dataloader = SSDDatasets(val_lines, input_shape, anchor, batch_size, num_cls, train=False, imgcolor=imgcolor)\n",
    "    print('Train on {} samples, val on {} samples, with batch size {}.'.format(num_train, num_val, batch_size))\n",
    "    \n",
    "    # 6. 编译模型\n",
    "    # losses = {'mbox_loc_final':MultiboxLoss(num_cls, neg_pos_ratio=3.0).compute_loc_loss,\n",
    "            #   'cls_conf_final':MultiboxLoss(num_cls, neg_pos_ratio=3.0).compute_conf_loss}\n",
    "    # losses2 = [MultiboxLoss(num_cls, neg_pos_ratio=3.0).compute_loc_loss,MultiboxLoss(num_cls, neg_pos_ratio=3.0).compute_conf_loss]\n",
    "    model.compile(optimizer=optimizer, loss = MultiboxLoss(num_cls, neg_pos_ratio=3.0).compute_loss)\n",
    "    \n",
    "    # 7. 设计learning rate;\n",
    "    total_steps = int(Epoch * num_train / batch_size)\n",
    "    # 7.1 compute the number of warmup batches.\n",
    "    warmup_epochs = 10\n",
    "    warmup_steps = int(warmup_epochs * num_train / batch_size)\n",
    "    # 7.2 create the learning rate scheduler\n",
    "    warm_up_lr = WarmUpCosineDecayScheduler(learning_rate_base=lr,\n",
    "                                            total_steps=total_steps,\n",
    "                                            warmup_learning_rate=4e-06,\n",
    "                                            warmup_steps=warmup_steps,\n",
    "                                            hold_base_rate_steps=20)\n",
    "    time_str = datetime.datetime.strftime(datetime.datetime.now(), '%Y_%m_%d_%H_%M_%S')\n",
    "    log_dir = os.path.join(save_dir, \"loss_\" + str(time_str))\n",
    "    \n",
    "    # # 8. 精度评价: pending --> 还没构建；\n",
    "    eval_flag = True\n",
    "    eval_period = 10\n",
    "    eval_callback = EvalCallback(model, input_shape, anchor, class_names, num_cls, val_lines, log_dir, eval_flag=eval_flag, period = eval_period)\n",
    "    show_config(\n",
    "        classes_path=cls_name_path, model_path=model_path, input_shape=input_shape, \\\n",
    "        Epoch=Epoch, batch_size=batch_size, \\\n",
    "        lr=lr, optimizer_type=optimizer_type, momentum=momentum, \\\n",
    "        num_train=num_train, num_val=num_val\n",
    "    )\n",
    "    \n",
    "    callbacks_list = [\n",
    "        # 早停回调，keras.callbacks.EarlyStopping(monitor='val_accuracy'， patience=4)\n",
    "        warm_up_lr, # 学习率的调整\n",
    "        # 学习率调整方法2. keras.callbacks.ReduceLROnPlateau(monitor='val_loss', factor=0.1, patience=2, verbose=0, mode='auto',min_lr=0.000001),\n",
    "        # Epoch结束回调LearningRateSchrduler(schrduler, verbose=1),\n",
    "        keras.callbacks.TensorBoard(log_dir=os.path.join(save_dir, 'unetlogs'), update_freq=1000), #参数分别为日志存储路径和每多少step进行一次记录，此处不应取太小，会拖慢训练过程\n",
    "        eval_callback,  # 精度评价；\n",
    "    ]\n",
    "    # 8. 开始训练；\n",
    "    history = model.fit_generator(\n",
    "        generator=train_dataloader,\n",
    "        steps_per_epoch=epoch_step,\n",
    "        validation_data=val_dataloader,\n",
    "        validation_steps=epoch_step_val,\n",
    "        epochs=Epoch,\n",
    "        # callbacks = [warm_up_lr]\n",
    "        callbacks = callbacks_list   \n",
    "    )  # 使用tensorboard --logdir=\"\" 调用查看loss\n",
    "    \n",
    "    record_log(history, filename = os.path.join(save_dir, \"unetlogs/log.txt\"))\n",
    "    model.save(os.path.join(save_dir, \"good_detection_test_callback_2.h5\"))\n",
    "    model.save(os.path.join(save_dir, \"good_detection_test_callback_2.pb\"))"
   ]
  },
  {
   "cell_type": "code",
   "execution_count": 1,
   "metadata": {},
   "outputs": [
    {
     "name": "stdout",
     "output_type": "stream",
     "text": [
      "no accuracy, only loss.\n"
     ]
    },
    {
     "data": {
      "image/png": "[encoded data removed]",
      "text/plain": [
       "<Figure size 640x480 with 1 Axes>"
      ]
     },
     "metadata": {},
     "output_type": "display_data"
    }
   ],
   "source": [
    "from log_record import record_log, read_log\n",
    "from utils import visual_train\n",
    "\n",
    "history = read_log(\"/home/zhangyouan/桌面/zya/NN_net/network/SSD/IMX_681_ssd_mobilenet_git/keras/detection/SSD_ipynb_transfer_callback/output/20230819/unetlogs/log.txt\")\n",
    "visual_train(history)"
   ]
  },
  {
   "cell_type": "code",
   "execution_count": 1,
   "metadata": {},
   "outputs": [
    {
     "name": "stdout",
     "output_type": "stream",
     "text": [
      "no accuracy, only loss.\n"
     ]
    },
    {
     "data": {
      "image/png": "[encoded data removed]",
      "text/plain": [
       "<Figure size 640x480 with 1 Axes>"
      ]
     },
     "metadata": {},
     "output_type": "display_data"
    }
   ],
   "source": [
    "from log_record import record_log, read_log\n",
    "from utils import visual_train\n",
    "\n",
    "history = read_log(\"/home/zhangyouan/桌面/zya/NN_net/network/SSD/IMX_681_ssd_mobilenet_git/keras/detection/SSD_ipynb/output/20230816_1/unetlogs/log.txt\")\n",
    "visual_train(history)"
   ]
  }
 ],
 "metadata": {
  "kernelspec": {
   "display_name": "Python 3.10.4 ('stc': conda)",
   "language": "python",
   "name": "python3"
  },
  "language_info": {
   "codemirror_mode": {
    "name": "ipython",
    "version": 3
   },
   "file_extension": ".py",
   "mimetype": "text/x-python",
   "name": "python",
   "nbconvert_exporter": "python",
   "pygments_lexer": "ipython3",
   "version": "3.10.4"
  },
  "orig_nbformat": 4,
  "vscode": {
   "interpreter": {
    "hash": "f6a050d9f10360465fbc02ae273ccd06cb1948ad5cd96cc14a3b3a9694a266bf"
   }
  }
 },
 "nbformat": 4,
 "nbformat_minor": 2
}
