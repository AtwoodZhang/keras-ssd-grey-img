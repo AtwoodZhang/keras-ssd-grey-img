{
 "cells": [
  {
   "cell_type": "code",
   "execution_count": 2,
   "metadata": {},
   "outputs": [
    {
     "name": "stderr",
     "output_type": "stream",
     "text": [
      "2023-09-06 01:24:01.938873: W tensorflow/c/c_api.cc:291] Operation '{name:'DepthwiseConv2D_loc_DD5_1_1/depthwise_kernel/Assign' id:3633 op device:{requested: '', assigned: ''} def:{{{node DepthwiseConv2D_loc_DD5_1_1/depthwise_kernel/Assign}} = AssignVariableOp[_has_manual_control_dependencies=true, dtype=DT_FLOAT, validate_shape=false](DepthwiseConv2D_loc_DD5_1_1/depthwise_kernel, DepthwiseConv2D_loc_DD5_1_1/depthwise_kernel/Initializer/stateless_random_uniform)}}' was changed by setting attribute after it was run by a session. This mutation will have no effect, and will trigger an error in the future. Either don't modify nodes after running them or create a new session.\n"
     ]
    },
    {
     "name": "stdout",
     "output_type": "stream",
     "text": [
      "/home/zhangyouan/桌面/zya/NN_net/network/SSD/IMX_681_ssd_mobilenet_git/keras/detection/SSD_ipynb_transfer_callback/output/20230819/good_detection_test_callback_2.h5 model, anchors, and classes loaded.\n",
      "Configurations:\n",
      "----------------------------------------------------------------------\n",
      "|                     keys |                                   values|\n",
      "----------------------------------------------------------------------\n",
      "|               model_path | /home/zhangyouan/桌面/zya/NN_net/network/SSD/IMX_681_ssd_mobilenet_git/keras/detection/SSD_ipynb_transfer_callback/output/20230819/good_detection_test_callback_2.h5|\n",
      "|             classes_path | /home/zhangyouan/桌面/zya/NN_net/network/SSD/test2_ssd_test_good/model_data/voc_classes.txt|\n",
      "|              input_shape |                               [120, 160]|\n",
      "|               confidence |                                      0.5|\n",
      "|                  nms_iou |                                      0.3|\n",
      "|             anchors_size |              [32, 59, 86, 113, 141, 168]|\n",
      "|          letterbox_image |                                    False|\n",
      "----------------------------------------------------------------------\n"
     ]
    },
    {
     "name": "stderr",
     "output_type": "stream",
     "text": [
      "/home/zhangyouan/anaconda3/envs/stc/lib/python3.10/site-packages/keras/engine/training_v1.py:2357: UserWarning: `Model.state_updates` will be removed in a future version. This property should not be used in TensorFlow 2.0, as `updates` are applied automatically.\n",
      "  updates=self.state_updates,\n",
      "2023-09-06 01:24:22.613194: W tensorflow/c/c_api.cc:291] Operation '{name:'predictions_1/concat' id:3695 op device:{requested: '', assigned: ''} def:{{{node predictions_1/concat}} = ConcatV2[N=2, T=DT_FLOAT, Tidx=DT_INT32, _has_manual_control_dependencies=true](mbox_loc_final_1/Reshape, cls_conf_final_1/Softmax, predictions_1/concat/axis)}}' was changed by setting attribute after it was run by a session. This mutation will have no effect, and will trigger an error in the future. Either don't modify nodes after running them or create a new session.\n"
     ]
    }
   ],
   "source": [
    "import time\n",
    "import cv2\n",
    "import numpy as np\n",
    "from PIL import Image\n",
    "from ssd_pred import SSD\n",
    "import matplotlib.pyplot as plt\n",
    "\n",
    "\n",
    "if __name__ == \"__main__\":\n",
    "    ssd = SSD()\n",
    "    mode = \"predict\" # or dir_predict  # dir predict用来预测文件夹，predict用来预测文件图片\n",
    "    crop = False  # 指定了是否在单张图片预测后对目标进行截取\n",
    "    count = False  # 指定了是否进行目标的计数\n",
    "    # dir_origin_path= \"img/\"  # 指定了用于检测的图片的文件夹路径\n",
    "    # dir_save_path = \"img_out/\"  # 指定了检测完图片的保存路径\n",
    "    pred_img_path = \"/home/zhangyouan/桌面/zya/dataset/681/good_enlarge/VOCdevkit/VOC2007/JPEGImages/230818_102635_00597.jpg\"\n",
    "    \n",
    "    if mode == \"predict\":\n",
    "        img = pred_img_path\n",
    "        try:\n",
    "            image = Image.open(img)\n",
    "        except:\n",
    "            print('Open Error! Try again!')\n",
    "        else:\n",
    "            r_image = ssd.detect_image(image, crop=crop, count=count)\n",
    "            # r_image.show()\n",
    "            # r_image.save(\"/home/zhangyouan/桌面/zya/NN_net/network/SSD/IMX_681_ssd_mobilenet_git/keras/detection/SSD_ipynb_transfer_callback/img_pred_output/img.jpg\")\n",
    "            plt.imshow(r_image)\n",
    "            plt.show()"
   ]
  }
 ],
 "metadata": {
  "kernelspec": {
   "display_name": "Python 3.10.4 ('stc': conda)",
   "language": "python",
   "name": "python3"
  },
  "language_info": {
   "codemirror_mode": {
    "name": "ipython",
    "version": 3
   },
   "file_extension": ".py",
   "mimetype": "text/x-python",
   "name": "python",
   "nbconvert_exporter": "python",
   "pygments_lexer": "ipython3",
   "version": "3.10.4"
  },
  "orig_nbformat": 4,
  "vscode": {
   "interpreter": {
    "hash": "f6a050d9f10360465fbc02ae273ccd06cb1948ad5cd96cc14a3b3a9694a266bf"
   }
  }
 },
 "nbformat": 4,
 "nbformat_minor": 2
}
