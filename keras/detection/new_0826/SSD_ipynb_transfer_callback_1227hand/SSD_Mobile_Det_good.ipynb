{
 "cells": [
  {
   "cell_type": "code",
   "execution_count": 4,
   "metadata": {},
   "outputs": [],
   "source": [
    "import sys\n",
    "sys.path.append('./')\n",
    "import numpy as np\n",
    "import os\n",
    "import datetime\n",
    "import keras.backend as K\n",
    "import tensorflow as tf\n",
    "from keras.layers import Conv2D, Dense, DepthwiseConv2D,add\n",
    "from keras.optimizers import SGD, Adam\n",
    "import numpy as np\n",
    "import math\n",
    "import keras\n",
    "from PIL import Image\n",
    "from random import shuffle\n",
    "from keras import layers as KL\n",
    "from Anchors import get_anchors\n",
    "from Datasets import SSDDatasets\n",
    "from learning_rate import WarmUpCosineDecayScheduler\n",
    "from loss import MultiboxLoss\n",
    "from Models import SSD300\n",
    "from utils import get_classes, show_config\n",
    "from log_record import record_log, read_log\n",
    "from keras.callbacks import (EarlyStopping, LearningRateScheduler,\n",
    "                             ModelCheckpoint, TensorBoard)\n",
    "from callbacks import (ExponentDecayScheduler, LossHistory,\n",
    "                       ParallelModelCheckpoint, EvalCallback)\n"
   ]
  },
  {
   "cell_type": "code",
   "execution_count": 6,
   "metadata": {},
   "outputs": [
    {
     "name": "stdout",
     "output_type": "stream",
     "text": [
      "class_names: ['hand'] num_classes: 2\n",
      "type: <class 'numpy.ndarray'> shape: (1242, 4)\n",
      "Train on 1440 samples, val on 178 samples, with batch size 32.\n",
      "Configurations:\n",
      "----------------------------------------------------------------------\n",
      "|                     keys |                                   values|\n",
      "----------------------------------------------------------------------\n",
      "|             classes_path |             ./model_data/voc_classes.txt|\n",
      "|               model_path |                                         |\n",
      "|              input_shape |                               [120, 160]|\n",
      "|                    Epoch |                                      500|\n",
      "|               batch_size |                                       32|\n",
      "|                       lr |                                    0.001|\n",
      "|           optimizer_type |                                     Adam|\n",
      "|                 momentum |                                    0.937|\n",
      "|                num_train |                                     1440|\n",
      "|                  num_val |                                      178|\n",
      "----------------------------------------------------------------------\n",
      "Epoch 1/500\n"
     ]
    },
    {
     "name": "stderr",
     "output_type": "stream",
     "text": [
      "2024-06-27 14:24:39.117324: W tensorflow/c/c_api.cc:304] Operation '{name:'Conv2D_layer10/kernel/Assign' id:393 op device:{requested: '', assigned: ''} def:{{{node Conv2D_layer10/kernel/Assign}} = AssignVariableOp[_has_manual_control_dependencies=true, dtype=DT_FLOAT, validate_shape=false](Conv2D_layer10/kernel, Conv2D_layer10/kernel/Initializer/stateless_random_uniform)}}' was changed by setting attribute after it was run by a session. This mutation will have no effect, and will trigger an error in the future. Either don't modify nodes after running them or create a new session.\n",
      "/tmp/ipykernel_22941/189816890.py:103: UserWarning: `model.fit_generator` is deprecated and will be removed in a future version. Please use `Model.fit`, which supports generators.\n",
      "  history = model.fit_generator(\n",
      "2024-06-27 14:24:39.368645: W tensorflow/c/c_api.cc:304] Operation '{name:'decay/Assign' id:1916 op device:{requested: '', assigned: ''} def:{{{node decay/Assign}} = AssignVariableOp[_has_manual_control_dependencies=true, dtype=DT_FLOAT, validate_shape=false](decay, decay/Initializer/initial_value)}}' was changed by setting attribute after it was run by a session. This mutation will have no effect, and will trigger an error in the future. Either don't modify nodes after running them or create a new session.\n",
      "2024-06-27 14:24:40.346268: W tensorflow/c/c_api.cc:304] Operation '{name:'loss/AddN' id:1775 op device:{requested: '', assigned: ''} def:{{{node loss/AddN}} = AddN[N=2, T=DT_FLOAT, _has_manual_control_dependencies=true](loss/mul, loss/Conv2D_layer13/kernel/Regularizer/mul)}}' was changed by setting attribute after it was run by a session. This mutation will have no effect, and will trigger an error in the future. Either don't modify nodes after running them or create a new session.\n",
      "2024-06-27 14:24:40.473836: W tensorflow/c/c_api.cc:304] Operation '{name:'training/Adam/Conv2D_layer11/bias/m/Assign' id:2862 op device:{requested: '', assigned: ''} def:{{{node training/Adam/Conv2D_layer11/bias/m/Assign}} = AssignVariableOp[_has_manual_control_dependencies=true, dtype=DT_FLOAT, validate_shape=false](training/Adam/Conv2D_layer11/bias/m, training/Adam/Conv2D_layer11/bias/m/Initializer/zeros)}}' was changed by setting attribute after it was run by a session. This mutation will have no effect, and will trigger an error in the future. Either don't modify nodes after running them or create a new session.\n"
     ]
    },
    {
     "name": "stdout",
     "output_type": "stream",
     "text": [
      " 4/45 [=>............................] - ETA: 2s - batch: 1.5000 - size: 32.0000 - loss: 7.1969    "
     ]
    },
    {
     "name": "stderr",
     "output_type": "stream",
     "text": [
      "2024-06-27 14:24:41.005671: I tensorflow/tsl/profiler/lib/profiler_session.cc:104] Profiler session initializing.\n",
      "2024-06-27 14:24:41.005692: I tensorflow/tsl/profiler/lib/profiler_session.cc:119] Profiler session started.\n",
      "2024-06-27 14:24:41.069737: I tensorflow/tsl/profiler/lib/profiler_session.cc:70] Profiler session collecting data.\n",
      "2024-06-27 14:24:41.071199: I tensorflow/tsl/profiler/lib/profiler_session.cc:131] Profiler session tear down.\n",
      "2024-06-27 14:24:41.071287: I tensorflow/tsl/profiler/rpc/client/save_profile.cc:144] Collecting XSpace to repository: /home/zhangyouan/桌面/zya/NN_net/network/SSD/IMX_681_ssd_mobilenet_git/keras/detection/SSD_ipynb_transfer_callback_1227hand/output/20240228/unetlogs/plugins/profile/2024_06_27_14_24_41/SSSLXSRVLS001.xplane.pb\n"
     ]
    },
    {
     "name": "stdout",
     "output_type": "stream",
     "text": [
      "45/45 [==============================] - ETA: 0s - batch: 22.0000 - size: 32.0000 - loss: 7.2364"
     ]
    },
    {
     "name": "stderr",
     "output_type": "stream",
     "text": [
      "2024-06-27 14:24:43.783140: W tensorflow/c/c_api.cc:304] Operation '{name:'loss/AddN' id:1775 op device:{requested: '', assigned: ''} def:{{{node loss/AddN}} = AddN[N=2, T=DT_FLOAT, _has_manual_control_dependencies=true](loss/mul, loss/Conv2D_layer13/kernel/Regularizer/mul)}}' was changed by setting attribute after it was run by a session. This mutation will have no effect, and will trigger an error in the future. Either don't modify nodes after running them or create a new session.\n"
     ]
    },
    {
     "name": "stdout",
     "output_type": "stream",
     "text": [
      "WARNING:tensorflow:Early stopping conditioned on metric `train_loss` which is not available. Available metrics are: loss,val_loss\n"
     ]
    },
    {
     "name": "stderr",
     "output_type": "stream",
     "text": [
      "WARNING:tensorflow:Early stopping conditioned on metric `train_loss` which is not available. Available metrics are: loss,val_loss\n"
     ]
    },
    {
     "name": "stdout",
     "output_type": "stream",
     "text": [
      "45/45 [==============================] - 5s 72ms/step - batch: 22.0000 - size: 32.0000 - loss: 7.2364 - val_loss: 7.1950 - lr: 1.0139e-04\n",
      "Epoch 2/500\n",
      "45/45 [==============================] - ETA: 0s - batch: 22.0000 - size: 32.0000 - loss: 7.1906WARNING:tensorflow:Early stopping conditioned on metric `train_loss` which is not available. Available metrics are: loss,val_loss\n"
     ]
    },
    {
     "name": "stderr",
     "output_type": "stream",
     "text": [
      "WARNING:tensorflow:Early stopping conditioned on metric `train_loss` which is not available. Available metrics are: loss,val_loss\n"
     ]
    },
    {
     "name": "stdout",
     "output_type": "stream",
     "text": [
      "45/45 [==============================] - 3s 70ms/step - batch: 22.0000 - size: 32.0000 - loss: 7.1906 - val_loss: 7.1308 - lr: 2.0099e-04\n",
      "Epoch 3/500\n",
      "45/45 [==============================] - ETA: 0s - batch: 22.0000 - size: 32.0000 - loss: 7.0925WARNING:tensorflow:Early stopping conditioned on metric `train_loss` which is not available. Available metrics are: loss,val_loss\n"
     ]
    },
    {
     "name": "stderr",
     "output_type": "stream",
     "text": [
      "WARNING:tensorflow:Early stopping conditioned on metric `train_loss` which is not available. Available metrics are: loss,val_loss\n"
     ]
    },
    {
     "name": "stdout",
     "output_type": "stream",
     "text": [
      "45/45 [==============================] - 3s 70ms/step - batch: 22.0000 - size: 32.0000 - loss: 7.0925 - val_loss: 6.9979 - lr: 3.0059e-04\n",
      "Epoch 4/500\n",
      "45/45 [==============================] - ETA: 0s - batch: 22.0000 - size: 32.0000 - loss: 6.7905WARNING:tensorflow:Early stopping conditioned on metric `train_loss` which is not available. Available metrics are: loss,val_loss\n"
     ]
    },
    {
     "name": "stderr",
     "output_type": "stream",
     "text": [
      "WARNING:tensorflow:Early stopping conditioned on metric `train_loss` which is not available. Available metrics are: loss,val_loss\n"
     ]
    },
    {
     "name": "stdout",
     "output_type": "stream",
     "text": [
      "45/45 [==============================] - 3s 70ms/step - batch: 22.0000 - size: 32.0000 - loss: 6.7905 - val_loss: 6.4970 - lr: 4.0019e-04\n",
      "Epoch 5/500\n",
      "45/45 [==============================] - ETA: 0s - batch: 22.0000 - size: 32.0000 - loss: 6.2783WARNING:tensorflow:Early stopping conditioned on metric `train_loss` which is not available. Available metrics are: loss,val_loss\n"
     ]
    },
    {
     "name": "stderr",
     "output_type": "stream",
     "text": [
      "WARNING:tensorflow:Early stopping conditioned on metric `train_loss` which is not available. Available metrics are: loss,val_loss\n"
     ]
    },
    {
     "name": "stdout",
     "output_type": "stream",
     "text": [
      "45/45 [==============================] - 3s 70ms/step - batch: 22.0000 - size: 32.0000 - loss: 6.2783 - val_loss: 6.0765 - lr: 4.9979e-04\n",
      "Epoch 6/500\n",
      "45/45 [==============================] - ETA: 0s - batch: 22.0000 - size: 32.0000 - loss: 5.9037WARNING:tensorflow:Early stopping conditioned on metric `train_loss` which is not available. Available metrics are: loss,val_loss\n"
     ]
    },
    {
     "name": "stderr",
     "output_type": "stream",
     "text": [
      "WARNING:tensorflow:Early stopping conditioned on metric `train_loss` which is not available. Available metrics are: loss,val_loss\n"
     ]
    },
    {
     "name": "stdout",
     "output_type": "stream",
     "text": [
      "45/45 [==============================] - 3s 70ms/step - batch: 22.0000 - size: 32.0000 - loss: 5.9037 - val_loss: 5.7879 - lr: 5.9939e-04\n",
      "Epoch 7/500\n",
      "45/45 [==============================] - ETA: 0s - batch: 22.0000 - size: 32.0000 - loss: 5.7067WARNING:tensorflow:Early stopping conditioned on metric `train_loss` which is not available. Available metrics are: loss,val_loss\n"
     ]
    },
    {
     "name": "stderr",
     "output_type": "stream",
     "text": [
      "WARNING:tensorflow:Early stopping conditioned on metric `train_loss` which is not available. Available metrics are: loss,val_loss\n"
     ]
    },
    {
     "name": "stdout",
     "output_type": "stream",
     "text": [
      "45/45 [==============================] - 3s 70ms/step - batch: 22.0000 - size: 32.0000 - loss: 5.7067 - val_loss: 5.6224 - lr: 6.9899e-04\n",
      "Epoch 8/500\n",
      "45/45 [==============================] - ETA: 0s - batch: 22.0000 - size: 32.0000 - loss: 5.5959WARNING:tensorflow:Early stopping conditioned on metric `train_loss` which is not available. Available metrics are: loss,val_loss\n"
     ]
    },
    {
     "name": "stderr",
     "output_type": "stream",
     "text": [
      "WARNING:tensorflow:Early stopping conditioned on metric `train_loss` which is not available. Available metrics are: loss,val_loss\n"
     ]
    },
    {
     "name": "stdout",
     "output_type": "stream",
     "text": [
      "45/45 [==============================] - 3s 70ms/step - batch: 22.0000 - size: 32.0000 - loss: 5.5959 - val_loss: 5.5369 - lr: 7.9859e-04\n",
      "Epoch 9/500\n",
      "45/45 [==============================] - ETA: 0s - batch: 22.0000 - size: 32.0000 - loss: 5.5311WARNING:tensorflow:Early stopping conditioned on metric `train_loss` which is not available. Available metrics are: loss,val_loss\n"
     ]
    },
    {
     "name": "stderr",
     "output_type": "stream",
     "text": [
      "WARNING:tensorflow:Early stopping conditioned on metric `train_loss` which is not available. Available metrics are: loss,val_loss\n"
     ]
    },
    {
     "name": "stdout",
     "output_type": "stream",
     "text": [
      "45/45 [==============================] - 3s 70ms/step - batch: 22.0000 - size: 32.0000 - loss: 5.5311 - val_loss: 5.4827 - lr: 8.9819e-04\n",
      "Epoch 10/500\n",
      "45/45 [==============================] - ETA: 0s - batch: 22.0000 - size: 32.0000 - loss: 5.4785WARNING:tensorflow:Early stopping conditioned on metric `train_loss` which is not available. Available metrics are: loss,val_loss\n"
     ]
    },
    {
     "name": "stderr",
     "output_type": "stream",
     "text": [
      "WARNING:tensorflow:Early stopping conditioned on metric `train_loss` which is not available. Available metrics are: loss,val_loss\n"
     ]
    },
    {
     "name": "stdout",
     "output_type": "stream",
     "text": [
      "Get map.\n"
     ]
    },
    {
     "name": "stderr",
     "output_type": "stream",
     "text": [
      "  0%|          | 0/178 [00:00<?, ?it/s]/home/zhangyouan/anaconda3/envs/stc/lib/python3.10/site-packages/keras/src/engine/training_v1.py:2359: UserWarning: `Model.state_updates` will be removed in a future version. This property should not be used in TensorFlow 2.0, as `updates` are applied automatically.\n",
      "  updates=self.state_updates,\n",
      "2024-06-27 14:25:12.561680: W tensorflow/c/c_api.cc:304] Operation '{name:'predictions/concat' id:1598 op device:{requested: '', assigned: ''} def:{{{node predictions/concat}} = ConcatV2[N=2, T=DT_FLOAT, Tidx=DT_INT32, _has_manual_control_dependencies=true](mbox_loc_final/Reshape, cls_conf_final/Softmax, predictions/concat/axis)}}' was changed by setting attribute after it was run by a session. This mutation will have no effect, and will trigger an error in the future. Either don't modify nodes after running them or create a new session.\n",
      "100%|██████████| 178/178 [00:01<00:00, 142.63it/s]\n"
     ]
    },
    {
     "name": "stdout",
     "output_type": "stream",
     "text": [
      "Calculate Map.\n",
      "Path '.temp_map_out/results' already exists.\n",
      "2.63% = hand AP \t||\tscore_threhold=0.5 : F1=0.00 ; Recall=0.00% ; Precision=0.00%\n",
      "mAP = 2.63%\n",
      "Path '/home/zhangyouan/桌面/zya/NN_net/network/SSD/IMX_681_ssd_mobilenet_git/keras/detection/SSD_ipynb_transfer_callback_1227hand/output/20240228/loss_2024_06_27_14_24_39' created successfully.\n",
      "Get map done.\n",
      "45/45 [==============================] - 6s 125ms/step - batch: 22.0000 - size: 32.0000 - loss: 5.4785 - val_loss: 5.4262 - lr: 9.9779e-04\n",
      "Epoch 11/500\n",
      "45/45 [==============================] - ETA: 0s - batch: 22.0000 - size: 32.0000 - loss: 5.4496WARNING:tensorflow:Early stopping conditioned on metric `train_loss` which is not available. Available metrics are: loss,val_loss\n"
     ]
    },
    {
     "name": "stderr",
     "output_type": "stream",
     "text": [
      "WARNING:tensorflow:Early stopping conditioned on metric `train_loss` which is not available. Available metrics are: loss,val_loss\n"
     ]
    },
    {
     "name": "stdout",
     "output_type": "stream",
     "text": [
      "45/45 [==============================] - 3s 70ms/step - batch: 22.0000 - size: 32.0000 - loss: 5.4496 - val_loss: 5.3677 - lr: 1.0000e-03\n",
      "Epoch 12/500\n",
      "45/45 [==============================] - ETA: 0s - batch: 22.0000 - size: 32.0000 - loss: 5.3178WARNING:tensorflow:Early stopping conditioned on metric `train_loss` which is not available. Available metrics are: loss,val_loss\n"
     ]
    },
    {
     "name": "stderr",
     "output_type": "stream",
     "text": [
      "WARNING:tensorflow:Early stopping conditioned on metric `train_loss` which is not available. Available metrics are: loss,val_loss\n"
     ]
    },
    {
     "name": "stdout",
     "output_type": "stream",
     "text": [
      "45/45 [==============================] - 3s 70ms/step - batch: 22.0000 - size: 32.0000 - loss: 5.3178 - val_loss: 5.1633 - lr: 9.9998e-04\n",
      "Epoch 13/500\n",
      "45/45 [==============================] - ETA: 0s - batch: 22.0000 - size: 32.0000 - loss: 5.0752WARNING:tensorflow:Early stopping conditioned on metric `train_loss` which is not available. Available metrics are: loss,val_loss\n"
     ]
    },
    {
     "name": "stderr",
     "output_type": "stream",
     "text": [
      "WARNING:tensorflow:Early stopping conditioned on metric `train_loss` which is not available. Available metrics are: loss,val_loss\n"
     ]
    },
    {
     "name": "stdout",
     "output_type": "stream",
     "text": [
      "45/45 [==============================] - 3s 70ms/step - batch: 22.0000 - size: 32.0000 - loss: 5.0752 - val_loss: 4.9008 - lr: 9.9993e-04\n",
      "Epoch 14/500\n",
      "45/45 [==============================] - ETA: 0s - batch: 22.0000 - size: 32.0000 - loss: 4.8125WARNING:tensorflow:Early stopping conditioned on metric `train_loss` which is not available. Available metrics are: loss,val_loss\n"
     ]
    },
    {
     "name": "stderr",
     "output_type": "stream",
     "text": [
      "WARNING:tensorflow:Early stopping conditioned on metric `train_loss` which is not available. Available metrics are: loss,val_loss\n"
     ]
    },
    {
     "name": "stdout",
     "output_type": "stream",
     "text": [
      "45/45 [==============================] - 3s 70ms/step - batch: 22.0000 - size: 32.0000 - loss: 4.8125 - val_loss: 4.6544 - lr: 9.9987e-04\n",
      "Epoch 15/500\n",
      "45/45 [==============================] - ETA: 0s - batch: 22.0000 - size: 32.0000 - loss: 4.6145WARNING:tensorflow:Early stopping conditioned on metric `train_loss` which is not available. Available metrics are: loss,val_loss\n"
     ]
    },
    {
     "name": "stderr",
     "output_type": "stream",
     "text": [
      "WARNING:tensorflow:Early stopping conditioned on metric `train_loss` which is not available. Available metrics are: loss,val_loss\n"
     ]
    },
    {
     "name": "stdout",
     "output_type": "stream",
     "text": [
      "45/45 [==============================] - 3s 70ms/step - batch: 22.0000 - size: 32.0000 - loss: 4.6145 - val_loss: 4.4726 - lr: 9.9979e-04\n",
      "Epoch 16/500\n",
      "45/45 [==============================] - ETA: 0s - batch: 22.0000 - size: 32.0000 - loss: 4.5044WARNING:tensorflow:Early stopping conditioned on metric `train_loss` which is not available. Available metrics are: loss,val_loss\n"
     ]
    },
    {
     "name": "stderr",
     "output_type": "stream",
     "text": [
      "WARNING:tensorflow:Early stopping conditioned on metric `train_loss` which is not available. Available metrics are: loss,val_loss\n"
     ]
    },
    {
     "name": "stdout",
     "output_type": "stream",
     "text": [
      "45/45 [==============================] - 3s 70ms/step - batch: 22.0000 - size: 32.0000 - loss: 4.5044 - val_loss: 4.3451 - lr: 9.9968e-04\n",
      "Epoch 17/500\n",
      "45/45 [==============================] - ETA: 0s - batch: 22.0000 - size: 32.0000 - loss: 4.3411WARNING:tensorflow:Early stopping conditioned on metric `train_loss` which is not available. Available metrics are: loss,val_loss\n"
     ]
    },
    {
     "name": "stderr",
     "output_type": "stream",
     "text": [
      "WARNING:tensorflow:Early stopping conditioned on metric `train_loss` which is not available. Available metrics are: loss,val_loss\n"
     ]
    },
    {
     "name": "stdout",
     "output_type": "stream",
     "text": [
      "45/45 [==============================] - 3s 71ms/step - batch: 22.0000 - size: 32.0000 - loss: 4.3411 - val_loss: 4.2530 - lr: 9.9956e-04\n",
      "Epoch 18/500\n",
      "45/45 [==============================] - ETA: 0s - batch: 22.0000 - size: 32.0000 - loss: 4.2046WARNING:tensorflow:Early stopping conditioned on metric `train_loss` which is not available. Available metrics are: loss,val_loss\n"
     ]
    },
    {
     "name": "stderr",
     "output_type": "stream",
     "text": [
      "WARNING:tensorflow:Early stopping conditioned on metric `train_loss` which is not available. Available metrics are: loss,val_loss\n"
     ]
    },
    {
     "name": "stdout",
     "output_type": "stream",
     "text": [
      "45/45 [==============================] - 3s 70ms/step - batch: 22.0000 - size: 32.0000 - loss: 4.2046 - val_loss: 4.0907 - lr: 9.9942e-04\n",
      "Epoch 19/500\n",
      "45/45 [==============================] - ETA: 0s - batch: 22.0000 - size: 32.0000 - loss: 4.0692WARNING:tensorflow:Early stopping conditioned on metric `train_loss` which is not available. Available metrics are: loss,val_loss\n"
     ]
    },
    {
     "name": "stderr",
     "output_type": "stream",
     "text": [
      "WARNING:tensorflow:Early stopping conditioned on metric `train_loss` which is not available. Available metrics are: loss,val_loss\n"
     ]
    },
    {
     "name": "stdout",
     "output_type": "stream",
     "text": [
      "45/45 [==============================] - 3s 70ms/step - batch: 22.0000 - size: 32.0000 - loss: 4.0692 - val_loss: 3.9045 - lr: 9.9925e-04\n",
      "Epoch 20/500\n",
      "45/45 [==============================] - ETA: 0s - batch: 22.0000 - size: 32.0000 - loss: 3.8796WARNING:tensorflow:Early stopping conditioned on metric `train_loss` which is not available. Available metrics are: loss,val_loss\n"
     ]
    },
    {
     "name": "stderr",
     "output_type": "stream",
     "text": [
      "WARNING:tensorflow:Early stopping conditioned on metric `train_loss` which is not available. Available metrics are: loss,val_loss\n"
     ]
    },
    {
     "name": "stdout",
     "output_type": "stream",
     "text": [
      "Get map.\n"
     ]
    },
    {
     "name": "stderr",
     "output_type": "stream",
     "text": [
      "100%|██████████| 178/178 [00:01<00:00, 161.67it/s]\n"
     ]
    },
    {
     "name": "stdout",
     "output_type": "stream",
     "text": [
      "Calculate Map.\n",
      "Path '.temp_map_out/results' already exists.\n",
      "63.81% = hand AP \t||\tscore_threhold=0.5 : F1=0.66 ; Recall=55.26% ; Precision=82.68%\n",
      "mAP = 63.81%\n",
      "Path '/home/zhangyouan/桌面/zya/NN_net/network/SSD/IMX_681_ssd_mobilenet_git/keras/detection/SSD_ipynb_transfer_callback_1227hand/output/20240228/loss_2024_06_27_14_24_39' already exists.\n",
      "Get map done.\n",
      "45/45 [==============================] - 5s 120ms/step - batch: 22.0000 - size: 32.0000 - loss: 3.8796 - val_loss: 3.6810 - lr: 9.9906e-04\n",
      "Epoch 21/500\n",
      "45/45 [==============================] - ETA: 0s - batch: 22.0000 - size: 32.0000 - loss: 3.7674WARNING:tensorflow:Early stopping conditioned on metric `train_loss` which is not available. Available metrics are: loss,val_loss\n"
     ]
    },
    {
     "name": "stderr",
     "output_type": "stream",
     "text": [
      "WARNING:tensorflow:Early stopping conditioned on metric `train_loss` which is not available. Available metrics are: loss,val_loss\n"
     ]
    },
    {
     "name": "stdout",
     "output_type": "stream",
     "text": [
      "45/45 [==============================] - 3s 70ms/step - batch: 22.0000 - size: 32.0000 - loss: 3.7674 - val_loss: 3.6891 - lr: 9.9886e-04\n",
      "Epoch 22/500\n",
      "45/45 [==============================] - ETA: 0s - batch: 22.0000 - size: 32.0000 - loss: 3.5930WARNING:tensorflow:Early stopping conditioned on metric `train_loss` which is not available. Available metrics are: loss,val_loss\n"
     ]
    },
    {
     "name": "stderr",
     "output_type": "stream",
     "text": [
      "WARNING:tensorflow:Early stopping conditioned on metric `train_loss` which is not available. Available metrics are: loss,val_loss\n"
     ]
    },
    {
     "name": "stdout",
     "output_type": "stream",
     "text": [
      "45/45 [==============================] - 3s 70ms/step - batch: 22.0000 - size: 32.0000 - loss: 3.5930 - val_loss: 3.4439 - lr: 9.9863e-04\n",
      "Epoch 23/500\n",
      "45/45 [==============================] - ETA: 0s - batch: 22.0000 - size: 32.0000 - loss: 3.4513WARNING:tensorflow:Early stopping conditioned on metric `train_loss` which is not available. Available metrics are: loss,val_loss\n"
     ]
    },
    {
     "name": "stderr",
     "output_type": "stream",
     "text": [
      "WARNING:tensorflow:Early stopping conditioned on metric `train_loss` which is not available. Available metrics are: loss,val_loss\n"
     ]
    },
    {
     "name": "stdout",
     "output_type": "stream",
     "text": [
      "45/45 [==============================] - 3s 70ms/step - batch: 22.0000 - size: 32.0000 - loss: 3.4513 - val_loss: 3.2464 - lr: 9.9838e-04\n",
      "Epoch 24/500\n",
      "45/45 [==============================] - ETA: 0s - batch: 22.0000 - size: 32.0000 - loss: 3.2631WARNING:tensorflow:Early stopping conditioned on metric `train_loss` which is not available. Available metrics are: loss,val_loss\n"
     ]
    },
    {
     "name": "stderr",
     "output_type": "stream",
     "text": [
      "WARNING:tensorflow:Early stopping conditioned on metric `train_loss` which is not available. Available metrics are: loss,val_loss\n"
     ]
    },
    {
     "name": "stdout",
     "output_type": "stream",
     "text": [
      "45/45 [==============================] - 3s 70ms/step - batch: 22.0000 - size: 32.0000 - loss: 3.2631 - val_loss: 3.1487 - lr: 9.9812e-04\n",
      "Epoch 25/500\n",
      "45/45 [==============================] - ETA: 0s - batch: 22.0000 - size: 32.0000 - loss: 3.1526WARNING:tensorflow:Early stopping conditioned on metric `train_loss` which is not available. Available metrics are: loss,val_loss\n"
     ]
    },
    {
     "name": "stderr",
     "output_type": "stream",
     "text": [
      "WARNING:tensorflow:Early stopping conditioned on metric `train_loss` which is not available. Available metrics are: loss,val_loss\n"
     ]
    },
    {
     "name": "stdout",
     "output_type": "stream",
     "text": [
      "45/45 [==============================] - 3s 71ms/step - batch: 22.0000 - size: 32.0000 - loss: 3.1526 - val_loss: 3.0692 - lr: 9.9783e-04\n",
      "Epoch 26/500\n",
      "45/45 [==============================] - ETA: 0s - batch: 22.0000 - size: 32.0000 - loss: 3.0897WARNING:tensorflow:Early stopping conditioned on metric `train_loss` which is not available. Available metrics are: loss,val_loss\n"
     ]
    },
    {
     "name": "stderr",
     "output_type": "stream",
     "text": [
      "WARNING:tensorflow:Early stopping conditioned on metric `train_loss` which is not available. Available metrics are: loss,val_loss\n"
     ]
    },
    {
     "name": "stdout",
     "output_type": "stream",
     "text": [
      "45/45 [==============================] - 3s 71ms/step - batch: 22.0000 - size: 32.0000 - loss: 3.0897 - val_loss: 3.0512 - lr: 9.9752e-04\n",
      "Epoch 27/500\n",
      "45/45 [==============================] - ETA: 0s - batch: 22.0000 - size: 32.0000 - loss: 3.0294WARNING:tensorflow:Early stopping conditioned on metric `train_loss` which is not available. Available metrics are: loss,val_loss\n"
     ]
    },
    {
     "name": "stderr",
     "output_type": "stream",
     "text": [
      "WARNING:tensorflow:Early stopping conditioned on metric `train_loss` which is not available. Available metrics are: loss,val_loss\n"
     ]
    },
    {
     "name": "stdout",
     "output_type": "stream",
     "text": [
      "45/45 [==============================] - 3s 70ms/step - batch: 22.0000 - size: 32.0000 - loss: 3.0294 - val_loss: 3.0578 - lr: 9.9719e-04\n",
      "Epoch 28/500\n",
      "45/45 [==============================] - ETA: 0s - batch: 22.0000 - size: 32.0000 - loss: 2.9050WARNING:tensorflow:Early stopping conditioned on metric `train_loss` which is not available. Available metrics are: loss,val_loss\n"
     ]
    },
    {
     "name": "stderr",
     "output_type": "stream",
     "text": [
      "WARNING:tensorflow:Early stopping conditioned on metric `train_loss` which is not available. Available metrics are: loss,val_loss\n"
     ]
    },
    {
     "name": "stdout",
     "output_type": "stream",
     "text": [
      "45/45 [==============================] - 3s 70ms/step - batch: 22.0000 - size: 32.0000 - loss: 2.9050 - val_loss: 2.8202 - lr: 9.9684e-04\n",
      "Epoch 29/500\n",
      "45/45 [==============================] - ETA: 0s - batch: 22.0000 - size: 32.0000 - loss: 2.8394WARNING:tensorflow:Early stopping conditioned on metric `train_loss` which is not available. Available metrics are: loss,val_loss\n"
     ]
    },
    {
     "name": "stderr",
     "output_type": "stream",
     "text": [
      "WARNING:tensorflow:Early stopping conditioned on metric `train_loss` which is not available. Available metrics are: loss,val_loss\n"
     ]
    },
    {
     "name": "stdout",
     "output_type": "stream",
     "text": [
      "45/45 [==============================] - 3s 71ms/step - batch: 22.0000 - size: 32.0000 - loss: 2.8394 - val_loss: 2.8591 - lr: 9.9647e-04\n",
      "Epoch 30/500\n",
      "45/45 [==============================] - ETA: 0s - batch: 22.0000 - size: 32.0000 - loss: 2.7854WARNING:tensorflow:Early stopping conditioned on metric `train_loss` which is not available. Available metrics are: loss,val_loss\n"
     ]
    },
    {
     "name": "stderr",
     "output_type": "stream",
     "text": [
      "WARNING:tensorflow:Early stopping conditioned on metric `train_loss` which is not available. Available metrics are: loss,val_loss\n"
     ]
    },
    {
     "name": "stdout",
     "output_type": "stream",
     "text": [
      "Get map.\n"
     ]
    },
    {
     "name": "stderr",
     "output_type": "stream",
     "text": [
      "100%|██████████| 178/178 [00:00<00:00, 181.47it/s]\n"
     ]
    },
    {
     "name": "stdout",
     "output_type": "stream",
     "text": [
      "Calculate Map.\n",
      "Path '.temp_map_out/results' already exists.\n",
      "78.78% = hand AP \t||\tscore_threhold=0.5 : F1=0.75 ; Recall=73.16% ; Precision=77.65%\n",
      "mAP = 78.78%\n",
      "Path '/home/zhangyouan/桌面/zya/NN_net/network/SSD/IMX_681_ssd_mobilenet_git/keras/detection/SSD_ipynb_transfer_callback_1227hand/output/20240228/loss_2024_06_27_14_24_39' already exists.\n",
      "Get map done.\n",
      "45/45 [==============================] - 5s 117ms/step - batch: 22.0000 - size: 32.0000 - loss: 2.7854 - val_loss: 2.7542 - lr: 9.9608e-04\n",
      "Epoch 31/500\n",
      "45/45 [==============================] - ETA: 0s - batch: 22.0000 - size: 32.0000 - loss: 2.7508WARNING:tensorflow:Early stopping conditioned on metric `train_loss` which is not available. Available metrics are: loss,val_loss\n"
     ]
    },
    {
     "name": "stderr",
     "output_type": "stream",
     "text": [
      "WARNING:tensorflow:Early stopping conditioned on metric `train_loss` which is not available. Available metrics are: loss,val_loss\n"
     ]
    },
    {
     "name": "stdout",
     "output_type": "stream",
     "text": [
      "45/45 [==============================] - 3s 70ms/step - batch: 22.0000 - size: 32.0000 - loss: 2.7508 - val_loss: 2.7559 - lr: 9.9567e-04\n",
      "Epoch 32/500\n",
      "45/45 [==============================] - ETA: 0s - batch: 22.0000 - size: 32.0000 - loss: 2.7071WARNING:tensorflow:Early stopping conditioned on metric `train_loss` which is not available. Available metrics are: loss,val_loss\n"
     ]
    },
    {
     "name": "stderr",
     "output_type": "stream",
     "text": [
      "WARNING:tensorflow:Early stopping conditioned on metric `train_loss` which is not available. Available metrics are: loss,val_loss\n"
     ]
    },
    {
     "name": "stdout",
     "output_type": "stream",
     "text": [
      "45/45 [==============================] - 3s 70ms/step - batch: 22.0000 - size: 32.0000 - loss: 2.7071 - val_loss: 2.6005 - lr: 9.9523e-04\n",
      "Epoch 33/500\n",
      "45/45 [==============================] - ETA: 0s - batch: 22.0000 - size: 32.0000 - loss: 2.6219WARNING:tensorflow:Early stopping conditioned on metric `train_loss` which is not available. Available metrics are: loss,val_loss\n"
     ]
    },
    {
     "name": "stderr",
     "output_type": "stream",
     "text": [
      "WARNING:tensorflow:Early stopping conditioned on metric `train_loss` which is not available. Available metrics are: loss,val_loss\n"
     ]
    },
    {
     "name": "stdout",
     "output_type": "stream",
     "text": [
      "45/45 [==============================] - 3s 70ms/step - batch: 22.0000 - size: 32.0000 - loss: 2.6219 - val_loss: 2.5865 - lr: 9.9478e-04\n",
      "Epoch 34/500\n",
      "45/45 [==============================] - ETA: 0s - batch: 22.0000 - size: 32.0000 - loss: 2.5095WARNING:tensorflow:Early stopping conditioned on metric `train_loss` which is not available. Available metrics are: loss,val_loss\n"
     ]
    },
    {
     "name": "stderr",
     "output_type": "stream",
     "text": [
      "WARNING:tensorflow:Early stopping conditioned on metric `train_loss` which is not available. Available metrics are: loss,val_loss\n"
     ]
    },
    {
     "name": "stdout",
     "output_type": "stream",
     "text": [
      "45/45 [==============================] - 3s 70ms/step - batch: 22.0000 - size: 32.0000 - loss: 2.5095 - val_loss: 2.5630 - lr: 9.9431e-04\n",
      "Epoch 35/500\n",
      "45/45 [==============================] - ETA: 0s - batch: 22.0000 - size: 32.0000 - loss: 2.4968WARNING:tensorflow:Early stopping conditioned on metric `train_loss` which is not available. Available metrics are: loss,val_loss\n"
     ]
    },
    {
     "name": "stderr",
     "output_type": "stream",
     "text": [
      "WARNING:tensorflow:Early stopping conditioned on metric `train_loss` which is not available. Available metrics are: loss,val_loss\n"
     ]
    },
    {
     "name": "stdout",
     "output_type": "stream",
     "text": [
      "45/45 [==============================] - 3s 70ms/step - batch: 22.0000 - size: 32.0000 - loss: 2.4968 - val_loss: 2.5098 - lr: 9.9382e-04\n",
      "Epoch 36/500\n",
      "45/45 [==============================] - ETA: 0s - batch: 22.0000 - size: 32.0000 - loss: 2.4566WARNING:tensorflow:Early stopping conditioned on metric `train_loss` which is not available. Available metrics are: loss,val_loss\n"
     ]
    },
    {
     "name": "stderr",
     "output_type": "stream",
     "text": [
      "WARNING:tensorflow:Early stopping conditioned on metric `train_loss` which is not available. Available metrics are: loss,val_loss\n"
     ]
    },
    {
     "name": "stdout",
     "output_type": "stream",
     "text": [
      "45/45 [==============================] - 3s 70ms/step - batch: 22.0000 - size: 32.0000 - loss: 2.4566 - val_loss: 2.4905 - lr: 9.9330e-04\n",
      "Epoch 37/500\n",
      "45/45 [==============================] - ETA: 0s - batch: 22.0000 - size: 32.0000 - loss: 2.3931WARNING:tensorflow:Early stopping conditioned on metric `train_loss` which is not available. Available metrics are: loss,val_loss\n"
     ]
    },
    {
     "name": "stderr",
     "output_type": "stream",
     "text": [
      "WARNING:tensorflow:Early stopping conditioned on metric `train_loss` which is not available. Available metrics are: loss,val_loss\n"
     ]
    },
    {
     "name": "stdout",
     "output_type": "stream",
     "text": [
      "45/45 [==============================] - 3s 71ms/step - batch: 22.0000 - size: 32.0000 - loss: 2.3931 - val_loss: 2.4955 - lr: 9.9277e-04\n",
      "Epoch 38/500\n",
      "45/45 [==============================] - ETA: 0s - batch: 22.0000 - size: 32.0000 - loss: 2.4262WARNING:tensorflow:Early stopping conditioned on metric `train_loss` which is not available. Available metrics are: loss,val_loss\n"
     ]
    },
    {
     "name": "stderr",
     "output_type": "stream",
     "text": [
      "WARNING:tensorflow:Early stopping conditioned on metric `train_loss` which is not available. Available metrics are: loss,val_loss\n"
     ]
    },
    {
     "name": "stdout",
     "output_type": "stream",
     "text": [
      "45/45 [==============================] - 3s 70ms/step - batch: 22.0000 - size: 32.0000 - loss: 2.4262 - val_loss: 2.6277 - lr: 9.9222e-04\n",
      "Epoch 39/500\n",
      "45/45 [==============================] - ETA: 0s - batch: 22.0000 - size: 32.0000 - loss: 2.3984WARNING:tensorflow:Early stopping conditioned on metric `train_loss` which is not available. Available metrics are: loss,val_loss\n"
     ]
    },
    {
     "name": "stderr",
     "output_type": "stream",
     "text": [
      "WARNING:tensorflow:Early stopping conditioned on metric `train_loss` which is not available. Available metrics are: loss,val_loss\n"
     ]
    },
    {
     "name": "stdout",
     "output_type": "stream",
     "text": [
      "45/45 [==============================] - 3s 70ms/step - batch: 22.0000 - size: 32.0000 - loss: 2.3984 - val_loss: 2.3863 - lr: 9.9164e-04\n",
      "Epoch 40/500\n",
      "45/45 [==============================] - ETA: 0s - batch: 22.0000 - size: 32.0000 - loss: 2.3081WARNING:tensorflow:Early stopping conditioned on metric `train_loss` which is not available. Available metrics are: loss,val_loss\n"
     ]
    },
    {
     "name": "stderr",
     "output_type": "stream",
     "text": [
      "WARNING:tensorflow:Early stopping conditioned on metric `train_loss` which is not available. Available metrics are: loss,val_loss\n"
     ]
    },
    {
     "name": "stdout",
     "output_type": "stream",
     "text": [
      "Get map.\n"
     ]
    },
    {
     "name": "stderr",
     "output_type": "stream",
     "text": [
      "100%|██████████| 178/178 [00:00<00:00, 205.47it/s]\n"
     ]
    },
    {
     "name": "stdout",
     "output_type": "stream",
     "text": [
      "Calculate Map.\n",
      "Path '.temp_map_out/results' already exists.\n",
      "82.43% = hand AP \t||\tscore_threhold=0.5 : F1=0.81 ; Recall=77.37% ; Precision=85.96%\n",
      "mAP = 82.43%\n",
      "Path '/home/zhangyouan/桌面/zya/NN_net/network/SSD/IMX_681_ssd_mobilenet_git/keras/detection/SSD_ipynb_transfer_callback_1227hand/output/20240228/loss_2024_06_27_14_24_39' already exists.\n",
      "Get map done.\n",
      "45/45 [==============================] - 4s 101ms/step - batch: 22.0000 - size: 32.0000 - loss: 2.3081 - val_loss: 2.4139 - lr: 9.9105e-04\n",
      "Epoch 41/500\n",
      "45/45 [==============================] - ETA: 0s - batch: 22.0000 - size: 32.0000 - loss: 2.2555WARNING:tensorflow:Early stopping conditioned on metric `train_loss` which is not available. Available metrics are: loss,val_loss\n"
     ]
    },
    {
     "name": "stderr",
     "output_type": "stream",
     "text": [
      "WARNING:tensorflow:Early stopping conditioned on metric `train_loss` which is not available. Available metrics are: loss,val_loss\n"
     ]
    },
    {
     "name": "stdout",
     "output_type": "stream",
     "text": [
      "45/45 [==============================] - 3s 70ms/step - batch: 22.0000 - size: 32.0000 - loss: 2.2555 - val_loss: 2.3634 - lr: 9.9043e-04\n",
      "Epoch 42/500\n",
      "45/45 [==============================] - ETA: 0s - batch: 22.0000 - size: 32.0000 - loss: 2.2230WARNING:tensorflow:Early stopping conditioned on metric `train_loss` which is not available. Available metrics are: loss,val_loss\n"
     ]
    },
    {
     "name": "stderr",
     "output_type": "stream",
     "text": [
      "WARNING:tensorflow:Early stopping conditioned on metric `train_loss` which is not available. Available metrics are: loss,val_loss\n"
     ]
    },
    {
     "name": "stdout",
     "output_type": "stream",
     "text": [
      "45/45 [==============================] - 3s 70ms/step - batch: 22.0000 - size: 32.0000 - loss: 2.2230 - val_loss: 2.2807 - lr: 9.8980e-04\n",
      "Epoch 43/500\n",
      "45/45 [==============================] - ETA: 0s - batch: 22.0000 - size: 32.0000 - loss: 2.1962WARNING:tensorflow:Early stopping conditioned on metric `train_loss` which is not available. Available metrics are: loss,val_loss\n"
     ]
    },
    {
     "name": "stderr",
     "output_type": "stream",
     "text": [
      "WARNING:tensorflow:Early stopping conditioned on metric `train_loss` which is not available. Available metrics are: loss,val_loss\n"
     ]
    },
    {
     "name": "stdout",
     "output_type": "stream",
     "text": [
      "45/45 [==============================] - 3s 71ms/step - batch: 22.0000 - size: 32.0000 - loss: 2.1962 - val_loss: 2.3856 - lr: 9.8914e-04\n",
      "Epoch 44/500\n",
      "45/45 [==============================] - ETA: 0s - batch: 22.0000 - size: 32.0000 - loss: 2.1590WARNING:tensorflow:Early stopping conditioned on metric `train_loss` which is not available. Available metrics are: loss,val_loss\n"
     ]
    },
    {
     "name": "stderr",
     "output_type": "stream",
     "text": [
      "WARNING:tensorflow:Early stopping conditioned on metric `train_loss` which is not available. Available metrics are: loss,val_loss\n"
     ]
    },
    {
     "name": "stdout",
     "output_type": "stream",
     "text": [
      "45/45 [==============================] - 3s 70ms/step - batch: 22.0000 - size: 32.0000 - loss: 2.1590 - val_loss: 2.3019 - lr: 9.8847e-04\n",
      "Epoch 45/500\n",
      "45/45 [==============================] - ETA: 0s - batch: 22.0000 - size: 32.0000 - loss: 2.1367WARNING:tensorflow:Early stopping conditioned on metric `train_loss` which is not available. Available metrics are: loss,val_loss\n"
     ]
    },
    {
     "name": "stderr",
     "output_type": "stream",
     "text": [
      "WARNING:tensorflow:Early stopping conditioned on metric `train_loss` which is not available. Available metrics are: loss,val_loss\n"
     ]
    },
    {
     "name": "stdout",
     "output_type": "stream",
     "text": [
      "45/45 [==============================] - 3s 71ms/step - batch: 22.0000 - size: 32.0000 - loss: 2.1367 - val_loss: 2.2834 - lr: 9.8777e-04\n",
      "Epoch 46/500\n",
      "45/45 [==============================] - ETA: 0s - batch: 22.0000 - size: 32.0000 - loss: 2.1008WARNING:tensorflow:Early stopping conditioned on metric `train_loss` which is not available. Available metrics are: loss,val_loss\n"
     ]
    },
    {
     "name": "stderr",
     "output_type": "stream",
     "text": [
      "WARNING:tensorflow:Early stopping conditioned on metric `train_loss` which is not available. Available metrics are: loss,val_loss\n"
     ]
    },
    {
     "name": "stdout",
     "output_type": "stream",
     "text": [
      "45/45 [==============================] - 3s 71ms/step - batch: 22.0000 - size: 32.0000 - loss: 2.1008 - val_loss: 2.2114 - lr: 9.8706e-04\n",
      "Epoch 47/500\n",
      "45/45 [==============================] - ETA: 0s - batch: 22.0000 - size: 32.0000 - loss: 2.0839WARNING:tensorflow:Early stopping conditioned on metric `train_loss` which is not available. Available metrics are: loss,val_loss\n"
     ]
    },
    {
     "name": "stderr",
     "output_type": "stream",
     "text": [
      "WARNING:tensorflow:Early stopping conditioned on metric `train_loss` which is not available. Available metrics are: loss,val_loss\n"
     ]
    },
    {
     "name": "stdout",
     "output_type": "stream",
     "text": [
      "45/45 [==============================] - 3s 70ms/step - batch: 22.0000 - size: 32.0000 - loss: 2.0839 - val_loss: 2.2315 - lr: 9.8632e-04\n",
      "Epoch 48/500\n",
      "45/45 [==============================] - ETA: 0s - batch: 22.0000 - size: 32.0000 - loss: 2.0981WARNING:tensorflow:Early stopping conditioned on metric `train_loss` which is not available. Available metrics are: loss,val_loss\n"
     ]
    },
    {
     "name": "stderr",
     "output_type": "stream",
     "text": [
      "WARNING:tensorflow:Early stopping conditioned on metric `train_loss` which is not available. Available metrics are: loss,val_loss\n"
     ]
    },
    {
     "name": "stdout",
     "output_type": "stream",
     "text": [
      "45/45 [==============================] - 3s 70ms/step - batch: 22.0000 - size: 32.0000 - loss: 2.0981 - val_loss: 2.4127 - lr: 9.8557e-04\n",
      "Epoch 49/500\n",
      "45/45 [==============================] - ETA: 0s - batch: 22.0000 - size: 32.0000 - loss: 2.0772WARNING:tensorflow:Early stopping conditioned on metric `train_loss` which is not available. Available metrics are: loss,val_loss\n"
     ]
    },
    {
     "name": "stderr",
     "output_type": "stream",
     "text": [
      "WARNING:tensorflow:Early stopping conditioned on metric `train_loss` which is not available. Available metrics are: loss,val_loss\n"
     ]
    },
    {
     "name": "stdout",
     "output_type": "stream",
     "text": [
      "45/45 [==============================] - 3s 70ms/step - batch: 22.0000 - size: 32.0000 - loss: 2.0772 - val_loss: 2.1852 - lr: 9.8479e-04\n",
      "Epoch 50/500\n",
      "45/45 [==============================] - ETA: 0s - batch: 22.0000 - size: 32.0000 - loss: 2.0048WARNING:tensorflow:Early stopping conditioned on metric `train_loss` which is not available. Available metrics are: loss,val_loss\n"
     ]
    },
    {
     "name": "stderr",
     "output_type": "stream",
     "text": [
      "WARNING:tensorflow:Early stopping conditioned on metric `train_loss` which is not available. Available metrics are: loss,val_loss\n"
     ]
    },
    {
     "name": "stdout",
     "output_type": "stream",
     "text": [
      "Get map.\n"
     ]
    },
    {
     "name": "stderr",
     "output_type": "stream",
     "text": [
      "100%|██████████| 178/178 [00:00<00:00, 210.58it/s]\n"
     ]
    },
    {
     "name": "stdout",
     "output_type": "stream",
     "text": [
      "Calculate Map.\n",
      "Path '.temp_map_out/results' already exists.\n",
      "83.57% = hand AP \t||\tscore_threhold=0.5 : F1=0.83 ; Recall=78.42% ; Precision=88.69%\n",
      "mAP = 83.57%\n",
      "Path '/home/zhangyouan/桌面/zya/NN_net/network/SSD/IMX_681_ssd_mobilenet_git/keras/detection/SSD_ipynb_transfer_callback_1227hand/output/20240228/loss_2024_06_27_14_24_39' already exists.\n",
      "Get map done.\n",
      "45/45 [==============================] - 4s 95ms/step - batch: 22.0000 - size: 32.0000 - loss: 2.0048 - val_loss: 2.2822 - lr: 9.8400e-04\n",
      "Epoch 51/500\n",
      "45/45 [==============================] - ETA: 0s - batch: 22.0000 - size: 32.0000 - loss: 2.0226WARNING:tensorflow:Early stopping conditioned on metric `train_loss` which is not available. Available metrics are: loss,val_loss\n"
     ]
    },
    {
     "name": "stderr",
     "output_type": "stream",
     "text": [
      "WARNING:tensorflow:Early stopping conditioned on metric `train_loss` which is not available. Available metrics are: loss,val_loss\n"
     ]
    },
    {
     "name": "stdout",
     "output_type": "stream",
     "text": [
      "45/45 [==============================] - 3s 71ms/step - batch: 22.0000 - size: 32.0000 - loss: 2.0226 - val_loss: 2.2281 - lr: 9.8318e-04\n",
      "Epoch 52/500\n",
      "45/45 [==============================] - ETA: 0s - batch: 22.0000 - size: 32.0000 - loss: 1.9970WARNING:tensorflow:Early stopping conditioned on metric `train_loss` which is not available. Available metrics are: loss,val_loss\n"
     ]
    },
    {
     "name": "stderr",
     "output_type": "stream",
     "text": [
      "WARNING:tensorflow:Early stopping conditioned on metric `train_loss` which is not available. Available metrics are: loss,val_loss\n"
     ]
    },
    {
     "name": "stdout",
     "output_type": "stream",
     "text": [
      "45/45 [==============================] - 3s 71ms/step - batch: 22.0000 - size: 32.0000 - loss: 1.9970 - val_loss: 2.1605 - lr: 9.8235e-04\n",
      "Epoch 53/500\n",
      "45/45 [==============================] - ETA: 0s - batch: 22.0000 - size: 32.0000 - loss: 1.9460WARNING:tensorflow:Early stopping conditioned on metric `train_loss` which is not available. Available metrics are: loss,val_loss\n"
     ]
    },
    {
     "name": "stderr",
     "output_type": "stream",
     "text": [
      "WARNING:tensorflow:Early stopping conditioned on metric `train_loss` which is not available. Available metrics are: loss,val_loss\n"
     ]
    },
    {
     "name": "stdout",
     "output_type": "stream",
     "text": [
      "45/45 [==============================] - 3s 70ms/step - batch: 22.0000 - size: 32.0000 - loss: 1.9460 - val_loss: 2.1629 - lr: 9.8149e-04\n",
      "Epoch 54/500\n",
      "45/45 [==============================] - ETA: 0s - batch: 22.0000 - size: 32.0000 - loss: 1.9116WARNING:tensorflow:Early stopping conditioned on metric `train_loss` which is not available. Available metrics are: loss,val_loss\n"
     ]
    },
    {
     "name": "stderr",
     "output_type": "stream",
     "text": [
      "WARNING:tensorflow:Early stopping conditioned on metric `train_loss` which is not available. Available metrics are: loss,val_loss\n"
     ]
    },
    {
     "name": "stdout",
     "output_type": "stream",
     "text": [
      "45/45 [==============================] - 3s 70ms/step - batch: 22.0000 - size: 32.0000 - loss: 1.9116 - val_loss: 2.1991 - lr: 9.8062e-04\n",
      "Epoch 55/500\n",
      "45/45 [==============================] - ETA: 0s - batch: 22.0000 - size: 32.0000 - loss: 1.9140WARNING:tensorflow:Early stopping conditioned on metric `train_loss` which is not available. Available metrics are: loss,val_loss\n"
     ]
    },
    {
     "name": "stderr",
     "output_type": "stream",
     "text": [
      "WARNING:tensorflow:Early stopping conditioned on metric `train_loss` which is not available. Available metrics are: loss,val_loss\n"
     ]
    },
    {
     "name": "stdout",
     "output_type": "stream",
     "text": [
      "45/45 [==============================] - 3s 70ms/step - batch: 22.0000 - size: 32.0000 - loss: 1.9140 - val_loss: 2.0952 - lr: 9.7972e-04\n",
      "Epoch 56/500\n",
      "45/45 [==============================] - ETA: 0s - batch: 22.0000 - size: 32.0000 - loss: 1.8668WARNING:tensorflow:Early stopping conditioned on metric `train_loss` which is not available. Available metrics are: loss,val_loss\n"
     ]
    },
    {
     "name": "stderr",
     "output_type": "stream",
     "text": [
      "WARNING:tensorflow:Early stopping conditioned on metric `train_loss` which is not available. Available metrics are: loss,val_loss\n"
     ]
    },
    {
     "name": "stdout",
     "output_type": "stream",
     "text": [
      "45/45 [==============================] - 3s 70ms/step - batch: 22.0000 - size: 32.0000 - loss: 1.8668 - val_loss: 2.0871 - lr: 9.7881e-04\n",
      "Epoch 57/500\n",
      "45/45 [==============================] - ETA: 0s - batch: 22.0000 - size: 32.0000 - loss: 1.8759WARNING:tensorflow:Early stopping conditioned on metric `train_loss` which is not available. Available metrics are: loss,val_loss\n"
     ]
    },
    {
     "name": "stderr",
     "output_type": "stream",
     "text": [
      "WARNING:tensorflow:Early stopping conditioned on metric `train_loss` which is not available. Available metrics are: loss,val_loss\n"
     ]
    },
    {
     "name": "stdout",
     "output_type": "stream",
     "text": [
      "45/45 [==============================] - 3s 70ms/step - batch: 22.0000 - size: 32.0000 - loss: 1.8759 - val_loss: 2.0880 - lr: 9.7787e-04\n",
      "Epoch 58/500\n",
      "45/45 [==============================] - ETA: 0s - batch: 22.0000 - size: 32.0000 - loss: 1.8429WARNING:tensorflow:Early stopping conditioned on metric `train_loss` which is not available. Available metrics are: loss,val_loss\n"
     ]
    },
    {
     "name": "stderr",
     "output_type": "stream",
     "text": [
      "WARNING:tensorflow:Early stopping conditioned on metric `train_loss` which is not available. Available metrics are: loss,val_loss\n"
     ]
    },
    {
     "name": "stdout",
     "output_type": "stream",
     "text": [
      "45/45 [==============================] - 3s 70ms/step - batch: 22.0000 - size: 32.0000 - loss: 1.8429 - val_loss: 2.0868 - lr: 9.7692e-04\n",
      "Epoch 59/500\n",
      "45/45 [==============================] - ETA: 0s - batch: 22.0000 - size: 32.0000 - loss: 1.8621WARNING:tensorflow:Early stopping conditioned on metric `train_loss` which is not available. Available metrics are: loss,val_loss\n"
     ]
    },
    {
     "name": "stderr",
     "output_type": "stream",
     "text": [
      "WARNING:tensorflow:Early stopping conditioned on metric `train_loss` which is not available. Available metrics are: loss,val_loss\n"
     ]
    },
    {
     "name": "stdout",
     "output_type": "stream",
     "text": [
      "45/45 [==============================] - 3s 71ms/step - batch: 22.0000 - size: 32.0000 - loss: 1.8621 - val_loss: 2.1260 - lr: 9.7595e-04\n",
      "Epoch 60/500\n",
      "45/45 [==============================] - ETA: 0s - batch: 22.0000 - size: 32.0000 - loss: 1.8273WARNING:tensorflow:Early stopping conditioned on metric `train_loss` which is not available. Available metrics are: loss,val_loss\n"
     ]
    },
    {
     "name": "stderr",
     "output_type": "stream",
     "text": [
      "WARNING:tensorflow:Early stopping conditioned on metric `train_loss` which is not available. Available metrics are: loss,val_loss\n"
     ]
    },
    {
     "name": "stdout",
     "output_type": "stream",
     "text": [
      "Get map.\n"
     ]
    },
    {
     "name": "stderr",
     "output_type": "stream",
     "text": [
      "100%|██████████| 178/178 [00:00<00:00, 202.82it/s]\n"
     ]
    },
    {
     "name": "stdout",
     "output_type": "stream",
     "text": [
      "Calculate Map.\n",
      "Path '.temp_map_out/results' already exists.\n",
      "85.30% = hand AP \t||\tscore_threhold=0.5 : F1=0.82 ; Recall=83.16% ; Precision=80.20%\n",
      "mAP = 85.30%\n",
      "Path '/home/zhangyouan/桌面/zya/NN_net/network/SSD/IMX_681_ssd_mobilenet_git/keras/detection/SSD_ipynb_transfer_callback_1227hand/output/20240228/loss_2024_06_27_14_24_39' already exists.\n",
      "Get map done.\n",
      "45/45 [==============================] - 4s 96ms/step - batch: 22.0000 - size: 32.0000 - loss: 1.8273 - val_loss: 2.0884 - lr: 9.7495e-04\n",
      "Epoch 61/500\n",
      "45/45 [==============================] - ETA: 0s - batch: 22.0000 - size: 32.0000 - loss: 1.7825WARNING:tensorflow:Early stopping conditioned on metric `train_loss` which is not available. Available metrics are: loss,val_loss\n"
     ]
    },
    {
     "name": "stderr",
     "output_type": "stream",
     "text": [
      "WARNING:tensorflow:Early stopping conditioned on metric `train_loss` which is not available. Available metrics are: loss,val_loss\n"
     ]
    },
    {
     "name": "stdout",
     "output_type": "stream",
     "text": [
      "45/45 [==============================] - 3s 70ms/step - batch: 22.0000 - size: 32.0000 - loss: 1.7825 - val_loss: 2.0630 - lr: 9.7394e-04\n",
      "Epoch 62/500\n",
      "45/45 [==============================] - ETA: 0s - batch: 22.0000 - size: 32.0000 - loss: 1.7985WARNING:tensorflow:Early stopping conditioned on metric `train_loss` which is not available. Available metrics are: loss,val_loss\n"
     ]
    },
    {
     "name": "stderr",
     "output_type": "stream",
     "text": [
      "WARNING:tensorflow:Early stopping conditioned on metric `train_loss` which is not available. Available metrics are: loss,val_loss\n"
     ]
    },
    {
     "name": "stdout",
     "output_type": "stream",
     "text": [
      "45/45 [==============================] - 3s 70ms/step - batch: 22.0000 - size: 32.0000 - loss: 1.7985 - val_loss: 2.1211 - lr: 9.7291e-04\n",
      "Epoch 63/500\n",
      "45/45 [==============================] - ETA: 0s - batch: 22.0000 - size: 32.0000 - loss: 1.8231WARNING:tensorflow:Early stopping conditioned on metric `train_loss` which is not available. Available metrics are: loss,val_loss\n"
     ]
    },
    {
     "name": "stderr",
     "output_type": "stream",
     "text": [
      "WARNING:tensorflow:Early stopping conditioned on metric `train_loss` which is not available. Available metrics are: loss,val_loss\n"
     ]
    },
    {
     "name": "stdout",
     "output_type": "stream",
     "text": [
      "45/45 [==============================] - 3s 70ms/step - batch: 22.0000 - size: 32.0000 - loss: 1.8231 - val_loss: 2.0596 - lr: 9.7186e-04\n",
      "Epoch 64/500\n",
      "45/45 [==============================] - ETA: 0s - batch: 22.0000 - size: 32.0000 - loss: 1.7591WARNING:tensorflow:Early stopping conditioned on metric `train_loss` which is not available. Available metrics are: loss,val_loss\n"
     ]
    },
    {
     "name": "stderr",
     "output_type": "stream",
     "text": [
      "WARNING:tensorflow:Early stopping conditioned on metric `train_loss` which is not available. Available metrics are: loss,val_loss\n"
     ]
    },
    {
     "name": "stdout",
     "output_type": "stream",
     "text": [
      "45/45 [==============================] - 3s 70ms/step - batch: 22.0000 - size: 32.0000 - loss: 1.7591 - val_loss: 2.0287 - lr: 9.7078e-04\n",
      "Epoch 65/500\n",
      "45/45 [==============================] - ETA: 0s - batch: 22.0000 - size: 32.0000 - loss: 1.7776WARNING:tensorflow:Early stopping conditioned on metric `train_loss` which is not available. Available metrics are: loss,val_loss\n"
     ]
    },
    {
     "name": "stderr",
     "output_type": "stream",
     "text": [
      "WARNING:tensorflow:Early stopping conditioned on metric `train_loss` which is not available. Available metrics are: loss,val_loss\n"
     ]
    },
    {
     "name": "stdout",
     "output_type": "stream",
     "text": [
      "45/45 [==============================] - 3s 70ms/step - batch: 22.0000 - size: 32.0000 - loss: 1.7776 - val_loss: 2.0827 - lr: 9.6969e-04\n",
      "Epoch 66/500\n",
      "45/45 [==============================] - ETA: 0s - batch: 22.0000 - size: 32.0000 - loss: 1.7533WARNING:tensorflow:Early stopping conditioned on metric `train_loss` which is not available. Available metrics are: loss,val_loss\n"
     ]
    },
    {
     "name": "stderr",
     "output_type": "stream",
     "text": [
      "WARNING:tensorflow:Early stopping conditioned on metric `train_loss` which is not available. Available metrics are: loss,val_loss\n"
     ]
    },
    {
     "name": "stdout",
     "output_type": "stream",
     "text": [
      "45/45 [==============================] - 3s 70ms/step - batch: 22.0000 - size: 32.0000 - loss: 1.7533 - val_loss: 2.0433 - lr: 9.6858e-04\n",
      "Epoch 67/500\n",
      "45/45 [==============================] - ETA: 0s - batch: 22.0000 - size: 32.0000 - loss: 1.7334WARNING:tensorflow:Early stopping conditioned on metric `train_loss` which is not available. Available metrics are: loss,val_loss\n"
     ]
    },
    {
     "name": "stderr",
     "output_type": "stream",
     "text": [
      "WARNING:tensorflow:Early stopping conditioned on metric `train_loss` which is not available. Available metrics are: loss,val_loss\n"
     ]
    },
    {
     "name": "stdout",
     "output_type": "stream",
     "text": [
      "45/45 [==============================] - 3s 71ms/step - batch: 22.0000 - size: 32.0000 - loss: 1.7334 - val_loss: 2.0560 - lr: 9.6746e-04\n",
      "Epoch 68/500\n",
      "45/45 [==============================] - ETA: 0s - batch: 22.0000 - size: 32.0000 - loss: 1.7898WARNING:tensorflow:Early stopping conditioned on metric `train_loss` which is not available. Available metrics are: loss,val_loss\n"
     ]
    },
    {
     "name": "stderr",
     "output_type": "stream",
     "text": [
      "WARNING:tensorflow:Early stopping conditioned on metric `train_loss` which is not available. Available metrics are: loss,val_loss\n"
     ]
    },
    {
     "name": "stdout",
     "output_type": "stream",
     "text": [
      "45/45 [==============================] - 3s 71ms/step - batch: 22.0000 - size: 32.0000 - loss: 1.7898 - val_loss: 2.1062 - lr: 9.6631e-04\n",
      "Epoch 69/500\n",
      "45/45 [==============================] - ETA: 0s - batch: 22.0000 - size: 32.0000 - loss: 1.6989WARNING:tensorflow:Early stopping conditioned on metric `train_loss` which is not available. Available metrics are: loss,val_loss\n"
     ]
    },
    {
     "name": "stderr",
     "output_type": "stream",
     "text": [
      "WARNING:tensorflow:Early stopping conditioned on metric `train_loss` which is not available. Available metrics are: loss,val_loss\n"
     ]
    },
    {
     "name": "stdout",
     "output_type": "stream",
     "text": [
      "45/45 [==============================] - 3s 70ms/step - batch: 22.0000 - size: 32.0000 - loss: 1.6989 - val_loss: 1.9801 - lr: 9.6514e-04\n",
      "Epoch 70/500\n",
      "45/45 [==============================] - ETA: 0s - batch: 22.0000 - size: 32.0000 - loss: 1.6627WARNING:tensorflow:Early stopping conditioned on metric `train_loss` which is not available. Available metrics are: loss,val_loss\n"
     ]
    },
    {
     "name": "stderr",
     "output_type": "stream",
     "text": [
      "WARNING:tensorflow:Early stopping conditioned on metric `train_loss` which is not available. Available metrics are: loss,val_loss\n"
     ]
    },
    {
     "name": "stdout",
     "output_type": "stream",
     "text": [
      "Get map.\n"
     ]
    },
    {
     "name": "stderr",
     "output_type": "stream",
     "text": [
      "100%|██████████| 178/178 [00:00<00:00, 205.72it/s]\n"
     ]
    },
    {
     "name": "stdout",
     "output_type": "stream",
     "text": [
      "Calculate Map.\n",
      "Path '.temp_map_out/results' already exists.\n",
      "85.99% = hand AP \t||\tscore_threhold=0.5 : F1=0.82 ; Recall=83.68% ; Precision=80.71%\n",
      "mAP = 85.99%\n",
      "Path '/home/zhangyouan/桌面/zya/NN_net/network/SSD/IMX_681_ssd_mobilenet_git/keras/detection/SSD_ipynb_transfer_callback_1227hand/output/20240228/loss_2024_06_27_14_24_39' already exists.\n",
      "Get map done.\n",
      "45/45 [==============================] - 4s 97ms/step - batch: 22.0000 - size: 32.0000 - loss: 1.6627 - val_loss: 2.0234 - lr: 9.6395e-04\n",
      "Epoch 71/500\n",
      "45/45 [==============================] - ETA: 0s - batch: 22.0000 - size: 32.0000 - loss: 1.6560WARNING:tensorflow:Early stopping conditioned on metric `train_loss` which is not available. Available metrics are: loss,val_loss\n"
     ]
    },
    {
     "name": "stderr",
     "output_type": "stream",
     "text": [
      "WARNING:tensorflow:Early stopping conditioned on metric `train_loss` which is not available. Available metrics are: loss,val_loss\n"
     ]
    },
    {
     "name": "stdout",
     "output_type": "stream",
     "text": [
      "45/45 [==============================] - 3s 70ms/step - batch: 22.0000 - size: 32.0000 - loss: 1.6560 - val_loss: 1.9773 - lr: 9.6275e-04\n",
      "Epoch 72/500\n",
      "45/45 [==============================] - ETA: 0s - batch: 22.0000 - size: 32.0000 - loss: 1.6447WARNING:tensorflow:Early stopping conditioned on metric `train_loss` which is not available. Available metrics are: loss,val_loss\n"
     ]
    },
    {
     "name": "stderr",
     "output_type": "stream",
     "text": [
      "WARNING:tensorflow:Early stopping conditioned on metric `train_loss` which is not available. Available metrics are: loss,val_loss\n"
     ]
    },
    {
     "name": "stdout",
     "output_type": "stream",
     "text": [
      "45/45 [==============================] - 3s 70ms/step - batch: 22.0000 - size: 32.0000 - loss: 1.6447 - val_loss: 1.9790 - lr: 9.6152e-04\n",
      "Epoch 73/500\n",
      "45/45 [==============================] - ETA: 0s - batch: 22.0000 - size: 32.0000 - loss: 1.6441WARNING:tensorflow:Early stopping conditioned on metric `train_loss` which is not available. Available metrics are: loss,val_loss\n"
     ]
    },
    {
     "name": "stderr",
     "output_type": "stream",
     "text": [
      "WARNING:tensorflow:Early stopping conditioned on metric `train_loss` which is not available. Available metrics are: loss,val_loss\n"
     ]
    },
    {
     "name": "stdout",
     "output_type": "stream",
     "text": [
      "45/45 [==============================] - 3s 70ms/step - batch: 22.0000 - size: 32.0000 - loss: 1.6441 - val_loss: 2.0220 - lr: 9.6028e-04\n",
      "Epoch 74/500\n",
      "45/45 [==============================] - ETA: 0s - batch: 22.0000 - size: 32.0000 - loss: 1.6056WARNING:tensorflow:Early stopping conditioned on metric `train_loss` which is not available. Available metrics are: loss,val_loss\n"
     ]
    },
    {
     "name": "stderr",
     "output_type": "stream",
     "text": [
      "WARNING:tensorflow:Early stopping conditioned on metric `train_loss` which is not available. Available metrics are: loss,val_loss\n"
     ]
    },
    {
     "name": "stdout",
     "output_type": "stream",
     "text": [
      "45/45 [==============================] - 3s 70ms/step - batch: 22.0000 - size: 32.0000 - loss: 1.6056 - val_loss: 2.0202 - lr: 9.5902e-04\n",
      "Epoch 75/500\n",
      "45/45 [==============================] - ETA: 0s - batch: 22.0000 - size: 32.0000 - loss: 1.6413WARNING:tensorflow:Early stopping conditioned on metric `train_loss` which is not available. Available metrics are: loss,val_loss\n"
     ]
    },
    {
     "name": "stderr",
     "output_type": "stream",
     "text": [
      "WARNING:tensorflow:Early stopping conditioned on metric `train_loss` which is not available. Available metrics are: loss,val_loss\n"
     ]
    },
    {
     "name": "stdout",
     "output_type": "stream",
     "text": [
      "45/45 [==============================] - 3s 70ms/step - batch: 22.0000 - size: 32.0000 - loss: 1.6413 - val_loss: 2.0545 - lr: 9.5773e-04\n",
      "Epoch 76/500\n",
      "45/45 [==============================] - ETA: 0s - batch: 22.0000 - size: 32.0000 - loss: 1.6097WARNING:tensorflow:Early stopping conditioned on metric `train_loss` which is not available. Available metrics are: loss,val_loss\n"
     ]
    },
    {
     "name": "stderr",
     "output_type": "stream",
     "text": [
      "WARNING:tensorflow:Early stopping conditioned on metric `train_loss` which is not available. Available metrics are: loss,val_loss\n"
     ]
    },
    {
     "name": "stdout",
     "output_type": "stream",
     "text": [
      "45/45 [==============================] - 3s 73ms/step - batch: 22.0000 - size: 32.0000 - loss: 1.6097 - val_loss: 2.0115 - lr: 9.5643e-04\n",
      "Epoch 77/500\n",
      "45/45 [==============================] - ETA: 0s - batch: 22.0000 - size: 32.0000 - loss: 1.6225WARNING:tensorflow:Early stopping conditioned on metric `train_loss` which is not available. Available metrics are: loss,val_loss\n"
     ]
    },
    {
     "name": "stderr",
     "output_type": "stream",
     "text": [
      "WARNING:tensorflow:Early stopping conditioned on metric `train_loss` which is not available. Available metrics are: loss,val_loss\n"
     ]
    },
    {
     "name": "stdout",
     "output_type": "stream",
     "text": [
      "45/45 [==============================] - 3s 70ms/step - batch: 22.0000 - size: 32.0000 - loss: 1.6225 - val_loss: 2.1221 - lr: 9.5511e-04\n",
      "Epoch 78/500\n",
      "45/45 [==============================] - ETA: 0s - batch: 22.0000 - size: 32.0000 - loss: 1.6343WARNING:tensorflow:Early stopping conditioned on metric `train_loss` which is not available. Available metrics are: loss,val_loss\n"
     ]
    },
    {
     "name": "stderr",
     "output_type": "stream",
     "text": [
      "WARNING:tensorflow:Early stopping conditioned on metric `train_loss` which is not available. Available metrics are: loss,val_loss\n"
     ]
    },
    {
     "name": "stdout",
     "output_type": "stream",
     "text": [
      "45/45 [==============================] - 3s 70ms/step - batch: 22.0000 - size: 32.0000 - loss: 1.6343 - val_loss: 1.9451 - lr: 9.5378e-04\n",
      "Epoch 79/500\n",
      "45/45 [==============================] - ETA: 0s - batch: 22.0000 - size: 32.0000 - loss: 1.5888WARNING:tensorflow:Early stopping conditioned on metric `train_loss` which is not available. Available metrics are: loss,val_loss\n"
     ]
    },
    {
     "name": "stderr",
     "output_type": "stream",
     "text": [
      "WARNING:tensorflow:Early stopping conditioned on metric `train_loss` which is not available. Available metrics are: loss,val_loss\n"
     ]
    },
    {
     "name": "stdout",
     "output_type": "stream",
     "text": [
      "45/45 [==============================] - 3s 70ms/step - batch: 22.0000 - size: 32.0000 - loss: 1.5888 - val_loss: 1.9802 - lr: 9.5242e-04\n",
      "Epoch 80/500\n",
      "45/45 [==============================] - ETA: 0s - batch: 22.0000 - size: 32.0000 - loss: 1.5693WARNING:tensorflow:Early stopping conditioned on metric `train_loss` which is not available. Available metrics are: loss,val_loss\n"
     ]
    },
    {
     "name": "stderr",
     "output_type": "stream",
     "text": [
      "WARNING:tensorflow:Early stopping conditioned on metric `train_loss` which is not available. Available metrics are: loss,val_loss\n"
     ]
    },
    {
     "name": "stdout",
     "output_type": "stream",
     "text": [
      "Get map.\n"
     ]
    },
    {
     "name": "stderr",
     "output_type": "stream",
     "text": [
      "100%|██████████| 178/178 [00:00<00:00, 204.26it/s]\n"
     ]
    },
    {
     "name": "stdout",
     "output_type": "stream",
     "text": [
      "Calculate Map.\n",
      "Path '.temp_map_out/results' already exists.\n",
      "85.61% = hand AP \t||\tscore_threhold=0.5 : F1=0.85 ; Recall=83.68% ; Precision=86.41%\n",
      "mAP = 85.61%\n",
      "Path '/home/zhangyouan/桌面/zya/NN_net/network/SSD/IMX_681_ssd_mobilenet_git/keras/detection/SSD_ipynb_transfer_callback_1227hand/output/20240228/loss_2024_06_27_14_24_39' already exists.\n",
      "Get map done.\n",
      "45/45 [==============================] - 4s 96ms/step - batch: 22.0000 - size: 32.0000 - loss: 1.5693 - val_loss: 1.9747 - lr: 9.5104e-04\n",
      "Epoch 81/500\n",
      "45/45 [==============================] - ETA: 0s - batch: 22.0000 - size: 32.0000 - loss: 1.5514WARNING:tensorflow:Early stopping conditioned on metric `train_loss` which is not available. Available metrics are: loss,val_loss\n"
     ]
    },
    {
     "name": "stderr",
     "output_type": "stream",
     "text": [
      "WARNING:tensorflow:Early stopping conditioned on metric `train_loss` which is not available. Available metrics are: loss,val_loss\n"
     ]
    },
    {
     "name": "stdout",
     "output_type": "stream",
     "text": [
      "45/45 [==============================] - 3s 70ms/step - batch: 22.0000 - size: 32.0000 - loss: 1.5514 - val_loss: 1.9558 - lr: 9.4965e-04\n",
      "Epoch 82/500\n",
      "45/45 [==============================] - ETA: 0s - batch: 22.0000 - size: 32.0000 - loss: 1.5218WARNING:tensorflow:Early stopping conditioned on metric `train_loss` which is not available. Available metrics are: loss,val_loss\n"
     ]
    },
    {
     "name": "stderr",
     "output_type": "stream",
     "text": [
      "WARNING:tensorflow:Early stopping conditioned on metric `train_loss` which is not available. Available metrics are: loss,val_loss\n"
     ]
    },
    {
     "name": "stdout",
     "output_type": "stream",
     "text": [
      "45/45 [==============================] - 3s 71ms/step - batch: 22.0000 - size: 32.0000 - loss: 1.5218 - val_loss: 2.0332 - lr: 9.4824e-04\n",
      "Epoch 83/500\n",
      "45/45 [==============================] - ETA: 0s - batch: 22.0000 - size: 32.0000 - loss: 1.5238WARNING:tensorflow:Early stopping conditioned on metric `train_loss` which is not available. Available metrics are: loss,val_loss\n"
     ]
    },
    {
     "name": "stderr",
     "output_type": "stream",
     "text": [
      "WARNING:tensorflow:Early stopping conditioned on metric `train_loss` which is not available. Available metrics are: loss,val_loss\n"
     ]
    },
    {
     "name": "stdout",
     "output_type": "stream",
     "text": [
      "45/45 [==============================] - 3s 70ms/step - batch: 22.0000 - size: 32.0000 - loss: 1.5238 - val_loss: 1.9789 - lr: 9.4681e-04\n",
      "Epoch 84/500\n",
      "45/45 [==============================] - ETA: 0s - batch: 22.0000 - size: 32.0000 - loss: 1.5163WARNING:tensorflow:Early stopping conditioned on metric `train_loss` which is not available. Available metrics are: loss,val_loss\n"
     ]
    },
    {
     "name": "stderr",
     "output_type": "stream",
     "text": [
      "WARNING:tensorflow:Early stopping conditioned on metric `train_loss` which is not available. Available metrics are: loss,val_loss\n"
     ]
    },
    {
     "name": "stdout",
     "output_type": "stream",
     "text": [
      "45/45 [==============================] - 3s 70ms/step - batch: 22.0000 - size: 32.0000 - loss: 1.5163 - val_loss: 1.9594 - lr: 9.4536e-04\n",
      "Epoch 85/500\n",
      "45/45 [==============================] - ETA: 0s - batch: 22.0000 - size: 32.0000 - loss: 1.5003WARNING:tensorflow:Early stopping conditioned on metric `train_loss` which is not available. Available metrics are: loss,val_loss\n"
     ]
    },
    {
     "name": "stderr",
     "output_type": "stream",
     "text": [
      "WARNING:tensorflow:Early stopping conditioned on metric `train_loss` which is not available. Available metrics are: loss,val_loss\n"
     ]
    },
    {
     "name": "stdout",
     "output_type": "stream",
     "text": [
      "45/45 [==============================] - 3s 70ms/step - batch: 22.0000 - size: 32.0000 - loss: 1.5003 - val_loss: 2.0444 - lr: 9.4389e-04\n",
      "Epoch 86/500\n",
      "45/45 [==============================] - ETA: 0s - batch: 22.0000 - size: 32.0000 - loss: 1.5201WARNING:tensorflow:Early stopping conditioned on metric `train_loss` which is not available. Available metrics are: loss,val_loss\n"
     ]
    },
    {
     "name": "stderr",
     "output_type": "stream",
     "text": [
      "WARNING:tensorflow:Early stopping conditioned on metric `train_loss` which is not available. Available metrics are: loss,val_loss\n"
     ]
    },
    {
     "name": "stdout",
     "output_type": "stream",
     "text": [
      "45/45 [==============================] - 3s 70ms/step - batch: 22.0000 - size: 32.0000 - loss: 1.5201 - val_loss: 2.0101 - lr: 9.4240e-04\n",
      "Epoch 87/500\n",
      "45/45 [==============================] - ETA: 0s - batch: 22.0000 - size: 32.0000 - loss: 1.4907WARNING:tensorflow:Early stopping conditioned on metric `train_loss` which is not available. Available metrics are: loss,val_loss\n"
     ]
    },
    {
     "name": "stderr",
     "output_type": "stream",
     "text": [
      "WARNING:tensorflow:Early stopping conditioned on metric `train_loss` which is not available. Available metrics are: loss,val_loss\n"
     ]
    },
    {
     "name": "stdout",
     "output_type": "stream",
     "text": [
      "45/45 [==============================] - 3s 71ms/step - batch: 22.0000 - size: 32.0000 - loss: 1.4907 - val_loss: 1.9670 - lr: 9.4090e-04\n",
      "Epoch 88/500\n",
      "45/45 [==============================] - ETA: 0s - batch: 22.0000 - size: 32.0000 - loss: 1.4912WARNING:tensorflow:Early stopping conditioned on metric `train_loss` which is not available. Available metrics are: loss,val_loss\n"
     ]
    },
    {
     "name": "stderr",
     "output_type": "stream",
     "text": [
      "WARNING:tensorflow:Early stopping conditioned on metric `train_loss` which is not available. Available metrics are: loss,val_loss\n"
     ]
    },
    {
     "name": "stdout",
     "output_type": "stream",
     "text": [
      "45/45 [==============================] - 3s 70ms/step - batch: 22.0000 - size: 32.0000 - loss: 1.4912 - val_loss: 1.9312 - lr: 9.3938e-04\n",
      "Epoch 89/500\n",
      "45/45 [==============================] - ETA: 0s - batch: 22.0000 - size: 32.0000 - loss: 1.4533WARNING:tensorflow:Early stopping conditioned on metric `train_loss` which is not available. Available metrics are: loss,val_loss\n"
     ]
    },
    {
     "name": "stderr",
     "output_type": "stream",
     "text": [
      "WARNING:tensorflow:Early stopping conditioned on metric `train_loss` which is not available. Available metrics are: loss,val_loss\n"
     ]
    },
    {
     "name": "stdout",
     "output_type": "stream",
     "text": [
      "45/45 [==============================] - 3s 71ms/step - batch: 22.0000 - size: 32.0000 - loss: 1.4533 - val_loss: 1.9320 - lr: 9.3784e-04\n",
      "Epoch 90/500\n",
      "45/45 [==============================] - ETA: 0s - batch: 22.0000 - size: 32.0000 - loss: 1.4367WARNING:tensorflow:Early stopping conditioned on metric `train_loss` which is not available. Available metrics are: loss,val_loss\n"
     ]
    },
    {
     "name": "stderr",
     "output_type": "stream",
     "text": [
      "WARNING:tensorflow:Early stopping conditioned on metric `train_loss` which is not available. Available metrics are: loss,val_loss\n"
     ]
    },
    {
     "name": "stdout",
     "output_type": "stream",
     "text": [
      "Get map.\n"
     ]
    },
    {
     "name": "stderr",
     "output_type": "stream",
     "text": [
      "100%|██████████| 178/178 [00:00<00:00, 205.63it/s]\n"
     ]
    },
    {
     "name": "stdout",
     "output_type": "stream",
     "text": [
      "Calculate Map.\n",
      "Path '.temp_map_out/results' already exists.\n",
      "86.57% = hand AP \t||\tscore_threhold=0.5 : F1=0.80 ; Recall=84.21% ; Precision=76.92%\n",
      "mAP = 86.57%\n",
      "Path '/home/zhangyouan/桌面/zya/NN_net/network/SSD/IMX_681_ssd_mobilenet_git/keras/detection/SSD_ipynb_transfer_callback_1227hand/output/20240228/loss_2024_06_27_14_24_39' already exists.\n",
      "Get map done.\n",
      "45/45 [==============================] - 4s 97ms/step - batch: 22.0000 - size: 32.0000 - loss: 1.4367 - val_loss: 1.8971 - lr: 9.3628e-04\n",
      "Epoch 91/500\n",
      "45/45 [==============================] - ETA: 0s - batch: 22.0000 - size: 32.0000 - loss: 1.4240WARNING:tensorflow:Early stopping conditioned on metric `train_loss` which is not available. Available metrics are: loss,val_loss\n"
     ]
    },
    {
     "name": "stderr",
     "output_type": "stream",
     "text": [
      "WARNING:tensorflow:Early stopping conditioned on metric `train_loss` which is not available. Available metrics are: loss,val_loss\n"
     ]
    },
    {
     "name": "stdout",
     "output_type": "stream",
     "text": [
      "45/45 [==============================] - 3s 71ms/step - batch: 22.0000 - size: 32.0000 - loss: 1.4240 - val_loss: 1.9858 - lr: 9.3470e-04\n",
      "Epoch 92/500\n",
      "45/45 [==============================] - ETA: 0s - batch: 22.0000 - size: 32.0000 - loss: 1.4625WARNING:tensorflow:Early stopping conditioned on metric `train_loss` which is not available. Available metrics are: loss,val_loss\n"
     ]
    },
    {
     "name": "stderr",
     "output_type": "stream",
     "text": [
      "WARNING:tensorflow:Early stopping conditioned on metric `train_loss` which is not available. Available metrics are: loss,val_loss\n"
     ]
    },
    {
     "name": "stdout",
     "output_type": "stream",
     "text": [
      "45/45 [==============================] - 3s 71ms/step - batch: 22.0000 - size: 32.0000 - loss: 1.4625 - val_loss: 2.0713 - lr: 9.3311e-04\n",
      "Epoch 93/500\n",
      "45/45 [==============================] - ETA: 0s - batch: 22.0000 - size: 32.0000 - loss: 1.4669WARNING:tensorflow:Early stopping conditioned on metric `train_loss` which is not available. Available metrics are: loss,val_loss\n"
     ]
    },
    {
     "name": "stderr",
     "output_type": "stream",
     "text": [
      "WARNING:tensorflow:Early stopping conditioned on metric `train_loss` which is not available. Available metrics are: loss,val_loss\n"
     ]
    },
    {
     "name": "stdout",
     "output_type": "stream",
     "text": [
      "45/45 [==============================] - 3s 71ms/step - batch: 22.0000 - size: 32.0000 - loss: 1.4669 - val_loss: 2.0978 - lr: 9.3150e-04\n",
      "Epoch 94/500\n",
      "45/45 [==============================] - ETA: 0s - batch: 22.0000 - size: 32.0000 - loss: 1.4865WARNING:tensorflow:Early stopping conditioned on metric `train_loss` which is not available. Available metrics are: loss,val_loss\n"
     ]
    },
    {
     "name": "stderr",
     "output_type": "stream",
     "text": [
      "WARNING:tensorflow:Early stopping conditioned on metric `train_loss` which is not available. Available metrics are: loss,val_loss\n"
     ]
    },
    {
     "name": "stdout",
     "output_type": "stream",
     "text": [
      "45/45 [==============================] - 3s 70ms/step - batch: 22.0000 - size: 32.0000 - loss: 1.4865 - val_loss: 1.9154 - lr: 9.2987e-04\n",
      "Epoch 95/500\n",
      "45/45 [==============================] - ETA: 0s - batch: 22.0000 - size: 32.0000 - loss: 1.4264WARNING:tensorflow:Early stopping conditioned on metric `train_loss` which is not available. Available metrics are: loss,val_loss\n"
     ]
    },
    {
     "name": "stderr",
     "output_type": "stream",
     "text": [
      "WARNING:tensorflow:Early stopping conditioned on metric `train_loss` which is not available. Available metrics are: loss,val_loss\n"
     ]
    },
    {
     "name": "stdout",
     "output_type": "stream",
     "text": [
      "45/45 [==============================] - 3s 71ms/step - batch: 22.0000 - size: 32.0000 - loss: 1.4264 - val_loss: 1.9489 - lr: 9.2822e-04\n",
      "Epoch 96/500\n",
      "45/45 [==============================] - ETA: 0s - batch: 22.0000 - size: 32.0000 - loss: 1.4182WARNING:tensorflow:Early stopping conditioned on metric `train_loss` which is not available. Available metrics are: loss,val_loss\n"
     ]
    },
    {
     "name": "stderr",
     "output_type": "stream",
     "text": [
      "WARNING:tensorflow:Early stopping conditioned on metric `train_loss` which is not available. Available metrics are: loss,val_loss\n"
     ]
    },
    {
     "name": "stdout",
     "output_type": "stream",
     "text": [
      "45/45 [==============================] - 3s 71ms/step - batch: 22.0000 - size: 32.0000 - loss: 1.4182 - val_loss: 1.9267 - lr: 9.2655e-04\n",
      "Epoch 97/500\n",
      "45/45 [==============================] - ETA: 0s - batch: 22.0000 - size: 32.0000 - loss: 1.3732WARNING:tensorflow:Early stopping conditioned on metric `train_loss` which is not available. Available metrics are: loss,val_loss\n"
     ]
    },
    {
     "name": "stderr",
     "output_type": "stream",
     "text": [
      "WARNING:tensorflow:Early stopping conditioned on metric `train_loss` which is not available. Available metrics are: loss,val_loss\n"
     ]
    },
    {
     "name": "stdout",
     "output_type": "stream",
     "text": [
      "45/45 [==============================] - 3s 70ms/step - batch: 22.0000 - size: 32.0000 - loss: 1.3732 - val_loss: 2.0397 - lr: 9.2487e-04\n",
      "Epoch 98/500\n",
      "45/45 [==============================] - ETA: 0s - batch: 22.0000 - size: 32.0000 - loss: 1.3879WARNING:tensorflow:Early stopping conditioned on metric `train_loss` which is not available. Available metrics are: loss,val_loss\n"
     ]
    },
    {
     "name": "stderr",
     "output_type": "stream",
     "text": [
      "WARNING:tensorflow:Early stopping conditioned on metric `train_loss` which is not available. Available metrics are: loss,val_loss\n"
     ]
    },
    {
     "name": "stdout",
     "output_type": "stream",
     "text": [
      "45/45 [==============================] - 3s 72ms/step - batch: 22.0000 - size: 32.0000 - loss: 1.3879 - val_loss: 1.9240 - lr: 9.2317e-04\n",
      "Epoch 99/500\n",
      "45/45 [==============================] - ETA: 0s - batch: 22.0000 - size: 32.0000 - loss: 1.3989WARNING:tensorflow:Early stopping conditioned on metric `train_loss` which is not available. Available metrics are: loss,val_loss\n"
     ]
    },
    {
     "name": "stderr",
     "output_type": "stream",
     "text": [
      "WARNING:tensorflow:Early stopping conditioned on metric `train_loss` which is not available. Available metrics are: loss,val_loss\n"
     ]
    },
    {
     "name": "stdout",
     "output_type": "stream",
     "text": [
      "45/45 [==============================] - 3s 71ms/step - batch: 22.0000 - size: 32.0000 - loss: 1.3989 - val_loss: 1.9489 - lr: 9.2145e-04\n",
      "Epoch 100/500\n",
      "45/45 [==============================] - ETA: 0s - batch: 22.0000 - size: 32.0000 - loss: 1.3732WARNING:tensorflow:Early stopping conditioned on metric `train_loss` which is not available. Available metrics are: loss,val_loss\n"
     ]
    },
    {
     "name": "stderr",
     "output_type": "stream",
     "text": [
      "WARNING:tensorflow:Early stopping conditioned on metric `train_loss` which is not available. Available metrics are: loss,val_loss\n"
     ]
    },
    {
     "name": "stdout",
     "output_type": "stream",
     "text": [
      "Get map.\n"
     ]
    },
    {
     "name": "stderr",
     "output_type": "stream",
     "text": [
      "100%|██████████| 178/178 [00:00<00:00, 207.01it/s]\n"
     ]
    },
    {
     "name": "stdout",
     "output_type": "stream",
     "text": [
      "Calculate Map.\n",
      "Path '.temp_map_out/results' already exists.\n",
      "87.27% = hand AP \t||\tscore_threhold=0.5 : F1=0.83 ; Recall=85.26% ; Precision=80.20%\n",
      "mAP = 87.27%\n",
      "Path '/home/zhangyouan/桌面/zya/NN_net/network/SSD/IMX_681_ssd_mobilenet_git/keras/detection/SSD_ipynb_transfer_callback_1227hand/output/20240228/loss_2024_06_27_14_24_39' already exists.\n",
      "Get map done.\n",
      "45/45 [==============================] - 4s 97ms/step - batch: 22.0000 - size: 32.0000 - loss: 1.3732 - val_loss: 1.9330 - lr: 9.1972e-04\n",
      "Epoch 101/500\n",
      "45/45 [==============================] - ETA: 0s - batch: 22.0000 - size: 32.0000 - loss: 1.3675WARNING:tensorflow:Early stopping conditioned on metric `train_loss` which is not available. Available metrics are: loss,val_loss\n"
     ]
    },
    {
     "name": "stderr",
     "output_type": "stream",
     "text": [
      "WARNING:tensorflow:Early stopping conditioned on metric `train_loss` which is not available. Available metrics are: loss,val_loss\n"
     ]
    },
    {
     "name": "stdout",
     "output_type": "stream",
     "text": [
      "45/45 [==============================] - 3s 71ms/step - batch: 22.0000 - size: 32.0000 - loss: 1.3675 - val_loss: 1.9614 - lr: 9.1796e-04\n",
      "Epoch 102/500\n",
      "45/45 [==============================] - ETA: 0s - batch: 22.0000 - size: 32.0000 - loss: 1.3758WARNING:tensorflow:Early stopping conditioned on metric `train_loss` which is not available. Available metrics are: loss,val_loss\n"
     ]
    },
    {
     "name": "stderr",
     "output_type": "stream",
     "text": [
      "WARNING:tensorflow:Early stopping conditioned on metric `train_loss` which is not available. Available metrics are: loss,val_loss\n"
     ]
    },
    {
     "name": "stdout",
     "output_type": "stream",
     "text": [
      "45/45 [==============================] - 3s 70ms/step - batch: 22.0000 - size: 32.0000 - loss: 1.3758 - val_loss: 1.9600 - lr: 9.1619e-04\n",
      "Epoch 103/500\n",
      "45/45 [==============================] - ETA: 0s - batch: 22.0000 - size: 32.0000 - loss: 1.3569WARNING:tensorflow:Early stopping conditioned on metric `train_loss` which is not available. Available metrics are: loss,val_loss\n"
     ]
    },
    {
     "name": "stderr",
     "output_type": "stream",
     "text": [
      "WARNING:tensorflow:Early stopping conditioned on metric `train_loss` which is not available. Available metrics are: loss,val_loss\n"
     ]
    },
    {
     "name": "stdout",
     "output_type": "stream",
     "text": [
      "45/45 [==============================] - 3s 70ms/step - batch: 22.0000 - size: 32.0000 - loss: 1.3569 - val_loss: 2.0152 - lr: 9.1441e-04\n",
      "Epoch 104/500\n",
      "45/45 [==============================] - ETA: 0s - batch: 22.0000 - size: 32.0000 - loss: 1.3529WARNING:tensorflow:Early stopping conditioned on metric `train_loss` which is not available. Available metrics are: loss,val_loss\n"
     ]
    },
    {
     "name": "stderr",
     "output_type": "stream",
     "text": [
      "WARNING:tensorflow:Early stopping conditioned on metric `train_loss` which is not available. Available metrics are: loss,val_loss\n"
     ]
    },
    {
     "name": "stdout",
     "output_type": "stream",
     "text": [
      "45/45 [==============================] - 3s 71ms/step - batch: 22.0000 - size: 32.0000 - loss: 1.3529 - val_loss: 1.9072 - lr: 9.1260e-04\n",
      "Epoch 105/500\n",
      "45/45 [==============================] - ETA: 0s - batch: 22.0000 - size: 32.0000 - loss: 1.3472WARNING:tensorflow:Early stopping conditioned on metric `train_loss` which is not available. Available metrics are: loss,val_loss\n"
     ]
    },
    {
     "name": "stderr",
     "output_type": "stream",
     "text": [
      "WARNING:tensorflow:Early stopping conditioned on metric `train_loss` which is not available. Available metrics are: loss,val_loss\n"
     ]
    },
    {
     "name": "stdout",
     "output_type": "stream",
     "text": [
      "45/45 [==============================] - 3s 71ms/step - batch: 22.0000 - size: 32.0000 - loss: 1.3472 - val_loss: 1.9799 - lr: 9.1078e-04\n",
      "Epoch 106/500\n",
      "45/45 [==============================] - ETA: 0s - batch: 22.0000 - size: 32.0000 - loss: 1.3372WARNING:tensorflow:Early stopping conditioned on metric `train_loss` which is not available. Available metrics are: loss,val_loss\n"
     ]
    },
    {
     "name": "stderr",
     "output_type": "stream",
     "text": [
      "WARNING:tensorflow:Early stopping conditioned on metric `train_loss` which is not available. Available metrics are: loss,val_loss\n"
     ]
    },
    {
     "name": "stdout",
     "output_type": "stream",
     "text": [
      "45/45 [==============================] - 3s 71ms/step - batch: 22.0000 - size: 32.0000 - loss: 1.3372 - val_loss: 1.9369 - lr: 9.0895e-04\n",
      "Epoch 107/500\n",
      "45/45 [==============================] - ETA: 0s - batch: 22.0000 - size: 32.0000 - loss: 1.3316WARNING:tensorflow:Early stopping conditioned on metric `train_loss` which is not available. Available metrics are: loss,val_loss\n"
     ]
    },
    {
     "name": "stderr",
     "output_type": "stream",
     "text": [
      "WARNING:tensorflow:Early stopping conditioned on metric `train_loss` which is not available. Available metrics are: loss,val_loss\n"
     ]
    },
    {
     "name": "stdout",
     "output_type": "stream",
     "text": [
      "45/45 [==============================] - 3s 71ms/step - batch: 22.0000 - size: 32.0000 - loss: 1.3316 - val_loss: 1.9710 - lr: 9.0709e-04\n",
      "Epoch 108/500\n",
      "45/45 [==============================] - ETA: 0s - batch: 22.0000 - size: 32.0000 - loss: 1.2965WARNING:tensorflow:Early stopping conditioned on metric `train_loss` which is not available. Available metrics are: loss,val_loss\n"
     ]
    },
    {
     "name": "stderr",
     "output_type": "stream",
     "text": [
      "WARNING:tensorflow:Early stopping conditioned on metric `train_loss` which is not available. Available metrics are: loss,val_loss\n"
     ]
    },
    {
     "name": "stdout",
     "output_type": "stream",
     "text": [
      "45/45 [==============================] - 3s 70ms/step - batch: 22.0000 - size: 32.0000 - loss: 1.2965 - val_loss: 1.9502 - lr: 9.0522e-04\n",
      "Epoch 109/500\n",
      "45/45 [==============================] - ETA: 0s - batch: 22.0000 - size: 32.0000 - loss: 1.3206WARNING:tensorflow:Early stopping conditioned on metric `train_loss` which is not available. Available metrics are: loss,val_loss\n"
     ]
    },
    {
     "name": "stderr",
     "output_type": "stream",
     "text": [
      "WARNING:tensorflow:Early stopping conditioned on metric `train_loss` which is not available. Available metrics are: loss,val_loss\n"
     ]
    },
    {
     "name": "stdout",
     "output_type": "stream",
     "text": [
      "45/45 [==============================] - 3s 70ms/step - batch: 22.0000 - size: 32.0000 - loss: 1.3206 - val_loss: 1.9650 - lr: 9.0333e-04\n",
      "Epoch 110/500\n",
      "45/45 [==============================] - ETA: 0s - batch: 22.0000 - size: 32.0000 - loss: 1.3000WARNING:tensorflow:Early stopping conditioned on metric `train_loss` which is not available. Available metrics are: loss,val_loss\n"
     ]
    },
    {
     "name": "stderr",
     "output_type": "stream",
     "text": [
      "WARNING:tensorflow:Early stopping conditioned on metric `train_loss` which is not available. Available metrics are: loss,val_loss\n"
     ]
    },
    {
     "name": "stdout",
     "output_type": "stream",
     "text": [
      "Get map.\n"
     ]
    },
    {
     "name": "stderr",
     "output_type": "stream",
     "text": [
      "100%|██████████| 178/178 [00:00<00:00, 205.82it/s]\n"
     ]
    },
    {
     "name": "stdout",
     "output_type": "stream",
     "text": [
      "Calculate Map.\n",
      "Path '.temp_map_out/results' already exists.\n",
      "88.23% = hand AP \t||\tscore_threhold=0.5 : F1=0.83 ; Recall=85.79% ; Precision=80.30%\n",
      "mAP = 88.23%\n",
      "Path '/home/zhangyouan/桌面/zya/NN_net/network/SSD/IMX_681_ssd_mobilenet_git/keras/detection/SSD_ipynb_transfer_callback_1227hand/output/20240228/loss_2024_06_27_14_24_39' already exists.\n",
      "Get map done.\n",
      "45/45 [==============================] - 5s 101ms/step - batch: 22.0000 - size: 32.0000 - loss: 1.3000 - val_loss: 1.9668 - lr: 9.0143e-04\n",
      "Epoch 111/500\n",
      "45/45 [==============================] - ETA: 0s - batch: 22.0000 - size: 32.0000 - loss: 1.3208WARNING:tensorflow:Early stopping conditioned on metric `train_loss` which is not available. Available metrics are: loss,val_loss\n"
     ]
    },
    {
     "name": "stderr",
     "output_type": "stream",
     "text": [
      "WARNING:tensorflow:Early stopping conditioned on metric `train_loss` which is not available. Available metrics are: loss,val_loss\n"
     ]
    },
    {
     "name": "stdout",
     "output_type": "stream",
     "text": [
      "45/45 [==============================] - 3s 70ms/step - batch: 22.0000 - size: 32.0000 - loss: 1.3208 - val_loss: 2.0324 - lr: 8.9951e-04\n",
      "Epoch 112/500\n",
      "45/45 [==============================] - ETA: 0s - batch: 22.0000 - size: 32.0000 - loss: 1.3029WARNING:tensorflow:Early stopping conditioned on metric `train_loss` which is not available. Available metrics are: loss,val_loss\n"
     ]
    },
    {
     "name": "stderr",
     "output_type": "stream",
     "text": [
      "WARNING:tensorflow:Early stopping conditioned on metric `train_loss` which is not available. Available metrics are: loss,val_loss\n"
     ]
    },
    {
     "name": "stdout",
     "output_type": "stream",
     "text": [
      "45/45 [==============================] - 3s 71ms/step - batch: 22.0000 - size: 32.0000 - loss: 1.3029 - val_loss: 1.9379 - lr: 8.9757e-04\n",
      "Epoch 113/500\n",
      "45/45 [==============================] - ETA: 0s - batch: 22.0000 - size: 32.0000 - loss: 1.3218WARNING:tensorflow:Early stopping conditioned on metric `train_loss` which is not available. Available metrics are: loss,val_loss\n"
     ]
    },
    {
     "name": "stderr",
     "output_type": "stream",
     "text": [
      "WARNING:tensorflow:Early stopping conditioned on metric `train_loss` which is not available. Available metrics are: loss,val_loss\n"
     ]
    },
    {
     "name": "stdout",
     "output_type": "stream",
     "text": [
      "45/45 [==============================] - 3s 72ms/step - batch: 22.0000 - size: 32.0000 - loss: 1.3218 - val_loss: 1.9338 - lr: 8.9561e-04\n",
      "Epoch 114/500\n",
      "45/45 [==============================] - ETA: 0s - batch: 22.0000 - size: 32.0000 - loss: 1.2969WARNING:tensorflow:Early stopping conditioned on metric `train_loss` which is not available. Available metrics are: loss,val_loss\n"
     ]
    },
    {
     "name": "stderr",
     "output_type": "stream",
     "text": [
      "WARNING:tensorflow:Early stopping conditioned on metric `train_loss` which is not available. Available metrics are: loss,val_loss\n"
     ]
    },
    {
     "name": "stdout",
     "output_type": "stream",
     "text": [
      "45/45 [==============================] - 3s 77ms/step - batch: 22.0000 - size: 32.0000 - loss: 1.2969 - val_loss: 1.9327 - lr: 8.9364e-04\n",
      "Epoch 115/500\n",
      "45/45 [==============================] - ETA: 0s - batch: 22.0000 - size: 32.0000 - loss: 1.3800WARNING:tensorflow:Early stopping conditioned on metric `train_loss` which is not available. Available metrics are: loss,val_loss\n"
     ]
    },
    {
     "name": "stderr",
     "output_type": "stream",
     "text": [
      "WARNING:tensorflow:Early stopping conditioned on metric `train_loss` which is not available. Available metrics are: loss,val_loss\n"
     ]
    },
    {
     "name": "stdout",
     "output_type": "stream",
     "text": [
      "45/45 [==============================] - 3s 74ms/step - batch: 22.0000 - size: 32.0000 - loss: 1.3800 - val_loss: 1.9918 - lr: 8.9166e-04\n",
      "Epoch 116/500\n",
      "45/45 [==============================] - ETA: 0s - batch: 22.0000 - size: 32.0000 - loss: 1.2950WARNING:tensorflow:Early stopping conditioned on metric `train_loss` which is not available. Available metrics are: loss,val_loss\n"
     ]
    },
    {
     "name": "stderr",
     "output_type": "stream",
     "text": [
      "WARNING:tensorflow:Early stopping conditioned on metric `train_loss` which is not available. Available metrics are: loss,val_loss\n"
     ]
    },
    {
     "name": "stdout",
     "output_type": "stream",
     "text": [
      "45/45 [==============================] - 3s 71ms/step - batch: 22.0000 - size: 32.0000 - loss: 1.2950 - val_loss: 1.9779 - lr: 8.8966e-04\n",
      "Epoch 117/500\n",
      "45/45 [==============================] - ETA: 0s - batch: 22.0000 - size: 32.0000 - loss: 1.2608WARNING:tensorflow:Early stopping conditioned on metric `train_loss` which is not available. Available metrics are: loss,val_loss\n"
     ]
    },
    {
     "name": "stderr",
     "output_type": "stream",
     "text": [
      "WARNING:tensorflow:Early stopping conditioned on metric `train_loss` which is not available. Available metrics are: loss,val_loss\n"
     ]
    },
    {
     "name": "stdout",
     "output_type": "stream",
     "text": [
      "45/45 [==============================] - 3s 70ms/step - batch: 22.0000 - size: 32.0000 - loss: 1.2608 - val_loss: 1.9396 - lr: 8.8764e-04\n",
      "Epoch 118/500\n",
      "45/45 [==============================] - ETA: 0s - batch: 22.0000 - size: 32.0000 - loss: 1.2338WARNING:tensorflow:Early stopping conditioned on metric `train_loss` which is not available. Available metrics are: loss,val_loss\n"
     ]
    },
    {
     "name": "stderr",
     "output_type": "stream",
     "text": [
      "WARNING:tensorflow:Early stopping conditioned on metric `train_loss` which is not available. Available metrics are: loss,val_loss\n"
     ]
    },
    {
     "name": "stdout",
     "output_type": "stream",
     "text": [
      "45/45 [==============================] - 3s 70ms/step - batch: 22.0000 - size: 32.0000 - loss: 1.2338 - val_loss: 1.8800 - lr: 8.8560e-04\n",
      "Epoch 119/500\n",
      "45/45 [==============================] - ETA: 0s - batch: 22.0000 - size: 32.0000 - loss: 1.2502WARNING:tensorflow:Early stopping conditioned on metric `train_loss` which is not available. Available metrics are: loss,val_loss\n"
     ]
    },
    {
     "name": "stderr",
     "output_type": "stream",
     "text": [
      "WARNING:tensorflow:Early stopping conditioned on metric `train_loss` which is not available. Available metrics are: loss,val_loss\n"
     ]
    },
    {
     "name": "stdout",
     "output_type": "stream",
     "text": [
      "45/45 [==============================] - 3s 70ms/step - batch: 22.0000 - size: 32.0000 - loss: 1.2502 - val_loss: 1.9525 - lr: 8.8355e-04\n",
      "Epoch 120/500\n",
      "45/45 [==============================] - ETA: 0s - batch: 22.0000 - size: 32.0000 - loss: 1.2584WARNING:tensorflow:Early stopping conditioned on metric `train_loss` which is not available. Available metrics are: loss,val_loss\n"
     ]
    },
    {
     "name": "stderr",
     "output_type": "stream",
     "text": [
      "WARNING:tensorflow:Early stopping conditioned on metric `train_loss` which is not available. Available metrics are: loss,val_loss\n"
     ]
    },
    {
     "name": "stdout",
     "output_type": "stream",
     "text": [
      "Get map.\n"
     ]
    },
    {
     "name": "stderr",
     "output_type": "stream",
     "text": [
      "100%|██████████| 178/178 [00:00<00:00, 188.71it/s]\n"
     ]
    },
    {
     "name": "stdout",
     "output_type": "stream",
     "text": [
      "Calculate Map.\n",
      "Path '.temp_map_out/results' already exists.\n",
      "87.61% = hand AP \t||\tscore_threhold=0.5 : F1=0.81 ; Recall=85.26% ; Precision=77.14%\n",
      "mAP = 87.61%\n",
      "Path '/home/zhangyouan/桌面/zya/NN_net/network/SSD/IMX_681_ssd_mobilenet_git/keras/detection/SSD_ipynb_transfer_callback_1227hand/output/20240228/loss_2024_06_27_14_24_39' already exists.\n",
      "Get map done.\n",
      "45/45 [==============================] - 4s 99ms/step - batch: 22.0000 - size: 32.0000 - loss: 1.2584 - val_loss: 1.9011 - lr: 8.8149e-04\n",
      "Epoch 121/500\n",
      "45/45 [==============================] - ETA: 0s - batch: 22.0000 - size: 32.0000 - loss: 1.2389WARNING:tensorflow:Early stopping conditioned on metric `train_loss` which is not available. Available metrics are: loss,val_loss\n"
     ]
    },
    {
     "name": "stderr",
     "output_type": "stream",
     "text": [
      "WARNING:tensorflow:Early stopping conditioned on metric `train_loss` which is not available. Available metrics are: loss,val_loss\n"
     ]
    },
    {
     "name": "stdout",
     "output_type": "stream",
     "text": [
      "45/45 [==============================] - 3s 70ms/step - batch: 22.0000 - size: 32.0000 - loss: 1.2389 - val_loss: 1.8896 - lr: 8.7940e-04\n",
      "Epoch 122/500\n",
      "45/45 [==============================] - ETA: 0s - batch: 22.0000 - size: 32.0000 - loss: 1.2230WARNING:tensorflow:Early stopping conditioned on metric `train_loss` which is not available. Available metrics are: loss,val_loss\n"
     ]
    },
    {
     "name": "stderr",
     "output_type": "stream",
     "text": [
      "WARNING:tensorflow:Early stopping conditioned on metric `train_loss` which is not available. Available metrics are: loss,val_loss\n"
     ]
    },
    {
     "name": "stdout",
     "output_type": "stream",
     "text": [
      "45/45 [==============================] - 3s 72ms/step - batch: 22.0000 - size: 32.0000 - loss: 1.2230 - val_loss: 1.8929 - lr: 8.7731e-04\n",
      "Epoch 123/500\n",
      "45/45 [==============================] - ETA: 0s - batch: 22.0000 - size: 32.0000 - loss: 1.2293WARNING:tensorflow:Early stopping conditioned on metric `train_loss` which is not available. Available metrics are: loss,val_loss\n"
     ]
    },
    {
     "name": "stderr",
     "output_type": "stream",
     "text": [
      "WARNING:tensorflow:Early stopping conditioned on metric `train_loss` which is not available. Available metrics are: loss,val_loss\n"
     ]
    },
    {
     "name": "stdout",
     "output_type": "stream",
     "text": [
      "45/45 [==============================] - 3s 70ms/step - batch: 22.0000 - size: 32.0000 - loss: 1.2293 - val_loss: 1.8893 - lr: 8.7519e-04\n",
      "Epoch 124/500\n",
      "45/45 [==============================] - ETA: 0s - batch: 22.0000 - size: 32.0000 - loss: 1.2404WARNING:tensorflow:Early stopping conditioned on metric `train_loss` which is not available. Available metrics are: loss,val_loss\n"
     ]
    },
    {
     "name": "stderr",
     "output_type": "stream",
     "text": [
      "WARNING:tensorflow:Early stopping conditioned on metric `train_loss` which is not available. Available metrics are: loss,val_loss\n"
     ]
    },
    {
     "name": "stdout",
     "output_type": "stream",
     "text": [
      "45/45 [==============================] - 3s 70ms/step - batch: 22.0000 - size: 32.0000 - loss: 1.2404 - val_loss: 1.9485 - lr: 8.7306e-04\n",
      "Epoch 125/500\n",
      "45/45 [==============================] - ETA: 0s - batch: 22.0000 - size: 32.0000 - loss: 1.2137WARNING:tensorflow:Early stopping conditioned on metric `train_loss` which is not available. Available metrics are: loss,val_loss\n"
     ]
    },
    {
     "name": "stderr",
     "output_type": "stream",
     "text": [
      "WARNING:tensorflow:Early stopping conditioned on metric `train_loss` which is not available. Available metrics are: loss,val_loss\n"
     ]
    },
    {
     "name": "stdout",
     "output_type": "stream",
     "text": [
      "45/45 [==============================] - 3s 70ms/step - batch: 22.0000 - size: 32.0000 - loss: 1.2137 - val_loss: 1.9205 - lr: 8.7092e-04\n",
      "Epoch 126/500\n",
      "45/45 [==============================] - ETA: 0s - batch: 22.0000 - size: 32.0000 - loss: 1.1986WARNING:tensorflow:Early stopping conditioned on metric `train_loss` which is not available. Available metrics are: loss,val_loss\n"
     ]
    },
    {
     "name": "stderr",
     "output_type": "stream",
     "text": [
      "WARNING:tensorflow:Early stopping conditioned on metric `train_loss` which is not available. Available metrics are: loss,val_loss\n"
     ]
    },
    {
     "name": "stdout",
     "output_type": "stream",
     "text": [
      "45/45 [==============================] - 3s 70ms/step - batch: 22.0000 - size: 32.0000 - loss: 1.1986 - val_loss: 1.8729 - lr: 8.6876e-04\n",
      "Epoch 127/500\n",
      "45/45 [==============================] - ETA: 0s - batch: 22.0000 - size: 32.0000 - loss: 1.1785WARNING:tensorflow:Early stopping conditioned on metric `train_loss` which is not available. Available metrics are: loss,val_loss\n"
     ]
    },
    {
     "name": "stderr",
     "output_type": "stream",
     "text": [
      "WARNING:tensorflow:Early stopping conditioned on metric `train_loss` which is not available. Available metrics are: loss,val_loss\n"
     ]
    },
    {
     "name": "stdout",
     "output_type": "stream",
     "text": [
      "45/45 [==============================] - 3s 70ms/step - batch: 22.0000 - size: 32.0000 - loss: 1.1785 - val_loss: 1.8824 - lr: 8.6659e-04\n",
      "Epoch 128/500\n",
      "45/45 [==============================] - ETA: 0s - batch: 22.0000 - size: 32.0000 - loss: 1.1907WARNING:tensorflow:Early stopping conditioned on metric `train_loss` which is not available. Available metrics are: loss,val_loss\n"
     ]
    },
    {
     "name": "stderr",
     "output_type": "stream",
     "text": [
      "WARNING:tensorflow:Early stopping conditioned on metric `train_loss` which is not available. Available metrics are: loss,val_loss\n"
     ]
    },
    {
     "name": "stdout",
     "output_type": "stream",
     "text": [
      "45/45 [==============================] - 3s 70ms/step - batch: 22.0000 - size: 32.0000 - loss: 1.1907 - val_loss: 1.8921 - lr: 8.6440e-04\n",
      "Epoch 129/500\n",
      "45/45 [==============================] - ETA: 0s - batch: 22.0000 - size: 32.0000 - loss: 1.2122WARNING:tensorflow:Early stopping conditioned on metric `train_loss` which is not available. Available metrics are: loss,val_loss\n"
     ]
    },
    {
     "name": "stderr",
     "output_type": "stream",
     "text": [
      "WARNING:tensorflow:Early stopping conditioned on metric `train_loss` which is not available. Available metrics are: loss,val_loss\n"
     ]
    },
    {
     "name": "stdout",
     "output_type": "stream",
     "text": [
      "45/45 [==============================] - 3s 70ms/step - batch: 22.0000 - size: 32.0000 - loss: 1.2122 - val_loss: 1.9457 - lr: 8.6219e-04\n",
      "Epoch 130/500\n",
      "45/45 [==============================] - ETA: 0s - batch: 22.0000 - size: 32.0000 - loss: 1.2047WARNING:tensorflow:Early stopping conditioned on metric `train_loss` which is not available. Available metrics are: loss,val_loss\n"
     ]
    },
    {
     "name": "stderr",
     "output_type": "stream",
     "text": [
      "WARNING:tensorflow:Early stopping conditioned on metric `train_loss` which is not available. Available metrics are: loss,val_loss\n"
     ]
    },
    {
     "name": "stdout",
     "output_type": "stream",
     "text": [
      "Get map.\n"
     ]
    },
    {
     "name": "stderr",
     "output_type": "stream",
     "text": [
      "100%|██████████| 178/178 [00:00<00:00, 199.23it/s]\n"
     ]
    },
    {
     "name": "stdout",
     "output_type": "stream",
     "text": [
      "Calculate Map.\n",
      "Path '.temp_map_out/results' already exists.\n",
      "87.22% = hand AP \t||\tscore_threhold=0.5 : F1=0.81 ; Recall=86.32% ; Precision=75.58%\n",
      "mAP = 87.22%\n",
      "Path '/home/zhangyouan/桌面/zya/NN_net/network/SSD/IMX_681_ssd_mobilenet_git/keras/detection/SSD_ipynb_transfer_callback_1227hand/output/20240228/loss_2024_06_27_14_24_39' already exists.\n",
      "Get map done.\n",
      "45/45 [==============================] - 4s 96ms/step - batch: 22.0000 - size: 32.0000 - loss: 1.2047 - val_loss: 1.9245 - lr: 8.5997e-04\n",
      "Epoch 131/500\n",
      "45/45 [==============================] - ETA: 0s - batch: 22.0000 - size: 32.0000 - loss: 1.2447WARNING:tensorflow:Early stopping conditioned on metric `train_loss` which is not available. Available metrics are: loss,val_loss\n"
     ]
    },
    {
     "name": "stderr",
     "output_type": "stream",
     "text": [
      "WARNING:tensorflow:Early stopping conditioned on metric `train_loss` which is not available. Available metrics are: loss,val_loss\n"
     ]
    },
    {
     "name": "stdout",
     "output_type": "stream",
     "text": [
      "45/45 [==============================] - 3s 70ms/step - batch: 22.0000 - size: 32.0000 - loss: 1.2447 - val_loss: 1.9270 - lr: 8.5774e-04\n",
      "Epoch 132/500\n",
      "45/45 [==============================] - ETA: 0s - batch: 22.0000 - size: 32.0000 - loss: 1.1972WARNING:tensorflow:Early stopping conditioned on metric `train_loss` which is not available. Available metrics are: loss,val_loss\n"
     ]
    },
    {
     "name": "stderr",
     "output_type": "stream",
     "text": [
      "WARNING:tensorflow:Early stopping conditioned on metric `train_loss` which is not available. Available metrics are: loss,val_loss\n"
     ]
    },
    {
     "name": "stdout",
     "output_type": "stream",
     "text": [
      "45/45 [==============================] - 3s 70ms/step - batch: 22.0000 - size: 32.0000 - loss: 1.1972 - val_loss: 1.8988 - lr: 8.5549e-04\n",
      "Epoch 133/500\n",
      "45/45 [==============================] - ETA: 0s - batch: 22.0000 - size: 32.0000 - loss: 1.1543WARNING:tensorflow:Early stopping conditioned on metric `train_loss` which is not available. Available metrics are: loss,val_loss\n"
     ]
    },
    {
     "name": "stderr",
     "output_type": "stream",
     "text": [
      "WARNING:tensorflow:Early stopping conditioned on metric `train_loss` which is not available. Available metrics are: loss,val_loss\n"
     ]
    },
    {
     "name": "stdout",
     "output_type": "stream",
     "text": [
      "45/45 [==============================] - 3s 70ms/step - batch: 22.0000 - size: 32.0000 - loss: 1.1543 - val_loss: 1.9162 - lr: 8.5323e-04\n",
      "Epoch 134/500\n",
      "45/45 [==============================] - ETA: 0s - batch: 22.0000 - size: 32.0000 - loss: 1.1469WARNING:tensorflow:Early stopping conditioned on metric `train_loss` which is not available. Available metrics are: loss,val_loss\n"
     ]
    },
    {
     "name": "stderr",
     "output_type": "stream",
     "text": [
      "WARNING:tensorflow:Early stopping conditioned on metric `train_loss` which is not available. Available metrics are: loss,val_loss\n"
     ]
    },
    {
     "name": "stdout",
     "output_type": "stream",
     "text": [
      "45/45 [==============================] - 3s 70ms/step - batch: 22.0000 - size: 32.0000 - loss: 1.1469 - val_loss: 1.9785 - lr: 8.5095e-04\n",
      "Epoch 135/500\n",
      "45/45 [==============================] - ETA: 0s - batch: 22.0000 - size: 32.0000 - loss: 1.1623WARNING:tensorflow:Early stopping conditioned on metric `train_loss` which is not available. Available metrics are: loss,val_loss\n"
     ]
    },
    {
     "name": "stderr",
     "output_type": "stream",
     "text": [
      "WARNING:tensorflow:Early stopping conditioned on metric `train_loss` which is not available. Available metrics are: loss,val_loss\n"
     ]
    },
    {
     "name": "stdout",
     "output_type": "stream",
     "text": [
      "45/45 [==============================] - 3s 70ms/step - batch: 22.0000 - size: 32.0000 - loss: 1.1623 - val_loss: 1.8736 - lr: 8.4865e-04\n",
      "Epoch 136/500\n",
      "45/45 [==============================] - ETA: 0s - batch: 22.0000 - size: 32.0000 - loss: 1.1396WARNING:tensorflow:Early stopping conditioned on metric `train_loss` which is not available. Available metrics are: loss,val_loss\n"
     ]
    },
    {
     "name": "stderr",
     "output_type": "stream",
     "text": [
      "WARNING:tensorflow:Early stopping conditioned on metric `train_loss` which is not available. Available metrics are: loss,val_loss\n"
     ]
    },
    {
     "name": "stdout",
     "output_type": "stream",
     "text": [
      "45/45 [==============================] - 3s 70ms/step - batch: 22.0000 - size: 32.0000 - loss: 1.1396 - val_loss: 1.9105 - lr: 8.4635e-04\n",
      "Epoch 137/500\n",
      "45/45 [==============================] - ETA: 0s - batch: 22.0000 - size: 32.0000 - loss: 1.1334WARNING:tensorflow:Early stopping conditioned on metric `train_loss` which is not available. Available metrics are: loss,val_loss\n"
     ]
    },
    {
     "name": "stderr",
     "output_type": "stream",
     "text": [
      "WARNING:tensorflow:Early stopping conditioned on metric `train_loss` which is not available. Available metrics are: loss,val_loss\n"
     ]
    },
    {
     "name": "stdout",
     "output_type": "stream",
     "text": [
      "45/45 [==============================] - 3s 70ms/step - batch: 22.0000 - size: 32.0000 - loss: 1.1334 - val_loss: 1.9011 - lr: 8.4403e-04\n",
      "Epoch 138/500\n",
      "45/45 [==============================] - ETA: 0s - batch: 22.0000 - size: 32.0000 - loss: 1.1411WARNING:tensorflow:Early stopping conditioned on metric `train_loss` which is not available. Available metrics are: loss,val_loss\n"
     ]
    },
    {
     "name": "stderr",
     "output_type": "stream",
     "text": [
      "WARNING:tensorflow:Early stopping conditioned on metric `train_loss` which is not available. Available metrics are: loss,val_loss\n"
     ]
    },
    {
     "name": "stdout",
     "output_type": "stream",
     "text": [
      "45/45 [==============================] - 3s 70ms/step - batch: 22.0000 - size: 32.0000 - loss: 1.1411 - val_loss: 1.8561 - lr: 8.4169e-04\n",
      "Epoch 139/500\n",
      "45/45 [==============================] - ETA: 0s - batch: 22.0000 - size: 32.0000 - loss: 1.1426WARNING:tensorflow:Early stopping conditioned on metric `train_loss` which is not available. Available metrics are: loss,val_loss\n"
     ]
    },
    {
     "name": "stderr",
     "output_type": "stream",
     "text": [
      "WARNING:tensorflow:Early stopping conditioned on metric `train_loss` which is not available. Available metrics are: loss,val_loss\n"
     ]
    },
    {
     "name": "stdout",
     "output_type": "stream",
     "text": [
      "45/45 [==============================] - 3s 70ms/step - batch: 22.0000 - size: 32.0000 - loss: 1.1426 - val_loss: 1.9306 - lr: 8.3934e-04\n",
      "Epoch 140/500\n",
      "45/45 [==============================] - ETA: 0s - batch: 22.0000 - size: 32.0000 - loss: 1.1349WARNING:tensorflow:Early stopping conditioned on metric `train_loss` which is not available. Available metrics are: loss,val_loss\n"
     ]
    },
    {
     "name": "stderr",
     "output_type": "stream",
     "text": [
      "WARNING:tensorflow:Early stopping conditioned on metric `train_loss` which is not available. Available metrics are: loss,val_loss\n"
     ]
    },
    {
     "name": "stdout",
     "output_type": "stream",
     "text": [
      "Get map.\n"
     ]
    },
    {
     "name": "stderr",
     "output_type": "stream",
     "text": [
      "100%|██████████| 178/178 [00:00<00:00, 200.79it/s]\n"
     ]
    },
    {
     "name": "stdout",
     "output_type": "stream",
     "text": [
      "Calculate Map.\n",
      "Path '.temp_map_out/results' already exists.\n",
      "88.64% = hand AP \t||\tscore_threhold=0.5 : F1=0.82 ; Recall=87.89% ; Precision=76.61%\n",
      "mAP = 88.64%\n",
      "Path '/home/zhangyouan/桌面/zya/NN_net/network/SSD/IMX_681_ssd_mobilenet_git/keras/detection/SSD_ipynb_transfer_callback_1227hand/output/20240228/loss_2024_06_27_14_24_39' already exists.\n",
      "Get map done.\n",
      "45/45 [==============================] - 4s 97ms/step - batch: 22.0000 - size: 32.0000 - loss: 1.1349 - val_loss: 1.8965 - lr: 8.3698e-04\n",
      "Epoch 141/500\n",
      "45/45 [==============================] - ETA: 0s - batch: 22.0000 - size: 32.0000 - loss: 1.1206WARNING:tensorflow:Early stopping conditioned on metric `train_loss` which is not available. Available metrics are: loss,val_loss\n"
     ]
    },
    {
     "name": "stderr",
     "output_type": "stream",
     "text": [
      "WARNING:tensorflow:Early stopping conditioned on metric `train_loss` which is not available. Available metrics are: loss,val_loss\n"
     ]
    },
    {
     "name": "stdout",
     "output_type": "stream",
     "text": [
      "45/45 [==============================] - 3s 70ms/step - batch: 22.0000 - size: 32.0000 - loss: 1.1206 - val_loss: 1.8871 - lr: 8.3460e-04\n",
      "Epoch 142/500\n",
      "45/45 [==============================] - ETA: 0s - batch: 22.0000 - size: 32.0000 - loss: 1.1230WARNING:tensorflow:Early stopping conditioned on metric `train_loss` which is not available. Available metrics are: loss,val_loss\n"
     ]
    },
    {
     "name": "stderr",
     "output_type": "stream",
     "text": [
      "WARNING:tensorflow:Early stopping conditioned on metric `train_loss` which is not available. Available metrics are: loss,val_loss\n"
     ]
    },
    {
     "name": "stdout",
     "output_type": "stream",
     "text": [
      "45/45 [==============================] - 3s 70ms/step - batch: 22.0000 - size: 32.0000 - loss: 1.1230 - val_loss: 1.8887 - lr: 8.3221e-04\n",
      "Epoch 143/500\n",
      "45/45 [==============================] - ETA: 0s - batch: 22.0000 - size: 32.0000 - loss: 1.1902WARNING:tensorflow:Early stopping conditioned on metric `train_loss` which is not available. Available metrics are: loss,val_loss\n"
     ]
    },
    {
     "name": "stderr",
     "output_type": "stream",
     "text": [
      "WARNING:tensorflow:Early stopping conditioned on metric `train_loss` which is not available. Available metrics are: loss,val_loss\n"
     ]
    },
    {
     "name": "stdout",
     "output_type": "stream",
     "text": [
      "45/45 [==============================] - 3s 70ms/step - batch: 22.0000 - size: 32.0000 - loss: 1.1902 - val_loss: 2.4141 - lr: 8.2980e-04\n",
      "Epoch 144/500\n",
      "45/45 [==============================] - ETA: 0s - batch: 22.0000 - size: 32.0000 - loss: 1.3897WARNING:tensorflow:Early stopping conditioned on metric `train_loss` which is not available. Available metrics are: loss,val_loss\n"
     ]
    },
    {
     "name": "stderr",
     "output_type": "stream",
     "text": [
      "WARNING:tensorflow:Early stopping conditioned on metric `train_loss` which is not available. Available metrics are: loss,val_loss\n"
     ]
    },
    {
     "name": "stdout",
     "output_type": "stream",
     "text": [
      "45/45 [==============================] - 3s 70ms/step - batch: 22.0000 - size: 32.0000 - loss: 1.3897 - val_loss: 2.0068 - lr: 8.2739e-04\n",
      "Epoch 145/500\n",
      "45/45 [==============================] - ETA: 0s - batch: 22.0000 - size: 32.0000 - loss: 1.2238WARNING:tensorflow:Early stopping conditioned on metric `train_loss` which is not available. Available metrics are: loss,val_loss\n"
     ]
    },
    {
     "name": "stderr",
     "output_type": "stream",
     "text": [
      "WARNING:tensorflow:Early stopping conditioned on metric `train_loss` which is not available. Available metrics are: loss,val_loss\n"
     ]
    },
    {
     "name": "stdout",
     "output_type": "stream",
     "text": [
      "45/45 [==============================] - 3s 70ms/step - batch: 22.0000 - size: 32.0000 - loss: 1.2238 - val_loss: 1.8946 - lr: 8.2495e-04\n",
      "Epoch 146/500\n",
      "45/45 [==============================] - ETA: 0s - batch: 22.0000 - size: 32.0000 - loss: 1.1160WARNING:tensorflow:Early stopping conditioned on metric `train_loss` which is not available. Available metrics are: loss,val_loss\n"
     ]
    },
    {
     "name": "stderr",
     "output_type": "stream",
     "text": [
      "WARNING:tensorflow:Early stopping conditioned on metric `train_loss` which is not available. Available metrics are: loss,val_loss\n"
     ]
    },
    {
     "name": "stdout",
     "output_type": "stream",
     "text": [
      "45/45 [==============================] - 3s 70ms/step - batch: 22.0000 - size: 32.0000 - loss: 1.1160 - val_loss: 1.8726 - lr: 8.2251e-04\n",
      "Epoch 147/500\n",
      "45/45 [==============================] - ETA: 0s - batch: 22.0000 - size: 32.0000 - loss: 1.1173WARNING:tensorflow:Early stopping conditioned on metric `train_loss` which is not available. Available metrics are: loss,val_loss\n"
     ]
    },
    {
     "name": "stderr",
     "output_type": "stream",
     "text": [
      "WARNING:tensorflow:Early stopping conditioned on metric `train_loss` which is not available. Available metrics are: loss,val_loss\n"
     ]
    },
    {
     "name": "stdout",
     "output_type": "stream",
     "text": [
      "45/45 [==============================] - 3s 70ms/step - batch: 22.0000 - size: 32.0000 - loss: 1.1173 - val_loss: 1.8859 - lr: 8.2005e-04\n",
      "Epoch 148/500\n",
      "45/45 [==============================] - ETA: 0s - batch: 22.0000 - size: 32.0000 - loss: 1.0950WARNING:tensorflow:Early stopping conditioned on metric `train_loss` which is not available. Available metrics are: loss,val_loss\n"
     ]
    },
    {
     "name": "stderr",
     "output_type": "stream",
     "text": [
      "WARNING:tensorflow:Early stopping conditioned on metric `train_loss` which is not available. Available metrics are: loss,val_loss\n"
     ]
    },
    {
     "name": "stdout",
     "output_type": "stream",
     "text": [
      "45/45 [==============================] - 3s 70ms/step - batch: 22.0000 - size: 32.0000 - loss: 1.0950 - val_loss: 1.9010 - lr: 8.1758e-04\n",
      "Epoch 149/500\n",
      "45/45 [==============================] - ETA: 0s - batch: 22.0000 - size: 32.0000 - loss: 1.0934WARNING:tensorflow:Early stopping conditioned on metric `train_loss` which is not available. Available metrics are: loss,val_loss\n"
     ]
    },
    {
     "name": "stderr",
     "output_type": "stream",
     "text": [
      "WARNING:tensorflow:Early stopping conditioned on metric `train_loss` which is not available. Available metrics are: loss,val_loss\n"
     ]
    },
    {
     "name": "stdout",
     "output_type": "stream",
     "text": [
      "45/45 [==============================] - 3s 70ms/step - batch: 22.0000 - size: 32.0000 - loss: 1.0934 - val_loss: 1.9110 - lr: 8.1509e-04\n",
      "Epoch 150/500\n",
      "45/45 [==============================] - ETA: 0s - batch: 22.0000 - size: 32.0000 - loss: 1.0962WARNING:tensorflow:Early stopping conditioned on metric `train_loss` which is not available. Available metrics are: loss,val_loss\n"
     ]
    },
    {
     "name": "stderr",
     "output_type": "stream",
     "text": [
      "WARNING:tensorflow:Early stopping conditioned on metric `train_loss` which is not available. Available metrics are: loss,val_loss\n"
     ]
    },
    {
     "name": "stdout",
     "output_type": "stream",
     "text": [
      "Get map.\n"
     ]
    },
    {
     "name": "stderr",
     "output_type": "stream",
     "text": [
      "100%|██████████| 178/178 [00:00<00:00, 204.83it/s]\n"
     ]
    },
    {
     "name": "stdout",
     "output_type": "stream",
     "text": [
      "Calculate Map.\n",
      "Path '.temp_map_out/results' already exists.\n",
      "88.38% = hand AP \t||\tscore_threhold=0.5 : F1=0.83 ; Recall=86.84% ; Precision=78.95%\n",
      "mAP = 88.38%\n",
      "Path '/home/zhangyouan/桌面/zya/NN_net/network/SSD/IMX_681_ssd_mobilenet_git/keras/detection/SSD_ipynb_transfer_callback_1227hand/output/20240228/loss_2024_06_27_14_24_39' already exists.\n",
      "Get map done.\n",
      "45/45 [==============================] - 4s 96ms/step - batch: 22.0000 - size: 32.0000 - loss: 1.0962 - val_loss: 1.9429 - lr: 8.1260e-04\n",
      "Epoch 151/500\n",
      "45/45 [==============================] - ETA: 0s - batch: 22.0000 - size: 32.0000 - loss: 1.0738WARNING:tensorflow:Early stopping conditioned on metric `train_loss` which is not available. Available metrics are: loss,val_loss\n"
     ]
    },
    {
     "name": "stderr",
     "output_type": "stream",
     "text": [
      "WARNING:tensorflow:Early stopping conditioned on metric `train_loss` which is not available. Available metrics are: loss,val_loss\n"
     ]
    },
    {
     "name": "stdout",
     "output_type": "stream",
     "text": [
      "45/45 [==============================] - 3s 70ms/step - batch: 22.0000 - size: 32.0000 - loss: 1.0738 - val_loss: 1.9070 - lr: 8.1009e-04\n",
      "Epoch 152/500\n",
      "45/45 [==============================] - ETA: 0s - batch: 22.0000 - size: 32.0000 - loss: 1.0642WARNING:tensorflow:Early stopping conditioned on metric `train_loss` which is not available. Available metrics are: loss,val_loss\n"
     ]
    },
    {
     "name": "stderr",
     "output_type": "stream",
     "text": [
      "WARNING:tensorflow:Early stopping conditioned on metric `train_loss` which is not available. Available metrics are: loss,val_loss\n"
     ]
    },
    {
     "name": "stdout",
     "output_type": "stream",
     "text": [
      "45/45 [==============================] - 3s 70ms/step - batch: 22.0000 - size: 32.0000 - loss: 1.0642 - val_loss: 1.9051 - lr: 8.0756e-04\n",
      "Epoch 153/500\n",
      "45/45 [==============================] - ETA: 0s - batch: 22.0000 - size: 32.0000 - loss: 1.0828WARNING:tensorflow:Early stopping conditioned on metric `train_loss` which is not available. Available metrics are: loss,val_loss\n"
     ]
    },
    {
     "name": "stderr",
     "output_type": "stream",
     "text": [
      "WARNING:tensorflow:Early stopping conditioned on metric `train_loss` which is not available. Available metrics are: loss,val_loss\n"
     ]
    },
    {
     "name": "stdout",
     "output_type": "stream",
     "text": [
      "45/45 [==============================] - 3s 70ms/step - batch: 22.0000 - size: 32.0000 - loss: 1.0828 - val_loss: 1.9214 - lr: 8.0503e-04\n",
      "Epoch 154/500\n",
      "45/45 [==============================] - ETA: 0s - batch: 22.0000 - size: 32.0000 - loss: 1.0620WARNING:tensorflow:Early stopping conditioned on metric `train_loss` which is not available. Available metrics are: loss,val_loss\n"
     ]
    },
    {
     "name": "stderr",
     "output_type": "stream",
     "text": [
      "WARNING:tensorflow:Early stopping conditioned on metric `train_loss` which is not available. Available metrics are: loss,val_loss\n"
     ]
    },
    {
     "name": "stdout",
     "output_type": "stream",
     "text": [
      "45/45 [==============================] - 3s 70ms/step - batch: 22.0000 - size: 32.0000 - loss: 1.0620 - val_loss: 1.9162 - lr: 8.0248e-04\n",
      "Epoch 155/500\n",
      "45/45 [==============================] - ETA: 0s - batch: 22.0000 - size: 32.0000 - loss: 1.0622WARNING:tensorflow:Early stopping conditioned on metric `train_loss` which is not available. Available metrics are: loss,val_loss\n"
     ]
    },
    {
     "name": "stderr",
     "output_type": "stream",
     "text": [
      "WARNING:tensorflow:Early stopping conditioned on metric `train_loss` which is not available. Available metrics are: loss,val_loss\n"
     ]
    },
    {
     "name": "stdout",
     "output_type": "stream",
     "text": [
      "45/45 [==============================] - 3s 70ms/step - batch: 22.0000 - size: 32.0000 - loss: 1.0622 - val_loss: 1.9225 - lr: 7.9992e-04\n",
      "Epoch 156/500\n",
      "45/45 [==============================] - ETA: 0s - batch: 22.0000 - size: 32.0000 - loss: 1.0630WARNING:tensorflow:Early stopping conditioned on metric `train_loss` which is not available. Available metrics are: loss,val_loss\n"
     ]
    },
    {
     "name": "stderr",
     "output_type": "stream",
     "text": [
      "WARNING:tensorflow:Early stopping conditioned on metric `train_loss` which is not available. Available metrics are: loss,val_loss\n"
     ]
    },
    {
     "name": "stdout",
     "output_type": "stream",
     "text": [
      "45/45 [==============================] - 3s 71ms/step - batch: 22.0000 - size: 32.0000 - loss: 1.0630 - val_loss: 1.9112 - lr: 7.9734e-04\n",
      "Epoch 157/500\n",
      "45/45 [==============================] - ETA: 0s - batch: 22.0000 - size: 32.0000 - loss: 1.0992WARNING:tensorflow:Early stopping conditioned on metric `train_loss` which is not available. Available metrics are: loss,val_loss\n"
     ]
    },
    {
     "name": "stderr",
     "output_type": "stream",
     "text": [
      "WARNING:tensorflow:Early stopping conditioned on metric `train_loss` which is not available. Available metrics are: loss,val_loss\n"
     ]
    },
    {
     "name": "stdout",
     "output_type": "stream",
     "text": [
      "45/45 [==============================] - 3s 70ms/step - batch: 22.0000 - size: 32.0000 - loss: 1.0992 - val_loss: 1.8796 - lr: 7.9476e-04\n",
      "Epoch 158/500\n",
      "45/45 [==============================] - ETA: 0s - batch: 22.0000 - size: 32.0000 - loss: 1.1050WARNING:tensorflow:Early stopping conditioned on metric `train_loss` which is not available. Available metrics are: loss,val_loss\n"
     ]
    },
    {
     "name": "stderr",
     "output_type": "stream",
     "text": [
      "WARNING:tensorflow:Early stopping conditioned on metric `train_loss` which is not available. Available metrics are: loss,val_loss\n"
     ]
    },
    {
     "name": "stdout",
     "output_type": "stream",
     "text": [
      "45/45 [==============================] - 3s 70ms/step - batch: 22.0000 - size: 32.0000 - loss: 1.1050 - val_loss: 1.9568 - lr: 7.9216e-04\n",
      "Epoch 159/500\n",
      "45/45 [==============================] - ETA: 0s - batch: 22.0000 - size: 32.0000 - loss: 1.0781WARNING:tensorflow:Early stopping conditioned on metric `train_loss` which is not available. Available metrics are: loss,val_loss\n"
     ]
    },
    {
     "name": "stderr",
     "output_type": "stream",
     "text": [
      "WARNING:tensorflow:Early stopping conditioned on metric `train_loss` which is not available. Available metrics are: loss,val_loss\n"
     ]
    },
    {
     "name": "stdout",
     "output_type": "stream",
     "text": [
      "45/45 [==============================] - 3s 70ms/step - batch: 22.0000 - size: 32.0000 - loss: 1.0781 - val_loss: 1.9195 - lr: 7.8955e-04\n",
      "Epoch 160/500\n",
      "45/45 [==============================] - ETA: 0s - batch: 22.0000 - size: 32.0000 - loss: 1.0549WARNING:tensorflow:Early stopping conditioned on metric `train_loss` which is not available. Available metrics are: loss,val_loss\n"
     ]
    },
    {
     "name": "stderr",
     "output_type": "stream",
     "text": [
      "WARNING:tensorflow:Early stopping conditioned on metric `train_loss` which is not available. Available metrics are: loss,val_loss\n"
     ]
    },
    {
     "name": "stdout",
     "output_type": "stream",
     "text": [
      "Get map.\n"
     ]
    },
    {
     "name": "stderr",
     "output_type": "stream",
     "text": [
      "100%|██████████| 178/178 [00:00<00:00, 202.18it/s]\n"
     ]
    },
    {
     "name": "stdout",
     "output_type": "stream",
     "text": [
      "Calculate Map.\n",
      "Path '.temp_map_out/results' already exists.\n",
      "88.85% = hand AP \t||\tscore_threhold=0.5 : F1=0.83 ; Recall=87.89% ; Precision=78.40%\n",
      "mAP = 88.85%\n",
      "Path '/home/zhangyouan/桌面/zya/NN_net/network/SSD/IMX_681_ssd_mobilenet_git/keras/detection/SSD_ipynb_transfer_callback_1227hand/output/20240228/loss_2024_06_27_14_24_39' already exists.\n",
      "Get map done.\n",
      "45/45 [==============================] - 4s 96ms/step - batch: 22.0000 - size: 32.0000 - loss: 1.0549 - val_loss: 1.9196 - lr: 7.8693e-04\n",
      "Epoch 161/500\n",
      "45/45 [==============================] - ETA: 0s - batch: 22.0000 - size: 32.0000 - loss: 1.0608WARNING:tensorflow:Early stopping conditioned on metric `train_loss` which is not available. Available metrics are: loss,val_loss\n"
     ]
    },
    {
     "name": "stderr",
     "output_type": "stream",
     "text": [
      "WARNING:tensorflow:Early stopping conditioned on metric `train_loss` which is not available. Available metrics are: loss,val_loss\n"
     ]
    },
    {
     "name": "stdout",
     "output_type": "stream",
     "text": [
      "45/45 [==============================] - 3s 70ms/step - batch: 22.0000 - size: 32.0000 - loss: 1.0608 - val_loss: 1.9300 - lr: 7.8429e-04\n",
      "Epoch 162/500\n",
      "45/45 [==============================] - ETA: 0s - batch: 22.0000 - size: 32.0000 - loss: 1.0411WARNING:tensorflow:Early stopping conditioned on metric `train_loss` which is not available. Available metrics are: loss,val_loss\n"
     ]
    },
    {
     "name": "stderr",
     "output_type": "stream",
     "text": [
      "WARNING:tensorflow:Early stopping conditioned on metric `train_loss` which is not available. Available metrics are: loss,val_loss\n"
     ]
    },
    {
     "name": "stdout",
     "output_type": "stream",
     "text": [
      "45/45 [==============================] - 3s 70ms/step - batch: 22.0000 - size: 32.0000 - loss: 1.0411 - val_loss: 1.9232 - lr: 7.8165e-04\n",
      "Epoch 163/500\n",
      "45/45 [==============================] - ETA: 0s - batch: 22.0000 - size: 32.0000 - loss: 1.0431WARNING:tensorflow:Early stopping conditioned on metric `train_loss` which is not available. Available metrics are: loss,val_loss\n"
     ]
    },
    {
     "name": "stderr",
     "output_type": "stream",
     "text": [
      "WARNING:tensorflow:Early stopping conditioned on metric `train_loss` which is not available. Available metrics are: loss,val_loss\n"
     ]
    },
    {
     "name": "stdout",
     "output_type": "stream",
     "text": [
      "45/45 [==============================] - 3s 70ms/step - batch: 22.0000 - size: 32.0000 - loss: 1.0431 - val_loss: 1.9059 - lr: 7.7899e-04\n",
      "Epoch 164/500\n",
      "45/45 [==============================] - ETA: 0s - batch: 22.0000 - size: 32.0000 - loss: 1.0533WARNING:tensorflow:Early stopping conditioned on metric `train_loss` which is not available. Available metrics are: loss,val_loss\n"
     ]
    },
    {
     "name": "stderr",
     "output_type": "stream",
     "text": [
      "WARNING:tensorflow:Early stopping conditioned on metric `train_loss` which is not available. Available metrics are: loss,val_loss\n"
     ]
    },
    {
     "name": "stdout",
     "output_type": "stream",
     "text": [
      "45/45 [==============================] - 3s 70ms/step - batch: 22.0000 - size: 32.0000 - loss: 1.0533 - val_loss: 1.9240 - lr: 7.7632e-04\n",
      "Epoch 165/500\n",
      "45/45 [==============================] - ETA: 0s - batch: 22.0000 - size: 32.0000 - loss: 1.0544WARNING:tensorflow:Early stopping conditioned on metric `train_loss` which is not available. Available metrics are: loss,val_loss\n"
     ]
    },
    {
     "name": "stderr",
     "output_type": "stream",
     "text": [
      "WARNING:tensorflow:Early stopping conditioned on metric `train_loss` which is not available. Available metrics are: loss,val_loss\n"
     ]
    },
    {
     "name": "stdout",
     "output_type": "stream",
     "text": [
      "45/45 [==============================] - 3s 70ms/step - batch: 22.0000 - size: 32.0000 - loss: 1.0544 - val_loss: 1.9536 - lr: 7.7364e-04\n",
      "Epoch 166/500\n",
      "45/45 [==============================] - ETA: 0s - batch: 22.0000 - size: 32.0000 - loss: 1.0293WARNING:tensorflow:Early stopping conditioned on metric `train_loss` which is not available. Available metrics are: loss,val_loss\n"
     ]
    },
    {
     "name": "stderr",
     "output_type": "stream",
     "text": [
      "WARNING:tensorflow:Early stopping conditioned on metric `train_loss` which is not available. Available metrics are: loss,val_loss\n"
     ]
    },
    {
     "name": "stdout",
     "output_type": "stream",
     "text": [
      "45/45 [==============================] - 3s 70ms/step - batch: 22.0000 - size: 32.0000 - loss: 1.0293 - val_loss: 1.8987 - lr: 7.7095e-04\n",
      "Epoch 167/500\n",
      "45/45 [==============================] - ETA: 0s - batch: 22.0000 - size: 32.0000 - loss: 1.0276WARNING:tensorflow:Early stopping conditioned on metric `train_loss` which is not available. Available metrics are: loss,val_loss\n"
     ]
    },
    {
     "name": "stderr",
     "output_type": "stream",
     "text": [
      "WARNING:tensorflow:Early stopping conditioned on metric `train_loss` which is not available. Available metrics are: loss,val_loss\n"
     ]
    },
    {
     "name": "stdout",
     "output_type": "stream",
     "text": [
      "45/45 [==============================] - 3s 71ms/step - batch: 22.0000 - size: 32.0000 - loss: 1.0276 - val_loss: 1.9222 - lr: 7.6825e-04\n",
      "Epoch 168/500\n",
      "45/45 [==============================] - ETA: 0s - batch: 22.0000 - size: 32.0000 - loss: 1.0124WARNING:tensorflow:Early stopping conditioned on metric `train_loss` which is not available. Available metrics are: loss,val_loss\n"
     ]
    },
    {
     "name": "stderr",
     "output_type": "stream",
     "text": [
      "WARNING:tensorflow:Early stopping conditioned on metric `train_loss` which is not available. Available metrics are: loss,val_loss\n"
     ]
    },
    {
     "name": "stdout",
     "output_type": "stream",
     "text": [
      "45/45 [==============================] - 3s 74ms/step - batch: 22.0000 - size: 32.0000 - loss: 1.0124 - val_loss: 1.9474 - lr: 7.6554e-04\n",
      "Epoch 169/500\n",
      "45/45 [==============================] - ETA: 0s - batch: 22.0000 - size: 32.0000 - loss: 1.0381WARNING:tensorflow:Early stopping conditioned on metric `train_loss` which is not available. Available metrics are: loss,val_loss\n"
     ]
    },
    {
     "name": "stderr",
     "output_type": "stream",
     "text": [
      "WARNING:tensorflow:Early stopping conditioned on metric `train_loss` which is not available. Available metrics are: loss,val_loss\n"
     ]
    },
    {
     "name": "stdout",
     "output_type": "stream",
     "text": [
      "45/45 [==============================] - 3s 70ms/step - batch: 22.0000 - size: 32.0000 - loss: 1.0381 - val_loss: 1.9165 - lr: 7.6281e-04\n",
      "Epoch 170/500\n",
      "45/45 [==============================] - ETA: 0s - batch: 22.0000 - size: 32.0000 - loss: 1.0299WARNING:tensorflow:Early stopping conditioned on metric `train_loss` which is not available. Available metrics are: loss,val_loss\n"
     ]
    },
    {
     "name": "stderr",
     "output_type": "stream",
     "text": [
      "WARNING:tensorflow:Early stopping conditioned on metric `train_loss` which is not available. Available metrics are: loss,val_loss\n"
     ]
    },
    {
     "name": "stdout",
     "output_type": "stream",
     "text": [
      "Get map.\n"
     ]
    },
    {
     "name": "stderr",
     "output_type": "stream",
     "text": [
      "100%|██████████| 178/178 [00:00<00:00, 203.29it/s]\n"
     ]
    },
    {
     "name": "stdout",
     "output_type": "stream",
     "text": [
      "Calculate Map.\n",
      "Path '.temp_map_out/results' already exists.\n",
      "88.66% = hand AP \t||\tscore_threhold=0.5 : F1=0.83 ; Recall=87.37% ; Precision=79.05%\n",
      "mAP = 88.66%\n",
      "Path '/home/zhangyouan/桌面/zya/NN_net/network/SSD/IMX_681_ssd_mobilenet_git/keras/detection/SSD_ipynb_transfer_callback_1227hand/output/20240228/loss_2024_06_27_14_24_39' already exists.\n",
      "Get map done.\n",
      "45/45 [==============================] - 4s 96ms/step - batch: 22.0000 - size: 32.0000 - loss: 1.0299 - val_loss: 1.9029 - lr: 7.6008e-04\n",
      "Epoch 171/500\n",
      "45/45 [==============================] - ETA: 0s - batch: 22.0000 - size: 32.0000 - loss: 1.0149WARNING:tensorflow:Early stopping conditioned on metric `train_loss` which is not available. Available metrics are: loss,val_loss\n"
     ]
    },
    {
     "name": "stderr",
     "output_type": "stream",
     "text": [
      "WARNING:tensorflow:Early stopping conditioned on metric `train_loss` which is not available. Available metrics are: loss,val_loss\n"
     ]
    },
    {
     "name": "stdout",
     "output_type": "stream",
     "text": [
      "45/45 [==============================] - 3s 70ms/step - batch: 22.0000 - size: 32.0000 - loss: 1.0149 - val_loss: 1.9192 - lr: 7.5733e-04\n",
      "Epoch 172/500\n",
      "45/45 [==============================] - ETA: 0s - batch: 22.0000 - size: 32.0000 - loss: 1.0059WARNING:tensorflow:Early stopping conditioned on metric `train_loss` which is not available. Available metrics are: loss,val_loss\n"
     ]
    },
    {
     "name": "stderr",
     "output_type": "stream",
     "text": [
      "WARNING:tensorflow:Early stopping conditioned on metric `train_loss` which is not available. Available metrics are: loss,val_loss\n"
     ]
    },
    {
     "name": "stdout",
     "output_type": "stream",
     "text": [
      "45/45 [==============================] - 3s 70ms/step - batch: 22.0000 - size: 32.0000 - loss: 1.0059 - val_loss: 1.9130 - lr: 7.5458e-04\n",
      "Epoch 173/500\n",
      "45/45 [==============================] - ETA: 0s - batch: 22.0000 - size: 32.0000 - loss: 1.0078WARNING:tensorflow:Early stopping conditioned on metric `train_loss` which is not available. Available metrics are: loss,val_loss\n"
     ]
    },
    {
     "name": "stderr",
     "output_type": "stream",
     "text": [
      "WARNING:tensorflow:Early stopping conditioned on metric `train_loss` which is not available. Available metrics are: loss,val_loss\n"
     ]
    },
    {
     "name": "stdout",
     "output_type": "stream",
     "text": [
      "45/45 [==============================] - 3s 70ms/step - batch: 22.0000 - size: 32.0000 - loss: 1.0078 - val_loss: 1.9029 - lr: 7.5181e-04\n",
      "Epoch 174/500\n",
      "45/45 [==============================] - ETA: 0s - batch: 22.0000 - size: 32.0000 - loss: 1.0267WARNING:tensorflow:Early stopping conditioned on metric `train_loss` which is not available. Available metrics are: loss,val_loss\n"
     ]
    },
    {
     "name": "stderr",
     "output_type": "stream",
     "text": [
      "WARNING:tensorflow:Early stopping conditioned on metric `train_loss` which is not available. Available metrics are: loss,val_loss\n"
     ]
    },
    {
     "name": "stdout",
     "output_type": "stream",
     "text": [
      "45/45 [==============================] - 3s 70ms/step - batch: 22.0000 - size: 32.0000 - loss: 1.0267 - val_loss: 1.9247 - lr: 7.4903e-04\n",
      "Epoch 175/500\n",
      "45/45 [==============================] - ETA: 0s - batch: 22.0000 - size: 32.0000 - loss: 1.0602WARNING:tensorflow:Early stopping conditioned on metric `train_loss` which is not available. Available metrics are: loss,val_loss\n"
     ]
    },
    {
     "name": "stderr",
     "output_type": "stream",
     "text": [
      "WARNING:tensorflow:Early stopping conditioned on metric `train_loss` which is not available. Available metrics are: loss,val_loss\n"
     ]
    },
    {
     "name": "stdout",
     "output_type": "stream",
     "text": [
      "45/45 [==============================] - 3s 70ms/step - batch: 22.0000 - size: 32.0000 - loss: 1.0602 - val_loss: 1.9651 - lr: 7.4624e-04\n",
      "Epoch 176/500\n",
      "45/45 [==============================] - ETA: 0s - batch: 22.0000 - size: 32.0000 - loss: 1.0202WARNING:tensorflow:Early stopping conditioned on metric `train_loss` which is not available. Available metrics are: loss,val_loss\n"
     ]
    },
    {
     "name": "stderr",
     "output_type": "stream",
     "text": [
      "WARNING:tensorflow:Early stopping conditioned on metric `train_loss` which is not available. Available metrics are: loss,val_loss\n"
     ]
    },
    {
     "name": "stdout",
     "output_type": "stream",
     "text": [
      "45/45 [==============================] - 3s 70ms/step - batch: 22.0000 - size: 32.0000 - loss: 1.0202 - val_loss: 1.9066 - lr: 7.4345e-04\n",
      "Epoch 177/500\n",
      "45/45 [==============================] - ETA: 0s - batch: 22.0000 - size: 32.0000 - loss: 0.9870WARNING:tensorflow:Early stopping conditioned on metric `train_loss` which is not available. Available metrics are: loss,val_loss\n"
     ]
    },
    {
     "name": "stderr",
     "output_type": "stream",
     "text": [
      "WARNING:tensorflow:Early stopping conditioned on metric `train_loss` which is not available. Available metrics are: loss,val_loss\n"
     ]
    },
    {
     "name": "stdout",
     "output_type": "stream",
     "text": [
      "45/45 [==============================] - 3s 70ms/step - batch: 22.0000 - size: 32.0000 - loss: 0.9870 - val_loss: 1.8900 - lr: 7.4064e-04\n",
      "Epoch 178/500\n",
      "45/45 [==============================] - ETA: 0s - batch: 22.0000 - size: 32.0000 - loss: 1.0009WARNING:tensorflow:Early stopping conditioned on metric `train_loss` which is not available. Available metrics are: loss,val_loss\n"
     ]
    },
    {
     "name": "stderr",
     "output_type": "stream",
     "text": [
      "WARNING:tensorflow:Early stopping conditioned on metric `train_loss` which is not available. Available metrics are: loss,val_loss\n"
     ]
    },
    {
     "name": "stdout",
     "output_type": "stream",
     "text": [
      "45/45 [==============================] - 3s 70ms/step - batch: 22.0000 - size: 32.0000 - loss: 1.0009 - val_loss: 1.9497 - lr: 7.3782e-04\n",
      "Epoch 179/500\n",
      "45/45 [==============================] - ETA: 0s - batch: 22.0000 - size: 32.0000 - loss: 0.9987WARNING:tensorflow:Early stopping conditioned on metric `train_loss` which is not available. Available metrics are: loss,val_loss\n"
     ]
    },
    {
     "name": "stderr",
     "output_type": "stream",
     "text": [
      "WARNING:tensorflow:Early stopping conditioned on metric `train_loss` which is not available. Available metrics are: loss,val_loss\n"
     ]
    },
    {
     "name": "stdout",
     "output_type": "stream",
     "text": [
      "45/45 [==============================] - 3s 70ms/step - batch: 22.0000 - size: 32.0000 - loss: 0.9987 - val_loss: 1.9524 - lr: 7.3499e-04\n",
      "Epoch 180/500\n",
      "45/45 [==============================] - ETA: 0s - batch: 22.0000 - size: 32.0000 - loss: 0.9872WARNING:tensorflow:Early stopping conditioned on metric `train_loss` which is not available. Available metrics are: loss,val_loss\n"
     ]
    },
    {
     "name": "stderr",
     "output_type": "stream",
     "text": [
      "WARNING:tensorflow:Early stopping conditioned on metric `train_loss` which is not available. Available metrics are: loss,val_loss\n"
     ]
    },
    {
     "name": "stdout",
     "output_type": "stream",
     "text": [
      "Get map.\n"
     ]
    },
    {
     "name": "stderr",
     "output_type": "stream",
     "text": [
      "100%|██████████| 178/178 [00:00<00:00, 203.92it/s]\n"
     ]
    },
    {
     "name": "stdout",
     "output_type": "stream",
     "text": [
      "Calculate Map.\n",
      "Path '.temp_map_out/results' already exists.\n",
      "90.08% = hand AP \t||\tscore_threhold=0.5 : F1=0.85 ; Recall=88.95% ; Precision=82.04%\n",
      "mAP = 90.08%\n",
      "Path '/home/zhangyouan/桌面/zya/NN_net/network/SSD/IMX_681_ssd_mobilenet_git/keras/detection/SSD_ipynb_transfer_callback_1227hand/output/20240228/loss_2024_06_27_14_24_39' already exists.\n",
      "Get map done.\n",
      "45/45 [==============================] - 4s 96ms/step - batch: 22.0000 - size: 32.0000 - loss: 0.9872 - val_loss: 1.9276 - lr: 7.3216e-04\n",
      "Epoch 181/500\n",
      "45/45 [==============================] - ETA: 0s - batch: 22.0000 - size: 32.0000 - loss: 0.9855WARNING:tensorflow:Early stopping conditioned on metric `train_loss` which is not available. Available metrics are: loss,val_loss\n"
     ]
    },
    {
     "name": "stderr",
     "output_type": "stream",
     "text": [
      "WARNING:tensorflow:Early stopping conditioned on metric `train_loss` which is not available. Available metrics are: loss,val_loss\n"
     ]
    },
    {
     "name": "stdout",
     "output_type": "stream",
     "text": [
      "45/45 [==============================] - 3s 70ms/step - batch: 22.0000 - size: 32.0000 - loss: 0.9855 - val_loss: 1.9385 - lr: 7.2931e-04\n",
      "Epoch 182/500\n",
      "45/45 [==============================] - ETA: 0s - batch: 22.0000 - size: 32.0000 - loss: 0.9916WARNING:tensorflow:Early stopping conditioned on metric `train_loss` which is not available. Available metrics are: loss,val_loss\n"
     ]
    },
    {
     "name": "stderr",
     "output_type": "stream",
     "text": [
      "WARNING:tensorflow:Early stopping conditioned on metric `train_loss` which is not available. Available metrics are: loss,val_loss\n"
     ]
    },
    {
     "name": "stdout",
     "output_type": "stream",
     "text": [
      "45/45 [==============================] - 3s 70ms/step - batch: 22.0000 - size: 32.0000 - loss: 0.9916 - val_loss: 1.9449 - lr: 7.2646e-04\n",
      "Epoch 183/500\n",
      "45/45 [==============================] - ETA: 0s - batch: 22.0000 - size: 32.0000 - loss: 0.9766WARNING:tensorflow:Early stopping conditioned on metric `train_loss` which is not available. Available metrics are: loss,val_loss\n"
     ]
    },
    {
     "name": "stderr",
     "output_type": "stream",
     "text": [
      "WARNING:tensorflow:Early stopping conditioned on metric `train_loss` which is not available. Available metrics are: loss,val_loss\n"
     ]
    },
    {
     "name": "stdout",
     "output_type": "stream",
     "text": [
      "45/45 [==============================] - 3s 70ms/step - batch: 22.0000 - size: 32.0000 - loss: 0.9766 - val_loss: 1.9801 - lr: 7.2359e-04\n",
      "Epoch 184/500\n",
      "45/45 [==============================] - ETA: 0s - batch: 22.0000 - size: 32.0000 - loss: 0.9640WARNING:tensorflow:Early stopping conditioned on metric `train_loss` which is not available. Available metrics are: loss,val_loss\n"
     ]
    },
    {
     "name": "stderr",
     "output_type": "stream",
     "text": [
      "WARNING:tensorflow:Early stopping conditioned on metric `train_loss` which is not available. Available metrics are: loss,val_loss\n"
     ]
    },
    {
     "name": "stdout",
     "output_type": "stream",
     "text": [
      "45/45 [==============================] - 3s 70ms/step - batch: 22.0000 - size: 32.0000 - loss: 0.9640 - val_loss: 1.9452 - lr: 7.2072e-04\n",
      "Epoch 185/500\n",
      "45/45 [==============================] - ETA: 0s - batch: 22.0000 - size: 32.0000 - loss: 0.9657WARNING:tensorflow:Early stopping conditioned on metric `train_loss` which is not available. Available metrics are: loss,val_loss\n"
     ]
    },
    {
     "name": "stderr",
     "output_type": "stream",
     "text": [
      "WARNING:tensorflow:Early stopping conditioned on metric `train_loss` which is not available. Available metrics are: loss,val_loss\n"
     ]
    },
    {
     "name": "stdout",
     "output_type": "stream",
     "text": [
      "45/45 [==============================] - 3s 70ms/step - batch: 22.0000 - size: 32.0000 - loss: 0.9657 - val_loss: 1.9323 - lr: 7.1783e-04\n",
      "Epoch 186/500\n",
      "45/45 [==============================] - ETA: 0s - batch: 22.0000 - size: 32.0000 - loss: 0.9698WARNING:tensorflow:Early stopping conditioned on metric `train_loss` which is not available. Available metrics are: loss,val_loss\n"
     ]
    },
    {
     "name": "stderr",
     "output_type": "stream",
     "text": [
      "WARNING:tensorflow:Early stopping conditioned on metric `train_loss` which is not available. Available metrics are: loss,val_loss\n"
     ]
    },
    {
     "name": "stdout",
     "output_type": "stream",
     "text": [
      "45/45 [==============================] - 3s 71ms/step - batch: 22.0000 - size: 32.0000 - loss: 0.9698 - val_loss: 1.9211 - lr: 7.1494e-04\n",
      "Epoch 187/500\n",
      "45/45 [==============================] - ETA: 0s - batch: 22.0000 - size: 32.0000 - loss: 0.9626WARNING:tensorflow:Early stopping conditioned on metric `train_loss` which is not available. Available metrics are: loss,val_loss\n"
     ]
    },
    {
     "name": "stderr",
     "output_type": "stream",
     "text": [
      "WARNING:tensorflow:Early stopping conditioned on metric `train_loss` which is not available. Available metrics are: loss,val_loss\n"
     ]
    },
    {
     "name": "stdout",
     "output_type": "stream",
     "text": [
      "45/45 [==============================] - 3s 70ms/step - batch: 22.0000 - size: 32.0000 - loss: 0.9626 - val_loss: 1.9669 - lr: 7.1204e-04\n",
      "Epoch 188/500\n",
      "45/45 [==============================] - ETA: 0s - batch: 22.0000 - size: 32.0000 - loss: 0.9704WARNING:tensorflow:Early stopping conditioned on metric `train_loss` which is not available. Available metrics are: loss,val_loss\n"
     ]
    },
    {
     "name": "stderr",
     "output_type": "stream",
     "text": [
      "WARNING:tensorflow:Early stopping conditioned on metric `train_loss` which is not available. Available metrics are: loss,val_loss\n"
     ]
    },
    {
     "name": "stdout",
     "output_type": "stream",
     "text": [
      "45/45 [==============================] - 3s 72ms/step - batch: 22.0000 - size: 32.0000 - loss: 0.9704 - val_loss: 2.0017 - lr: 7.0913e-04\n",
      "Epoch 189/500\n",
      "45/45 [==============================] - ETA: 0s - batch: 22.0000 - size: 32.0000 - loss: 1.0031WARNING:tensorflow:Early stopping conditioned on metric `train_loss` which is not available. Available metrics are: loss,val_loss\n"
     ]
    },
    {
     "name": "stderr",
     "output_type": "stream",
     "text": [
      "WARNING:tensorflow:Early stopping conditioned on metric `train_loss` which is not available. Available metrics are: loss,val_loss\n"
     ]
    },
    {
     "name": "stdout",
     "output_type": "stream",
     "text": [
      "45/45 [==============================] - 3s 71ms/step - batch: 22.0000 - size: 32.0000 - loss: 1.0031 - val_loss: 1.9431 - lr: 7.0621e-04\n",
      "Epoch 190/500\n",
      "45/45 [==============================] - ETA: 0s - batch: 22.0000 - size: 32.0000 - loss: 0.9752WARNING:tensorflow:Early stopping conditioned on metric `train_loss` which is not available. Available metrics are: loss,val_loss\n"
     ]
    },
    {
     "name": "stderr",
     "output_type": "stream",
     "text": [
      "WARNING:tensorflow:Early stopping conditioned on metric `train_loss` which is not available. Available metrics are: loss,val_loss\n"
     ]
    },
    {
     "name": "stdout",
     "output_type": "stream",
     "text": [
      "Get map.\n"
     ]
    },
    {
     "name": "stderr",
     "output_type": "stream",
     "text": [
      "100%|██████████| 178/178 [00:00<00:00, 210.61it/s]\n"
     ]
    },
    {
     "name": "stdout",
     "output_type": "stream",
     "text": [
      "Calculate Map.\n",
      "Path '.temp_map_out/results' already exists.\n",
      "89.79% = hand AP \t||\tscore_threhold=0.5 : F1=0.83 ; Recall=88.95% ; Precision=78.24%\n",
      "mAP = 89.79%\n",
      "Path '/home/zhangyouan/桌面/zya/NN_net/network/SSD/IMX_681_ssd_mobilenet_git/keras/detection/SSD_ipynb_transfer_callback_1227hand/output/20240228/loss_2024_06_27_14_24_39' already exists.\n",
      "Get map done.\n",
      "45/45 [==============================] - 5s 101ms/step - batch: 22.0000 - size: 32.0000 - loss: 0.9752 - val_loss: 1.9355 - lr: 7.0328e-04\n",
      "Epoch 191/500\n",
      "45/45 [==============================] - ETA: 0s - batch: 22.0000 - size: 32.0000 - loss: 0.9647WARNING:tensorflow:Early stopping conditioned on metric `train_loss` which is not available. Available metrics are: loss,val_loss\n"
     ]
    },
    {
     "name": "stderr",
     "output_type": "stream",
     "text": [
      "WARNING:tensorflow:Early stopping conditioned on metric `train_loss` which is not available. Available metrics are: loss,val_loss\n"
     ]
    },
    {
     "name": "stdout",
     "output_type": "stream",
     "text": [
      "45/45 [==============================] - 3s 70ms/step - batch: 22.0000 - size: 32.0000 - loss: 0.9647 - val_loss: 1.9415 - lr: 7.0035e-04\n",
      "Epoch 192/500\n",
      "45/45 [==============================] - ETA: 0s - batch: 22.0000 - size: 32.0000 - loss: 0.9547WARNING:tensorflow:Early stopping conditioned on metric `train_loss` which is not available. Available metrics are: loss,val_loss\n"
     ]
    },
    {
     "name": "stderr",
     "output_type": "stream",
     "text": [
      "WARNING:tensorflow:Early stopping conditioned on metric `train_loss` which is not available. Available metrics are: loss,val_loss\n"
     ]
    },
    {
     "name": "stdout",
     "output_type": "stream",
     "text": [
      "45/45 [==============================] - 3s 71ms/step - batch: 22.0000 - size: 32.0000 - loss: 0.9547 - val_loss: 1.9358 - lr: 6.9740e-04\n",
      "Epoch 193/500\n",
      "45/45 [==============================] - ETA: 0s - batch: 22.0000 - size: 32.0000 - loss: 0.9453WARNING:tensorflow:Early stopping conditioned on metric `train_loss` which is not available. Available metrics are: loss,val_loss\n"
     ]
    },
    {
     "name": "stderr",
     "output_type": "stream",
     "text": [
      "WARNING:tensorflow:Early stopping conditioned on metric `train_loss` which is not available. Available metrics are: loss,val_loss\n"
     ]
    },
    {
     "name": "stdout",
     "output_type": "stream",
     "text": [
      "45/45 [==============================] - 3s 70ms/step - batch: 22.0000 - size: 32.0000 - loss: 0.9453 - val_loss: 1.9214 - lr: 6.9445e-04\n",
      "Epoch 194/500\n",
      "45/45 [==============================] - ETA: 0s - batch: 22.0000 - size: 32.0000 - loss: 0.9580WARNING:tensorflow:Early stopping conditioned on metric `train_loss` which is not available. Available metrics are: loss,val_loss\n"
     ]
    },
    {
     "name": "stderr",
     "output_type": "stream",
     "text": [
      "WARNING:tensorflow:Early stopping conditioned on metric `train_loss` which is not available. Available metrics are: loss,val_loss\n"
     ]
    },
    {
     "name": "stdout",
     "output_type": "stream",
     "text": [
      "45/45 [==============================] - 3s 70ms/step - batch: 22.0000 - size: 32.0000 - loss: 0.9580 - val_loss: 2.0061 - lr: 6.9149e-04\n",
      "Epoch 195/500\n",
      "45/45 [==============================] - ETA: 0s - batch: 22.0000 - size: 32.0000 - loss: 0.9697WARNING:tensorflow:Early stopping conditioned on metric `train_loss` which is not available. Available metrics are: loss,val_loss\n"
     ]
    },
    {
     "name": "stderr",
     "output_type": "stream",
     "text": [
      "WARNING:tensorflow:Early stopping conditioned on metric `train_loss` which is not available. Available metrics are: loss,val_loss\n"
     ]
    },
    {
     "name": "stdout",
     "output_type": "stream",
     "text": [
      "45/45 [==============================] - 3s 72ms/step - batch: 22.0000 - size: 32.0000 - loss: 0.9697 - val_loss: 1.9333 - lr: 6.8852e-04\n",
      "Epoch 196/500\n",
      "45/45 [==============================] - ETA: 0s - batch: 22.0000 - size: 32.0000 - loss: 0.9833WARNING:tensorflow:Early stopping conditioned on metric `train_loss` which is not available. Available metrics are: loss,val_loss\n"
     ]
    },
    {
     "name": "stderr",
     "output_type": "stream",
     "text": [
      "WARNING:tensorflow:Early stopping conditioned on metric `train_loss` which is not available. Available metrics are: loss,val_loss\n"
     ]
    },
    {
     "name": "stdout",
     "output_type": "stream",
     "text": [
      "45/45 [==============================] - 3s 73ms/step - batch: 22.0000 - size: 32.0000 - loss: 0.9833 - val_loss: 2.0611 - lr: 6.8555e-04\n",
      "Epoch 197/500\n",
      "45/45 [==============================] - ETA: 0s - batch: 22.0000 - size: 32.0000 - loss: 0.9830WARNING:tensorflow:Early stopping conditioned on metric `train_loss` which is not available. Available metrics are: loss,val_loss\n"
     ]
    },
    {
     "name": "stderr",
     "output_type": "stream",
     "text": [
      "WARNING:tensorflow:Early stopping conditioned on metric `train_loss` which is not available. Available metrics are: loss,val_loss\n"
     ]
    },
    {
     "name": "stdout",
     "output_type": "stream",
     "text": [
      "45/45 [==============================] - 3s 70ms/step - batch: 22.0000 - size: 32.0000 - loss: 0.9830 - val_loss: 1.9321 - lr: 6.8256e-04\n",
      "Epoch 198/500\n",
      "45/45 [==============================] - ETA: 0s - batch: 22.0000 - size: 32.0000 - loss: 0.9406WARNING:tensorflow:Early stopping conditioned on metric `train_loss` which is not available. Available metrics are: loss,val_loss\n"
     ]
    },
    {
     "name": "stderr",
     "output_type": "stream",
     "text": [
      "WARNING:tensorflow:Early stopping conditioned on metric `train_loss` which is not available. Available metrics are: loss,val_loss\n"
     ]
    },
    {
     "name": "stdout",
     "output_type": "stream",
     "text": [
      "45/45 [==============================] - 3s 71ms/step - batch: 22.0000 - size: 32.0000 - loss: 0.9406 - val_loss: 2.1049 - lr: 6.7957e-04\n",
      "Epoch 199/500\n",
      "45/45 [==============================] - ETA: 0s - batch: 22.0000 - size: 32.0000 - loss: 0.9576WARNING:tensorflow:Early stopping conditioned on metric `train_loss` which is not available. Available metrics are: loss,val_loss\n"
     ]
    },
    {
     "name": "stderr",
     "output_type": "stream",
     "text": [
      "WARNING:tensorflow:Early stopping conditioned on metric `train_loss` which is not available. Available metrics are: loss,val_loss\n"
     ]
    },
    {
     "name": "stdout",
     "output_type": "stream",
     "text": [
      "45/45 [==============================] - 3s 70ms/step - batch: 22.0000 - size: 32.0000 - loss: 0.9576 - val_loss: 1.9845 - lr: 6.7657e-04\n",
      "Epoch 200/500\n",
      "45/45 [==============================] - ETA: 0s - batch: 22.0000 - size: 32.0000 - loss: 0.9367WARNING:tensorflow:Early stopping conditioned on metric `train_loss` which is not available. Available metrics are: loss,val_loss\n"
     ]
    },
    {
     "name": "stderr",
     "output_type": "stream",
     "text": [
      "WARNING:tensorflow:Early stopping conditioned on metric `train_loss` which is not available. Available metrics are: loss,val_loss\n"
     ]
    },
    {
     "name": "stdout",
     "output_type": "stream",
     "text": [
      "Get map.\n"
     ]
    },
    {
     "name": "stderr",
     "output_type": "stream",
     "text": [
      "100%|██████████| 178/178 [00:00<00:00, 203.94it/s]\n"
     ]
    },
    {
     "name": "stdout",
     "output_type": "stream",
     "text": [
      "Calculate Map.\n",
      "Path '.temp_map_out/results' already exists.\n",
      "89.80% = hand AP \t||\tscore_threhold=0.5 : F1=0.83 ; Recall=87.89% ; Precision=79.52%\n",
      "mAP = 89.80%\n",
      "Path '/home/zhangyouan/桌面/zya/NN_net/network/SSD/IMX_681_ssd_mobilenet_git/keras/detection/SSD_ipynb_transfer_callback_1227hand/output/20240228/loss_2024_06_27_14_24_39' already exists.\n",
      "Get map done.\n",
      "45/45 [==============================] - 4s 96ms/step - batch: 22.0000 - size: 32.0000 - loss: 0.9367 - val_loss: 1.9694 - lr: 6.7357e-04\n",
      "Epoch 201/500\n",
      "45/45 [==============================] - ETA: 0s - batch: 22.0000 - size: 32.0000 - loss: 0.9318WARNING:tensorflow:Early stopping conditioned on metric `train_loss` which is not available. Available metrics are: loss,val_loss\n"
     ]
    },
    {
     "name": "stderr",
     "output_type": "stream",
     "text": [
      "WARNING:tensorflow:Early stopping conditioned on metric `train_loss` which is not available. Available metrics are: loss,val_loss\n"
     ]
    },
    {
     "name": "stdout",
     "output_type": "stream",
     "text": [
      "45/45 [==============================] - 3s 70ms/step - batch: 22.0000 - size: 32.0000 - loss: 0.9318 - val_loss: 1.9766 - lr: 6.7056e-04\n",
      "Epoch 202/500\n",
      "45/45 [==============================] - ETA: 0s - batch: 22.0000 - size: 32.0000 - loss: 0.9342WARNING:tensorflow:Early stopping conditioned on metric `train_loss` which is not available. Available metrics are: loss,val_loss\n"
     ]
    },
    {
     "name": "stderr",
     "output_type": "stream",
     "text": [
      "WARNING:tensorflow:Early stopping conditioned on metric `train_loss` which is not available. Available metrics are: loss,val_loss\n"
     ]
    },
    {
     "name": "stdout",
     "output_type": "stream",
     "text": [
      "45/45 [==============================] - 3s 70ms/step - batch: 22.0000 - size: 32.0000 - loss: 0.9342 - val_loss: 1.9382 - lr: 6.6754e-04\n",
      "Epoch 203/500\n",
      "45/45 [==============================] - ETA: 0s - batch: 22.0000 - size: 32.0000 - loss: 0.9450WARNING:tensorflow:Early stopping conditioned on metric `train_loss` which is not available. Available metrics are: loss,val_loss\n"
     ]
    },
    {
     "name": "stderr",
     "output_type": "stream",
     "text": [
      "WARNING:tensorflow:Early stopping conditioned on metric `train_loss` which is not available. Available metrics are: loss,val_loss\n"
     ]
    },
    {
     "name": "stdout",
     "output_type": "stream",
     "text": [
      "45/45 [==============================] - 3s 70ms/step - batch: 22.0000 - size: 32.0000 - loss: 0.9450 - val_loss: 2.0885 - lr: 6.6451e-04\n",
      "Epoch 204/500\n",
      "45/45 [==============================] - ETA: 0s - batch: 22.0000 - size: 32.0000 - loss: 0.9733WARNING:tensorflow:Early stopping conditioned on metric `train_loss` which is not available. Available metrics are: loss,val_loss\n"
     ]
    },
    {
     "name": "stderr",
     "output_type": "stream",
     "text": [
      "WARNING:tensorflow:Early stopping conditioned on metric `train_loss` which is not available. Available metrics are: loss,val_loss\n"
     ]
    },
    {
     "name": "stdout",
     "output_type": "stream",
     "text": [
      "45/45 [==============================] - 3s 70ms/step - batch: 22.0000 - size: 32.0000 - loss: 0.9733 - val_loss: 1.9626 - lr: 6.6148e-04\n",
      "Epoch 205/500\n",
      "45/45 [==============================] - ETA: 0s - batch: 22.0000 - size: 32.0000 - loss: 0.9549WARNING:tensorflow:Early stopping conditioned on metric `train_loss` which is not available. Available metrics are: loss,val_loss\n"
     ]
    },
    {
     "name": "stderr",
     "output_type": "stream",
     "text": [
      "WARNING:tensorflow:Early stopping conditioned on metric `train_loss` which is not available. Available metrics are: loss,val_loss\n"
     ]
    },
    {
     "name": "stdout",
     "output_type": "stream",
     "text": [
      "45/45 [==============================] - 3s 70ms/step - batch: 22.0000 - size: 32.0000 - loss: 0.9549 - val_loss: 1.9895 - lr: 6.5844e-04\n",
      "Epoch 206/500\n",
      "45/45 [==============================] - ETA: 0s - batch: 22.0000 - size: 32.0000 - loss: 0.9198WARNING:tensorflow:Early stopping conditioned on metric `train_loss` which is not available. Available metrics are: loss,val_loss\n"
     ]
    },
    {
     "name": "stderr",
     "output_type": "stream",
     "text": [
      "WARNING:tensorflow:Early stopping conditioned on metric `train_loss` which is not available. Available metrics are: loss,val_loss\n"
     ]
    },
    {
     "name": "stdout",
     "output_type": "stream",
     "text": [
      "45/45 [==============================] - 3s 70ms/step - batch: 22.0000 - size: 32.0000 - loss: 0.9198 - val_loss: 1.9426 - lr: 6.5539e-04\n",
      "Epoch 207/500\n",
      "45/45 [==============================] - ETA: 0s - batch: 22.0000 - size: 32.0000 - loss: 0.9155WARNING:tensorflow:Early stopping conditioned on metric `train_loss` which is not available. Available metrics are: loss,val_loss\n"
     ]
    },
    {
     "name": "stderr",
     "output_type": "stream",
     "text": [
      "WARNING:tensorflow:Early stopping conditioned on metric `train_loss` which is not available. Available metrics are: loss,val_loss\n"
     ]
    },
    {
     "name": "stdout",
     "output_type": "stream",
     "text": [
      "45/45 [==============================] - 3s 70ms/step - batch: 22.0000 - size: 32.0000 - loss: 0.9155 - val_loss: 1.9578 - lr: 6.5234e-04\n",
      "Epoch 208/500\n",
      "45/45 [==============================] - ETA: 0s - batch: 22.0000 - size: 32.0000 - loss: 0.9211WARNING:tensorflow:Early stopping conditioned on metric `train_loss` which is not available. Available metrics are: loss,val_loss\n"
     ]
    },
    {
     "name": "stderr",
     "output_type": "stream",
     "text": [
      "WARNING:tensorflow:Early stopping conditioned on metric `train_loss` which is not available. Available metrics are: loss,val_loss\n"
     ]
    },
    {
     "name": "stdout",
     "output_type": "stream",
     "text": [
      "45/45 [==============================] - 3s 71ms/step - batch: 22.0000 - size: 32.0000 - loss: 0.9211 - val_loss: 1.9409 - lr: 6.4928e-04\n",
      "Epoch 209/500\n",
      "45/45 [==============================] - ETA: 0s - batch: 22.0000 - size: 32.0000 - loss: 0.9103WARNING:tensorflow:Early stopping conditioned on metric `train_loss` which is not available. Available metrics are: loss,val_loss\n"
     ]
    },
    {
     "name": "stderr",
     "output_type": "stream",
     "text": [
      "WARNING:tensorflow:Early stopping conditioned on metric `train_loss` which is not available. Available metrics are: loss,val_loss\n"
     ]
    },
    {
     "name": "stdout",
     "output_type": "stream",
     "text": [
      "45/45 [==============================] - 3s 70ms/step - batch: 22.0000 - size: 32.0000 - loss: 0.9103 - val_loss: 1.9724 - lr: 6.4621e-04\n",
      "Epoch 210/500\n",
      "45/45 [==============================] - ETA: 0s - batch: 22.0000 - size: 32.0000 - loss: 0.9059WARNING:tensorflow:Early stopping conditioned on metric `train_loss` which is not available. Available metrics are: loss,val_loss\n"
     ]
    },
    {
     "name": "stderr",
     "output_type": "stream",
     "text": [
      "WARNING:tensorflow:Early stopping conditioned on metric `train_loss` which is not available. Available metrics are: loss,val_loss\n"
     ]
    },
    {
     "name": "stdout",
     "output_type": "stream",
     "text": [
      "Get map.\n"
     ]
    },
    {
     "name": "stderr",
     "output_type": "stream",
     "text": [
      "100%|██████████| 178/178 [00:00<00:00, 205.17it/s]\n"
     ]
    },
    {
     "name": "stdout",
     "output_type": "stream",
     "text": [
      "Calculate Map.\n",
      "Path '.temp_map_out/results' already exists.\n",
      "89.15% = hand AP \t||\tscore_threhold=0.5 : F1=0.82 ; Recall=87.89% ; Precision=76.96%\n",
      "mAP = 89.15%\n",
      "Path '/home/zhangyouan/桌面/zya/NN_net/network/SSD/IMX_681_ssd_mobilenet_git/keras/detection/SSD_ipynb_transfer_callback_1227hand/output/20240228/loss_2024_06_27_14_24_39' already exists.\n",
      "Get map done.\n",
      "45/45 [==============================] - 4s 96ms/step - batch: 22.0000 - size: 32.0000 - loss: 0.9059 - val_loss: 2.0197 - lr: 6.4314e-04\n",
      "Epoch 211/500\n",
      "45/45 [==============================] - ETA: 0s - batch: 22.0000 - size: 32.0000 - loss: 0.8996WARNING:tensorflow:Early stopping conditioned on metric `train_loss` which is not available. Available metrics are: loss,val_loss\n"
     ]
    },
    {
     "name": "stderr",
     "output_type": "stream",
     "text": [
      "WARNING:tensorflow:Early stopping conditioned on metric `train_loss` which is not available. Available metrics are: loss,val_loss\n"
     ]
    },
    {
     "name": "stdout",
     "output_type": "stream",
     "text": [
      "45/45 [==============================] - 3s 70ms/step - batch: 22.0000 - size: 32.0000 - loss: 0.8996 - val_loss: 1.9271 - lr: 6.4006e-04\n",
      "Epoch 212/500\n",
      "45/45 [==============================] - ETA: 0s - batch: 22.0000 - size: 32.0000 - loss: 0.8927WARNING:tensorflow:Early stopping conditioned on metric `train_loss` which is not available. Available metrics are: loss,val_loss\n"
     ]
    },
    {
     "name": "stderr",
     "output_type": "stream",
     "text": [
      "WARNING:tensorflow:Early stopping conditioned on metric `train_loss` which is not available. Available metrics are: loss,val_loss\n"
     ]
    },
    {
     "name": "stdout",
     "output_type": "stream",
     "text": [
      "45/45 [==============================] - 3s 70ms/step - batch: 22.0000 - size: 32.0000 - loss: 0.8927 - val_loss: 1.9693 - lr: 6.3698e-04\n",
      "Epoch 213/500\n",
      "45/45 [==============================] - ETA: 0s - batch: 22.0000 - size: 32.0000 - loss: 0.8926WARNING:tensorflow:Early stopping conditioned on metric `train_loss` which is not available. Available metrics are: loss,val_loss\n"
     ]
    },
    {
     "name": "stderr",
     "output_type": "stream",
     "text": [
      "WARNING:tensorflow:Early stopping conditioned on metric `train_loss` which is not available. Available metrics are: loss,val_loss\n"
     ]
    },
    {
     "name": "stdout",
     "output_type": "stream",
     "text": [
      "45/45 [==============================] - 3s 70ms/step - batch: 22.0000 - size: 32.0000 - loss: 0.8926 - val_loss: 2.0021 - lr: 6.3389e-04\n",
      "Epoch 214/500\n",
      "45/45 [==============================] - ETA: 0s - batch: 22.0000 - size: 32.0000 - loss: 0.9016WARNING:tensorflow:Early stopping conditioned on metric `train_loss` which is not available. Available metrics are: loss,val_loss\n"
     ]
    },
    {
     "name": "stderr",
     "output_type": "stream",
     "text": [
      "WARNING:tensorflow:Early stopping conditioned on metric `train_loss` which is not available. Available metrics are: loss,val_loss\n"
     ]
    },
    {
     "name": "stdout",
     "output_type": "stream",
     "text": [
      "45/45 [==============================] - 3s 70ms/step - batch: 22.0000 - size: 32.0000 - loss: 0.9016 - val_loss: 1.9958 - lr: 6.3080e-04\n",
      "Epoch 215/500\n",
      "45/45 [==============================] - ETA: 0s - batch: 22.0000 - size: 32.0000 - loss: 0.8903WARNING:tensorflow:Early stopping conditioned on metric `train_loss` which is not available. Available metrics are: loss,val_loss\n"
     ]
    },
    {
     "name": "stderr",
     "output_type": "stream",
     "text": [
      "WARNING:tensorflow:Early stopping conditioned on metric `train_loss` which is not available. Available metrics are: loss,val_loss\n"
     ]
    },
    {
     "name": "stdout",
     "output_type": "stream",
     "text": [
      "45/45 [==============================] - 3s 70ms/step - batch: 22.0000 - size: 32.0000 - loss: 0.8903 - val_loss: 1.9993 - lr: 6.2770e-04\n",
      "Epoch 216/500\n",
      "45/45 [==============================] - ETA: 0s - batch: 22.0000 - size: 32.0000 - loss: 0.8851WARNING:tensorflow:Early stopping conditioned on metric `train_loss` which is not available. Available metrics are: loss,val_loss\n"
     ]
    },
    {
     "name": "stderr",
     "output_type": "stream",
     "text": [
      "WARNING:tensorflow:Early stopping conditioned on metric `train_loss` which is not available. Available metrics are: loss,val_loss\n"
     ]
    },
    {
     "name": "stdout",
     "output_type": "stream",
     "text": [
      "45/45 [==============================] - 3s 74ms/step - batch: 22.0000 - size: 32.0000 - loss: 0.8851 - val_loss: 2.0078 - lr: 6.2459e-04\n",
      "Epoch 217/500\n",
      "45/45 [==============================] - ETA: 0s - batch: 22.0000 - size: 32.0000 - loss: 0.9225WARNING:tensorflow:Early stopping conditioned on metric `train_loss` which is not available. Available metrics are: loss,val_loss\n"
     ]
    },
    {
     "name": "stderr",
     "output_type": "stream",
     "text": [
      "WARNING:tensorflow:Early stopping conditioned on metric `train_loss` which is not available. Available metrics are: loss,val_loss\n"
     ]
    },
    {
     "name": "stdout",
     "output_type": "stream",
     "text": [
      "45/45 [==============================] - 3s 74ms/step - batch: 22.0000 - size: 32.0000 - loss: 0.9225 - val_loss: 1.9851 - lr: 6.2148e-04\n",
      "Epoch 218/500\n",
      "45/45 [==============================] - ETA: 0s - batch: 22.0000 - size: 32.0000 - loss: 0.8960WARNING:tensorflow:Early stopping conditioned on metric `train_loss` which is not available. Available metrics are: loss,val_loss\n"
     ]
    },
    {
     "name": "stderr",
     "output_type": "stream",
     "text": [
      "WARNING:tensorflow:Early stopping conditioned on metric `train_loss` which is not available. Available metrics are: loss,val_loss\n"
     ]
    },
    {
     "name": "stdout",
     "output_type": "stream",
     "text": [
      "45/45 [==============================] - 3s 75ms/step - batch: 22.0000 - size: 32.0000 - loss: 0.8960 - val_loss: 1.9901 - lr: 6.1837e-04\n",
      "Epoch 219/500\n",
      "45/45 [==============================] - ETA: 0s - batch: 22.0000 - size: 32.0000 - loss: 0.9099WARNING:tensorflow:Early stopping conditioned on metric `train_loss` which is not available. Available metrics are: loss,val_loss\n"
     ]
    },
    {
     "name": "stderr",
     "output_type": "stream",
     "text": [
      "WARNING:tensorflow:Early stopping conditioned on metric `train_loss` which is not available. Available metrics are: loss,val_loss\n"
     ]
    },
    {
     "name": "stdout",
     "output_type": "stream",
     "text": [
      "45/45 [==============================] - 3s 73ms/step - batch: 22.0000 - size: 32.0000 - loss: 0.9099 - val_loss: 1.9786 - lr: 6.1525e-04\n",
      "Epoch 220/500\n",
      "45/45 [==============================] - ETA: 0s - batch: 22.0000 - size: 32.0000 - loss: 0.8769WARNING:tensorflow:Early stopping conditioned on metric `train_loss` which is not available. Available metrics are: loss,val_loss\n"
     ]
    },
    {
     "name": "stderr",
     "output_type": "stream",
     "text": [
      "WARNING:tensorflow:Early stopping conditioned on metric `train_loss` which is not available. Available metrics are: loss,val_loss\n"
     ]
    },
    {
     "name": "stdout",
     "output_type": "stream",
     "text": [
      "Get map.\n"
     ]
    },
    {
     "name": "stderr",
     "output_type": "stream",
     "text": [
      "100%|██████████| 178/178 [00:00<00:00, 201.32it/s]\n"
     ]
    },
    {
     "name": "stdout",
     "output_type": "stream",
     "text": [
      "Calculate Map.\n",
      "Path '.temp_map_out/results' already exists.\n",
      "90.31% = hand AP \t||\tscore_threhold=0.5 : F1=0.86 ; Recall=88.95% ; Precision=82.44%\n",
      "mAP = 90.31%\n",
      "Path '/home/zhangyouan/桌面/zya/NN_net/network/SSD/IMX_681_ssd_mobilenet_git/keras/detection/SSD_ipynb_transfer_callback_1227hand/output/20240228/loss_2024_06_27_14_24_39' already exists.\n",
      "Get map done.\n",
      "45/45 [==============================] - 4s 96ms/step - batch: 22.0000 - size: 32.0000 - loss: 0.8769 - val_loss: 1.9998 - lr: 6.1212e-04\n",
      "Epoch 221/500\n",
      "45/45 [==============================] - ETA: 0s - batch: 22.0000 - size: 32.0000 - loss: 0.8783WARNING:tensorflow:Early stopping conditioned on metric `train_loss` which is not available. Available metrics are: loss,val_loss\n"
     ]
    },
    {
     "name": "stderr",
     "output_type": "stream",
     "text": [
      "WARNING:tensorflow:Early stopping conditioned on metric `train_loss` which is not available. Available metrics are: loss,val_loss\n"
     ]
    },
    {
     "name": "stdout",
     "output_type": "stream",
     "text": [
      "45/45 [==============================] - 3s 71ms/step - batch: 22.0000 - size: 32.0000 - loss: 0.8783 - val_loss: 1.9665 - lr: 6.0900e-04\n",
      "Epoch 222/500\n",
      "45/45 [==============================] - ETA: 0s - batch: 22.0000 - size: 32.0000 - loss: 0.9036WARNING:tensorflow:Early stopping conditioned on metric `train_loss` which is not available. Available metrics are: loss,val_loss\n"
     ]
    },
    {
     "name": "stderr",
     "output_type": "stream",
     "text": [
      "WARNING:tensorflow:Early stopping conditioned on metric `train_loss` which is not available. Available metrics are: loss,val_loss\n"
     ]
    },
    {
     "name": "stdout",
     "output_type": "stream",
     "text": [
      "45/45 [==============================] - 3s 72ms/step - batch: 22.0000 - size: 32.0000 - loss: 0.9036 - val_loss: 2.0590 - lr: 6.0586e-04\n",
      "Epoch 223/500\n",
      "45/45 [==============================] - ETA: 0s - batch: 22.0000 - size: 32.0000 - loss: 0.9219WARNING:tensorflow:Early stopping conditioned on metric `train_loss` which is not available. Available metrics are: loss,val_loss\n"
     ]
    },
    {
     "name": "stderr",
     "output_type": "stream",
     "text": [
      "WARNING:tensorflow:Early stopping conditioned on metric `train_loss` which is not available. Available metrics are: loss,val_loss\n"
     ]
    },
    {
     "name": "stdout",
     "output_type": "stream",
     "text": [
      "45/45 [==============================] - 3s 71ms/step - batch: 22.0000 - size: 32.0000 - loss: 0.9219 - val_loss: 2.0050 - lr: 6.0272e-04\n",
      "Epoch 224/500\n",
      "45/45 [==============================] - ETA: 0s - batch: 22.0000 - size: 32.0000 - loss: 0.8731WARNING:tensorflow:Early stopping conditioned on metric `train_loss` which is not available. Available metrics are: loss,val_loss\n"
     ]
    },
    {
     "name": "stderr",
     "output_type": "stream",
     "text": [
      "WARNING:tensorflow:Early stopping conditioned on metric `train_loss` which is not available. Available metrics are: loss,val_loss\n"
     ]
    },
    {
     "name": "stdout",
     "output_type": "stream",
     "text": [
      "45/45 [==============================] - 3s 70ms/step - batch: 22.0000 - size: 32.0000 - loss: 0.8731 - val_loss: 1.9927 - lr: 5.9958e-04\n",
      "Epoch 225/500\n",
      "45/45 [==============================] - ETA: 0s - batch: 22.0000 - size: 32.0000 - loss: 0.8787WARNING:tensorflow:Early stopping conditioned on metric `train_loss` which is not available. Available metrics are: loss,val_loss\n"
     ]
    },
    {
     "name": "stderr",
     "output_type": "stream",
     "text": [
      "WARNING:tensorflow:Early stopping conditioned on metric `train_loss` which is not available. Available metrics are: loss,val_loss\n"
     ]
    },
    {
     "name": "stdout",
     "output_type": "stream",
     "text": [
      "45/45 [==============================] - 3s 73ms/step - batch: 22.0000 - size: 32.0000 - loss: 0.8787 - val_loss: 2.0444 - lr: 5.9643e-04\n",
      "Epoch 226/500\n",
      "45/45 [==============================] - ETA: 0s - batch: 22.0000 - size: 32.0000 - loss: 0.8796WARNING:tensorflow:Early stopping conditioned on metric `train_loss` which is not available. Available metrics are: loss,val_loss\n"
     ]
    },
    {
     "name": "stderr",
     "output_type": "stream",
     "text": [
      "WARNING:tensorflow:Early stopping conditioned on metric `train_loss` which is not available. Available metrics are: loss,val_loss\n"
     ]
    },
    {
     "name": "stdout",
     "output_type": "stream",
     "text": [
      "45/45 [==============================] - 3s 71ms/step - batch: 22.0000 - size: 32.0000 - loss: 0.8796 - val_loss: 1.9978 - lr: 5.9328e-04\n",
      "Epoch 227/500\n",
      "45/45 [==============================] - ETA: 0s - batch: 22.0000 - size: 32.0000 - loss: 0.8753WARNING:tensorflow:Early stopping conditioned on metric `train_loss` which is not available. Available metrics are: loss,val_loss\n"
     ]
    },
    {
     "name": "stderr",
     "output_type": "stream",
     "text": [
      "WARNING:tensorflow:Early stopping conditioned on metric `train_loss` which is not available. Available metrics are: loss,val_loss\n"
     ]
    },
    {
     "name": "stdout",
     "output_type": "stream",
     "text": [
      "45/45 [==============================] - 3s 70ms/step - batch: 22.0000 - size: 32.0000 - loss: 0.8753 - val_loss: 1.9950 - lr: 5.9013e-04\n",
      "Epoch 228/500\n",
      "45/45 [==============================] - ETA: 0s - batch: 22.0000 - size: 32.0000 - loss: 0.8615WARNING:tensorflow:Early stopping conditioned on metric `train_loss` which is not available. Available metrics are: loss,val_loss\n"
     ]
    },
    {
     "name": "stderr",
     "output_type": "stream",
     "text": [
      "WARNING:tensorflow:Early stopping conditioned on metric `train_loss` which is not available. Available metrics are: loss,val_loss\n"
     ]
    },
    {
     "name": "stdout",
     "output_type": "stream",
     "text": [
      "45/45 [==============================] - 3s 70ms/step - batch: 22.0000 - size: 32.0000 - loss: 0.8615 - val_loss: 1.9717 - lr: 5.8697e-04\n",
      "Epoch 229/500\n",
      "45/45 [==============================] - ETA: 0s - batch: 22.0000 - size: 32.0000 - loss: 0.8577WARNING:tensorflow:Early stopping conditioned on metric `train_loss` which is not available. Available metrics are: loss,val_loss\n"
     ]
    },
    {
     "name": "stderr",
     "output_type": "stream",
     "text": [
      "WARNING:tensorflow:Early stopping conditioned on metric `train_loss` which is not available. Available metrics are: loss,val_loss\n"
     ]
    },
    {
     "name": "stdout",
     "output_type": "stream",
     "text": [
      "45/45 [==============================] - 3s 70ms/step - batch: 22.0000 - size: 32.0000 - loss: 0.8577 - val_loss: 2.0372 - lr: 5.8381e-04\n",
      "Epoch 230/500\n",
      "45/45 [==============================] - ETA: 0s - batch: 22.0000 - size: 32.0000 - loss: 0.8605WARNING:tensorflow:Early stopping conditioned on metric `train_loss` which is not available. Available metrics are: loss,val_loss\n"
     ]
    },
    {
     "name": "stderr",
     "output_type": "stream",
     "text": [
      "WARNING:tensorflow:Early stopping conditioned on metric `train_loss` which is not available. Available metrics are: loss,val_loss\n"
     ]
    },
    {
     "name": "stdout",
     "output_type": "stream",
     "text": [
      "Get map.\n"
     ]
    },
    {
     "name": "stderr",
     "output_type": "stream",
     "text": [
      "100%|██████████| 178/178 [00:00<00:00, 203.36it/s]\n"
     ]
    },
    {
     "name": "stdout",
     "output_type": "stream",
     "text": [
      "Calculate Map.\n",
      "Path '.temp_map_out/results' already exists.\n",
      "89.67% = hand AP \t||\tscore_threhold=0.5 : F1=0.85 ; Recall=88.95% ; Precision=81.64%\n",
      "mAP = 89.67%\n",
      "Path '/home/zhangyouan/桌面/zya/NN_net/network/SSD/IMX_681_ssd_mobilenet_git/keras/detection/SSD_ipynb_transfer_callback_1227hand/output/20240228/loss_2024_06_27_14_24_39' already exists.\n",
      "Get map done.\n",
      "45/45 [==============================] - 4s 96ms/step - batch: 22.0000 - size: 32.0000 - loss: 0.8605 - val_loss: 2.0046 - lr: 5.8065e-04\n",
      "Epoch 231/500\n",
      "45/45 [==============================] - ETA: 0s - batch: 22.0000 - size: 32.0000 - loss: 0.8580WARNING:tensorflow:Early stopping conditioned on metric `train_loss` which is not available. Available metrics are: loss,val_loss\n"
     ]
    },
    {
     "name": "stderr",
     "output_type": "stream",
     "text": [
      "WARNING:tensorflow:Early stopping conditioned on metric `train_loss` which is not available. Available metrics are: loss,val_loss\n"
     ]
    },
    {
     "name": "stdout",
     "output_type": "stream",
     "text": [
      "45/45 [==============================] - 3s 70ms/step - batch: 22.0000 - size: 32.0000 - loss: 0.8580 - val_loss: 2.0059 - lr: 5.7748e-04\n",
      "Epoch 232/500\n",
      "45/45 [==============================] - ETA: 0s - batch: 22.0000 - size: 32.0000 - loss: 0.8603WARNING:tensorflow:Early stopping conditioned on metric `train_loss` which is not available. Available metrics are: loss,val_loss\n"
     ]
    },
    {
     "name": "stderr",
     "output_type": "stream",
     "text": [
      "WARNING:tensorflow:Early stopping conditioned on metric `train_loss` which is not available. Available metrics are: loss,val_loss\n"
     ]
    },
    {
     "name": "stdout",
     "output_type": "stream",
     "text": [
      "45/45 [==============================] - 3s 70ms/step - batch: 22.0000 - size: 32.0000 - loss: 0.8603 - val_loss: 2.0156 - lr: 5.7431e-04\n",
      "Epoch 233/500\n",
      "45/45 [==============================] - ETA: 0s - batch: 22.0000 - size: 32.0000 - loss: 0.8567WARNING:tensorflow:Early stopping conditioned on metric `train_loss` which is not available. Available metrics are: loss,val_loss\n"
     ]
    },
    {
     "name": "stderr",
     "output_type": "stream",
     "text": [
      "WARNING:tensorflow:Early stopping conditioned on metric `train_loss` which is not available. Available metrics are: loss,val_loss\n"
     ]
    },
    {
     "name": "stdout",
     "output_type": "stream",
     "text": [
      "45/45 [==============================] - 3s 70ms/step - batch: 22.0000 - size: 32.0000 - loss: 0.8567 - val_loss: 2.0168 - lr: 5.7113e-04\n",
      "Epoch 234/500\n",
      "45/45 [==============================] - ETA: 0s - batch: 22.0000 - size: 32.0000 - loss: 0.8503WARNING:tensorflow:Early stopping conditioned on metric `train_loss` which is not available. Available metrics are: loss,val_loss\n"
     ]
    },
    {
     "name": "stderr",
     "output_type": "stream",
     "text": [
      "WARNING:tensorflow:Early stopping conditioned on metric `train_loss` which is not available. Available metrics are: loss,val_loss\n"
     ]
    },
    {
     "name": "stdout",
     "output_type": "stream",
     "text": [
      "45/45 [==============================] - 3s 70ms/step - batch: 22.0000 - size: 32.0000 - loss: 0.8503 - val_loss: 2.0568 - lr: 5.6795e-04\n",
      "Epoch 235/500\n",
      "45/45 [==============================] - ETA: 0s - batch: 22.0000 - size: 32.0000 - loss: 0.8788WARNING:tensorflow:Early stopping conditioned on metric `train_loss` which is not available. Available metrics are: loss,val_loss\n"
     ]
    },
    {
     "name": "stderr",
     "output_type": "stream",
     "text": [
      "WARNING:tensorflow:Early stopping conditioned on metric `train_loss` which is not available. Available metrics are: loss,val_loss\n"
     ]
    },
    {
     "name": "stdout",
     "output_type": "stream",
     "text": [
      "45/45 [==============================] - 3s 70ms/step - batch: 22.0000 - size: 32.0000 - loss: 0.8788 - val_loss: 2.0340 - lr: 5.6477e-04\n",
      "Epoch 236/500\n",
      "45/45 [==============================] - ETA: 0s - batch: 22.0000 - size: 32.0000 - loss: 0.8721WARNING:tensorflow:Early stopping conditioned on metric `train_loss` which is not available. Available metrics are: loss,val_loss\n"
     ]
    },
    {
     "name": "stderr",
     "output_type": "stream",
     "text": [
      "WARNING:tensorflow:Early stopping conditioned on metric `train_loss` which is not available. Available metrics are: loss,val_loss\n"
     ]
    },
    {
     "name": "stdout",
     "output_type": "stream",
     "text": [
      "45/45 [==============================] - 3s 71ms/step - batch: 22.0000 - size: 32.0000 - loss: 0.8721 - val_loss: 1.9741 - lr: 5.6159e-04\n",
      "Epoch 237/500\n",
      "45/45 [==============================] - ETA: 0s - batch: 22.0000 - size: 32.0000 - loss: 0.8723WARNING:tensorflow:Early stopping conditioned on metric `train_loss` which is not available. Available metrics are: loss,val_loss\n"
     ]
    },
    {
     "name": "stderr",
     "output_type": "stream",
     "text": [
      "WARNING:tensorflow:Early stopping conditioned on metric `train_loss` which is not available. Available metrics are: loss,val_loss\n"
     ]
    },
    {
     "name": "stdout",
     "output_type": "stream",
     "text": [
      "45/45 [==============================] - 3s 70ms/step - batch: 22.0000 - size: 32.0000 - loss: 0.8723 - val_loss: 2.0423 - lr: 5.5841e-04\n",
      "Epoch 238/500\n",
      "45/45 [==============================] - ETA: 0s - batch: 22.0000 - size: 32.0000 - loss: 0.8456WARNING:tensorflow:Early stopping conditioned on metric `train_loss` which is not available. Available metrics are: loss,val_loss\n"
     ]
    },
    {
     "name": "stderr",
     "output_type": "stream",
     "text": [
      "WARNING:tensorflow:Early stopping conditioned on metric `train_loss` which is not available. Available metrics are: loss,val_loss\n"
     ]
    },
    {
     "name": "stdout",
     "output_type": "stream",
     "text": [
      "45/45 [==============================] - 3s 73ms/step - batch: 22.0000 - size: 32.0000 - loss: 0.8456 - val_loss: 2.0089 - lr: 5.5522e-04\n",
      "Epoch 239/500\n",
      "45/45 [==============================] - ETA: 0s - batch: 22.0000 - size: 32.0000 - loss: 0.8429WARNING:tensorflow:Early stopping conditioned on metric `train_loss` which is not available. Available metrics are: loss,val_loss\n"
     ]
    },
    {
     "name": "stderr",
     "output_type": "stream",
     "text": [
      "WARNING:tensorflow:Early stopping conditioned on metric `train_loss` which is not available. Available metrics are: loss,val_loss\n"
     ]
    },
    {
     "name": "stdout",
     "output_type": "stream",
     "text": [
      "45/45 [==============================] - 3s 70ms/step - batch: 22.0000 - size: 32.0000 - loss: 0.8429 - val_loss: 1.9890 - lr: 5.5203e-04\n",
      "Epoch 240/500\n",
      "45/45 [==============================] - ETA: 0s - batch: 22.0000 - size: 32.0000 - loss: 0.8496WARNING:tensorflow:Early stopping conditioned on metric `train_loss` which is not available. Available metrics are: loss,val_loss\n"
     ]
    },
    {
     "name": "stderr",
     "output_type": "stream",
     "text": [
      "WARNING:tensorflow:Early stopping conditioned on metric `train_loss` which is not available. Available metrics are: loss,val_loss\n"
     ]
    },
    {
     "name": "stdout",
     "output_type": "stream",
     "text": [
      "Get map.\n"
     ]
    },
    {
     "name": "stderr",
     "output_type": "stream",
     "text": [
      "100%|██████████| 178/178 [00:00<00:00, 203.58it/s]\n"
     ]
    },
    {
     "name": "stdout",
     "output_type": "stream",
     "text": [
      "Calculate Map.\n",
      "Path '.temp_map_out/results' already exists.\n",
      "89.85% = hand AP \t||\tscore_threhold=0.5 : F1=0.85 ; Recall=88.95% ; Precision=81.25%\n",
      "mAP = 89.85%\n",
      "Path '/home/zhangyouan/桌面/zya/NN_net/network/SSD/IMX_681_ssd_mobilenet_git/keras/detection/SSD_ipynb_transfer_callback_1227hand/output/20240228/loss_2024_06_27_14_24_39' already exists.\n",
      "Get map done.\n",
      "45/45 [==============================] - 4s 95ms/step - batch: 22.0000 - size: 32.0000 - loss: 0.8496 - val_loss: 1.9983 - lr: 5.4884e-04\n",
      "Epoch 241/500\n",
      "45/45 [==============================] - ETA: 0s - batch: 22.0000 - size: 32.0000 - loss: 0.8449WARNING:tensorflow:Early stopping conditioned on metric `train_loss` which is not available. Available metrics are: loss,val_loss\n"
     ]
    },
    {
     "name": "stderr",
     "output_type": "stream",
     "text": [
      "WARNING:tensorflow:Early stopping conditioned on metric `train_loss` which is not available. Available metrics are: loss,val_loss\n"
     ]
    },
    {
     "name": "stdout",
     "output_type": "stream",
     "text": [
      "45/45 [==============================] - 3s 70ms/step - batch: 22.0000 - size: 32.0000 - loss: 0.8449 - val_loss: 2.0334 - lr: 5.4564e-04\n",
      "Epoch 242/500\n",
      "45/45 [==============================] - ETA: 0s - batch: 22.0000 - size: 32.0000 - loss: 0.8381WARNING:tensorflow:Early stopping conditioned on metric `train_loss` which is not available. Available metrics are: loss,val_loss\n"
     ]
    },
    {
     "name": "stderr",
     "output_type": "stream",
     "text": [
      "WARNING:tensorflow:Early stopping conditioned on metric `train_loss` which is not available. Available metrics are: loss,val_loss\n"
     ]
    },
    {
     "name": "stdout",
     "output_type": "stream",
     "text": [
      "45/45 [==============================] - 3s 70ms/step - batch: 22.0000 - size: 32.0000 - loss: 0.8381 - val_loss: 2.0557 - lr: 5.4245e-04\n",
      "Epoch 243/500\n",
      "45/45 [==============================] - ETA: 0s - batch: 22.0000 - size: 32.0000 - loss: 0.8532WARNING:tensorflow:Early stopping conditioned on metric `train_loss` which is not available. Available metrics are: loss,val_loss\n"
     ]
    },
    {
     "name": "stderr",
     "output_type": "stream",
     "text": [
      "WARNING:tensorflow:Early stopping conditioned on metric `train_loss` which is not available. Available metrics are: loss,val_loss\n"
     ]
    },
    {
     "name": "stdout",
     "output_type": "stream",
     "text": [
      "45/45 [==============================] - 3s 70ms/step - batch: 22.0000 - size: 32.0000 - loss: 0.8532 - val_loss: 2.0000 - lr: 5.3925e-04\n",
      "Epoch 244/500\n",
      "45/45 [==============================] - ETA: 0s - batch: 22.0000 - size: 32.0000 - loss: 0.8506WARNING:tensorflow:Early stopping conditioned on metric `train_loss` which is not available. Available metrics are: loss,val_loss\n"
     ]
    },
    {
     "name": "stderr",
     "output_type": "stream",
     "text": [
      "WARNING:tensorflow:Early stopping conditioned on metric `train_loss` which is not available. Available metrics are: loss,val_loss\n"
     ]
    },
    {
     "name": "stdout",
     "output_type": "stream",
     "text": [
      "45/45 [==============================] - 3s 70ms/step - batch: 22.0000 - size: 32.0000 - loss: 0.8506 - val_loss: 1.9956 - lr: 5.3605e-04\n",
      "Epoch 245/500\n",
      "45/45 [==============================] - ETA: 0s - batch: 22.0000 - size: 32.0000 - loss: 0.8474WARNING:tensorflow:Early stopping conditioned on metric `train_loss` which is not available. Available metrics are: loss,val_loss\n"
     ]
    },
    {
     "name": "stderr",
     "output_type": "stream",
     "text": [
      "WARNING:tensorflow:Early stopping conditioned on metric `train_loss` which is not available. Available metrics are: loss,val_loss\n"
     ]
    },
    {
     "name": "stdout",
     "output_type": "stream",
     "text": [
      "45/45 [==============================] - 3s 70ms/step - batch: 22.0000 - size: 32.0000 - loss: 0.8474 - val_loss: 2.0362 - lr: 5.3285e-04\n",
      "Epoch 246/500\n",
      "45/45 [==============================] - ETA: 0s - batch: 22.0000 - size: 32.0000 - loss: 0.8366WARNING:tensorflow:Early stopping conditioned on metric `train_loss` which is not available. Available metrics are: loss,val_loss\n"
     ]
    },
    {
     "name": "stderr",
     "output_type": "stream",
     "text": [
      "WARNING:tensorflow:Early stopping conditioned on metric `train_loss` which is not available. Available metrics are: loss,val_loss\n"
     ]
    },
    {
     "name": "stdout",
     "output_type": "stream",
     "text": [
      "45/45 [==============================] - 3s 70ms/step - batch: 22.0000 - size: 32.0000 - loss: 0.8366 - val_loss: 2.0887 - lr: 5.2964e-04\n",
      "Epoch 247/500\n",
      "45/45 [==============================] - ETA: 0s - batch: 22.0000 - size: 32.0000 - loss: 0.8386WARNING:tensorflow:Early stopping conditioned on metric `train_loss` which is not available. Available metrics are: loss,val_loss\n"
     ]
    },
    {
     "name": "stderr",
     "output_type": "stream",
     "text": [
      "WARNING:tensorflow:Early stopping conditioned on metric `train_loss` which is not available. Available metrics are: loss,val_loss\n"
     ]
    },
    {
     "name": "stdout",
     "output_type": "stream",
     "text": [
      "45/45 [==============================] - 3s 70ms/step - batch: 22.0000 - size: 32.0000 - loss: 0.8386 - val_loss: 2.0717 - lr: 5.2644e-04\n",
      "Epoch 248/500\n",
      "45/45 [==============================] - ETA: 0s - batch: 22.0000 - size: 32.0000 - loss: 0.8319WARNING:tensorflow:Early stopping conditioned on metric `train_loss` which is not available. Available metrics are: loss,val_loss\n"
     ]
    },
    {
     "name": "stderr",
     "output_type": "stream",
     "text": [
      "WARNING:tensorflow:Early stopping conditioned on metric `train_loss` which is not available. Available metrics are: loss,val_loss\n"
     ]
    },
    {
     "name": "stdout",
     "output_type": "stream",
     "text": [
      "45/45 [==============================] - 3s 70ms/step - batch: 22.0000 - size: 32.0000 - loss: 0.8319 - val_loss: 2.0136 - lr: 5.2324e-04\n",
      "Epoch 249/500\n",
      "45/45 [==============================] - ETA: 0s - batch: 22.0000 - size: 32.0000 - loss: 0.8267WARNING:tensorflow:Early stopping conditioned on metric `train_loss` which is not available. Available metrics are: loss,val_loss\n"
     ]
    },
    {
     "name": "stderr",
     "output_type": "stream",
     "text": [
      "WARNING:tensorflow:Early stopping conditioned on metric `train_loss` which is not available. Available metrics are: loss,val_loss\n"
     ]
    },
    {
     "name": "stdout",
     "output_type": "stream",
     "text": [
      "45/45 [==============================] - 3s 70ms/step - batch: 22.0000 - size: 32.0000 - loss: 0.8267 - val_loss: 2.0602 - lr: 5.2003e-04\n",
      "Epoch 250/500\n",
      "45/45 [==============================] - ETA: 0s - batch: 22.0000 - size: 32.0000 - loss: 0.8205WARNING:tensorflow:Early stopping conditioned on metric `train_loss` which is not available. Available metrics are: loss,val_loss\n"
     ]
    },
    {
     "name": "stderr",
     "output_type": "stream",
     "text": [
      "WARNING:tensorflow:Early stopping conditioned on metric `train_loss` which is not available. Available metrics are: loss,val_loss\n"
     ]
    },
    {
     "name": "stdout",
     "output_type": "stream",
     "text": [
      "Get map.\n"
     ]
    },
    {
     "name": "stderr",
     "output_type": "stream",
     "text": [
      "100%|██████████| 178/178 [00:00<00:00, 205.47it/s]\n"
     ]
    },
    {
     "name": "stdout",
     "output_type": "stream",
     "text": [
      "Calculate Map.\n",
      "Path '.temp_map_out/results' already exists.\n",
      "90.55% = hand AP \t||\tscore_threhold=0.5 : F1=0.83 ; Recall=90.00% ; Precision=77.38%\n",
      "mAP = 90.55%\n",
      "Path '/home/zhangyouan/桌面/zya/NN_net/network/SSD/IMX_681_ssd_mobilenet_git/keras/detection/SSD_ipynb_transfer_callback_1227hand/output/20240228/loss_2024_06_27_14_24_39' already exists.\n",
      "Get map done.\n",
      "45/45 [==============================] - 4s 96ms/step - batch: 22.0000 - size: 32.0000 - loss: 0.8205 - val_loss: 2.0456 - lr: 5.1682e-04\n",
      "Epoch 251/500\n",
      "45/45 [==============================] - ETA: 0s - batch: 22.0000 - size: 32.0000 - loss: 0.8155WARNING:tensorflow:Early stopping conditioned on metric `train_loss` which is not available. Available metrics are: loss,val_loss\n"
     ]
    },
    {
     "name": "stderr",
     "output_type": "stream",
     "text": [
      "WARNING:tensorflow:Early stopping conditioned on metric `train_loss` which is not available. Available metrics are: loss,val_loss\n"
     ]
    },
    {
     "name": "stdout",
     "output_type": "stream",
     "text": [
      "45/45 [==============================] - 3s 70ms/step - batch: 22.0000 - size: 32.0000 - loss: 0.8155 - val_loss: 2.0346 - lr: 5.1362e-04\n",
      "Epoch 252/500\n",
      "45/45 [==============================] - ETA: 0s - batch: 22.0000 - size: 32.0000 - loss: 0.8168WARNING:tensorflow:Early stopping conditioned on metric `train_loss` which is not available. Available metrics are: loss,val_loss\n"
     ]
    },
    {
     "name": "stderr",
     "output_type": "stream",
     "text": [
      "WARNING:tensorflow:Early stopping conditioned on metric `train_loss` which is not available. Available metrics are: loss,val_loss\n"
     ]
    },
    {
     "name": "stdout",
     "output_type": "stream",
     "text": [
      "45/45 [==============================] - 3s 70ms/step - batch: 22.0000 - size: 32.0000 - loss: 0.8168 - val_loss: 2.0092 - lr: 5.1041e-04\n",
      "Epoch 253/500\n",
      "45/45 [==============================] - ETA: 0s - batch: 22.0000 - size: 32.0000 - loss: 0.8079WARNING:tensorflow:Early stopping conditioned on metric `train_loss` which is not available. Available metrics are: loss,val_loss\n"
     ]
    },
    {
     "name": "stderr",
     "output_type": "stream",
     "text": [
      "WARNING:tensorflow:Early stopping conditioned on metric `train_loss` which is not available. Available metrics are: loss,val_loss\n"
     ]
    },
    {
     "name": "stdout",
     "output_type": "stream",
     "text": [
      "45/45 [==============================] - 3s 70ms/step - batch: 22.0000 - size: 32.0000 - loss: 0.8079 - val_loss: 2.0372 - lr: 5.0720e-04\n",
      "Epoch 254/500\n",
      "45/45 [==============================] - ETA: 0s - batch: 22.0000 - size: 32.0000 - loss: 0.8116WARNING:tensorflow:Early stopping conditioned on metric `train_loss` which is not available. Available metrics are: loss,val_loss\n"
     ]
    },
    {
     "name": "stderr",
     "output_type": "stream",
     "text": [
      "WARNING:tensorflow:Early stopping conditioned on metric `train_loss` which is not available. Available metrics are: loss,val_loss\n"
     ]
    },
    {
     "name": "stdout",
     "output_type": "stream",
     "text": [
      "45/45 [==============================] - 3s 70ms/step - batch: 22.0000 - size: 32.0000 - loss: 0.8116 - val_loss: 2.0204 - lr: 5.0399e-04\n",
      "Epoch 255/500\n",
      "45/45 [==============================] - ETA: 0s - batch: 22.0000 - size: 32.0000 - loss: 0.8147WARNING:tensorflow:Early stopping conditioned on metric `train_loss` which is not available. Available metrics are: loss,val_loss\n"
     ]
    },
    {
     "name": "stderr",
     "output_type": "stream",
     "text": [
      "WARNING:tensorflow:Early stopping conditioned on metric `train_loss` which is not available. Available metrics are: loss,val_loss\n"
     ]
    },
    {
     "name": "stdout",
     "output_type": "stream",
     "text": [
      "45/45 [==============================] - 3s 70ms/step - batch: 22.0000 - size: 32.0000 - loss: 0.8147 - val_loss: 2.0304 - lr: 5.0078e-04\n",
      "Epoch 256/500\n",
      "45/45 [==============================] - ETA: 0s - batch: 22.0000 - size: 32.0000 - loss: 0.8234WARNING:tensorflow:Early stopping conditioned on metric `train_loss` which is not available. Available metrics are: loss,val_loss\n"
     ]
    },
    {
     "name": "stderr",
     "output_type": "stream",
     "text": [
      "WARNING:tensorflow:Early stopping conditioned on metric `train_loss` which is not available. Available metrics are: loss,val_loss\n"
     ]
    },
    {
     "name": "stdout",
     "output_type": "stream",
     "text": [
      "45/45 [==============================] - 3s 70ms/step - batch: 22.0000 - size: 32.0000 - loss: 0.8234 - val_loss: 2.0556 - lr: 4.9758e-04\n",
      "Epoch 257/500\n",
      "45/45 [==============================] - ETA: 0s - batch: 22.0000 - size: 32.0000 - loss: 0.8106WARNING:tensorflow:Early stopping conditioned on metric `train_loss` which is not available. Available metrics are: loss,val_loss\n"
     ]
    },
    {
     "name": "stderr",
     "output_type": "stream",
     "text": [
      "WARNING:tensorflow:Early stopping conditioned on metric `train_loss` which is not available. Available metrics are: loss,val_loss\n"
     ]
    },
    {
     "name": "stdout",
     "output_type": "stream",
     "text": [
      "45/45 [==============================] - 3s 70ms/step - batch: 22.0000 - size: 32.0000 - loss: 0.8106 - val_loss: 2.0295 - lr: 4.9437e-04\n",
      "Epoch 258/500\n",
      "45/45 [==============================] - ETA: 0s - batch: 22.0000 - size: 32.0000 - loss: 0.8227WARNING:tensorflow:Early stopping conditioned on metric `train_loss` which is not available. Available metrics are: loss,val_loss\n"
     ]
    },
    {
     "name": "stderr",
     "output_type": "stream",
     "text": [
      "WARNING:tensorflow:Early stopping conditioned on metric `train_loss` which is not available. Available metrics are: loss,val_loss\n"
     ]
    },
    {
     "name": "stdout",
     "output_type": "stream",
     "text": [
      "45/45 [==============================] - 3s 70ms/step - batch: 22.0000 - size: 32.0000 - loss: 0.8227 - val_loss: 2.0338 - lr: 4.9116e-04\n",
      "Epoch 259/500\n",
      "45/45 [==============================] - ETA: 0s - batch: 22.0000 - size: 32.0000 - loss: 0.8098WARNING:tensorflow:Early stopping conditioned on metric `train_loss` which is not available. Available metrics are: loss,val_loss\n"
     ]
    },
    {
     "name": "stderr",
     "output_type": "stream",
     "text": [
      "WARNING:tensorflow:Early stopping conditioned on metric `train_loss` which is not available. Available metrics are: loss,val_loss\n"
     ]
    },
    {
     "name": "stdout",
     "output_type": "stream",
     "text": [
      "45/45 [==============================] - 3s 70ms/step - batch: 22.0000 - size: 32.0000 - loss: 0.8098 - val_loss: 2.0259 - lr: 4.8795e-04\n",
      "Epoch 260/500\n",
      "45/45 [==============================] - ETA: 0s - batch: 22.0000 - size: 32.0000 - loss: 0.7998WARNING:tensorflow:Early stopping conditioned on metric `train_loss` which is not available. Available metrics are: loss,val_loss\n"
     ]
    },
    {
     "name": "stderr",
     "output_type": "stream",
     "text": [
      "WARNING:tensorflow:Early stopping conditioned on metric `train_loss` which is not available. Available metrics are: loss,val_loss\n"
     ]
    },
    {
     "name": "stdout",
     "output_type": "stream",
     "text": [
      "Get map.\n"
     ]
    },
    {
     "name": "stderr",
     "output_type": "stream",
     "text": [
      "100%|██████████| 178/178 [00:00<00:00, 207.57it/s]\n"
     ]
    },
    {
     "name": "stdout",
     "output_type": "stream",
     "text": [
      "Calculate Map.\n",
      "Path '.temp_map_out/results' already exists.\n",
      "91.35% = hand AP \t||\tscore_threhold=0.5 : F1=0.86 ; Recall=90.53% ; Precision=81.52%\n",
      "mAP = 91.35%\n",
      "Path '/home/zhangyouan/桌面/zya/NN_net/network/SSD/IMX_681_ssd_mobilenet_git/keras/detection/SSD_ipynb_transfer_callback_1227hand/output/20240228/loss_2024_06_27_14_24_39' already exists.\n",
      "Get map done.\n",
      "45/45 [==============================] - 4s 96ms/step - batch: 22.0000 - size: 32.0000 - loss: 0.7998 - val_loss: 2.0912 - lr: 4.8474e-04\n",
      "Epoch 261/500\n",
      "45/45 [==============================] - ETA: 0s - batch: 22.0000 - size: 32.0000 - loss: 0.8097WARNING:tensorflow:Early stopping conditioned on metric `train_loss` which is not available. Available metrics are: loss,val_loss\n"
     ]
    },
    {
     "name": "stderr",
     "output_type": "stream",
     "text": [
      "WARNING:tensorflow:Early stopping conditioned on metric `train_loss` which is not available. Available metrics are: loss,val_loss\n"
     ]
    },
    {
     "name": "stdout",
     "output_type": "stream",
     "text": [
      "45/45 [==============================] - 3s 70ms/step - batch: 22.0000 - size: 32.0000 - loss: 0.8097 - val_loss: 2.1011 - lr: 4.8154e-04\n",
      "Epoch 262/500\n",
      "45/45 [==============================] - ETA: 0s - batch: 22.0000 - size: 32.0000 - loss: 0.8125WARNING:tensorflow:Early stopping conditioned on metric `train_loss` which is not available. Available metrics are: loss,val_loss\n"
     ]
    },
    {
     "name": "stderr",
     "output_type": "stream",
     "text": [
      "WARNING:tensorflow:Early stopping conditioned on metric `train_loss` which is not available. Available metrics are: loss,val_loss\n"
     ]
    },
    {
     "name": "stdout",
     "output_type": "stream",
     "text": [
      "45/45 [==============================] - 3s 70ms/step - batch: 22.0000 - size: 32.0000 - loss: 0.8125 - val_loss: 2.0484 - lr: 4.7833e-04\n",
      "Epoch 263/500\n",
      "45/45 [==============================] - ETA: 0s - batch: 22.0000 - size: 32.0000 - loss: 0.8054WARNING:tensorflow:Early stopping conditioned on metric `train_loss` which is not available. Available metrics are: loss,val_loss\n"
     ]
    },
    {
     "name": "stderr",
     "output_type": "stream",
     "text": [
      "WARNING:tensorflow:Early stopping conditioned on metric `train_loss` which is not available. Available metrics are: loss,val_loss\n"
     ]
    },
    {
     "name": "stdout",
     "output_type": "stream",
     "text": [
      "45/45 [==============================] - 3s 70ms/step - batch: 22.0000 - size: 32.0000 - loss: 0.8054 - val_loss: 2.0224 - lr: 4.7513e-04\n",
      "Epoch 264/500\n",
      "45/45 [==============================] - ETA: 0s - batch: 22.0000 - size: 32.0000 - loss: 0.8031WARNING:tensorflow:Early stopping conditioned on metric `train_loss` which is not available. Available metrics are: loss,val_loss\n"
     ]
    },
    {
     "name": "stderr",
     "output_type": "stream",
     "text": [
      "WARNING:tensorflow:Early stopping conditioned on metric `train_loss` which is not available. Available metrics are: loss,val_loss\n"
     ]
    },
    {
     "name": "stdout",
     "output_type": "stream",
     "text": [
      "45/45 [==============================] - 3s 70ms/step - batch: 22.0000 - size: 32.0000 - loss: 0.8031 - val_loss: 2.0426 - lr: 4.7192e-04\n",
      "Epoch 265/500\n",
      "45/45 [==============================] - ETA: 0s - batch: 22.0000 - size: 32.0000 - loss: 0.8013WARNING:tensorflow:Early stopping conditioned on metric `train_loss` which is not available. Available metrics are: loss,val_loss\n"
     ]
    },
    {
     "name": "stderr",
     "output_type": "stream",
     "text": [
      "WARNING:tensorflow:Early stopping conditioned on metric `train_loss` which is not available. Available metrics are: loss,val_loss\n"
     ]
    },
    {
     "name": "stdout",
     "output_type": "stream",
     "text": [
      "45/45 [==============================] - 3s 70ms/step - batch: 22.0000 - size: 32.0000 - loss: 0.8013 - val_loss: 2.0980 - lr: 4.6872e-04\n",
      "Epoch 266/500\n",
      "45/45 [==============================] - ETA: 0s - batch: 22.0000 - size: 32.0000 - loss: 0.7979WARNING:tensorflow:Early stopping conditioned on metric `train_loss` which is not available. Available metrics are: loss,val_loss\n"
     ]
    },
    {
     "name": "stderr",
     "output_type": "stream",
     "text": [
      "WARNING:tensorflow:Early stopping conditioned on metric `train_loss` which is not available. Available metrics are: loss,val_loss\n"
     ]
    },
    {
     "name": "stdout",
     "output_type": "stream",
     "text": [
      "45/45 [==============================] - 3s 70ms/step - batch: 22.0000 - size: 32.0000 - loss: 0.7979 - val_loss: 2.0554 - lr: 4.6552e-04\n",
      "Epoch 267/500\n",
      "45/45 [==============================] - ETA: 0s - batch: 22.0000 - size: 32.0000 - loss: 0.7916WARNING:tensorflow:Early stopping conditioned on metric `train_loss` which is not available. Available metrics are: loss,val_loss\n"
     ]
    },
    {
     "name": "stderr",
     "output_type": "stream",
     "text": [
      "WARNING:tensorflow:Early stopping conditioned on metric `train_loss` which is not available. Available metrics are: loss,val_loss\n"
     ]
    },
    {
     "name": "stdout",
     "output_type": "stream",
     "text": [
      "45/45 [==============================] - 3s 70ms/step - batch: 22.0000 - size: 32.0000 - loss: 0.7916 - val_loss: 2.0830 - lr: 4.6232e-04\n",
      "Epoch 268/500\n",
      "45/45 [==============================] - ETA: 0s - batch: 22.0000 - size: 32.0000 - loss: 0.7919WARNING:tensorflow:Early stopping conditioned on metric `train_loss` which is not available. Available metrics are: loss,val_loss\n"
     ]
    },
    {
     "name": "stderr",
     "output_type": "stream",
     "text": [
      "WARNING:tensorflow:Early stopping conditioned on metric `train_loss` which is not available. Available metrics are: loss,val_loss\n"
     ]
    },
    {
     "name": "stdout",
     "output_type": "stream",
     "text": [
      "45/45 [==============================] - 3s 70ms/step - batch: 22.0000 - size: 32.0000 - loss: 0.7919 - val_loss: 2.0785 - lr: 4.5912e-04\n",
      "Epoch 269/500\n",
      "45/45 [==============================] - ETA: 0s - batch: 22.0000 - size: 32.0000 - loss: 0.7920WARNING:tensorflow:Early stopping conditioned on metric `train_loss` which is not available. Available metrics are: loss,val_loss\n"
     ]
    },
    {
     "name": "stderr",
     "output_type": "stream",
     "text": [
      "WARNING:tensorflow:Early stopping conditioned on metric `train_loss` which is not available. Available metrics are: loss,val_loss\n"
     ]
    },
    {
     "name": "stdout",
     "output_type": "stream",
     "text": [
      "45/45 [==============================] - 3s 71ms/step - batch: 22.0000 - size: 32.0000 - loss: 0.7920 - val_loss: 2.0670 - lr: 4.5592e-04\n",
      "Epoch 270/500\n",
      "45/45 [==============================] - ETA: 0s - batch: 22.0000 - size: 32.0000 - loss: 0.7912WARNING:tensorflow:Early stopping conditioned on metric `train_loss` which is not available. Available metrics are: loss,val_loss\n"
     ]
    },
    {
     "name": "stderr",
     "output_type": "stream",
     "text": [
      "WARNING:tensorflow:Early stopping conditioned on metric `train_loss` which is not available. Available metrics are: loss,val_loss\n"
     ]
    },
    {
     "name": "stdout",
     "output_type": "stream",
     "text": [
      "Get map.\n"
     ]
    },
    {
     "name": "stderr",
     "output_type": "stream",
     "text": [
      "100%|██████████| 178/178 [00:00<00:00, 201.07it/s]\n"
     ]
    },
    {
     "name": "stdout",
     "output_type": "stream",
     "text": [
      "Calculate Map.\n",
      "Path '.temp_map_out/results' already exists.\n",
      "89.74% = hand AP \t||\tscore_threhold=0.5 : F1=0.86 ; Recall=88.95% ; Precision=82.84%\n",
      "mAP = 89.74%\n",
      "Path '/home/zhangyouan/桌面/zya/NN_net/network/SSD/IMX_681_ssd_mobilenet_git/keras/detection/SSD_ipynb_transfer_callback_1227hand/output/20240228/loss_2024_06_27_14_24_39' already exists.\n",
      "Get map done.\n",
      "45/45 [==============================] - 4s 96ms/step - batch: 22.0000 - size: 32.0000 - loss: 0.7912 - val_loss: 2.0406 - lr: 4.5273e-04\n",
      "Epoch 271/500\n",
      "45/45 [==============================] - ETA: 0s - batch: 22.0000 - size: 32.0000 - loss: 0.7857WARNING:tensorflow:Early stopping conditioned on metric `train_loss` which is not available. Available metrics are: loss,val_loss\n"
     ]
    },
    {
     "name": "stderr",
     "output_type": "stream",
     "text": [
      "WARNING:tensorflow:Early stopping conditioned on metric `train_loss` which is not available. Available metrics are: loss,val_loss\n"
     ]
    },
    {
     "name": "stdout",
     "output_type": "stream",
     "text": [
      "45/45 [==============================] - 3s 70ms/step - batch: 22.0000 - size: 32.0000 - loss: 0.7857 - val_loss: 2.0811 - lr: 4.4953e-04\n",
      "Epoch 272/500\n",
      "45/45 [==============================] - ETA: 0s - batch: 22.0000 - size: 32.0000 - loss: 0.7830WARNING:tensorflow:Early stopping conditioned on metric `train_loss` which is not available. Available metrics are: loss,val_loss\n"
     ]
    },
    {
     "name": "stderr",
     "output_type": "stream",
     "text": [
      "WARNING:tensorflow:Early stopping conditioned on metric `train_loss` which is not available. Available metrics are: loss,val_loss\n"
     ]
    },
    {
     "name": "stdout",
     "output_type": "stream",
     "text": [
      "45/45 [==============================] - 3s 70ms/step - batch: 22.0000 - size: 32.0000 - loss: 0.7830 - val_loss: 2.0718 - lr: 4.4634e-04\n",
      "Epoch 273/500\n",
      "45/45 [==============================] - ETA: 0s - batch: 22.0000 - size: 32.0000 - loss: 0.7881WARNING:tensorflow:Early stopping conditioned on metric `train_loss` which is not available. Available metrics are: loss,val_loss\n"
     ]
    },
    {
     "name": "stderr",
     "output_type": "stream",
     "text": [
      "WARNING:tensorflow:Early stopping conditioned on metric `train_loss` which is not available. Available metrics are: loss,val_loss\n"
     ]
    },
    {
     "name": "stdout",
     "output_type": "stream",
     "text": [
      "45/45 [==============================] - 3s 70ms/step - batch: 22.0000 - size: 32.0000 - loss: 0.7881 - val_loss: 2.0924 - lr: 4.4315e-04\n",
      "Epoch 274/500\n",
      "45/45 [==============================] - ETA: 0s - batch: 22.0000 - size: 32.0000 - loss: 0.7777WARNING:tensorflow:Early stopping conditioned on metric `train_loss` which is not available. Available metrics are: loss,val_loss\n"
     ]
    },
    {
     "name": "stderr",
     "output_type": "stream",
     "text": [
      "WARNING:tensorflow:Early stopping conditioned on metric `train_loss` which is not available. Available metrics are: loss,val_loss\n"
     ]
    },
    {
     "name": "stdout",
     "output_type": "stream",
     "text": [
      "45/45 [==============================] - 3s 70ms/step - batch: 22.0000 - size: 32.0000 - loss: 0.7777 - val_loss: 2.0403 - lr: 4.3997e-04\n",
      "Epoch 275/500\n",
      "45/45 [==============================] - ETA: 0s - batch: 22.0000 - size: 32.0000 - loss: 0.8204WARNING:tensorflow:Early stopping conditioned on metric `train_loss` which is not available. Available metrics are: loss,val_loss\n"
     ]
    },
    {
     "name": "stderr",
     "output_type": "stream",
     "text": [
      "WARNING:tensorflow:Early stopping conditioned on metric `train_loss` which is not available. Available metrics are: loss,val_loss\n"
     ]
    },
    {
     "name": "stdout",
     "output_type": "stream",
     "text": [
      "45/45 [==============================] - 3s 70ms/step - batch: 22.0000 - size: 32.0000 - loss: 0.8204 - val_loss: 2.1031 - lr: 4.3678e-04\n",
      "Epoch 276/500\n",
      "45/45 [==============================] - ETA: 0s - batch: 22.0000 - size: 32.0000 - loss: 0.8008WARNING:tensorflow:Early stopping conditioned on metric `train_loss` which is not available. Available metrics are: loss,val_loss\n"
     ]
    },
    {
     "name": "stderr",
     "output_type": "stream",
     "text": [
      "WARNING:tensorflow:Early stopping conditioned on metric `train_loss` which is not available. Available metrics are: loss,val_loss\n"
     ]
    },
    {
     "name": "stdout",
     "output_type": "stream",
     "text": [
      "45/45 [==============================] - 3s 70ms/step - batch: 22.0000 - size: 32.0000 - loss: 0.8008 - val_loss: 2.0601 - lr: 4.3360e-04\n",
      "Epoch 277/500\n",
      "45/45 [==============================] - ETA: 0s - batch: 22.0000 - size: 32.0000 - loss: 0.7760WARNING:tensorflow:Early stopping conditioned on metric `train_loss` which is not available. Available metrics are: loss,val_loss\n"
     ]
    },
    {
     "name": "stderr",
     "output_type": "stream",
     "text": [
      "WARNING:tensorflow:Early stopping conditioned on metric `train_loss` which is not available. Available metrics are: loss,val_loss\n"
     ]
    },
    {
     "name": "stdout",
     "output_type": "stream",
     "text": [
      "45/45 [==============================] - 3s 70ms/step - batch: 22.0000 - size: 32.0000 - loss: 0.7760 - val_loss: 2.1349 - lr: 4.3042e-04\n",
      "Epoch 278/500\n",
      "45/45 [==============================] - ETA: 0s - batch: 22.0000 - size: 32.0000 - loss: 0.7771WARNING:tensorflow:Early stopping conditioned on metric `train_loss` which is not available. Available metrics are: loss,val_loss\n"
     ]
    },
    {
     "name": "stderr",
     "output_type": "stream",
     "text": [
      "WARNING:tensorflow:Early stopping conditioned on metric `train_loss` which is not available. Available metrics are: loss,val_loss\n"
     ]
    },
    {
     "name": "stdout",
     "output_type": "stream",
     "text": [
      "45/45 [==============================] - 3s 72ms/step - batch: 22.0000 - size: 32.0000 - loss: 0.7771 - val_loss: 2.0791 - lr: 4.2725e-04\n",
      "Epoch 279/500\n",
      "45/45 [==============================] - ETA: 0s - batch: 22.0000 - size: 32.0000 - loss: 0.7666WARNING:tensorflow:Early stopping conditioned on metric `train_loss` which is not available. Available metrics are: loss,val_loss\n"
     ]
    },
    {
     "name": "stderr",
     "output_type": "stream",
     "text": [
      "WARNING:tensorflow:Early stopping conditioned on metric `train_loss` which is not available. Available metrics are: loss,val_loss\n"
     ]
    },
    {
     "name": "stdout",
     "output_type": "stream",
     "text": [
      "45/45 [==============================] - 3s 70ms/step - batch: 22.0000 - size: 32.0000 - loss: 0.7666 - val_loss: 2.0712 - lr: 4.2407e-04\n",
      "Epoch 280/500\n",
      "45/45 [==============================] - ETA: 0s - batch: 22.0000 - size: 32.0000 - loss: 0.7783WARNING:tensorflow:Early stopping conditioned on metric `train_loss` which is not available. Available metrics are: loss,val_loss\n"
     ]
    },
    {
     "name": "stderr",
     "output_type": "stream",
     "text": [
      "WARNING:tensorflow:Early stopping conditioned on metric `train_loss` which is not available. Available metrics are: loss,val_loss\n"
     ]
    },
    {
     "name": "stdout",
     "output_type": "stream",
     "text": [
      "Get map.\n"
     ]
    },
    {
     "name": "stderr",
     "output_type": "stream",
     "text": [
      "100%|██████████| 178/178 [00:00<00:00, 203.24it/s]\n"
     ]
    },
    {
     "name": "stdout",
     "output_type": "stream",
     "text": [
      "Calculate Map.\n",
      "Path '.temp_map_out/results' already exists.\n",
      "90.26% = hand AP \t||\tscore_threhold=0.5 : F1=0.86 ; Recall=88.95% ; Precision=82.44%\n",
      "mAP = 90.26%\n",
      "Path '/home/zhangyouan/桌面/zya/NN_net/network/SSD/IMX_681_ssd_mobilenet_git/keras/detection/SSD_ipynb_transfer_callback_1227hand/output/20240228/loss_2024_06_27_14_24_39' already exists.\n",
      "Get map done.\n",
      "45/45 [==============================] - 4s 95ms/step - batch: 22.0000 - size: 32.0000 - loss: 0.7783 - val_loss: 2.1067 - lr: 4.2090e-04\n",
      "Epoch 281/500\n",
      "45/45 [==============================] - ETA: 0s - batch: 22.0000 - size: 32.0000 - loss: 0.7693WARNING:tensorflow:Early stopping conditioned on metric `train_loss` which is not available. Available metrics are: loss,val_loss\n"
     ]
    },
    {
     "name": "stderr",
     "output_type": "stream",
     "text": [
      "WARNING:tensorflow:Early stopping conditioned on metric `train_loss` which is not available. Available metrics are: loss,val_loss\n"
     ]
    },
    {
     "name": "stdout",
     "output_type": "stream",
     "text": [
      "45/45 [==============================] - 3s 70ms/step - batch: 22.0000 - size: 32.0000 - loss: 0.7693 - val_loss: 2.0921 - lr: 4.1774e-04\n",
      "Epoch 282/500\n",
      "45/45 [==============================] - ETA: 0s - batch: 22.0000 - size: 32.0000 - loss: 0.7726WARNING:tensorflow:Early stopping conditioned on metric `train_loss` which is not available. Available metrics are: loss,val_loss\n"
     ]
    },
    {
     "name": "stderr",
     "output_type": "stream",
     "text": [
      "WARNING:tensorflow:Early stopping conditioned on metric `train_loss` which is not available. Available metrics are: loss,val_loss\n"
     ]
    },
    {
     "name": "stdout",
     "output_type": "stream",
     "text": [
      "45/45 [==============================] - 3s 70ms/step - batch: 22.0000 - size: 32.0000 - loss: 0.7726 - val_loss: 2.1094 - lr: 4.1457e-04\n",
      "Epoch 283/500\n",
      "45/45 [==============================] - ETA: 0s - batch: 22.0000 - size: 32.0000 - loss: 0.7910WARNING:tensorflow:Early stopping conditioned on metric `train_loss` which is not available. Available metrics are: loss,val_loss\n"
     ]
    },
    {
     "name": "stderr",
     "output_type": "stream",
     "text": [
      "WARNING:tensorflow:Early stopping conditioned on metric `train_loss` which is not available. Available metrics are: loss,val_loss\n"
     ]
    },
    {
     "name": "stdout",
     "output_type": "stream",
     "text": [
      "45/45 [==============================] - 3s 70ms/step - batch: 22.0000 - size: 32.0000 - loss: 0.7910 - val_loss: 2.0407 - lr: 4.1141e-04\n",
      "Epoch 284/500\n",
      "45/45 [==============================] - ETA: 0s - batch: 22.0000 - size: 32.0000 - loss: 0.7819WARNING:tensorflow:Early stopping conditioned on metric `train_loss` which is not available. Available metrics are: loss,val_loss\n"
     ]
    },
    {
     "name": "stderr",
     "output_type": "stream",
     "text": [
      "WARNING:tensorflow:Early stopping conditioned on metric `train_loss` which is not available. Available metrics are: loss,val_loss\n"
     ]
    },
    {
     "name": "stdout",
     "output_type": "stream",
     "text": [
      "45/45 [==============================] - 3s 71ms/step - batch: 22.0000 - size: 32.0000 - loss: 0.7819 - val_loss: 2.1588 - lr: 4.0826e-04\n",
      "Epoch 285/500\n",
      "45/45 [==============================] - ETA: 0s - batch: 22.0000 - size: 32.0000 - loss: 0.7895WARNING:tensorflow:Early stopping conditioned on metric `train_loss` which is not available. Available metrics are: loss,val_loss\n"
     ]
    },
    {
     "name": "stderr",
     "output_type": "stream",
     "text": [
      "WARNING:tensorflow:Early stopping conditioned on metric `train_loss` which is not available. Available metrics are: loss,val_loss\n"
     ]
    },
    {
     "name": "stdout",
     "output_type": "stream",
     "text": [
      "45/45 [==============================] - 3s 70ms/step - batch: 22.0000 - size: 32.0000 - loss: 0.7895 - val_loss: 2.0763 - lr: 4.0510e-04\n",
      "Epoch 286/500\n",
      "45/45 [==============================] - ETA: 0s - batch: 22.0000 - size: 32.0000 - loss: 0.7745WARNING:tensorflow:Early stopping conditioned on metric `train_loss` which is not available. Available metrics are: loss,val_loss\n"
     ]
    },
    {
     "name": "stderr",
     "output_type": "stream",
     "text": [
      "WARNING:tensorflow:Early stopping conditioned on metric `train_loss` which is not available. Available metrics are: loss,val_loss\n"
     ]
    },
    {
     "name": "stdout",
     "output_type": "stream",
     "text": [
      "45/45 [==============================] - 3s 70ms/step - batch: 22.0000 - size: 32.0000 - loss: 0.7745 - val_loss: 2.1231 - lr: 4.0196e-04\n",
      "Epoch 287/500\n",
      "45/45 [==============================] - ETA: 0s - batch: 22.0000 - size: 32.0000 - loss: 0.7754WARNING:tensorflow:Early stopping conditioned on metric `train_loss` which is not available. Available metrics are: loss,val_loss\n"
     ]
    },
    {
     "name": "stderr",
     "output_type": "stream",
     "text": [
      "WARNING:tensorflow:Early stopping conditioned on metric `train_loss` which is not available. Available metrics are: loss,val_loss\n"
     ]
    },
    {
     "name": "stdout",
     "output_type": "stream",
     "text": [
      "45/45 [==============================] - 3s 70ms/step - batch: 22.0000 - size: 32.0000 - loss: 0.7754 - val_loss: 2.1029 - lr: 3.9881e-04\n",
      "Epoch 288/500\n",
      "45/45 [==============================] - ETA: 0s - batch: 22.0000 - size: 32.0000 - loss: 0.7534WARNING:tensorflow:Early stopping conditioned on metric `train_loss` which is not available. Available metrics are: loss,val_loss\n"
     ]
    },
    {
     "name": "stderr",
     "output_type": "stream",
     "text": [
      "WARNING:tensorflow:Early stopping conditioned on metric `train_loss` which is not available. Available metrics are: loss,val_loss\n"
     ]
    },
    {
     "name": "stdout",
     "output_type": "stream",
     "text": [
      "45/45 [==============================] - 3s 70ms/step - batch: 22.0000 - size: 32.0000 - loss: 0.7534 - val_loss: 2.0691 - lr: 3.9567e-04\n",
      "Epoch 289/500\n",
      "45/45 [==============================] - ETA: 0s - batch: 22.0000 - size: 32.0000 - loss: 0.7569WARNING:tensorflow:Early stopping conditioned on metric `train_loss` which is not available. Available metrics are: loss,val_loss\n"
     ]
    },
    {
     "name": "stderr",
     "output_type": "stream",
     "text": [
      "WARNING:tensorflow:Early stopping conditioned on metric `train_loss` which is not available. Available metrics are: loss,val_loss\n"
     ]
    },
    {
     "name": "stdout",
     "output_type": "stream",
     "text": [
      "45/45 [==============================] - 3s 70ms/step - batch: 22.0000 - size: 32.0000 - loss: 0.7569 - val_loss: 2.0674 - lr: 3.9254e-04\n",
      "Epoch 290/500\n",
      "45/45 [==============================] - ETA: 0s - batch: 22.0000 - size: 32.0000 - loss: 0.7515WARNING:tensorflow:Early stopping conditioned on metric `train_loss` which is not available. Available metrics are: loss,val_loss\n"
     ]
    },
    {
     "name": "stderr",
     "output_type": "stream",
     "text": [
      "WARNING:tensorflow:Early stopping conditioned on metric `train_loss` which is not available. Available metrics are: loss,val_loss\n"
     ]
    },
    {
     "name": "stdout",
     "output_type": "stream",
     "text": [
      "Get map.\n"
     ]
    },
    {
     "name": "stderr",
     "output_type": "stream",
     "text": [
      "100%|██████████| 178/178 [00:00<00:00, 200.82it/s]\n"
     ]
    },
    {
     "name": "stdout",
     "output_type": "stream",
     "text": [
      "Calculate Map.\n",
      "Path '.temp_map_out/results' already exists.\n",
      "91.18% = hand AP \t||\tscore_threhold=0.5 : F1=0.84 ; Recall=90.53% ; Precision=78.90%\n",
      "mAP = 91.18%\n",
      "Path '/home/zhangyouan/桌面/zya/NN_net/network/SSD/IMX_681_ssd_mobilenet_git/keras/detection/SSD_ipynb_transfer_callback_1227hand/output/20240228/loss_2024_06_27_14_24_39' already exists.\n",
      "Get map done.\n",
      "45/45 [==============================] - 4s 96ms/step - batch: 22.0000 - size: 32.0000 - loss: 0.7515 - val_loss: 2.1235 - lr: 3.8941e-04\n",
      "Epoch 291/500\n",
      "45/45 [==============================] - ETA: 0s - batch: 22.0000 - size: 32.0000 - loss: 0.7566WARNING:tensorflow:Early stopping conditioned on metric `train_loss` which is not available. Available metrics are: loss,val_loss\n"
     ]
    },
    {
     "name": "stderr",
     "output_type": "stream",
     "text": [
      "WARNING:tensorflow:Early stopping conditioned on metric `train_loss` which is not available. Available metrics are: loss,val_loss\n"
     ]
    },
    {
     "name": "stdout",
     "output_type": "stream",
     "text": [
      "45/45 [==============================] - 3s 70ms/step - batch: 22.0000 - size: 32.0000 - loss: 0.7566 - val_loss: 2.0949 - lr: 3.8628e-04\n",
      "Epoch 292/500\n",
      "45/45 [==============================] - ETA: 0s - batch: 22.0000 - size: 32.0000 - loss: 0.7526WARNING:tensorflow:Early stopping conditioned on metric `train_loss` which is not available. Available metrics are: loss,val_loss\n"
     ]
    },
    {
     "name": "stderr",
     "output_type": "stream",
     "text": [
      "WARNING:tensorflow:Early stopping conditioned on metric `train_loss` which is not available. Available metrics are: loss,val_loss\n"
     ]
    },
    {
     "name": "stdout",
     "output_type": "stream",
     "text": [
      "45/45 [==============================] - 3s 70ms/step - batch: 22.0000 - size: 32.0000 - loss: 0.7526 - val_loss: 2.1106 - lr: 3.8316e-04\n",
      "Epoch 293/500\n",
      "45/45 [==============================] - ETA: 0s - batch: 22.0000 - size: 32.0000 - loss: 0.7487WARNING:tensorflow:Early stopping conditioned on metric `train_loss` which is not available. Available metrics are: loss,val_loss\n"
     ]
    },
    {
     "name": "stderr",
     "output_type": "stream",
     "text": [
      "WARNING:tensorflow:Early stopping conditioned on metric `train_loss` which is not available. Available metrics are: loss,val_loss\n"
     ]
    },
    {
     "name": "stdout",
     "output_type": "stream",
     "text": [
      "45/45 [==============================] - 3s 70ms/step - batch: 22.0000 - size: 32.0000 - loss: 0.7487 - val_loss: 2.1344 - lr: 3.8004e-04\n",
      "Epoch 294/500\n",
      "45/45 [==============================] - ETA: 0s - batch: 22.0000 - size: 32.0000 - loss: 0.7541WARNING:tensorflow:Early stopping conditioned on metric `train_loss` which is not available. Available metrics are: loss,val_loss\n"
     ]
    },
    {
     "name": "stderr",
     "output_type": "stream",
     "text": [
      "WARNING:tensorflow:Early stopping conditioned on metric `train_loss` which is not available. Available metrics are: loss,val_loss\n"
     ]
    },
    {
     "name": "stdout",
     "output_type": "stream",
     "text": [
      "45/45 [==============================] - 3s 70ms/step - batch: 22.0000 - size: 32.0000 - loss: 0.7541 - val_loss: 2.1420 - lr: 3.7693e-04\n",
      "Epoch 295/500\n",
      "45/45 [==============================] - ETA: 0s - batch: 22.0000 - size: 32.0000 - loss: 0.7559WARNING:tensorflow:Early stopping conditioned on metric `train_loss` which is not available. Available metrics are: loss,val_loss\n"
     ]
    },
    {
     "name": "stderr",
     "output_type": "stream",
     "text": [
      "WARNING:tensorflow:Early stopping conditioned on metric `train_loss` which is not available. Available metrics are: loss,val_loss\n"
     ]
    },
    {
     "name": "stdout",
     "output_type": "stream",
     "text": [
      "45/45 [==============================] - 3s 70ms/step - batch: 22.0000 - size: 32.0000 - loss: 0.7559 - val_loss: 2.1199 - lr: 3.7382e-04\n",
      "Epoch 296/500\n",
      "45/45 [==============================] - ETA: 0s - batch: 22.0000 - size: 32.0000 - loss: 0.7577WARNING:tensorflow:Early stopping conditioned on metric `train_loss` which is not available. Available metrics are: loss,val_loss\n"
     ]
    },
    {
     "name": "stderr",
     "output_type": "stream",
     "text": [
      "WARNING:tensorflow:Early stopping conditioned on metric `train_loss` which is not available. Available metrics are: loss,val_loss\n"
     ]
    },
    {
     "name": "stdout",
     "output_type": "stream",
     "text": [
      "45/45 [==============================] - 3s 73ms/step - batch: 22.0000 - size: 32.0000 - loss: 0.7577 - val_loss: 2.1391 - lr: 3.7072e-04\n",
      "Epoch 297/500\n",
      "45/45 [==============================] - ETA: 0s - batch: 22.0000 - size: 32.0000 - loss: 0.7478WARNING:tensorflow:Early stopping conditioned on metric `train_loss` which is not available. Available metrics are: loss,val_loss\n"
     ]
    },
    {
     "name": "stderr",
     "output_type": "stream",
     "text": [
      "WARNING:tensorflow:Early stopping conditioned on metric `train_loss` which is not available. Available metrics are: loss,val_loss\n"
     ]
    },
    {
     "name": "stdout",
     "output_type": "stream",
     "text": [
      "45/45 [==============================] - 3s 70ms/step - batch: 22.0000 - size: 32.0000 - loss: 0.7478 - val_loss: 2.1080 - lr: 3.6762e-04\n",
      "Epoch 298/500\n",
      "45/45 [==============================] - ETA: 0s - batch: 22.0000 - size: 32.0000 - loss: 0.7489WARNING:tensorflow:Early stopping conditioned on metric `train_loss` which is not available. Available metrics are: loss,val_loss\n"
     ]
    },
    {
     "name": "stderr",
     "output_type": "stream",
     "text": [
      "WARNING:tensorflow:Early stopping conditioned on metric `train_loss` which is not available. Available metrics are: loss,val_loss\n"
     ]
    },
    {
     "name": "stdout",
     "output_type": "stream",
     "text": [
      "45/45 [==============================] - 3s 70ms/step - batch: 22.0000 - size: 32.0000 - loss: 0.7489 - val_loss: 2.1097 - lr: 3.6453e-04\n",
      "Epoch 299/500\n",
      "45/45 [==============================] - ETA: 0s - batch: 22.0000 - size: 32.0000 - loss: 0.7407WARNING:tensorflow:Early stopping conditioned on metric `train_loss` which is not available. Available metrics are: loss,val_loss\n"
     ]
    },
    {
     "name": "stderr",
     "output_type": "stream",
     "text": [
      "WARNING:tensorflow:Early stopping conditioned on metric `train_loss` which is not available. Available metrics are: loss,val_loss\n"
     ]
    },
    {
     "name": "stdout",
     "output_type": "stream",
     "text": [
      "45/45 [==============================] - 3s 70ms/step - batch: 22.0000 - size: 32.0000 - loss: 0.7407 - val_loss: 2.1222 - lr: 3.6144e-04\n",
      "Epoch 300/500\n",
      "45/45 [==============================] - ETA: 0s - batch: 22.0000 - size: 32.0000 - loss: 0.7432WARNING:tensorflow:Early stopping conditioned on metric `train_loss` which is not available. Available metrics are: loss,val_loss\n"
     ]
    },
    {
     "name": "stderr",
     "output_type": "stream",
     "text": [
      "WARNING:tensorflow:Early stopping conditioned on metric `train_loss` which is not available. Available metrics are: loss,val_loss\n"
     ]
    },
    {
     "name": "stdout",
     "output_type": "stream",
     "text": [
      "Get map.\n"
     ]
    },
    {
     "name": "stderr",
     "output_type": "stream",
     "text": [
      "100%|██████████| 178/178 [00:00<00:00, 203.23it/s]\n"
     ]
    },
    {
     "name": "stdout",
     "output_type": "stream",
     "text": [
      "Calculate Map.\n",
      "Path '.temp_map_out/results' already exists.\n",
      "90.04% = hand AP \t||\tscore_threhold=0.5 : F1=0.85 ; Recall=88.95% ; Precision=82.04%\n",
      "mAP = 90.04%\n",
      "Path '/home/zhangyouan/桌面/zya/NN_net/network/SSD/IMX_681_ssd_mobilenet_git/keras/detection/SSD_ipynb_transfer_callback_1227hand/output/20240228/loss_2024_06_27_14_24_39' already exists.\n",
      "Get map done.\n",
      "45/45 [==============================] - 4s 95ms/step - batch: 22.0000 - size: 32.0000 - loss: 0.7432 - val_loss: 2.1383 - lr: 3.5836e-04\n",
      "Epoch 301/500\n",
      "45/45 [==============================] - ETA: 0s - batch: 22.0000 - size: 32.0000 - loss: 0.7462WARNING:tensorflow:Early stopping conditioned on metric `train_loss` which is not available. Available metrics are: loss,val_loss\n"
     ]
    },
    {
     "name": "stderr",
     "output_type": "stream",
     "text": [
      "WARNING:tensorflow:Early stopping conditioned on metric `train_loss` which is not available. Available metrics are: loss,val_loss\n"
     ]
    },
    {
     "name": "stdout",
     "output_type": "stream",
     "text": [
      "45/45 [==============================] - 3s 70ms/step - batch: 22.0000 - size: 32.0000 - loss: 0.7462 - val_loss: 2.1390 - lr: 3.5529e-04\n",
      "Epoch 302/500\n",
      "45/45 [==============================] - ETA: 0s - batch: 22.0000 - size: 32.0000 - loss: 0.7465WARNING:tensorflow:Early stopping conditioned on metric `train_loss` which is not available. Available metrics are: loss,val_loss\n"
     ]
    },
    {
     "name": "stderr",
     "output_type": "stream",
     "text": [
      "WARNING:tensorflow:Early stopping conditioned on metric `train_loss` which is not available. Available metrics are: loss,val_loss\n"
     ]
    },
    {
     "name": "stdout",
     "output_type": "stream",
     "text": [
      "45/45 [==============================] - 3s 70ms/step - batch: 22.0000 - size: 32.0000 - loss: 0.7465 - val_loss: 2.1484 - lr: 3.5222e-04\n",
      "Epoch 303/500\n",
      "45/45 [==============================] - ETA: 0s - batch: 22.0000 - size: 32.0000 - loss: 0.7621WARNING:tensorflow:Early stopping conditioned on metric `train_loss` which is not available. Available metrics are: loss,val_loss\n"
     ]
    },
    {
     "name": "stderr",
     "output_type": "stream",
     "text": [
      "WARNING:tensorflow:Early stopping conditioned on metric `train_loss` which is not available. Available metrics are: loss,val_loss\n"
     ]
    },
    {
     "name": "stdout",
     "output_type": "stream",
     "text": [
      "45/45 [==============================] - 3s 70ms/step - batch: 22.0000 - size: 32.0000 - loss: 0.7621 - val_loss: 2.1418 - lr: 3.4916e-04\n",
      "Epoch 304/500\n",
      "45/45 [==============================] - ETA: 0s - batch: 22.0000 - size: 32.0000 - loss: 0.7434WARNING:tensorflow:Early stopping conditioned on metric `train_loss` which is not available. Available metrics are: loss,val_loss\n"
     ]
    },
    {
     "name": "stderr",
     "output_type": "stream",
     "text": [
      "WARNING:tensorflow:Early stopping conditioned on metric `train_loss` which is not available. Available metrics are: loss,val_loss\n"
     ]
    },
    {
     "name": "stdout",
     "output_type": "stream",
     "text": [
      "45/45 [==============================] - 3s 70ms/step - batch: 22.0000 - size: 32.0000 - loss: 0.7434 - val_loss: 2.1100 - lr: 3.4610e-04\n",
      "Epoch 305/500\n",
      "45/45 [==============================] - ETA: 0s - batch: 22.0000 - size: 32.0000 - loss: 0.7419WARNING:tensorflow:Early stopping conditioned on metric `train_loss` which is not available. Available metrics are: loss,val_loss\n"
     ]
    },
    {
     "name": "stderr",
     "output_type": "stream",
     "text": [
      "WARNING:tensorflow:Early stopping conditioned on metric `train_loss` which is not available. Available metrics are: loss,val_loss\n"
     ]
    },
    {
     "name": "stdout",
     "output_type": "stream",
     "text": [
      "45/45 [==============================] - 3s 70ms/step - batch: 22.0000 - size: 32.0000 - loss: 0.7419 - val_loss: 2.1105 - lr: 3.4305e-04\n",
      "Epoch 306/500\n",
      "45/45 [==============================] - ETA: 0s - batch: 22.0000 - size: 32.0000 - loss: 0.7377WARNING:tensorflow:Early stopping conditioned on metric `train_loss` which is not available. Available metrics are: loss,val_loss\n"
     ]
    },
    {
     "name": "stderr",
     "output_type": "stream",
     "text": [
      "WARNING:tensorflow:Early stopping conditioned on metric `train_loss` which is not available. Available metrics are: loss,val_loss\n"
     ]
    },
    {
     "name": "stdout",
     "output_type": "stream",
     "text": [
      "45/45 [==============================] - 3s 70ms/step - batch: 22.0000 - size: 32.0000 - loss: 0.7377 - val_loss: 2.1096 - lr: 3.4001e-04\n",
      "Epoch 307/500\n",
      "45/45 [==============================] - ETA: 0s - batch: 22.0000 - size: 32.0000 - loss: 0.7355WARNING:tensorflow:Early stopping conditioned on metric `train_loss` which is not available. Available metrics are: loss,val_loss\n"
     ]
    },
    {
     "name": "stderr",
     "output_type": "stream",
     "text": [
      "WARNING:tensorflow:Early stopping conditioned on metric `train_loss` which is not available. Available metrics are: loss,val_loss\n"
     ]
    },
    {
     "name": "stdout",
     "output_type": "stream",
     "text": [
      "45/45 [==============================] - 3s 70ms/step - batch: 22.0000 - size: 32.0000 - loss: 0.7355 - val_loss: 2.1483 - lr: 3.3697e-04\n",
      "Epoch 308/500\n",
      "45/45 [==============================] - ETA: 0s - batch: 22.0000 - size: 32.0000 - loss: 0.7483WARNING:tensorflow:Early stopping conditioned on metric `train_loss` which is not available. Available metrics are: loss,val_loss\n"
     ]
    },
    {
     "name": "stderr",
     "output_type": "stream",
     "text": [
      "WARNING:tensorflow:Early stopping conditioned on metric `train_loss` which is not available. Available metrics are: loss,val_loss\n"
     ]
    },
    {
     "name": "stdout",
     "output_type": "stream",
     "text": [
      "45/45 [==============================] - 3s 70ms/step - batch: 22.0000 - size: 32.0000 - loss: 0.7483 - val_loss: 2.1568 - lr: 3.3394e-04\n",
      "Epoch 309/500\n",
      "45/45 [==============================] - ETA: 0s - batch: 22.0000 - size: 32.0000 - loss: 0.7460WARNING:tensorflow:Early stopping conditioned on metric `train_loss` which is not available. Available metrics are: loss,val_loss\n"
     ]
    },
    {
     "name": "stderr",
     "output_type": "stream",
     "text": [
      "WARNING:tensorflow:Early stopping conditioned on metric `train_loss` which is not available. Available metrics are: loss,val_loss\n"
     ]
    },
    {
     "name": "stdout",
     "output_type": "stream",
     "text": [
      "45/45 [==============================] - 3s 70ms/step - batch: 22.0000 - size: 32.0000 - loss: 0.7460 - val_loss: 2.1326 - lr: 3.3092e-04\n",
      "Epoch 310/500\n",
      "45/45 [==============================] - ETA: 0s - batch: 22.0000 - size: 32.0000 - loss: 0.7305WARNING:tensorflow:Early stopping conditioned on metric `train_loss` which is not available. Available metrics are: loss,val_loss\n"
     ]
    },
    {
     "name": "stderr",
     "output_type": "stream",
     "text": [
      "WARNING:tensorflow:Early stopping conditioned on metric `train_loss` which is not available. Available metrics are: loss,val_loss\n"
     ]
    },
    {
     "name": "stdout",
     "output_type": "stream",
     "text": [
      "Get map.\n"
     ]
    },
    {
     "name": "stderr",
     "output_type": "stream",
     "text": [
      "100%|██████████| 178/178 [00:00<00:00, 205.45it/s]\n"
     ]
    },
    {
     "name": "stdout",
     "output_type": "stream",
     "text": [
      "Calculate Map.\n",
      "Path '.temp_map_out/results' already exists.\n",
      "89.62% = hand AP \t||\tscore_threhold=0.5 : F1=0.84 ; Recall=88.95% ; Precision=80.48%\n",
      "mAP = 89.62%\n",
      "Path '/home/zhangyouan/桌面/zya/NN_net/network/SSD/IMX_681_ssd_mobilenet_git/keras/detection/SSD_ipynb_transfer_callback_1227hand/output/20240228/loss_2024_06_27_14_24_39' already exists.\n",
      "Get map done.\n",
      "45/45 [==============================] - 4s 95ms/step - batch: 22.0000 - size: 32.0000 - loss: 0.7305 - val_loss: 2.1474 - lr: 3.2790e-04\n",
      "Epoch 311/500\n",
      "45/45 [==============================] - ETA: 0s - batch: 22.0000 - size: 32.0000 - loss: 0.7281WARNING:tensorflow:Early stopping conditioned on metric `train_loss` which is not available. Available metrics are: loss,val_loss\n"
     ]
    },
    {
     "name": "stderr",
     "output_type": "stream",
     "text": [
      "WARNING:tensorflow:Early stopping conditioned on metric `train_loss` which is not available. Available metrics are: loss,val_loss\n"
     ]
    },
    {
     "name": "stdout",
     "output_type": "stream",
     "text": [
      "45/45 [==============================] - 3s 70ms/step - batch: 22.0000 - size: 32.0000 - loss: 0.7281 - val_loss: 2.1414 - lr: 3.2489e-04\n",
      "Epoch 312/500\n",
      "45/45 [==============================] - ETA: 0s - batch: 22.0000 - size: 32.0000 - loss: 0.7330WARNING:tensorflow:Early stopping conditioned on metric `train_loss` which is not available. Available metrics are: loss,val_loss\n"
     ]
    },
    {
     "name": "stderr",
     "output_type": "stream",
     "text": [
      "WARNING:tensorflow:Early stopping conditioned on metric `train_loss` which is not available. Available metrics are: loss,val_loss\n"
     ]
    },
    {
     "name": "stdout",
     "output_type": "stream",
     "text": [
      "45/45 [==============================] - 3s 70ms/step - batch: 22.0000 - size: 32.0000 - loss: 0.7330 - val_loss: 2.1607 - lr: 3.2189e-04\n",
      "Epoch 313/500\n",
      "45/45 [==============================] - ETA: 0s - batch: 22.0000 - size: 32.0000 - loss: 0.7332WARNING:tensorflow:Early stopping conditioned on metric `train_loss` which is not available. Available metrics are: loss,val_loss\n"
     ]
    },
    {
     "name": "stderr",
     "output_type": "stream",
     "text": [
      "WARNING:tensorflow:Early stopping conditioned on metric `train_loss` which is not available. Available metrics are: loss,val_loss\n"
     ]
    },
    {
     "name": "stdout",
     "output_type": "stream",
     "text": [
      "45/45 [==============================] - 3s 70ms/step - batch: 22.0000 - size: 32.0000 - loss: 0.7332 - val_loss: 2.1619 - lr: 3.1890e-04\n",
      "Epoch 314/500\n",
      "45/45 [==============================] - ETA: 0s - batch: 22.0000 - size: 32.0000 - loss: 0.7392WARNING:tensorflow:Early stopping conditioned on metric `train_loss` which is not available. Available metrics are: loss,val_loss\n"
     ]
    },
    {
     "name": "stderr",
     "output_type": "stream",
     "text": [
      "WARNING:tensorflow:Early stopping conditioned on metric `train_loss` which is not available. Available metrics are: loss,val_loss\n"
     ]
    },
    {
     "name": "stdout",
     "output_type": "stream",
     "text": [
      "45/45 [==============================] - 3s 70ms/step - batch: 22.0000 - size: 32.0000 - loss: 0.7392 - val_loss: 2.1926 - lr: 3.1591e-04\n",
      "Epoch 315/500\n",
      "45/45 [==============================] - ETA: 0s - batch: 22.0000 - size: 32.0000 - loss: 0.7588WARNING:tensorflow:Early stopping conditioned on metric `train_loss` which is not available. Available metrics are: loss,val_loss\n"
     ]
    },
    {
     "name": "stderr",
     "output_type": "stream",
     "text": [
      "WARNING:tensorflow:Early stopping conditioned on metric `train_loss` which is not available. Available metrics are: loss,val_loss\n"
     ]
    },
    {
     "name": "stdout",
     "output_type": "stream",
     "text": [
      "45/45 [==============================] - 3s 70ms/step - batch: 22.0000 - size: 32.0000 - loss: 0.7588 - val_loss: 2.1368 - lr: 3.1293e-04\n",
      "Epoch 316/500\n",
      "45/45 [==============================] - ETA: 0s - batch: 22.0000 - size: 32.0000 - loss: 0.7480WARNING:tensorflow:Early stopping conditioned on metric `train_loss` which is not available. Available metrics are: loss,val_loss\n"
     ]
    },
    {
     "name": "stderr",
     "output_type": "stream",
     "text": [
      "WARNING:tensorflow:Early stopping conditioned on metric `train_loss` which is not available. Available metrics are: loss,val_loss\n"
     ]
    },
    {
     "name": "stdout",
     "output_type": "stream",
     "text": [
      "45/45 [==============================] - 3s 70ms/step - batch: 22.0000 - size: 32.0000 - loss: 0.7480 - val_loss: 2.1715 - lr: 3.0996e-04\n",
      "Epoch 317/500\n",
      "45/45 [==============================] - ETA: 0s - batch: 22.0000 - size: 32.0000 - loss: 0.7232WARNING:tensorflow:Early stopping conditioned on metric `train_loss` which is not available. Available metrics are: loss,val_loss\n"
     ]
    },
    {
     "name": "stderr",
     "output_type": "stream",
     "text": [
      "WARNING:tensorflow:Early stopping conditioned on metric `train_loss` which is not available. Available metrics are: loss,val_loss\n"
     ]
    },
    {
     "name": "stdout",
     "output_type": "stream",
     "text": [
      "45/45 [==============================] - 3s 70ms/step - batch: 22.0000 - size: 32.0000 - loss: 0.7232 - val_loss: 2.1920 - lr: 3.0700e-04\n",
      "Epoch 318/500\n",
      "45/45 [==============================] - ETA: 0s - batch: 22.0000 - size: 32.0000 - loss: 0.7245WARNING:tensorflow:Early stopping conditioned on metric `train_loss` which is not available. Available metrics are: loss,val_loss\n"
     ]
    },
    {
     "name": "stderr",
     "output_type": "stream",
     "text": [
      "WARNING:tensorflow:Early stopping conditioned on metric `train_loss` which is not available. Available metrics are: loss,val_loss\n"
     ]
    },
    {
     "name": "stdout",
     "output_type": "stream",
     "text": [
      "45/45 [==============================] - 3s 70ms/step - batch: 22.0000 - size: 32.0000 - loss: 0.7245 - val_loss: 2.1782 - lr: 3.0404e-04\n",
      "Epoch 319/500\n",
      "45/45 [==============================] - ETA: 0s - batch: 22.0000 - size: 32.0000 - loss: 0.7280WARNING:tensorflow:Early stopping conditioned on metric `train_loss` which is not available. Available metrics are: loss,val_loss\n"
     ]
    },
    {
     "name": "stderr",
     "output_type": "stream",
     "text": [
      "WARNING:tensorflow:Early stopping conditioned on metric `train_loss` which is not available. Available metrics are: loss,val_loss\n"
     ]
    },
    {
     "name": "stdout",
     "output_type": "stream",
     "text": [
      "45/45 [==============================] - 3s 70ms/step - batch: 22.0000 - size: 32.0000 - loss: 0.7280 - val_loss: 2.1694 - lr: 3.0109e-04\n",
      "Epoch 320/500\n",
      "45/45 [==============================] - ETA: 0s - batch: 22.0000 - size: 32.0000 - loss: 0.7246WARNING:tensorflow:Early stopping conditioned on metric `train_loss` which is not available. Available metrics are: loss,val_loss\n"
     ]
    },
    {
     "name": "stderr",
     "output_type": "stream",
     "text": [
      "WARNING:tensorflow:Early stopping conditioned on metric `train_loss` which is not available. Available metrics are: loss,val_loss\n"
     ]
    },
    {
     "name": "stdout",
     "output_type": "stream",
     "text": [
      "Get map.\n"
     ]
    },
    {
     "name": "stderr",
     "output_type": "stream",
     "text": [
      "100%|██████████| 178/178 [00:00<00:00, 212.06it/s]\n"
     ]
    },
    {
     "name": "stdout",
     "output_type": "stream",
     "text": [
      "Calculate Map.\n",
      "Path '.temp_map_out/results' already exists.\n",
      "90.17% = hand AP \t||\tscore_threhold=0.5 : F1=0.85 ; Recall=89.47% ; Precision=80.19%\n",
      "mAP = 90.17%\n",
      "Path '/home/zhangyouan/桌面/zya/NN_net/network/SSD/IMX_681_ssd_mobilenet_git/keras/detection/SSD_ipynb_transfer_callback_1227hand/output/20240228/loss_2024_06_27_14_24_39' already exists.\n",
      "Get map done.\n",
      "45/45 [==============================] - 4s 95ms/step - batch: 22.0000 - size: 32.0000 - loss: 0.7246 - val_loss: 2.1627 - lr: 2.9815e-04\n",
      "Epoch 321/500\n",
      "45/45 [==============================] - ETA: 0s - batch: 22.0000 - size: 32.0000 - loss: 0.7199WARNING:tensorflow:Early stopping conditioned on metric `train_loss` which is not available. Available metrics are: loss,val_loss\n"
     ]
    },
    {
     "name": "stderr",
     "output_type": "stream",
     "text": [
      "WARNING:tensorflow:Early stopping conditioned on metric `train_loss` which is not available. Available metrics are: loss,val_loss\n"
     ]
    },
    {
     "name": "stdout",
     "output_type": "stream",
     "text": [
      "45/45 [==============================] - 3s 70ms/step - batch: 22.0000 - size: 32.0000 - loss: 0.7199 - val_loss: 2.1743 - lr: 2.9522e-04\n",
      "Epoch 322/500\n",
      "45/45 [==============================] - ETA: 0s - batch: 22.0000 - size: 32.0000 - loss: 0.7150WARNING:tensorflow:Early stopping conditioned on metric `train_loss` which is not available. Available metrics are: loss,val_loss\n"
     ]
    },
    {
     "name": "stderr",
     "output_type": "stream",
     "text": [
      "WARNING:tensorflow:Early stopping conditioned on metric `train_loss` which is not available. Available metrics are: loss,val_loss\n"
     ]
    },
    {
     "name": "stdout",
     "output_type": "stream",
     "text": [
      "45/45 [==============================] - 3s 70ms/step - batch: 22.0000 - size: 32.0000 - loss: 0.7150 - val_loss: 2.1710 - lr: 2.9230e-04\n",
      "Epoch 323/500\n",
      "45/45 [==============================] - ETA: 0s - batch: 22.0000 - size: 32.0000 - loss: 0.7221WARNING:tensorflow:Early stopping conditioned on metric `train_loss` which is not available. Available metrics are: loss,val_loss\n"
     ]
    },
    {
     "name": "stderr",
     "output_type": "stream",
     "text": [
      "WARNING:tensorflow:Early stopping conditioned on metric `train_loss` which is not available. Available metrics are: loss,val_loss\n"
     ]
    },
    {
     "name": "stdout",
     "output_type": "stream",
     "text": [
      "45/45 [==============================] - 3s 70ms/step - batch: 22.0000 - size: 32.0000 - loss: 0.7221 - val_loss: 2.1797 - lr: 2.8938e-04\n",
      "Epoch 324/500\n",
      "45/45 [==============================] - ETA: 0s - batch: 22.0000 - size: 32.0000 - loss: 0.7162WARNING:tensorflow:Early stopping conditioned on metric `train_loss` which is not available. Available metrics are: loss,val_loss\n"
     ]
    },
    {
     "name": "stderr",
     "output_type": "stream",
     "text": [
      "WARNING:tensorflow:Early stopping conditioned on metric `train_loss` which is not available. Available metrics are: loss,val_loss\n"
     ]
    },
    {
     "name": "stdout",
     "output_type": "stream",
     "text": [
      "45/45 [==============================] - 3s 70ms/step - batch: 22.0000 - size: 32.0000 - loss: 0.7162 - val_loss: 2.1647 - lr: 2.8648e-04\n",
      "Epoch 325/500\n",
      "45/45 [==============================] - ETA: 0s - batch: 22.0000 - size: 32.0000 - loss: 0.7146WARNING:tensorflow:Early stopping conditioned on metric `train_loss` which is not available. Available metrics are: loss,val_loss\n"
     ]
    },
    {
     "name": "stderr",
     "output_type": "stream",
     "text": [
      "WARNING:tensorflow:Early stopping conditioned on metric `train_loss` which is not available. Available metrics are: loss,val_loss\n"
     ]
    },
    {
     "name": "stdout",
     "output_type": "stream",
     "text": [
      "45/45 [==============================] - 3s 70ms/step - batch: 22.0000 - size: 32.0000 - loss: 0.7146 - val_loss: 2.1563 - lr: 2.8358e-04\n",
      "Epoch 326/500\n",
      "45/45 [==============================] - ETA: 0s - batch: 22.0000 - size: 32.0000 - loss: 0.7139WARNING:tensorflow:Early stopping conditioned on metric `train_loss` which is not available. Available metrics are: loss,val_loss\n"
     ]
    },
    {
     "name": "stderr",
     "output_type": "stream",
     "text": [
      "WARNING:tensorflow:Early stopping conditioned on metric `train_loss` which is not available. Available metrics are: loss,val_loss\n"
     ]
    },
    {
     "name": "stdout",
     "output_type": "stream",
     "text": [
      "45/45 [==============================] - 3s 70ms/step - batch: 22.0000 - size: 32.0000 - loss: 0.7139 - val_loss: 2.1549 - lr: 2.8069e-04\n",
      "Epoch 327/500\n",
      "45/45 [==============================] - ETA: 0s - batch: 22.0000 - size: 32.0000 - loss: 0.7095WARNING:tensorflow:Early stopping conditioned on metric `train_loss` which is not available. Available metrics are: loss,val_loss\n"
     ]
    },
    {
     "name": "stderr",
     "output_type": "stream",
     "text": [
      "WARNING:tensorflow:Early stopping conditioned on metric `train_loss` which is not available. Available metrics are: loss,val_loss\n"
     ]
    },
    {
     "name": "stdout",
     "output_type": "stream",
     "text": [
      "45/45 [==============================] - 3s 70ms/step - batch: 22.0000 - size: 32.0000 - loss: 0.7095 - val_loss: 2.1751 - lr: 2.7781e-04\n",
      "Epoch 328/500\n",
      "45/45 [==============================] - ETA: 0s - batch: 22.0000 - size: 32.0000 - loss: 0.7093WARNING:tensorflow:Early stopping conditioned on metric `train_loss` which is not available. Available metrics are: loss,val_loss\n"
     ]
    },
    {
     "name": "stderr",
     "output_type": "stream",
     "text": [
      "WARNING:tensorflow:Early stopping conditioned on metric `train_loss` which is not available. Available metrics are: loss,val_loss\n"
     ]
    },
    {
     "name": "stdout",
     "output_type": "stream",
     "text": [
      "45/45 [==============================] - 3s 70ms/step - batch: 22.0000 - size: 32.0000 - loss: 0.7093 - val_loss: 2.1826 - lr: 2.7494e-04\n",
      "Epoch 329/500\n",
      "45/45 [==============================] - ETA: 0s - batch: 22.0000 - size: 32.0000 - loss: 0.7173WARNING:tensorflow:Early stopping conditioned on metric `train_loss` which is not available. Available metrics are: loss,val_loss\n"
     ]
    },
    {
     "name": "stderr",
     "output_type": "stream",
     "text": [
      "WARNING:tensorflow:Early stopping conditioned on metric `train_loss` which is not available. Available metrics are: loss,val_loss\n"
     ]
    },
    {
     "name": "stdout",
     "output_type": "stream",
     "text": [
      "45/45 [==============================] - 3s 70ms/step - batch: 22.0000 - size: 32.0000 - loss: 0.7173 - val_loss: 2.1850 - lr: 2.7208e-04\n",
      "Epoch 330/500\n",
      "45/45 [==============================] - ETA: 0s - batch: 22.0000 - size: 32.0000 - loss: 0.7128WARNING:tensorflow:Early stopping conditioned on metric `train_loss` which is not available. Available metrics are: loss,val_loss\n"
     ]
    },
    {
     "name": "stderr",
     "output_type": "stream",
     "text": [
      "WARNING:tensorflow:Early stopping conditioned on metric `train_loss` which is not available. Available metrics are: loss,val_loss\n"
     ]
    },
    {
     "name": "stdout",
     "output_type": "stream",
     "text": [
      "Get map.\n"
     ]
    },
    {
     "name": "stderr",
     "output_type": "stream",
     "text": [
      "100%|██████████| 178/178 [00:00<00:00, 205.41it/s]\n"
     ]
    },
    {
     "name": "stdout",
     "output_type": "stream",
     "text": [
      "Calculate Map.\n",
      "Path '.temp_map_out/results' already exists.\n",
      "90.19% = hand AP \t||\tscore_threhold=0.5 : F1=0.84 ; Recall=89.47% ; Precision=78.70%\n",
      "mAP = 90.19%\n",
      "Path '/home/zhangyouan/桌面/zya/NN_net/network/SSD/IMX_681_ssd_mobilenet_git/keras/detection/SSD_ipynb_transfer_callback_1227hand/output/20240228/loss_2024_06_27_14_24_39' already exists.\n",
      "Get map done.\n",
      "45/45 [==============================] - 4s 95ms/step - batch: 22.0000 - size: 32.0000 - loss: 0.7128 - val_loss: 2.1677 - lr: 2.6923e-04\n",
      "Epoch 331/500\n",
      "45/45 [==============================] - ETA: 0s - batch: 22.0000 - size: 32.0000 - loss: 0.7123WARNING:tensorflow:Early stopping conditioned on metric `train_loss` which is not available. Available metrics are: loss,val_loss\n"
     ]
    },
    {
     "name": "stderr",
     "output_type": "stream",
     "text": [
      "WARNING:tensorflow:Early stopping conditioned on metric `train_loss` which is not available. Available metrics are: loss,val_loss\n"
     ]
    },
    {
     "name": "stdout",
     "output_type": "stream",
     "text": [
      "45/45 [==============================] - 3s 70ms/step - batch: 22.0000 - size: 32.0000 - loss: 0.7123 - val_loss: 2.2143 - lr: 2.6639e-04\n",
      "Epoch 332/500\n",
      "45/45 [==============================] - ETA: 0s - batch: 22.0000 - size: 32.0000 - loss: 0.7130WARNING:tensorflow:Early stopping conditioned on metric `train_loss` which is not available. Available metrics are: loss,val_loss\n"
     ]
    },
    {
     "name": "stderr",
     "output_type": "stream",
     "text": [
      "WARNING:tensorflow:Early stopping conditioned on metric `train_loss` which is not available. Available metrics are: loss,val_loss\n"
     ]
    },
    {
     "name": "stdout",
     "output_type": "stream",
     "text": [
      "45/45 [==============================] - 3s 70ms/step - batch: 22.0000 - size: 32.0000 - loss: 0.7130 - val_loss: 2.1722 - lr: 2.6356e-04\n",
      "Epoch 333/500\n",
      "45/45 [==============================] - ETA: 0s - batch: 22.0000 - size: 32.0000 - loss: 0.7054WARNING:tensorflow:Early stopping conditioned on metric `train_loss` which is not available. Available metrics are: loss,val_loss\n"
     ]
    },
    {
     "name": "stderr",
     "output_type": "stream",
     "text": [
      "WARNING:tensorflow:Early stopping conditioned on metric `train_loss` which is not available. Available metrics are: loss,val_loss\n"
     ]
    },
    {
     "name": "stdout",
     "output_type": "stream",
     "text": [
      "45/45 [==============================] - 3s 70ms/step - batch: 22.0000 - size: 32.0000 - loss: 0.7054 - val_loss: 2.1854 - lr: 2.6074e-04\n",
      "Epoch 334/500\n",
      "45/45 [==============================] - ETA: 0s - batch: 22.0000 - size: 32.0000 - loss: 0.7021WARNING:tensorflow:Early stopping conditioned on metric `train_loss` which is not available. Available metrics are: loss,val_loss\n"
     ]
    },
    {
     "name": "stderr",
     "output_type": "stream",
     "text": [
      "WARNING:tensorflow:Early stopping conditioned on metric `train_loss` which is not available. Available metrics are: loss,val_loss\n"
     ]
    },
    {
     "name": "stdout",
     "output_type": "stream",
     "text": [
      "45/45 [==============================] - 3s 70ms/step - batch: 22.0000 - size: 32.0000 - loss: 0.7021 - val_loss: 2.2021 - lr: 2.5792e-04\n",
      "Epoch 335/500\n",
      "45/45 [==============================] - ETA: 0s - batch: 22.0000 - size: 32.0000 - loss: 0.7072WARNING:tensorflow:Early stopping conditioned on metric `train_loss` which is not available. Available metrics are: loss,val_loss\n"
     ]
    },
    {
     "name": "stderr",
     "output_type": "stream",
     "text": [
      "WARNING:tensorflow:Early stopping conditioned on metric `train_loss` which is not available. Available metrics are: loss,val_loss\n"
     ]
    },
    {
     "name": "stdout",
     "output_type": "stream",
     "text": [
      "45/45 [==============================] - 3s 70ms/step - batch: 22.0000 - size: 32.0000 - loss: 0.7072 - val_loss: 2.1710 - lr: 2.5512e-04\n",
      "Epoch 336/500\n",
      "45/45 [==============================] - ETA: 0s - batch: 22.0000 - size: 32.0000 - loss: 0.7069WARNING:tensorflow:Early stopping conditioned on metric `train_loss` which is not available. Available metrics are: loss,val_loss\n"
     ]
    },
    {
     "name": "stderr",
     "output_type": "stream",
     "text": [
      "WARNING:tensorflow:Early stopping conditioned on metric `train_loss` which is not available. Available metrics are: loss,val_loss\n"
     ]
    },
    {
     "name": "stdout",
     "output_type": "stream",
     "text": [
      "45/45 [==============================] - 3s 70ms/step - batch: 22.0000 - size: 32.0000 - loss: 0.7069 - val_loss: 2.1697 - lr: 2.5233e-04\n",
      "Epoch 337/500\n",
      "45/45 [==============================] - ETA: 0s - batch: 22.0000 - size: 32.0000 - loss: 0.7092WARNING:tensorflow:Early stopping conditioned on metric `train_loss` which is not available. Available metrics are: loss,val_loss\n"
     ]
    },
    {
     "name": "stderr",
     "output_type": "stream",
     "text": [
      "WARNING:tensorflow:Early stopping conditioned on metric `train_loss` which is not available. Available metrics are: loss,val_loss\n"
     ]
    },
    {
     "name": "stdout",
     "output_type": "stream",
     "text": [
      "45/45 [==============================] - 3s 70ms/step - batch: 22.0000 - size: 32.0000 - loss: 0.7092 - val_loss: 2.1712 - lr: 2.4955e-04\n",
      "Epoch 338/500\n",
      "45/45 [==============================] - ETA: 0s - batch: 22.0000 - size: 32.0000 - loss: 0.7103WARNING:tensorflow:Early stopping conditioned on metric `train_loss` which is not available. Available metrics are: loss,val_loss\n"
     ]
    },
    {
     "name": "stderr",
     "output_type": "stream",
     "text": [
      "WARNING:tensorflow:Early stopping conditioned on metric `train_loss` which is not available. Available metrics are: loss,val_loss\n"
     ]
    },
    {
     "name": "stdout",
     "output_type": "stream",
     "text": [
      "45/45 [==============================] - 3s 70ms/step - batch: 22.0000 - size: 32.0000 - loss: 0.7103 - val_loss: 2.1903 - lr: 2.4678e-04\n",
      "Epoch 339/500\n",
      "45/45 [==============================] - ETA: 0s - batch: 22.0000 - size: 32.0000 - loss: 0.7023WARNING:tensorflow:Early stopping conditioned on metric `train_loss` which is not available. Available metrics are: loss,val_loss\n"
     ]
    },
    {
     "name": "stderr",
     "output_type": "stream",
     "text": [
      "WARNING:tensorflow:Early stopping conditioned on metric `train_loss` which is not available. Available metrics are: loss,val_loss\n"
     ]
    },
    {
     "name": "stdout",
     "output_type": "stream",
     "text": [
      "45/45 [==============================] - 3s 70ms/step - batch: 22.0000 - size: 32.0000 - loss: 0.7023 - val_loss: 2.1874 - lr: 2.4401e-04\n",
      "Epoch 340/500\n",
      "45/45 [==============================] - ETA: 0s - batch: 22.0000 - size: 32.0000 - loss: 0.7000WARNING:tensorflow:Early stopping conditioned on metric `train_loss` which is not available. Available metrics are: loss,val_loss\n"
     ]
    },
    {
     "name": "stderr",
     "output_type": "stream",
     "text": [
      "WARNING:tensorflow:Early stopping conditioned on metric `train_loss` which is not available. Available metrics are: loss,val_loss\n"
     ]
    },
    {
     "name": "stdout",
     "output_type": "stream",
     "text": [
      "Get map.\n"
     ]
    },
    {
     "name": "stderr",
     "output_type": "stream",
     "text": [
      "100%|██████████| 178/178 [00:00<00:00, 204.24it/s]\n"
     ]
    },
    {
     "name": "stdout",
     "output_type": "stream",
     "text": [
      "Calculate Map.\n",
      "Path '.temp_map_out/results' already exists.\n",
      "89.98% = hand AP \t||\tscore_threhold=0.5 : F1=0.82 ; Recall=87.89% ; Precision=77.31%\n",
      "mAP = 89.98%\n",
      "Path '/home/zhangyouan/桌面/zya/NN_net/network/SSD/IMX_681_ssd_mobilenet_git/keras/detection/SSD_ipynb_transfer_callback_1227hand/output/20240228/loss_2024_06_27_14_24_39' already exists.\n",
      "Get map done.\n",
      "45/45 [==============================] - 4s 96ms/step - batch: 22.0000 - size: 32.0000 - loss: 0.7000 - val_loss: 2.1928 - lr: 2.4126e-04\n",
      "Epoch 341/500\n",
      "45/45 [==============================] - ETA: 0s - batch: 22.0000 - size: 32.0000 - loss: 0.7025WARNING:tensorflow:Early stopping conditioned on metric `train_loss` which is not available. Available metrics are: loss,val_loss\n"
     ]
    },
    {
     "name": "stderr",
     "output_type": "stream",
     "text": [
      "WARNING:tensorflow:Early stopping conditioned on metric `train_loss` which is not available. Available metrics are: loss,val_loss\n"
     ]
    },
    {
     "name": "stdout",
     "output_type": "stream",
     "text": [
      "45/45 [==============================] - 3s 70ms/step - batch: 22.0000 - size: 32.0000 - loss: 0.7025 - val_loss: 2.2068 - lr: 2.3852e-04\n",
      "Epoch 342/500\n",
      "45/45 [==============================] - ETA: 0s - batch: 22.0000 - size: 32.0000 - loss: 0.6976WARNING:tensorflow:Early stopping conditioned on metric `train_loss` which is not available. Available metrics are: loss,val_loss\n"
     ]
    },
    {
     "name": "stderr",
     "output_type": "stream",
     "text": [
      "WARNING:tensorflow:Early stopping conditioned on metric `train_loss` which is not available. Available metrics are: loss,val_loss\n"
     ]
    },
    {
     "name": "stdout",
     "output_type": "stream",
     "text": [
      "45/45 [==============================] - 3s 70ms/step - batch: 22.0000 - size: 32.0000 - loss: 0.6976 - val_loss: 2.1899 - lr: 2.3579e-04\n",
      "Epoch 343/500\n",
      "45/45 [==============================] - ETA: 0s - batch: 22.0000 - size: 32.0000 - loss: 0.7025WARNING:tensorflow:Early stopping conditioned on metric `train_loss` which is not available. Available metrics are: loss,val_loss\n"
     ]
    },
    {
     "name": "stderr",
     "output_type": "stream",
     "text": [
      "WARNING:tensorflow:Early stopping conditioned on metric `train_loss` which is not available. Available metrics are: loss,val_loss\n"
     ]
    },
    {
     "name": "stdout",
     "output_type": "stream",
     "text": [
      "45/45 [==============================] - 3s 70ms/step - batch: 22.0000 - size: 32.0000 - loss: 0.7025 - val_loss: 2.1952 - lr: 2.3307e-04\n",
      "Epoch 344/500\n",
      "45/45 [==============================] - ETA: 0s - batch: 22.0000 - size: 32.0000 - loss: 0.6965WARNING:tensorflow:Early stopping conditioned on metric `train_loss` which is not available. Available metrics are: loss,val_loss\n"
     ]
    },
    {
     "name": "stderr",
     "output_type": "stream",
     "text": [
      "WARNING:tensorflow:Early stopping conditioned on metric `train_loss` which is not available. Available metrics are: loss,val_loss\n"
     ]
    },
    {
     "name": "stdout",
     "output_type": "stream",
     "text": [
      "45/45 [==============================] - 3s 70ms/step - batch: 22.0000 - size: 32.0000 - loss: 0.6965 - val_loss: 2.2041 - lr: 2.3037e-04\n",
      "Epoch 345/500\n",
      "45/45 [==============================] - ETA: 0s - batch: 22.0000 - size: 32.0000 - loss: 0.6941WARNING:tensorflow:Early stopping conditioned on metric `train_loss` which is not available. Available metrics are: loss,val_loss\n"
     ]
    },
    {
     "name": "stderr",
     "output_type": "stream",
     "text": [
      "WARNING:tensorflow:Early stopping conditioned on metric `train_loss` which is not available. Available metrics are: loss,val_loss\n"
     ]
    },
    {
     "name": "stdout",
     "output_type": "stream",
     "text": [
      "45/45 [==============================] - 3s 70ms/step - batch: 22.0000 - size: 32.0000 - loss: 0.6941 - val_loss: 2.2092 - lr: 2.2767e-04\n",
      "Epoch 346/500\n",
      "45/45 [==============================] - ETA: 0s - batch: 22.0000 - size: 32.0000 - loss: 0.6983WARNING:tensorflow:Early stopping conditioned on metric `train_loss` which is not available. Available metrics are: loss,val_loss\n"
     ]
    },
    {
     "name": "stderr",
     "output_type": "stream",
     "text": [
      "WARNING:tensorflow:Early stopping conditioned on metric `train_loss` which is not available. Available metrics are: loss,val_loss\n"
     ]
    },
    {
     "name": "stdout",
     "output_type": "stream",
     "text": [
      "45/45 [==============================] - 3s 70ms/step - batch: 22.0000 - size: 32.0000 - loss: 0.6983 - val_loss: 2.1863 - lr: 2.2499e-04\n",
      "Epoch 347/500\n",
      "45/45 [==============================] - ETA: 0s - batch: 22.0000 - size: 32.0000 - loss: 0.6974WARNING:tensorflow:Early stopping conditioned on metric `train_loss` which is not available. Available metrics are: loss,val_loss\n"
     ]
    },
    {
     "name": "stderr",
     "output_type": "stream",
     "text": [
      "WARNING:tensorflow:Early stopping conditioned on metric `train_loss` which is not available. Available metrics are: loss,val_loss\n"
     ]
    },
    {
     "name": "stdout",
     "output_type": "stream",
     "text": [
      "45/45 [==============================] - 3s 70ms/step - batch: 22.0000 - size: 32.0000 - loss: 0.6974 - val_loss: 2.1898 - lr: 2.2231e-04\n",
      "Epoch 348/500\n",
      "45/45 [==============================] - ETA: 0s - batch: 22.0000 - size: 32.0000 - loss: 0.6910WARNING:tensorflow:Early stopping conditioned on metric `train_loss` which is not available. Available metrics are: loss,val_loss\n"
     ]
    },
    {
     "name": "stderr",
     "output_type": "stream",
     "text": [
      "WARNING:tensorflow:Early stopping conditioned on metric `train_loss` which is not available. Available metrics are: loss,val_loss\n"
     ]
    },
    {
     "name": "stdout",
     "output_type": "stream",
     "text": [
      "45/45 [==============================] - 3s 70ms/step - batch: 22.0000 - size: 32.0000 - loss: 0.6910 - val_loss: 2.1937 - lr: 2.1965e-04\n",
      "Epoch 349/500\n",
      "45/45 [==============================] - ETA: 0s - batch: 22.0000 - size: 32.0000 - loss: 0.6890WARNING:tensorflow:Early stopping conditioned on metric `train_loss` which is not available. Available metrics are: loss,val_loss\n"
     ]
    },
    {
     "name": "stderr",
     "output_type": "stream",
     "text": [
      "WARNING:tensorflow:Early stopping conditioned on metric `train_loss` which is not available. Available metrics are: loss,val_loss\n"
     ]
    },
    {
     "name": "stdout",
     "output_type": "stream",
     "text": [
      "45/45 [==============================] - 3s 70ms/step - batch: 22.0000 - size: 32.0000 - loss: 0.6890 - val_loss: 2.2256 - lr: 2.1700e-04\n",
      "Epoch 350/500\n",
      "45/45 [==============================] - ETA: 0s - batch: 22.0000 - size: 32.0000 - loss: 0.6911WARNING:tensorflow:Early stopping conditioned on metric `train_loss` which is not available. Available metrics are: loss,val_loss\n"
     ]
    },
    {
     "name": "stderr",
     "output_type": "stream",
     "text": [
      "WARNING:tensorflow:Early stopping conditioned on metric `train_loss` which is not available. Available metrics are: loss,val_loss\n"
     ]
    },
    {
     "name": "stdout",
     "output_type": "stream",
     "text": [
      "Get map.\n"
     ]
    },
    {
     "name": "stderr",
     "output_type": "stream",
     "text": [
      "100%|██████████| 178/178 [00:00<00:00, 202.94it/s]\n"
     ]
    },
    {
     "name": "stdout",
     "output_type": "stream",
     "text": [
      "Calculate Map.\n",
      "Path '.temp_map_out/results' already exists.\n",
      "89.81% = hand AP \t||\tscore_threhold=0.5 : F1=0.85 ; Recall=88.95% ; Precision=81.25%\n",
      "mAP = 89.81%\n",
      "Path '/home/zhangyouan/桌面/zya/NN_net/network/SSD/IMX_681_ssd_mobilenet_git/keras/detection/SSD_ipynb_transfer_callback_1227hand/output/20240228/loss_2024_06_27_14_24_39' already exists.\n",
      "Get map done.\n",
      "45/45 [==============================] - 4s 96ms/step - batch: 22.0000 - size: 32.0000 - loss: 0.6911 - val_loss: 2.1953 - lr: 2.1436e-04\n",
      "Epoch 351/500\n",
      "45/45 [==============================] - ETA: 0s - batch: 22.0000 - size: 32.0000 - loss: 0.6950WARNING:tensorflow:Early stopping conditioned on metric `train_loss` which is not available. Available metrics are: loss,val_loss\n"
     ]
    },
    {
     "name": "stderr",
     "output_type": "stream",
     "text": [
      "WARNING:tensorflow:Early stopping conditioned on metric `train_loss` which is not available. Available metrics are: loss,val_loss\n"
     ]
    },
    {
     "name": "stdout",
     "output_type": "stream",
     "text": [
      "45/45 [==============================] - 3s 70ms/step - batch: 22.0000 - size: 32.0000 - loss: 0.6950 - val_loss: 2.1953 - lr: 2.1173e-04\n",
      "Epoch 352/500\n",
      "45/45 [==============================] - ETA: 0s - batch: 22.0000 - size: 32.0000 - loss: 0.6947WARNING:tensorflow:Early stopping conditioned on metric `train_loss` which is not available. Available metrics are: loss,val_loss\n"
     ]
    },
    {
     "name": "stderr",
     "output_type": "stream",
     "text": [
      "WARNING:tensorflow:Early stopping conditioned on metric `train_loss` which is not available. Available metrics are: loss,val_loss\n"
     ]
    },
    {
     "name": "stdout",
     "output_type": "stream",
     "text": [
      "45/45 [==============================] - 3s 70ms/step - batch: 22.0000 - size: 32.0000 - loss: 0.6947 - val_loss: 2.2197 - lr: 2.0912e-04\n",
      "Epoch 353/500\n",
      "45/45 [==============================] - ETA: 0s - batch: 22.0000 - size: 32.0000 - loss: 0.6932WARNING:tensorflow:Early stopping conditioned on metric `train_loss` which is not available. Available metrics are: loss,val_loss\n"
     ]
    },
    {
     "name": "stderr",
     "output_type": "stream",
     "text": [
      "WARNING:tensorflow:Early stopping conditioned on metric `train_loss` which is not available. Available metrics are: loss,val_loss\n"
     ]
    },
    {
     "name": "stdout",
     "output_type": "stream",
     "text": [
      "45/45 [==============================] - 3s 70ms/step - batch: 22.0000 - size: 32.0000 - loss: 0.6932 - val_loss: 2.2054 - lr: 2.0651e-04\n",
      "Epoch 354/500\n",
      "45/45 [==============================] - ETA: 0s - batch: 22.0000 - size: 32.0000 - loss: 0.6901WARNING:tensorflow:Early stopping conditioned on metric `train_loss` which is not available. Available metrics are: loss,val_loss\n"
     ]
    },
    {
     "name": "stderr",
     "output_type": "stream",
     "text": [
      "WARNING:tensorflow:Early stopping conditioned on metric `train_loss` which is not available. Available metrics are: loss,val_loss\n"
     ]
    },
    {
     "name": "stdout",
     "output_type": "stream",
     "text": [
      "45/45 [==============================] - 3s 70ms/step - batch: 22.0000 - size: 32.0000 - loss: 0.6901 - val_loss: 2.2195 - lr: 2.0392e-04\n",
      "Epoch 355/500\n",
      "45/45 [==============================] - ETA: 0s - batch: 22.0000 - size: 32.0000 - loss: 0.6904WARNING:tensorflow:Early stopping conditioned on metric `train_loss` which is not available. Available metrics are: loss,val_loss\n"
     ]
    },
    {
     "name": "stderr",
     "output_type": "stream",
     "text": [
      "WARNING:tensorflow:Early stopping conditioned on metric `train_loss` which is not available. Available metrics are: loss,val_loss\n"
     ]
    },
    {
     "name": "stdout",
     "output_type": "stream",
     "text": [
      "45/45 [==============================] - 3s 70ms/step - batch: 22.0000 - size: 32.0000 - loss: 0.6904 - val_loss: 2.2043 - lr: 2.0134e-04\n",
      "Epoch 356/500\n",
      "45/45 [==============================] - ETA: 0s - batch: 22.0000 - size: 32.0000 - loss: 0.6878WARNING:tensorflow:Early stopping conditioned on metric `train_loss` which is not available. Available metrics are: loss,val_loss\n"
     ]
    },
    {
     "name": "stderr",
     "output_type": "stream",
     "text": [
      "WARNING:tensorflow:Early stopping conditioned on metric `train_loss` which is not available. Available metrics are: loss,val_loss\n"
     ]
    },
    {
     "name": "stdout",
     "output_type": "stream",
     "text": [
      "45/45 [==============================] - 3s 71ms/step - batch: 22.0000 - size: 32.0000 - loss: 0.6878 - val_loss: 2.1912 - lr: 1.9877e-04\n",
      "Epoch 357/500\n",
      "45/45 [==============================] - ETA: 0s - batch: 22.0000 - size: 32.0000 - loss: 0.6858WARNING:tensorflow:Early stopping conditioned on metric `train_loss` which is not available. Available metrics are: loss,val_loss\n"
     ]
    },
    {
     "name": "stderr",
     "output_type": "stream",
     "text": [
      "WARNING:tensorflow:Early stopping conditioned on metric `train_loss` which is not available. Available metrics are: loss,val_loss\n"
     ]
    },
    {
     "name": "stdout",
     "output_type": "stream",
     "text": [
      "45/45 [==============================] - 3s 70ms/step - batch: 22.0000 - size: 32.0000 - loss: 0.6858 - val_loss: 2.2090 - lr: 1.9622e-04\n",
      "Epoch 358/500\n",
      "45/45 [==============================] - ETA: 0s - batch: 22.0000 - size: 32.0000 - loss: 0.6860WARNING:tensorflow:Early stopping conditioned on metric `train_loss` which is not available. Available metrics are: loss,val_loss\n"
     ]
    },
    {
     "name": "stderr",
     "output_type": "stream",
     "text": [
      "WARNING:tensorflow:Early stopping conditioned on metric `train_loss` which is not available. Available metrics are: loss,val_loss\n"
     ]
    },
    {
     "name": "stdout",
     "output_type": "stream",
     "text": [
      "45/45 [==============================] - 3s 70ms/step - batch: 22.0000 - size: 32.0000 - loss: 0.6860 - val_loss: 2.2358 - lr: 1.9368e-04\n",
      "Epoch 359/500\n",
      "45/45 [==============================] - ETA: 0s - batch: 22.0000 - size: 32.0000 - loss: 0.6819WARNING:tensorflow:Early stopping conditioned on metric `train_loss` which is not available. Available metrics are: loss,val_loss\n"
     ]
    },
    {
     "name": "stderr",
     "output_type": "stream",
     "text": [
      "WARNING:tensorflow:Early stopping conditioned on metric `train_loss` which is not available. Available metrics are: loss,val_loss\n"
     ]
    },
    {
     "name": "stdout",
     "output_type": "stream",
     "text": [
      "45/45 [==============================] - 3s 70ms/step - batch: 22.0000 - size: 32.0000 - loss: 0.6819 - val_loss: 2.2217 - lr: 1.9115e-04\n",
      "Epoch 360/500\n",
      "45/45 [==============================] - ETA: 0s - batch: 22.0000 - size: 32.0000 - loss: 0.6823WARNING:tensorflow:Early stopping conditioned on metric `train_loss` which is not available. Available metrics are: loss,val_loss\n"
     ]
    },
    {
     "name": "stderr",
     "output_type": "stream",
     "text": [
      "WARNING:tensorflow:Early stopping conditioned on metric `train_loss` which is not available. Available metrics are: loss,val_loss\n"
     ]
    },
    {
     "name": "stdout",
     "output_type": "stream",
     "text": [
      "Get map.\n"
     ]
    },
    {
     "name": "stderr",
     "output_type": "stream",
     "text": [
      "100%|██████████| 178/178 [00:00<00:00, 200.59it/s]\n"
     ]
    },
    {
     "name": "stdout",
     "output_type": "stream",
     "text": [
      "Calculate Map.\n",
      "Path '.temp_map_out/results' already exists.\n",
      "91.22% = hand AP \t||\tscore_threhold=0.5 : F1=0.85 ; Recall=90.00% ; Precision=80.66%\n",
      "mAP = 91.22%\n",
      "Path '/home/zhangyouan/桌面/zya/NN_net/network/SSD/IMX_681_ssd_mobilenet_git/keras/detection/SSD_ipynb_transfer_callback_1227hand/output/20240228/loss_2024_06_27_14_24_39' already exists.\n",
      "Get map done.\n",
      "45/45 [==============================] - 4s 95ms/step - batch: 22.0000 - size: 32.0000 - loss: 0.6823 - val_loss: 2.2116 - lr: 1.8863e-04\n",
      "Epoch 361/500\n",
      "45/45 [==============================] - ETA: 0s - batch: 22.0000 - size: 32.0000 - loss: 0.6816WARNING:tensorflow:Early stopping conditioned on metric `train_loss` which is not available. Available metrics are: loss,val_loss\n"
     ]
    },
    {
     "name": "stderr",
     "output_type": "stream",
     "text": [
      "WARNING:tensorflow:Early stopping conditioned on metric `train_loss` which is not available. Available metrics are: loss,val_loss\n"
     ]
    },
    {
     "name": "stdout",
     "output_type": "stream",
     "text": [
      "45/45 [==============================] - 3s 71ms/step - batch: 22.0000 - size: 32.0000 - loss: 0.6816 - val_loss: 2.2271 - lr: 1.8613e-04\n",
      "Epoch 362/500\n",
      "45/45 [==============================] - ETA: 0s - batch: 22.0000 - size: 32.0000 - loss: 0.6849WARNING:tensorflow:Early stopping conditioned on metric `train_loss` which is not available. Available metrics are: loss,val_loss\n"
     ]
    },
    {
     "name": "stderr",
     "output_type": "stream",
     "text": [
      "WARNING:tensorflow:Early stopping conditioned on metric `train_loss` which is not available. Available metrics are: loss,val_loss\n"
     ]
    },
    {
     "name": "stdout",
     "output_type": "stream",
     "text": [
      "45/45 [==============================] - 3s 73ms/step - batch: 22.0000 - size: 32.0000 - loss: 0.6849 - val_loss: 2.2153 - lr: 1.8363e-04\n",
      "Epoch 363/500\n",
      "45/45 [==============================] - ETA: 0s - batch: 22.0000 - size: 32.0000 - loss: 0.6769WARNING:tensorflow:Early stopping conditioned on metric `train_loss` which is not available. Available metrics are: loss,val_loss\n"
     ]
    },
    {
     "name": "stderr",
     "output_type": "stream",
     "text": [
      "WARNING:tensorflow:Early stopping conditioned on metric `train_loss` which is not available. Available metrics are: loss,val_loss\n"
     ]
    },
    {
     "name": "stdout",
     "output_type": "stream",
     "text": [
      "45/45 [==============================] - 3s 70ms/step - batch: 22.0000 - size: 32.0000 - loss: 0.6769 - val_loss: 2.2200 - lr: 1.8116e-04\n",
      "Epoch 364/500\n",
      "45/45 [==============================] - ETA: 0s - batch: 22.0000 - size: 32.0000 - loss: 0.6830WARNING:tensorflow:Early stopping conditioned on metric `train_loss` which is not available. Available metrics are: loss,val_loss\n"
     ]
    },
    {
     "name": "stderr",
     "output_type": "stream",
     "text": [
      "WARNING:tensorflow:Early stopping conditioned on metric `train_loss` which is not available. Available metrics are: loss,val_loss\n"
     ]
    },
    {
     "name": "stdout",
     "output_type": "stream",
     "text": [
      "45/45 [==============================] - 3s 70ms/step - batch: 22.0000 - size: 32.0000 - loss: 0.6830 - val_loss: 2.2095 - lr: 1.7869e-04\n",
      "Epoch 365/500\n",
      "45/45 [==============================] - ETA: 0s - batch: 22.0000 - size: 32.0000 - loss: 0.6789WARNING:tensorflow:Early stopping conditioned on metric `train_loss` which is not available. Available metrics are: loss,val_loss\n"
     ]
    },
    {
     "name": "stderr",
     "output_type": "stream",
     "text": [
      "WARNING:tensorflow:Early stopping conditioned on metric `train_loss` which is not available. Available metrics are: loss,val_loss\n"
     ]
    },
    {
     "name": "stdout",
     "output_type": "stream",
     "text": [
      "45/45 [==============================] - 3s 70ms/step - batch: 22.0000 - size: 32.0000 - loss: 0.6789 - val_loss: 2.2263 - lr: 1.7624e-04\n",
      "Epoch 366/500\n",
      "45/45 [==============================] - ETA: 0s - batch: 22.0000 - size: 32.0000 - loss: 0.6821WARNING:tensorflow:Early stopping conditioned on metric `train_loss` which is not available. Available metrics are: loss,val_loss\n"
     ]
    },
    {
     "name": "stderr",
     "output_type": "stream",
     "text": [
      "WARNING:tensorflow:Early stopping conditioned on metric `train_loss` which is not available. Available metrics are: loss,val_loss\n"
     ]
    },
    {
     "name": "stdout",
     "output_type": "stream",
     "text": [
      "45/45 [==============================] - 3s 70ms/step - batch: 22.0000 - size: 32.0000 - loss: 0.6821 - val_loss: 2.2046 - lr: 1.7380e-04\n",
      "Epoch 367/500\n",
      "45/45 [==============================] - ETA: 0s - batch: 22.0000 - size: 32.0000 - loss: 0.6837WARNING:tensorflow:Early stopping conditioned on metric `train_loss` which is not available. Available metrics are: loss,val_loss\n"
     ]
    },
    {
     "name": "stderr",
     "output_type": "stream",
     "text": [
      "WARNING:tensorflow:Early stopping conditioned on metric `train_loss` which is not available. Available metrics are: loss,val_loss\n"
     ]
    },
    {
     "name": "stdout",
     "output_type": "stream",
     "text": [
      "45/45 [==============================] - 3s 70ms/step - batch: 22.0000 - size: 32.0000 - loss: 0.6837 - val_loss: 2.2120 - lr: 1.7138e-04\n",
      "Epoch 368/500\n",
      "45/45 [==============================] - ETA: 0s - batch: 22.0000 - size: 32.0000 - loss: 0.6765WARNING:tensorflow:Early stopping conditioned on metric `train_loss` which is not available. Available metrics are: loss,val_loss\n"
     ]
    },
    {
     "name": "stderr",
     "output_type": "stream",
     "text": [
      "WARNING:tensorflow:Early stopping conditioned on metric `train_loss` which is not available. Available metrics are: loss,val_loss\n"
     ]
    },
    {
     "name": "stdout",
     "output_type": "stream",
     "text": [
      "45/45 [==============================] - 3s 70ms/step - batch: 22.0000 - size: 32.0000 - loss: 0.6765 - val_loss: 2.2305 - lr: 1.6896e-04\n",
      "Epoch 369/500\n",
      "45/45 [==============================] - ETA: 0s - batch: 22.0000 - size: 32.0000 - loss: 0.6804WARNING:tensorflow:Early stopping conditioned on metric `train_loss` which is not available. Available metrics are: loss,val_loss\n"
     ]
    },
    {
     "name": "stderr",
     "output_type": "stream",
     "text": [
      "WARNING:tensorflow:Early stopping conditioned on metric `train_loss` which is not available. Available metrics are: loss,val_loss\n"
     ]
    },
    {
     "name": "stdout",
     "output_type": "stream",
     "text": [
      "45/45 [==============================] - 3s 70ms/step - batch: 22.0000 - size: 32.0000 - loss: 0.6804 - val_loss: 2.2287 - lr: 1.6657e-04\n",
      "Epoch 370/500\n",
      "45/45 [==============================] - ETA: 0s - batch: 22.0000 - size: 32.0000 - loss: 0.6786WARNING:tensorflow:Early stopping conditioned on metric `train_loss` which is not available. Available metrics are: loss,val_loss\n"
     ]
    },
    {
     "name": "stderr",
     "output_type": "stream",
     "text": [
      "WARNING:tensorflow:Early stopping conditioned on metric `train_loss` which is not available. Available metrics are: loss,val_loss\n"
     ]
    },
    {
     "name": "stdout",
     "output_type": "stream",
     "text": [
      "Get map.\n"
     ]
    },
    {
     "name": "stderr",
     "output_type": "stream",
     "text": [
      "100%|██████████| 178/178 [00:00<00:00, 205.98it/s]\n"
     ]
    },
    {
     "name": "stdout",
     "output_type": "stream",
     "text": [
      "Calculate Map.\n",
      "Path '.temp_map_out/results' already exists.\n",
      "90.07% = hand AP \t||\tscore_threhold=0.5 : F1=0.85 ; Recall=88.95% ; Precision=80.86%\n",
      "mAP = 90.07%\n",
      "Path '/home/zhangyouan/桌面/zya/NN_net/network/SSD/IMX_681_ssd_mobilenet_git/keras/detection/SSD_ipynb_transfer_callback_1227hand/output/20240228/loss_2024_06_27_14_24_39' already exists.\n",
      "Get map done.\n",
      "45/45 [==============================] - 4s 96ms/step - batch: 22.0000 - size: 32.0000 - loss: 0.6786 - val_loss: 2.2255 - lr: 1.6418e-04\n",
      "Epoch 371/500\n",
      "45/45 [==============================] - ETA: 0s - batch: 22.0000 - size: 32.0000 - loss: 0.6762WARNING:tensorflow:Early stopping conditioned on metric `train_loss` which is not available. Available metrics are: loss,val_loss\n"
     ]
    },
    {
     "name": "stderr",
     "output_type": "stream",
     "text": [
      "WARNING:tensorflow:Early stopping conditioned on metric `train_loss` which is not available. Available metrics are: loss,val_loss\n"
     ]
    },
    {
     "name": "stdout",
     "output_type": "stream",
     "text": [
      "45/45 [==============================] - 3s 70ms/step - batch: 22.0000 - size: 32.0000 - loss: 0.6762 - val_loss: 2.2433 - lr: 1.6181e-04\n",
      "Epoch 372/500\n",
      "45/45 [==============================] - ETA: 0s - batch: 22.0000 - size: 32.0000 - loss: 0.6752WARNING:tensorflow:Early stopping conditioned on metric `train_loss` which is not available. Available metrics are: loss,val_loss\n"
     ]
    },
    {
     "name": "stderr",
     "output_type": "stream",
     "text": [
      "WARNING:tensorflow:Early stopping conditioned on metric `train_loss` which is not available. Available metrics are: loss,val_loss\n"
     ]
    },
    {
     "name": "stdout",
     "output_type": "stream",
     "text": [
      "45/45 [==============================] - 3s 70ms/step - batch: 22.0000 - size: 32.0000 - loss: 0.6752 - val_loss: 2.2433 - lr: 1.5946e-04\n",
      "Epoch 373/500\n",
      "45/45 [==============================] - ETA: 0s - batch: 22.0000 - size: 32.0000 - loss: 0.6767WARNING:tensorflow:Early stopping conditioned on metric `train_loss` which is not available. Available metrics are: loss,val_loss\n"
     ]
    },
    {
     "name": "stderr",
     "output_type": "stream",
     "text": [
      "WARNING:tensorflow:Early stopping conditioned on metric `train_loss` which is not available. Available metrics are: loss,val_loss\n"
     ]
    },
    {
     "name": "stdout",
     "output_type": "stream",
     "text": [
      "45/45 [==============================] - 3s 70ms/step - batch: 22.0000 - size: 32.0000 - loss: 0.6767 - val_loss: 2.2271 - lr: 1.5711e-04\n",
      "Epoch 374/500\n",
      "45/45 [==============================] - ETA: 0s - batch: 22.0000 - size: 32.0000 - loss: 0.6706WARNING:tensorflow:Early stopping conditioned on metric `train_loss` which is not available. Available metrics are: loss,val_loss\n"
     ]
    },
    {
     "name": "stderr",
     "output_type": "stream",
     "text": [
      "WARNING:tensorflow:Early stopping conditioned on metric `train_loss` which is not available. Available metrics are: loss,val_loss\n"
     ]
    },
    {
     "name": "stdout",
     "output_type": "stream",
     "text": [
      "45/45 [==============================] - 3s 70ms/step - batch: 22.0000 - size: 32.0000 - loss: 0.6706 - val_loss: 2.2599 - lr: 1.5479e-04\n",
      "Epoch 375/500\n",
      "45/45 [==============================] - ETA: 0s - batch: 22.0000 - size: 32.0000 - loss: 0.6721WARNING:tensorflow:Early stopping conditioned on metric `train_loss` which is not available. Available metrics are: loss,val_loss\n"
     ]
    },
    {
     "name": "stderr",
     "output_type": "stream",
     "text": [
      "WARNING:tensorflow:Early stopping conditioned on metric `train_loss` which is not available. Available metrics are: loss,val_loss\n"
     ]
    },
    {
     "name": "stdout",
     "output_type": "stream",
     "text": [
      "45/45 [==============================] - 3s 70ms/step - batch: 22.0000 - size: 32.0000 - loss: 0.6721 - val_loss: 2.2389 - lr: 1.5247e-04\n",
      "Epoch 376/500\n",
      "45/45 [==============================] - ETA: 0s - batch: 22.0000 - size: 32.0000 - loss: 0.6696WARNING:tensorflow:Early stopping conditioned on metric `train_loss` which is not available. Available metrics are: loss,val_loss\n"
     ]
    },
    {
     "name": "stderr",
     "output_type": "stream",
     "text": [
      "WARNING:tensorflow:Early stopping conditioned on metric `train_loss` which is not available. Available metrics are: loss,val_loss\n"
     ]
    },
    {
     "name": "stdout",
     "output_type": "stream",
     "text": [
      "45/45 [==============================] - 3s 71ms/step - batch: 22.0000 - size: 32.0000 - loss: 0.6696 - val_loss: 2.2495 - lr: 1.5017e-04\n",
      "Epoch 377/500\n",
      "45/45 [==============================] - ETA: 0s - batch: 22.0000 - size: 32.0000 - loss: 0.6711WARNING:tensorflow:Early stopping conditioned on metric `train_loss` which is not available. Available metrics are: loss,val_loss\n"
     ]
    },
    {
     "name": "stderr",
     "output_type": "stream",
     "text": [
      "WARNING:tensorflow:Early stopping conditioned on metric `train_loss` which is not available. Available metrics are: loss,val_loss\n"
     ]
    },
    {
     "name": "stdout",
     "output_type": "stream",
     "text": [
      "45/45 [==============================] - 3s 70ms/step - batch: 22.0000 - size: 32.0000 - loss: 0.6711 - val_loss: 2.2413 - lr: 1.4789e-04\n",
      "Epoch 378/500\n",
      "45/45 [==============================] - ETA: 0s - batch: 22.0000 - size: 32.0000 - loss: 0.6759WARNING:tensorflow:Early stopping conditioned on metric `train_loss` which is not available. Available metrics are: loss,val_loss\n"
     ]
    },
    {
     "name": "stderr",
     "output_type": "stream",
     "text": [
      "WARNING:tensorflow:Early stopping conditioned on metric `train_loss` which is not available. Available metrics are: loss,val_loss\n"
     ]
    },
    {
     "name": "stdout",
     "output_type": "stream",
     "text": [
      "45/45 [==============================] - 3s 71ms/step - batch: 22.0000 - size: 32.0000 - loss: 0.6759 - val_loss: 2.2598 - lr: 1.4562e-04\n",
      "Epoch 379/500\n",
      "45/45 [==============================] - ETA: 0s - batch: 22.0000 - size: 32.0000 - loss: 0.6696WARNING:tensorflow:Early stopping conditioned on metric `train_loss` which is not available. Available metrics are: loss,val_loss\n"
     ]
    },
    {
     "name": "stderr",
     "output_type": "stream",
     "text": [
      "WARNING:tensorflow:Early stopping conditioned on metric `train_loss` which is not available. Available metrics are: loss,val_loss\n"
     ]
    },
    {
     "name": "stdout",
     "output_type": "stream",
     "text": [
      "45/45 [==============================] - 3s 70ms/step - batch: 22.0000 - size: 32.0000 - loss: 0.6696 - val_loss: 2.2300 - lr: 1.4336e-04\n",
      "Epoch 380/500\n",
      "45/45 [==============================] - ETA: 0s - batch: 22.0000 - size: 32.0000 - loss: 0.6673WARNING:tensorflow:Early stopping conditioned on metric `train_loss` which is not available. Available metrics are: loss,val_loss\n"
     ]
    },
    {
     "name": "stderr",
     "output_type": "stream",
     "text": [
      "WARNING:tensorflow:Early stopping conditioned on metric `train_loss` which is not available. Available metrics are: loss,val_loss\n"
     ]
    },
    {
     "name": "stdout",
     "output_type": "stream",
     "text": [
      "Get map.\n"
     ]
    },
    {
     "name": "stderr",
     "output_type": "stream",
     "text": [
      "100%|██████████| 178/178 [00:00<00:00, 205.42it/s]\n"
     ]
    },
    {
     "name": "stdout",
     "output_type": "stream",
     "text": [
      "Calculate Map.\n",
      "Path '.temp_map_out/results' already exists.\n",
      "90.16% = hand AP \t||\tscore_threhold=0.5 : F1=0.85 ; Recall=88.95% ; Precision=82.04%\n",
      "mAP = 90.16%\n",
      "Path '/home/zhangyouan/桌面/zya/NN_net/network/SSD/IMX_681_ssd_mobilenet_git/keras/detection/SSD_ipynb_transfer_callback_1227hand/output/20240228/loss_2024_06_27_14_24_39' already exists.\n",
      "Get map done.\n",
      "45/45 [==============================] - 4s 96ms/step - batch: 22.0000 - size: 32.0000 - loss: 0.6673 - val_loss: 2.2425 - lr: 1.4112e-04\n",
      "Epoch 381/500\n",
      "45/45 [==============================] - ETA: 0s - batch: 22.0000 - size: 32.0000 - loss: 0.6687WARNING:tensorflow:Early stopping conditioned on metric `train_loss` which is not available. Available metrics are: loss,val_loss\n"
     ]
    },
    {
     "name": "stderr",
     "output_type": "stream",
     "text": [
      "WARNING:tensorflow:Early stopping conditioned on metric `train_loss` which is not available. Available metrics are: loss,val_loss\n"
     ]
    },
    {
     "name": "stdout",
     "output_type": "stream",
     "text": [
      "45/45 [==============================] - 3s 70ms/step - batch: 22.0000 - size: 32.0000 - loss: 0.6687 - val_loss: 2.2460 - lr: 1.3889e-04\n",
      "Epoch 382/500\n",
      "45/45 [==============================] - ETA: 0s - batch: 22.0000 - size: 32.0000 - loss: 0.6690WARNING:tensorflow:Early stopping conditioned on metric `train_loss` which is not available. Available metrics are: loss,val_loss\n"
     ]
    },
    {
     "name": "stderr",
     "output_type": "stream",
     "text": [
      "WARNING:tensorflow:Early stopping conditioned on metric `train_loss` which is not available. Available metrics are: loss,val_loss\n"
     ]
    },
    {
     "name": "stdout",
     "output_type": "stream",
     "text": [
      "45/45 [==============================] - 3s 71ms/step - batch: 22.0000 - size: 32.0000 - loss: 0.6690 - val_loss: 2.2339 - lr: 1.3668e-04\n",
      "Epoch 383/500\n",
      "45/45 [==============================] - ETA: 0s - batch: 22.0000 - size: 32.0000 - loss: 0.6667WARNING:tensorflow:Early stopping conditioned on metric `train_loss` which is not available. Available metrics are: loss,val_loss\n"
     ]
    },
    {
     "name": "stderr",
     "output_type": "stream",
     "text": [
      "WARNING:tensorflow:Early stopping conditioned on metric `train_loss` which is not available. Available metrics are: loss,val_loss\n"
     ]
    },
    {
     "name": "stdout",
     "output_type": "stream",
     "text": [
      "45/45 [==============================] - 3s 70ms/step - batch: 22.0000 - size: 32.0000 - loss: 0.6667 - val_loss: 2.2464 - lr: 1.3448e-04\n",
      "Epoch 384/500\n",
      "45/45 [==============================] - ETA: 0s - batch: 22.0000 - size: 32.0000 - loss: 0.6674WARNING:tensorflow:Early stopping conditioned on metric `train_loss` which is not available. Available metrics are: loss,val_loss\n"
     ]
    },
    {
     "name": "stderr",
     "output_type": "stream",
     "text": [
      "WARNING:tensorflow:Early stopping conditioned on metric `train_loss` which is not available. Available metrics are: loss,val_loss\n"
     ]
    },
    {
     "name": "stdout",
     "output_type": "stream",
     "text": [
      "45/45 [==============================] - 3s 71ms/step - batch: 22.0000 - size: 32.0000 - loss: 0.6674 - val_loss: 2.2443 - lr: 1.3230e-04\n",
      "Epoch 385/500\n",
      "45/45 [==============================] - ETA: 0s - batch: 22.0000 - size: 32.0000 - loss: 0.6678WARNING:tensorflow:Early stopping conditioned on metric `train_loss` which is not available. Available metrics are: loss,val_loss\n"
     ]
    },
    {
     "name": "stderr",
     "output_type": "stream",
     "text": [
      "WARNING:tensorflow:Early stopping conditioned on metric `train_loss` which is not available. Available metrics are: loss,val_loss\n"
     ]
    },
    {
     "name": "stdout",
     "output_type": "stream",
     "text": [
      "45/45 [==============================] - 3s 70ms/step - batch: 22.0000 - size: 32.0000 - loss: 0.6678 - val_loss: 2.2413 - lr: 1.3013e-04\n",
      "Epoch 386/500\n",
      "45/45 [==============================] - ETA: 0s - batch: 22.0000 - size: 32.0000 - loss: 0.6668WARNING:tensorflow:Early stopping conditioned on metric `train_loss` which is not available. Available metrics are: loss,val_loss\n"
     ]
    },
    {
     "name": "stderr",
     "output_type": "stream",
     "text": [
      "WARNING:tensorflow:Early stopping conditioned on metric `train_loss` which is not available. Available metrics are: loss,val_loss\n"
     ]
    },
    {
     "name": "stdout",
     "output_type": "stream",
     "text": [
      "45/45 [==============================] - 3s 70ms/step - batch: 22.0000 - size: 32.0000 - loss: 0.6668 - val_loss: 2.2435 - lr: 1.2798e-04\n",
      "Epoch 387/500\n",
      "45/45 [==============================] - ETA: 0s - batch: 22.0000 - size: 32.0000 - loss: 0.6664WARNING:tensorflow:Early stopping conditioned on metric `train_loss` which is not available. Available metrics are: loss,val_loss\n"
     ]
    },
    {
     "name": "stderr",
     "output_type": "stream",
     "text": [
      "WARNING:tensorflow:Early stopping conditioned on metric `train_loss` which is not available. Available metrics are: loss,val_loss\n"
     ]
    },
    {
     "name": "stdout",
     "output_type": "stream",
     "text": [
      "45/45 [==============================] - 3s 71ms/step - batch: 22.0000 - size: 32.0000 - loss: 0.6664 - val_loss: 2.2440 - lr: 1.2585e-04\n",
      "Epoch 388/500\n",
      "45/45 [==============================] - ETA: 0s - batch: 22.0000 - size: 32.0000 - loss: 0.6645WARNING:tensorflow:Early stopping conditioned on metric `train_loss` which is not available. Available metrics are: loss,val_loss\n"
     ]
    },
    {
     "name": "stderr",
     "output_type": "stream",
     "text": [
      "WARNING:tensorflow:Early stopping conditioned on metric `train_loss` which is not available. Available metrics are: loss,val_loss\n"
     ]
    },
    {
     "name": "stdout",
     "output_type": "stream",
     "text": [
      "45/45 [==============================] - 3s 70ms/step - batch: 22.0000 - size: 32.0000 - loss: 0.6645 - val_loss: 2.2574 - lr: 1.2373e-04\n",
      "Epoch 389/500\n",
      "45/45 [==============================] - ETA: 0s - batch: 22.0000 - size: 32.0000 - loss: 0.6627WARNING:tensorflow:Early stopping conditioned on metric `train_loss` which is not available. Available metrics are: loss,val_loss\n"
     ]
    },
    {
     "name": "stderr",
     "output_type": "stream",
     "text": [
      "WARNING:tensorflow:Early stopping conditioned on metric `train_loss` which is not available. Available metrics are: loss,val_loss\n"
     ]
    },
    {
     "name": "stdout",
     "output_type": "stream",
     "text": [
      "45/45 [==============================] - 3s 70ms/step - batch: 22.0000 - size: 32.0000 - loss: 0.6627 - val_loss: 2.2580 - lr: 1.2162e-04\n",
      "Epoch 390/500\n",
      "45/45 [==============================] - ETA: 0s - batch: 22.0000 - size: 32.0000 - loss: 0.6628WARNING:tensorflow:Early stopping conditioned on metric `train_loss` which is not available. Available metrics are: loss,val_loss\n"
     ]
    },
    {
     "name": "stderr",
     "output_type": "stream",
     "text": [
      "WARNING:tensorflow:Early stopping conditioned on metric `train_loss` which is not available. Available metrics are: loss,val_loss\n"
     ]
    },
    {
     "name": "stdout",
     "output_type": "stream",
     "text": [
      "Get map.\n"
     ]
    },
    {
     "name": "stderr",
     "output_type": "stream",
     "text": [
      "100%|██████████| 178/178 [00:00<00:00, 206.18it/s]\n"
     ]
    },
    {
     "name": "stdout",
     "output_type": "stream",
     "text": [
      "Calculate Map.\n",
      "Path '.temp_map_out/results' already exists.\n",
      "89.83% = hand AP \t||\tscore_threhold=0.5 : F1=0.86 ; Recall=88.95% ; Precision=83.25%\n",
      "mAP = 89.83%\n",
      "Path '/home/zhangyouan/桌面/zya/NN_net/network/SSD/IMX_681_ssd_mobilenet_git/keras/detection/SSD_ipynb_transfer_callback_1227hand/output/20240228/loss_2024_06_27_14_24_39' already exists.\n",
      "Get map done.\n",
      "45/45 [==============================] - 4s 95ms/step - batch: 22.0000 - size: 32.0000 - loss: 0.6628 - val_loss: 2.2590 - lr: 1.1953e-04\n",
      "Epoch 391/500\n",
      "45/45 [==============================] - ETA: 0s - batch: 22.0000 - size: 32.0000 - loss: 0.6637WARNING:tensorflow:Early stopping conditioned on metric `train_loss` which is not available. Available metrics are: loss,val_loss\n"
     ]
    },
    {
     "name": "stderr",
     "output_type": "stream",
     "text": [
      "WARNING:tensorflow:Early stopping conditioned on metric `train_loss` which is not available. Available metrics are: loss,val_loss\n"
     ]
    },
    {
     "name": "stdout",
     "output_type": "stream",
     "text": [
      "45/45 [==============================] - 3s 70ms/step - batch: 22.0000 - size: 32.0000 - loss: 0.6637 - val_loss: 2.2558 - lr: 1.1746e-04\n",
      "Epoch 392/500\n",
      "45/45 [==============================] - ETA: 0s - batch: 22.0000 - size: 32.0000 - loss: 0.6598WARNING:tensorflow:Early stopping conditioned on metric `train_loss` which is not available. Available metrics are: loss,val_loss\n"
     ]
    },
    {
     "name": "stderr",
     "output_type": "stream",
     "text": [
      "WARNING:tensorflow:Early stopping conditioned on metric `train_loss` which is not available. Available metrics are: loss,val_loss\n"
     ]
    },
    {
     "name": "stdout",
     "output_type": "stream",
     "text": [
      "45/45 [==============================] - 3s 70ms/step - batch: 22.0000 - size: 32.0000 - loss: 0.6598 - val_loss: 2.2477 - lr: 1.1540e-04\n",
      "Epoch 393/500\n",
      "45/45 [==============================] - ETA: 0s - batch: 22.0000 - size: 32.0000 - loss: 0.6592WARNING:tensorflow:Early stopping conditioned on metric `train_loss` which is not available. Available metrics are: loss,val_loss\n"
     ]
    },
    {
     "name": "stderr",
     "output_type": "stream",
     "text": [
      "WARNING:tensorflow:Early stopping conditioned on metric `train_loss` which is not available. Available metrics are: loss,val_loss\n"
     ]
    },
    {
     "name": "stdout",
     "output_type": "stream",
     "text": [
      "45/45 [==============================] - 3s 70ms/step - batch: 22.0000 - size: 32.0000 - loss: 0.6592 - val_loss: 2.2845 - lr: 1.1336e-04\n",
      "Epoch 394/500\n",
      "45/45 [==============================] - ETA: 0s - batch: 22.0000 - size: 32.0000 - loss: 0.6614WARNING:tensorflow:Early stopping conditioned on metric `train_loss` which is not available. Available metrics are: loss,val_loss\n"
     ]
    },
    {
     "name": "stderr",
     "output_type": "stream",
     "text": [
      "WARNING:tensorflow:Early stopping conditioned on metric `train_loss` which is not available. Available metrics are: loss,val_loss\n"
     ]
    },
    {
     "name": "stdout",
     "output_type": "stream",
     "text": [
      "45/45 [==============================] - 3s 70ms/step - batch: 22.0000 - size: 32.0000 - loss: 0.6614 - val_loss: 2.2613 - lr: 1.1133e-04\n",
      "Epoch 395/500\n",
      "45/45 [==============================] - ETA: 0s - batch: 22.0000 - size: 32.0000 - loss: 0.6616WARNING:tensorflow:Early stopping conditioned on metric `train_loss` which is not available. Available metrics are: loss,val_loss\n"
     ]
    },
    {
     "name": "stderr",
     "output_type": "stream",
     "text": [
      "WARNING:tensorflow:Early stopping conditioned on metric `train_loss` which is not available. Available metrics are: loss,val_loss\n"
     ]
    },
    {
     "name": "stdout",
     "output_type": "stream",
     "text": [
      "45/45 [==============================] - 3s 70ms/step - batch: 22.0000 - size: 32.0000 - loss: 0.6616 - val_loss: 2.2544 - lr: 1.0932e-04\n",
      "Epoch 396/500\n",
      "45/45 [==============================] - ETA: 0s - batch: 22.0000 - size: 32.0000 - loss: 0.6607WARNING:tensorflow:Early stopping conditioned on metric `train_loss` which is not available. Available metrics are: loss,val_loss\n"
     ]
    },
    {
     "name": "stderr",
     "output_type": "stream",
     "text": [
      "WARNING:tensorflow:Early stopping conditioned on metric `train_loss` which is not available. Available metrics are: loss,val_loss\n"
     ]
    },
    {
     "name": "stdout",
     "output_type": "stream",
     "text": [
      "45/45 [==============================] - 3s 70ms/step - batch: 22.0000 - size: 32.0000 - loss: 0.6607 - val_loss: 2.2592 - lr: 1.0732e-04\n",
      "Epoch 397/500\n",
      "45/45 [==============================] - ETA: 0s - batch: 22.0000 - size: 32.0000 - loss: 0.6612WARNING:tensorflow:Early stopping conditioned on metric `train_loss` which is not available. Available metrics are: loss,val_loss\n"
     ]
    },
    {
     "name": "stderr",
     "output_type": "stream",
     "text": [
      "WARNING:tensorflow:Early stopping conditioned on metric `train_loss` which is not available. Available metrics are: loss,val_loss\n"
     ]
    },
    {
     "name": "stdout",
     "output_type": "stream",
     "text": [
      "45/45 [==============================] - 3s 70ms/step - batch: 22.0000 - size: 32.0000 - loss: 0.6612 - val_loss: 2.2665 - lr: 1.0535e-04\n",
      "Epoch 398/500\n",
      "45/45 [==============================] - ETA: 0s - batch: 22.0000 - size: 32.0000 - loss: 0.6611WARNING:tensorflow:Early stopping conditioned on metric `train_loss` which is not available. Available metrics are: loss,val_loss\n"
     ]
    },
    {
     "name": "stderr",
     "output_type": "stream",
     "text": [
      "WARNING:tensorflow:Early stopping conditioned on metric `train_loss` which is not available. Available metrics are: loss,val_loss\n"
     ]
    },
    {
     "name": "stdout",
     "output_type": "stream",
     "text": [
      "45/45 [==============================] - 3s 70ms/step - batch: 22.0000 - size: 32.0000 - loss: 0.6611 - val_loss: 2.2647 - lr: 1.0338e-04\n",
      "Epoch 399/500\n",
      "45/45 [==============================] - ETA: 0s - batch: 22.0000 - size: 32.0000 - loss: 0.6591WARNING:tensorflow:Early stopping conditioned on metric `train_loss` which is not available. Available metrics are: loss,val_loss\n"
     ]
    },
    {
     "name": "stderr",
     "output_type": "stream",
     "text": [
      "WARNING:tensorflow:Early stopping conditioned on metric `train_loss` which is not available. Available metrics are: loss,val_loss\n"
     ]
    },
    {
     "name": "stdout",
     "output_type": "stream",
     "text": [
      "45/45 [==============================] - 3s 70ms/step - batch: 22.0000 - size: 32.0000 - loss: 0.6591 - val_loss: 2.2592 - lr: 1.0144e-04\n",
      "Epoch 400/500\n",
      "45/45 [==============================] - ETA: 0s - batch: 22.0000 - size: 32.0000 - loss: 0.6582WARNING:tensorflow:Early stopping conditioned on metric `train_loss` which is not available. Available metrics are: loss,val_loss\n"
     ]
    },
    {
     "name": "stderr",
     "output_type": "stream",
     "text": [
      "WARNING:tensorflow:Early stopping conditioned on metric `train_loss` which is not available. Available metrics are: loss,val_loss\n"
     ]
    },
    {
     "name": "stdout",
     "output_type": "stream",
     "text": [
      "Get map.\n"
     ]
    },
    {
     "name": "stderr",
     "output_type": "stream",
     "text": [
      "100%|██████████| 178/178 [00:00<00:00, 208.84it/s]\n"
     ]
    },
    {
     "name": "stdout",
     "output_type": "stream",
     "text": [
      "Calculate Map.\n",
      "Path '.temp_map_out/results' already exists.\n",
      "90.26% = hand AP \t||\tscore_threhold=0.5 : F1=0.84 ; Recall=88.95% ; Precision=80.48%\n",
      "mAP = 90.26%\n",
      "Path '/home/zhangyouan/桌面/zya/NN_net/network/SSD/IMX_681_ssd_mobilenet_git/keras/detection/SSD_ipynb_transfer_callback_1227hand/output/20240228/loss_2024_06_27_14_24_39' already exists.\n",
      "Get map done.\n",
      "45/45 [==============================] - 4s 95ms/step - batch: 22.0000 - size: 32.0000 - loss: 0.6582 - val_loss: 2.2645 - lr: 9.9510e-05\n",
      "Epoch 401/500\n",
      "45/45 [==============================] - ETA: 0s - batch: 22.0000 - size: 32.0000 - loss: 0.6579WARNING:tensorflow:Early stopping conditioned on metric `train_loss` which is not available. Available metrics are: loss,val_loss\n"
     ]
    },
    {
     "name": "stderr",
     "output_type": "stream",
     "text": [
      "WARNING:tensorflow:Early stopping conditioned on metric `train_loss` which is not available. Available metrics are: loss,val_loss\n"
     ]
    },
    {
     "name": "stdout",
     "output_type": "stream",
     "text": [
      "45/45 [==============================] - 3s 70ms/step - batch: 22.0000 - size: 32.0000 - loss: 0.6579 - val_loss: 2.2799 - lr: 9.7597e-05\n",
      "Epoch 402/500\n",
      "45/45 [==============================] - ETA: 0s - batch: 22.0000 - size: 32.0000 - loss: 0.6580WARNING:tensorflow:Early stopping conditioned on metric `train_loss` which is not available. Available metrics are: loss,val_loss\n"
     ]
    },
    {
     "name": "stderr",
     "output_type": "stream",
     "text": [
      "WARNING:tensorflow:Early stopping conditioned on metric `train_loss` which is not available. Available metrics are: loss,val_loss\n"
     ]
    },
    {
     "name": "stdout",
     "output_type": "stream",
     "text": [
      "45/45 [==============================] - 3s 70ms/step - batch: 22.0000 - size: 32.0000 - loss: 0.6580 - val_loss: 2.2793 - lr: 9.5701e-05\n",
      "Epoch 403/500\n",
      "45/45 [==============================] - ETA: 0s - batch: 22.0000 - size: 32.0000 - loss: 0.6599WARNING:tensorflow:Early stopping conditioned on metric `train_loss` which is not available. Available metrics are: loss,val_loss\n"
     ]
    },
    {
     "name": "stderr",
     "output_type": "stream",
     "text": [
      "WARNING:tensorflow:Early stopping conditioned on metric `train_loss` which is not available. Available metrics are: loss,val_loss\n"
     ]
    },
    {
     "name": "stdout",
     "output_type": "stream",
     "text": [
      "45/45 [==============================] - 3s 70ms/step - batch: 22.0000 - size: 32.0000 - loss: 0.6599 - val_loss: 2.2742 - lr: 9.3822e-05\n",
      "Epoch 404/500\n",
      "45/45 [==============================] - ETA: 0s - batch: 22.0000 - size: 32.0000 - loss: 0.6579WARNING:tensorflow:Early stopping conditioned on metric `train_loss` which is not available. Available metrics are: loss,val_loss\n"
     ]
    },
    {
     "name": "stderr",
     "output_type": "stream",
     "text": [
      "WARNING:tensorflow:Early stopping conditioned on metric `train_loss` which is not available. Available metrics are: loss,val_loss\n"
     ]
    },
    {
     "name": "stdout",
     "output_type": "stream",
     "text": [
      "45/45 [==============================] - 3s 71ms/step - batch: 22.0000 - size: 32.0000 - loss: 0.6579 - val_loss: 2.2627 - lr: 9.1959e-05\n",
      "Epoch 405/500\n",
      "45/45 [==============================] - ETA: 0s - batch: 22.0000 - size: 32.0000 - loss: 0.6562WARNING:tensorflow:Early stopping conditioned on metric `train_loss` which is not available. Available metrics are: loss,val_loss\n"
     ]
    },
    {
     "name": "stderr",
     "output_type": "stream",
     "text": [
      "WARNING:tensorflow:Early stopping conditioned on metric `train_loss` which is not available. Available metrics are: loss,val_loss\n"
     ]
    },
    {
     "name": "stdout",
     "output_type": "stream",
     "text": [
      "45/45 [==============================] - 3s 70ms/step - batch: 22.0000 - size: 32.0000 - loss: 0.6562 - val_loss: 2.2745 - lr: 9.0113e-05\n",
      "Epoch 406/500\n",
      "45/45 [==============================] - ETA: 0s - batch: 22.0000 - size: 32.0000 - loss: 0.6543WARNING:tensorflow:Early stopping conditioned on metric `train_loss` which is not available. Available metrics are: loss,val_loss\n"
     ]
    },
    {
     "name": "stderr",
     "output_type": "stream",
     "text": [
      "WARNING:tensorflow:Early stopping conditioned on metric `train_loss` which is not available. Available metrics are: loss,val_loss\n"
     ]
    },
    {
     "name": "stdout",
     "output_type": "stream",
     "text": [
      "45/45 [==============================] - 3s 71ms/step - batch: 22.0000 - size: 32.0000 - loss: 0.6543 - val_loss: 2.2709 - lr: 8.8284e-05\n",
      "Epoch 407/500\n",
      "45/45 [==============================] - ETA: 0s - batch: 22.0000 - size: 32.0000 - loss: 0.6566WARNING:tensorflow:Early stopping conditioned on metric `train_loss` which is not available. Available metrics are: loss,val_loss\n"
     ]
    },
    {
     "name": "stderr",
     "output_type": "stream",
     "text": [
      "WARNING:tensorflow:Early stopping conditioned on metric `train_loss` which is not available. Available metrics are: loss,val_loss\n"
     ]
    },
    {
     "name": "stdout",
     "output_type": "stream",
     "text": [
      "45/45 [==============================] - 3s 74ms/step - batch: 22.0000 - size: 32.0000 - loss: 0.6566 - val_loss: 2.2850 - lr: 8.6472e-05\n",
      "Epoch 408/500\n",
      "45/45 [==============================] - ETA: 0s - batch: 22.0000 - size: 32.0000 - loss: 0.6537WARNING:tensorflow:Early stopping conditioned on metric `train_loss` which is not available. Available metrics are: loss,val_loss\n"
     ]
    },
    {
     "name": "stderr",
     "output_type": "stream",
     "text": [
      "WARNING:tensorflow:Early stopping conditioned on metric `train_loss` which is not available. Available metrics are: loss,val_loss\n"
     ]
    },
    {
     "name": "stdout",
     "output_type": "stream",
     "text": [
      "45/45 [==============================] - 3s 70ms/step - batch: 22.0000 - size: 32.0000 - loss: 0.6537 - val_loss: 2.2763 - lr: 8.4677e-05\n",
      "Epoch 409/500\n",
      "45/45 [==============================] - ETA: 0s - batch: 22.0000 - size: 32.0000 - loss: 0.6560WARNING:tensorflow:Early stopping conditioned on metric `train_loss` which is not available. Available metrics are: loss,val_loss\n"
     ]
    },
    {
     "name": "stderr",
     "output_type": "stream",
     "text": [
      "WARNING:tensorflow:Early stopping conditioned on metric `train_loss` which is not available. Available metrics are: loss,val_loss\n"
     ]
    },
    {
     "name": "stdout",
     "output_type": "stream",
     "text": [
      "45/45 [==============================] - 3s 70ms/step - batch: 22.0000 - size: 32.0000 - loss: 0.6560 - val_loss: 2.2811 - lr: 8.2899e-05\n",
      "Epoch 410/500\n",
      "45/45 [==============================] - ETA: 0s - batch: 22.0000 - size: 32.0000 - loss: 0.6530WARNING:tensorflow:Early stopping conditioned on metric `train_loss` which is not available. Available metrics are: loss,val_loss\n"
     ]
    },
    {
     "name": "stderr",
     "output_type": "stream",
     "text": [
      "WARNING:tensorflow:Early stopping conditioned on metric `train_loss` which is not available. Available metrics are: loss,val_loss\n"
     ]
    },
    {
     "name": "stdout",
     "output_type": "stream",
     "text": [
      "Get map.\n"
     ]
    },
    {
     "name": "stderr",
     "output_type": "stream",
     "text": [
      "100%|██████████| 178/178 [00:00<00:00, 199.29it/s]\n"
     ]
    },
    {
     "name": "stdout",
     "output_type": "stream",
     "text": [
      "Calculate Map.\n",
      "Path '.temp_map_out/results' already exists.\n",
      "90.08% = hand AP \t||\tscore_threhold=0.5 : F1=0.85 ; Recall=88.95% ; Precision=80.86%\n",
      "mAP = 90.08%\n",
      "Path '/home/zhangyouan/桌面/zya/NN_net/network/SSD/IMX_681_ssd_mobilenet_git/keras/detection/SSD_ipynb_transfer_callback_1227hand/output/20240228/loss_2024_06_27_14_24_39' already exists.\n",
      "Get map done.\n",
      "45/45 [==============================] - 4s 96ms/step - batch: 22.0000 - size: 32.0000 - loss: 0.6530 - val_loss: 2.2874 - lr: 8.1138e-05\n",
      "Epoch 411/500\n",
      "45/45 [==============================] - ETA: 0s - batch: 22.0000 - size: 32.0000 - loss: 0.6562WARNING:tensorflow:Early stopping conditioned on metric `train_loss` which is not available. Available metrics are: loss,val_loss\n"
     ]
    },
    {
     "name": "stderr",
     "output_type": "stream",
     "text": [
      "WARNING:tensorflow:Early stopping conditioned on metric `train_loss` which is not available. Available metrics are: loss,val_loss\n"
     ]
    },
    {
     "name": "stdout",
     "output_type": "stream",
     "text": [
      "45/45 [==============================] - 3s 70ms/step - batch: 22.0000 - size: 32.0000 - loss: 0.6562 - val_loss: 2.2860 - lr: 7.9394e-05\n",
      "Epoch 412/500\n",
      "45/45 [==============================] - ETA: 0s - batch: 22.0000 - size: 32.0000 - loss: 0.6570WARNING:tensorflow:Early stopping conditioned on metric `train_loss` which is not available. Available metrics are: loss,val_loss\n"
     ]
    },
    {
     "name": "stderr",
     "output_type": "stream",
     "text": [
      "WARNING:tensorflow:Early stopping conditioned on metric `train_loss` which is not available. Available metrics are: loss,val_loss\n"
     ]
    },
    {
     "name": "stdout",
     "output_type": "stream",
     "text": [
      "45/45 [==============================] - 3s 71ms/step - batch: 22.0000 - size: 32.0000 - loss: 0.6570 - val_loss: 2.2881 - lr: 7.7668e-05\n",
      "Epoch 413/500\n",
      "45/45 [==============================] - ETA: 0s - batch: 22.0000 - size: 32.0000 - loss: 0.6516WARNING:tensorflow:Early stopping conditioned on metric `train_loss` which is not available. Available metrics are: loss,val_loss\n"
     ]
    },
    {
     "name": "stderr",
     "output_type": "stream",
     "text": [
      "WARNING:tensorflow:Early stopping conditioned on metric `train_loss` which is not available. Available metrics are: loss,val_loss\n"
     ]
    },
    {
     "name": "stdout",
     "output_type": "stream",
     "text": [
      "45/45 [==============================] - 3s 70ms/step - batch: 22.0000 - size: 32.0000 - loss: 0.6516 - val_loss: 2.2857 - lr: 7.5959e-05\n",
      "Epoch 414/500\n",
      "45/45 [==============================] - ETA: 0s - batch: 22.0000 - size: 32.0000 - loss: 0.6539WARNING:tensorflow:Early stopping conditioned on metric `train_loss` which is not available. Available metrics are: loss,val_loss\n"
     ]
    },
    {
     "name": "stderr",
     "output_type": "stream",
     "text": [
      "WARNING:tensorflow:Early stopping conditioned on metric `train_loss` which is not available. Available metrics are: loss,val_loss\n"
     ]
    },
    {
     "name": "stdout",
     "output_type": "stream",
     "text": [
      "45/45 [==============================] - 3s 70ms/step - batch: 22.0000 - size: 32.0000 - loss: 0.6539 - val_loss: 2.2881 - lr: 7.4268e-05\n",
      "Epoch 415/500\n",
      "45/45 [==============================] - ETA: 0s - batch: 22.0000 - size: 32.0000 - loss: 0.6543WARNING:tensorflow:Early stopping conditioned on metric `train_loss` which is not available. Available metrics are: loss,val_loss\n"
     ]
    },
    {
     "name": "stderr",
     "output_type": "stream",
     "text": [
      "WARNING:tensorflow:Early stopping conditioned on metric `train_loss` which is not available. Available metrics are: loss,val_loss\n"
     ]
    },
    {
     "name": "stdout",
     "output_type": "stream",
     "text": [
      "45/45 [==============================] - 3s 70ms/step - batch: 22.0000 - size: 32.0000 - loss: 0.6543 - val_loss: 2.2783 - lr: 7.2594e-05\n",
      "Epoch 416/500\n",
      "45/45 [==============================] - ETA: 0s - batch: 22.0000 - size: 32.0000 - loss: 0.6510WARNING:tensorflow:Early stopping conditioned on metric `train_loss` which is not available. Available metrics are: loss,val_loss\n"
     ]
    },
    {
     "name": "stderr",
     "output_type": "stream",
     "text": [
      "WARNING:tensorflow:Early stopping conditioned on metric `train_loss` which is not available. Available metrics are: loss,val_loss\n"
     ]
    },
    {
     "name": "stdout",
     "output_type": "stream",
     "text": [
      "45/45 [==============================] - 3s 70ms/step - batch: 22.0000 - size: 32.0000 - loss: 0.6510 - val_loss: 2.2805 - lr: 7.0938e-05\n",
      "Epoch 417/500\n",
      "45/45 [==============================] - ETA: 0s - batch: 22.0000 - size: 32.0000 - loss: 0.6512WARNING:tensorflow:Early stopping conditioned on metric `train_loss` which is not available. Available metrics are: loss,val_loss\n"
     ]
    },
    {
     "name": "stderr",
     "output_type": "stream",
     "text": [
      "WARNING:tensorflow:Early stopping conditioned on metric `train_loss` which is not available. Available metrics are: loss,val_loss\n"
     ]
    },
    {
     "name": "stdout",
     "output_type": "stream",
     "text": [
      "45/45 [==============================] - 3s 70ms/step - batch: 22.0000 - size: 32.0000 - loss: 0.6512 - val_loss: 2.2821 - lr: 6.9299e-05\n",
      "Epoch 418/500\n",
      "45/45 [==============================] - ETA: 0s - batch: 22.0000 - size: 32.0000 - loss: 0.6515WARNING:tensorflow:Early stopping conditioned on metric `train_loss` which is not available. Available metrics are: loss,val_loss\n"
     ]
    },
    {
     "name": "stderr",
     "output_type": "stream",
     "text": [
      "WARNING:tensorflow:Early stopping conditioned on metric `train_loss` which is not available. Available metrics are: loss,val_loss\n"
     ]
    },
    {
     "name": "stdout",
     "output_type": "stream",
     "text": [
      "45/45 [==============================] - 3s 70ms/step - batch: 22.0000 - size: 32.0000 - loss: 0.6515 - val_loss: 2.2799 - lr: 6.7678e-05\n",
      "Epoch 419/500\n",
      "45/45 [==============================] - ETA: 0s - batch: 22.0000 - size: 32.0000 - loss: 0.6507WARNING:tensorflow:Early stopping conditioned on metric `train_loss` which is not available. Available metrics are: loss,val_loss\n"
     ]
    },
    {
     "name": "stderr",
     "output_type": "stream",
     "text": [
      "WARNING:tensorflow:Early stopping conditioned on metric `train_loss` which is not available. Available metrics are: loss,val_loss\n"
     ]
    },
    {
     "name": "stdout",
     "output_type": "stream",
     "text": [
      "45/45 [==============================] - 3s 71ms/step - batch: 22.0000 - size: 32.0000 - loss: 0.6507 - val_loss: 2.2747 - lr: 6.6075e-05\n",
      "Epoch 420/500\n",
      "45/45 [==============================] - ETA: 0s - batch: 22.0000 - size: 32.0000 - loss: 0.6531WARNING:tensorflow:Early stopping conditioned on metric `train_loss` which is not available. Available metrics are: loss,val_loss\n"
     ]
    },
    {
     "name": "stderr",
     "output_type": "stream",
     "text": [
      "WARNING:tensorflow:Early stopping conditioned on metric `train_loss` which is not available. Available metrics are: loss,val_loss\n"
     ]
    },
    {
     "name": "stdout",
     "output_type": "stream",
     "text": [
      "Get map.\n"
     ]
    },
    {
     "name": "stderr",
     "output_type": "stream",
     "text": [
      "100%|██████████| 178/178 [00:00<00:00, 203.16it/s]\n"
     ]
    },
    {
     "name": "stdout",
     "output_type": "stream",
     "text": [
      "Calculate Map.\n",
      "Path '.temp_map_out/results' already exists.\n",
      "91.22% = hand AP \t||\tscore_threhold=0.5 : F1=0.86 ; Recall=90.00% ; Precision=82.61%\n",
      "mAP = 91.22%\n",
      "Path '/home/zhangyouan/桌面/zya/NN_net/network/SSD/IMX_681_ssd_mobilenet_git/keras/detection/SSD_ipynb_transfer_callback_1227hand/output/20240228/loss_2024_06_27_14_24_39' already exists.\n",
      "Get map done.\n",
      "45/45 [==============================] - 4s 95ms/step - batch: 22.0000 - size: 32.0000 - loss: 0.6531 - val_loss: 2.2811 - lr: 6.4490e-05\n",
      "Epoch 421/500\n",
      "45/45 [==============================] - ETA: 0s - batch: 22.0000 - size: 32.0000 - loss: 0.6519WARNING:tensorflow:Early stopping conditioned on metric `train_loss` which is not available. Available metrics are: loss,val_loss\n"
     ]
    },
    {
     "name": "stderr",
     "output_type": "stream",
     "text": [
      "WARNING:tensorflow:Early stopping conditioned on metric `train_loss` which is not available. Available metrics are: loss,val_loss\n"
     ]
    },
    {
     "name": "stdout",
     "output_type": "stream",
     "text": [
      "45/45 [==============================] - 3s 70ms/step - batch: 22.0000 - size: 32.0000 - loss: 0.6519 - val_loss: 2.2771 - lr: 6.2923e-05\n",
      "Epoch 422/500\n",
      "45/45 [==============================] - ETA: 0s - batch: 22.0000 - size: 32.0000 - loss: 0.6501WARNING:tensorflow:Early stopping conditioned on metric `train_loss` which is not available. Available metrics are: loss,val_loss\n"
     ]
    },
    {
     "name": "stderr",
     "output_type": "stream",
     "text": [
      "WARNING:tensorflow:Early stopping conditioned on metric `train_loss` which is not available. Available metrics are: loss,val_loss\n"
     ]
    },
    {
     "name": "stdout",
     "output_type": "stream",
     "text": [
      "45/45 [==============================] - 3s 70ms/step - batch: 22.0000 - size: 32.0000 - loss: 0.6501 - val_loss: 2.2803 - lr: 6.1373e-05\n",
      "Epoch 423/500\n",
      "45/45 [==============================] - ETA: 0s - batch: 22.0000 - size: 32.0000 - loss: 0.6476WARNING:tensorflow:Early stopping conditioned on metric `train_loss` which is not available. Available metrics are: loss,val_loss\n"
     ]
    },
    {
     "name": "stderr",
     "output_type": "stream",
     "text": [
      "WARNING:tensorflow:Early stopping conditioned on metric `train_loss` which is not available. Available metrics are: loss,val_loss\n"
     ]
    },
    {
     "name": "stdout",
     "output_type": "stream",
     "text": [
      "45/45 [==============================] - 3s 70ms/step - batch: 22.0000 - size: 32.0000 - loss: 0.6476 - val_loss: 2.2906 - lr: 5.9842e-05\n",
      "Epoch 424/500\n",
      "45/45 [==============================] - ETA: 0s - batch: 22.0000 - size: 32.0000 - loss: 0.6510WARNING:tensorflow:Early stopping conditioned on metric `train_loss` which is not available. Available metrics are: loss,val_loss\n"
     ]
    },
    {
     "name": "stderr",
     "output_type": "stream",
     "text": [
      "WARNING:tensorflow:Early stopping conditioned on metric `train_loss` which is not available. Available metrics are: loss,val_loss\n"
     ]
    },
    {
     "name": "stdout",
     "output_type": "stream",
     "text": [
      "45/45 [==============================] - 3s 70ms/step - batch: 22.0000 - size: 32.0000 - loss: 0.6510 - val_loss: 2.2803 - lr: 5.8329e-05\n",
      "Epoch 425/500\n",
      "45/45 [==============================] - ETA: 0s - batch: 22.0000 - size: 32.0000 - loss: 0.6483WARNING:tensorflow:Early stopping conditioned on metric `train_loss` which is not available. Available metrics are: loss,val_loss\n"
     ]
    },
    {
     "name": "stderr",
     "output_type": "stream",
     "text": [
      "WARNING:tensorflow:Early stopping conditioned on metric `train_loss` which is not available. Available metrics are: loss,val_loss\n"
     ]
    },
    {
     "name": "stdout",
     "output_type": "stream",
     "text": [
      "45/45 [==============================] - 3s 70ms/step - batch: 22.0000 - size: 32.0000 - loss: 0.6483 - val_loss: 2.2847 - lr: 5.6834e-05\n",
      "Epoch 426/500\n",
      "45/45 [==============================] - ETA: 0s - batch: 22.0000 - size: 32.0000 - loss: 0.6509WARNING:tensorflow:Early stopping conditioned on metric `train_loss` which is not available. Available metrics are: loss,val_loss\n"
     ]
    },
    {
     "name": "stderr",
     "output_type": "stream",
     "text": [
      "WARNING:tensorflow:Early stopping conditioned on metric `train_loss` which is not available. Available metrics are: loss,val_loss\n"
     ]
    },
    {
     "name": "stdout",
     "output_type": "stream",
     "text": [
      "45/45 [==============================] - 3s 70ms/step - batch: 22.0000 - size: 32.0000 - loss: 0.6509 - val_loss: 2.2919 - lr: 5.5358e-05\n",
      "Epoch 427/500\n",
      "45/45 [==============================] - ETA: 0s - batch: 22.0000 - size: 32.0000 - loss: 0.6442WARNING:tensorflow:Early stopping conditioned on metric `train_loss` which is not available. Available metrics are: loss,val_loss\n"
     ]
    },
    {
     "name": "stderr",
     "output_type": "stream",
     "text": [
      "WARNING:tensorflow:Early stopping conditioned on metric `train_loss` which is not available. Available metrics are: loss,val_loss\n"
     ]
    },
    {
     "name": "stdout",
     "output_type": "stream",
     "text": [
      "45/45 [==============================] - 3s 70ms/step - batch: 22.0000 - size: 32.0000 - loss: 0.6442 - val_loss: 2.2871 - lr: 5.3899e-05\n",
      "Epoch 428/500\n",
      "45/45 [==============================] - ETA: 0s - batch: 22.0000 - size: 32.0000 - loss: 0.6457WARNING:tensorflow:Early stopping conditioned on metric `train_loss` which is not available. Available metrics are: loss,val_loss\n"
     ]
    },
    {
     "name": "stderr",
     "output_type": "stream",
     "text": [
      "WARNING:tensorflow:Early stopping conditioned on metric `train_loss` which is not available. Available metrics are: loss,val_loss\n"
     ]
    },
    {
     "name": "stdout",
     "output_type": "stream",
     "text": [
      "45/45 [==============================] - 3s 70ms/step - batch: 22.0000 - size: 32.0000 - loss: 0.6457 - val_loss: 2.2868 - lr: 5.2459e-05\n",
      "Epoch 429/500\n",
      "45/45 [==============================] - ETA: 0s - batch: 22.0000 - size: 32.0000 - loss: 0.6504WARNING:tensorflow:Early stopping conditioned on metric `train_loss` which is not available. Available metrics are: loss,val_loss\n"
     ]
    },
    {
     "name": "stderr",
     "output_type": "stream",
     "text": [
      "WARNING:tensorflow:Early stopping conditioned on metric `train_loss` which is not available. Available metrics are: loss,val_loss\n"
     ]
    },
    {
     "name": "stdout",
     "output_type": "stream",
     "text": [
      "45/45 [==============================] - 3s 70ms/step - batch: 22.0000 - size: 32.0000 - loss: 0.6504 - val_loss: 2.2850 - lr: 5.1038e-05\n",
      "Epoch 430/500\n",
      "45/45 [==============================] - ETA: 0s - batch: 22.0000 - size: 32.0000 - loss: 0.6470WARNING:tensorflow:Early stopping conditioned on metric `train_loss` which is not available. Available metrics are: loss,val_loss\n"
     ]
    },
    {
     "name": "stderr",
     "output_type": "stream",
     "text": [
      "WARNING:tensorflow:Early stopping conditioned on metric `train_loss` which is not available. Available metrics are: loss,val_loss\n"
     ]
    },
    {
     "name": "stdout",
     "output_type": "stream",
     "text": [
      "Get map.\n"
     ]
    },
    {
     "name": "stderr",
     "output_type": "stream",
     "text": [
      "100%|██████████| 178/178 [00:00<00:00, 206.95it/s]\n"
     ]
    },
    {
     "name": "stdout",
     "output_type": "stream",
     "text": [
      "Calculate Map.\n",
      "Path '.temp_map_out/results' already exists.\n",
      "90.19% = hand AP \t||\tscore_threhold=0.5 : F1=0.84 ; Recall=88.42% ; Precision=80.38%\n",
      "mAP = 90.19%\n",
      "Path '/home/zhangyouan/桌面/zya/NN_net/network/SSD/IMX_681_ssd_mobilenet_git/keras/detection/SSD_ipynb_transfer_callback_1227hand/output/20240228/loss_2024_06_27_14_24_39' already exists.\n",
      "Get map done.\n",
      "45/45 [==============================] - 4s 95ms/step - batch: 22.0000 - size: 32.0000 - loss: 0.6470 - val_loss: 2.3000 - lr: 4.9635e-05\n",
      "Epoch 431/500\n",
      "45/45 [==============================] - ETA: 0s - batch: 22.0000 - size: 32.0000 - loss: 0.6459WARNING:tensorflow:Early stopping conditioned on metric `train_loss` which is not available. Available metrics are: loss,val_loss\n"
     ]
    },
    {
     "name": "stderr",
     "output_type": "stream",
     "text": [
      "WARNING:tensorflow:Early stopping conditioned on metric `train_loss` which is not available. Available metrics are: loss,val_loss\n"
     ]
    },
    {
     "name": "stdout",
     "output_type": "stream",
     "text": [
      "45/45 [==============================] - 3s 70ms/step - batch: 22.0000 - size: 32.0000 - loss: 0.6459 - val_loss: 2.2881 - lr: 4.8250e-05\n",
      "Epoch 432/500\n",
      "45/45 [==============================] - ETA: 0s - batch: 22.0000 - size: 32.0000 - loss: 0.6470WARNING:tensorflow:Early stopping conditioned on metric `train_loss` which is not available. Available metrics are: loss,val_loss\n"
     ]
    },
    {
     "name": "stderr",
     "output_type": "stream",
     "text": [
      "WARNING:tensorflow:Early stopping conditioned on metric `train_loss` which is not available. Available metrics are: loss,val_loss\n"
     ]
    },
    {
     "name": "stdout",
     "output_type": "stream",
     "text": [
      "45/45 [==============================] - 3s 70ms/step - batch: 22.0000 - size: 32.0000 - loss: 0.6470 - val_loss: 2.2992 - lr: 4.6885e-05\n",
      "Epoch 433/500\n",
      "45/45 [==============================] - ETA: 0s - batch: 22.0000 - size: 32.0000 - loss: 0.6483WARNING:tensorflow:Early stopping conditioned on metric `train_loss` which is not available. Available metrics are: loss,val_loss\n"
     ]
    },
    {
     "name": "stderr",
     "output_type": "stream",
     "text": [
      "WARNING:tensorflow:Early stopping conditioned on metric `train_loss` which is not available. Available metrics are: loss,val_loss\n"
     ]
    },
    {
     "name": "stdout",
     "output_type": "stream",
     "text": [
      "45/45 [==============================] - 3s 70ms/step - batch: 22.0000 - size: 32.0000 - loss: 0.6483 - val_loss: 2.2959 - lr: 4.5537e-05\n",
      "Epoch 434/500\n",
      "45/45 [==============================] - ETA: 0s - batch: 22.0000 - size: 32.0000 - loss: 0.6416WARNING:tensorflow:Early stopping conditioned on metric `train_loss` which is not available. Available metrics are: loss,val_loss\n"
     ]
    },
    {
     "name": "stderr",
     "output_type": "stream",
     "text": [
      "WARNING:tensorflow:Early stopping conditioned on metric `train_loss` which is not available. Available metrics are: loss,val_loss\n"
     ]
    },
    {
     "name": "stdout",
     "output_type": "stream",
     "text": [
      "45/45 [==============================] - 3s 70ms/step - batch: 22.0000 - size: 32.0000 - loss: 0.6416 - val_loss: 2.2933 - lr: 4.4209e-05\n",
      "Epoch 435/500\n",
      "45/45 [==============================] - ETA: 0s - batch: 22.0000 - size: 32.0000 - loss: 0.6456WARNING:tensorflow:Early stopping conditioned on metric `train_loss` which is not available. Available metrics are: loss,val_loss\n"
     ]
    },
    {
     "name": "stderr",
     "output_type": "stream",
     "text": [
      "WARNING:tensorflow:Early stopping conditioned on metric `train_loss` which is not available. Available metrics are: loss,val_loss\n"
     ]
    },
    {
     "name": "stdout",
     "output_type": "stream",
     "text": [
      "45/45 [==============================] - 3s 70ms/step - batch: 22.0000 - size: 32.0000 - loss: 0.6456 - val_loss: 2.3010 - lr: 4.2899e-05\n",
      "Epoch 436/500\n",
      "45/45 [==============================] - ETA: 0s - batch: 22.0000 - size: 32.0000 - loss: 0.6439WARNING:tensorflow:Early stopping conditioned on metric `train_loss` which is not available. Available metrics are: loss,val_loss\n"
     ]
    },
    {
     "name": "stderr",
     "output_type": "stream",
     "text": [
      "WARNING:tensorflow:Early stopping conditioned on metric `train_loss` which is not available. Available metrics are: loss,val_loss\n"
     ]
    },
    {
     "name": "stdout",
     "output_type": "stream",
     "text": [
      "45/45 [==============================] - 3s 70ms/step - batch: 22.0000 - size: 32.0000 - loss: 0.6439 - val_loss: 2.3020 - lr: 4.1608e-05\n",
      "Epoch 437/500\n",
      "45/45 [==============================] - ETA: 0s - batch: 22.0000 - size: 32.0000 - loss: 0.6454WARNING:tensorflow:Early stopping conditioned on metric `train_loss` which is not available. Available metrics are: loss,val_loss\n"
     ]
    },
    {
     "name": "stderr",
     "output_type": "stream",
     "text": [
      "WARNING:tensorflow:Early stopping conditioned on metric `train_loss` which is not available. Available metrics are: loss,val_loss\n"
     ]
    },
    {
     "name": "stdout",
     "output_type": "stream",
     "text": [
      "45/45 [==============================] - 3s 70ms/step - batch: 22.0000 - size: 32.0000 - loss: 0.6454 - val_loss: 2.2880 - lr: 4.0336e-05\n",
      "Epoch 438/500\n",
      "45/45 [==============================] - ETA: 0s - batch: 22.0000 - size: 32.0000 - loss: 0.6461WARNING:tensorflow:Early stopping conditioned on metric `train_loss` which is not available. Available metrics are: loss,val_loss\n"
     ]
    },
    {
     "name": "stderr",
     "output_type": "stream",
     "text": [
      "WARNING:tensorflow:Early stopping conditioned on metric `train_loss` which is not available. Available metrics are: loss,val_loss\n"
     ]
    },
    {
     "name": "stdout",
     "output_type": "stream",
     "text": [
      "45/45 [==============================] - 3s 70ms/step - batch: 22.0000 - size: 32.0000 - loss: 0.6461 - val_loss: 2.2908 - lr: 3.9083e-05\n",
      "Epoch 439/500\n",
      "45/45 [==============================] - ETA: 0s - batch: 22.0000 - size: 32.0000 - loss: 0.6473WARNING:tensorflow:Early stopping conditioned on metric `train_loss` which is not available. Available metrics are: loss,val_loss\n"
     ]
    },
    {
     "name": "stderr",
     "output_type": "stream",
     "text": [
      "WARNING:tensorflow:Early stopping conditioned on metric `train_loss` which is not available. Available metrics are: loss,val_loss\n"
     ]
    },
    {
     "name": "stdout",
     "output_type": "stream",
     "text": [
      "45/45 [==============================] - 3s 70ms/step - batch: 22.0000 - size: 32.0000 - loss: 0.6473 - val_loss: 2.3029 - lr: 3.7849e-05\n",
      "Epoch 440/500\n",
      "45/45 [==============================] - ETA: 0s - batch: 22.0000 - size: 32.0000 - loss: 0.6447WARNING:tensorflow:Early stopping conditioned on metric `train_loss` which is not available. Available metrics are: loss,val_loss\n"
     ]
    },
    {
     "name": "stderr",
     "output_type": "stream",
     "text": [
      "WARNING:tensorflow:Early stopping conditioned on metric `train_loss` which is not available. Available metrics are: loss,val_loss\n"
     ]
    },
    {
     "name": "stdout",
     "output_type": "stream",
     "text": [
      "Get map.\n"
     ]
    },
    {
     "name": "stderr",
     "output_type": "stream",
     "text": [
      "100%|██████████| 178/178 [00:00<00:00, 206.14it/s]\n"
     ]
    },
    {
     "name": "stdout",
     "output_type": "stream",
     "text": [
      "Calculate Map.\n",
      "Path '.temp_map_out/results' already exists.\n",
      "91.12% = hand AP \t||\tscore_threhold=0.5 : F1=0.85 ; Recall=89.47% ; Precision=81.34%\n",
      "mAP = 91.12%\n",
      "Path '/home/zhangyouan/桌面/zya/NN_net/network/SSD/IMX_681_ssd_mobilenet_git/keras/detection/SSD_ipynb_transfer_callback_1227hand/output/20240228/loss_2024_06_27_14_24_39' already exists.\n",
      "Get map done.\n",
      "45/45 [==============================] - 4s 96ms/step - batch: 22.0000 - size: 32.0000 - loss: 0.6447 - val_loss: 2.2944 - lr: 3.6634e-05\n",
      "Epoch 441/500\n",
      "45/45 [==============================] - ETA: 0s - batch: 22.0000 - size: 32.0000 - loss: 0.6437WARNING:tensorflow:Early stopping conditioned on metric `train_loss` which is not available. Available metrics are: loss,val_loss\n"
     ]
    },
    {
     "name": "stderr",
     "output_type": "stream",
     "text": [
      "WARNING:tensorflow:Early stopping conditioned on metric `train_loss` which is not available. Available metrics are: loss,val_loss\n"
     ]
    },
    {
     "name": "stdout",
     "output_type": "stream",
     "text": [
      "45/45 [==============================] - 3s 70ms/step - batch: 22.0000 - size: 32.0000 - loss: 0.6437 - val_loss: 2.2938 - lr: 3.5438e-05\n",
      "Epoch 442/500\n",
      "45/45 [==============================] - ETA: 0s - batch: 22.0000 - size: 32.0000 - loss: 0.6439WARNING:tensorflow:Early stopping conditioned on metric `train_loss` which is not available. Available metrics are: loss,val_loss\n"
     ]
    },
    {
     "name": "stderr",
     "output_type": "stream",
     "text": [
      "WARNING:tensorflow:Early stopping conditioned on metric `train_loss` which is not available. Available metrics are: loss,val_loss\n"
     ]
    },
    {
     "name": "stdout",
     "output_type": "stream",
     "text": [
      "45/45 [==============================] - 3s 70ms/step - batch: 22.0000 - size: 32.0000 - loss: 0.6439 - val_loss: 2.2964 - lr: 3.4261e-05\n",
      "Epoch 443/500\n",
      "45/45 [==============================] - ETA: 0s - batch: 22.0000 - size: 32.0000 - loss: 0.6460WARNING:tensorflow:Early stopping conditioned on metric `train_loss` which is not available. Available metrics are: loss,val_loss\n"
     ]
    },
    {
     "name": "stderr",
     "output_type": "stream",
     "text": [
      "WARNING:tensorflow:Early stopping conditioned on metric `train_loss` which is not available. Available metrics are: loss,val_loss\n"
     ]
    },
    {
     "name": "stdout",
     "output_type": "stream",
     "text": [
      "45/45 [==============================] - 3s 70ms/step - batch: 22.0000 - size: 32.0000 - loss: 0.6460 - val_loss: 2.3001 - lr: 3.3103e-05\n",
      "Epoch 444/500\n",
      "45/45 [==============================] - ETA: 0s - batch: 22.0000 - size: 32.0000 - loss: 0.6430WARNING:tensorflow:Early stopping conditioned on metric `train_loss` which is not available. Available metrics are: loss,val_loss\n"
     ]
    },
    {
     "name": "stderr",
     "output_type": "stream",
     "text": [
      "WARNING:tensorflow:Early stopping conditioned on metric `train_loss` which is not available. Available metrics are: loss,val_loss\n"
     ]
    },
    {
     "name": "stdout",
     "output_type": "stream",
     "text": [
      "45/45 [==============================] - 3s 70ms/step - batch: 22.0000 - size: 32.0000 - loss: 0.6430 - val_loss: 2.2977 - lr: 3.1965e-05\n",
      "Epoch 445/500\n",
      "45/45 [==============================] - ETA: 0s - batch: 22.0000 - size: 32.0000 - loss: 0.6403WARNING:tensorflow:Early stopping conditioned on metric `train_loss` which is not available. Available metrics are: loss,val_loss\n"
     ]
    },
    {
     "name": "stderr",
     "output_type": "stream",
     "text": [
      "WARNING:tensorflow:Early stopping conditioned on metric `train_loss` which is not available. Available metrics are: loss,val_loss\n"
     ]
    },
    {
     "name": "stdout",
     "output_type": "stream",
     "text": [
      "45/45 [==============================] - 3s 70ms/step - batch: 22.0000 - size: 32.0000 - loss: 0.6403 - val_loss: 2.2957 - lr: 3.0846e-05\n",
      "Epoch 446/500\n",
      "45/45 [==============================] - ETA: 0s - batch: 22.0000 - size: 32.0000 - loss: 0.6416WARNING:tensorflow:Early stopping conditioned on metric `train_loss` which is not available. Available metrics are: loss,val_loss\n"
     ]
    },
    {
     "name": "stderr",
     "output_type": "stream",
     "text": [
      "WARNING:tensorflow:Early stopping conditioned on metric `train_loss` which is not available. Available metrics are: loss,val_loss\n"
     ]
    },
    {
     "name": "stdout",
     "output_type": "stream",
     "text": [
      "45/45 [==============================] - 3s 70ms/step - batch: 22.0000 - size: 32.0000 - loss: 0.6416 - val_loss: 2.2980 - lr: 2.9746e-05\n",
      "Epoch 447/500\n",
      "45/45 [==============================] - ETA: 0s - batch: 22.0000 - size: 32.0000 - loss: 0.6430WARNING:tensorflow:Early stopping conditioned on metric `train_loss` which is not available. Available metrics are: loss,val_loss\n"
     ]
    },
    {
     "name": "stderr",
     "output_type": "stream",
     "text": [
      "WARNING:tensorflow:Early stopping conditioned on metric `train_loss` which is not available. Available metrics are: loss,val_loss\n"
     ]
    },
    {
     "name": "stdout",
     "output_type": "stream",
     "text": [
      "45/45 [==============================] - 3s 70ms/step - batch: 22.0000 - size: 32.0000 - loss: 0.6430 - val_loss: 2.2999 - lr: 2.8665e-05\n",
      "Epoch 448/500\n",
      "45/45 [==============================] - ETA: 0s - batch: 22.0000 - size: 32.0000 - loss: 0.6408WARNING:tensorflow:Early stopping conditioned on metric `train_loss` which is not available. Available metrics are: loss,val_loss\n"
     ]
    },
    {
     "name": "stderr",
     "output_type": "stream",
     "text": [
      "WARNING:tensorflow:Early stopping conditioned on metric `train_loss` which is not available. Available metrics are: loss,val_loss\n"
     ]
    },
    {
     "name": "stdout",
     "output_type": "stream",
     "text": [
      "45/45 [==============================] - 3s 70ms/step - batch: 22.0000 - size: 32.0000 - loss: 0.6408 - val_loss: 2.2985 - lr: 2.7604e-05\n",
      "Epoch 449/500\n",
      "45/45 [==============================] - ETA: 0s - batch: 22.0000 - size: 32.0000 - loss: 0.6423WARNING:tensorflow:Early stopping conditioned on metric `train_loss` which is not available. Available metrics are: loss,val_loss\n"
     ]
    },
    {
     "name": "stderr",
     "output_type": "stream",
     "text": [
      "WARNING:tensorflow:Early stopping conditioned on metric `train_loss` which is not available. Available metrics are: loss,val_loss\n"
     ]
    },
    {
     "name": "stdout",
     "output_type": "stream",
     "text": [
      "45/45 [==============================] - 3s 70ms/step - batch: 22.0000 - size: 32.0000 - loss: 0.6423 - val_loss: 2.3009 - lr: 2.6563e-05\n",
      "Epoch 450/500\n",
      "45/45 [==============================] - ETA: 0s - batch: 22.0000 - size: 32.0000 - loss: 0.6371WARNING:tensorflow:Early stopping conditioned on metric `train_loss` which is not available. Available metrics are: loss,val_loss\n"
     ]
    },
    {
     "name": "stderr",
     "output_type": "stream",
     "text": [
      "WARNING:tensorflow:Early stopping conditioned on metric `train_loss` which is not available. Available metrics are: loss,val_loss\n"
     ]
    },
    {
     "name": "stdout",
     "output_type": "stream",
     "text": [
      "Get map.\n"
     ]
    },
    {
     "name": "stderr",
     "output_type": "stream",
     "text": [
      "100%|██████████| 178/178 [00:00<00:00, 204.10it/s]\n"
     ]
    },
    {
     "name": "stdout",
     "output_type": "stream",
     "text": [
      "Calculate Map.\n",
      "Path '.temp_map_out/results' already exists.\n",
      "90.42% = hand AP \t||\tscore_threhold=0.5 : F1=0.85 ; Recall=89.47% ; Precision=81.73%\n",
      "mAP = 90.42%\n",
      "Path '/home/zhangyouan/桌面/zya/NN_net/network/SSD/IMX_681_ssd_mobilenet_git/keras/detection/SSD_ipynb_transfer_callback_1227hand/output/20240228/loss_2024_06_27_14_24_39' already exists.\n",
      "Get map done.\n",
      "45/45 [==============================] - 4s 96ms/step - batch: 22.0000 - size: 32.0000 - loss: 0.6371 - val_loss: 2.3005 - lr: 2.5540e-05\n",
      "Epoch 451/500\n",
      "45/45 [==============================] - ETA: 0s - batch: 22.0000 - size: 32.0000 - loss: 0.6420WARNING:tensorflow:Early stopping conditioned on metric `train_loss` which is not available. Available metrics are: loss,val_loss\n"
     ]
    },
    {
     "name": "stderr",
     "output_type": "stream",
     "text": [
      "WARNING:tensorflow:Early stopping conditioned on metric `train_loss` which is not available. Available metrics are: loss,val_loss\n"
     ]
    },
    {
     "name": "stdout",
     "output_type": "stream",
     "text": [
      "45/45 [==============================] - 3s 70ms/step - batch: 22.0000 - size: 32.0000 - loss: 0.6420 - val_loss: 2.3011 - lr: 2.4538e-05\n",
      "Epoch 452/500\n",
      "45/45 [==============================] - ETA: 0s - batch: 22.0000 - size: 32.0000 - loss: 0.6398WARNING:tensorflow:Early stopping conditioned on metric `train_loss` which is not available. Available metrics are: loss,val_loss\n"
     ]
    },
    {
     "name": "stderr",
     "output_type": "stream",
     "text": [
      "WARNING:tensorflow:Early stopping conditioned on metric `train_loss` which is not available. Available metrics are: loss,val_loss\n"
     ]
    },
    {
     "name": "stdout",
     "output_type": "stream",
     "text": [
      "45/45 [==============================] - 3s 70ms/step - batch: 22.0000 - size: 32.0000 - loss: 0.6398 - val_loss: 2.3021 - lr: 2.3555e-05\n",
      "Epoch 453/500\n",
      "45/45 [==============================] - ETA: 0s - batch: 22.0000 - size: 32.0000 - loss: 0.6402WARNING:tensorflow:Early stopping conditioned on metric `train_loss` which is not available. Available metrics are: loss,val_loss\n"
     ]
    },
    {
     "name": "stderr",
     "output_type": "stream",
     "text": [
      "WARNING:tensorflow:Early stopping conditioned on metric `train_loss` which is not available. Available metrics are: loss,val_loss\n"
     ]
    },
    {
     "name": "stdout",
     "output_type": "stream",
     "text": [
      "45/45 [==============================] - 3s 70ms/step - batch: 22.0000 - size: 32.0000 - loss: 0.6402 - val_loss: 2.2983 - lr: 2.2591e-05\n",
      "Epoch 454/500\n",
      "45/45 [==============================] - ETA: 0s - batch: 22.0000 - size: 32.0000 - loss: 0.6404WARNING:tensorflow:Early stopping conditioned on metric `train_loss` which is not available. Available metrics are: loss,val_loss\n"
     ]
    },
    {
     "name": "stderr",
     "output_type": "stream",
     "text": [
      "WARNING:tensorflow:Early stopping conditioned on metric `train_loss` which is not available. Available metrics are: loss,val_loss\n"
     ]
    },
    {
     "name": "stdout",
     "output_type": "stream",
     "text": [
      "45/45 [==============================] - 3s 70ms/step - batch: 22.0000 - size: 32.0000 - loss: 0.6404 - val_loss: 2.3051 - lr: 2.1648e-05\n",
      "Epoch 455/500\n",
      "45/45 [==============================] - ETA: 0s - batch: 22.0000 - size: 32.0000 - loss: 0.6382WARNING:tensorflow:Early stopping conditioned on metric `train_loss` which is not available. Available metrics are: loss,val_loss\n"
     ]
    },
    {
     "name": "stderr",
     "output_type": "stream",
     "text": [
      "WARNING:tensorflow:Early stopping conditioned on metric `train_loss` which is not available. Available metrics are: loss,val_loss\n"
     ]
    },
    {
     "name": "stdout",
     "output_type": "stream",
     "text": [
      "45/45 [==============================] - 3s 70ms/step - batch: 22.0000 - size: 32.0000 - loss: 0.6382 - val_loss: 2.2997 - lr: 2.0724e-05\n",
      "Epoch 456/500\n",
      "45/45 [==============================] - ETA: 0s - batch: 22.0000 - size: 32.0000 - loss: 0.6406WARNING:tensorflow:Early stopping conditioned on metric `train_loss` which is not available. Available metrics are: loss,val_loss\n"
     ]
    },
    {
     "name": "stderr",
     "output_type": "stream",
     "text": [
      "WARNING:tensorflow:Early stopping conditioned on metric `train_loss` which is not available. Available metrics are: loss,val_loss\n"
     ]
    },
    {
     "name": "stdout",
     "output_type": "stream",
     "text": [
      "45/45 [==============================] - 3s 70ms/step - batch: 22.0000 - size: 32.0000 - loss: 0.6406 - val_loss: 2.3013 - lr: 1.9819e-05\n",
      "Epoch 457/500\n",
      "45/45 [==============================] - ETA: 0s - batch: 22.0000 - size: 32.0000 - loss: 0.6404WARNING:tensorflow:Early stopping conditioned on metric `train_loss` which is not available. Available metrics are: loss,val_loss\n"
     ]
    },
    {
     "name": "stderr",
     "output_type": "stream",
     "text": [
      "WARNING:tensorflow:Early stopping conditioned on metric `train_loss` which is not available. Available metrics are: loss,val_loss\n"
     ]
    },
    {
     "name": "stdout",
     "output_type": "stream",
     "text": [
      "45/45 [==============================] - 3s 70ms/step - batch: 22.0000 - size: 32.0000 - loss: 0.6404 - val_loss: 2.3006 - lr: 1.8935e-05\n",
      "Epoch 458/500\n",
      "45/45 [==============================] - ETA: 0s - batch: 22.0000 - size: 32.0000 - loss: 0.6397WARNING:tensorflow:Early stopping conditioned on metric `train_loss` which is not available. Available metrics are: loss,val_loss\n"
     ]
    },
    {
     "name": "stderr",
     "output_type": "stream",
     "text": [
      "WARNING:tensorflow:Early stopping conditioned on metric `train_loss` which is not available. Available metrics are: loss,val_loss\n"
     ]
    },
    {
     "name": "stdout",
     "output_type": "stream",
     "text": [
      "45/45 [==============================] - 3s 70ms/step - batch: 22.0000 - size: 32.0000 - loss: 0.6397 - val_loss: 2.3029 - lr: 1.8070e-05\n",
      "Epoch 459/500\n",
      "45/45 [==============================] - ETA: 0s - batch: 22.0000 - size: 32.0000 - loss: 0.6405WARNING:tensorflow:Early stopping conditioned on metric `train_loss` which is not available. Available metrics are: loss,val_loss\n"
     ]
    },
    {
     "name": "stderr",
     "output_type": "stream",
     "text": [
      "WARNING:tensorflow:Early stopping conditioned on metric `train_loss` which is not available. Available metrics are: loss,val_loss\n"
     ]
    },
    {
     "name": "stdout",
     "output_type": "stream",
     "text": [
      "45/45 [==============================] - 3s 70ms/step - batch: 22.0000 - size: 32.0000 - loss: 0.6405 - val_loss: 2.3007 - lr: 1.7225e-05\n",
      "Epoch 460/500\n",
      "45/45 [==============================] - ETA: 0s - batch: 22.0000 - size: 32.0000 - loss: 0.6397WARNING:tensorflow:Early stopping conditioned on metric `train_loss` which is not available. Available metrics are: loss,val_loss\n"
     ]
    },
    {
     "name": "stderr",
     "output_type": "stream",
     "text": [
      "WARNING:tensorflow:Early stopping conditioned on metric `train_loss` which is not available. Available metrics are: loss,val_loss\n"
     ]
    },
    {
     "name": "stdout",
     "output_type": "stream",
     "text": [
      "Get map.\n"
     ]
    },
    {
     "name": "stderr",
     "output_type": "stream",
     "text": [
      "100%|██████████| 178/178 [00:00<00:00, 208.04it/s]\n"
     ]
    },
    {
     "name": "stdout",
     "output_type": "stream",
     "text": [
      "Calculate Map.\n",
      "Path '.temp_map_out/results' already exists.\n",
      "90.45% = hand AP \t||\tscore_threhold=0.5 : F1=0.85 ; Recall=89.47% ; Precision=81.73%\n",
      "mAP = 90.45%\n",
      "Path '/home/zhangyouan/桌面/zya/NN_net/network/SSD/IMX_681_ssd_mobilenet_git/keras/detection/SSD_ipynb_transfer_callback_1227hand/output/20240228/loss_2024_06_27_14_24_39' already exists.\n",
      "Get map done.\n",
      "45/45 [==============================] - 4s 94ms/step - batch: 22.0000 - size: 32.0000 - loss: 0.6397 - val_loss: 2.2974 - lr: 1.6400e-05\n",
      "Epoch 461/500\n",
      "45/45 [==============================] - ETA: 0s - batch: 22.0000 - size: 32.0000 - loss: 0.6404WARNING:tensorflow:Early stopping conditioned on metric `train_loss` which is not available. Available metrics are: loss,val_loss\n"
     ]
    },
    {
     "name": "stderr",
     "output_type": "stream",
     "text": [
      "WARNING:tensorflow:Early stopping conditioned on metric `train_loss` which is not available. Available metrics are: loss,val_loss\n"
     ]
    },
    {
     "name": "stdout",
     "output_type": "stream",
     "text": [
      "45/45 [==============================] - 3s 71ms/step - batch: 22.0000 - size: 32.0000 - loss: 0.6404 - val_loss: 2.2998 - lr: 1.5595e-05\n",
      "Epoch 462/500\n",
      "45/45 [==============================] - ETA: 0s - batch: 22.0000 - size: 32.0000 - loss: 0.6400WARNING:tensorflow:Early stopping conditioned on metric `train_loss` which is not available. Available metrics are: loss,val_loss\n"
     ]
    },
    {
     "name": "stderr",
     "output_type": "stream",
     "text": [
      "WARNING:tensorflow:Early stopping conditioned on metric `train_loss` which is not available. Available metrics are: loss,val_loss\n"
     ]
    },
    {
     "name": "stdout",
     "output_type": "stream",
     "text": [
      "45/45 [==============================] - 3s 70ms/step - batch: 22.0000 - size: 32.0000 - loss: 0.6400 - val_loss: 2.3019 - lr: 1.4810e-05\n",
      "Epoch 463/500\n",
      "45/45 [==============================] - ETA: 0s - batch: 22.0000 - size: 32.0000 - loss: 0.6403WARNING:tensorflow:Early stopping conditioned on metric `train_loss` which is not available. Available metrics are: loss,val_loss\n"
     ]
    },
    {
     "name": "stderr",
     "output_type": "stream",
     "text": [
      "WARNING:tensorflow:Early stopping conditioned on metric `train_loss` which is not available. Available metrics are: loss,val_loss\n"
     ]
    },
    {
     "name": "stdout",
     "output_type": "stream",
     "text": [
      "45/45 [==============================] - 3s 71ms/step - batch: 22.0000 - size: 32.0000 - loss: 0.6403 - val_loss: 2.3020 - lr: 1.4045e-05\n",
      "Epoch 464/500\n",
      "45/45 [==============================] - ETA: 0s - batch: 22.0000 - size: 32.0000 - loss: 0.6404WARNING:tensorflow:Early stopping conditioned on metric `train_loss` which is not available. Available metrics are: loss,val_loss\n"
     ]
    },
    {
     "name": "stderr",
     "output_type": "stream",
     "text": [
      "WARNING:tensorflow:Early stopping conditioned on metric `train_loss` which is not available. Available metrics are: loss,val_loss\n"
     ]
    },
    {
     "name": "stdout",
     "output_type": "stream",
     "text": [
      "45/45 [==============================] - 3s 70ms/step - batch: 22.0000 - size: 32.0000 - loss: 0.6404 - val_loss: 2.3014 - lr: 1.3300e-05\n",
      "Epoch 465/500\n",
      "45/45 [==============================] - ETA: 0s - batch: 22.0000 - size: 32.0000 - loss: 0.6381WARNING:tensorflow:Early stopping conditioned on metric `train_loss` which is not available. Available metrics are: loss,val_loss\n"
     ]
    },
    {
     "name": "stderr",
     "output_type": "stream",
     "text": [
      "WARNING:tensorflow:Early stopping conditioned on metric `train_loss` which is not available. Available metrics are: loss,val_loss\n"
     ]
    },
    {
     "name": "stdout",
     "output_type": "stream",
     "text": [
      "45/45 [==============================] - 3s 70ms/step - batch: 22.0000 - size: 32.0000 - loss: 0.6381 - val_loss: 2.3009 - lr: 1.2575e-05\n",
      "Epoch 466/500\n",
      "45/45 [==============================] - ETA: 0s - batch: 22.0000 - size: 32.0000 - loss: 0.6398WARNING:tensorflow:Early stopping conditioned on metric `train_loss` which is not available. Available metrics are: loss,val_loss\n"
     ]
    },
    {
     "name": "stderr",
     "output_type": "stream",
     "text": [
      "WARNING:tensorflow:Early stopping conditioned on metric `train_loss` which is not available. Available metrics are: loss,val_loss\n"
     ]
    },
    {
     "name": "stdout",
     "output_type": "stream",
     "text": [
      "45/45 [==============================] - 3s 70ms/step - batch: 22.0000 - size: 32.0000 - loss: 0.6398 - val_loss: 2.3021 - lr: 1.1870e-05\n",
      "Epoch 467/500\n",
      "45/45 [==============================] - ETA: 0s - batch: 22.0000 - size: 32.0000 - loss: 0.6373WARNING:tensorflow:Early stopping conditioned on metric `train_loss` which is not available. Available metrics are: loss,val_loss\n"
     ]
    },
    {
     "name": "stderr",
     "output_type": "stream",
     "text": [
      "WARNING:tensorflow:Early stopping conditioned on metric `train_loss` which is not available. Available metrics are: loss,val_loss\n"
     ]
    },
    {
     "name": "stdout",
     "output_type": "stream",
     "text": [
      "45/45 [==============================] - 3s 70ms/step - batch: 22.0000 - size: 32.0000 - loss: 0.6373 - val_loss: 2.3030 - lr: 1.1185e-05\n",
      "Epoch 468/500\n",
      "45/45 [==============================] - ETA: 0s - batch: 22.0000 - size: 32.0000 - loss: 0.6386WARNING:tensorflow:Early stopping conditioned on metric `train_loss` which is not available. Available metrics are: loss,val_loss\n"
     ]
    },
    {
     "name": "stderr",
     "output_type": "stream",
     "text": [
      "WARNING:tensorflow:Early stopping conditioned on metric `train_loss` which is not available. Available metrics are: loss,val_loss\n"
     ]
    },
    {
     "name": "stdout",
     "output_type": "stream",
     "text": [
      "45/45 [==============================] - 3s 70ms/step - batch: 22.0000 - size: 32.0000 - loss: 0.6386 - val_loss: 2.3026 - lr: 1.0520e-05\n",
      "Epoch 469/500\n",
      "45/45 [==============================] - ETA: 0s - batch: 22.0000 - size: 32.0000 - loss: 0.6403WARNING:tensorflow:Early stopping conditioned on metric `train_loss` which is not available. Available metrics are: loss,val_loss\n"
     ]
    },
    {
     "name": "stderr",
     "output_type": "stream",
     "text": [
      "WARNING:tensorflow:Early stopping conditioned on metric `train_loss` which is not available. Available metrics are: loss,val_loss\n"
     ]
    },
    {
     "name": "stdout",
     "output_type": "stream",
     "text": [
      "45/45 [==============================] - 3s 70ms/step - batch: 22.0000 - size: 32.0000 - loss: 0.6403 - val_loss: 2.3025 - lr: 9.8752e-06\n",
      "Epoch 470/500\n",
      "45/45 [==============================] - ETA: 0s - batch: 22.0000 - size: 32.0000 - loss: 0.6371WARNING:tensorflow:Early stopping conditioned on metric `train_loss` which is not available. Available metrics are: loss,val_loss\n"
     ]
    },
    {
     "name": "stderr",
     "output_type": "stream",
     "text": [
      "WARNING:tensorflow:Early stopping conditioned on metric `train_loss` which is not available. Available metrics are: loss,val_loss\n"
     ]
    },
    {
     "name": "stdout",
     "output_type": "stream",
     "text": [
      "Get map.\n"
     ]
    },
    {
     "name": "stderr",
     "output_type": "stream",
     "text": [
      "100%|██████████| 178/178 [00:00<00:00, 203.30it/s]\n"
     ]
    },
    {
     "name": "stdout",
     "output_type": "stream",
     "text": [
      "Calculate Map.\n",
      "Path '.temp_map_out/results' already exists.\n",
      "90.37% = hand AP \t||\tscore_threhold=0.5 : F1=0.85 ; Recall=88.95% ; Precision=81.25%\n",
      "mAP = 90.37%\n",
      "Path '/home/zhangyouan/桌面/zya/NN_net/network/SSD/IMX_681_ssd_mobilenet_git/keras/detection/SSD_ipynb_transfer_callback_1227hand/output/20240228/loss_2024_06_27_14_24_39' already exists.\n",
      "Get map done.\n",
      "45/45 [==============================] - 4s 95ms/step - batch: 22.0000 - size: 32.0000 - loss: 0.6371 - val_loss: 2.3039 - lr: 9.2508e-06\n",
      "Epoch 471/500\n",
      "45/45 [==============================] - ETA: 0s - batch: 22.0000 - size: 32.0000 - loss: 0.6390WARNING:tensorflow:Early stopping conditioned on metric `train_loss` which is not available. Available metrics are: loss,val_loss\n"
     ]
    },
    {
     "name": "stderr",
     "output_type": "stream",
     "text": [
      "WARNING:tensorflow:Early stopping conditioned on metric `train_loss` which is not available. Available metrics are: loss,val_loss\n"
     ]
    },
    {
     "name": "stdout",
     "output_type": "stream",
     "text": [
      "45/45 [==============================] - 3s 70ms/step - batch: 22.0000 - size: 32.0000 - loss: 0.6390 - val_loss: 2.3026 - lr: 8.6465e-06\n",
      "Epoch 472/500\n",
      "45/45 [==============================] - ETA: 0s - batch: 22.0000 - size: 32.0000 - loss: 0.6378WARNING:tensorflow:Early stopping conditioned on metric `train_loss` which is not available. Available metrics are: loss,val_loss\n"
     ]
    },
    {
     "name": "stderr",
     "output_type": "stream",
     "text": [
      "WARNING:tensorflow:Early stopping conditioned on metric `train_loss` which is not available. Available metrics are: loss,val_loss\n"
     ]
    },
    {
     "name": "stdout",
     "output_type": "stream",
     "text": [
      "45/45 [==============================] - 3s 70ms/step - batch: 22.0000 - size: 32.0000 - loss: 0.6378 - val_loss: 2.3028 - lr: 8.0625e-06\n",
      "Epoch 473/500\n",
      "45/45 [==============================] - ETA: 0s - batch: 22.0000 - size: 32.0000 - loss: 0.6363WARNING:tensorflow:Early stopping conditioned on metric `train_loss` which is not available. Available metrics are: loss,val_loss\n"
     ]
    },
    {
     "name": "stderr",
     "output_type": "stream",
     "text": [
      "WARNING:tensorflow:Early stopping conditioned on metric `train_loss` which is not available. Available metrics are: loss,val_loss\n"
     ]
    },
    {
     "name": "stdout",
     "output_type": "stream",
     "text": [
      "45/45 [==============================] - 3s 70ms/step - batch: 22.0000 - size: 32.0000 - loss: 0.6363 - val_loss: 2.3055 - lr: 7.4988e-06\n",
      "Epoch 474/500\n",
      "45/45 [==============================] - ETA: 0s - batch: 22.0000 - size: 32.0000 - loss: 0.6406WARNING:tensorflow:Early stopping conditioned on metric `train_loss` which is not available. Available metrics are: loss,val_loss\n"
     ]
    },
    {
     "name": "stderr",
     "output_type": "stream",
     "text": [
      "WARNING:tensorflow:Early stopping conditioned on metric `train_loss` which is not available. Available metrics are: loss,val_loss\n"
     ]
    },
    {
     "name": "stdout",
     "output_type": "stream",
     "text": [
      "45/45 [==============================] - 3s 70ms/step - batch: 22.0000 - size: 32.0000 - loss: 0.6406 - val_loss: 2.3046 - lr: 6.9553e-06\n",
      "Epoch 475/500\n",
      "45/45 [==============================] - ETA: 0s - batch: 22.0000 - size: 32.0000 - loss: 0.6384WARNING:tensorflow:Early stopping conditioned on metric `train_loss` which is not available. Available metrics are: loss,val_loss\n"
     ]
    },
    {
     "name": "stderr",
     "output_type": "stream",
     "text": [
      "WARNING:tensorflow:Early stopping conditioned on metric `train_loss` which is not available. Available metrics are: loss,val_loss\n"
     ]
    },
    {
     "name": "stdout",
     "output_type": "stream",
     "text": [
      "45/45 [==============================] - 3s 70ms/step - batch: 22.0000 - size: 32.0000 - loss: 0.6384 - val_loss: 2.3038 - lr: 6.4321e-06\n",
      "Epoch 476/500\n",
      "45/45 [==============================] - ETA: 0s - batch: 22.0000 - size: 32.0000 - loss: 0.6378WARNING:tensorflow:Early stopping conditioned on metric `train_loss` which is not available. Available metrics are: loss,val_loss\n"
     ]
    },
    {
     "name": "stderr",
     "output_type": "stream",
     "text": [
      "WARNING:tensorflow:Early stopping conditioned on metric `train_loss` which is not available. Available metrics are: loss,val_loss\n"
     ]
    },
    {
     "name": "stdout",
     "output_type": "stream",
     "text": [
      "45/45 [==============================] - 3s 70ms/step - batch: 22.0000 - size: 32.0000 - loss: 0.6378 - val_loss: 2.3024 - lr: 5.9293e-06\n",
      "Epoch 477/500\n",
      "45/45 [==============================] - ETA: 0s - batch: 22.0000 - size: 32.0000 - loss: 0.6362WARNING:tensorflow:Early stopping conditioned on metric `train_loss` which is not available. Available metrics are: loss,val_loss\n"
     ]
    },
    {
     "name": "stderr",
     "output_type": "stream",
     "text": [
      "WARNING:tensorflow:Early stopping conditioned on metric `train_loss` which is not available. Available metrics are: loss,val_loss\n"
     ]
    },
    {
     "name": "stdout",
     "output_type": "stream",
     "text": [
      "45/45 [==============================] - 3s 70ms/step - batch: 22.0000 - size: 32.0000 - loss: 0.6362 - val_loss: 2.3044 - lr: 5.4468e-06\n",
      "Epoch 478/500\n",
      "45/45 [==============================] - ETA: 0s - batch: 22.0000 - size: 32.0000 - loss: 0.6375WARNING:tensorflow:Early stopping conditioned on metric `train_loss` which is not available. Available metrics are: loss,val_loss\n"
     ]
    },
    {
     "name": "stderr",
     "output_type": "stream",
     "text": [
      "WARNING:tensorflow:Early stopping conditioned on metric `train_loss` which is not available. Available metrics are: loss,val_loss\n"
     ]
    },
    {
     "name": "stdout",
     "output_type": "stream",
     "text": [
      "45/45 [==============================] - 3s 70ms/step - batch: 22.0000 - size: 32.0000 - loss: 0.6375 - val_loss: 2.3037 - lr: 4.9847e-06\n",
      "Epoch 479/500\n",
      "45/45 [==============================] - ETA: 0s - batch: 22.0000 - size: 32.0000 - loss: 0.6402WARNING:tensorflow:Early stopping conditioned on metric `train_loss` which is not available. Available metrics are: loss,val_loss\n"
     ]
    },
    {
     "name": "stderr",
     "output_type": "stream",
     "text": [
      "WARNING:tensorflow:Early stopping conditioned on metric `train_loss` which is not available. Available metrics are: loss,val_loss\n"
     ]
    },
    {
     "name": "stdout",
     "output_type": "stream",
     "text": [
      "45/45 [==============================] - 3s 71ms/step - batch: 22.0000 - size: 32.0000 - loss: 0.6402 - val_loss: 2.3037 - lr: 4.5429e-06\n",
      "Epoch 480/500\n",
      "45/45 [==============================] - ETA: 0s - batch: 22.0000 - size: 32.0000 - loss: 0.6381WARNING:tensorflow:Early stopping conditioned on metric `train_loss` which is not available. Available metrics are: loss,val_loss\n"
     ]
    },
    {
     "name": "stderr",
     "output_type": "stream",
     "text": [
      "WARNING:tensorflow:Early stopping conditioned on metric `train_loss` which is not available. Available metrics are: loss,val_loss\n"
     ]
    },
    {
     "name": "stdout",
     "output_type": "stream",
     "text": [
      "Get map.\n"
     ]
    },
    {
     "name": "stderr",
     "output_type": "stream",
     "text": [
      "100%|██████████| 178/178 [00:00<00:00, 208.89it/s]\n"
     ]
    },
    {
     "name": "stdout",
     "output_type": "stream",
     "text": [
      "Calculate Map.\n",
      "Path '.temp_map_out/results' already exists.\n",
      "90.42% = hand AP \t||\tscore_threhold=0.5 : F1=0.85 ; Recall=89.47% ; Precision=81.73%\n",
      "mAP = 90.42%\n",
      "Path '/home/zhangyouan/桌面/zya/NN_net/network/SSD/IMX_681_ssd_mobilenet_git/keras/detection/SSD_ipynb_transfer_callback_1227hand/output/20240228/loss_2024_06_27_14_24_39' already exists.\n",
      "Get map done.\n",
      "45/45 [==============================] - 4s 95ms/step - batch: 22.0000 - size: 32.0000 - loss: 0.6381 - val_loss: 2.3041 - lr: 4.1216e-06\n",
      "Epoch 481/500\n",
      "45/45 [==============================] - ETA: 0s - batch: 22.0000 - size: 32.0000 - loss: 0.6389WARNING:tensorflow:Early stopping conditioned on metric `train_loss` which is not available. Available metrics are: loss,val_loss\n"
     ]
    },
    {
     "name": "stderr",
     "output_type": "stream",
     "text": [
      "WARNING:tensorflow:Early stopping conditioned on metric `train_loss` which is not available. Available metrics are: loss,val_loss\n"
     ]
    },
    {
     "name": "stdout",
     "output_type": "stream",
     "text": [
      "45/45 [==============================] - 3s 70ms/step - batch: 22.0000 - size: 32.0000 - loss: 0.6389 - val_loss: 2.3042 - lr: 3.7207e-06\n",
      "Epoch 482/500\n",
      "45/45 [==============================] - ETA: 0s - batch: 22.0000 - size: 32.0000 - loss: 0.6399WARNING:tensorflow:Early stopping conditioned on metric `train_loss` which is not available. Available metrics are: loss,val_loss\n"
     ]
    },
    {
     "name": "stderr",
     "output_type": "stream",
     "text": [
      "WARNING:tensorflow:Early stopping conditioned on metric `train_loss` which is not available. Available metrics are: loss,val_loss\n"
     ]
    },
    {
     "name": "stdout",
     "output_type": "stream",
     "text": [
      "45/45 [==============================] - 3s 70ms/step - batch: 22.0000 - size: 32.0000 - loss: 0.6399 - val_loss: 2.3049 - lr: 3.3402e-06\n",
      "Epoch 483/500\n",
      "45/45 [==============================] - ETA: 0s - batch: 22.0000 - size: 32.0000 - loss: 0.6331WARNING:tensorflow:Early stopping conditioned on metric `train_loss` which is not available. Available metrics are: loss,val_loss\n"
     ]
    },
    {
     "name": "stderr",
     "output_type": "stream",
     "text": [
      "WARNING:tensorflow:Early stopping conditioned on metric `train_loss` which is not available. Available metrics are: loss,val_loss\n"
     ]
    },
    {
     "name": "stdout",
     "output_type": "stream",
     "text": [
      "45/45 [==============================] - 3s 70ms/step - batch: 22.0000 - size: 32.0000 - loss: 0.6331 - val_loss: 2.3040 - lr: 2.9801e-06\n",
      "Epoch 484/500\n",
      "45/45 [==============================] - ETA: 0s - batch: 22.0000 - size: 32.0000 - loss: 0.6410WARNING:tensorflow:Early stopping conditioned on metric `train_loss` which is not available. Available metrics are: loss,val_loss\n"
     ]
    },
    {
     "name": "stderr",
     "output_type": "stream",
     "text": [
      "WARNING:tensorflow:Early stopping conditioned on metric `train_loss` which is not available. Available metrics are: loss,val_loss\n"
     ]
    },
    {
     "name": "stdout",
     "output_type": "stream",
     "text": [
      "45/45 [==============================] - 3s 70ms/step - batch: 22.0000 - size: 32.0000 - loss: 0.6410 - val_loss: 2.3044 - lr: 2.6406e-06\n",
      "Epoch 485/500\n",
      "45/45 [==============================] - ETA: 0s - batch: 22.0000 - size: 32.0000 - loss: 0.6378WARNING:tensorflow:Early stopping conditioned on metric `train_loss` which is not available. Available metrics are: loss,val_loss\n"
     ]
    },
    {
     "name": "stderr",
     "output_type": "stream",
     "text": [
      "WARNING:tensorflow:Early stopping conditioned on metric `train_loss` which is not available. Available metrics are: loss,val_loss\n"
     ]
    },
    {
     "name": "stdout",
     "output_type": "stream",
     "text": [
      "45/45 [==============================] - 3s 70ms/step - batch: 22.0000 - size: 32.0000 - loss: 0.6378 - val_loss: 2.3052 - lr: 2.3215e-06\n",
      "Epoch 486/500\n",
      "45/45 [==============================] - ETA: 0s - batch: 22.0000 - size: 32.0000 - loss: 0.6360WARNING:tensorflow:Early stopping conditioned on metric `train_loss` which is not available. Available metrics are: loss,val_loss\n"
     ]
    },
    {
     "name": "stderr",
     "output_type": "stream",
     "text": [
      "WARNING:tensorflow:Early stopping conditioned on metric `train_loss` which is not available. Available metrics are: loss,val_loss\n"
     ]
    },
    {
     "name": "stdout",
     "output_type": "stream",
     "text": [
      "45/45 [==============================] - 3s 70ms/step - batch: 22.0000 - size: 32.0000 - loss: 0.6360 - val_loss: 2.3053 - lr: 2.0229e-06\n",
      "Epoch 487/500\n",
      "45/45 [==============================] - ETA: 0s - batch: 22.0000 - size: 32.0000 - loss: 0.6375WARNING:tensorflow:Early stopping conditioned on metric `train_loss` which is not available. Available metrics are: loss,val_loss\n"
     ]
    },
    {
     "name": "stderr",
     "output_type": "stream",
     "text": [
      "WARNING:tensorflow:Early stopping conditioned on metric `train_loss` which is not available. Available metrics are: loss,val_loss\n"
     ]
    },
    {
     "name": "stdout",
     "output_type": "stream",
     "text": [
      "45/45 [==============================] - 3s 70ms/step - batch: 22.0000 - size: 32.0000 - loss: 0.6375 - val_loss: 2.3048 - lr: 1.7448e-06\n",
      "Epoch 488/500\n",
      "45/45 [==============================] - ETA: 0s - batch: 22.0000 - size: 32.0000 - loss: 0.6362WARNING:tensorflow:Early stopping conditioned on metric `train_loss` which is not available. Available metrics are: loss,val_loss\n"
     ]
    },
    {
     "name": "stderr",
     "output_type": "stream",
     "text": [
      "WARNING:tensorflow:Early stopping conditioned on metric `train_loss` which is not available. Available metrics are: loss,val_loss\n"
     ]
    },
    {
     "name": "stdout",
     "output_type": "stream",
     "text": [
      "45/45 [==============================] - 3s 70ms/step - batch: 22.0000 - size: 32.0000 - loss: 0.6362 - val_loss: 2.3044 - lr: 1.4873e-06\n",
      "Epoch 489/500\n",
      "45/45 [==============================] - ETA: 0s - batch: 22.0000 - size: 32.0000 - loss: 0.6392WARNING:tensorflow:Early stopping conditioned on metric `train_loss` which is not available. Available metrics are: loss,val_loss\n"
     ]
    },
    {
     "name": "stderr",
     "output_type": "stream",
     "text": [
      "WARNING:tensorflow:Early stopping conditioned on metric `train_loss` which is not available. Available metrics are: loss,val_loss\n"
     ]
    },
    {
     "name": "stdout",
     "output_type": "stream",
     "text": [
      "45/45 [==============================] - 3s 70ms/step - batch: 22.0000 - size: 32.0000 - loss: 0.6392 - val_loss: 2.3047 - lr: 1.2502e-06\n",
      "Epoch 490/500\n",
      "45/45 [==============================] - ETA: 0s - batch: 22.0000 - size: 32.0000 - loss: 0.6374WARNING:tensorflow:Early stopping conditioned on metric `train_loss` which is not available. Available metrics are: loss,val_loss\n"
     ]
    },
    {
     "name": "stderr",
     "output_type": "stream",
     "text": [
      "WARNING:tensorflow:Early stopping conditioned on metric `train_loss` which is not available. Available metrics are: loss,val_loss\n"
     ]
    },
    {
     "name": "stdout",
     "output_type": "stream",
     "text": [
      "Get map.\n"
     ]
    },
    {
     "name": "stderr",
     "output_type": "stream",
     "text": [
      "100%|██████████| 178/178 [00:00<00:00, 209.94it/s]\n"
     ]
    },
    {
     "name": "stdout",
     "output_type": "stream",
     "text": [
      "Calculate Map.\n",
      "Path '.temp_map_out/results' already exists.\n",
      "90.41% = hand AP \t||\tscore_threhold=0.5 : F1=0.85 ; Recall=89.47% ; Precision=81.73%\n",
      "mAP = 90.41%\n",
      "Path '/home/zhangyouan/桌面/zya/NN_net/network/SSD/IMX_681_ssd_mobilenet_git/keras/detection/SSD_ipynb_transfer_callback_1227hand/output/20240228/loss_2024_06_27_14_24_39' already exists.\n",
      "Get map done.\n",
      "45/45 [==============================] - 4s 95ms/step - batch: 22.0000 - size: 32.0000 - loss: 0.6374 - val_loss: 2.3048 - lr: 1.0337e-06\n",
      "Epoch 491/500\n",
      "45/45 [==============================] - ETA: 0s - batch: 22.0000 - size: 32.0000 - loss: 0.6374WARNING:tensorflow:Early stopping conditioned on metric `train_loss` which is not available. Available metrics are: loss,val_loss\n"
     ]
    },
    {
     "name": "stderr",
     "output_type": "stream",
     "text": [
      "WARNING:tensorflow:Early stopping conditioned on metric `train_loss` which is not available. Available metrics are: loss,val_loss\n"
     ]
    },
    {
     "name": "stdout",
     "output_type": "stream",
     "text": [
      "45/45 [==============================] - 3s 70ms/step - batch: 22.0000 - size: 32.0000 - loss: 0.6374 - val_loss: 2.3048 - lr: 8.3780e-07\n",
      "Epoch 492/500\n",
      "45/45 [==============================] - ETA: 0s - batch: 22.0000 - size: 32.0000 - loss: 0.6365WARNING:tensorflow:Early stopping conditioned on metric `train_loss` which is not available. Available metrics are: loss,val_loss\n"
     ]
    },
    {
     "name": "stderr",
     "output_type": "stream",
     "text": [
      "WARNING:tensorflow:Early stopping conditioned on metric `train_loss` which is not available. Available metrics are: loss,val_loss\n"
     ]
    },
    {
     "name": "stdout",
     "output_type": "stream",
     "text": [
      "45/45 [==============================] - 3s 70ms/step - batch: 22.0000 - size: 32.0000 - loss: 0.6365 - val_loss: 2.3048 - lr: 6.6241e-07\n",
      "Epoch 493/500\n",
      "45/45 [==============================] - ETA: 0s - batch: 22.0000 - size: 32.0000 - loss: 0.6389WARNING:tensorflow:Early stopping conditioned on metric `train_loss` which is not available. Available metrics are: loss,val_loss\n"
     ]
    },
    {
     "name": "stderr",
     "output_type": "stream",
     "text": [
      "WARNING:tensorflow:Early stopping conditioned on metric `train_loss` which is not available. Available metrics are: loss,val_loss\n"
     ]
    },
    {
     "name": "stdout",
     "output_type": "stream",
     "text": [
      "45/45 [==============================] - 3s 70ms/step - batch: 22.0000 - size: 32.0000 - loss: 0.6389 - val_loss: 2.3049 - lr: 5.0759e-07\n",
      "Epoch 494/500\n",
      "45/45 [==============================] - ETA: 0s - batch: 22.0000 - size: 32.0000 - loss: 0.6383WARNING:tensorflow:Early stopping conditioned on metric `train_loss` which is not available. Available metrics are: loss,val_loss\n"
     ]
    },
    {
     "name": "stderr",
     "output_type": "stream",
     "text": [
      "WARNING:tensorflow:Early stopping conditioned on metric `train_loss` which is not available. Available metrics are: loss,val_loss\n"
     ]
    },
    {
     "name": "stdout",
     "output_type": "stream",
     "text": [
      "45/45 [==============================] - 3s 70ms/step - batch: 22.0000 - size: 32.0000 - loss: 0.6383 - val_loss: 2.3048 - lr: 3.7333e-07\n",
      "Epoch 495/500\n",
      "45/45 [==============================] - ETA: 0s - batch: 22.0000 - size: 32.0000 - loss: 0.6416WARNING:tensorflow:Early stopping conditioned on metric `train_loss` which is not available. Available metrics are: loss,val_loss\n"
     ]
    },
    {
     "name": "stderr",
     "output_type": "stream",
     "text": [
      "WARNING:tensorflow:Early stopping conditioned on metric `train_loss` which is not available. Available metrics are: loss,val_loss\n"
     ]
    },
    {
     "name": "stdout",
     "output_type": "stream",
     "text": [
      "45/45 [==============================] - 3s 70ms/step - batch: 22.0000 - size: 32.0000 - loss: 0.6416 - val_loss: 2.3048 - lr: 2.5965e-07\n",
      "Epoch 496/500\n",
      "45/45 [==============================] - ETA: 0s - batch: 22.0000 - size: 32.0000 - loss: 0.6363WARNING:tensorflow:Early stopping conditioned on metric `train_loss` which is not available. Available metrics are: loss,val_loss\n"
     ]
    },
    {
     "name": "stderr",
     "output_type": "stream",
     "text": [
      "WARNING:tensorflow:Early stopping conditioned on metric `train_loss` which is not available. Available metrics are: loss,val_loss\n"
     ]
    },
    {
     "name": "stdout",
     "output_type": "stream",
     "text": [
      "45/45 [==============================] - 3s 70ms/step - batch: 22.0000 - size: 32.0000 - loss: 0.6363 - val_loss: 2.3048 - lr: 1.6655e-07\n",
      "Epoch 497/500\n",
      "45/45 [==============================] - ETA: 0s - batch: 22.0000 - size: 32.0000 - loss: 0.6383WARNING:tensorflow:Early stopping conditioned on metric `train_loss` which is not available. Available metrics are: loss,val_loss\n"
     ]
    },
    {
     "name": "stderr",
     "output_type": "stream",
     "text": [
      "WARNING:tensorflow:Early stopping conditioned on metric `train_loss` which is not available. Available metrics are: loss,val_loss\n"
     ]
    },
    {
     "name": "stdout",
     "output_type": "stream",
     "text": [
      "45/45 [==============================] - 3s 70ms/step - batch: 22.0000 - size: 32.0000 - loss: 0.6383 - val_loss: 2.3048 - lr: 9.4032e-08\n",
      "Epoch 498/500\n",
      "45/45 [==============================] - ETA: 0s - batch: 22.0000 - size: 32.0000 - loss: 0.6362WARNING:tensorflow:Early stopping conditioned on metric `train_loss` which is not available. Available metrics are: loss,val_loss\n"
     ]
    },
    {
     "name": "stderr",
     "output_type": "stream",
     "text": [
      "WARNING:tensorflow:Early stopping conditioned on metric `train_loss` which is not available. Available metrics are: loss,val_loss\n"
     ]
    },
    {
     "name": "stdout",
     "output_type": "stream",
     "text": [
      "45/45 [==============================] - 3s 70ms/step - batch: 22.0000 - size: 32.0000 - loss: 0.6362 - val_loss: 2.3048 - lr: 4.2101e-08\n",
      "Epoch 499/500\n",
      "45/45 [==============================] - ETA: 0s - batch: 22.0000 - size: 32.0000 - loss: 0.6352WARNING:tensorflow:Early stopping conditioned on metric `train_loss` which is not available. Available metrics are: loss,val_loss\n"
     ]
    },
    {
     "name": "stderr",
     "output_type": "stream",
     "text": [
      "WARNING:tensorflow:Early stopping conditioned on metric `train_loss` which is not available. Available metrics are: loss,val_loss\n"
     ]
    },
    {
     "name": "stdout",
     "output_type": "stream",
     "text": [
      "45/45 [==============================] - 3s 70ms/step - batch: 22.0000 - size: 32.0000 - loss: 0.6352 - val_loss: 2.3048 - lr: 1.0758e-08\n",
      "Epoch 500/500\n",
      "45/45 [==============================] - ETA: 0s - batch: 22.0000 - size: 32.0000 - loss: 0.6363WARNING:tensorflow:Early stopping conditioned on metric `train_loss` which is not available. Available metrics are: loss,val_loss\n"
     ]
    },
    {
     "name": "stderr",
     "output_type": "stream",
     "text": [
      "WARNING:tensorflow:Early stopping conditioned on metric `train_loss` which is not available. Available metrics are: loss,val_loss\n"
     ]
    },
    {
     "name": "stdout",
     "output_type": "stream",
     "text": [
      "Get map.\n"
     ]
    },
    {
     "name": "stderr",
     "output_type": "stream",
     "text": [
      "100%|██████████| 178/178 [00:00<00:00, 201.80it/s]\n"
     ]
    },
    {
     "name": "stdout",
     "output_type": "stream",
     "text": [
      "Calculate Map.\n",
      "Path '.temp_map_out/results' already exists.\n",
      "90.40% = hand AP \t||\tscore_threhold=0.5 : F1=0.85 ; Recall=89.47% ; Precision=81.73%\n",
      "mAP = 90.40%\n",
      "Path '/home/zhangyouan/桌面/zya/NN_net/network/SSD/IMX_681_ssd_mobilenet_git/keras/detection/SSD_ipynb_transfer_callback_1227hand/output/20240228/loss_2024_06_27_14_24_39' already exists.\n",
      "Get map done.\n",
      "45/45 [==============================] - 4s 96ms/step - batch: 22.0000 - size: 32.0000 - loss: 0.6363 - val_loss: 2.3048 - lr: 5.0841e-12\n"
     ]
    },
    {
     "name": "stderr",
     "output_type": "stream",
     "text": [
      "/home/zhangyouan/anaconda3/envs/stc/lib/python3.10/site-packages/keras/src/engine/training.py:3000: UserWarning: You are saving your model as an HDF5 file via `model.save()`. This file format is considered legacy. We recommend using instead the native Keras format, e.g. `model.save('my_model.keras')`.\n",
      "  saving_api.save_model(\n"
     ]
    },
    {
     "name": "stdout",
     "output_type": "stream",
     "text": [
      "INFO:tensorflow:Assets written to: /home/zhangyouan/桌面/zya/NN_net/network/SSD/IMX_681_ssd_mobilenet_git/keras/detection/SSD_ipynb_transfer_callback_1227hand/output/20240228/hand_detection_20240626.pb/assets\n"
     ]
    },
    {
     "name": "stderr",
     "output_type": "stream",
     "text": [
      "INFO:tensorflow:Assets written to: /home/zhangyouan/桌面/zya/NN_net/network/SSD/IMX_681_ssd_mobilenet_git/keras/detection/SSD_ipynb_transfer_callback_1227hand/output/20240228/hand_detection_20240626.pb/assets\n"
     ]
    }
   ],
   "source": [
    "from keras.regularizers import l2\n",
    "\n",
    "if __name__ == \"__main__\":\n",
    "    \n",
    "    # 设置训练参数\n",
    "    Epoch = 500  # 训练100 epochs\n",
    "    lr = 1e-3  # Adam优化器，所以较小的学习率\n",
    "    optimizer_type = \"Adam\"\n",
    "    momentum = 0.937\n",
    "    batch_size = 32\n",
    "    imgcolor = 'grey'  # imgcolor选“rgb” or “grey”, 则处理图像变单通道或者三通道\n",
    "    tmp_dir = str(datetime.datetime.strftime(datetime.datetime.now(), '%Y%m%d'))\n",
    "    save_dir = \"/home/zhangyouan/桌面/zya/NN_net/network/SSD/IMX_681_ssd_mobilenet_git/keras/detection/SSD_ipynb_transfer_callback_1227hand/output/20240228\"\n",
    "        \n",
    "    # 设置SSD参数\n",
    "    cls_name_path = \"./model_data/voc_classes.txt\"  # 导入目标检测类别；\n",
    "    input_shape = [120, 160]  # 输入的尺寸大小\n",
    "    anchor_size = [32, 59, 86, 113, 141, 168]  # 用于设定先验框的大小，根据公式计算而来；如果要检测小物体，修改浅层先验框的大小，越小的话，识别的物体越小；    \n",
    "    train_annotation_path = r'/home/zhangyouan/桌面/zya/dataset/681/hand/2007_train.txt'  # 训练图片路径和标签\n",
    "    val_annotation_path = r'/home/zhangyouan/桌面/zya/dataset/681/hand/2007_test.txt'  # 验证图片路径和标签\n",
    "        \n",
    "    # 1. 获取classes和anchor\n",
    "    class_names, num_cls = get_classes(cls_name_path)\n",
    "    num_cls += 1  # 增加一个背景类别\n",
    "    print(\"class_names:\", class_names, \"num_classes:\", num_cls)\n",
    "    \n",
    "    # 2. 获取anchors, 输出的是归一化之后的anchors\n",
    "    anchor = get_anchors(input_shape, anchor_size)\n",
    "    print(\"type:\",type(anchor), \"shape:\", np.shape(anchor))\n",
    "\n",
    "    # 3. 模型编译\n",
    "    K.clear_session()\n",
    "    model_path = \"\"\n",
    "    # model_path = \"./output/20230804_3/good_detection_test_callback.h5\"\n",
    "    model = SSD300((input_shape[0], input_shape[1], 1), num_cls)\n",
    "    # model.save(\"template.h5\")\n",
    "    # model.summary()\n",
    "    if model_path != \"\":\n",
    "        model.load_weights(model_path, by_name = True, skip_mismatch=True)\n",
    "       \n",
    "    # 4. 优化器\n",
    "    # optimizer = Adam(lr = lr, beta_1=momentum)\n",
    "    # optimizer = Adam(lr=0.001, beta_1=0.9, beta_2=0.999, epsilon=1e-08, decay=0.0)\n",
    "    from tensorflow.keras.optimizers import legacy\n",
    "    optimizer = legacy.Adam(learning_rate=0.001, beta_1=0.9, beta_2=0.999, epsilon=1e-07, decay=0.0)\n",
    "    \n",
    "    # 5. 导入数据集\n",
    "    with open(train_annotation_path, encoding='utf-8') as f:\n",
    "        train_lines = f.readlines()\n",
    "    with open(val_annotation_path, encoding='utf-8') as f:\n",
    "        val_lines = f.readlines()\n",
    "    num_train = len(train_lines)\n",
    "    num_val = len(val_lines)\n",
    "    epoch_step = num_train // batch_size\n",
    "    epoch_step_val = num_val // batch_size\n",
    "    train_dataloader = SSDDatasets(train_lines, input_shape, anchor, batch_size, num_cls, train=False, imgcolor=imgcolor)\n",
    "    val_dataloader = SSDDatasets(val_lines, input_shape, anchor, batch_size, num_cls, train=False, imgcolor=imgcolor)\n",
    "    print('Train on {} samples, val on {} samples, with batch size {}.'.format(num_train, num_val, batch_size))\n",
    "    \n",
    "    # 6. 编译模型\n",
    "    # losses = {'mbox_loc_final':MultiboxLoss(num_cls, neg_pos_ratio=3.0).compute_loc_loss,\n",
    "            #   'cls_conf_final':MultiboxLoss(num_cls, neg_pos_ratio=3.0).compute_conf_loss}\n",
    "    # losses2 = [MultiboxLoss(num_cls, neg_pos_ratio=3.0).compute_loc_loss,MultiboxLoss(num_cls, neg_pos_ratio=3.0).compute_conf_loss]\n",
    "    model.compile(optimizer=optimizer, loss = MultiboxLoss(num_cls, neg_pos_ratio=3.0).compute_loss)\n",
    "    \n",
    "    # 7. 设计learning rate;\n",
    "    total_steps = int(Epoch * num_train / batch_size)\n",
    "    # 7.1 compute the number of warmup batches.\n",
    "    warmup_epochs = 10\n",
    "    warmup_steps = int(warmup_epochs * num_train / batch_size)\n",
    "    # 7.2 create the learning rate scheduler\n",
    "    warm_up_lr = WarmUpCosineDecayScheduler(learning_rate_base=lr,\n",
    "                                            total_steps=total_steps,\n",
    "                                            warmup_learning_rate=4e-06,\n",
    "                                            warmup_steps=warmup_steps,\n",
    "                                            hold_base_rate_steps=20)\n",
    "    time_str = datetime.datetime.strftime(datetime.datetime.now(), '%Y_%m_%d_%H_%M_%S')\n",
    "    log_dir = os.path.join(save_dir, \"loss_\" + str(time_str))\n",
    "    \n",
    "    # # 8. 精度评价: pending --> 还没构建；\n",
    "    eval_flag = True\n",
    "    eval_period = 10\n",
    "    eval_callback = EvalCallback(model, input_shape, anchor, class_names, num_cls, val_lines, log_dir, eval_flag=eval_flag, period = eval_period)\n",
    "    show_config(\n",
    "        classes_path=cls_name_path, model_path=model_path, input_shape=input_shape, \\\n",
    "        Epoch=Epoch, batch_size=batch_size, \\\n",
    "        lr=lr, optimizer_type=optimizer_type, momentum=momentum, \\\n",
    "        num_train=num_train, num_val=num_val\n",
    "    )\n",
    "    \n",
    "    callbacks_list = [\n",
    "        #早停回调，\n",
    "        keras.callbacks.EarlyStopping(monitor='train_loss', patience=10),\n",
    "        # keras.callbacks.EarlyStopping()\n",
    "        warm_up_lr, # 学习率的调整\n",
    "        # 学习率调整方法2. \n",
    "        keras.callbacks.ReduceLROnPlateau(monitor='val_loss', factor=0.1, patience=2, verbose=0, mode='auto',min_lr=0.000001),\n",
    "        # Epoch结束回调LearningRateSchrduler(schrduler, verbose=1),\n",
    "        keras.callbacks.TensorBoard(log_dir=os.path.join(save_dir, 'unetlogs'), update_freq=1000), #参数分别为日志存储路径和每多少step进行一次记录，此处不应取太小，会拖慢训练过程\n",
    "        eval_callback,  # 精度评价；\n",
    "    ]\n",
    "    # 8. 开始训练；\n",
    "    history = model.fit_generator(\n",
    "        generator=train_dataloader,\n",
    "        steps_per_epoch=epoch_step,\n",
    "        validation_data=val_dataloader,\n",
    "        validation_steps=epoch_step_val,\n",
    "        epochs=Epoch,\n",
    "        # callbacks = [warm_up_lr]\n",
    "        callbacks = callbacks_list   \n",
    "    )  # 使用tensorboard --logdir=\"\" 调用查看loss\n",
    "    \n",
    "    record_log(history, filename = os.path.join(save_dir, \"unetlogs/log.txt\"))\n",
    "    model.save(os.path.join(save_dir, \"hand_detection_20240626.h5\"))\n",
    "    model.save(os.path.join(save_dir, \"hand_detection_20240626.pb\"))"
   ]
  },
  {
   "cell_type": "code",
   "execution_count": null,
   "metadata": {},
   "outputs": [
    {
     "name": "stdout",
     "output_type": "stream",
     "text": [
      "no accuracy, only loss.\n"
     ]
    }
   ],
   "source": [
    "from log_record import record_log, read_log\n",
    "from utils import visual_train\n",
    "\n",
    "history = read_log(\"/home/zhangyouan/桌面/zya/NN_net/network/SSD/IMX_681_ssd_mobilenet_git/keras/detection/SSD_ipynb_transfer_callback/output/20230819/unetlogs/log.txt\")\n",
    "visual_train(history)"
   ]
  },
  {
   "cell_type": "code",
   "execution_count": null,
   "metadata": {},
   "outputs": [
    {
     "name": "stdout",
     "output_type": "stream",
     "text": [
      "no accuracy, only loss.\n"
     ]
    }
   ],
   "source": [
    "from log_record import record_log, read_log\n",
    "from utils import visual_train\n",
    "\n",
    "history = read_log(\"/home/zhangyouan/桌面/zya/NN_net/network/SSD/IMX_681_ssd_mobilenet_git/keras/detection/SSD_ipynb_transfer_callback_0919_cola/output/20231205/unetlogs/log.txt\")\n",
    "visual_train(history)"
   ]
  }
 ],
 "metadata": {
  "kernelspec": {
   "display_name": "Python 3.10.4 ('stc': conda)",
   "language": "python",
   "name": "python3"
  },
  "language_info": {
   "codemirror_mode": {
    "name": "ipython",
    "version": 3
   },
   "file_extension": ".py",
   "mimetype": "text/x-python",
   "name": "python",
   "nbconvert_exporter": "python",
   "pygments_lexer": "ipython3",
   "version": "3.10.4"
  },
  "orig_nbformat": 4,
  "vscode": {
   "interpreter": {
    "hash": "f6a050d9f10360465fbc02ae273ccd06cb1948ad5cd96cc14a3b3a9694a266bf"
   }
  }
 },
 "nbformat": 4,
 "nbformat_minor": 2
}
