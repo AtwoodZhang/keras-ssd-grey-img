{
 "cells": [
  {
   "cell_type": "code",
   "execution_count": 1,
   "metadata": {},
   "outputs": [
    {
     "name": "stderr",
     "output_type": "stream",
     "text": [
      "2024-02-28 20:00:58.390741: I tensorflow/tsl/cuda/cudart_stub.cc:28] Could not find cuda drivers on your machine, GPU will not be used.\n",
      "2024-02-28 20:00:58.778371: I tensorflow/tsl/cuda/cudart_stub.cc:28] Could not find cuda drivers on your machine, GPU will not be used.\n",
      "2024-02-28 20:00:58.780874: I tensorflow/core/platform/cpu_feature_guard.cc:182] This TensorFlow binary is optimized to use available CPU instructions in performance-critical operations.\n",
      "To enable the following instructions: AVX2 FMA, in other operations, rebuild TensorFlow with the appropriate compiler flags.\n",
      "2024-02-28 20:00:59.932644: W tensorflow/compiler/tf2tensorrt/utils/py_utils.cc:38] TF-TRT Warning: Could not find TensorRT\n"
     ]
    }
   ],
   "source": [
    "import sys\n",
    "sys.path.append('./')\n",
    "import numpy as np\n",
    "import os\n",
    "import datetime\n",
    "import keras.backend as K\n",
    "import tensorflow as tf\n",
    "from keras.layers import Conv2D, Dense, DepthwiseConv2D,add\n",
    "from keras.optimizers import SGD, Adam\n",
    "import numpy as np\n",
    "import math\n",
    "import keras\n",
    "from PIL import Image\n",
    "from random import shuffle\n",
    "from keras import layers as KL\n",
    "from Anchors import get_anchors\n",
    "from Datasets import SSDDatasets\n",
    "from learning_rate import WarmUpCosineDecayScheduler\n",
    "from loss import MultiboxLoss\n",
    "from Models import SSD300\n",
    "from utils import get_classes, show_config\n",
    "from log_record import record_log, read_log\n",
    "from keras.callbacks import (EarlyStopping, LearningRateScheduler,\n",
    "                             ModelCheckpoint, TensorBoard)\n",
    "from callbacks import (ExponentDecayScheduler, LossHistory,\n",
    "                       ParallelModelCheckpoint, EvalCallback)\n"
   ]
  },
  {
   "cell_type": "code",
   "execution_count": 8,
   "metadata": {},
   "outputs": [
    {
     "name": "stdout",
     "output_type": "stream",
     "text": [
      "class_names: ['hand'] num_classes: 2\n",
      "type: <class 'numpy.ndarray'> shape: (1242, 4)\n",
      "Train on 1440 samples, val on 178 samples, with batch size 32.\n",
      "Configurations:\n",
      "----------------------------------------------------------------------\n",
      "|                     keys |                                   values|\n",
      "----------------------------------------------------------------------\n",
      "|             classes_path |             ./model_data/voc_classes.txt|\n",
      "|               model_path |                                         |\n",
      "|              input_shape |                               [120, 160]|\n",
      "|                    Epoch |                                      500|\n",
      "|               batch_size |                                       32|\n",
      "|                       lr |                                    0.001|\n",
      "|           optimizer_type |                                     Adam|\n",
      "|                 momentum |                                    0.937|\n",
      "|                num_train |                                     1440|\n",
      "|                  num_val |                                      178|\n",
      "----------------------------------------------------------------------\n",
      "Epoch 1/500\n"
     ]
    },
    {
     "name": "stderr",
     "output_type": "stream",
     "text": [
      "2024-02-28 20:32:26.872628: W tensorflow/c/c_api.cc:304] Operation '{name:'Conv2D_conf_DD4_2/bias/Assign' id:1394 op device:{requested: '', assigned: ''} def:{{{node Conv2D_conf_DD4_2/bias/Assign}} = AssignVariableOp[_has_manual_control_dependencies=true, dtype=DT_FLOAT, validate_shape=false](Conv2D_conf_DD4_2/bias, Conv2D_conf_DD4_2/bias/Initializer/zeros)}}' was changed by setting attribute after it was run by a session. This mutation will have no effect, and will trigger an error in the future. Either don't modify nodes after running them or create a new session.\n",
      "/tmp/ipykernel_29918/3418851347.py:103: UserWarning: `model.fit_generator` is deprecated and will be removed in a future version. Please use `Model.fit`, which supports generators.\n",
      "  history = model.fit_generator(\n",
      "2024-02-28 20:32:27.104510: W tensorflow/c/c_api.cc:304] Operation '{name:'learning_rate/Assign' id:1921 op device:{requested: '', assigned: ''} def:{{{node learning_rate/Assign}} = AssignVariableOp[_has_manual_control_dependencies=true, dtype=DT_FLOAT, validate_shape=false](learning_rate, learning_rate/Initializer/initial_value)}}' was changed by setting attribute after it was run by a session. This mutation will have no effect, and will trigger an error in the future. Either don't modify nodes after running them or create a new session.\n",
      "2024-02-28 20:32:28.089371: W tensorflow/c/c_api.cc:304] Operation '{name:'loss/AddN' id:1775 op device:{requested: '', assigned: ''} def:{{{node loss/AddN}} = AddN[N=2, T=DT_FLOAT, _has_manual_control_dependencies=true](loss/mul, loss/Conv2D_layer13/kernel/Regularizer/mul)}}' was changed by setting attribute after it was run by a session. This mutation will have no effect, and will trigger an error in the future. Either don't modify nodes after running them or create a new session.\n",
      "2024-02-28 20:32:28.211186: W tensorflow/c/c_api.cc:304] Operation '{name:'training/Adam/DepthwiseConv2D_conf_DD4_1/depthwise_kernel/m/Assign' id:3135 op device:{requested: '', assigned: ''} def:{{{node training/Adam/DepthwiseConv2D_conf_DD4_1/depthwise_kernel/m/Assign}} = AssignVariableOp[_has_manual_control_dependencies=true, dtype=DT_FLOAT, validate_shape=false](training/Adam/DepthwiseConv2D_conf_DD4_1/depthwise_kernel/m, training/Adam/DepthwiseConv2D_conf_DD4_1/depthwise_kernel/m/Initializer/zeros)}}' was changed by setting attribute after it was run by a session. This mutation will have no effect, and will trigger an error in the future. Either don't modify nodes after running them or create a new session.\n"
     ]
    },
    {
     "name": "stdout",
     "output_type": "stream",
     "text": [
      " 4/45 [=>............................] - ETA: 2s - batch: 1.5000 - size: 32.0000 - loss: 7.6412    "
     ]
    },
    {
     "name": "stderr",
     "output_type": "stream",
     "text": [
      "2024-02-28 20:32:28.728244: I tensorflow/tsl/profiler/lib/profiler_session.cc:104] Profiler session initializing.\n",
      "2024-02-28 20:32:28.728268: I tensorflow/tsl/profiler/lib/profiler_session.cc:119] Profiler session started.\n",
      "2024-02-28 20:32:28.791110: I tensorflow/tsl/profiler/lib/profiler_session.cc:70] Profiler session collecting data.\n",
      "2024-02-28 20:32:28.792528: I tensorflow/tsl/profiler/lib/profiler_session.cc:131] Profiler session tear down.\n",
      "2024-02-28 20:32:28.792611: I tensorflow/tsl/profiler/rpc/client/save_profile.cc:144] Collecting XSpace to repository: /home/zhangyouan/桌面/zya/NN_net/network/SSD/IMX_681_ssd_mobilenet_git/keras/detection/SSD_ipynb_transfer_callback_1227hand/output/20240228/unetlogs/plugins/profile/2024_02_28_20_32_28/SSSLXSRVLS001.xplane.pb\n"
     ]
    },
    {
     "name": "stdout",
     "output_type": "stream",
     "text": [
      "45/45 [==============================] - ETA: 0s - batch: 22.0000 - size: 32.0000 - loss: 7.5729"
     ]
    },
    {
     "name": "stderr",
     "output_type": "stream",
     "text": [
      "2024-02-28 20:32:31.509432: W tensorflow/c/c_api.cc:304] Operation '{name:'loss/AddN' id:1775 op device:{requested: '', assigned: ''} def:{{{node loss/AddN}} = AddN[N=2, T=DT_FLOAT, _has_manual_control_dependencies=true](loss/mul, loss/Conv2D_layer13/kernel/Regularizer/mul)}}' was changed by setting attribute after it was run by a session. This mutation will have no effect, and will trigger an error in the future. Either don't modify nodes after running them or create a new session.\n"
     ]
    },
    {
     "name": "stdout",
     "output_type": "stream",
     "text": [
      "45/45 [==============================] - 5s 70ms/step - batch: 22.0000 - size: 32.0000 - loss: 7.5729 - val_loss: 7.6389 - lr: 1.0139e-04\n",
      "Epoch 2/500\n",
      "45/45 [==============================] - 3s 70ms/step - batch: 22.0000 - size: 32.0000 - loss: 7.5281 - val_loss: 7.5654 - lr: 2.0099e-04\n",
      "Epoch 3/500\n",
      "45/45 [==============================] - 3s 70ms/step - batch: 22.0000 - size: 32.0000 - loss: 7.4151 - val_loss: 7.3781 - lr: 3.0059e-04\n",
      "Epoch 4/500\n",
      "45/45 [==============================] - 3s 70ms/step - batch: 22.0000 - size: 32.0000 - loss: 6.9695 - val_loss: 6.7060 - lr: 4.0019e-04\n",
      "Epoch 5/500\n",
      "45/45 [==============================] - 3s 70ms/step - batch: 22.0000 - size: 32.0000 - loss: 6.4264 - val_loss: 6.3268 - lr: 4.9979e-04\n",
      "Epoch 6/500\n",
      "45/45 [==============================] - 3s 70ms/step - batch: 22.0000 - size: 32.0000 - loss: 6.0544 - val_loss: 5.9347 - lr: 5.9939e-04\n",
      "Epoch 7/500\n",
      "45/45 [==============================] - 3s 70ms/step - batch: 22.0000 - size: 32.0000 - loss: 5.7246 - val_loss: 5.7412 - lr: 6.9899e-04\n",
      "Epoch 8/500\n",
      "45/45 [==============================] - 3s 70ms/step - batch: 22.0000 - size: 32.0000 - loss: 5.5964 - val_loss: 5.6780 - lr: 7.9859e-04\n",
      "Epoch 9/500\n",
      "45/45 [==============================] - 3s 70ms/step - batch: 22.0000 - size: 32.0000 - loss: 5.5275 - val_loss: 5.5996 - lr: 8.9819e-04\n",
      "Epoch 10/500\n",
      "45/45 [==============================] - ETA: 0s - batch: 22.0000 - size: 32.0000 - loss: 5.4778Get map.\n"
     ]
    },
    {
     "name": "stderr",
     "output_type": "stream",
     "text": [
      "  0%|          | 0/178 [00:00<?, ?it/s]2024-02-28 20:33:00.107704: W tensorflow/c/c_api.cc:304] Operation '{name:'predictions/concat' id:1598 op device:{requested: '', assigned: ''} def:{{{node predictions/concat}} = ConcatV2[N=2, T=DT_FLOAT, Tidx=DT_INT32, _has_manual_control_dependencies=true](mbox_loc_final/Reshape, cls_conf_final/Softmax, predictions/concat/axis)}}' was changed by setting attribute after it was run by a session. This mutation will have no effect, and will trigger an error in the future. Either don't modify nodes after running them or create a new session.\n",
      "100%|██████████| 178/178 [00:01<00:00, 136.16it/s]\n"
     ]
    },
    {
     "name": "stdout",
     "output_type": "stream",
     "text": [
      "Calculate Map.\n",
      "Path '.temp_map_out/results' already exists.\n",
      "2.19% = hand AP \t||\tscore_threhold=0.5 : F1=0.00 ; Recall=0.00% ; Precision=0.00%\n",
      "mAP = 2.19%\n",
      "Path '/home/zhangyouan/桌面/zya/NN_net/network/SSD/IMX_681_ssd_mobilenet_git/keras/detection/SSD_ipynb_transfer_callback_1227hand/output/20240228/loss_2024_02_28_20_32_26' created successfully.\n",
      "Get map done.\n",
      "45/45 [==============================] - 5s 123ms/step - batch: 22.0000 - size: 32.0000 - loss: 5.4778 - val_loss: 5.5614 - lr: 9.9779e-04\n",
      "Epoch 11/500\n",
      "45/45 [==============================] - 3s 69ms/step - batch: 22.0000 - size: 32.0000 - loss: 5.4318 - val_loss: 5.5359 - lr: 1.0000e-03\n",
      "Epoch 12/500\n",
      "45/45 [==============================] - 3s 70ms/step - batch: 22.0000 - size: 32.0000 - loss: 5.4120 - val_loss: 5.4894 - lr: 9.9998e-04\n",
      "Epoch 13/500\n",
      "45/45 [==============================] - 3s 70ms/step - batch: 22.0000 - size: 32.0000 - loss: 5.3854 - val_loss: 5.4796 - lr: 9.9993e-04\n",
      "Epoch 14/500\n",
      "45/45 [==============================] - 3s 70ms/step - batch: 22.0000 - size: 32.0000 - loss: 5.3755 - val_loss: 5.4661 - lr: 9.9987e-04\n",
      "Epoch 15/500\n",
      "45/45 [==============================] - 3s 70ms/step - batch: 22.0000 - size: 32.0000 - loss: 5.3675 - val_loss: 5.4610 - lr: 9.9979e-04\n",
      "Epoch 16/500\n",
      "45/45 [==============================] - 3s 70ms/step - batch: 22.0000 - size: 32.0000 - loss: 5.3617 - val_loss: 5.4632 - lr: 9.9968e-04\n",
      "Epoch 17/500\n",
      "45/45 [==============================] - 3s 70ms/step - batch: 22.0000 - size: 32.0000 - loss: 5.3477 - val_loss: 5.4468 - lr: 9.9956e-04\n",
      "Epoch 18/500\n",
      "45/45 [==============================] - 3s 70ms/step - batch: 22.0000 - size: 32.0000 - loss: 5.3403 - val_loss: 5.4546 - lr: 9.9942e-04\n",
      "Epoch 19/500\n",
      "45/45 [==============================] - 3s 70ms/step - batch: 22.0000 - size: 32.0000 - loss: 5.3339 - val_loss: 5.4368 - lr: 9.9925e-04\n",
      "Epoch 20/500\n",
      "45/45 [==============================] - ETA: 0s - batch: 22.0000 - size: 32.0000 - loss: 5.3297Get map.\n"
     ]
    },
    {
     "name": "stderr",
     "output_type": "stream",
     "text": [
      "100%|██████████| 178/178 [00:01<00:00, 144.78it/s]\n"
     ]
    },
    {
     "name": "stdout",
     "output_type": "stream",
     "text": [
      "Calculate Map.\n",
      "Path '.temp_map_out/results' already exists.\n",
      "2.45% = hand AP \t||\tscore_threhold=0.5 : F1=0.00 ; Recall=0.00% ; Precision=0.00%\n",
      "mAP = 2.45%\n",
      "Path '/home/zhangyouan/桌面/zya/NN_net/network/SSD/IMX_681_ssd_mobilenet_git/keras/detection/SSD_ipynb_transfer_callback_1227hand/output/20240228/loss_2024_02_28_20_32_26' already exists.\n",
      "Get map done.\n",
      "45/45 [==============================] - 6s 126ms/step - batch: 22.0000 - size: 32.0000 - loss: 5.3297 - val_loss: 5.4441 - lr: 9.9906e-04\n",
      "Epoch 21/500\n",
      "45/45 [==============================] - 3s 70ms/step - batch: 22.0000 - size: 32.0000 - loss: 5.3332 - val_loss: 5.4394 - lr: 9.9886e-04\n",
      "Epoch 22/500\n",
      "45/45 [==============================] - 3s 70ms/step - batch: 22.0000 - size: 32.0000 - loss: 5.3172 - val_loss: 5.4144 - lr: 9.9863e-04\n",
      "Epoch 23/500\n",
      "45/45 [==============================] - 3s 70ms/step - batch: 22.0000 - size: 32.0000 - loss: 5.3079 - val_loss: 5.4293 - lr: 9.9838e-04\n",
      "Epoch 24/500\n",
      "45/45 [==============================] - 3s 70ms/step - batch: 22.0000 - size: 32.0000 - loss: 5.3056 - val_loss: 5.4238 - lr: 9.9812e-04\n",
      "Epoch 25/500\n",
      "45/45 [==============================] - 3s 70ms/step - batch: 22.0000 - size: 32.0000 - loss: 5.2947 - val_loss: 5.4065 - lr: 9.9783e-04\n",
      "Epoch 26/500\n",
      "45/45 [==============================] - 3s 70ms/step - batch: 22.0000 - size: 32.0000 - loss: 5.2745 - val_loss: 5.3752 - lr: 9.9752e-04\n",
      "Epoch 27/500\n",
      "45/45 [==============================] - 3s 70ms/step - batch: 22.0000 - size: 32.0000 - loss: 5.2653 - val_loss: 5.3351 - lr: 9.9719e-04\n",
      "Epoch 28/500\n",
      "45/45 [==============================] - 3s 70ms/step - batch: 22.0000 - size: 32.0000 - loss: 5.1973 - val_loss: 5.2484 - lr: 9.9684e-04\n",
      "Epoch 29/500\n",
      "45/45 [==============================] - 3s 70ms/step - batch: 22.0000 - size: 32.0000 - loss: 5.0976 - val_loss: 5.1583 - lr: 9.9647e-04\n",
      "Epoch 30/500\n",
      "45/45 [==============================] - ETA: 0s - batch: 22.0000 - size: 32.0000 - loss: 5.0020Get map.\n"
     ]
    },
    {
     "name": "stderr",
     "output_type": "stream",
     "text": [
      "100%|██████████| 178/178 [00:01<00:00, 144.17it/s]\n"
     ]
    },
    {
     "name": "stdout",
     "output_type": "stream",
     "text": [
      "Calculate Map.\n",
      "Path '.temp_map_out/results' already exists.\n",
      "3.52% = hand AP \t||\tscore_threhold=0.5 : F1=0.00 ; Recall=0.00% ; Precision=0.00%\n",
      "mAP = 3.52%\n",
      "Path '/home/zhangyouan/桌面/zya/NN_net/network/SSD/IMX_681_ssd_mobilenet_git/keras/detection/SSD_ipynb_transfer_callback_1227hand/output/20240228/loss_2024_02_28_20_32_26' already exists.\n",
      "Get map done.\n",
      "45/45 [==============================] - 5s 123ms/step - batch: 22.0000 - size: 32.0000 - loss: 5.0020 - val_loss: 5.0870 - lr: 9.9608e-04\n",
      "Epoch 31/500\n",
      "45/45 [==============================] - 3s 69ms/step - batch: 22.0000 - size: 32.0000 - loss: 4.8820 - val_loss: 4.9040 - lr: 9.9567e-04\n",
      "Epoch 32/500\n",
      "45/45 [==============================] - 3s 70ms/step - batch: 22.0000 - size: 32.0000 - loss: 4.6886 - val_loss: 4.6519 - lr: 9.9523e-04\n",
      "Epoch 33/500\n",
      "45/45 [==============================] - 3s 70ms/step - batch: 22.0000 - size: 32.0000 - loss: 4.4279 - val_loss: 4.5022 - lr: 9.9478e-04\n",
      "Epoch 34/500\n",
      "45/45 [==============================] - 3s 70ms/step - batch: 22.0000 - size: 32.0000 - loss: 4.2090 - val_loss: 4.2374 - lr: 9.9431e-04\n",
      "Epoch 35/500\n",
      "45/45 [==============================] - 3s 70ms/step - batch: 22.0000 - size: 32.0000 - loss: 4.0170 - val_loss: 4.0664 - lr: 9.9382e-04\n",
      "Epoch 36/500\n",
      "45/45 [==============================] - 3s 70ms/step - batch: 22.0000 - size: 32.0000 - loss: 3.8907 - val_loss: 3.9303 - lr: 9.9330e-04\n",
      "Epoch 37/500\n",
      "45/45 [==============================] - 3s 70ms/step - batch: 22.0000 - size: 32.0000 - loss: 3.7605 - val_loss: 3.8421 - lr: 9.9277e-04\n",
      "Epoch 38/500\n",
      "45/45 [==============================] - 3s 70ms/step - batch: 22.0000 - size: 32.0000 - loss: 3.6429 - val_loss: 3.8572 - lr: 9.9222e-04\n",
      "Epoch 39/500\n",
      "45/45 [==============================] - 3s 70ms/step - batch: 22.0000 - size: 32.0000 - loss: 3.5436 - val_loss: 3.6376 - lr: 9.9164e-04\n",
      "Epoch 40/500\n",
      "45/45 [==============================] - ETA: 0s - batch: 22.0000 - size: 32.0000 - loss: 3.4517Get map.\n"
     ]
    },
    {
     "name": "stderr",
     "output_type": "stream",
     "text": [
      "100%|██████████| 178/178 [00:01<00:00, 146.91it/s]\n"
     ]
    },
    {
     "name": "stdout",
     "output_type": "stream",
     "text": [
      "Calculate Map.\n",
      "Path '.temp_map_out/results' already exists.\n",
      "68.23% = hand AP \t||\tscore_threhold=0.5 : F1=0.69 ; Recall=63.16% ; Precision=76.92%\n",
      "mAP = 68.23%\n",
      "Path '/home/zhangyouan/桌面/zya/NN_net/network/SSD/IMX_681_ssd_mobilenet_git/keras/detection/SSD_ipynb_transfer_callback_1227hand/output/20240228/loss_2024_02_28_20_32_26' already exists.\n",
      "Get map done.\n",
      "45/45 [==============================] - 5s 123ms/step - batch: 22.0000 - size: 32.0000 - loss: 3.4517 - val_loss: 3.7664 - lr: 9.9105e-04\n",
      "Epoch 41/500\n",
      "45/45 [==============================] - 3s 70ms/step - batch: 22.0000 - size: 32.0000 - loss: 3.3540 - val_loss: 3.5554 - lr: 9.9043e-04\n",
      "Epoch 42/500\n",
      "45/45 [==============================] - 3s 70ms/step - batch: 22.0000 - size: 32.0000 - loss: 3.2371 - val_loss: 3.4243 - lr: 9.8980e-04\n",
      "Epoch 43/500\n",
      "45/45 [==============================] - 3s 70ms/step - batch: 22.0000 - size: 32.0000 - loss: 3.1593 - val_loss: 3.3629 - lr: 9.8914e-04\n",
      "Epoch 44/500\n",
      "45/45 [==============================] - 3s 70ms/step - batch: 22.0000 - size: 32.0000 - loss: 3.1030 - val_loss: 3.4225 - lr: 9.8847e-04\n",
      "Epoch 45/500\n",
      "45/45 [==============================] - 3s 70ms/step - batch: 22.0000 - size: 32.0000 - loss: 3.0748 - val_loss: 3.4242 - lr: 9.8777e-04\n",
      "Epoch 46/500\n",
      "45/45 [==============================] - 3s 70ms/step - batch: 22.0000 - size: 32.0000 - loss: 3.0003 - val_loss: 3.2924 - lr: 9.8706e-04\n",
      "Epoch 47/500\n",
      "45/45 [==============================] - 3s 70ms/step - batch: 22.0000 - size: 32.0000 - loss: 2.9315 - val_loss: 3.2324 - lr: 9.8632e-04\n",
      "Epoch 48/500\n",
      "45/45 [==============================] - 3s 70ms/step - batch: 22.0000 - size: 32.0000 - loss: 2.8568 - val_loss: 3.1852 - lr: 9.8557e-04\n",
      "Epoch 49/500\n",
      "45/45 [==============================] - 3s 70ms/step - batch: 22.0000 - size: 32.0000 - loss: 2.8533 - val_loss: 3.1755 - lr: 9.8479e-04\n",
      "Epoch 50/500\n",
      "45/45 [==============================] - ETA: 0s - batch: 22.0000 - size: 32.0000 - loss: 2.7882Get map.\n"
     ]
    },
    {
     "name": "stderr",
     "output_type": "stream",
     "text": [
      "100%|██████████| 178/178 [00:01<00:00, 151.21it/s]\n"
     ]
    },
    {
     "name": "stdout",
     "output_type": "stream",
     "text": [
      "Calculate Map.\n",
      "Path '.temp_map_out/results' already exists.\n",
      "79.74% = hand AP \t||\tscore_threhold=0.5 : F1=0.80 ; Recall=73.68% ; Precision=86.96%\n",
      "mAP = 79.74%\n",
      "Path '/home/zhangyouan/桌面/zya/NN_net/network/SSD/IMX_681_ssd_mobilenet_git/keras/detection/SSD_ipynb_transfer_callback_1227hand/output/20240228/loss_2024_02_28_20_32_26' already exists.\n",
      "Get map done.\n",
      "45/45 [==============================] - 5s 122ms/step - batch: 22.0000 - size: 32.0000 - loss: 2.7882 - val_loss: 3.1642 - lr: 9.8400e-04\n",
      "Epoch 51/500\n",
      "45/45 [==============================] - 3s 69ms/step - batch: 22.0000 - size: 32.0000 - loss: 2.7145 - val_loss: 3.1754 - lr: 9.8318e-04\n",
      "Epoch 52/500\n",
      "45/45 [==============================] - 3s 70ms/step - batch: 22.0000 - size: 32.0000 - loss: 2.6818 - val_loss: 3.1181 - lr: 9.8235e-04\n",
      "Epoch 53/500\n",
      "45/45 [==============================] - 3s 70ms/step - batch: 22.0000 - size: 32.0000 - loss: 2.6422 - val_loss: 3.0607 - lr: 9.8149e-04\n",
      "Epoch 54/500\n",
      "45/45 [==============================] - 3s 70ms/step - batch: 22.0000 - size: 32.0000 - loss: 2.6001 - val_loss: 3.0280 - lr: 9.8062e-04\n",
      "Epoch 55/500\n",
      "45/45 [==============================] - 3s 70ms/step - batch: 22.0000 - size: 32.0000 - loss: 2.5684 - val_loss: 3.0151 - lr: 9.7972e-04\n",
      "Epoch 56/500\n",
      "45/45 [==============================] - 3s 70ms/step - batch: 22.0000 - size: 32.0000 - loss: 2.5660 - val_loss: 3.0844 - lr: 9.7881e-04\n",
      "Epoch 57/500\n",
      "45/45 [==============================] - 3s 70ms/step - batch: 22.0000 - size: 32.0000 - loss: 2.5288 - val_loss: 2.9685 - lr: 9.7787e-04\n",
      "Epoch 58/500\n",
      "45/45 [==============================] - 3s 70ms/step - batch: 22.0000 - size: 32.0000 - loss: 2.4484 - val_loss: 2.8854 - lr: 9.7692e-04\n",
      "Epoch 59/500\n",
      "45/45 [==============================] - 3s 70ms/step - batch: 22.0000 - size: 32.0000 - loss: 2.4457 - val_loss: 2.9307 - lr: 9.7595e-04\n",
      "Epoch 60/500\n",
      "45/45 [==============================] - ETA: 0s - batch: 22.0000 - size: 32.0000 - loss: 2.4081Get map.\n"
     ]
    },
    {
     "name": "stderr",
     "output_type": "stream",
     "text": [
      "100%|██████████| 178/178 [00:00<00:00, 186.93it/s]\n"
     ]
    },
    {
     "name": "stdout",
     "output_type": "stream",
     "text": [
      "Calculate Map.\n",
      "Path '.temp_map_out/results' already exists.\n",
      "81.83% = hand AP \t||\tscore_threhold=0.5 : F1=0.80 ; Recall=73.68% ; Precision=88.61%\n",
      "mAP = 81.83%\n",
      "Path '/home/zhangyouan/桌面/zya/NN_net/network/SSD/IMX_681_ssd_mobilenet_git/keras/detection/SSD_ipynb_transfer_callback_1227hand/output/20240228/loss_2024_02_28_20_32_26' already exists.\n",
      "Get map done.\n",
      "45/45 [==============================] - 5s 116ms/step - batch: 22.0000 - size: 32.0000 - loss: 2.4081 - val_loss: 2.9284 - lr: 9.7495e-04\n",
      "Epoch 61/500\n",
      "45/45 [==============================] - 3s 69ms/step - batch: 22.0000 - size: 32.0000 - loss: 2.3561 - val_loss: 2.8948 - lr: 9.7394e-04\n",
      "Epoch 62/500\n",
      "45/45 [==============================] - 3s 70ms/step - batch: 22.0000 - size: 32.0000 - loss: 2.3217 - val_loss: 2.7919 - lr: 9.7291e-04\n",
      "Epoch 63/500\n",
      "45/45 [==============================] - 3s 70ms/step - batch: 22.0000 - size: 32.0000 - loss: 2.2976 - val_loss: 2.9205 - lr: 9.7186e-04\n",
      "Epoch 64/500\n",
      "45/45 [==============================] - 3s 70ms/step - batch: 22.0000 - size: 32.0000 - loss: 2.2731 - val_loss: 2.9698 - lr: 9.7078e-04\n",
      "Epoch 65/500\n",
      "45/45 [==============================] - 3s 70ms/step - batch: 22.0000 - size: 32.0000 - loss: 2.2605 - val_loss: 2.8310 - lr: 9.6969e-04\n",
      "Epoch 66/500\n",
      "45/45 [==============================] - 3s 70ms/step - batch: 22.0000 - size: 32.0000 - loss: 2.2049 - val_loss: 2.7531 - lr: 9.6858e-04\n",
      "Epoch 67/500\n",
      "45/45 [==============================] - 3s 70ms/step - batch: 22.0000 - size: 32.0000 - loss: 2.1753 - val_loss: 2.8158 - lr: 9.6746e-04\n",
      "Epoch 68/500\n",
      "45/45 [==============================] - 3s 70ms/step - batch: 22.0000 - size: 32.0000 - loss: 2.1621 - val_loss: 2.7819 - lr: 9.6631e-04\n",
      "Epoch 69/500\n",
      "45/45 [==============================] - 3s 72ms/step - batch: 22.0000 - size: 32.0000 - loss: 2.1320 - val_loss: 2.7317 - lr: 9.6514e-04\n",
      "Epoch 70/500\n",
      "45/45 [==============================] - ETA: 0s - batch: 22.0000 - size: 32.0000 - loss: 2.1028Get map.\n"
     ]
    },
    {
     "name": "stderr",
     "output_type": "stream",
     "text": [
      "100%|██████████| 178/178 [00:00<00:00, 204.85it/s]\n"
     ]
    },
    {
     "name": "stdout",
     "output_type": "stream",
     "text": [
      "Calculate Map.\n",
      "Path '.temp_map_out/results' already exists.\n",
      "83.27% = hand AP \t||\tscore_threhold=0.5 : F1=0.82 ; Recall=78.95% ; Precision=85.71%\n",
      "mAP = 83.27%\n",
      "Path '/home/zhangyouan/桌面/zya/NN_net/network/SSD/IMX_681_ssd_mobilenet_git/keras/detection/SSD_ipynb_transfer_callback_1227hand/output/20240228/loss_2024_02_28_20_32_26' already exists.\n",
      "Get map done.\n",
      "45/45 [==============================] - 4s 99ms/step - batch: 22.0000 - size: 32.0000 - loss: 2.1028 - val_loss: 2.7434 - lr: 9.6395e-04\n",
      "Epoch 71/500\n",
      "45/45 [==============================] - 3s 69ms/step - batch: 22.0000 - size: 32.0000 - loss: 2.0815 - val_loss: 2.7231 - lr: 9.6275e-04\n",
      "Epoch 72/500\n",
      "45/45 [==============================] - 3s 70ms/step - batch: 22.0000 - size: 32.0000 - loss: 2.0622 - val_loss: 2.7123 - lr: 9.6152e-04\n",
      "Epoch 73/500\n",
      "45/45 [==============================] - 3s 70ms/step - batch: 22.0000 - size: 32.0000 - loss: 2.0388 - val_loss: 2.6746 - lr: 9.6028e-04\n",
      "Epoch 74/500\n",
      "45/45 [==============================] - 3s 70ms/step - batch: 22.0000 - size: 32.0000 - loss: 2.0088 - val_loss: 2.7396 - lr: 9.5902e-04\n",
      "Epoch 75/500\n",
      "45/45 [==============================] - 3s 70ms/step - batch: 22.0000 - size: 32.0000 - loss: 2.0009 - val_loss: 2.7027 - lr: 9.5773e-04\n",
      "Epoch 76/500\n",
      "45/45 [==============================] - 3s 70ms/step - batch: 22.0000 - size: 32.0000 - loss: 1.9810 - val_loss: 2.6992 - lr: 9.5643e-04\n",
      "Epoch 77/500\n",
      "45/45 [==============================] - 3s 70ms/step - batch: 22.0000 - size: 32.0000 - loss: 1.9445 - val_loss: 2.7475 - lr: 9.5511e-04\n",
      "Epoch 78/500\n",
      "45/45 [==============================] - 3s 70ms/step - batch: 22.0000 - size: 32.0000 - loss: 1.9830 - val_loss: 2.7037 - lr: 9.5378e-04\n",
      "Epoch 79/500\n",
      "45/45 [==============================] - 3s 70ms/step - batch: 22.0000 - size: 32.0000 - loss: 1.9087 - val_loss: 2.6224 - lr: 9.5242e-04\n",
      "Epoch 80/500\n",
      "45/45 [==============================] - ETA: 0s - batch: 22.0000 - size: 32.0000 - loss: 1.9563Get map.\n"
     ]
    },
    {
     "name": "stderr",
     "output_type": "stream",
     "text": [
      "100%|██████████| 178/178 [00:00<00:00, 206.62it/s]\n"
     ]
    },
    {
     "name": "stdout",
     "output_type": "stream",
     "text": [
      "Calculate Map.\n",
      "Path '.temp_map_out/results' already exists.\n",
      "85.18% = hand AP \t||\tscore_threhold=0.5 : F1=0.83 ; Recall=79.47% ; Precision=87.28%\n",
      "mAP = 85.18%\n",
      "Path '/home/zhangyouan/桌面/zya/NN_net/network/SSD/IMX_681_ssd_mobilenet_git/keras/detection/SSD_ipynb_transfer_callback_1227hand/output/20240228/loss_2024_02_28_20_32_26' already exists.\n",
      "Get map done.\n",
      "45/45 [==============================] - 4s 96ms/step - batch: 22.0000 - size: 32.0000 - loss: 1.9563 - val_loss: 2.6572 - lr: 9.5104e-04\n",
      "Epoch 81/500\n",
      "45/45 [==============================] - 3s 70ms/step - batch: 22.0000 - size: 32.0000 - loss: 1.9164 - val_loss: 2.5811 - lr: 9.4965e-04\n",
      "Epoch 82/500\n",
      "45/45 [==============================] - 3s 70ms/step - batch: 22.0000 - size: 32.0000 - loss: 1.8685 - val_loss: 2.6384 - lr: 9.4824e-04\n",
      "Epoch 83/500\n",
      "45/45 [==============================] - 3s 70ms/step - batch: 22.0000 - size: 32.0000 - loss: 1.8719 - val_loss: 2.5864 - lr: 9.4681e-04\n",
      "Epoch 84/500\n",
      "45/45 [==============================] - 3s 70ms/step - batch: 22.0000 - size: 32.0000 - loss: 1.8440 - val_loss: 2.6054 - lr: 9.4536e-04\n",
      "Epoch 85/500\n",
      "45/45 [==============================] - 3s 70ms/step - batch: 22.0000 - size: 32.0000 - loss: 1.8022 - val_loss: 2.6041 - lr: 9.4389e-04\n",
      "Epoch 86/500\n",
      "45/45 [==============================] - 3s 70ms/step - batch: 22.0000 - size: 32.0000 - loss: 1.7892 - val_loss: 2.5771 - lr: 9.4240e-04\n",
      "Epoch 87/500\n",
      "45/45 [==============================] - 3s 70ms/step - batch: 22.0000 - size: 32.0000 - loss: 1.7748 - val_loss: 2.5545 - lr: 9.4090e-04\n",
      "Epoch 88/500\n",
      "45/45 [==============================] - 3s 70ms/step - batch: 22.0000 - size: 32.0000 - loss: 1.7983 - val_loss: 2.6101 - lr: 9.3938e-04\n",
      "Epoch 89/500\n",
      "45/45 [==============================] - 3s 70ms/step - batch: 22.0000 - size: 32.0000 - loss: 1.7572 - val_loss: 2.5750 - lr: 9.3784e-04\n",
      "Epoch 90/500\n",
      "45/45 [==============================] - ETA: 0s - batch: 22.0000 - size: 32.0000 - loss: 1.7293Get map.\n"
     ]
    },
    {
     "name": "stderr",
     "output_type": "stream",
     "text": [
      "100%|██████████| 178/178 [00:00<00:00, 204.38it/s]\n"
     ]
    },
    {
     "name": "stdout",
     "output_type": "stream",
     "text": [
      "Calculate Map.\n",
      "Path '.temp_map_out/results' already exists.\n",
      "85.37% = hand AP \t||\tscore_threhold=0.5 : F1=0.84 ; Recall=82.11% ; Precision=86.19%\n",
      "mAP = 85.37%\n",
      "Path '/home/zhangyouan/桌面/zya/NN_net/network/SSD/IMX_681_ssd_mobilenet_git/keras/detection/SSD_ipynb_transfer_callback_1227hand/output/20240228/loss_2024_02_28_20_32_26' already exists.\n",
      "Get map done.\n",
      "45/45 [==============================] - 4s 95ms/step - batch: 22.0000 - size: 32.0000 - loss: 1.7293 - val_loss: 2.5834 - lr: 9.3628e-04\n",
      "Epoch 91/500\n",
      "45/45 [==============================] - 3s 69ms/step - batch: 22.0000 - size: 32.0000 - loss: 1.7212 - val_loss: 2.5424 - lr: 9.3470e-04\n",
      "Epoch 92/500\n",
      "45/45 [==============================] - 3s 70ms/step - batch: 22.0000 - size: 32.0000 - loss: 1.7016 - val_loss: 2.6160 - lr: 9.3311e-04\n",
      "Epoch 93/500\n",
      "45/45 [==============================] - 3s 70ms/step - batch: 22.0000 - size: 32.0000 - loss: 1.6943 - val_loss: 2.5668 - lr: 9.3150e-04\n",
      "Epoch 94/500\n",
      "45/45 [==============================] - 3s 70ms/step - batch: 22.0000 - size: 32.0000 - loss: 1.6767 - val_loss: 2.5169 - lr: 9.2987e-04\n",
      "Epoch 95/500\n",
      "45/45 [==============================] - 3s 70ms/step - batch: 22.0000 - size: 32.0000 - loss: 1.6808 - val_loss: 2.5826 - lr: 9.2822e-04\n",
      "Epoch 96/500\n",
      "45/45 [==============================] - 3s 70ms/step - batch: 22.0000 - size: 32.0000 - loss: 1.6641 - val_loss: 2.5385 - lr: 9.2655e-04\n",
      "Epoch 97/500\n",
      "45/45 [==============================] - 3s 70ms/step - batch: 22.0000 - size: 32.0000 - loss: 1.6255 - val_loss: 2.5049 - lr: 9.2487e-04\n",
      "Epoch 98/500\n",
      "45/45 [==============================] - 3s 70ms/step - batch: 22.0000 - size: 32.0000 - loss: 1.6484 - val_loss: 2.5634 - lr: 9.2317e-04\n",
      "Epoch 99/500\n",
      "45/45 [==============================] - 3s 70ms/step - batch: 22.0000 - size: 32.0000 - loss: 1.6043 - val_loss: 2.5348 - lr: 9.2145e-04\n",
      "Epoch 100/500\n",
      "45/45 [==============================] - ETA: 0s - batch: 22.0000 - size: 32.0000 - loss: 1.5866Get map.\n"
     ]
    },
    {
     "name": "stderr",
     "output_type": "stream",
     "text": [
      "100%|██████████| 178/178 [00:00<00:00, 206.97it/s]\n"
     ]
    },
    {
     "name": "stdout",
     "output_type": "stream",
     "text": [
      "Calculate Map.\n",
      "Path '.temp_map_out/results' already exists.\n",
      "88.05% = hand AP \t||\tscore_threhold=0.5 : F1=0.86 ; Recall=83.16% ; Precision=89.27%\n",
      "mAP = 88.05%\n",
      "Path '/home/zhangyouan/桌面/zya/NN_net/network/SSD/IMX_681_ssd_mobilenet_git/keras/detection/SSD_ipynb_transfer_callback_1227hand/output/20240228/loss_2024_02_28_20_32_26' already exists.\n",
      "Get map done.\n",
      "45/45 [==============================] - 4s 95ms/step - batch: 22.0000 - size: 32.0000 - loss: 1.5866 - val_loss: 2.5324 - lr: 9.1972e-04\n",
      "Epoch 101/500\n",
      "45/45 [==============================] - 3s 69ms/step - batch: 22.0000 - size: 32.0000 - loss: 1.5898 - val_loss: 2.5566 - lr: 9.1796e-04\n",
      "Epoch 102/500\n",
      "45/45 [==============================] - 3s 70ms/step - batch: 22.0000 - size: 32.0000 - loss: 1.5900 - val_loss: 2.5011 - lr: 9.1619e-04\n",
      "Epoch 103/500\n",
      "45/45 [==============================] - 3s 70ms/step - batch: 22.0000 - size: 32.0000 - loss: 1.5449 - val_loss: 2.5293 - lr: 9.1441e-04\n",
      "Epoch 104/500\n",
      "45/45 [==============================] - 3s 72ms/step - batch: 22.0000 - size: 32.0000 - loss: 1.5369 - val_loss: 2.5290 - lr: 9.1260e-04\n",
      "Epoch 105/500\n",
      "45/45 [==============================] - 3s 70ms/step - batch: 22.0000 - size: 32.0000 - loss: 1.5218 - val_loss: 2.5021 - lr: 9.1078e-04\n",
      "Epoch 106/500\n",
      "45/45 [==============================] - 3s 70ms/step - batch: 22.0000 - size: 32.0000 - loss: 1.5349 - val_loss: 2.5007 - lr: 9.0895e-04\n",
      "Epoch 107/500\n",
      "45/45 [==============================] - 3s 70ms/step - batch: 22.0000 - size: 32.0000 - loss: 1.5051 - val_loss: 2.5210 - lr: 9.0709e-04\n",
      "Epoch 108/500\n",
      "45/45 [==============================] - 3s 70ms/step - batch: 22.0000 - size: 32.0000 - loss: 1.5221 - val_loss: 2.5543 - lr: 9.0522e-04\n",
      "Epoch 109/500\n",
      "45/45 [==============================] - 3s 70ms/step - batch: 22.0000 - size: 32.0000 - loss: 1.4853 - val_loss: 2.5399 - lr: 9.0333e-04\n",
      "Epoch 110/500\n",
      "45/45 [==============================] - ETA: 0s - batch: 22.0000 - size: 32.0000 - loss: 1.4621Get map.\n"
     ]
    },
    {
     "name": "stderr",
     "output_type": "stream",
     "text": [
      "100%|██████████| 178/178 [00:00<00:00, 209.93it/s]\n"
     ]
    },
    {
     "name": "stdout",
     "output_type": "stream",
     "text": [
      "Calculate Map.\n",
      "Path '.temp_map_out/results' already exists.\n",
      "86.86% = hand AP \t||\tscore_threhold=0.5 : F1=0.84 ; Recall=83.16% ; Precision=84.49%\n",
      "mAP = 86.86%\n",
      "Path '/home/zhangyouan/桌面/zya/NN_net/network/SSD/IMX_681_ssd_mobilenet_git/keras/detection/SSD_ipynb_transfer_callback_1227hand/output/20240228/loss_2024_02_28_20_32_26' already exists.\n",
      "Get map done.\n",
      "45/45 [==============================] - 4s 94ms/step - batch: 22.0000 - size: 32.0000 - loss: 1.4621 - val_loss: 2.5425 - lr: 9.0143e-04\n",
      "Epoch 111/500\n",
      "45/45 [==============================] - 3s 70ms/step - batch: 22.0000 - size: 32.0000 - loss: 1.4457 - val_loss: 2.4934 - lr: 8.9951e-04\n",
      "Epoch 112/500\n",
      "45/45 [==============================] - 3s 70ms/step - batch: 22.0000 - size: 32.0000 - loss: 1.4416 - val_loss: 2.5485 - lr: 8.9757e-04\n",
      "Epoch 113/500\n",
      "45/45 [==============================] - 3s 70ms/step - batch: 22.0000 - size: 32.0000 - loss: 1.4408 - val_loss: 2.5618 - lr: 8.9561e-04\n",
      "Epoch 114/500\n",
      "45/45 [==============================] - 3s 70ms/step - batch: 22.0000 - size: 32.0000 - loss: 1.4413 - val_loss: 2.5364 - lr: 8.9364e-04\n",
      "Epoch 115/500\n",
      "45/45 [==============================] - 3s 70ms/step - batch: 22.0000 - size: 32.0000 - loss: 1.4230 - val_loss: 2.5733 - lr: 8.9166e-04\n",
      "Epoch 116/500\n",
      "45/45 [==============================] - 3s 70ms/step - batch: 22.0000 - size: 32.0000 - loss: 1.4175 - val_loss: 2.5549 - lr: 8.8966e-04\n",
      "Epoch 117/500\n",
      "45/45 [==============================] - 3s 70ms/step - batch: 22.0000 - size: 32.0000 - loss: 1.4140 - val_loss: 2.6071 - lr: 8.8764e-04\n",
      "Epoch 118/500\n",
      "45/45 [==============================] - 3s 70ms/step - batch: 22.0000 - size: 32.0000 - loss: 1.4078 - val_loss: 2.5692 - lr: 8.8560e-04\n",
      "Epoch 119/500\n",
      "45/45 [==============================] - 3s 70ms/step - batch: 22.0000 - size: 32.0000 - loss: 1.4200 - val_loss: 2.5712 - lr: 8.8355e-04\n",
      "Epoch 120/500\n",
      "45/45 [==============================] - ETA: 0s - batch: 22.0000 - size: 32.0000 - loss: 1.3781Get map.\n"
     ]
    },
    {
     "name": "stderr",
     "output_type": "stream",
     "text": [
      "100%|██████████| 178/178 [00:00<00:00, 208.66it/s]\n"
     ]
    },
    {
     "name": "stdout",
     "output_type": "stream",
     "text": [
      "Calculate Map.\n",
      "Path '.temp_map_out/results' already exists.\n",
      "85.46% = hand AP \t||\tscore_threhold=0.5 : F1=0.84 ; Recall=83.16% ; Precision=84.95%\n",
      "mAP = 85.46%\n",
      "Path '/home/zhangyouan/桌面/zya/NN_net/network/SSD/IMX_681_ssd_mobilenet_git/keras/detection/SSD_ipynb_transfer_callback_1227hand/output/20240228/loss_2024_02_28_20_32_26' already exists.\n",
      "Get map done.\n",
      "45/45 [==============================] - 4s 96ms/step - batch: 22.0000 - size: 32.0000 - loss: 1.3781 - val_loss: 2.5432 - lr: 8.8149e-04\n",
      "Epoch 121/500\n",
      "45/45 [==============================] - 3s 70ms/step - batch: 22.0000 - size: 32.0000 - loss: 1.3485 - val_loss: 2.5655 - lr: 8.7940e-04\n"
     ]
    },
    {
     "name": "stderr",
     "output_type": "stream",
     "text": [
      "/home/zhangyouan/anaconda3/envs/stc/lib/python3.10/site-packages/keras/src/engine/training.py:3000: UserWarning: You are saving your model as an HDF5 file via `model.save()`. This file format is considered legacy. We recommend using instead the native Keras format, e.g. `model.save('my_model.keras')`.\n",
      "  saving_api.save_model(\n"
     ]
    },
    {
     "name": "stdout",
     "output_type": "stream",
     "text": [
      "INFO:tensorflow:Assets written to: /home/zhangyouan/桌面/zya/NN_net/network/SSD/IMX_681_ssd_mobilenet_git/keras/detection/SSD_ipynb_transfer_callback_1227hand/output/20240228/hand_detection_20240228.pb/assets\n"
     ]
    },
    {
     "name": "stderr",
     "output_type": "stream",
     "text": [
      "INFO:tensorflow:Assets written to: /home/zhangyouan/桌面/zya/NN_net/network/SSD/IMX_681_ssd_mobilenet_git/keras/detection/SSD_ipynb_transfer_callback_1227hand/output/20240228/hand_detection_20240228.pb/assets\n"
     ]
    }
   ],
   "source": [
    "from keras.regularizers import l2\n",
    "\n",
    "if __name__ == \"__main__\":\n",
    "    \n",
    "    # 设置训练参数\n",
    "    Epoch = 500  # 训练100 epochs\n",
    "    lr = 1e-3  # Adam优化器，所以较小的学习率\n",
    "    optimizer_type = \"Adam\"\n",
    "    momentum = 0.937\n",
    "    batch_size = 32\n",
    "    imgcolor = 'grey'  # imgcolor选“rgb” or “grey”, 则处理图像变单通道或者三通道\n",
    "    tmp_dir = str(datetime.datetime.strftime(datetime.datetime.now(), '%Y%m%d'))\n",
    "    save_dir = \"/home/zhangyouan/桌面/zya/NN_net/network/SSD/IMX_681_ssd_mobilenet_git/keras/detection/SSD_ipynb_transfer_callback_1227hand/output/20240228\"\n",
    "        \n",
    "    # 设置SSD参数\n",
    "    cls_name_path = \"./model_data/voc_classes.txt\"  # 导入目标检测类别；\n",
    "    input_shape = [120, 160]  # 输入的尺寸大小\n",
    "    anchor_size = [32, 59, 86, 113, 141, 168]  # 用于设定先验框的大小，根据公式计算而来；如果要检测小物体，修改浅层先验框的大小，越小的话，识别的物体越小；    \n",
    "    train_annotation_path = r'/home/zhangyouan/桌面/zya/dataset/681/hand/2007_train.txt'  # 训练图片路径和标签\n",
    "    val_annotation_path = r'/home/zhangyouan/桌面/zya/dataset/681/hand/2007_test.txt'  # 验证图片路径和标签\n",
    "        \n",
    "    # 1. 获取classes和anchor\n",
    "    class_names, num_cls = get_classes(cls_name_path)\n",
    "    num_cls += 1  # 增加一个背景类别\n",
    "    print(\"class_names:\", class_names, \"num_classes:\", num_cls)\n",
    "    \n",
    "    # 2. 获取anchors, 输出的是归一化之后的anchors\n",
    "    anchor = get_anchors(input_shape, anchor_size)\n",
    "    print(\"type:\",type(anchor), \"shape:\", np.shape(anchor))\n",
    "\n",
    "    # 3. 模型编译\n",
    "    K.clear_session()\n",
    "    model_path = \"\"\n",
    "    # model_path = \"./output/20230804_3/good_detection_test_callback.h5\"\n",
    "    model = SSD300((input_shape[0], input_shape[1], 1), num_cls)\n",
    "    # model.save(\"template.h5\")\n",
    "    # model.summary()\n",
    "    if model_path != \"\":\n",
    "        model.load_weights(model_path, by_name = True, skip_mismatch=True)\n",
    "       \n",
    "    # 4. 优化器\n",
    "    # optimizer = Adam(lr = lr, beta_1=momentum)\n",
    "    # optimizer = Adam(lr=0.001, beta_1=0.9, beta_2=0.999, epsilon=1e-08, decay=0.0)\n",
    "    from tensorflow.keras.optimizers import legacy\n",
    "    optimizer = legacy.Adam(learning_rate=0.001, beta_1=0.9, beta_2=0.999, epsilon=1e-07, decay=0.0)\n",
    "    \n",
    "    # 5. 导入数据集\n",
    "    with open(train_annotation_path, encoding='utf-8') as f:\n",
    "        train_lines = f.readlines()\n",
    "    with open(val_annotation_path, encoding='utf-8') as f:\n",
    "        val_lines = f.readlines()\n",
    "    num_train = len(train_lines)\n",
    "    num_val = len(val_lines)\n",
    "    epoch_step = num_train // batch_size\n",
    "    epoch_step_val = num_val // batch_size\n",
    "    train_dataloader = SSDDatasets(train_lines, input_shape, anchor, batch_size, num_cls, train=False, imgcolor=imgcolor)\n",
    "    val_dataloader = SSDDatasets(val_lines, input_shape, anchor, batch_size, num_cls, train=False, imgcolor=imgcolor)\n",
    "    print('Train on {} samples, val on {} samples, with batch size {}.'.format(num_train, num_val, batch_size))\n",
    "    \n",
    "    # 6. 编译模型\n",
    "    # losses = {'mbox_loc_final':MultiboxLoss(num_cls, neg_pos_ratio=3.0).compute_loc_loss,\n",
    "            #   'cls_conf_final':MultiboxLoss(num_cls, neg_pos_ratio=3.0).compute_conf_loss}\n",
    "    # losses2 = [MultiboxLoss(num_cls, neg_pos_ratio=3.0).compute_loc_loss,MultiboxLoss(num_cls, neg_pos_ratio=3.0).compute_conf_loss]\n",
    "    model.compile(optimizer=optimizer, loss = MultiboxLoss(num_cls, neg_pos_ratio=3.0).compute_loss)\n",
    "    \n",
    "    # 7. 设计learning rate;\n",
    "    total_steps = int(Epoch * num_train / batch_size)\n",
    "    # 7.1 compute the number of warmup batches.\n",
    "    warmup_epochs = 10\n",
    "    warmup_steps = int(warmup_epochs * num_train / batch_size)\n",
    "    # 7.2 create the learning rate scheduler\n",
    "    warm_up_lr = WarmUpCosineDecayScheduler(learning_rate_base=lr,\n",
    "                                            total_steps=total_steps,\n",
    "                                            warmup_learning_rate=4e-06,\n",
    "                                            warmup_steps=warmup_steps,\n",
    "                                            hold_base_rate_steps=20)\n",
    "    time_str = datetime.datetime.strftime(datetime.datetime.now(), '%Y_%m_%d_%H_%M_%S')\n",
    "    log_dir = os.path.join(save_dir, \"loss_\" + str(time_str))\n",
    "    \n",
    "    # # 8. 精度评价: pending --> 还没构建；\n",
    "    eval_flag = True\n",
    "    eval_period = 10\n",
    "    eval_callback = EvalCallback(model, input_shape, anchor, class_names, num_cls, val_lines, log_dir, eval_flag=eval_flag, period = eval_period)\n",
    "    show_config(\n",
    "        classes_path=cls_name_path, model_path=model_path, input_shape=input_shape, \\\n",
    "        Epoch=Epoch, batch_size=batch_size, \\\n",
    "        lr=lr, optimizer_type=optimizer_type, momentum=momentum, \\\n",
    "        num_train=num_train, num_val=num_val\n",
    "    )\n",
    "    \n",
    "    callbacks_list = [\n",
    "        #早停回调，\n",
    "        keras.callbacks.EarlyStopping(monitor='val_loss', patience=10),\n",
    "        # keras.callbacks.EarlyStopping()\n",
    "        warm_up_lr, # 学习率的调整\n",
    "        # 学习率调整方法2. \n",
    "        keras.callbacks.ReduceLROnPlateau(monitor='val_loss', factor=0.1, patience=2, verbose=0, mode='auto',min_lr=0.000001),\n",
    "        # Epoch结束回调LearningRateSchrduler(schrduler, verbose=1),\n",
    "        keras.callbacks.TensorBoard(log_dir=os.path.join(save_dir, 'unetlogs'), update_freq=1000), #参数分别为日志存储路径和每多少step进行一次记录，此处不应取太小，会拖慢训练过程\n",
    "        eval_callback,  # 精度评价；\n",
    "    ]\n",
    "    # 8. 开始训练；\n",
    "    history = model.fit_generator(\n",
    "        generator=train_dataloader,\n",
    "        steps_per_epoch=epoch_step,\n",
    "        validation_data=val_dataloader,\n",
    "        validation_steps=epoch_step_val,\n",
    "        epochs=Epoch,\n",
    "        # callbacks = [warm_up_lr]\n",
    "        callbacks = callbacks_list   \n",
    "    )  # 使用tensorboard --logdir=\"\" 调用查看loss\n",
    "    \n",
    "    record_log(history, filename = os.path.join(save_dir, \"unetlogs/log.txt\"))\n",
    "    model.save(os.path.join(save_dir, \"hand_detection_20240228.h5\"))\n",
    "    model.save(os.path.join(save_dir, \"hand_detection_20240228.pb\"))"
   ]
  },
  {
   "cell_type": "code",
   "execution_count": 9,
   "metadata": {},
   "outputs": [
    {
     "name": "stdout",
     "output_type": "stream",
     "text": [
      "no accuracy, only loss.\n"
     ]
    }
   ],
   "source": [
    "from log_record import record_log, read_log\n",
    "from utils import visual_train\n",
    "\n",
    "history = read_log(\"/home/zhangyouan/桌面/zya/NN_net/network/SSD/IMX_681_ssd_mobilenet_git/keras/detection/SSD_ipynb_transfer_callback/output/20230819/unetlogs/log.txt\")\n",
    "visual_train(history)"
   ]
  },
  {
   "cell_type": "code",
   "execution_count": 12,
   "metadata": {},
   "outputs": [
    {
     "name": "stdout",
     "output_type": "stream",
     "text": [
      "no accuracy, only loss.\n"
     ]
    }
   ],
   "source": [
    "from log_record import record_log, read_log\n",
    "from utils import visual_train\n",
    "\n",
    "history = read_log(\"/home/zhangyouan/桌面/zya/NN_net/network/SSD/IMX_681_ssd_mobilenet_git/keras/detection/SSD_ipynb_transfer_callback_0919_cola/output/20231205/unetlogs/log.txt\")\n",
    "visual_train(history)"
   ]
  }
 ],
 "metadata": {
  "kernelspec": {
   "display_name": "Python 3.10.4 ('stc': conda)",
   "language": "python",
   "name": "python3"
  },
  "language_info": {
   "codemirror_mode": {
    "name": "ipython",
    "version": 3
   },
   "file_extension": ".py",
   "mimetype": "text/x-python",
   "name": "python",
   "nbconvert_exporter": "python",
   "pygments_lexer": "ipython3",
   "version": "3.10.4"
  },
  "orig_nbformat": 4,
  "vscode": {
   "interpreter": {
    "hash": "f6a050d9f10360465fbc02ae273ccd06cb1948ad5cd96cc14a3b3a9694a266bf"
   }
  }
 },
 "nbformat": 4,
 "nbformat_minor": 2
}
