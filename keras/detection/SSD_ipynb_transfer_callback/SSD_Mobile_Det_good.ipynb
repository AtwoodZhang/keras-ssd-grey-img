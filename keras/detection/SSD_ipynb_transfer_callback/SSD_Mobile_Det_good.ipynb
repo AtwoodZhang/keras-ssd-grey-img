{
 "cells": [
  {
   "cell_type": "code",
   "execution_count": 1,
   "metadata": {},
   "outputs": [
    {
     "name": "stderr",
     "output_type": "stream",
     "text": [
      "2023-08-10 05:20:09.604922: I tensorflow/core/platform/cpu_feature_guard.cc:193] This TensorFlow binary is optimized with oneAPI Deep Neural Network Library (oneDNN) to use the following CPU instructions in performance-critical operations:  AVX2 FMA\n",
      "To enable them in other operations, rebuild TensorFlow with the appropriate compiler flags.\n",
      "2023-08-10 05:20:09.706197: W tensorflow/compiler/xla/stream_executor/platform/default/dso_loader.cc:64] Could not load dynamic library 'libcudart.so.11.0'; dlerror: libcudart.so.11.0: cannot open shared object file: No such file or directory\n",
      "2023-08-10 05:20:09.706219: I tensorflow/compiler/xla/stream_executor/cuda/cudart_stub.cc:29] Ignore above cudart dlerror if you do not have a GPU set up on your machine.\n",
      "2023-08-10 05:20:10.188770: W tensorflow/compiler/xla/stream_executor/platform/default/dso_loader.cc:64] Could not load dynamic library 'libnvinfer.so.7'; dlerror: libnvinfer.so.7: cannot open shared object file: No such file or directory\n",
      "2023-08-10 05:20:10.188830: W tensorflow/compiler/xla/stream_executor/platform/default/dso_loader.cc:64] Could not load dynamic library 'libnvinfer_plugin.so.7'; dlerror: libnvinfer_plugin.so.7: cannot open shared object file: No such file or directory\n",
      "2023-08-10 05:20:10.188836: W tensorflow/compiler/tf2tensorrt/utils/py_utils.cc:38] TF-TRT Warning: Cannot dlopen some TensorRT libraries. If you would like to use Nvidia GPU with TensorRT, please make sure the missing libraries mentioned above are installed properly.\n"
     ]
    }
   ],
   "source": [
    "import sys\n",
    "sys.path.append('./')\n",
    "import numpy as np\n",
    "import os\n",
    "import datetime\n",
    "import keras.backend as K\n",
    "import tensorflow as tf\n",
    "from keras.layers import Conv2D, Dense, DepthwiseConv2D,add\n",
    "from keras.optimizers import SGD, Adam\n",
    "import numpy as np\n",
    "import math\n",
    "import keras\n",
    "from PIL import Image\n",
    "from random import shuffle\n",
    "from keras import layers as KL\n",
    "from Anchors import get_anchors\n",
    "from Datasets import SSDDatasets\n",
    "from learning_rate import WarmUpCosineDecayScheduler\n",
    "from loss import MultiboxLoss\n",
    "from Models import SSD300\n",
    "from utils import get_classes, show_config\n",
    "from log_record import record_log, read_log\n",
    "from keras.callbacks import (EarlyStopping, LearningRateScheduler,\n",
    "                             ModelCheckpoint, TensorBoard)\n",
    "from callbacks import (ExponentDecayScheduler, LossHistory,\n",
    "                       ParallelModelCheckpoint, EvalCallback)\n"
   ]
  },
  {
   "cell_type": "code",
   "execution_count": 4,
   "metadata": {},
   "outputs": [
    {
     "name": "stdout",
     "output_type": "stream",
     "text": [
      "class_names: ['good'] num_classes: 2\n",
      "type: <class 'numpy.ndarray'> shape: (1242, 4)\n"
     ]
    },
    {
     "name": "stderr",
     "output_type": "stream",
     "text": [
      "/home/zhangyouan/anaconda3/envs/stc/lib/python3.10/site-packages/keras/optimizers/optimizer_v2/adam.py:117: UserWarning: The `lr` argument is deprecated, use `learning_rate` instead.\n",
      "  super().__init__(name, **kwargs)\n",
      "2023-08-10 05:23:31.106259: W tensorflow/c/c_api.cc:291] Operation '{name:'Conv2D_layer24/kernel/Assign' id:991 op device:{requested: '', assigned: ''} def:{{{node Conv2D_layer24/kernel/Assign}} = AssignVariableOp[_has_manual_control_dependencies=true, dtype=DT_FLOAT, validate_shape=false](Conv2D_layer24/kernel, Conv2D_layer24/kernel/Initializer/stateless_random_uniform)}}' was changed by setting attribute after it was run by a session. This mutation will have no effect, and will trigger an error in the future. Either don't modify nodes after running them or create a new session.\n"
     ]
    },
    {
     "name": "stdout",
     "output_type": "stream",
     "text": [
      "Train on 346 samples, val on 346 samples, with batch size 32.\n",
      "Configurations:\n",
      "----------------------------------------------------------------------\n",
      "|                     keys |                                   values|\n",
      "----------------------------------------------------------------------\n",
      "|             classes_path |             ./model_data/voc_classes.txt|\n",
      "|               model_path |                                         |\n",
      "|              input_shape |                               [120, 160]|\n",
      "|                    Epoch |                                      500|\n",
      "|               batch_size |                                       32|\n",
      "|                       lr |                                    0.001|\n",
      "|           optimizer_type |                                     Adam|\n",
      "|                 momentum |                                    0.937|\n",
      "|                num_train |                                      346|\n",
      "|                  num_val |                                      346|\n",
      "----------------------------------------------------------------------\n",
      "Epoch 1/500\n"
     ]
    },
    {
     "name": "stderr",
     "output_type": "stream",
     "text": [
      "/tmp/ipykernel_10947/2693131412.py:98: UserWarning: `model.fit_generator` is deprecated and will be removed in a future version. Please use `Model.fit`, which supports generators.\n",
      "  history = model.fit_generator(\n",
      "2023-08-10 05:23:31.358378: W tensorflow/c/c_api.cc:291] Operation '{name:'beta_1/Assign' id:1911 op device:{requested: '', assigned: ''} def:{{{node beta_1/Assign}} = AssignVariableOp[_has_manual_control_dependencies=true, dtype=DT_FLOAT, validate_shape=false](beta_1, beta_1/Initializer/initial_value)}}' was changed by setting attribute after it was run by a session. This mutation will have no effect, and will trigger an error in the future. Either don't modify nodes after running them or create a new session.\n",
      "2023-08-10 05:23:32.420281: W tensorflow/c/c_api.cc:291] Operation '{name:'loss/AddN' id:1780 op device:{requested: '', assigned: ''} def:{{{node loss/AddN}} = AddN[N=2, T=DT_FLOAT, _has_manual_control_dependencies=true](loss/mul, loss/Conv2D_layer13/kernel/Regularizer/mul)}}' was changed by setting attribute after it was run by a session. This mutation will have no effect, and will trigger an error in the future. Either don't modify nodes after running them or create a new session.\n",
      "2023-08-10 05:23:32.556983: W tensorflow/c/c_api.cc:291] Operation '{name:'training/Adam/Conv2D_conf_DD4_2/bias/v/Assign' id:3893 op device:{requested: '', assigned: ''} def:{{{node training/Adam/Conv2D_conf_DD4_2/bias/v/Assign}} = AssignVariableOp[_has_manual_control_dependencies=true, dtype=DT_FLOAT, validate_shape=false](training/Adam/Conv2D_conf_DD4_2/bias/v, training/Adam/Conv2D_conf_DD4_2/bias/v/Initializer/zeros)}}' was changed by setting attribute after it was run by a session. This mutation will have no effect, and will trigger an error in the future. Either don't modify nodes after running them or create a new session.\n"
     ]
    },
    {
     "name": "stdout",
     "output_type": "stream",
     "text": [
      " 3/10 [========>.....................] - ETA: 0s - batch: 1.0000 - size: 32.0000 - loss: 7.8119    "
     ]
    },
    {
     "name": "stderr",
     "output_type": "stream",
     "text": [
      "2023-08-10 05:23:33.148259: I tensorflow/core/profiler/lib/profiler_session.cc:101] Profiler session initializing.\n",
      "2023-08-10 05:23:33.148283: I tensorflow/core/profiler/lib/profiler_session.cc:116] Profiler session started.\n",
      "2023-08-10 05:23:33.220545: I tensorflow/core/profiler/lib/profiler_session.cc:67] Profiler session collecting data.\n",
      "2023-08-10 05:23:33.222548: I tensorflow/core/profiler/lib/profiler_session.cc:128] Profiler session tear down.\n",
      "2023-08-10 05:23:33.222669: I tensorflow/core/profiler/rpc/client/save_profile.cc:164] Collecting XSpace to repository: /home/zhangyouan/桌面/zya/NN_net/network/SSD/IMX_681_ssd_mobilenet_git/keras/detection/SSD_ipynb_transfer_callback/output/20230810/unetlogs/plugins/profile/2023_08_10_05_23_33/SSSLXSRVLS001.xplane.pb\n"
     ]
    },
    {
     "name": "stdout",
     "output_type": "stream",
     "text": [
      "10/10 [==============================] - ETA: 0s - batch: 4.5000 - size: 32.0000 - loss: 7.6528"
     ]
    },
    {
     "name": "stderr",
     "output_type": "stream",
     "text": [
      "/home/zhangyouan/anaconda3/envs/stc/lib/python3.10/site-packages/keras/engine/training_v1.py:2333: UserWarning: `Model.state_updates` will be removed in a future version. This property should not be used in TensorFlow 2.0, as `updates` are applied automatically.\n",
      "  updates = self.state_updates\n",
      "2023-08-10 05:23:33.836552: W tensorflow/c/c_api.cc:291] Operation '{name:'loss/AddN' id:1780 op device:{requested: '', assigned: ''} def:{{{node loss/AddN}} = AddN[N=2, T=DT_FLOAT, _has_manual_control_dependencies=true](loss/mul, loss/Conv2D_layer13/kernel/Regularizer/mul)}}' was changed by setting attribute after it was run by a session. This mutation will have no effect, and will trigger an error in the future. Either don't modify nodes after running them or create a new session.\n"
     ]
    },
    {
     "name": "stdout",
     "output_type": "stream",
     "text": [
      "10/10 [==============================] - 3s 130ms/step - batch: 4.5000 - size: 32.0000 - loss: 7.6528 - val_loss: 7.5781\n",
      "Epoch 2/500\n",
      "10/10 [==============================] - 1s 112ms/step - batch: 4.5000 - size: 32.0000 - loss: 7.6055 - val_loss: 7.5637\n",
      "Epoch 3/500\n",
      "10/10 [==============================] - 1s 112ms/step - batch: 4.5000 - size: 32.0000 - loss: 7.6600 - val_loss: 7.5397\n",
      "Epoch 4/500\n",
      "10/10 [==============================] - 1s 113ms/step - batch: 4.5000 - size: 32.0000 - loss: 7.5271 - val_loss: 7.5052\n",
      "Epoch 5/500\n",
      "10/10 [==============================] - 1s 113ms/step - batch: 4.5000 - size: 32.0000 - loss: 7.5554 - val_loss: 7.4589\n",
      "Epoch 6/500\n",
      "10/10 [==============================] - 1s 115ms/step - batch: 4.5000 - size: 32.0000 - loss: 7.4892 - val_loss: 7.3943\n",
      "Epoch 7/500\n",
      "10/10 [==============================] - 1s 112ms/step - batch: 4.5000 - size: 32.0000 - loss: 7.3697 - val_loss: 7.2831\n",
      "Epoch 8/500\n",
      "10/10 [==============================] - 1s 123ms/step - batch: 4.5000 - size: 32.0000 - loss: 7.2191 - val_loss: 6.9356\n",
      "Epoch 9/500\n",
      "10/10 [==============================] - 1s 134ms/step - batch: 4.5000 - size: 32.0000 - loss: 6.7084 - val_loss: 6.5514\n",
      "Epoch 10/500\n",
      "10/10 [==============================] - ETA: 0s - batch: 4.5000 - size: 32.0000 - loss: 6.4218Get map.\n"
     ]
    },
    {
     "name": "stderr",
     "output_type": "stream",
     "text": [
      "  0%|          | 0/346 [00:00<?, ?it/s]/home/zhangyouan/anaconda3/envs/stc/lib/python3.10/site-packages/keras/engine/training_v1.py:2357: UserWarning: `Model.state_updates` will be removed in a future version. This property should not be used in TensorFlow 2.0, as `updates` are applied automatically.\n",
      "  updates=self.state_updates,\n",
      "2023-08-10 05:23:45.295356: W tensorflow/c/c_api.cc:291] Operation '{name:'predictions/concat' id:1603 op device:{requested: '', assigned: ''} def:{{{node predictions/concat}} = ConcatV2[N=2, T=DT_FLOAT, Tidx=DT_INT32, _has_manual_control_dependencies=true](mbox_loc_final/Reshape, cls_conf_final/Softmax, predictions/concat/axis)}}' was changed by setting attribute after it was run by a session. This mutation will have no effect, and will trigger an error in the future. Either don't modify nodes after running them or create a new session.\n",
      "100%|██████████| 346/346 [00:03<00:00, 97.34it/s] \n"
     ]
    },
    {
     "name": "stdout",
     "output_type": "stream",
     "text": [
      "Calculate Map.\n",
      "Path '.temp_map_out/results' already exists.\n",
      "1.31% = good AP \t||\tscore_threhold=0.5 : F1=0.00 ; Recall=0.00% ; Precision=0.00%\n",
      "mAP = 1.31%\n",
      "Path '/home/zhangyouan/桌面/zya/NN_net/network/SSD/IMX_681_ssd_mobilenet_git/keras/detection/SSD_ipynb_transfer_callback/output/20230810/loss_2023_08_10_05_23_31' created successfully.\n",
      "Get map done.\n",
      "10/10 [==============================] - 7s 698ms/step - batch: 4.5000 - size: 32.0000 - loss: 6.4218 - val_loss: 6.3141\n",
      "Epoch 11/500\n",
      "10/10 [==============================] - 1s 130ms/step - batch: 4.5000 - size: 32.0000 - loss: 6.2195 - val_loss: 6.1612\n",
      "Epoch 12/500\n",
      "10/10 [==============================] - 1s 107ms/step - batch: 4.5000 - size: 32.0000 - loss: 6.0685 - val_loss: 6.0276\n",
      "Epoch 13/500\n",
      "10/10 [==============================] - 1s 118ms/step - batch: 4.5000 - size: 32.0000 - loss: 5.9625 - val_loss: 5.9147\n",
      "Epoch 14/500\n",
      "10/10 [==============================] - 1s 118ms/step - batch: 4.5000 - size: 32.0000 - loss: 5.8276 - val_loss: 5.7794\n",
      "Epoch 15/500\n",
      "10/10 [==============================] - 1s 115ms/step - batch: 4.5000 - size: 32.0000 - loss: 5.7083 - val_loss: 5.6533\n",
      "Epoch 16/500\n",
      "10/10 [==============================] - 1s 111ms/step - batch: 4.5000 - size: 32.0000 - loss: 5.5789 - val_loss: 5.5321\n",
      "Epoch 17/500\n",
      "10/10 [==============================] - 1s 135ms/step - batch: 4.5000 - size: 32.0000 - loss: 5.4671 - val_loss: 5.4217\n",
      "Epoch 18/500\n",
      "10/10 [==============================] - 1s 120ms/step - batch: 4.5000 - size: 32.0000 - loss: 5.3603 - val_loss: 5.3485\n",
      "Epoch 19/500\n",
      "10/10 [==============================] - 1s 122ms/step - batch: 4.5000 - size: 32.0000 - loss: 5.3616 - val_loss: 5.2847\n",
      "Epoch 20/500\n",
      "10/10 [==============================] - ETA: 0s - batch: 4.5000 - size: 32.0000 - loss: 5.2514Get map.\n"
     ]
    },
    {
     "name": "stderr",
     "output_type": "stream",
     "text": [
      "100%|██████████| 346/346 [00:03<00:00, 91.74it/s] \n"
     ]
    },
    {
     "name": "stdout",
     "output_type": "stream",
     "text": [
      "Calculate Map.\n",
      "Path '.temp_map_out/results' already exists.\n",
      "3.13% = good AP \t||\tscore_threhold=0.5 : F1=0.01 ; Recall=0.29% ; Precision=100.00%\n",
      "mAP = 3.13%\n",
      "Path '/home/zhangyouan/桌面/zya/NN_net/network/SSD/IMX_681_ssd_mobilenet_git/keras/detection/SSD_ipynb_transfer_callback/output/20230810/loss_2023_08_10_05_23_31' already exists.\n",
      "Get map done.\n",
      "10/10 [==============================] - 7s 703ms/step - batch: 4.5000 - size: 32.0000 - loss: 5.2514 - val_loss: 5.2608\n",
      "Epoch 21/500\n",
      "10/10 [==============================] - 1s 131ms/step - batch: 4.5000 - size: 32.0000 - loss: 5.2694 - val_loss: 5.2161\n",
      "Epoch 22/500\n",
      "10/10 [==============================] - 2s 156ms/step - batch: 4.5000 - size: 32.0000 - loss: 5.2228 - val_loss: 5.1886\n",
      "Epoch 23/500\n",
      "10/10 [==============================] - 1s 127ms/step - batch: 4.5000 - size: 32.0000 - loss: 5.1921 - val_loss: 5.1719\n",
      "Epoch 24/500\n",
      "10/10 [==============================] - 1s 110ms/step - batch: 4.5000 - size: 32.0000 - loss: 5.1810 - val_loss: 5.1572\n",
      "Epoch 25/500\n",
      "10/10 [==============================] - 1s 113ms/step - batch: 4.5000 - size: 32.0000 - loss: 5.1868 - val_loss: 5.1415\n",
      "Epoch 26/500\n",
      "10/10 [==============================] - 1s 112ms/step - batch: 4.5000 - size: 32.0000 - loss: 5.1362 - val_loss: 5.1202\n",
      "Epoch 27/500\n",
      "10/10 [==============================] - 1s 114ms/step - batch: 4.5000 - size: 32.0000 - loss: 5.1144 - val_loss: 5.1003\n",
      "Epoch 28/500\n",
      "10/10 [==============================] - 1s 111ms/step - batch: 4.5000 - size: 32.0000 - loss: 5.1042 - val_loss: 5.0818\n",
      "Epoch 29/500\n",
      "10/10 [==============================] - 1s 111ms/step - batch: 4.5000 - size: 32.0000 - loss: 5.0970 - val_loss: 5.0728\n",
      "Epoch 30/500\n",
      "10/10 [==============================] - ETA: 0s - batch: 4.5000 - size: 32.0000 - loss: 5.0691Get map.\n"
     ]
    },
    {
     "name": "stderr",
     "output_type": "stream",
     "text": [
      "100%|██████████| 346/346 [00:03<00:00, 108.10it/s]\n"
     ]
    },
    {
     "name": "stdout",
     "output_type": "stream",
     "text": [
      "Calculate Map.\n",
      "Path '.temp_map_out/results' already exists.\n",
      "4.50% = good AP \t||\tscore_threhold=0.5 : F1=0.00 ; Recall=0.00% ; Precision=0.00%\n",
      "mAP = 4.50%\n",
      "Path '/home/zhangyouan/桌面/zya/NN_net/network/SSD/IMX_681_ssd_mobilenet_git/keras/detection/SSD_ipynb_transfer_callback/output/20230810/loss_2023_08_10_05_23_31' already exists.\n",
      "Get map done.\n",
      "10/10 [==============================] - 6s 611ms/step - batch: 4.5000 - size: 32.0000 - loss: 5.0691 - val_loss: 5.0499\n",
      "Epoch 31/500\n",
      "10/10 [==============================] - 1s 120ms/step - batch: 4.5000 - size: 32.0000 - loss: 5.0644 - val_loss: 5.0324\n",
      "Epoch 32/500\n",
      "10/10 [==============================] - 1s 137ms/step - batch: 4.5000 - size: 32.0000 - loss: 5.0491 - val_loss: 5.0240\n",
      "Epoch 33/500\n",
      "10/10 [==============================] - 1s 133ms/step - batch: 4.5000 - size: 32.0000 - loss: 5.0480 - val_loss: 5.0112\n",
      "Epoch 34/500\n",
      "10/10 [==============================] - 1s 108ms/step - batch: 4.5000 - size: 32.0000 - loss: 5.0026 - val_loss: 4.9911\n",
      "Epoch 35/500\n",
      "10/10 [==============================] - 1s 114ms/step - batch: 4.5000 - size: 32.0000 - loss: 5.0385 - val_loss: 4.9936\n",
      "Epoch 36/500\n",
      "10/10 [==============================] - 1s 111ms/step - batch: 4.5000 - size: 32.0000 - loss: 4.9746 - val_loss: 4.9690\n",
      "Epoch 37/500\n",
      "10/10 [==============================] - 1s 112ms/step - batch: 4.5000 - size: 32.0000 - loss: 4.9451 - val_loss: 4.9517\n",
      "Epoch 38/500\n",
      "10/10 [==============================] - 1s 114ms/step - batch: 4.5000 - size: 32.0000 - loss: 4.9843 - val_loss: 4.9480\n",
      "Epoch 39/500\n",
      "10/10 [==============================] - 1s 128ms/step - batch: 4.5000 - size: 32.0000 - loss: 4.9593 - val_loss: 4.9291\n",
      "Epoch 40/500\n",
      "10/10 [==============================] - ETA: 0s - batch: 4.5000 - size: 32.0000 - loss: 4.9821Get map.\n"
     ]
    },
    {
     "name": "stderr",
     "output_type": "stream",
     "text": [
      "100%|██████████| 346/346 [00:03<00:00, 104.74it/s]\n"
     ]
    },
    {
     "name": "stdout",
     "output_type": "stream",
     "text": [
      "Calculate Map.\n",
      "Path '.temp_map_out/results' already exists.\n",
      "23.73% = good AP \t||\tscore_threhold=0.5 : F1=0.01 ; Recall=0.29% ; Precision=100.00%\n",
      "mAP = 23.73%\n",
      "Path '/home/zhangyouan/桌面/zya/NN_net/network/SSD/IMX_681_ssd_mobilenet_git/keras/detection/SSD_ipynb_transfer_callback/output/20230810/loss_2023_08_10_05_23_31' already exists.\n",
      "Get map done.\n",
      "10/10 [==============================] - 6s 620ms/step - batch: 4.5000 - size: 32.0000 - loss: 4.9821 - val_loss: 4.9127\n",
      "Epoch 41/500\n",
      "10/10 [==============================] - 1s 120ms/step - batch: 4.5000 - size: 32.0000 - loss: 4.8802 - val_loss: 4.8911\n",
      "Epoch 42/500\n",
      "10/10 [==============================] - 1s 135ms/step - batch: 4.5000 - size: 32.0000 - loss: 4.9002 - val_loss: 4.8640\n",
      "Epoch 43/500\n",
      "10/10 [==============================] - 1s 138ms/step - batch: 4.5000 - size: 32.0000 - loss: 4.8320 - val_loss: 4.8157\n",
      "Epoch 44/500\n",
      "10/10 [==============================] - 1s 132ms/step - batch: 4.5000 - size: 32.0000 - loss: 4.7766 - val_loss: 4.7213\n",
      "Epoch 45/500\n",
      "10/10 [==============================] - 1s 109ms/step - batch: 4.5000 - size: 32.0000 - loss: 4.6871 - val_loss: 4.6429\n",
      "Epoch 46/500\n",
      "10/10 [==============================] - 1s 112ms/step - batch: 4.5000 - size: 32.0000 - loss: 4.5549 - val_loss: 4.5597\n",
      "Epoch 47/500\n",
      "10/10 [==============================] - 1s 113ms/step - batch: 4.5000 - size: 32.0000 - loss: 4.4570 - val_loss: 4.4444\n",
      "Epoch 48/500\n",
      "10/10 [==============================] - 1s 114ms/step - batch: 4.5000 - size: 32.0000 - loss: 4.3904 - val_loss: 4.3404\n",
      "Epoch 49/500\n",
      "10/10 [==============================] - 1s 111ms/step - batch: 4.5000 - size: 32.0000 - loss: 4.2830 - val_loss: 4.2860\n",
      "Epoch 50/500\n",
      "10/10 [==============================] - ETA: 0s - batch: 4.5000 - size: 32.0000 - loss: 4.1259Get map.\n"
     ]
    },
    {
     "name": "stderr",
     "output_type": "stream",
     "text": [
      "100%|██████████| 346/346 [00:02<00:00, 115.50it/s]\n"
     ]
    },
    {
     "name": "stdout",
     "output_type": "stream",
     "text": [
      "Calculate Map.\n",
      "Path '.temp_map_out/results' already exists.\n",
      "75.89% = good AP \t||\tscore_threhold=0.5 : F1=0.01 ; Recall=0.29% ; Precision=100.00%\n",
      "mAP = 75.89%\n",
      "Path '/home/zhangyouan/桌面/zya/NN_net/network/SSD/IMX_681_ssd_mobilenet_git/keras/detection/SSD_ipynb_transfer_callback/output/20230810/loss_2023_08_10_05_23_31' already exists.\n",
      "Get map done.\n",
      "10/10 [==============================] - 5s 593ms/step - batch: 4.5000 - size: 32.0000 - loss: 4.1259 - val_loss: 4.1464\n",
      "Epoch 51/500\n",
      "10/10 [==============================] - 1s 112ms/step - batch: 4.5000 - size: 32.0000 - loss: 4.0791 - val_loss: 4.0052\n",
      "Epoch 52/500\n",
      "10/10 [==============================] - 1s 122ms/step - batch: 4.5000 - size: 32.0000 - loss: 3.9056 - val_loss: 3.8733\n",
      "Epoch 53/500\n",
      "10/10 [==============================] - 1s 147ms/step - batch: 4.5000 - size: 32.0000 - loss: 3.6529 - val_loss: 3.5957\n",
      "Epoch 54/500\n",
      "10/10 [==============================] - 1s 132ms/step - batch: 4.5000 - size: 32.0000 - loss: 3.4555 - val_loss: 3.3862\n",
      "Epoch 55/500\n",
      "10/10 [==============================] - 1s 143ms/step - batch: 4.5000 - size: 32.0000 - loss: 3.1846 - val_loss: 3.1365\n",
      "Epoch 56/500\n",
      "10/10 [==============================] - 1s 111ms/step - batch: 4.5000 - size: 32.0000 - loss: 2.9255 - val_loss: 3.0028\n",
      "Epoch 57/500\n",
      "10/10 [==============================] - 1s 110ms/step - batch: 4.5000 - size: 32.0000 - loss: 2.7490 - val_loss: 2.9092\n",
      "Epoch 58/500\n",
      "10/10 [==============================] - 1s 112ms/step - batch: 4.5000 - size: 32.0000 - loss: 2.5967 - val_loss: 2.5513\n",
      "Epoch 59/500\n",
      "10/10 [==============================] - 1s 112ms/step - batch: 4.5000 - size: 32.0000 - loss: 2.5113 - val_loss: 2.4185\n",
      "Epoch 60/500\n",
      "10/10 [==============================] - ETA: 0s - batch: 4.5000 - size: 32.0000 - loss: 2.2390Get map.\n"
     ]
    },
    {
     "name": "stderr",
     "output_type": "stream",
     "text": [
      "100%|██████████| 346/346 [00:02<00:00, 144.19it/s]\n"
     ]
    },
    {
     "name": "stdout",
     "output_type": "stream",
     "text": [
      "Calculate Map.\n",
      "Path '.temp_map_out/results' already exists.\n",
      "99.29% = good AP \t||\tscore_threhold=0.5 : F1=0.99 ; Recall=98.27% ; Precision=100.00%\n",
      "mAP = 99.29%\n",
      "Path '/home/zhangyouan/桌面/zya/NN_net/network/SSD/IMX_681_ssd_mobilenet_git/keras/detection/SSD_ipynb_transfer_callback/output/20230810/loss_2023_08_10_05_23_31' already exists.\n",
      "Get map done.\n",
      "10/10 [==============================] - 4s 464ms/step - batch: 4.5000 - size: 32.0000 - loss: 2.2390 - val_loss: 2.3393\n",
      "Epoch 61/500\n",
      "10/10 [==============================] - 1s 113ms/step - batch: 4.5000 - size: 32.0000 - loss: 2.1452 - val_loss: 2.2293\n",
      "Epoch 62/500\n",
      "10/10 [==============================] - 1s 110ms/step - batch: 4.5000 - size: 32.0000 - loss: 2.1222 - val_loss: 2.1406\n",
      "Epoch 63/500\n",
      "10/10 [==============================] - 1s 122ms/step - batch: 4.5000 - size: 32.0000 - loss: 2.0183 - val_loss: 2.0750\n",
      "Epoch 64/500\n",
      "10/10 [==============================] - 1s 132ms/step - batch: 4.5000 - size: 32.0000 - loss: 1.9599 - val_loss: 2.0414\n",
      "Epoch 65/500\n",
      "10/10 [==============================] - 1s 136ms/step - batch: 4.5000 - size: 32.0000 - loss: 1.8367 - val_loss: 1.9636\n",
      "Epoch 66/500\n",
      "10/10 [==============================] - 1s 143ms/step - batch: 4.5000 - size: 32.0000 - loss: 1.8151 - val_loss: 2.0391\n",
      "Epoch 67/500\n",
      "10/10 [==============================] - 1s 120ms/step - batch: 4.5000 - size: 32.0000 - loss: 1.7862 - val_loss: 1.8662\n",
      "Epoch 68/500\n",
      "10/10 [==============================] - 1s 109ms/step - batch: 4.5000 - size: 32.0000 - loss: 1.7261 - val_loss: 1.7660\n",
      "Epoch 69/500\n",
      "10/10 [==============================] - 1s 112ms/step - batch: 4.5000 - size: 32.0000 - loss: 1.6223 - val_loss: 1.7246\n",
      "Epoch 70/500\n",
      "10/10 [==============================] - ETA: 0s - batch: 4.5000 - size: 32.0000 - loss: 1.5873Get map.\n"
     ]
    },
    {
     "name": "stderr",
     "output_type": "stream",
     "text": [
      "100%|██████████| 346/346 [00:02<00:00, 172.49it/s]\n"
     ]
    },
    {
     "name": "stdout",
     "output_type": "stream",
     "text": [
      "Calculate Map.\n",
      "Path '.temp_map_out/results' already exists.\n",
      "99.35% = good AP \t||\tscore_threhold=0.5 : F1=0.97 ; Recall=99.13% ; Precision=94.49%\n",
      "mAP = 99.35%\n",
      "Path '/home/zhangyouan/桌面/zya/NN_net/network/SSD/IMX_681_ssd_mobilenet_git/keras/detection/SSD_ipynb_transfer_callback/output/20230810/loss_2023_08_10_05_23_31' already exists.\n",
      "Get map done.\n",
      "10/10 [==============================] - 3s 359ms/step - batch: 4.5000 - size: 32.0000 - loss: 1.5873 - val_loss: 1.6789\n",
      "Epoch 71/500\n",
      "10/10 [==============================] - 1s 109ms/step - batch: 4.5000 - size: 32.0000 - loss: 1.5362 - val_loss: 1.6671\n",
      "Epoch 72/500\n",
      "10/10 [==============================] - 1s 112ms/step - batch: 4.5000 - size: 32.0000 - loss: 1.4885 - val_loss: 1.6947\n",
      "Epoch 73/500\n",
      "10/10 [==============================] - 1s 113ms/step - batch: 4.5000 - size: 32.0000 - loss: 1.4970 - val_loss: 1.6029\n",
      "Epoch 74/500\n",
      "10/10 [==============================] - 1s 111ms/step - batch: 4.5000 - size: 32.0000 - loss: 1.3685 - val_loss: 1.5953\n",
      "Epoch 75/500\n",
      "10/10 [==============================] - 1s 124ms/step - batch: 4.5000 - size: 32.0000 - loss: 1.4571 - val_loss: 1.5472\n",
      "Epoch 76/500\n",
      "10/10 [==============================] - 1s 132ms/step - batch: 4.5000 - size: 32.0000 - loss: 1.3649 - val_loss: 1.6063\n",
      "Epoch 77/500\n",
      "10/10 [==============================] - 2s 154ms/step - batch: 4.5000 - size: 32.0000 - loss: 1.3910 - val_loss: 1.5418\n",
      "Epoch 78/500\n",
      "10/10 [==============================] - 1s 110ms/step - batch: 4.5000 - size: 32.0000 - loss: 1.4184 - val_loss: 1.5136\n",
      "Epoch 79/500\n",
      "10/10 [==============================] - 1s 113ms/step - batch: 4.5000 - size: 32.0000 - loss: 1.2912 - val_loss: 1.4630\n",
      "Epoch 80/500\n",
      "10/10 [==============================] - ETA: 0s - batch: 4.5000 - size: 32.0000 - loss: 1.2845Get map.\n"
     ]
    },
    {
     "name": "stderr",
     "output_type": "stream",
     "text": [
      "100%|██████████| 346/346 [00:01<00:00, 198.80it/s]\n"
     ]
    },
    {
     "name": "stdout",
     "output_type": "stream",
     "text": [
      "Calculate Map.\n",
      "Path '.temp_map_out/results' already exists.\n",
      "99.51% = good AP \t||\tscore_threhold=0.5 : F1=0.98 ; Recall=99.71% ; Precision=96.37%\n",
      "mAP = 99.51%\n",
      "Path '/home/zhangyouan/桌面/zya/NN_net/network/SSD/IMX_681_ssd_mobilenet_git/keras/detection/SSD_ipynb_transfer_callback/output/20230810/loss_2023_08_10_05_23_31' already exists.\n",
      "Get map done.\n",
      "10/10 [==============================] - 3s 327ms/step - batch: 4.5000 - size: 32.0000 - loss: 1.2845 - val_loss: 1.4559\n",
      "Epoch 81/500\n",
      "10/10 [==============================] - 1s 122ms/step - batch: 4.5000 - size: 32.0000 - loss: 1.3032 - val_loss: 1.5146\n",
      "Epoch 82/500\n",
      "10/10 [==============================] - 1s 113ms/step - batch: 4.5000 - size: 32.0000 - loss: 1.2538 - val_loss: 1.4705\n",
      "Epoch 83/500\n",
      "10/10 [==============================] - 1s 112ms/step - batch: 4.5000 - size: 32.0000 - loss: 1.2608 - val_loss: 1.3816\n",
      "Epoch 84/500\n",
      "10/10 [==============================] - 1s 112ms/step - batch: 4.5000 - size: 32.0000 - loss: 1.1871 - val_loss: 1.3738\n",
      "Epoch 85/500\n",
      "10/10 [==============================] - 1s 124ms/step - batch: 4.5000 - size: 32.0000 - loss: 1.2486 - val_loss: 1.3505\n",
      "Epoch 86/500\n",
      "10/10 [==============================] - 1s 129ms/step - batch: 4.5000 - size: 32.0000 - loss: 1.1446 - val_loss: 1.3400\n",
      "Epoch 87/500\n",
      "10/10 [==============================] - 1s 133ms/step - batch: 4.5000 - size: 32.0000 - loss: 1.1373 - val_loss: 1.3675\n",
      "Epoch 88/500\n",
      "10/10 [==============================] - 2s 147ms/step - batch: 4.5000 - size: 32.0000 - loss: 1.2016 - val_loss: 1.3694\n",
      "Epoch 89/500\n",
      "10/10 [==============================] - 1s 108ms/step - batch: 4.5000 - size: 32.0000 - loss: 1.1664 - val_loss: 1.3173\n",
      "Epoch 90/500\n",
      "10/10 [==============================] - ETA: 0s - batch: 4.5000 - size: 32.0000 - loss: 1.1312Get map.\n"
     ]
    },
    {
     "name": "stderr",
     "output_type": "stream",
     "text": [
      "100%|██████████| 346/346 [00:01<00:00, 215.22it/s]\n"
     ]
    },
    {
     "name": "stdout",
     "output_type": "stream",
     "text": [
      "Calculate Map.\n",
      "Path '.temp_map_out/results' already exists.\n",
      "99.58% = good AP \t||\tscore_threhold=0.5 : F1=0.99 ; Recall=99.71% ; Precision=98.85%\n",
      "mAP = 99.58%\n",
      "Path '/home/zhangyouan/桌面/zya/NN_net/network/SSD/IMX_681_ssd_mobilenet_git/keras/detection/SSD_ipynb_transfer_callback/output/20230810/loss_2023_08_10_05_23_31' already exists.\n",
      "Get map done.\n",
      "10/10 [==============================] - 3s 313ms/step - batch: 4.5000 - size: 32.0000 - loss: 1.1312 - val_loss: 1.2954\n",
      "Epoch 91/500\n",
      "10/10 [==============================] - 1s 110ms/step - batch: 4.5000 - size: 32.0000 - loss: 1.1345 - val_loss: 1.3132\n",
      "Epoch 92/500\n",
      "10/10 [==============================] - 1s 111ms/step - batch: 4.5000 - size: 32.0000 - loss: 1.1003 - val_loss: 1.2843\n",
      "Epoch 93/500\n",
      "10/10 [==============================] - 1s 121ms/step - batch: 4.5000 - size: 32.0000 - loss: 1.0897 - val_loss: 1.2658\n",
      "Epoch 94/500\n",
      "10/10 [==============================] - 1s 111ms/step - batch: 4.5000 - size: 32.0000 - loss: 1.0495 - val_loss: 1.2902\n",
      "Epoch 95/500\n",
      "10/10 [==============================] - 1s 112ms/step - batch: 4.5000 - size: 32.0000 - loss: 1.0706 - val_loss: 1.2638\n",
      "Epoch 96/500\n",
      "10/10 [==============================] - 1s 112ms/step - batch: 4.5000 - size: 32.0000 - loss: 1.0575 - val_loss: 1.2428\n",
      "Epoch 97/500\n",
      "10/10 [==============================] - 1s 123ms/step - batch: 4.5000 - size: 32.0000 - loss: 1.1329 - val_loss: 1.3368\n",
      "Epoch 98/500\n",
      "10/10 [==============================] - 1s 132ms/step - batch: 4.5000 - size: 32.0000 - loss: 1.0742 - val_loss: 1.2539\n",
      "Epoch 99/500\n",
      "10/10 [==============================] - 2s 166ms/step - batch: 4.5000 - size: 32.0000 - loss: 1.0205 - val_loss: 1.2397\n",
      "Epoch 100/500\n",
      "10/10 [==============================] - ETA: 0s - batch: 4.5000 - size: 32.0000 - loss: 1.0571Get map.\n"
     ]
    },
    {
     "name": "stderr",
     "output_type": "stream",
     "text": [
      "100%|██████████| 346/346 [00:01<00:00, 173.10it/s]\n"
     ]
    },
    {
     "name": "stdout",
     "output_type": "stream",
     "text": [
      "Calculate Map.\n",
      "Path '.temp_map_out/results' already exists.\n",
      "99.62% = good AP \t||\tscore_threhold=0.5 : F1=0.99 ; Recall=99.71% ; Precision=99.14%\n",
      "mAP = 99.62%\n",
      "Path '/home/zhangyouan/桌面/zya/NN_net/network/SSD/IMX_681_ssd_mobilenet_git/keras/detection/SSD_ipynb_transfer_callback/output/20230810/loss_2023_08_10_05_23_31' already exists.\n",
      "Get map done.\n",
      "10/10 [==============================] - 3s 360ms/step - batch: 4.5000 - size: 32.0000 - loss: 1.0571 - val_loss: 1.3044\n",
      "Epoch 101/500\n",
      "10/10 [==============================] - 1s 112ms/step - batch: 4.5000 - size: 32.0000 - loss: 1.0306 - val_loss: 1.2017\n",
      "Epoch 102/500\n",
      "10/10 [==============================] - 1s 112ms/step - batch: 4.5000 - size: 32.0000 - loss: 0.9714 - val_loss: 1.2290\n",
      "Epoch 103/500\n",
      "10/10 [==============================] - 1s 113ms/step - batch: 4.5000 - size: 32.0000 - loss: 0.9747 - val_loss: 1.2014\n",
      "Epoch 104/500\n",
      "10/10 [==============================] - 1s 112ms/step - batch: 4.5000 - size: 32.0000 - loss: 0.9879 - val_loss: 1.2050\n",
      "Epoch 105/500\n",
      "10/10 [==============================] - 1s 113ms/step - batch: 4.5000 - size: 32.0000 - loss: 0.9571 - val_loss: 1.2180\n",
      "Epoch 106/500\n",
      "10/10 [==============================] - 1s 113ms/step - batch: 4.5000 - size: 32.0000 - loss: 0.9706 - val_loss: 1.2074\n",
      "Epoch 107/500\n",
      "10/10 [==============================] - 1s 112ms/step - batch: 4.5000 - size: 32.0000 - loss: 1.0008 - val_loss: 1.1856\n",
      "Epoch 108/500\n",
      "10/10 [==============================] - 1s 122ms/step - batch: 4.5000 - size: 32.0000 - loss: 0.9715 - val_loss: 1.1919\n",
      "Epoch 109/500\n",
      "10/10 [==============================] - 2s 149ms/step - batch: 4.5000 - size: 32.0000 - loss: 0.9427 - val_loss: 1.2026\n",
      "Epoch 110/500\n",
      "10/10 [==============================] - ETA: 0s - batch: 4.5000 - size: 32.0000 - loss: 0.9649Get map.\n"
     ]
    },
    {
     "name": "stderr",
     "output_type": "stream",
     "text": [
      "100%|██████████| 346/346 [00:01<00:00, 209.01it/s]\n"
     ]
    },
    {
     "name": "stdout",
     "output_type": "stream",
     "text": [
      "Calculate Map.\n",
      "Path '.temp_map_out/results' already exists.\n",
      "99.70% = good AP \t||\tscore_threhold=0.5 : F1=0.99 ; Recall=99.71% ; Precision=98.85%\n",
      "mAP = 99.70%\n",
      "Path '/home/zhangyouan/桌面/zya/NN_net/network/SSD/IMX_681_ssd_mobilenet_git/keras/detection/SSD_ipynb_transfer_callback/output/20230810/loss_2023_08_10_05_23_31' already exists.\n",
      "Get map done.\n",
      "10/10 [==============================] - 3s 337ms/step - batch: 4.5000 - size: 32.0000 - loss: 0.9649 - val_loss: 1.1987\n",
      "Epoch 111/500\n",
      "10/10 [==============================] - 1s 108ms/step - batch: 4.5000 - size: 32.0000 - loss: 0.9596 - val_loss: 1.2262\n",
      "Epoch 112/500\n",
      "10/10 [==============================] - 1s 111ms/step - batch: 4.5000 - size: 32.0000 - loss: 0.9259 - val_loss: 1.1840\n",
      "Epoch 113/500\n",
      "10/10 [==============================] - 1s 113ms/step - batch: 4.5000 - size: 32.0000 - loss: 0.9183 - val_loss: 1.1670\n",
      "Epoch 114/500\n",
      "10/10 [==============================] - 1s 117ms/step - batch: 4.5000 - size: 32.0000 - loss: 0.9437 - val_loss: 1.1700\n",
      "Epoch 115/500\n",
      "10/10 [==============================] - 1s 112ms/step - batch: 4.5000 - size: 32.0000 - loss: 0.8435 - val_loss: 1.1860\n",
      "Epoch 116/500\n",
      "10/10 [==============================] - 1s 112ms/step - batch: 4.5000 - size: 32.0000 - loss: 0.9055 - val_loss: 1.1845\n",
      "Epoch 117/500\n",
      "10/10 [==============================] - 1s 113ms/step - batch: 4.5000 - size: 32.0000 - loss: 0.8898 - val_loss: 1.1600\n",
      "Epoch 118/500\n",
      "10/10 [==============================] - 1s 122ms/step - batch: 4.5000 - size: 32.0000 - loss: 0.8936 - val_loss: 1.1634\n",
      "Epoch 119/500\n",
      "10/10 [==============================] - 1s 126ms/step - batch: 4.5000 - size: 32.0000 - loss: 0.8778 - val_loss: 1.1699\n",
      "Epoch 120/500\n",
      "10/10 [==============================] - ETA: 0s - batch: 4.5000 - size: 32.0000 - loss: 0.9004Get map.\n"
     ]
    },
    {
     "name": "stderr",
     "output_type": "stream",
     "text": [
      "100%|██████████| 346/346 [00:02<00:00, 164.56it/s]\n"
     ]
    },
    {
     "name": "stdout",
     "output_type": "stream",
     "text": [
      "Calculate Map.\n",
      "Path '.temp_map_out/results' already exists.\n",
      "99.70% = good AP \t||\tscore_threhold=0.5 : F1=0.99 ; Recall=99.42% ; Precision=98.29%\n",
      "mAP = 99.70%\n",
      "Path '/home/zhangyouan/桌面/zya/NN_net/network/SSD/IMX_681_ssd_mobilenet_git/keras/detection/SSD_ipynb_transfer_callback/output/20230810/loss_2023_08_10_05_23_31' already exists.\n",
      "Get map done.\n",
      "10/10 [==============================] - 4s 386ms/step - batch: 4.5000 - size: 32.0000 - loss: 0.9004 - val_loss: 1.1872\n",
      "Epoch 121/500\n",
      "10/10 [==============================] - 1s 139ms/step - batch: 4.5000 - size: 32.0000 - loss: 0.8822 - val_loss: 1.1719\n",
      "Epoch 122/500\n",
      "10/10 [==============================] - 1s 108ms/step - batch: 4.5000 - size: 32.0000 - loss: 0.8636 - val_loss: 1.1419\n",
      "Epoch 123/500\n",
      "10/10 [==============================] - 1s 112ms/step - batch: 4.5000 - size: 32.0000 - loss: 0.8531 - val_loss: 1.1508\n",
      "Epoch 124/500\n",
      "10/10 [==============================] - 1s 113ms/step - batch: 4.5000 - size: 32.0000 - loss: 0.8477 - val_loss: 1.1448\n",
      "Epoch 125/500\n",
      "10/10 [==============================] - 1s 113ms/step - batch: 4.5000 - size: 32.0000 - loss: 0.8459 - val_loss: 1.1529\n",
      "Epoch 126/500\n",
      "10/10 [==============================] - 1s 113ms/step - batch: 4.5000 - size: 32.0000 - loss: 0.8393 - val_loss: 1.1371\n",
      "Epoch 127/500\n",
      "10/10 [==============================] - 1s 112ms/step - batch: 4.5000 - size: 32.0000 - loss: 0.8204 - val_loss: 1.1439\n",
      "Epoch 128/500\n",
      "10/10 [==============================] - 1s 113ms/step - batch: 4.5000 - size: 32.0000 - loss: 0.8267 - val_loss: 1.1229\n",
      "Epoch 129/500\n",
      "10/10 [==============================] - 1s 124ms/step - batch: 4.5000 - size: 32.0000 - loss: 0.8304 - val_loss: 1.1749\n",
      "Epoch 130/500\n",
      "10/10 [==============================] - ETA: 0s - batch: 4.5000 - size: 32.0000 - loss: 0.8584Get map.\n"
     ]
    },
    {
     "name": "stderr",
     "output_type": "stream",
     "text": [
      "100%|██████████| 346/346 [00:01<00:00, 180.02it/s]\n"
     ]
    },
    {
     "name": "stdout",
     "output_type": "stream",
     "text": [
      "Calculate Map.\n",
      "Path '.temp_map_out/results' already exists.\n",
      "99.71% = good AP \t||\tscore_threhold=0.5 : F1=1.00 ; Recall=99.71% ; Precision=100.00%\n",
      "mAP = 99.71%\n",
      "Path '/home/zhangyouan/桌面/zya/NN_net/network/SSD/IMX_681_ssd_mobilenet_git/keras/detection/SSD_ipynb_transfer_callback/output/20230810/loss_2023_08_10_05_23_31' already exists.\n",
      "Get map done.\n",
      "10/10 [==============================] - 4s 398ms/step - batch: 4.5000 - size: 32.0000 - loss: 0.8584 - val_loss: 1.1813\n",
      "Epoch 131/500\n",
      "10/10 [==============================] - 1s 131ms/step - batch: 4.5000 - size: 32.0000 - loss: 0.8007 - val_loss: 1.1460\n",
      "Epoch 132/500\n",
      "10/10 [==============================] - 1s 148ms/step - batch: 4.5000 - size: 32.0000 - loss: 0.8137 - val_loss: 1.1576\n",
      "Epoch 133/500\n",
      "10/10 [==============================] - 1s 121ms/step - batch: 4.5000 - size: 32.0000 - loss: 0.8070 - val_loss: 1.1243\n",
      "Epoch 134/500\n",
      "10/10 [==============================] - 1s 112ms/step - batch: 4.5000 - size: 32.0000 - loss: 0.8020 - val_loss: 1.1386\n",
      "Epoch 135/500\n",
      "10/10 [==============================] - 1s 112ms/step - batch: 4.5000 - size: 32.0000 - loss: 0.8268 - val_loss: 1.1773\n",
      "Epoch 136/500\n",
      "10/10 [==============================] - 1s 120ms/step - batch: 4.5000 - size: 32.0000 - loss: 0.8412 - val_loss: 1.1533\n",
      "Epoch 137/500\n",
      "10/10 [==============================] - 1s 111ms/step - batch: 4.5000 - size: 32.0000 - loss: 0.8069 - val_loss: 1.1810\n",
      "Epoch 138/500\n",
      "10/10 [==============================] - 1s 113ms/step - batch: 4.5000 - size: 32.0000 - loss: 0.8385 - val_loss: 1.1340\n",
      "Epoch 139/500\n",
      "10/10 [==============================] - 1s 110ms/step - batch: 4.5000 - size: 32.0000 - loss: 0.7614 - val_loss: 1.1136\n",
      "Epoch 140/500\n",
      "10/10 [==============================] - ETA: 0s - batch: 4.5000 - size: 32.0000 - loss: 0.8208Get map.\n"
     ]
    },
    {
     "name": "stderr",
     "output_type": "stream",
     "text": [
      "100%|██████████| 346/346 [00:01<00:00, 182.70it/s]\n"
     ]
    },
    {
     "name": "stdout",
     "output_type": "stream",
     "text": [
      "Calculate Map.\n",
      "Path '.temp_map_out/results' already exists.\n",
      "99.70% = good AP \t||\tscore_threhold=0.5 : F1=0.99 ; Recall=99.42% ; Precision=98.85%\n",
      "mAP = 99.70%\n",
      "Path '/home/zhangyouan/桌面/zya/NN_net/network/SSD/IMX_681_ssd_mobilenet_git/keras/detection/SSD_ipynb_transfer_callback/output/20230810/loss_2023_08_10_05_23_31' already exists.\n",
      "Get map done.\n",
      "10/10 [==============================] - 3s 342ms/step - batch: 4.5000 - size: 32.0000 - loss: 0.8208 - val_loss: 1.1324\n",
      "Epoch 141/500\n",
      "10/10 [==============================] - 1s 122ms/step - batch: 4.5000 - size: 32.0000 - loss: 0.7609 - val_loss: 1.1274\n",
      "Epoch 142/500\n",
      "10/10 [==============================] - 1s 132ms/step - batch: 4.5000 - size: 32.0000 - loss: 0.7921 - val_loss: 1.1165\n",
      "Epoch 143/500\n",
      "10/10 [==============================] - 1s 132ms/step - batch: 4.5000 - size: 32.0000 - loss: 0.7821 - val_loss: 1.1125\n",
      "Epoch 144/500\n",
      "10/10 [==============================] - 1s 109ms/step - batch: 4.5000 - size: 32.0000 - loss: 0.7822 - val_loss: 1.1248\n",
      "Epoch 145/500\n",
      "10/10 [==============================] - 1s 113ms/step - batch: 4.5000 - size: 32.0000 - loss: 0.7551 - val_loss: 1.1163\n",
      "Epoch 146/500\n",
      "10/10 [==============================] - 1s 112ms/step - batch: 4.5000 - size: 32.0000 - loss: 0.7333 - val_loss: 1.1138\n",
      "Epoch 147/500\n",
      "10/10 [==============================] - 1s 111ms/step - batch: 4.5000 - size: 32.0000 - loss: 0.7683 - val_loss: 1.1132\n",
      "Epoch 148/500\n",
      "10/10 [==============================] - 1s 113ms/step - batch: 4.5000 - size: 32.0000 - loss: 0.7632 - val_loss: 1.1502\n",
      "Epoch 149/500\n",
      "10/10 [==============================] - 1s 113ms/step - batch: 4.5000 - size: 32.0000 - loss: 0.7501 - val_loss: 1.1353\n",
      "Epoch 150/500\n",
      "10/10 [==============================] - ETA: 0s - batch: 4.5000 - size: 32.0000 - loss: 0.7679Get map.\n"
     ]
    },
    {
     "name": "stderr",
     "output_type": "stream",
     "text": [
      "100%|██████████| 346/346 [00:01<00:00, 185.10it/s]\n"
     ]
    },
    {
     "name": "stdout",
     "output_type": "stream",
     "text": [
      "Calculate Map.\n",
      "Path '.temp_map_out/results' already exists.\n",
      "99.71% = good AP \t||\tscore_threhold=0.5 : F1=1.00 ; Recall=99.71% ; Precision=100.00%\n",
      "mAP = 99.71%\n",
      "Path '/home/zhangyouan/桌面/zya/NN_net/network/SSD/IMX_681_ssd_mobilenet_git/keras/detection/SSD_ipynb_transfer_callback/output/20230810/loss_2023_08_10_05_23_31' already exists.\n",
      "Get map done.\n",
      "10/10 [==============================] - 3s 338ms/step - batch: 4.5000 - size: 32.0000 - loss: 0.7679 - val_loss: 1.1091\n",
      "Epoch 151/500\n",
      "10/10 [==============================] - 1s 125ms/step - batch: 4.5000 - size: 32.0000 - loss: 0.7496 - val_loss: 1.1471\n",
      "Epoch 152/500\n",
      "10/10 [==============================] - 1s 133ms/step - batch: 4.5000 - size: 32.0000 - loss: 0.7350 - val_loss: 1.1303\n",
      "Epoch 153/500\n",
      "10/10 [==============================] - 1s 141ms/step - batch: 4.5000 - size: 32.0000 - loss: 0.7406 - val_loss: 1.1586\n",
      "Epoch 154/500\n",
      "10/10 [==============================] - 1s 138ms/step - batch: 4.5000 - size: 32.0000 - loss: 0.7614 - val_loss: 1.1135\n",
      "Epoch 155/500\n",
      "10/10 [==============================] - 1s 107ms/step - batch: 4.5000 - size: 32.0000 - loss: 0.7284 - val_loss: 1.1064\n",
      "Epoch 156/500\n",
      "10/10 [==============================] - 1s 115ms/step - batch: 4.5000 - size: 32.0000 - loss: 0.7285 - val_loss: 1.1339\n",
      "Epoch 157/500\n",
      "10/10 [==============================] - 1s 124ms/step - batch: 4.5000 - size: 32.0000 - loss: 0.7542 - val_loss: 1.1724\n",
      "Epoch 158/500\n",
      "10/10 [==============================] - 1s 112ms/step - batch: 4.5000 - size: 32.0000 - loss: 0.7107 - val_loss: 1.1351\n",
      "Epoch 159/500\n",
      "10/10 [==============================] - 1s 113ms/step - batch: 4.5000 - size: 32.0000 - loss: 0.7579 - val_loss: 1.1251\n",
      "Epoch 160/500\n",
      "10/10 [==============================] - ETA: 0s - batch: 4.5000 - size: 32.0000 - loss: 0.7118Get map.\n"
     ]
    },
    {
     "name": "stderr",
     "output_type": "stream",
     "text": [
      "100%|██████████| 346/346 [00:02<00:00, 160.31it/s]\n"
     ]
    },
    {
     "name": "stdout",
     "output_type": "stream",
     "text": [
      "Calculate Map.\n",
      "Path '.temp_map_out/results' already exists.\n",
      "99.71% = good AP \t||\tscore_threhold=0.5 : F1=1.00 ; Recall=99.42% ; Precision=100.00%\n",
      "mAP = 99.71%\n",
      "Path '/home/zhangyouan/桌面/zya/NN_net/network/SSD/IMX_681_ssd_mobilenet_git/keras/detection/SSD_ipynb_transfer_callback/output/20230810/loss_2023_08_10_05_23_31' already exists.\n",
      "Get map done.\n",
      "10/10 [==============================] - 4s 377ms/step - batch: 4.5000 - size: 32.0000 - loss: 0.7118 - val_loss: 1.1248\n",
      "Epoch 161/500\n",
      "10/10 [==============================] - 1s 112ms/step - batch: 4.5000 - size: 32.0000 - loss: 0.7359 - val_loss: 1.0946\n",
      "Epoch 162/500\n",
      "10/10 [==============================] - 1s 121ms/step - batch: 4.5000 - size: 32.0000 - loss: 0.6996 - val_loss: 1.1100\n",
      "Epoch 163/500\n",
      "10/10 [==============================] - 1s 139ms/step - batch: 4.5000 - size: 32.0000 - loss: 0.7155 - val_loss: 1.0987\n",
      "Epoch 164/500\n",
      "10/10 [==============================] - 1s 138ms/step - batch: 4.5000 - size: 32.0000 - loss: 0.6965 - val_loss: 1.1061\n",
      "Epoch 165/500\n",
      "10/10 [==============================] - 1s 141ms/step - batch: 4.5000 - size: 32.0000 - loss: 0.7034 - val_loss: 1.1192\n",
      "Epoch 166/500\n",
      "10/10 [==============================] - 1s 108ms/step - batch: 4.5000 - size: 32.0000 - loss: 0.6941 - val_loss: 1.1046\n",
      "Epoch 167/500\n",
      "10/10 [==============================] - 1s 113ms/step - batch: 4.5000 - size: 32.0000 - loss: 0.6912 - val_loss: 1.1200\n",
      "Epoch 168/500\n",
      "10/10 [==============================] - 1s 112ms/step - batch: 4.5000 - size: 32.0000 - loss: 0.6925 - val_loss: 1.1071\n",
      "Epoch 169/500\n",
      "10/10 [==============================] - 1s 113ms/step - batch: 4.5000 - size: 32.0000 - loss: 0.6770 - val_loss: 1.1206\n",
      "Epoch 170/500\n",
      "10/10 [==============================] - ETA: 0s - batch: 4.5000 - size: 32.0000 - loss: 0.6930Get map.\n"
     ]
    },
    {
     "name": "stderr",
     "output_type": "stream",
     "text": [
      "100%|██████████| 346/346 [00:01<00:00, 191.55it/s]\n"
     ]
    },
    {
     "name": "stdout",
     "output_type": "stream",
     "text": [
      "Calculate Map.\n",
      "Path '.temp_map_out/results' already exists.\n",
      "99.71% = good AP \t||\tscore_threhold=0.5 : F1=1.00 ; Recall=99.71% ; Precision=99.71%\n",
      "mAP = 99.71%\n",
      "Path '/home/zhangyouan/桌面/zya/NN_net/network/SSD/IMX_681_ssd_mobilenet_git/keras/detection/SSD_ipynb_transfer_callback/output/20230810/loss_2023_08_10_05_23_31' already exists.\n",
      "Get map done.\n",
      "10/10 [==============================] - 3s 335ms/step - batch: 4.5000 - size: 32.0000 - loss: 0.6930 - val_loss: 1.1577\n",
      "Epoch 171/500\n",
      "10/10 [==============================] - 1s 110ms/step - batch: 4.5000 - size: 32.0000 - loss: 0.6858 - val_loss: 1.1371\n",
      "Epoch 172/500\n",
      "10/10 [==============================] - 1s 112ms/step - batch: 4.5000 - size: 32.0000 - loss: 0.6689 - val_loss: 1.0991\n",
      "Epoch 173/500\n",
      "10/10 [==============================] - 1s 128ms/step - batch: 4.5000 - size: 32.0000 - loss: 0.6757 - val_loss: 1.1013\n",
      "Epoch 174/500\n",
      "10/10 [==============================] - 1s 130ms/step - batch: 4.5000 - size: 32.0000 - loss: 0.6804 - val_loss: 1.1049\n",
      "Epoch 175/500\n",
      "10/10 [==============================] - 1s 141ms/step - batch: 4.5000 - size: 32.0000 - loss: 0.6612 - val_loss: 1.1114\n",
      "Epoch 176/500\n",
      "10/10 [==============================] - 1s 134ms/step - batch: 4.5000 - size: 32.0000 - loss: 0.6669 - val_loss: 1.1105\n",
      "Epoch 177/500\n",
      "10/10 [==============================] - 1s 109ms/step - batch: 4.5000 - size: 32.0000 - loss: 0.6604 - val_loss: 1.1429\n",
      "Epoch 178/500\n",
      "10/10 [==============================] - 1s 111ms/step - batch: 4.5000 - size: 32.0000 - loss: 0.6497 - val_loss: 1.1581\n",
      "Epoch 179/500\n",
      "10/10 [==============================] - 1s 113ms/step - batch: 4.5000 - size: 32.0000 - loss: 0.6595 - val_loss: 1.1021\n",
      "Epoch 180/500\n",
      "10/10 [==============================] - ETA: 0s - batch: 4.5000 - size: 32.0000 - loss: 0.6549Get map.\n"
     ]
    },
    {
     "name": "stderr",
     "output_type": "stream",
     "text": [
      "100%|██████████| 346/346 [00:01<00:00, 178.85it/s]\n"
     ]
    },
    {
     "name": "stdout",
     "output_type": "stream",
     "text": [
      "Calculate Map.\n",
      "Path '.temp_map_out/results' already exists.\n",
      "99.71% = good AP \t||\tscore_threhold=0.5 : F1=0.99 ; Recall=99.13% ; Precision=99.71%\n",
      "mAP = 99.71%\n",
      "Path '/home/zhangyouan/桌面/zya/NN_net/network/SSD/IMX_681_ssd_mobilenet_git/keras/detection/SSD_ipynb_transfer_callback/output/20230810/loss_2023_08_10_05_23_31' already exists.\n",
      "Get map done.\n",
      "10/10 [==============================] - 3s 349ms/step - batch: 4.5000 - size: 32.0000 - loss: 0.6549 - val_loss: 1.1579\n",
      "Epoch 181/500\n",
      "10/10 [==============================] - 1s 109ms/step - batch: 4.5000 - size: 32.0000 - loss: 0.6440 - val_loss: 1.1164\n",
      "Epoch 182/500\n",
      "10/10 [==============================] - 1s 113ms/step - batch: 4.5000 - size: 32.0000 - loss: 0.6636 - val_loss: 1.0956\n",
      "Epoch 183/500\n",
      "10/10 [==============================] - 1s 112ms/step - batch: 4.5000 - size: 32.0000 - loss: 0.6247 - val_loss: 1.1013\n",
      "Epoch 184/500\n",
      "10/10 [==============================] - 1s 124ms/step - batch: 4.5000 - size: 32.0000 - loss: 0.6556 - val_loss: 1.1067\n",
      "Epoch 185/500\n",
      "10/10 [==============================] - 1s 138ms/step - batch: 4.5000 - size: 32.0000 - loss: 0.6405 - val_loss: 1.1209\n",
      "Epoch 186/500\n",
      "10/10 [==============================] - 1s 133ms/step - batch: 4.5000 - size: 32.0000 - loss: 0.6338 - val_loss: 1.1215\n",
      "Epoch 187/500\n",
      "10/10 [==============================] - 1s 133ms/step - batch: 4.5000 - size: 32.0000 - loss: 0.6518 - val_loss: 1.1064\n",
      "Epoch 188/500\n",
      "10/10 [==============================] - 1s 129ms/step - batch: 4.5000 - size: 32.0000 - loss: 0.6288 - val_loss: 1.1155\n",
      "Epoch 189/500\n",
      "10/10 [==============================] - 1s 110ms/step - batch: 4.5000 - size: 32.0000 - loss: 0.6525 - val_loss: 1.1142\n",
      "Epoch 190/500\n",
      "10/10 [==============================] - ETA: 0s - batch: 4.5000 - size: 32.0000 - loss: 0.6295Get map.\n"
     ]
    },
    {
     "name": "stderr",
     "output_type": "stream",
     "text": [
      "100%|██████████| 346/346 [00:02<00:00, 144.71it/s]\n"
     ]
    },
    {
     "name": "stdout",
     "output_type": "stream",
     "text": [
      "Calculate Map.\n",
      "Path '.temp_map_out/results' already exists.\n",
      "99.71% = good AP \t||\tscore_threhold=0.5 : F1=0.99 ; Recall=99.71% ; Precision=99.14%\n",
      "mAP = 99.71%\n",
      "Path '/home/zhangyouan/桌面/zya/NN_net/network/SSD/IMX_681_ssd_mobilenet_git/keras/detection/SSD_ipynb_transfer_callback/output/20230810/loss_2023_08_10_05_23_31' already exists.\n",
      "Get map done.\n",
      "10/10 [==============================] - 4s 397ms/step - batch: 4.5000 - size: 32.0000 - loss: 0.6295 - val_loss: 1.1011\n",
      "Epoch 191/500\n",
      "10/10 [==============================] - 1s 112ms/step - batch: 4.5000 - size: 32.0000 - loss: 0.6414 - val_loss: 1.1077\n",
      "Epoch 192/500\n",
      "10/10 [==============================] - 1s 111ms/step - batch: 4.5000 - size: 32.0000 - loss: 0.6371 - val_loss: 1.1365\n",
      "Epoch 193/500\n",
      "10/10 [==============================] - 1s 112ms/step - batch: 4.5000 - size: 32.0000 - loss: 0.6318 - val_loss: 1.1519\n",
      "Epoch 194/500\n",
      "10/10 [==============================] - 1s 111ms/step - batch: 4.5000 - size: 32.0000 - loss: 0.5962 - val_loss: 1.1322\n",
      "Epoch 195/500\n",
      "10/10 [==============================] - 1s 123ms/step - batch: 4.5000 - size: 32.0000 - loss: 0.6507 - val_loss: 1.1436\n",
      "Epoch 196/500\n",
      "10/10 [==============================] - 1s 122ms/step - batch: 4.5000 - size: 32.0000 - loss: 0.6468 - val_loss: 1.1348\n",
      "Epoch 197/500\n",
      "10/10 [==============================] - 1s 132ms/step - batch: 4.5000 - size: 32.0000 - loss: 0.6116 - val_loss: 1.1328\n",
      "Epoch 198/500\n",
      "10/10 [==============================] - 2s 166ms/step - batch: 4.5000 - size: 32.0000 - loss: 0.6125 - val_loss: 1.1553\n",
      "Epoch 199/500\n",
      "10/10 [==============================] - 1s 116ms/step - batch: 4.5000 - size: 32.0000 - loss: 0.6362 - val_loss: 1.1327\n",
      "Epoch 200/500\n",
      "10/10 [==============================] - ETA: 0s - batch: 4.5000 - size: 32.0000 - loss: 0.6447Get map.\n"
     ]
    },
    {
     "name": "stderr",
     "output_type": "stream",
     "text": [
      "100%|██████████| 346/346 [00:02<00:00, 155.30it/s]\n"
     ]
    },
    {
     "name": "stdout",
     "output_type": "stream",
     "text": [
      "Calculate Map.\n",
      "Path '.temp_map_out/results' already exists.\n",
      "99.71% = good AP \t||\tscore_threhold=0.5 : F1=1.00 ; Recall=99.71% ; Precision=99.42%\n",
      "mAP = 99.71%\n",
      "Path '/home/zhangyouan/桌面/zya/NN_net/network/SSD/IMX_681_ssd_mobilenet_git/keras/detection/SSD_ipynb_transfer_callback/output/20230810/loss_2023_08_10_05_23_31' already exists.\n",
      "Get map done.\n",
      "10/10 [==============================] - 4s 382ms/step - batch: 4.5000 - size: 32.0000 - loss: 0.6447 - val_loss: 1.1315\n",
      "Epoch 201/500\n",
      "10/10 [==============================] - 1s 114ms/step - batch: 4.5000 - size: 32.0000 - loss: 0.6280 - val_loss: 1.1233\n",
      "Epoch 202/500\n",
      "10/10 [==============================] - 1s 111ms/step - batch: 4.5000 - size: 32.0000 - loss: 0.6011 - val_loss: 1.1157\n",
      "Epoch 203/500\n",
      "10/10 [==============================] - 1s 112ms/step - batch: 4.5000 - size: 32.0000 - loss: 0.5942 - val_loss: 1.1630\n",
      "Epoch 204/500\n",
      "10/10 [==============================] - 1s 114ms/step - batch: 4.5000 - size: 32.0000 - loss: 0.5972 - val_loss: 1.1026\n",
      "Epoch 205/500\n",
      "10/10 [==============================] - 1s 126ms/step - batch: 4.5000 - size: 32.0000 - loss: 0.5879 - val_loss: 1.1185\n",
      "Epoch 206/500\n",
      "10/10 [==============================] - 1s 112ms/step - batch: 4.5000 - size: 32.0000 - loss: 0.5941 - val_loss: 1.1146\n",
      "Epoch 207/500\n",
      "10/10 [==============================] - 1s 123ms/step - batch: 4.5000 - size: 32.0000 - loss: 0.6027 - val_loss: 1.1067\n",
      "Epoch 208/500\n",
      "10/10 [==============================] - 1s 139ms/step - batch: 4.5000 - size: 32.0000 - loss: 0.5711 - val_loss: 1.1176\n",
      "Epoch 209/500\n",
      "10/10 [==============================] - 1s 139ms/step - batch: 4.5000 - size: 32.0000 - loss: 0.5947 - val_loss: 1.1575\n",
      "Epoch 210/500\n",
      "10/10 [==============================] - ETA: 0s - batch: 4.5000 - size: 32.0000 - loss: 0.5906Get map.\n"
     ]
    },
    {
     "name": "stderr",
     "output_type": "stream",
     "text": [
      "100%|██████████| 346/346 [00:01<00:00, 197.47it/s]\n"
     ]
    },
    {
     "name": "stdout",
     "output_type": "stream",
     "text": [
      "Calculate Map.\n",
      "Path '.temp_map_out/results' already exists.\n",
      "99.71% = good AP \t||\tscore_threhold=0.5 : F1=1.00 ; Recall=99.71% ; Precision=99.71%\n",
      "mAP = 99.71%\n",
      "Path '/home/zhangyouan/桌面/zya/NN_net/network/SSD/IMX_681_ssd_mobilenet_git/keras/detection/SSD_ipynb_transfer_callback/output/20230810/loss_2023_08_10_05_23_31' already exists.\n",
      "Get map done.\n",
      "10/10 [==============================] - 3s 323ms/step - batch: 4.5000 - size: 32.0000 - loss: 0.5906 - val_loss: 1.1521\n",
      "Epoch 211/500\n",
      "10/10 [==============================] - 1s 110ms/step - batch: 4.5000 - size: 32.0000 - loss: 0.5916 - val_loss: 1.1211\n",
      "Epoch 212/500\n",
      "10/10 [==============================] - 1s 111ms/step - batch: 4.5000 - size: 32.0000 - loss: 0.5710 - val_loss: 1.1205\n",
      "Epoch 213/500\n",
      "10/10 [==============================] - 1s 112ms/step - batch: 4.5000 - size: 32.0000 - loss: 0.6001 - val_loss: 1.1294\n",
      "Epoch 214/500\n",
      "10/10 [==============================] - 1s 112ms/step - batch: 4.5000 - size: 32.0000 - loss: 0.5694 - val_loss: 1.1216\n",
      "Epoch 215/500\n",
      "10/10 [==============================] - 1s 116ms/step - batch: 4.5000 - size: 32.0000 - loss: 0.5771 - val_loss: 1.1328\n",
      "Epoch 216/500\n",
      "10/10 [==============================] - 1s 113ms/step - batch: 4.5000 - size: 32.0000 - loss: 0.5755 - val_loss: 1.1246\n",
      "Epoch 217/500\n",
      "10/10 [==============================] - 1s 113ms/step - batch: 4.5000 - size: 32.0000 - loss: 0.5567 - val_loss: 1.1262\n",
      "Epoch 218/500\n",
      "10/10 [==============================] - 1s 123ms/step - batch: 4.5000 - size: 32.0000 - loss: 0.5838 - val_loss: 1.1398\n",
      "Epoch 219/500\n",
      "10/10 [==============================] - 2s 150ms/step - batch: 4.5000 - size: 32.0000 - loss: 0.5827 - val_loss: 1.1130\n",
      "Epoch 220/500\n",
      "10/10 [==============================] - ETA: 0s - batch: 4.5000 - size: 32.0000 - loss: 0.5653Get map.\n"
     ]
    },
    {
     "name": "stderr",
     "output_type": "stream",
     "text": [
      "100%|██████████| 346/346 [00:02<00:00, 162.44it/s]\n"
     ]
    },
    {
     "name": "stdout",
     "output_type": "stream",
     "text": [
      "Calculate Map.\n",
      "Path '.temp_map_out/results' already exists.\n",
      "99.64% = good AP \t||\tscore_threhold=0.5 : F1=0.99 ; Recall=99.71% ; Precision=99.14%\n",
      "mAP = 99.64%\n",
      "Path '/home/zhangyouan/桌面/zya/NN_net/network/SSD/IMX_681_ssd_mobilenet_git/keras/detection/SSD_ipynb_transfer_callback/output/20230810/loss_2023_08_10_05_23_31' already exists.\n",
      "Get map done.\n",
      "10/10 [==============================] - 4s 398ms/step - batch: 4.5000 - size: 32.0000 - loss: 0.5653 - val_loss: 1.1264\n",
      "Epoch 221/500\n",
      "10/10 [==============================] - 1s 108ms/step - batch: 4.5000 - size: 32.0000 - loss: 0.5607 - val_loss: 1.1200\n",
      "Epoch 222/500\n",
      "10/10 [==============================] - 1s 113ms/step - batch: 4.5000 - size: 32.0000 - loss: 0.5435 - val_loss: 1.1214\n",
      "Epoch 223/500\n",
      "10/10 [==============================] - 1s 111ms/step - batch: 4.5000 - size: 32.0000 - loss: 0.5753 - val_loss: 1.1277\n",
      "Epoch 224/500\n",
      "10/10 [==============================] - 1s 113ms/step - batch: 4.5000 - size: 32.0000 - loss: 0.5431 - val_loss: 1.1460\n",
      "Epoch 225/500\n",
      "10/10 [==============================] - 1s 113ms/step - batch: 4.5000 - size: 32.0000 - loss: 0.5593 - val_loss: 1.1353\n",
      "Epoch 226/500\n",
      "10/10 [==============================] - 1s 111ms/step - batch: 4.5000 - size: 32.0000 - loss: 0.5663 - val_loss: 1.1509\n",
      "Epoch 227/500\n",
      "10/10 [==============================] - 1s 112ms/step - batch: 4.5000 - size: 32.0000 - loss: 0.5289 - val_loss: 1.1318\n",
      "Epoch 228/500\n",
      "10/10 [==============================] - 1s 113ms/step - batch: 4.5000 - size: 32.0000 - loss: 0.5364 - val_loss: 1.1321\n",
      "Epoch 229/500\n",
      "10/10 [==============================] - 1s 122ms/step - batch: 4.5000 - size: 32.0000 - loss: 0.5630 - val_loss: 1.1357\n",
      "Epoch 230/500\n",
      "10/10 [==============================] - ETA: 0s - batch: 4.5000 - size: 32.0000 - loss: 0.5712Get map.\n"
     ]
    },
    {
     "name": "stderr",
     "output_type": "stream",
     "text": [
      "100%|██████████| 346/346 [00:02<00:00, 171.88it/s]\n"
     ]
    },
    {
     "name": "stdout",
     "output_type": "stream",
     "text": [
      "Calculate Map.\n",
      "Path '.temp_map_out/results' already exists.\n",
      "99.71% = good AP \t||\tscore_threhold=0.5 : F1=1.00 ; Recall=99.71% ; Precision=99.42%\n",
      "mAP = 99.71%\n",
      "Path '/home/zhangyouan/桌面/zya/NN_net/network/SSD/IMX_681_ssd_mobilenet_git/keras/detection/SSD_ipynb_transfer_callback/output/20230810/loss_2023_08_10_05_23_31' already exists.\n",
      "Get map done.\n",
      "10/10 [==============================] - 3s 374ms/step - batch: 4.5000 - size: 32.0000 - loss: 0.5712 - val_loss: 1.1283\n",
      "Epoch 231/500\n",
      "10/10 [==============================] - 1s 130ms/step - batch: 4.5000 - size: 32.0000 - loss: 0.5579 - val_loss: 1.1504\n",
      "Epoch 232/500\n",
      "10/10 [==============================] - 1s 107ms/step - batch: 4.5000 - size: 32.0000 - loss: 0.5521 - val_loss: 1.1457\n",
      "Epoch 233/500\n",
      "10/10 [==============================] - 1s 114ms/step - batch: 4.5000 - size: 32.0000 - loss: 0.5349 - val_loss: 1.1260\n",
      "Epoch 234/500\n",
      "10/10 [==============================] - 1s 112ms/step - batch: 4.5000 - size: 32.0000 - loss: 0.5448 - val_loss: 1.1508\n",
      "Epoch 235/500\n",
      "10/10 [==============================] - 1s 113ms/step - batch: 4.5000 - size: 32.0000 - loss: 0.5516 - val_loss: 1.1441\n",
      "Epoch 236/500\n",
      "10/10 [==============================] - 1s 112ms/step - batch: 4.5000 - size: 32.0000 - loss: 0.5382 - val_loss: 1.1463\n",
      "Epoch 237/500\n",
      "10/10 [==============================] - 1s 113ms/step - batch: 4.5000 - size: 32.0000 - loss: 0.5340 - val_loss: 1.1295\n",
      "Epoch 238/500\n",
      "10/10 [==============================] - 1s 112ms/step - batch: 4.5000 - size: 32.0000 - loss: 0.5248 - val_loss: 1.1348\n",
      "Epoch 239/500\n",
      "10/10 [==============================] - 1s 125ms/step - batch: 4.5000 - size: 32.0000 - loss: 0.5337 - val_loss: 1.1402\n",
      "Epoch 240/500\n",
      "10/10 [==============================] - ETA: 0s - batch: 4.5000 - size: 32.0000 - loss: 0.5265Get map.\n"
     ]
    },
    {
     "name": "stderr",
     "output_type": "stream",
     "text": [
      "100%|██████████| 346/346 [00:01<00:00, 202.53it/s]\n"
     ]
    },
    {
     "name": "stdout",
     "output_type": "stream",
     "text": [
      "Calculate Map.\n",
      "Path '.temp_map_out/results' already exists.\n",
      "99.71% = good AP \t||\tscore_threhold=0.5 : F1=1.00 ; Recall=99.71% ; Precision=99.42%\n",
      "mAP = 99.71%\n",
      "Path '/home/zhangyouan/桌面/zya/NN_net/network/SSD/IMX_681_ssd_mobilenet_git/keras/detection/SSD_ipynb_transfer_callback/output/20230810/loss_2023_08_10_05_23_31' already exists.\n",
      "Get map done.\n",
      "10/10 [==============================] - 3s 337ms/step - batch: 4.5000 - size: 32.0000 - loss: 0.5265 - val_loss: 1.1238\n",
      "Epoch 241/500\n",
      "10/10 [==============================] - 1s 132ms/step - batch: 4.5000 - size: 32.0000 - loss: 0.5211 - val_loss: 1.1353\n",
      "Epoch 242/500\n",
      "10/10 [==============================] - 1s 130ms/step - batch: 4.5000 - size: 32.0000 - loss: 0.5351 - val_loss: 1.1617\n",
      "Epoch 243/500\n",
      "10/10 [==============================] - 1s 109ms/step - batch: 4.5000 - size: 32.0000 - loss: 0.5304 - val_loss: 1.1334\n",
      "Epoch 244/500\n",
      "10/10 [==============================] - 1s 114ms/step - batch: 4.5000 - size: 32.0000 - loss: 0.5373 - val_loss: 1.1597\n",
      "Epoch 245/500\n",
      "10/10 [==============================] - 1s 113ms/step - batch: 4.5000 - size: 32.0000 - loss: 0.5510 - val_loss: 1.1437\n",
      "Epoch 246/500\n",
      "10/10 [==============================] - 1s 112ms/step - batch: 4.5000 - size: 32.0000 - loss: 0.5106 - val_loss: 1.1379\n",
      "Epoch 247/500\n",
      "10/10 [==============================] - 1s 112ms/step - batch: 4.5000 - size: 32.0000 - loss: 0.5319 - val_loss: 1.1672\n",
      "Epoch 248/500\n",
      "10/10 [==============================] - 1s 113ms/step - batch: 4.5000 - size: 32.0000 - loss: 0.5091 - val_loss: 1.1525\n",
      "Epoch 249/500\n",
      "10/10 [==============================] - 1s 113ms/step - batch: 4.5000 - size: 32.0000 - loss: 0.5059 - val_loss: 1.1400\n",
      "Epoch 250/500\n",
      "10/10 [==============================] - ETA: 0s - batch: 4.5000 - size: 32.0000 - loss: 0.5195Get map.\n"
     ]
    },
    {
     "name": "stderr",
     "output_type": "stream",
     "text": [
      "100%|██████████| 346/346 [00:02<00:00, 136.84it/s]\n"
     ]
    },
    {
     "name": "stdout",
     "output_type": "stream",
     "text": [
      "Calculate Map.\n",
      "Path '.temp_map_out/results' already exists.\n",
      "99.71% = good AP \t||\tscore_threhold=0.5 : F1=0.99 ; Recall=99.71% ; Precision=98.85%\n",
      "mAP = 99.71%\n",
      "Path '/home/zhangyouan/桌面/zya/NN_net/network/SSD/IMX_681_ssd_mobilenet_git/keras/detection/SSD_ipynb_transfer_callback/output/20230810/loss_2023_08_10_05_23_31' already exists.\n",
      "Get map done.\n",
      "10/10 [==============================] - 4s 427ms/step - batch: 4.5000 - size: 32.0000 - loss: 0.5195 - val_loss: 1.1522\n",
      "Epoch 251/500\n",
      "10/10 [==============================] - 1s 125ms/step - batch: 4.5000 - size: 32.0000 - loss: 0.5295 - val_loss: 1.1607\n",
      "Epoch 252/500\n",
      "10/10 [==============================] - 1s 132ms/step - batch: 4.5000 - size: 32.0000 - loss: 0.5119 - val_loss: 1.1473\n",
      "Epoch 253/500\n",
      "10/10 [==============================] - 2s 147ms/step - batch: 4.5000 - size: 32.0000 - loss: 0.5191 - val_loss: 1.1370\n",
      "Epoch 254/500\n",
      "10/10 [==============================] - 1s 119ms/step - batch: 4.5000 - size: 32.0000 - loss: 0.5141 - val_loss: 1.1544\n",
      "Epoch 255/500\n",
      "10/10 [==============================] - 1s 111ms/step - batch: 4.5000 - size: 32.0000 - loss: 0.5134 - val_loss: 1.1993\n",
      "Epoch 256/500\n",
      "10/10 [==============================] - 1s 111ms/step - batch: 4.5000 - size: 32.0000 - loss: 0.5073 - val_loss: 1.1613\n",
      "Epoch 257/500\n",
      "10/10 [==============================] - 1s 114ms/step - batch: 4.5000 - size: 32.0000 - loss: 0.5040 - val_loss: 1.1581\n",
      "Epoch 258/500\n",
      "10/10 [==============================] - 1s 111ms/step - batch: 4.5000 - size: 32.0000 - loss: 0.5369 - val_loss: 1.1543\n",
      "Epoch 259/500\n",
      "10/10 [==============================] - 1s 112ms/step - batch: 4.5000 - size: 32.0000 - loss: 0.4988 - val_loss: 1.1553\n",
      "Epoch 260/500\n",
      "10/10 [==============================] - ETA: 0s - batch: 4.5000 - size: 32.0000 - loss: 0.5097Get map.\n"
     ]
    },
    {
     "name": "stderr",
     "output_type": "stream",
     "text": [
      "100%|██████████| 346/346 [00:02<00:00, 165.26it/s]\n"
     ]
    },
    {
     "name": "stdout",
     "output_type": "stream",
     "text": [
      "Calculate Map.\n",
      "Path '.temp_map_out/results' already exists.\n",
      "99.71% = good AP \t||\tscore_threhold=0.5 : F1=0.99 ; Recall=99.71% ; Precision=99.14%\n",
      "mAP = 99.71%\n",
      "Path '/home/zhangyouan/桌面/zya/NN_net/network/SSD/IMX_681_ssd_mobilenet_git/keras/detection/SSD_ipynb_transfer_callback/output/20230810/loss_2023_08_10_05_23_31' already exists.\n",
      "Get map done.\n",
      "10/10 [==============================] - 3s 364ms/step - batch: 4.5000 - size: 32.0000 - loss: 0.5097 - val_loss: 1.1730\n",
      "Epoch 261/500\n",
      "10/10 [==============================] - 1s 124ms/step - batch: 4.5000 - size: 32.0000 - loss: 0.5260 - val_loss: 1.2015\n",
      "Epoch 262/500\n",
      "10/10 [==============================] - 1s 135ms/step - batch: 4.5000 - size: 32.0000 - loss: 0.5064 - val_loss: 1.1650\n",
      "Epoch 263/500\n",
      "10/10 [==============================] - 1s 133ms/step - batch: 4.5000 - size: 32.0000 - loss: 0.4832 - val_loss: 1.1677\n",
      "Epoch 264/500\n",
      "10/10 [==============================] - 2s 174ms/step - batch: 4.5000 - size: 32.0000 - loss: 0.4997 - val_loss: 1.1703\n",
      "Epoch 265/500\n",
      "10/10 [==============================] - 1s 107ms/step - batch: 4.5000 - size: 32.0000 - loss: 0.4953 - val_loss: 1.1555\n",
      "Epoch 266/500\n",
      "10/10 [==============================] - 1s 114ms/step - batch: 4.5000 - size: 32.0000 - loss: 0.5104 - val_loss: 1.1774\n",
      "Epoch 267/500\n",
      "10/10 [==============================] - 1s 116ms/step - batch: 4.5000 - size: 32.0000 - loss: 0.5176 - val_loss: 1.1636\n",
      "Epoch 268/500\n",
      "10/10 [==============================] - 1s 112ms/step - batch: 4.5000 - size: 32.0000 - loss: 0.4673 - val_loss: 1.1597\n",
      "Epoch 269/500\n",
      "10/10 [==============================] - 1s 113ms/step - batch: 4.5000 - size: 32.0000 - loss: 0.5217 - val_loss: 1.1724\n",
      "Epoch 270/500\n",
      "10/10 [==============================] - ETA: 0s - batch: 4.5000 - size: 32.0000 - loss: 0.4952Get map.\n"
     ]
    },
    {
     "name": "stderr",
     "output_type": "stream",
     "text": [
      "100%|██████████| 346/346 [00:01<00:00, 199.61it/s]\n"
     ]
    },
    {
     "name": "stdout",
     "output_type": "stream",
     "text": [
      "Calculate Map.\n",
      "Path '.temp_map_out/results' already exists.\n",
      "99.71% = good AP \t||\tscore_threhold=0.5 : F1=0.99 ; Recall=99.71% ; Precision=99.14%\n",
      "mAP = 99.71%\n",
      "Path '/home/zhangyouan/桌面/zya/NN_net/network/SSD/IMX_681_ssd_mobilenet_git/keras/detection/SSD_ipynb_transfer_callback/output/20230810/loss_2023_08_10_05_23_31' already exists.\n",
      "Get map done.\n",
      "10/10 [==============================] - 3s 325ms/step - batch: 4.5000 - size: 32.0000 - loss: 0.4952 - val_loss: 1.1722\n",
      "Epoch 271/500\n",
      "10/10 [==============================] - 1s 110ms/step - batch: 4.5000 - size: 32.0000 - loss: 0.4735 - val_loss: 1.1443\n",
      "Epoch 272/500\n",
      "10/10 [==============================] - 1s 123ms/step - batch: 4.5000 - size: 32.0000 - loss: 0.4813 - val_loss: 1.1634\n",
      "Epoch 273/500\n",
      "10/10 [==============================] - 1s 144ms/step - batch: 4.5000 - size: 32.0000 - loss: 0.4876 - val_loss: 1.1655\n",
      "Epoch 274/500\n",
      "10/10 [==============================] - 1s 136ms/step - batch: 4.5000 - size: 32.0000 - loss: 0.4781 - val_loss: 1.1524\n",
      "Epoch 275/500\n",
      "10/10 [==============================] - 2s 164ms/step - batch: 4.5000 - size: 32.0000 - loss: 0.4793 - val_loss: 1.1596\n",
      "Epoch 276/500\n",
      "10/10 [==============================] - 1s 107ms/step - batch: 4.5000 - size: 32.0000 - loss: 0.4768 - val_loss: 1.1685\n",
      "Epoch 277/500\n",
      "10/10 [==============================] - 1s 113ms/step - batch: 4.5000 - size: 32.0000 - loss: 0.4858 - val_loss: 1.1547\n",
      "Epoch 278/500\n",
      "10/10 [==============================] - 1s 113ms/step - batch: 4.5000 - size: 32.0000 - loss: 0.4973 - val_loss: 1.1596\n",
      "Epoch 279/500\n",
      "10/10 [==============================] - 1s 113ms/step - batch: 4.5000 - size: 32.0000 - loss: 0.4749 - val_loss: 1.1692\n",
      "Epoch 280/500\n",
      "10/10 [==============================] - ETA: 0s - batch: 4.5000 - size: 32.0000 - loss: 0.4653Get map.\n"
     ]
    },
    {
     "name": "stderr",
     "output_type": "stream",
     "text": [
      "100%|██████████| 346/346 [00:01<00:00, 192.27it/s]\n"
     ]
    },
    {
     "name": "stdout",
     "output_type": "stream",
     "text": [
      "Calculate Map.\n",
      "Path '.temp_map_out/results' already exists.\n",
      "99.71% = good AP \t||\tscore_threhold=0.5 : F1=0.99 ; Recall=99.71% ; Precision=98.85%\n",
      "mAP = 99.71%\n",
      "Path '/home/zhangyouan/桌面/zya/NN_net/network/SSD/IMX_681_ssd_mobilenet_git/keras/detection/SSD_ipynb_transfer_callback/output/20230810/loss_2023_08_10_05_23_31' already exists.\n",
      "Get map done.\n",
      "10/10 [==============================] - 3s 331ms/step - batch: 4.5000 - size: 32.0000 - loss: 0.4653 - val_loss: 1.1681\n",
      "Epoch 281/500\n",
      "10/10 [==============================] - 1s 111ms/step - batch: 4.5000 - size: 32.0000 - loss: 0.4882 - val_loss: 1.1489\n",
      "Epoch 282/500\n",
      "10/10 [==============================] - 1s 111ms/step - batch: 4.5000 - size: 32.0000 - loss: 0.4672 - val_loss: 1.1774\n",
      "Epoch 283/500\n",
      "10/10 [==============================] - 1s 123ms/step - batch: 4.5000 - size: 32.0000 - loss: 0.4857 - val_loss: 1.1672\n",
      "Epoch 284/500\n",
      "10/10 [==============================] - 1s 151ms/step - batch: 4.5000 - size: 32.0000 - loss: 0.4825 - val_loss: 1.1669\n",
      "Epoch 285/500\n",
      "10/10 [==============================] - 1s 139ms/step - batch: 4.5000 - size: 32.0000 - loss: 0.4909 - val_loss: 1.1906\n",
      "Epoch 286/500\n",
      "10/10 [==============================] - 1s 141ms/step - batch: 4.5000 - size: 32.0000 - loss: 0.4752 - val_loss: 1.1560\n",
      "Epoch 287/500\n",
      "10/10 [==============================] - 1s 108ms/step - batch: 4.5000 - size: 32.0000 - loss: 0.4730 - val_loss: 1.1626\n",
      "Epoch 288/500\n",
      "10/10 [==============================] - 1s 113ms/step - batch: 4.5000 - size: 32.0000 - loss: 0.4667 - val_loss: 1.1875\n",
      "Epoch 289/500\n",
      "10/10 [==============================] - 1s 113ms/step - batch: 4.5000 - size: 32.0000 - loss: 0.4466 - val_loss: 1.1563\n",
      "Epoch 290/500\n",
      "10/10 [==============================] - ETA: 0s - batch: 4.5000 - size: 32.0000 - loss: 0.4930Get map.\n"
     ]
    },
    {
     "name": "stderr",
     "output_type": "stream",
     "text": [
      "100%|██████████| 346/346 [00:01<00:00, 199.66it/s]\n"
     ]
    },
    {
     "name": "stdout",
     "output_type": "stream",
     "text": [
      "Calculate Map.\n",
      "Path '.temp_map_out/results' already exists.\n",
      "99.71% = good AP \t||\tscore_threhold=0.5 : F1=0.99 ; Recall=99.71% ; Precision=98.29%\n",
      "mAP = 99.71%\n",
      "Path '/home/zhangyouan/桌面/zya/NN_net/network/SSD/IMX_681_ssd_mobilenet_git/keras/detection/SSD_ipynb_transfer_callback/output/20230810/loss_2023_08_10_05_23_31' already exists.\n",
      "Get map done.\n",
      "10/10 [==============================] - 3s 326ms/step - batch: 4.5000 - size: 32.0000 - loss: 0.4930 - val_loss: 1.1785\n",
      "Epoch 291/500\n",
      "10/10 [==============================] - 1s 110ms/step - batch: 4.5000 - size: 32.0000 - loss: 0.4648 - val_loss: 1.1696\n",
      "Epoch 292/500\n",
      "10/10 [==============================] - 1s 112ms/step - batch: 4.5000 - size: 32.0000 - loss: 0.4678 - val_loss: 1.1731\n",
      "Epoch 293/500\n",
      "10/10 [==============================] - 1s 114ms/step - batch: 4.5000 - size: 32.0000 - loss: 0.4406 - val_loss: 1.1731\n",
      "Epoch 294/500\n",
      "10/10 [==============================] - 1s 124ms/step - batch: 4.5000 - size: 32.0000 - loss: 0.4701 - val_loss: 1.1648\n",
      "Epoch 295/500\n",
      "10/10 [==============================] - 1s 126ms/step - batch: 4.5000 - size: 32.0000 - loss: 0.4576 - val_loss: 1.1854\n",
      "Epoch 296/500\n",
      "10/10 [==============================] - 1s 133ms/step - batch: 4.5000 - size: 32.0000 - loss: 0.4533 - val_loss: 1.1672\n",
      "Epoch 297/500\n",
      "10/10 [==============================] - 2s 145ms/step - batch: 4.5000 - size: 32.0000 - loss: 0.4555 - val_loss: 1.1739\n",
      "Epoch 298/500\n",
      "10/10 [==============================] - 1s 107ms/step - batch: 4.5000 - size: 32.0000 - loss: 0.4566 - val_loss: 1.1715\n",
      "Epoch 299/500\n",
      "10/10 [==============================] - 1s 114ms/step - batch: 4.5000 - size: 32.0000 - loss: 0.4592 - val_loss: 1.1901\n",
      "Epoch 300/500\n",
      "10/10 [==============================] - ETA: 0s - batch: 4.5000 - size: 32.0000 - loss: 0.4670Get map.\n"
     ]
    },
    {
     "name": "stderr",
     "output_type": "stream",
     "text": [
      "100%|██████████| 346/346 [00:01<00:00, 184.61it/s]\n"
     ]
    },
    {
     "name": "stdout",
     "output_type": "stream",
     "text": [
      "Calculate Map.\n",
      "Path '.temp_map_out/results' already exists.\n",
      "99.71% = good AP \t||\tscore_threhold=0.5 : F1=0.99 ; Recall=99.71% ; Precision=98.85%\n",
      "mAP = 99.71%\n",
      "Path '/home/zhangyouan/桌面/zya/NN_net/network/SSD/IMX_681_ssd_mobilenet_git/keras/detection/SSD_ipynb_transfer_callback/output/20230810/loss_2023_08_10_05_23_31' already exists.\n",
      "Get map done.\n",
      "10/10 [==============================] - 3s 340ms/step - batch: 4.5000 - size: 32.0000 - loss: 0.4670 - val_loss: 1.1726\n",
      "Epoch 301/500\n",
      "10/10 [==============================] - 1s 112ms/step - batch: 4.5000 - size: 32.0000 - loss: 0.4413 - val_loss: 1.1798\n",
      "Epoch 302/500\n",
      "10/10 [==============================] - 1s 111ms/step - batch: 4.5000 - size: 32.0000 - loss: 0.4606 - val_loss: 1.1837\n",
      "Epoch 303/500\n",
      "10/10 [==============================] - 1s 112ms/step - batch: 4.5000 - size: 32.0000 - loss: 0.4491 - val_loss: 1.1668\n",
      "Epoch 304/500\n",
      "10/10 [==============================] - 1s 111ms/step - batch: 4.5000 - size: 32.0000 - loss: 0.4586 - val_loss: 1.1994\n",
      "Epoch 305/500\n",
      "10/10 [==============================] - 1s 124ms/step - batch: 4.5000 - size: 32.0000 - loss: 0.4573 - val_loss: 1.1772\n",
      "Epoch 306/500\n",
      "10/10 [==============================] - 1s 126ms/step - batch: 4.5000 - size: 32.0000 - loss: 0.4444 - val_loss: 1.1771\n",
      "Epoch 307/500\n",
      "10/10 [==============================] - 1s 131ms/step - batch: 4.5000 - size: 32.0000 - loss: 0.4514 - val_loss: 1.1727\n",
      "Epoch 308/500\n",
      "10/10 [==============================] - 2s 162ms/step - batch: 4.5000 - size: 32.0000 - loss: 0.4457 - val_loss: 1.1863\n",
      "Epoch 309/500\n",
      "10/10 [==============================] - 1s 108ms/step - batch: 4.5000 - size: 32.0000 - loss: 0.4439 - val_loss: 1.1914\n",
      "Epoch 310/500\n",
      "10/10 [==============================] - ETA: 0s - batch: 4.5000 - size: 32.0000 - loss: 0.4443Get map.\n"
     ]
    },
    {
     "name": "stderr",
     "output_type": "stream",
     "text": [
      "100%|██████████| 346/346 [00:01<00:00, 185.67it/s]\n"
     ]
    },
    {
     "name": "stdout",
     "output_type": "stream",
     "text": [
      "Calculate Map.\n",
      "Path '.temp_map_out/results' already exists.\n",
      "99.71% = good AP \t||\tscore_threhold=0.5 : F1=0.99 ; Recall=99.71% ; Precision=98.85%\n",
      "mAP = 99.71%\n",
      "Path '/home/zhangyouan/桌面/zya/NN_net/network/SSD/IMX_681_ssd_mobilenet_git/keras/detection/SSD_ipynb_transfer_callback/output/20230810/loss_2023_08_10_05_23_31' already exists.\n",
      "Get map done.\n",
      "10/10 [==============================] - 3s 341ms/step - batch: 4.5000 - size: 32.0000 - loss: 0.4443 - val_loss: 1.1852\n",
      "Epoch 311/500\n",
      "10/10 [==============================] - 1s 111ms/step - batch: 4.5000 - size: 32.0000 - loss: 0.4348 - val_loss: 1.1719\n",
      "Epoch 312/500\n",
      "10/10 [==============================] - 1s 111ms/step - batch: 4.5000 - size: 32.0000 - loss: 0.4513 - val_loss: 1.1933\n",
      "Epoch 313/500\n",
      "10/10 [==============================] - 1s 112ms/step - batch: 4.5000 - size: 32.0000 - loss: 0.4477 - val_loss: 1.1846\n",
      "Epoch 314/500\n",
      "10/10 [==============================] - 1s 112ms/step - batch: 4.5000 - size: 32.0000 - loss: 0.4694 - val_loss: 1.2244\n",
      "Epoch 315/500\n",
      "10/10 [==============================] - 1s 112ms/step - batch: 4.5000 - size: 32.0000 - loss: 0.4488 - val_loss: 1.1819\n",
      "Epoch 316/500\n",
      "10/10 [==============================] - 1s 123ms/step - batch: 4.5000 - size: 32.0000 - loss: 0.4636 - val_loss: 1.1962\n",
      "Epoch 317/500\n",
      "10/10 [==============================] - 1s 119ms/step - batch: 4.5000 - size: 32.0000 - loss: 0.4507 - val_loss: 1.1925\n",
      "Epoch 318/500\n",
      "10/10 [==============================] - 1s 135ms/step - batch: 4.5000 - size: 32.0000 - loss: 0.4304 - val_loss: 1.1749\n",
      "Epoch 319/500\n",
      "10/10 [==============================] - 1s 147ms/step - batch: 4.5000 - size: 32.0000 - loss: 0.4431 - val_loss: 1.2024\n",
      "Epoch 320/500\n",
      "10/10 [==============================] - ETA: 0s - batch: 4.5000 - size: 32.0000 - loss: 0.4484Get map.\n"
     ]
    },
    {
     "name": "stderr",
     "output_type": "stream",
     "text": [
      "100%|██████████| 346/346 [00:01<00:00, 178.86it/s]\n"
     ]
    },
    {
     "name": "stdout",
     "output_type": "stream",
     "text": [
      "Calculate Map.\n",
      "Path '.temp_map_out/results' already exists.\n",
      "99.71% = good AP \t||\tscore_threhold=0.5 : F1=0.99 ; Recall=99.71% ; Precision=98.29%\n",
      "mAP = 99.71%\n",
      "Path '/home/zhangyouan/桌面/zya/NN_net/network/SSD/IMX_681_ssd_mobilenet_git/keras/detection/SSD_ipynb_transfer_callback/output/20230810/loss_2023_08_10_05_23_31' already exists.\n",
      "Get map done.\n",
      "10/10 [==============================] - 3s 346ms/step - batch: 4.5000 - size: 32.0000 - loss: 0.4484 - val_loss: 1.1980\n",
      "Epoch 321/500\n",
      "10/10 [==============================] - 1s 117ms/step - batch: 4.5000 - size: 32.0000 - loss: 0.4339 - val_loss: 1.1857\n",
      "Epoch 322/500\n",
      "10/10 [==============================] - 1s 111ms/step - batch: 4.5000 - size: 32.0000 - loss: 0.4433 - val_loss: 1.1954\n",
      "Epoch 323/500\n",
      "10/10 [==============================] - 1s 111ms/step - batch: 4.5000 - size: 32.0000 - loss: 0.4326 - val_loss: 1.1872\n",
      "Epoch 324/500\n",
      "10/10 [==============================] - 1s 111ms/step - batch: 4.5000 - size: 32.0000 - loss: 0.4388 - val_loss: 1.2016\n",
      "Epoch 325/500\n",
      "10/10 [==============================] - 1s 113ms/step - batch: 4.5000 - size: 32.0000 - loss: 0.4413 - val_loss: 1.1864\n",
      "Epoch 326/500\n",
      "10/10 [==============================] - 1s 113ms/step - batch: 4.5000 - size: 32.0000 - loss: 0.4246 - val_loss: 1.1809\n",
      "Epoch 327/500\n",
      "10/10 [==============================] - 1s 111ms/step - batch: 4.5000 - size: 32.0000 - loss: 0.4526 - val_loss: 1.2181\n",
      "Epoch 328/500\n",
      "10/10 [==============================] - 1s 123ms/step - batch: 4.5000 - size: 32.0000 - loss: 0.4184 - val_loss: 1.1878\n",
      "Epoch 329/500\n",
      "10/10 [==============================] - 1s 136ms/step - batch: 4.5000 - size: 32.0000 - loss: 0.4348 - val_loss: 1.2022\n",
      "Epoch 330/500\n",
      "10/10 [==============================] - ETA: 0s - batch: 4.5000 - size: 32.0000 - loss: 0.4265Get map.\n"
     ]
    },
    {
     "name": "stderr",
     "output_type": "stream",
     "text": [
      "100%|██████████| 346/346 [00:01<00:00, 211.12it/s]\n"
     ]
    },
    {
     "name": "stdout",
     "output_type": "stream",
     "text": [
      "Calculate Map.\n",
      "Path '.temp_map_out/results' already exists.\n",
      "99.71% = good AP \t||\tscore_threhold=0.5 : F1=0.99 ; Recall=99.71% ; Precision=98.57%\n",
      "mAP = 99.71%\n",
      "Path '/home/zhangyouan/桌面/zya/NN_net/network/SSD/IMX_681_ssd_mobilenet_git/keras/detection/SSD_ipynb_transfer_callback/output/20230810/loss_2023_08_10_05_23_31' already exists.\n",
      "Get map done.\n",
      "10/10 [==============================] - 3s 361ms/step - batch: 4.5000 - size: 32.0000 - loss: 0.4265 - val_loss: 1.1904\n",
      "Epoch 331/500\n",
      "10/10 [==============================] - 1s 108ms/step - batch: 4.5000 - size: 32.0000 - loss: 0.4227 - val_loss: 1.2007\n",
      "Epoch 332/500\n",
      "10/10 [==============================] - 1s 114ms/step - batch: 4.5000 - size: 32.0000 - loss: 0.4223 - val_loss: 1.1925\n",
      "Epoch 333/500\n",
      "10/10 [==============================] - 1s 114ms/step - batch: 4.5000 - size: 32.0000 - loss: 0.4272 - val_loss: 1.2126\n",
      "Epoch 334/500\n",
      "10/10 [==============================] - 1s 120ms/step - batch: 4.5000 - size: 32.0000 - loss: 0.4194 - val_loss: 1.1974\n",
      "Epoch 335/500\n",
      "10/10 [==============================] - 1s 112ms/step - batch: 4.5000 - size: 32.0000 - loss: 0.4294 - val_loss: 1.2037\n",
      "Epoch 336/500\n",
      "10/10 [==============================] - 1s 113ms/step - batch: 4.5000 - size: 32.0000 - loss: 0.4119 - val_loss: 1.1967\n",
      "Epoch 337/500\n",
      "10/10 [==============================] - 1s 113ms/step - batch: 4.5000 - size: 32.0000 - loss: 0.4247 - val_loss: 1.1968\n",
      "Epoch 338/500\n",
      "10/10 [==============================] - 1s 112ms/step - batch: 4.5000 - size: 32.0000 - loss: 0.4181 - val_loss: 1.2103\n",
      "Epoch 339/500\n",
      "10/10 [==============================] - 1s 122ms/step - batch: 4.5000 - size: 32.0000 - loss: 0.4242 - val_loss: 1.1910\n",
      "Epoch 340/500\n",
      "10/10 [==============================] - ETA: 0s - batch: 4.5000 - size: 32.0000 - loss: 0.4232Get map.\n"
     ]
    },
    {
     "name": "stderr",
     "output_type": "stream",
     "text": [
      "100%|██████████| 346/346 [00:01<00:00, 214.56it/s]\n"
     ]
    },
    {
     "name": "stdout",
     "output_type": "stream",
     "text": [
      "Calculate Map.\n",
      "Path '.temp_map_out/results' already exists.\n",
      "99.71% = good AP \t||\tscore_threhold=0.5 : F1=0.99 ; Recall=99.71% ; Precision=98.57%\n",
      "mAP = 99.71%\n",
      "Path '/home/zhangyouan/桌面/zya/NN_net/network/SSD/IMX_681_ssd_mobilenet_git/keras/detection/SSD_ipynb_transfer_callback/output/20230810/loss_2023_08_10_05_23_31' already exists.\n",
      "Get map done.\n",
      "10/10 [==============================] - 3s 324ms/step - batch: 4.5000 - size: 32.0000 - loss: 0.4232 - val_loss: 1.1956\n",
      "Epoch 341/500\n",
      "10/10 [==============================] - 1s 129ms/step - batch: 4.5000 - size: 32.0000 - loss: 0.4107 - val_loss: 1.2028\n",
      "Epoch 342/500\n",
      "10/10 [==============================] - 1s 109ms/step - batch: 4.5000 - size: 32.0000 - loss: 0.4142 - val_loss: 1.1987\n",
      "Epoch 343/500\n",
      "10/10 [==============================] - 1s 113ms/step - batch: 4.5000 - size: 32.0000 - loss: 0.4058 - val_loss: 1.1970\n",
      "Epoch 344/500\n",
      "10/10 [==============================] - 1s 112ms/step - batch: 4.5000 - size: 32.0000 - loss: 0.4126 - val_loss: 1.2009\n",
      "Epoch 345/500\n",
      "10/10 [==============================] - 1s 113ms/step - batch: 4.5000 - size: 32.0000 - loss: 0.4273 - val_loss: 1.2216\n",
      "Epoch 346/500\n",
      "10/10 [==============================] - 1s 113ms/step - batch: 4.5000 - size: 32.0000 - loss: 0.4208 - val_loss: 1.2030\n",
      "Epoch 347/500\n",
      "10/10 [==============================] - 1s 112ms/step - batch: 4.5000 - size: 32.0000 - loss: 0.4152 - val_loss: 1.2288\n",
      "Epoch 348/500\n",
      "10/10 [==============================] - 1s 119ms/step - batch: 4.5000 - size: 32.0000 - loss: 0.4206 - val_loss: 1.1949\n",
      "Epoch 349/500\n",
      "10/10 [==============================] - 1s 124ms/step - batch: 4.5000 - size: 32.0000 - loss: 0.4108 - val_loss: 1.2031\n",
      "Epoch 350/500\n",
      "10/10 [==============================] - ETA: 0s - batch: 4.5000 - size: 32.0000 - loss: 0.4076Get map.\n"
     ]
    },
    {
     "name": "stderr",
     "output_type": "stream",
     "text": [
      "100%|██████████| 346/346 [00:02<00:00, 161.09it/s]\n"
     ]
    },
    {
     "name": "stdout",
     "output_type": "stream",
     "text": [
      "Calculate Map.\n",
      "Path '.temp_map_out/results' already exists.\n",
      "99.71% = good AP \t||\tscore_threhold=0.5 : F1=0.99 ; Recall=99.71% ; Precision=98.57%\n",
      "mAP = 99.71%\n",
      "Path '/home/zhangyouan/桌面/zya/NN_net/network/SSD/IMX_681_ssd_mobilenet_git/keras/detection/SSD_ipynb_transfer_callback/output/20230810/loss_2023_08_10_05_23_31' already exists.\n",
      "Get map done.\n",
      "10/10 [==============================] - 4s 422ms/step - batch: 4.5000 - size: 32.0000 - loss: 0.4076 - val_loss: 1.2041\n",
      "Epoch 351/500\n",
      "10/10 [==============================] - 1s 132ms/step - batch: 4.5000 - size: 32.0000 - loss: 0.4214 - val_loss: 1.2083\n",
      "Epoch 352/500\n",
      "10/10 [==============================] - 2s 156ms/step - batch: 4.5000 - size: 32.0000 - loss: 0.4097 - val_loss: 1.2130\n",
      "Epoch 353/500\n",
      "10/10 [==============================] - 1s 114ms/step - batch: 4.5000 - size: 32.0000 - loss: 0.4260 - val_loss: 1.2062\n",
      "Epoch 354/500\n",
      "10/10 [==============================] - 1s 112ms/step - batch: 4.5000 - size: 32.0000 - loss: 0.3965 - val_loss: 1.2152\n",
      "Epoch 355/500\n",
      "10/10 [==============================] - 1s 113ms/step - batch: 4.5000 - size: 32.0000 - loss: 0.4036 - val_loss: 1.1972\n",
      "Epoch 356/500\n",
      "10/10 [==============================] - 1s 118ms/step - batch: 4.5000 - size: 32.0000 - loss: 0.4104 - val_loss: 1.2042\n",
      "Epoch 357/500\n",
      "10/10 [==============================] - 1s 116ms/step - batch: 4.5000 - size: 32.0000 - loss: 0.4231 - val_loss: 1.2057\n",
      "Epoch 358/500\n",
      "10/10 [==============================] - 1s 113ms/step - batch: 4.5000 - size: 32.0000 - loss: 0.4048 - val_loss: 1.2138\n",
      "Epoch 359/500\n",
      "10/10 [==============================] - 1s 111ms/step - batch: 4.5000 - size: 32.0000 - loss: 0.3981 - val_loss: 1.2050\n",
      "Epoch 360/500\n",
      "10/10 [==============================] - ETA: 0s - batch: 4.5000 - size: 32.0000 - loss: 0.3871Get map.\n"
     ]
    },
    {
     "name": "stderr",
     "output_type": "stream",
     "text": [
      "100%|██████████| 346/346 [00:01<00:00, 192.54it/s]\n"
     ]
    },
    {
     "name": "stdout",
     "output_type": "stream",
     "text": [
      "Calculate Map.\n",
      "Path '.temp_map_out/results' already exists.\n",
      "99.71% = good AP \t||\tscore_threhold=0.5 : F1=0.99 ; Recall=99.71% ; Precision=98.57%\n",
      "mAP = 99.71%\n",
      "Path '/home/zhangyouan/桌面/zya/NN_net/network/SSD/IMX_681_ssd_mobilenet_git/keras/detection/SSD_ipynb_transfer_callback/output/20230810/loss_2023_08_10_05_23_31' already exists.\n",
      "Get map done.\n",
      "10/10 [==============================] - 3s 345ms/step - batch: 4.5000 - size: 32.0000 - loss: 0.3871 - val_loss: 1.2168\n",
      "Epoch 361/500\n",
      "10/10 [==============================] - 1s 121ms/step - batch: 4.5000 - size: 32.0000 - loss: 0.4115 - val_loss: 1.2094\n",
      "Epoch 362/500\n",
      "10/10 [==============================] - 1s 138ms/step - batch: 4.5000 - size: 32.0000 - loss: 0.3988 - val_loss: 1.2109\n",
      "Epoch 363/500\n",
      "10/10 [==============================] - 1s 143ms/step - batch: 4.5000 - size: 32.0000 - loss: 0.4052 - val_loss: 1.2142\n",
      "Epoch 364/500\n",
      "10/10 [==============================] - 1s 108ms/step - batch: 4.5000 - size: 32.0000 - loss: 0.3964 - val_loss: 1.2155\n",
      "Epoch 365/500\n",
      "10/10 [==============================] - 1s 113ms/step - batch: 4.5000 - size: 32.0000 - loss: 0.4028 - val_loss: 1.2233\n",
      "Epoch 366/500\n",
      "10/10 [==============================] - 1s 113ms/step - batch: 4.5000 - size: 32.0000 - loss: 0.4094 - val_loss: 1.2138\n",
      "Epoch 367/500\n",
      "10/10 [==============================] - 1s 117ms/step - batch: 4.5000 - size: 32.0000 - loss: 0.3867 - val_loss: 1.2045\n",
      "Epoch 368/500\n",
      "10/10 [==============================] - 1s 112ms/step - batch: 4.5000 - size: 32.0000 - loss: 0.4144 - val_loss: 1.2219\n",
      "Epoch 369/500\n",
      "10/10 [==============================] - 1s 112ms/step - batch: 4.5000 - size: 32.0000 - loss: 0.4001 - val_loss: 1.2136\n",
      "Epoch 370/500\n",
      "10/10 [==============================] - ETA: 0s - batch: 4.5000 - size: 32.0000 - loss: 0.3855Get map.\n"
     ]
    },
    {
     "name": "stderr",
     "output_type": "stream",
     "text": [
      "100%|██████████| 346/346 [00:01<00:00, 198.86it/s]\n"
     ]
    },
    {
     "name": "stdout",
     "output_type": "stream",
     "text": [
      "Calculate Map.\n",
      "Path '.temp_map_out/results' already exists.\n",
      "99.71% = good AP \t||\tscore_threhold=0.5 : F1=0.99 ; Recall=99.71% ; Precision=98.57%\n",
      "mAP = 99.71%\n",
      "Path '/home/zhangyouan/桌面/zya/NN_net/network/SSD/IMX_681_ssd_mobilenet_git/keras/detection/SSD_ipynb_transfer_callback/output/20230810/loss_2023_08_10_05_23_31' already exists.\n",
      "Get map done.\n",
      "10/10 [==============================] - 3s 324ms/step - batch: 4.5000 - size: 32.0000 - loss: 0.3855 - val_loss: 1.2174\n",
      "Epoch 371/500\n",
      "10/10 [==============================] - 1s 120ms/step - batch: 4.5000 - size: 32.0000 - loss: 0.4075 - val_loss: 1.2340\n",
      "Epoch 372/500\n",
      "10/10 [==============================] - 1s 139ms/step - batch: 4.5000 - size: 32.0000 - loss: 0.3937 - val_loss: 1.2084\n",
      "Epoch 373/500\n",
      "10/10 [==============================] - 1s 137ms/step - batch: 4.5000 - size: 32.0000 - loss: 0.4039 - val_loss: 1.2152\n",
      "Epoch 374/500\n",
      "10/10 [==============================] - 1s 140ms/step - batch: 4.5000 - size: 32.0000 - loss: 0.4033 - val_loss: 1.2201\n",
      "Epoch 375/500\n",
      "10/10 [==============================] - 1s 109ms/step - batch: 4.5000 - size: 32.0000 - loss: 0.3957 - val_loss: 1.2194\n",
      "Epoch 376/500\n",
      "10/10 [==============================] - 1s 111ms/step - batch: 4.5000 - size: 32.0000 - loss: 0.3837 - val_loss: 1.2226\n",
      "Epoch 377/500\n",
      "10/10 [==============================] - 1s 112ms/step - batch: 4.5000 - size: 32.0000 - loss: 0.4094 - val_loss: 1.2210\n",
      "Epoch 378/500\n",
      "10/10 [==============================] - 1s 114ms/step - batch: 4.5000 - size: 32.0000 - loss: 0.3832 - val_loss: 1.2213\n",
      "Epoch 379/500\n",
      "10/10 [==============================] - 1s 113ms/step - batch: 4.5000 - size: 32.0000 - loss: 0.3824 - val_loss: 1.2238\n",
      "Epoch 380/500\n",
      "10/10 [==============================] - ETA: 0s - batch: 4.5000 - size: 32.0000 - loss: 0.3967Get map.\n"
     ]
    },
    {
     "name": "stderr",
     "output_type": "stream",
     "text": [
      "100%|██████████| 346/346 [00:01<00:00, 193.50it/s]\n"
     ]
    },
    {
     "name": "stdout",
     "output_type": "stream",
     "text": [
      "Calculate Map.\n",
      "Path '.temp_map_out/results' already exists.\n",
      "99.71% = good AP \t||\tscore_threhold=0.5 : F1=0.99 ; Recall=99.71% ; Precision=98.85%\n",
      "mAP = 99.71%\n",
      "Path '/home/zhangyouan/桌面/zya/NN_net/network/SSD/IMX_681_ssd_mobilenet_git/keras/detection/SSD_ipynb_transfer_callback/output/20230810/loss_2023_08_10_05_23_31' already exists.\n",
      "Get map done.\n",
      "10/10 [==============================] - 3s 334ms/step - batch: 4.5000 - size: 32.0000 - loss: 0.3967 - val_loss: 1.2156\n",
      "Epoch 381/500\n",
      "10/10 [==============================] - 1s 110ms/step - batch: 4.5000 - size: 32.0000 - loss: 0.3994 - val_loss: 1.2212\n",
      "Epoch 382/500\n",
      "10/10 [==============================] - 1s 124ms/step - batch: 4.5000 - size: 32.0000 - loss: 0.3763 - val_loss: 1.2195\n",
      "Epoch 383/500\n",
      "10/10 [==============================] - 1s 125ms/step - batch: 4.5000 - size: 32.0000 - loss: 0.3993 - val_loss: 1.2132\n",
      "Epoch 384/500\n",
      "10/10 [==============================] - 1s 133ms/step - batch: 4.5000 - size: 32.0000 - loss: 0.3889 - val_loss: 1.2349\n",
      "Epoch 385/500\n",
      "10/10 [==============================] - 1s 146ms/step - batch: 4.5000 - size: 32.0000 - loss: 0.3885 - val_loss: 1.2239\n",
      "Epoch 386/500\n",
      "10/10 [==============================] - 1s 109ms/step - batch: 4.5000 - size: 32.0000 - loss: 0.3879 - val_loss: 1.2229\n",
      "Epoch 387/500\n",
      "10/10 [==============================] - 1s 111ms/step - batch: 4.5000 - size: 32.0000 - loss: 0.3880 - val_loss: 1.2190\n",
      "Epoch 388/500\n",
      "10/10 [==============================] - 1s 113ms/step - batch: 4.5000 - size: 32.0000 - loss: 0.3832 - val_loss: 1.2232\n",
      "Epoch 389/500\n",
      "10/10 [==============================] - 1s 112ms/step - batch: 4.5000 - size: 32.0000 - loss: 0.3866 - val_loss: 1.2196\n",
      "Epoch 390/500\n",
      "10/10 [==============================] - ETA: 0s - batch: 4.5000 - size: 32.0000 - loss: 0.3743Get map.\n"
     ]
    },
    {
     "name": "stderr",
     "output_type": "stream",
     "text": [
      "100%|██████████| 346/346 [00:02<00:00, 170.11it/s]\n"
     ]
    },
    {
     "name": "stdout",
     "output_type": "stream",
     "text": [
      "Calculate Map.\n",
      "Path '.temp_map_out/results' already exists.\n",
      "99.71% = good AP \t||\tscore_threhold=0.5 : F1=0.99 ; Recall=99.71% ; Precision=98.57%\n",
      "mAP = 99.71%\n",
      "Path '/home/zhangyouan/桌面/zya/NN_net/network/SSD/IMX_681_ssd_mobilenet_git/keras/detection/SSD_ipynb_transfer_callback/output/20230810/loss_2023_08_10_05_23_31' already exists.\n",
      "Get map done.\n",
      "10/10 [==============================] - 3s 361ms/step - batch: 4.5000 - size: 32.0000 - loss: 0.3743 - val_loss: 1.2216\n",
      "Epoch 391/500\n",
      "10/10 [==============================] - 1s 122ms/step - batch: 4.5000 - size: 32.0000 - loss: 0.4023 - val_loss: 1.2277\n",
      "Epoch 392/500\n",
      "10/10 [==============================] - 1s 112ms/step - batch: 4.5000 - size: 32.0000 - loss: 0.3847 - val_loss: 1.2300\n",
      "Epoch 393/500\n",
      "10/10 [==============================] - 1s 112ms/step - batch: 4.5000 - size: 32.0000 - loss: 0.3926 - val_loss: 1.2289\n",
      "Epoch 394/500\n",
      "10/10 [==============================] - 1s 123ms/step - batch: 4.5000 - size: 32.0000 - loss: 0.3914 - val_loss: 1.2231\n",
      "Epoch 395/500\n",
      "10/10 [==============================] - 1s 137ms/step - batch: 4.5000 - size: 32.0000 - loss: 0.3783 - val_loss: 1.2310\n",
      "Epoch 396/500\n",
      "10/10 [==============================] - 2s 144ms/step - batch: 4.5000 - size: 32.0000 - loss: 0.3880 - val_loss: 1.2211\n",
      "Epoch 397/500\n",
      "10/10 [==============================] - 1s 108ms/step - batch: 4.5000 - size: 32.0000 - loss: 0.3831 - val_loss: 1.2227\n",
      "Epoch 398/500\n",
      "10/10 [==============================] - 1s 113ms/step - batch: 4.5000 - size: 32.0000 - loss: 0.3950 - val_loss: 1.2299\n",
      "Epoch 399/500\n",
      "10/10 [==============================] - 1s 112ms/step - batch: 4.5000 - size: 32.0000 - loss: 0.3804 - val_loss: 1.2579\n",
      "Epoch 400/500\n",
      "10/10 [==============================] - ETA: 0s - batch: 4.5000 - size: 32.0000 - loss: 0.3970Get map.\n"
     ]
    },
    {
     "name": "stderr",
     "output_type": "stream",
     "text": [
      "100%|██████████| 346/346 [00:01<00:00, 179.31it/s]\n"
     ]
    },
    {
     "name": "stdout",
     "output_type": "stream",
     "text": [
      "Calculate Map.\n",
      "Path '.temp_map_out/results' already exists.\n",
      "99.71% = good AP \t||\tscore_threhold=0.5 : F1=0.99 ; Recall=99.71% ; Precision=98.57%\n",
      "mAP = 99.71%\n",
      "Path '/home/zhangyouan/桌面/zya/NN_net/network/SSD/IMX_681_ssd_mobilenet_git/keras/detection/SSD_ipynb_transfer_callback/output/20230810/loss_2023_08_10_05_23_31' already exists.\n",
      "Get map done.\n",
      "10/10 [==============================] - 3s 346ms/step - batch: 4.5000 - size: 32.0000 - loss: 0.3970 - val_loss: 1.2331\n",
      "Epoch 401/500\n",
      "10/10 [==============================] - 1s 110ms/step - batch: 4.5000 - size: 32.0000 - loss: 0.3866 - val_loss: 1.2295\n",
      "Epoch 402/500\n",
      "10/10 [==============================] - 1s 110ms/step - batch: 4.5000 - size: 32.0000 - loss: 0.3568 - val_loss: 1.2234\n",
      "Epoch 403/500\n",
      "10/10 [==============================] - 1s 112ms/step - batch: 4.5000 - size: 32.0000 - loss: 0.3955 - val_loss: 1.2266\n",
      "Epoch 404/500\n",
      "10/10 [==============================] - 1s 122ms/step - batch: 4.5000 - size: 32.0000 - loss: 0.3891 - val_loss: 1.2322\n",
      "Epoch 405/500\n",
      "10/10 [==============================] - 1s 136ms/step - batch: 4.5000 - size: 32.0000 - loss: 0.3719 - val_loss: 1.2263\n",
      "Epoch 406/500\n",
      "10/10 [==============================] - 1s 134ms/step - batch: 4.5000 - size: 32.0000 - loss: 0.3941 - val_loss: 1.2335\n",
      "Epoch 407/500\n",
      "10/10 [==============================] - 2s 151ms/step - batch: 4.5000 - size: 32.0000 - loss: 0.3779 - val_loss: 1.2204\n",
      "Epoch 408/500\n",
      "10/10 [==============================] - 1s 108ms/step - batch: 4.5000 - size: 32.0000 - loss: 0.3841 - val_loss: 1.2282\n",
      "Epoch 409/500\n",
      "10/10 [==============================] - 1s 111ms/step - batch: 4.5000 - size: 32.0000 - loss: 0.3787 - val_loss: 1.2242\n",
      "Epoch 410/500\n",
      "10/10 [==============================] - ETA: 0s - batch: 4.5000 - size: 32.0000 - loss: 0.3868Get map.\n"
     ]
    },
    {
     "name": "stderr",
     "output_type": "stream",
     "text": [
      "100%|██████████| 346/346 [00:01<00:00, 179.95it/s]\n"
     ]
    },
    {
     "name": "stdout",
     "output_type": "stream",
     "text": [
      "Calculate Map.\n",
      "Path '.temp_map_out/results' already exists.\n",
      "99.71% = good AP \t||\tscore_threhold=0.5 : F1=0.99 ; Recall=99.71% ; Precision=98.29%\n",
      "mAP = 99.71%\n",
      "Path '/home/zhangyouan/桌面/zya/NN_net/network/SSD/IMX_681_ssd_mobilenet_git/keras/detection/SSD_ipynb_transfer_callback/output/20230810/loss_2023_08_10_05_23_31' already exists.\n",
      "Get map done.\n",
      "10/10 [==============================] - 3s 347ms/step - batch: 4.5000 - size: 32.0000 - loss: 0.3868 - val_loss: 1.2256\n",
      "Epoch 411/500\n",
      "10/10 [==============================] - 1s 111ms/step - batch: 4.5000 - size: 32.0000 - loss: 0.3751 - val_loss: 1.2316\n",
      "Epoch 412/500\n",
      "10/10 [==============================] - 1s 112ms/step - batch: 4.5000 - size: 32.0000 - loss: 0.3813 - val_loss: 1.2239\n",
      "Epoch 413/500\n",
      "10/10 [==============================] - 1s 114ms/step - batch: 4.5000 - size: 32.0000 - loss: 0.3717 - val_loss: 1.2328\n",
      "Epoch 414/500\n",
      "10/10 [==============================] - 1s 112ms/step - batch: 4.5000 - size: 32.0000 - loss: 0.3761 - val_loss: 1.2330\n",
      "Epoch 415/500\n",
      "10/10 [==============================] - 1s 113ms/step - batch: 4.5000 - size: 32.0000 - loss: 0.3780 - val_loss: 1.2260\n",
      "Epoch 416/500\n",
      "10/10 [==============================] - 1s 123ms/step - batch: 4.5000 - size: 32.0000 - loss: 0.3785 - val_loss: 1.2297\n",
      "Epoch 417/500\n",
      "10/10 [==============================] - 1s 134ms/step - batch: 4.5000 - size: 32.0000 - loss: 0.3745 - val_loss: 1.2308\n",
      "Epoch 418/500\n",
      "10/10 [==============================] - 1s 144ms/step - batch: 4.5000 - size: 32.0000 - loss: 0.3794 - val_loss: 1.2384\n",
      "Epoch 419/500\n",
      "10/10 [==============================] - 1s 108ms/step - batch: 4.5000 - size: 32.0000 - loss: 0.3875 - val_loss: 1.2432\n",
      "Epoch 420/500\n",
      "10/10 [==============================] - ETA: 0s - batch: 4.5000 - size: 32.0000 - loss: 0.3636Get map.\n"
     ]
    },
    {
     "name": "stderr",
     "output_type": "stream",
     "text": [
      "100%|██████████| 346/346 [00:01<00:00, 183.39it/s]\n"
     ]
    },
    {
     "name": "stdout",
     "output_type": "stream",
     "text": [
      "Calculate Map.\n",
      "Path '.temp_map_out/results' already exists.\n",
      "99.16% = good AP \t||\tscore_threhold=0.5 : F1=0.99 ; Recall=99.42% ; Precision=98.29%\n",
      "mAP = 99.16%\n",
      "Path '/home/zhangyouan/桌面/zya/NN_net/network/SSD/IMX_681_ssd_mobilenet_git/keras/detection/SSD_ipynb_transfer_callback/output/20230810/loss_2023_08_10_05_23_31' already exists.\n",
      "Get map done.\n",
      "10/10 [==============================] - 3s 340ms/step - batch: 4.5000 - size: 32.0000 - loss: 0.3636 - val_loss: 1.2332\n",
      "Epoch 421/500\n",
      "10/10 [==============================] - 1s 114ms/step - batch: 4.5000 - size: 32.0000 - loss: 0.3717 - val_loss: 1.2464\n",
      "Epoch 422/500\n",
      "10/10 [==============================] - 1s 111ms/step - batch: 4.5000 - size: 32.0000 - loss: 0.3820 - val_loss: 1.2472\n",
      "Epoch 423/500\n",
      "10/10 [==============================] - 1s 113ms/step - batch: 4.5000 - size: 32.0000 - loss: 0.3799 - val_loss: 1.2356\n",
      "Epoch 424/500\n",
      "10/10 [==============================] - 1s 114ms/step - batch: 4.5000 - size: 32.0000 - loss: 0.3701 - val_loss: 1.2357\n",
      "Epoch 425/500\n",
      "10/10 [==============================] - 1s 113ms/step - batch: 4.5000 - size: 32.0000 - loss: 0.3727 - val_loss: 1.2305\n",
      "Epoch 426/500\n",
      "10/10 [==============================] - 1s 113ms/step - batch: 4.5000 - size: 32.0000 - loss: 0.3861 - val_loss: 1.2310\n",
      "Epoch 427/500\n",
      "10/10 [==============================] - 1s 124ms/step - batch: 4.5000 - size: 32.0000 - loss: 0.3586 - val_loss: 1.2343\n",
      "Epoch 428/500\n",
      "10/10 [==============================] - 1s 134ms/step - batch: 4.5000 - size: 32.0000 - loss: 0.3766 - val_loss: 1.2325\n",
      "Epoch 429/500\n",
      "10/10 [==============================] - 1s 143ms/step - batch: 4.5000 - size: 32.0000 - loss: 0.3727 - val_loss: 1.2376\n",
      "Epoch 430/500\n",
      "10/10 [==============================] - ETA: 0s - batch: 4.5000 - size: 32.0000 - loss: 0.3751Get map.\n"
     ]
    },
    {
     "name": "stderr",
     "output_type": "stream",
     "text": [
      "100%|██████████| 346/346 [00:01<00:00, 198.04it/s]\n"
     ]
    },
    {
     "name": "stdout",
     "output_type": "stream",
     "text": [
      "Calculate Map.\n",
      "Path '.temp_map_out/results' already exists.\n",
      "99.16% = good AP \t||\tscore_threhold=0.5 : F1=0.99 ; Recall=99.42% ; Precision=98.29%\n",
      "mAP = 99.16%\n",
      "Path '/home/zhangyouan/桌面/zya/NN_net/network/SSD/IMX_681_ssd_mobilenet_git/keras/detection/SSD_ipynb_transfer_callback/output/20230810/loss_2023_08_10_05_23_31' already exists.\n",
      "Get map done.\n",
      "10/10 [==============================] - 3s 321ms/step - batch: 4.5000 - size: 32.0000 - loss: 0.3751 - val_loss: 1.2377\n",
      "Epoch 431/500\n",
      "10/10 [==============================] - 1s 110ms/step - batch: 4.5000 - size: 32.0000 - loss: 0.3702 - val_loss: 1.2413\n",
      "Epoch 432/500\n",
      "10/10 [==============================] - 1s 113ms/step - batch: 4.5000 - size: 32.0000 - loss: 0.3722 - val_loss: 1.2346\n",
      "Epoch 433/500\n",
      "10/10 [==============================] - 1s 113ms/step - batch: 4.5000 - size: 32.0000 - loss: 0.3688 - val_loss: 1.2501\n",
      "Epoch 434/500\n",
      "10/10 [==============================] - 1s 113ms/step - batch: 4.5000 - size: 32.0000 - loss: 0.3733 - val_loss: 1.2505\n",
      "Epoch 435/500\n",
      "10/10 [==============================] - 1s 114ms/step - batch: 4.5000 - size: 32.0000 - loss: 0.3711 - val_loss: 1.2425\n",
      "Epoch 436/500\n",
      "10/10 [==============================] - 1s 114ms/step - batch: 4.5000 - size: 32.0000 - loss: 0.3795 - val_loss: 1.2380\n",
      "Epoch 437/500\n",
      "10/10 [==============================] - 1s 114ms/step - batch: 4.5000 - size: 32.0000 - loss: 0.3783 - val_loss: 1.2338\n",
      "Epoch 438/500\n",
      "10/10 [==============================] - 1s 126ms/step - batch: 4.5000 - size: 32.0000 - loss: 0.3696 - val_loss: 1.2373\n",
      "Epoch 439/500\n",
      "10/10 [==============================] - 1s 133ms/step - batch: 4.5000 - size: 32.0000 - loss: 0.3738 - val_loss: 1.2415\n",
      "Epoch 440/500\n",
      "10/10 [==============================] - ETA: 0s - batch: 4.5000 - size: 32.0000 - loss: 0.3644Get map.\n"
     ]
    },
    {
     "name": "stderr",
     "output_type": "stream",
     "text": [
      "100%|██████████| 346/346 [00:01<00:00, 216.02it/s]\n"
     ]
    },
    {
     "name": "stdout",
     "output_type": "stream",
     "text": [
      "Calculate Map.\n",
      "Path '.temp_map_out/results' already exists.\n",
      "99.71% = good AP \t||\tscore_threhold=0.5 : F1=0.99 ; Recall=99.71% ; Precision=98.85%\n",
      "mAP = 99.71%\n",
      "Path '/home/zhangyouan/桌面/zya/NN_net/network/SSD/IMX_681_ssd_mobilenet_git/keras/detection/SSD_ipynb_transfer_callback/output/20230810/loss_2023_08_10_05_23_31' already exists.\n",
      "Get map done.\n",
      "10/10 [==============================] - 3s 330ms/step - batch: 4.5000 - size: 32.0000 - loss: 0.3644 - val_loss: 1.2375\n",
      "Epoch 441/500\n",
      "10/10 [==============================] - 1s 107ms/step - batch: 4.5000 - size: 32.0000 - loss: 0.3698 - val_loss: 1.2354\n",
      "Epoch 442/500\n",
      "10/10 [==============================] - 1s 112ms/step - batch: 4.5000 - size: 32.0000 - loss: 0.3766 - val_loss: 1.2372\n",
      "Epoch 443/500\n",
      "10/10 [==============================] - 1s 114ms/step - batch: 4.5000 - size: 32.0000 - loss: 0.3588 - val_loss: 1.2352\n",
      "Epoch 444/500\n",
      "10/10 [==============================] - 1s 113ms/step - batch: 4.5000 - size: 32.0000 - loss: 0.3671 - val_loss: 1.2348\n",
      "Epoch 445/500\n",
      "10/10 [==============================] - 1s 113ms/step - batch: 4.5000 - size: 32.0000 - loss: 0.3791 - val_loss: 1.2401\n",
      "Epoch 446/500\n",
      "10/10 [==============================] - 1s 111ms/step - batch: 4.5000 - size: 32.0000 - loss: 0.3572 - val_loss: 1.2406\n",
      "Epoch 447/500\n",
      "10/10 [==============================] - 1s 114ms/step - batch: 4.5000 - size: 32.0000 - loss: 0.3814 - val_loss: 1.2368\n",
      "Epoch 448/500\n",
      "10/10 [==============================] - 1s 112ms/step - batch: 4.5000 - size: 32.0000 - loss: 0.3641 - val_loss: 1.2355\n",
      "Epoch 449/500\n",
      "10/10 [==============================] - 1s 124ms/step - batch: 4.5000 - size: 32.0000 - loss: 0.3589 - val_loss: 1.2430\n",
      "Epoch 450/500\n",
      "10/10 [==============================] - ETA: 0s - batch: 4.5000 - size: 32.0000 - loss: 0.3739Get map.\n"
     ]
    },
    {
     "name": "stderr",
     "output_type": "stream",
     "text": [
      "100%|██████████| 346/346 [00:02<00:00, 140.49it/s]\n"
     ]
    },
    {
     "name": "stdout",
     "output_type": "stream",
     "text": [
      "Calculate Map.\n",
      "Path '.temp_map_out/results' already exists.\n",
      "99.71% = good AP \t||\tscore_threhold=0.5 : F1=0.99 ; Recall=99.71% ; Precision=98.85%\n",
      "mAP = 99.71%\n",
      "Path '/home/zhangyouan/桌面/zya/NN_net/network/SSD/IMX_681_ssd_mobilenet_git/keras/detection/SSD_ipynb_transfer_callback/output/20230810/loss_2023_08_10_05_23_31' already exists.\n",
      "Get map done.\n",
      "10/10 [==============================] - 4s 441ms/step - batch: 4.5000 - size: 32.0000 - loss: 0.3739 - val_loss: 1.2500\n",
      "Epoch 451/500\n",
      "10/10 [==============================] - 1s 129ms/step - batch: 4.5000 - size: 32.0000 - loss: 0.3716 - val_loss: 1.2511\n",
      "Epoch 452/500\n",
      "10/10 [==============================] - 1s 107ms/step - batch: 4.5000 - size: 32.0000 - loss: 0.3700 - val_loss: 1.2441\n",
      "Epoch 453/500\n",
      "10/10 [==============================] - 1s 115ms/step - batch: 4.5000 - size: 32.0000 - loss: 0.3715 - val_loss: 1.2404\n",
      "Epoch 454/500\n",
      "10/10 [==============================] - 1s 116ms/step - batch: 4.5000 - size: 32.0000 - loss: 0.3706 - val_loss: 1.2358\n",
      "Epoch 455/500\n",
      "10/10 [==============================] - 1s 112ms/step - batch: 4.5000 - size: 32.0000 - loss: 0.3615 - val_loss: 1.2369\n",
      "Epoch 456/500\n",
      "10/10 [==============================] - 1s 112ms/step - batch: 4.5000 - size: 32.0000 - loss: 0.3703 - val_loss: 1.2439\n",
      "Epoch 457/500\n",
      "10/10 [==============================] - 1s 113ms/step - batch: 4.5000 - size: 32.0000 - loss: 0.3674 - val_loss: 1.2404\n",
      "Epoch 458/500\n",
      "10/10 [==============================] - 1s 113ms/step - batch: 4.5000 - size: 32.0000 - loss: 0.3679 - val_loss: 1.2398\n",
      "Epoch 459/500\n",
      "10/10 [==============================] - 1s 136ms/step - batch: 4.5000 - size: 32.0000 - loss: 0.3616 - val_loss: 1.2498\n",
      "Epoch 460/500\n",
      "10/10 [==============================] - ETA: 0s - batch: 4.5000 - size: 32.0000 - loss: 0.3746Get map.\n"
     ]
    },
    {
     "name": "stderr",
     "output_type": "stream",
     "text": [
      "100%|██████████| 346/346 [00:01<00:00, 179.98it/s]\n"
     ]
    },
    {
     "name": "stdout",
     "output_type": "stream",
     "text": [
      "Calculate Map.\n",
      "Path '.temp_map_out/results' already exists.\n",
      "99.16% = good AP \t||\tscore_threhold=0.5 : F1=0.99 ; Recall=99.42% ; Precision=98.29%\n",
      "mAP = 99.16%\n",
      "Path '/home/zhangyouan/桌面/zya/NN_net/network/SSD/IMX_681_ssd_mobilenet_git/keras/detection/SSD_ipynb_transfer_callback/output/20230810/loss_2023_08_10_05_23_31' already exists.\n",
      "Get map done.\n",
      "10/10 [==============================] - 3s 354ms/step - batch: 4.5000 - size: 32.0000 - loss: 0.3746 - val_loss: 1.2428\n",
      "Epoch 461/500\n",
      "10/10 [==============================] - 1s 132ms/step - batch: 4.5000 - size: 32.0000 - loss: 0.3652 - val_loss: 1.2378\n",
      "Epoch 462/500\n",
      "10/10 [==============================] - 1s 131ms/step - batch: 4.5000 - size: 32.0000 - loss: 0.3611 - val_loss: 1.2423\n",
      "Epoch 463/500\n",
      "10/10 [==============================] - 1s 108ms/step - batch: 4.5000 - size: 32.0000 - loss: 0.3636 - val_loss: 1.2423\n",
      "Epoch 464/500\n",
      "10/10 [==============================] - 1s 114ms/step - batch: 4.5000 - size: 32.0000 - loss: 0.3680 - val_loss: 1.2430\n",
      "Epoch 465/500\n",
      "10/10 [==============================] - 1s 113ms/step - batch: 4.5000 - size: 32.0000 - loss: 0.3626 - val_loss: 1.2402\n",
      "Epoch 466/500\n",
      "10/10 [==============================] - 1s 114ms/step - batch: 4.5000 - size: 32.0000 - loss: 0.3540 - val_loss: 1.2446\n",
      "Epoch 467/500\n",
      "10/10 [==============================] - 1s 113ms/step - batch: 4.5000 - size: 32.0000 - loss: 0.3887 - val_loss: 1.2453\n",
      "Epoch 468/500\n",
      "10/10 [==============================] - 1s 114ms/step - batch: 4.5000 - size: 32.0000 - loss: 0.3547 - val_loss: 1.2424\n",
      "Epoch 469/500\n",
      "10/10 [==============================] - 1s 112ms/step - batch: 4.5000 - size: 32.0000 - loss: 0.3700 - val_loss: 1.2423\n",
      "Epoch 470/500\n",
      "10/10 [==============================] - ETA: 0s - batch: 4.5000 - size: 32.0000 - loss: 0.3437Get map.\n"
     ]
    },
    {
     "name": "stderr",
     "output_type": "stream",
     "text": [
      "100%|██████████| 346/346 [00:01<00:00, 204.61it/s]\n"
     ]
    },
    {
     "name": "stdout",
     "output_type": "stream",
     "text": [
      "Calculate Map.\n",
      "Path '.temp_map_out/results' already exists.\n",
      "99.16% = good AP \t||\tscore_threhold=0.5 : F1=0.99 ; Recall=99.42% ; Precision=98.29%\n",
      "mAP = 99.16%\n",
      "Path '/home/zhangyouan/桌面/zya/NN_net/network/SSD/IMX_681_ssd_mobilenet_git/keras/detection/SSD_ipynb_transfer_callback/output/20230810/loss_2023_08_10_05_23_31' already exists.\n",
      "Get map done.\n",
      "10/10 [==============================] - 3s 318ms/step - batch: 4.5000 - size: 32.0000 - loss: 0.3437 - val_loss: 1.2431\n",
      "Epoch 471/500\n",
      "10/10 [==============================] - 1s 123ms/step - batch: 4.5000 - size: 32.0000 - loss: 0.3779 - val_loss: 1.2433\n",
      "Epoch 472/500\n",
      "10/10 [==============================] - 1s 130ms/step - batch: 4.5000 - size: 32.0000 - loss: 0.3615 - val_loss: 1.2416\n",
      "Epoch 473/500\n",
      "10/10 [==============================] - 1s 131ms/step - batch: 4.5000 - size: 32.0000 - loss: 0.3590 - val_loss: 1.2420\n",
      "Epoch 474/500\n",
      "10/10 [==============================] - 1s 108ms/step - batch: 4.5000 - size: 32.0000 - loss: 0.3704 - val_loss: 1.2460\n",
      "Epoch 475/500\n",
      "10/10 [==============================] - 1s 115ms/step - batch: 4.5000 - size: 32.0000 - loss: 0.3597 - val_loss: 1.2427\n",
      "Epoch 476/500\n",
      "10/10 [==============================] - 1s 117ms/step - batch: 4.5000 - size: 32.0000 - loss: 0.3588 - val_loss: 1.2416\n",
      "Epoch 477/500\n",
      "10/10 [==============================] - 1s 111ms/step - batch: 4.5000 - size: 32.0000 - loss: 0.3729 - val_loss: 1.2470\n",
      "Epoch 478/500\n",
      "10/10 [==============================] - 1s 111ms/step - batch: 4.5000 - size: 32.0000 - loss: 0.3701 - val_loss: 1.2443\n",
      "Epoch 479/500\n",
      "10/10 [==============================] - 1s 113ms/step - batch: 4.5000 - size: 32.0000 - loss: 0.3470 - val_loss: 1.2424\n",
      "Epoch 480/500\n",
      "10/10 [==============================] - ETA: 0s - batch: 4.5000 - size: 32.0000 - loss: 0.3640Get map.\n"
     ]
    },
    {
     "name": "stderr",
     "output_type": "stream",
     "text": [
      "100%|██████████| 346/346 [00:01<00:00, 187.61it/s]\n"
     ]
    },
    {
     "name": "stdout",
     "output_type": "stream",
     "text": [
      "Calculate Map.\n",
      "Path '.temp_map_out/results' already exists.\n",
      "99.16% = good AP \t||\tscore_threhold=0.5 : F1=0.99 ; Recall=99.42% ; Precision=98.29%\n",
      "mAP = 99.16%\n",
      "Path '/home/zhangyouan/桌面/zya/NN_net/network/SSD/IMX_681_ssd_mobilenet_git/keras/detection/SSD_ipynb_transfer_callback/output/20230810/loss_2023_08_10_05_23_31' already exists.\n",
      "Get map done.\n",
      "10/10 [==============================] - 3s 337ms/step - batch: 4.5000 - size: 32.0000 - loss: 0.3640 - val_loss: 1.2457\n",
      "Epoch 481/500\n",
      "10/10 [==============================] - 1s 127ms/step - batch: 4.5000 - size: 32.0000 - loss: 0.3786 - val_loss: 1.2409\n",
      "Epoch 482/500\n",
      "10/10 [==============================] - 1s 123ms/step - batch: 4.5000 - size: 32.0000 - loss: 0.3548 - val_loss: 1.2461\n",
      "Epoch 483/500\n",
      "10/10 [==============================] - 1s 138ms/step - batch: 4.5000 - size: 32.0000 - loss: 0.3639 - val_loss: 1.2453\n",
      "Epoch 484/500\n",
      "10/10 [==============================] - 2s 155ms/step - batch: 4.5000 - size: 32.0000 - loss: 0.3644 - val_loss: 1.2432\n",
      "Epoch 485/500\n",
      "10/10 [==============================] - 1s 124ms/step - batch: 4.5000 - size: 32.0000 - loss: 0.3581 - val_loss: 1.2424\n",
      "Epoch 486/500\n",
      "10/10 [==============================] - 1s 114ms/step - batch: 4.5000 - size: 32.0000 - loss: 0.3666 - val_loss: 1.2452\n",
      "Epoch 487/500\n",
      "10/10 [==============================] - 1s 112ms/step - batch: 4.5000 - size: 32.0000 - loss: 0.3718 - val_loss: 1.2443\n",
      "Epoch 488/500\n",
      "10/10 [==============================] - 1s 113ms/step - batch: 4.5000 - size: 32.0000 - loss: 0.3534 - val_loss: 1.2440\n",
      "Epoch 489/500\n",
      "10/10 [==============================] - 1s 112ms/step - batch: 4.5000 - size: 32.0000 - loss: 0.3685 - val_loss: 1.2451\n",
      "Epoch 490/500\n",
      "10/10 [==============================] - ETA: 0s - batch: 4.5000 - size: 32.0000 - loss: 0.3554Get map.\n"
     ]
    },
    {
     "name": "stderr",
     "output_type": "stream",
     "text": [
      "100%|██████████| 346/346 [00:01<00:00, 225.10it/s]\n"
     ]
    },
    {
     "name": "stdout",
     "output_type": "stream",
     "text": [
      "Calculate Map.\n",
      "Path '.temp_map_out/results' already exists.\n",
      "99.71% = good AP \t||\tscore_threhold=0.5 : F1=0.99 ; Recall=99.71% ; Precision=98.57%\n",
      "mAP = 99.71%\n",
      "Path '/home/zhangyouan/桌面/zya/NN_net/network/SSD/IMX_681_ssd_mobilenet_git/keras/detection/SSD_ipynb_transfer_callback/output/20230810/loss_2023_08_10_05_23_31' already exists.\n",
      "Get map done.\n",
      "10/10 [==============================] - 3s 302ms/step - batch: 4.5000 - size: 32.0000 - loss: 0.3554 - val_loss: 1.2451\n",
      "Epoch 491/500\n",
      "10/10 [==============================] - 1s 111ms/step - batch: 4.5000 - size: 32.0000 - loss: 0.3716 - val_loss: 1.2445\n",
      "Epoch 492/500\n",
      "10/10 [==============================] - 1s 123ms/step - batch: 4.5000 - size: 32.0000 - loss: 0.3460 - val_loss: 1.2453\n",
      "Epoch 493/500\n",
      "10/10 [==============================] - 1s 139ms/step - batch: 4.5000 - size: 32.0000 - loss: 0.3659 - val_loss: 1.2449\n",
      "Epoch 494/500\n",
      "10/10 [==============================] - 1s 132ms/step - batch: 4.5000 - size: 32.0000 - loss: 0.3629 - val_loss: 1.2430\n",
      "Epoch 495/500\n",
      "10/10 [==============================] - 1s 135ms/step - batch: 4.5000 - size: 32.0000 - loss: 0.3602 - val_loss: 1.2445\n",
      "Epoch 496/500\n",
      "10/10 [==============================] - 1s 108ms/step - batch: 4.5000 - size: 32.0000 - loss: 0.3602 - val_loss: 1.2462\n",
      "Epoch 497/500\n",
      "10/10 [==============================] - 1s 111ms/step - batch: 4.5000 - size: 32.0000 - loss: 0.3681 - val_loss: 1.2445\n",
      "Epoch 498/500\n",
      "10/10 [==============================] - 1s 113ms/step - batch: 4.5000 - size: 32.0000 - loss: 0.3542 - val_loss: 1.2472\n",
      "Epoch 499/500\n",
      "10/10 [==============================] - 1s 113ms/step - batch: 4.5000 - size: 32.0000 - loss: 0.3473 - val_loss: 1.2442\n",
      "Epoch 500/500\n",
      "10/10 [==============================] - ETA: 0s - batch: 4.5000 - size: 32.0000 - loss: 0.3741Get map.\n"
     ]
    },
    {
     "name": "stderr",
     "output_type": "stream",
     "text": [
      "100%|██████████| 346/346 [00:01<00:00, 194.80it/s]\n"
     ]
    },
    {
     "name": "stdout",
     "output_type": "stream",
     "text": [
      "Calculate Map.\n",
      "Path '.temp_map_out/results' already exists.\n",
      "99.16% = good AP \t||\tscore_threhold=0.5 : F1=0.99 ; Recall=99.42% ; Precision=98.29%\n",
      "mAP = 99.16%\n",
      "Path '/home/zhangyouan/桌面/zya/NN_net/network/SSD/IMX_681_ssd_mobilenet_git/keras/detection/SSD_ipynb_transfer_callback/output/20230810/loss_2023_08_10_05_23_31' already exists.\n",
      "Get map done.\n",
      "10/10 [==============================] - 3s 328ms/step - batch: 4.5000 - size: 32.0000 - loss: 0.3741 - val_loss: 1.2455\n"
     ]
    },
    {
     "name": "stderr",
     "output_type": "stream",
     "text": [
      "WARNING:absl:Found untraced functions such as _jit_compiled_convolution_op, _jit_compiled_convolution_op, _jit_compiled_convolution_op, _jit_compiled_convolution_op, _jit_compiled_convolution_op while saving (showing 5 of 60). These functions will not be directly callable after loading.\n"
     ]
    },
    {
     "name": "stdout",
     "output_type": "stream",
     "text": [
      "INFO:tensorflow:Assets written to: /home/zhangyouan/桌面/zya/NN_net/network/SSD/IMX_681_ssd_mobilenet_git/keras/detection/SSD_ipynb_transfer_callback/output/20230810/good_detection_test_callback_2.pb/assets\n"
     ]
    },
    {
     "name": "stderr",
     "output_type": "stream",
     "text": [
      "INFO:tensorflow:Assets written to: /home/zhangyouan/桌面/zya/NN_net/network/SSD/IMX_681_ssd_mobilenet_git/keras/detection/SSD_ipynb_transfer_callback/output/20230810/good_detection_test_callback_2.pb/assets\n"
     ]
    }
   ],
   "source": [
    "from keras.regularizers import l2\n",
    "\n",
    "if __name__ == \"__main__\":\n",
    "    \n",
    "    # 设置训练参数\n",
    "    Epoch = 500  # 训练100 epochs\n",
    "    lr = 1e-3  # Adam优化器，所以较小的学习率\n",
    "    optimizer_type = \"Adam\"\n",
    "    momentum = 0.937\n",
    "    batch_size = 32\n",
    "    imgcolor = 'grey'  # imgcolor选“rgb” or “grey”, 则处理图像变单通道或者三通道\n",
    "    tmp_dir = str(datetime.datetime.strftime(datetime.datetime.now(), '%Y%m%d'))\n",
    "    save_dir = \"/home/zhangyouan/桌面/zya/NN_net/network/SSD/IMX_681_ssd_mobilenet_git/keras/detection/SSD_ipynb_transfer_callback/output/\"+tmp_dir\n",
    "    \n",
    "    # 设置SSD参数\n",
    "    cls_name_path = \"./model_data/voc_classes.txt\"  # 导入目标检测类别；\n",
    "    input_shape = [120, 160]  # 输入的尺寸大小\n",
    "    anchor_size = [32, 59, 86, 113, 141, 168]  # 用于设定先验框的大小，根据公式计算而来；如果要检测小物体，修改浅层先验框的大小，越小的话，识别的物体越小；    \n",
    "    train_annotation_path = '2007_train.txt'  # 训练图片路径和标签\n",
    "    val_annotation_path = '2007_val.txt'  # 验证图片路径和标签\n",
    "    \n",
    "    # 1. 获取classes和anchor\n",
    "    class_names, num_cls = get_classes(cls_name_path)\n",
    "    num_cls += 1  # 增加一个背景类别\n",
    "    print(\"class_names:\", class_names, \"num_classes:\", num_cls)\n",
    "    \n",
    "    # 2. 获取anchors, 输出的是归一化之后的anchors\n",
    "    anchor = get_anchors(input_shape, anchor_size)\n",
    "    print(\"type:\",type(anchor), \"shape:\", np.shape(anchor))\n",
    "\n",
    "    # 3. 模型编译\n",
    "    K.clear_session()\n",
    "    model_path = \"\"\n",
    "    # model_path = \"./output/20230804_3/good_detection_test_callback.h5\"\n",
    "    model = SSD300((input_shape[0], input_shape[1], 1), num_cls)\n",
    "    # model.save(\"template.h5\")\n",
    "    # model.summary()\n",
    "    if model_path != \"\":\n",
    "        model.load_weights(model_path, by_name = True, skip_mismatch=True)\n",
    "       \n",
    "    # 4. 优化器\n",
    "    # optimizer = Adam(lr = lr, beta_1=momentum)\n",
    "    optimizer = Adam(lr=0.001, beta_1=0.9, beta_2=0.999, epsilon=1e-08, decay=0.0)\n",
    "    \n",
    "    # 5. 导入数据集\n",
    "    with open(train_annotation_path, encoding='utf-8') as f:\n",
    "        train_lines = f.readlines()\n",
    "    with open(val_annotation_path, encoding='utf-8') as f:\n",
    "        val_lines = f.readlines()\n",
    "    num_train = len(train_lines)\n",
    "    num_val = len(val_lines)\n",
    "    epoch_step = num_train // batch_size\n",
    "    epoch_step_val = num_val // batch_size\n",
    "    train_dataloader = SSDDatasets(train_lines, input_shape, anchor, batch_size, num_cls, train=False, imgcolor=imgcolor)\n",
    "    val_dataloader = SSDDatasets(val_lines, input_shape, anchor, batch_size, num_cls, train=False, imgcolor=imgcolor)\n",
    "    print('Train on {} samples, val on {} samples, with batch size {}.'.format(num_train, num_val, batch_size))\n",
    "    \n",
    "    # 6. 编译模型\n",
    "    # losses = {'mbox_loc_final':MultiboxLoss(num_cls, neg_pos_ratio=3.0).compute_loc_loss,\n",
    "            #   'cls_conf_final':MultiboxLoss(num_cls, neg_pos_ratio=3.0).compute_conf_loss}\n",
    "    # losses2 = [MultiboxLoss(num_cls, neg_pos_ratio=3.0).compute_loc_loss,MultiboxLoss(num_cls, neg_pos_ratio=3.0).compute_conf_loss]\n",
    "    model.compile(optimizer=optimizer, loss = MultiboxLoss(num_cls, neg_pos_ratio=3.0).compute_loss)\n",
    "    \n",
    "    # 7. 设计learning rate;\n",
    "    total_steps = int(Epoch * num_train / batch_size)\n",
    "    # 7.1 compute the number of warmup batches.\n",
    "    warmup_epochs = 10\n",
    "    warmup_steps = int(warmup_epochs * num_train / batch_size)\n",
    "    # 7.2 create the learning rate scheduler\n",
    "    warm_up_lr = WarmUpCosineDecayScheduler(learning_rate_base=lr,\n",
    "                                            total_steps=total_steps,\n",
    "                                            warmup_learning_rate=4e-06,\n",
    "                                            warmup_steps=warmup_steps,\n",
    "                                            hold_base_rate_steps=20)\n",
    "    time_str = datetime.datetime.strftime(datetime.datetime.now(), '%Y_%m_%d_%H_%M_%S')\n",
    "    log_dir = os.path.join(save_dir, \"loss_\" + str(time_str))\n",
    "    \n",
    "    # # 8. 精度评价: pending --> 还没构建；\n",
    "    eval_flag = True\n",
    "    eval_period = 10\n",
    "    eval_callback = EvalCallback(model, input_shape, anchor, class_names, num_cls, val_lines, log_dir, eval_flag=eval_flag, period = eval_period)\n",
    "    show_config(\n",
    "        classes_path=cls_name_path, model_path=model_path, input_shape=input_shape, \\\n",
    "        Epoch=Epoch, batch_size=batch_size, \\\n",
    "        lr=lr, optimizer_type=optimizer_type, momentum=momentum, \\\n",
    "        num_train=num_train, num_val=num_val\n",
    "    )\n",
    "    \n",
    "    callbacks_list = [\n",
    "        # 早停回调，keras.callbacks.EarlyStopping(monitor='val_accuracy'， patience=4)\n",
    "        warm_up_lr, # 学习率的调整\n",
    "        # 学习率调整方法2. keras.callbacks.ReduceLROnPlateau(monitor='val_loss', factor=0.1, patience=2, verbose=0, mode='auto',min_lr=0.000001),\n",
    "        # Epoch结束回调LearningRateSchrduler(schrduler, verbose=1),\n",
    "        keras.callbacks.TensorBoard(log_dir=os.path.join(save_dir, 'unetlogs'), update_freq=1000), #参数分别为日志存储路径和每多少step进行一次记录，此处不应取太小，会拖慢训练过程\n",
    "        eval_callback,  # 精度评价；\n",
    "    ]\n",
    "    # 8. 开始训练；\n",
    "    history = model.fit_generator(\n",
    "        generator=train_dataloader,\n",
    "        steps_per_epoch=epoch_step,\n",
    "        validation_data=val_dataloader,\n",
    "        validation_steps=epoch_step_val,\n",
    "        epochs=Epoch,\n",
    "        # callbacks = [warm_up_lr]\n",
    "        callbacks = callbacks_list   \n",
    "    )  # 使用tensorboard --logdir=\"\" 调用查看loss\n",
    "    \n",
    "    record_log(history, filename = os.path.join(save_dir, \"unetlogs/log.txt\"))\n",
    "    model.save(os.path.join(save_dir, \"good_detection_test_callback_2.h5\"))\n",
    "    model.save(os.path.join(save_dir, \"good_detection_test_callback_2.pb\"))"
   ]
  }
 ],
 "metadata": {
  "kernelspec": {
   "display_name": "Python 3.10.4 ('stc': conda)",
   "language": "python",
   "name": "python3"
  },
  "language_info": {
   "codemirror_mode": {
    "name": "ipython",
    "version": 3
   },
   "file_extension": ".py",
   "mimetype": "text/x-python",
   "name": "python",
   "nbconvert_exporter": "python",
   "pygments_lexer": "ipython3",
   "version": "3.10.4"
  },
  "orig_nbformat": 4,
  "vscode": {
   "interpreter": {
    "hash": "f6a050d9f10360465fbc02ae273ccd06cb1948ad5cd96cc14a3b3a9694a266bf"
   }
  }
 },
 "nbformat": 4,
 "nbformat_minor": 2
}
