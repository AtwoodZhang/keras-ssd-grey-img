{
 "cells": [
  {
   "cell_type": "code",
   "execution_count": 1,
   "metadata": {},
   "outputs": [
    {
     "name": "stderr",
     "output_type": "stream",
     "text": [
      "2023-08-09 10:58:36.607952: I tensorflow/core/platform/cpu_feature_guard.cc:193] This TensorFlow binary is optimized with oneAPI Deep Neural Network Library (oneDNN) to use the following CPU instructions in performance-critical operations:  AVX2 FMA\n",
      "To enable them in other operations, rebuild TensorFlow with the appropriate compiler flags.\n",
      "2023-08-09 10:58:36.700104: W tensorflow/compiler/xla/stream_executor/platform/default/dso_loader.cc:64] Could not load dynamic library 'libcudart.so.11.0'; dlerror: libcudart.so.11.0: cannot open shared object file: No such file or directory\n",
      "2023-08-09 10:58:36.700121: I tensorflow/compiler/xla/stream_executor/cuda/cudart_stub.cc:29] Ignore above cudart dlerror if you do not have a GPU set up on your machine.\n",
      "2023-08-09 10:58:37.148470: W tensorflow/compiler/xla/stream_executor/platform/default/dso_loader.cc:64] Could not load dynamic library 'libnvinfer.so.7'; dlerror: libnvinfer.so.7: cannot open shared object file: No such file or directory\n",
      "2023-08-09 10:58:37.148515: W tensorflow/compiler/xla/stream_executor/platform/default/dso_loader.cc:64] Could not load dynamic library 'libnvinfer_plugin.so.7'; dlerror: libnvinfer_plugin.so.7: cannot open shared object file: No such file or directory\n",
      "2023-08-09 10:58:37.148521: W tensorflow/compiler/tf2tensorrt/utils/py_utils.cc:38] TF-TRT Warning: Cannot dlopen some TensorRT libraries. If you would like to use Nvidia GPU with TensorRT, please make sure the missing libraries mentioned above are installed properly.\n"
     ]
    }
   ],
   "source": [
    "import sys\n",
    "sys.path.append('./')\n",
    "import numpy as np\n",
    "import keras.backend as K\n",
    "import tensorflow as tf\n",
    "from keras.layers import Conv2D, Dense, DepthwiseConv2D,add\n",
    "from keras.optimizers import SGD, Adam\n",
    "import numpy as np\n",
    "import math\n",
    "import keras\n",
    "from PIL import Image\n",
    "from random import shuffle\n",
    "from keras import layers as KL\n",
    "from Anchors import get_anchors\n",
    "from Datasets import SSDDatasets\n",
    "from learning_rate import WarmUpCosineDecayScheduler\n",
    "from loss import MultiboxLoss\n",
    "from Models import SSD300\n",
    "from utils import get_classes, show_config\n",
    "from log_record import record_log, read_log\n",
    "from keras.callbacks import (EarlyStopping, LearningRateScheduler,\n",
    "                             ModelCheckpoint, TensorBoard)\n",
    "from callbacks import (ExponentDecayScheduler, LossHistory,\n",
    "                       ParallelModelCheckpoint, EvalCallback)\n"
   ]
  },
  {
   "cell_type": "code",
   "execution_count": 2,
   "metadata": {},
   "outputs": [
    {
     "name": "stdout",
     "output_type": "stream",
     "text": [
      "class_names: ['good'] num_classes: 2\n",
      "type: <class 'numpy.ndarray'> shape: (1242, 4)\n"
     ]
    },
    {
     "name": "stderr",
     "output_type": "stream",
     "text": [
      "2023-08-09 10:58:40.701761: W tensorflow/compiler/xla/stream_executor/platform/default/dso_loader.cc:64] Could not load dynamic library 'libcuda.so.1'; dlerror: libcuda.so.1: cannot open shared object file: No such file or directory; LD_LIBRARY_PATH: /home/zhangyouan/anaconda3/envs/stc/lib/python3.10/site-packages/cv2/../../lib64:\n",
      "2023-08-09 10:58:40.701781: W tensorflow/compiler/xla/stream_executor/cuda/cuda_driver.cc:265] failed call to cuInit: UNKNOWN ERROR (303)\n",
      "2023-08-09 10:58:40.701792: I tensorflow/compiler/xla/stream_executor/cuda/cuda_diagnostics.cc:156] kernel driver does not appear to be running on this host (SSSLXSRVLS001): /proc/driver/nvidia/version does not exist\n",
      "2023-08-09 10:58:40.701904: I tensorflow/core/platform/cpu_feature_guard.cc:193] This TensorFlow binary is optimized with oneAPI Deep Neural Network Library (oneDNN) to use the following CPU instructions in performance-critical operations:  AVX2 FMA\n",
      "To enable them in other operations, rebuild TensorFlow with the appropriate compiler flags.\n",
      "/home/zhangyouan/anaconda3/envs/stc/lib/python3.10/site-packages/keras/optimizers/optimizer_v2/adam.py:117: UserWarning: The `lr` argument is deprecated, use `learning_rate` instead.\n",
      "  super().__init__(name, **kwargs)\n"
     ]
    },
    {
     "name": "stdout",
     "output_type": "stream",
     "text": [
      "Train on 346 samples, val on 346 samples, with batch size 32.\n"
     ]
    },
    {
     "ename": "TypeError",
     "evalue": "EvalCallback.__init__() missing 1 required positional argument: 'log_dir'",
     "output_type": "error",
     "traceback": [
      "\u001b[0;31m---------------------------------------------------------------------------\u001b[0m",
      "\u001b[0;31mTypeError\u001b[0m                                 Traceback (most recent call last)",
      "\u001b[1;32m/home/zhangyouan/桌面/zya/NN_net/network/SSD/IMX_681_ssd_mobilenet_git/keras/detection/SSD_ipynb_transfer_callback/SSD_Mobile_Det_good.ipynb Cell 2\u001b[0m in \u001b[0;36m<cell line: 3>\u001b[0;34m()\u001b[0m\n\u001b[1;32m     <a href='vscode-notebook-cell://ssh-remote%2B7b22686f73744e616d65223a22494d58227d/home/zhangyouan/%E6%A1%8C%E9%9D%A2/zya/NN_net/network/SSD/IMX_681_ssd_mobilenet_git/keras/detection/SSD_ipynb_transfer_callback/SSD_Mobile_Det_good.ipynb#W1sdnNjb2RlLXJlbW90ZQ%3D%3D?line=74'>75</a>\u001b[0m eval_flag \u001b[39m=\u001b[39m \u001b[39mTrue\u001b[39;00m\n\u001b[1;32m     <a href='vscode-notebook-cell://ssh-remote%2B7b22686f73744e616d65223a22494d58227d/home/zhangyouan/%E6%A1%8C%E9%9D%A2/zya/NN_net/network/SSD/IMX_681_ssd_mobilenet_git/keras/detection/SSD_ipynb_transfer_callback/SSD_Mobile_Det_good.ipynb#W1sdnNjb2RlLXJlbW90ZQ%3D%3D?line=75'>76</a>\u001b[0m eval_period \u001b[39m=\u001b[39m \u001b[39m10\u001b[39m\n\u001b[0;32m---> <a href='vscode-notebook-cell://ssh-remote%2B7b22686f73744e616d65223a22494d58227d/home/zhangyouan/%E6%A1%8C%E9%9D%A2/zya/NN_net/network/SSD/IMX_681_ssd_mobilenet_git/keras/detection/SSD_ipynb_transfer_callback/SSD_Mobile_Det_good.ipynb#W1sdnNjb2RlLXJlbW90ZQ%3D%3D?line=76'>77</a>\u001b[0m eval_callback \u001b[39m=\u001b[39m EvalCallback(model, input_shape, anchor, class_names, num_cls, val_lines, eval_flag\u001b[39m=\u001b[39;49meval_flag, period \u001b[39m=\u001b[39;49m eval_period)\n\u001b[1;32m     <a href='vscode-notebook-cell://ssh-remote%2B7b22686f73744e616d65223a22494d58227d/home/zhangyouan/%E6%A1%8C%E9%9D%A2/zya/NN_net/network/SSD/IMX_681_ssd_mobilenet_git/keras/detection/SSD_ipynb_transfer_callback/SSD_Mobile_Det_good.ipynb#W1sdnNjb2RlLXJlbW90ZQ%3D%3D?line=77'>78</a>\u001b[0m show_config(\n\u001b[1;32m     <a href='vscode-notebook-cell://ssh-remote%2B7b22686f73744e616d65223a22494d58227d/home/zhangyouan/%E6%A1%8C%E9%9D%A2/zya/NN_net/network/SSD/IMX_681_ssd_mobilenet_git/keras/detection/SSD_ipynb_transfer_callback/SSD_Mobile_Det_good.ipynb#W1sdnNjb2RlLXJlbW90ZQ%3D%3D?line=78'>79</a>\u001b[0m     classes_path\u001b[39m=\u001b[39mcls_name_path, model_path\u001b[39m=\u001b[39mmodel_path, input_shape\u001b[39m=\u001b[39minput_shape, \\\n\u001b[1;32m     <a href='vscode-notebook-cell://ssh-remote%2B7b22686f73744e616d65223a22494d58227d/home/zhangyouan/%E6%A1%8C%E9%9D%A2/zya/NN_net/network/SSD/IMX_681_ssd_mobilenet_git/keras/detection/SSD_ipynb_transfer_callback/SSD_Mobile_Det_good.ipynb#W1sdnNjb2RlLXJlbW90ZQ%3D%3D?line=79'>80</a>\u001b[0m     Epoch\u001b[39m=\u001b[39mEpoch, batch_size\u001b[39m=\u001b[39mbatch_size, \\\n\u001b[1;32m     <a href='vscode-notebook-cell://ssh-remote%2B7b22686f73744e616d65223a22494d58227d/home/zhangyouan/%E6%A1%8C%E9%9D%A2/zya/NN_net/network/SSD/IMX_681_ssd_mobilenet_git/keras/detection/SSD_ipynb_transfer_callback/SSD_Mobile_Det_good.ipynb#W1sdnNjb2RlLXJlbW90ZQ%3D%3D?line=80'>81</a>\u001b[0m     lr\u001b[39m=\u001b[39mlr, optimizer_type\u001b[39m=\u001b[39moptimizer_type, momentum\u001b[39m=\u001b[39mmomentum, \\\n\u001b[1;32m     <a href='vscode-notebook-cell://ssh-remote%2B7b22686f73744e616d65223a22494d58227d/home/zhangyouan/%E6%A1%8C%E9%9D%A2/zya/NN_net/network/SSD/IMX_681_ssd_mobilenet_git/keras/detection/SSD_ipynb_transfer_callback/SSD_Mobile_Det_good.ipynb#W1sdnNjb2RlLXJlbW90ZQ%3D%3D?line=81'>82</a>\u001b[0m     num_train\u001b[39m=\u001b[39mnum_train, num_val\u001b[39m=\u001b[39mnum_val\n\u001b[1;32m     <a href='vscode-notebook-cell://ssh-remote%2B7b22686f73744e616d65223a22494d58227d/home/zhangyouan/%E6%A1%8C%E9%9D%A2/zya/NN_net/network/SSD/IMX_681_ssd_mobilenet_git/keras/detection/SSD_ipynb_transfer_callback/SSD_Mobile_Det_good.ipynb#W1sdnNjb2RlLXJlbW90ZQ%3D%3D?line=82'>83</a>\u001b[0m )\n\u001b[1;32m     <a href='vscode-notebook-cell://ssh-remote%2B7b22686f73744e616d65223a22494d58227d/home/zhangyouan/%E6%A1%8C%E9%9D%A2/zya/NN_net/network/SSD/IMX_681_ssd_mobilenet_git/keras/detection/SSD_ipynb_transfer_callback/SSD_Mobile_Det_good.ipynb#W1sdnNjb2RlLXJlbW90ZQ%3D%3D?line=84'>85</a>\u001b[0m callbacks_list \u001b[39m=\u001b[39m [\n\u001b[1;32m     <a href='vscode-notebook-cell://ssh-remote%2B7b22686f73744e616d65223a22494d58227d/home/zhangyouan/%E6%A1%8C%E9%9D%A2/zya/NN_net/network/SSD/IMX_681_ssd_mobilenet_git/keras/detection/SSD_ipynb_transfer_callback/SSD_Mobile_Det_good.ipynb#W1sdnNjb2RlLXJlbW90ZQ%3D%3D?line=85'>86</a>\u001b[0m     \u001b[39m# 早停回调，keras.callbacks.EarlyStopping(monitor='val_accuracy'， patience=4)\u001b[39;00m\n\u001b[1;32m     <a href='vscode-notebook-cell://ssh-remote%2B7b22686f73744e616d65223a22494d58227d/home/zhangyouan/%E6%A1%8C%E9%9D%A2/zya/NN_net/network/SSD/IMX_681_ssd_mobilenet_git/keras/detection/SSD_ipynb_transfer_callback/SSD_Mobile_Det_good.ipynb#W1sdnNjb2RlLXJlbW90ZQ%3D%3D?line=86'>87</a>\u001b[0m     warm_up_lr, \u001b[39m# 学习率的调整\u001b[39;00m\n\u001b[0;32m   (...)\u001b[0m\n\u001b[1;32m     <a href='vscode-notebook-cell://ssh-remote%2B7b22686f73744e616d65223a22494d58227d/home/zhangyouan/%E6%A1%8C%E9%9D%A2/zya/NN_net/network/SSD/IMX_681_ssd_mobilenet_git/keras/detection/SSD_ipynb_transfer_callback/SSD_Mobile_Det_good.ipynb#W1sdnNjb2RlLXJlbW90ZQ%3D%3D?line=90'>91</a>\u001b[0m     eval_callback,  \u001b[39m# 精度评价；\u001b[39;00m\n\u001b[1;32m     <a href='vscode-notebook-cell://ssh-remote%2B7b22686f73744e616d65223a22494d58227d/home/zhangyouan/%E6%A1%8C%E9%9D%A2/zya/NN_net/network/SSD/IMX_681_ssd_mobilenet_git/keras/detection/SSD_ipynb_transfer_callback/SSD_Mobile_Det_good.ipynb#W1sdnNjb2RlLXJlbW90ZQ%3D%3D?line=91'>92</a>\u001b[0m ]\n",
      "\u001b[0;31mTypeError\u001b[0m: EvalCallback.__init__() missing 1 required positional argument: 'log_dir'"
     ]
    }
   ],
   "source": [
    "from keras.regularizers import l2\n",
    "\n",
    "if __name__ == \"__main__\":\n",
    "    \n",
    "    # 设置训练参数\n",
    "    Epoch = 500  # 训练100 epochs\n",
    "    lr = 1e-3  # Adam优化器，所以较小的学习率\n",
    "    optimizer_type = \"Adam\"\n",
    "    momentum = 0.937\n",
    "    batch_size = 32\n",
    "    imgcolor = 'grey'  # imgcolor选“rgb” or “grey”, 则处理图像变单通道或者三通道\n",
    "    \n",
    "    # 设置SSD参数\n",
    "    cls_name_path = \"./model_data/voc_classes.txt\"  # 导入目标检测类别；\n",
    "    input_shape = [120, 160]  # 输入的尺寸大小\n",
    "    anchor_size = [32, 59, 86, 113, 141, 168]  # 用于设定先验框的大小，根据公式计算而来；如果要检测小物体，修改浅层先验框的大小，越小的话，识别的物体越小；    \n",
    "    train_annotation_path = '2007_train.txt'  # 训练图片路径和标签\n",
    "    val_annotation_path = '2007_val.txt'  # 验证图片路径和标签\n",
    "    \n",
    "    # 1. 获取classes和anchor\n",
    "    class_names, num_cls = get_classes(cls_name_path)\n",
    "    num_cls += 1  # 增加一个背景类别\n",
    "    print(\"class_names:\", class_names, \"num_classes:\", num_cls)\n",
    "    \n",
    "    # 2. 获取anchors, 输出的是归一化之后的anchors\n",
    "    anchor = get_anchors(input_shape, anchor_size)\n",
    "    print(\"type:\",type(anchor), \"shape:\", np.shape(anchor))\n",
    "\n",
    "    # 3. 模型编译\n",
    "    K.clear_session()\n",
    "    # model_path = \"\"\n",
    "    model_path = \"./output/20230804_3/good_detection_test_callback.h5\"\n",
    "    model = SSD300((input_shape[0], input_shape[1], 1), num_cls)\n",
    "    # model.save(\"template.h5\")\n",
    "    # model.summary()\n",
    "    model.load_weights(model_path, by_name = True, skip_mismatch=True)\n",
    "       \n",
    "    \n",
    "    # 4. 优化器\n",
    "    # optimizer = Adam(lr = lr, beta_1=momentum)\n",
    "    optimizer = Adam(lr=0.001, beta_1=0.9, beta_2=0.999, epsilon=1e-08, decay=0.0)\n",
    "    \n",
    "    # 5. 导入数据集\n",
    "    with open(train_annotation_path, encoding='utf-8') as f:\n",
    "        train_lines = f.readlines()\n",
    "    with open(val_annotation_path, encoding='utf-8') as f:\n",
    "        val_lines = f.readlines()\n",
    "    num_train = len(train_lines)\n",
    "    num_val = len(val_lines)\n",
    "    epoch_step = num_train // batch_size\n",
    "    epoch_step_val = num_val // batch_size\n",
    "    train_dataloader = SSDDatasets(train_lines, input_shape, anchor, batch_size, num_cls, train=False, imgcolor=imgcolor)\n",
    "    val_dataloader = SSDDatasets(val_lines, input_shape, anchor, batch_size, num_cls, train=False, imgcolor=imgcolor)\n",
    "    print('Train on {} samples, val on {} samples, with batch size {}.'.format(num_train, num_val, batch_size))\n",
    "    \n",
    "    # 6. 编译模型\n",
    "    # losses = {'mbox_loc_final':MultiboxLoss(num_cls, neg_pos_ratio=3.0).compute_loc_loss,\n",
    "            #   'cls_conf_final':MultiboxLoss(num_cls, neg_pos_ratio=3.0).compute_conf_loss}\n",
    "    # losses2 = [MultiboxLoss(num_cls, neg_pos_ratio=3.0).compute_loc_loss,MultiboxLoss(num_cls, neg_pos_ratio=3.0).compute_conf_loss]\n",
    "    model.compile(optimizer=optimizer, loss = MultiboxLoss(num_cls, neg_pos_ratio=3.0).compute_loss)\n",
    "    \n",
    "    # 7. 设计learning rate;\n",
    "    total_steps = int(Epoch * num_train / batch_size)\n",
    "    # 7.1 compute the number of warmup batches.\n",
    "    warmup_epochs = 10\n",
    "    warmup_steps = int(warmup_epochs * num_train / batch_size)\n",
    "    # 7.2 create the learning rate scheduler\n",
    "    warm_up_lr = WarmUpCosineDecayScheduler(learning_rate_base=lr,\n",
    "                                            total_steps=total_steps,\n",
    "                                            warmup_learning_rate=4e-06,\n",
    "                                            warmup_steps=warmup_steps,\n",
    "                                            hold_base_rate_steps=20)\n",
    "    \n",
    "    # # 8. 精度评价: pending --> 还没构建；\n",
    "    eval_flag = True\n",
    "    eval_period = 10\n",
    "    eval_callback = EvalCallback(model, input_shape, anchor, class_names, num_cls, val_lines, eval_flag=eval_flag, period = eval_period)\n",
    "    show_config(\n",
    "        classes_path=cls_name_path, model_path=model_path, input_shape=input_shape, \\\n",
    "        Epoch=Epoch, batch_size=batch_size, \\\n",
    "        lr=lr, optimizer_type=optimizer_type, momentum=momentum, \\\n",
    "        num_train=num_train, num_val=num_val\n",
    "    )\n",
    "    \n",
    "    callbacks_list = [\n",
    "        # 早停回调，keras.callbacks.EarlyStopping(monitor='val_accuracy'， patience=4)\n",
    "        warm_up_lr, # 学习率的调整\n",
    "        # 学习率调整方法2. keras.callbacks.ReduceLROnPlateau(monitor='val_loss', factor=0.1, patience=2, verbose=0, mode='auto',min_lr=0.000001),\n",
    "        # Epoch结束回调LearningRateSchrduler(schrduler, verbose=1),\n",
    "        keras.callbacks.TensorBoard(log_dir='./output/20230804_3/unetlogs', update_freq=1000), #参数分别为日志存储路径和每多少step进行一次记录，此处不应取太小，会拖慢训练过程\n",
    "        eval_callback,  # 精度评价；\n",
    "    ]\n",
    "    # 8. 开始训练；\n",
    "    history = model.fit_generator(\n",
    "        generator=train_dataloader,\n",
    "        steps_per_epoch=epoch_step,\n",
    "        validation_data=val_dataloader,\n",
    "        validation_steps=epoch_step_val,\n",
    "        epochs=Epoch,\n",
    "        # callbacks = [warm_up_lr]\n",
    "        callbacks = callbacks_list   \n",
    "    )  # 使用tensorboard --logdir=\"\" 调用查看loss\n",
    "    \n",
    "    record_log(history, filename = \"./output/20230804_4/unetlogs/log.txt\")\n",
    "    model.save(\"./output/20230808_1/good_detection_test_callback.h5\")\n",
    "    model.save(\"./output/20230808_1/good_detection_test_callback.pb\")"
   ]
  }
 ],
 "metadata": {
  "kernelspec": {
   "display_name": "Python 3.10.4 ('stc')",
   "language": "python",
   "name": "python3"
  },
  "language_info": {
   "codemirror_mode": {
    "name": "ipython",
    "version": 3
   },
   "file_extension": ".py",
   "mimetype": "text/x-python",
   "name": "python",
   "nbconvert_exporter": "python",
   "pygments_lexer": "ipython3",
   "version": "3.10.4"
  },
  "orig_nbformat": 4,
  "vscode": {
   "interpreter": {
    "hash": "f6a050d9f10360465fbc02ae273ccd06cb1948ad5cd96cc14a3b3a9694a266bf"
   }
  }
 },
 "nbformat": 4,
 "nbformat_minor": 2
}
