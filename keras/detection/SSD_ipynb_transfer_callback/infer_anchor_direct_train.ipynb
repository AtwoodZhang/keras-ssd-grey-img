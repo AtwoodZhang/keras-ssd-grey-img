{
 "cells": [
  {
   "cell_type": "code",
   "execution_count": 1,
   "metadata": {},
   "outputs": [
    {
     "name": "stdout",
     "output_type": "stream",
     "text": [
      "[[0.         0.         0.0625     0.08333333]\n",
      " [0.         0.         0.08379652 0.1117287 ]\n",
      " [0.0375     0.         0.1125     0.08333333]\n",
      " ...\n",
      " [0.34421554 0.08457477 0.65578446 0.91542523]\n",
      " [0.11840756 0.33040336 0.88159244 0.66959664]\n",
      " [0.37280252 0.         0.62719748 1.        ]]\n"
     ]
    }
   ],
   "source": [
    "import copy\n",
    "from Anchors import get_anchors\n",
    "from pprint import pprint\n",
    "import numpy as np\n",
    "\n",
    "\n",
    "def round_list(input_list, decimals=0):\n",
    "    return [[int(round(value, decimals)) for value in row] for row in input_list]\n",
    "\n",
    "\n",
    "input_shape = [120, 160]\n",
    "anchors_size=[24, 59, 86, 113, 141, 168]\n",
    "img_width = input_shape[1]\n",
    "img_height = input_shape[0]\n",
    "anchors = get_anchors(input_shape, anchors_size)  # (x1, y1, x2, y2)\n",
    "print(anchors)"
   ]
  },
  {
   "cell_type": "code",
   "execution_count": 4,
   "metadata": {},
   "outputs": [
    {
     "name": "stdout",
     "output_type": "stream",
     "text": [
      "[[0.         0.         0.05       0.0875    ]\n",
      " [0.         0.         0.06875    0.125     ]\n",
      " [0.03125    0.         0.09375    0.0875    ]\n",
      " ...\n",
      " [0.         0.27083333 0.840625   0.79583333]\n",
      " [0.253125   0.         0.546875   1.        ]\n",
      " [0.121875   0.04166667 0.678125   1.        ]]\n"
     ]
    }
   ],
   "source": [
    "import numpy as np\n",
    "import os\n",
    "import copy\n",
    "\n",
    "def anchor_from_yxhw2xyxy_less_1(anchor_file):\n",
    "    anchor_yxhw = anchor_file\n",
    "    anchor_xyxy = copy.deepcopy(anchor_yxhw)\n",
    "    for i, i_value in enumerate(anchor_yxhw):   \n",
    "        anchor_xyxy[i][0] = anchor_yxhw[i][1] - 0.5 * anchor_yxhw[i][3]\n",
    "        anchor_xyxy[i][1] = anchor_yxhw[i][0] - 0.5 * anchor_yxhw[i][2]\n",
    "        anchor_xyxy[i][2] = anchor_yxhw[i][1] + 0.5 * anchor_yxhw[i][3]\n",
    "        anchor_xyxy[i][3] = anchor_yxhw[i][0] + 0.5 * anchor_yxhw[i][2]\n",
    "        anchor_xyxy[i][0] /= 160\n",
    "        anchor_xyxy[i][2] /= 160\n",
    "        anchor_xyxy[i][1] /= 120\n",
    "        anchor_xyxy[i][3] /= 120\n",
    "    anchor_boxes = np.minimum(np.maximum(anchor_xyxy, 0.0), 1.0)\n",
    "    return anchor_boxes\n",
    "\n",
    "\n",
    "def infer_anchor():\n",
    "    anchor_path = r\"/home/zhangyouan/桌面/zya/NN_net/network/SSD/IMX_681_ssd_mobilenet_git/keras/detection/SSD_ipynb_transfer_callback/sony_detection_anchor_boxes.txt\"\n",
    "    anchor = []\n",
    "    with open(anchor_path, 'r') as f:\n",
    "        for line in f:\n",
    "            anchor.append(line.strip().split(', '))\n",
    "    for i, i_value in enumerate(anchor):\n",
    "        for j, j_value in enumerate(i_value):\n",
    "            try:\n",
    "                anchor[i][j] = float(anchor[i][j])\n",
    "            except:\n",
    "                anchor[i][j] = float(anchor[i][j][0:-1])\n",
    "    \n",
    "    yxhw_anchor = anchor\n",
    "    xyxy_anchor = anchor_from_yxhw2xyxy_less_1(yxhw_anchor)  # original anchor is yxhw\n",
    "    print(xyxy_anchor)\n",
    "    # return xyxy_anchor\n",
    "\n",
    "infer_anchor()"
   ]
  }
 ],
 "metadata": {
  "kernelspec": {
   "display_name": "Python 3.10.4 ('stc')",
   "language": "python",
   "name": "python3"
  },
  "language_info": {
   "codemirror_mode": {
    "name": "ipython",
    "version": 3
   },
   "file_extension": ".py",
   "mimetype": "text/x-python",
   "name": "python",
   "nbconvert_exporter": "python",
   "pygments_lexer": "ipython3",
   "version": "3.10.4"
  },
  "orig_nbformat": 4,
  "vscode": {
   "interpreter": {
    "hash": "f6a050d9f10360465fbc02ae273ccd06cb1948ad5cd96cc14a3b3a9694a266bf"
   }
  }
 },
 "nbformat": 4,
 "nbformat_minor": 2
}
