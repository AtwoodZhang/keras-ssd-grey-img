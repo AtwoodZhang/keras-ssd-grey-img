{
 "cells": [
  {
   "cell_type": "code",
   "execution_count": 3,
   "metadata": {},
   "outputs": [
    {
     "name": "stderr",
     "output_type": "stream",
     "text": [
      "2023-09-22 11:54:19.349152: I tensorflow/tsl/cuda/cudart_stub.cc:28] Could not find cuda drivers on your machine, GPU will not be used.\n",
      "2023-09-22 11:54:19.377672: I tensorflow/tsl/cuda/cudart_stub.cc:28] Could not find cuda drivers on your machine, GPU will not be used.\n",
      "2023-09-22 11:54:19.378155: I tensorflow/core/platform/cpu_feature_guard.cc:182] This TensorFlow binary is optimized to use available CPU instructions in performance-critical operations.\n",
      "To enable the following instructions: AVX2 FMA, in other operations, rebuild TensorFlow with the appropriate compiler flags.\n",
      "2023-09-22 11:54:20.162473: W tensorflow/compiler/tf2tensorrt/utils/py_utils.cc:38] TF-TRT Warning: Could not find TensorRT\n"
     ]
    }
   ],
   "source": [
    "import sys\n",
    "sys.path.append('./')\n",
    "import numpy as np\n",
    "import os\n",
    "import datetime\n",
    "import keras.backend as K\n",
    "import tensorflow as tf\n",
    "from keras.layers import Conv2D, Dense, DepthwiseConv2D,add\n",
    "from keras.optimizers import SGD, Adam\n",
    "from keras.optimizers import legacy\n",
    "import numpy as np\n",
    "import math\n",
    "import keras\n",
    "from PIL import Image\n",
    "from random import shuffle\n",
    "from keras import layers as KL\n",
    "from Anchors import get_anchors\n",
    "from infer_anchor_direct_train import infer_anchor\n",
    "from Datasets import SSDDatasets\n",
    "from learning_rate import WarmUpCosineDecayScheduler\n",
    "from loss import MultiboxLoss\n",
    "from Models import SSD300\n",
    "from utils import get_classes, show_config\n",
    "from log_record import record_log, read_log\n",
    "from keras.callbacks import (EarlyStopping, LearningRateScheduler,\n",
    "                             ModelCheckpoint, TensorBoard)\n",
    "from callbacks import (ExponentDecayScheduler, LossHistory,\n",
    "                       ParallelModelCheckpoint, EvalCallback)\n"
   ]
  },
  {
   "cell_type": "code",
   "execution_count": 4,
   "metadata": {},
   "outputs": [
    {
     "name": "stdout",
     "output_type": "stream",
     "text": [
      "class_names: ['good'] num_classes: 2\n",
      "[[0.         0.         0.05       0.0875    ]\n",
      " [0.         0.         0.06875    0.125     ]\n",
      " [0.03125    0.         0.09375    0.0875    ]\n",
      " ...\n",
      " [0.         0.27083333 0.840625   0.79583333]\n",
      " [0.253125   0.         0.546875   1.        ]\n",
      " [0.121875   0.04166667 0.678125   1.        ]]\n",
      "type: <class 'numpy.ndarray'> shape: (1242, 4)\n",
      "Train on 1603 samples, val on 179 samples, with batch size 32.\n",
      "WARNING:tensorflow:From /home/zhangyouan/anaconda3/envs/stc/lib/python3.10/site-packages/tensorflow/python/util/dispatch.py:1176: to_float (from tensorflow.python.ops.math_ops) is deprecated and will be removed in a future version.\n",
      "Instructions for updating:\n",
      "Use `tf.cast` instead.\n",
      "WARNING:tensorflow:From /home/zhangyouan/anaconda3/envs/stc/lib/python3.10/site-packages/tensorflow/python/util/dispatch.py:1176: to_int32 (from tensorflow.python.ops.math_ops) is deprecated and will be removed in a future version.\n",
      "Instructions for updating:\n",
      "Use `tf.cast` instead.\n"
     ]
    },
    {
     "name": "stderr",
     "output_type": "stream",
     "text": [
      "2023-09-22 11:54:22.446420: I tensorflow/compiler/mlir/mlir_graph_optimization_pass.cc:375] MLIR V1 optimization pass is not enabled\n",
      "2023-09-22 11:54:22.512412: W tensorflow/c/c_api.cc:304] Operation '{name:'DepthwiseConv2D_conf_DD5_1/depthwise_kernel/Assign' id:1483 op device:{requested: '', assigned: ''} def:{{{node DepthwiseConv2D_conf_DD5_1/depthwise_kernel/Assign}} = AssignVariableOp[_has_manual_control_dependencies=true, dtype=DT_FLOAT, validate_shape=false](DepthwiseConv2D_conf_DD5_1/depthwise_kernel, DepthwiseConv2D_conf_DD5_1/depthwise_kernel/Initializer/stateless_random_uniform)}}' was changed by setting attribute after it was run by a session. This mutation will have no effect, and will trigger an error in the future. Either don't modify nodes after running them or create a new session.\n",
      "/tmp/ipykernel_27644/3542921995.py:100: UserWarning: `model.fit_generator` is deprecated and will be removed in a future version. Please use `Model.fit`, which supports generators.\n",
      "  history = model.fit_generator(\n"
     ]
    },
    {
     "name": "stdout",
     "output_type": "stream",
     "text": [
      "Configurations:\n",
      "----------------------------------------------------------------------\n",
      "|                     keys |                                   values|\n",
      "----------------------------------------------------------------------\n",
      "|             classes_path |             ./model_data/voc_classes.txt|\n",
      "|               model_path |                                         |\n",
      "|              input_shape |                               [120, 160]|\n",
      "|                    Epoch |                                      150|\n",
      "|               batch_size |                                       32|\n",
      "|                       lr |                                    0.001|\n",
      "|           optimizer_type |                                     Adam|\n",
      "|                 momentum |                                    0.937|\n",
      "|                num_train |                                     1603|\n",
      "|                  num_val |                                      179|\n",
      "----------------------------------------------------------------------\n",
      "Epoch 1/150\n"
     ]
    },
    {
     "name": "stderr",
     "output_type": "stream",
     "text": [
      "2023-09-22 11:54:22.765402: W tensorflow/c/c_api.cc:304] Operation '{name:'beta_1/Assign' id:1911 op device:{requested: '', assigned: ''} def:{{{node beta_1/Assign}} = AssignVariableOp[_has_manual_control_dependencies=true, dtype=DT_FLOAT, validate_shape=false](beta_1, beta_1/Initializer/initial_value)}}' was changed by setting attribute after it was run by a session. This mutation will have no effect, and will trigger an error in the future. Either don't modify nodes after running them or create a new session.\n",
      "2023-09-22 11:54:23.761177: W tensorflow/c/c_api.cc:304] Operation '{name:'loss/AddN' id:1780 op device:{requested: '', assigned: ''} def:{{{node loss/AddN}} = AddN[N=2, T=DT_FLOAT, _has_manual_control_dependencies=true](loss/mul, loss/Conv2D_layer13/kernel/Regularizer/mul)}}' was changed by setting attribute after it was run by a session. This mutation will have no effect, and will trigger an error in the future. Either don't modify nodes after running them or create a new session.\n",
      "2023-09-22 11:54:23.893605: W tensorflow/c/c_api.cc:304] Operation '{name:'training/Adam/DepthWiseConv2D_layer21/depthwise_kernel/v/Assign' id:3656 op device:{requested: '', assigned: ''} def:{{{node training/Adam/DepthWiseConv2D_layer21/depthwise_kernel/v/Assign}} = AssignVariableOp[_has_manual_control_dependencies=true, dtype=DT_FLOAT, validate_shape=false](training/Adam/DepthWiseConv2D_layer21/depthwise_kernel/v, training/Adam/DepthWiseConv2D_layer21/depthwise_kernel/v/Initializer/zeros)}}' was changed by setting attribute after it was run by a session. This mutation will have no effect, and will trigger an error in the future. Either don't modify nodes after running them or create a new session.\n"
     ]
    },
    {
     "name": "stdout",
     "output_type": "stream",
     "text": [
      " 3/50 [>.............................] - ETA: 3s - batch: 1.0000 - size: 32.0000 - loss: 7.4767     "
     ]
    },
    {
     "name": "stderr",
     "output_type": "stream",
     "text": [
      "2023-09-22 11:54:24.439880: I tensorflow/tsl/profiler/lib/profiler_session.cc:104] Profiler session initializing.\n",
      "2023-09-22 11:54:24.439899: I tensorflow/tsl/profiler/lib/profiler_session.cc:119] Profiler session started.\n",
      "2023-09-22 11:54:24.511831: I tensorflow/tsl/profiler/lib/profiler_session.cc:70] Profiler session collecting data.\n",
      "2023-09-22 11:54:24.513344: I tensorflow/tsl/profiler/lib/profiler_session.cc:131] Profiler session tear down.\n",
      "2023-09-22 11:54:24.513683: I tensorflow/tsl/profiler/rpc/client/save_profile.cc:144] Collecting XSpace to repository: /home/zhangyouan/桌面/zya/NN_net/network/SSD/IMX_681_ssd_mobilenet_git/keras/detection/SSD_ipynb_transfer_callback/output/20230922/unetlogs/plugins/profile/2023_09_22_11_54_24/SSSLXSRVLS001.xplane.pb\n"
     ]
    },
    {
     "name": "stdout",
     "output_type": "stream",
     "text": [
      "50/50 [==============================] - ETA: 0s - batch: 24.5000 - size: 32.0000 - loss: 7.4700"
     ]
    },
    {
     "name": "stderr",
     "output_type": "stream",
     "text": [
      "/home/zhangyouan/anaconda3/envs/stc/lib/python3.10/site-packages/keras/src/engine/training_v1.py:2335: UserWarning: `Model.state_updates` will be removed in a future version. This property should not be used in TensorFlow 2.0, as `updates` are applied automatically.\n",
      "  updates = self.state_updates\n",
      "2023-09-22 11:54:27.863666: W tensorflow/c/c_api.cc:304] Operation '{name:'loss/AddN' id:1780 op device:{requested: '', assigned: ''} def:{{{node loss/AddN}} = AddN[N=2, T=DT_FLOAT, _has_manual_control_dependencies=true](loss/mul, loss/Conv2D_layer13/kernel/Regularizer/mul)}}' was changed by setting attribute after it was run by a session. This mutation will have no effect, and will trigger an error in the future. Either don't modify nodes after running them or create a new session.\n"
     ]
    },
    {
     "name": "stdout",
     "output_type": "stream",
     "text": [
      "50/50 [==============================] - 5s 76ms/step - batch: 24.5000 - size: 32.0000 - loss: 7.4700 - val_loss: 7.5092\n",
      "Epoch 2/150\n",
      "50/50 [==============================] - 4s 74ms/step - batch: 24.5000 - size: 32.0000 - loss: 7.4251 - val_loss: 7.4262\n",
      "Epoch 3/150\n",
      "50/50 [==============================] - 4s 75ms/step - batch: 24.5000 - size: 32.0000 - loss: 7.2641 - val_loss: 7.0685\n",
      "Epoch 4/150\n",
      "50/50 [==============================] - 4s 74ms/step - batch: 24.5000 - size: 32.0000 - loss: 6.5281 - val_loss: 6.2475\n",
      "Epoch 5/150\n",
      "50/50 [==============================] - 4s 75ms/step - batch: 24.5000 - size: 32.0000 - loss: 6.0103 - val_loss: 5.8043\n",
      "Epoch 6/150\n",
      "50/50 [==============================] - 4s 74ms/step - batch: 24.5000 - size: 32.0000 - loss: 5.5717 - val_loss: 5.5082\n",
      "Epoch 7/150\n",
      "50/50 [==============================] - 4s 75ms/step - batch: 24.5000 - size: 32.0000 - loss: 5.3776 - val_loss: 5.3811\n",
      "Epoch 8/150\n",
      "50/50 [==============================] - 4s 80ms/step - batch: 24.5000 - size: 32.0000 - loss: 5.2900 - val_loss: 5.3047\n",
      "Epoch 9/150\n",
      "50/50 [==============================] - 4s 75ms/step - batch: 24.5000 - size: 32.0000 - loss: 5.2332 - val_loss: 5.2362\n",
      "Epoch 10/150\n",
      "50/50 [==============================] - ETA: 0s - batch: 24.5000 - size: 32.0000 - loss: 5.1765Get map.\n"
     ]
    },
    {
     "name": "stderr",
     "output_type": "stream",
     "text": [
      "  0%|          | 0/179 [00:00<?, ?it/s]/home/zhangyouan/anaconda3/envs/stc/lib/python3.10/site-packages/keras/src/engine/training_v1.py:2359: UserWarning: `Model.state_updates` will be removed in a future version. This property should not be used in TensorFlow 2.0, as `updates` are applied automatically.\n",
      "  updates=self.state_updates,\n",
      "2023-09-22 11:55:01.882548: W tensorflow/c/c_api.cc:304] Operation '{name:'predictions/concat' id:1603 op device:{requested: '', assigned: ''} def:{{{node predictions/concat}} = ConcatV2[N=2, T=DT_FLOAT, Tidx=DT_INT32, _has_manual_control_dependencies=true](mbox_loc_final/Reshape, cls_conf_final/Softmax, predictions/concat/axis)}}' was changed by setting attribute after it was run by a session. This mutation will have no effect, and will trigger an error in the future. Either don't modify nodes after running them or create a new session.\n",
      "100%|██████████| 179/179 [00:01<00:00, 132.56it/s]\n"
     ]
    },
    {
     "name": "stdout",
     "output_type": "stream",
     "text": [
      "Calculate Map.\n",
      "Path '.temp_map_out/results' already exists.\n",
      "2.67% = good AP \t||\tscore_threhold=0.5 : F1=0.00 ; Recall=0.00% ; Precision=0.00%\n",
      "mAP = 2.67%\n",
      "Path '/home/zhangyouan/桌面/zya/NN_net/network/SSD/IMX_681_ssd_mobilenet_git/keras/detection/SSD_ipynb_transfer_callback/output/20230922/loss_2023_09_22_11_54_22' created successfully.\n",
      "Get map done.\n",
      "50/50 [==============================] - 6s 124ms/step - batch: 24.5000 - size: 32.0000 - loss: 5.1765 - val_loss: 5.2521\n",
      "Epoch 11/150\n",
      "50/50 [==============================] - 4s 74ms/step - batch: 24.5000 - size: 32.0000 - loss: 5.1413 - val_loss: 5.2000\n",
      "Epoch 12/150\n",
      "50/50 [==============================] - 4s 75ms/step - batch: 24.5000 - size: 32.0000 - loss: 5.1346 - val_loss: 5.1713\n",
      "Epoch 13/150\n",
      "50/50 [==============================] - 4s 74ms/step - batch: 24.5000 - size: 32.0000 - loss: 5.1188 - val_loss: 5.1831\n",
      "Epoch 14/150\n",
      "50/50 [==============================] - 4s 74ms/step - batch: 24.5000 - size: 32.0000 - loss: 5.0960 - val_loss: 5.1506\n",
      "Epoch 15/150\n",
      "50/50 [==============================] - 4s 74ms/step - batch: 24.5000 - size: 32.0000 - loss: 5.1091 - val_loss: 5.1509\n",
      "Epoch 16/150\n",
      "50/50 [==============================] - 4s 74ms/step - batch: 24.5000 - size: 32.0000 - loss: 5.0948 - val_loss: 5.1331\n",
      "Epoch 17/150\n",
      "50/50 [==============================] - 4s 76ms/step - batch: 24.5000 - size: 32.0000 - loss: 5.0908 - val_loss: 5.1427\n",
      "Epoch 18/150\n",
      "50/50 [==============================] - 4s 75ms/step - batch: 24.5000 - size: 32.0000 - loss: 5.0508 - val_loss: 5.1675\n",
      "Epoch 19/150\n",
      "50/50 [==============================] - 4s 75ms/step - batch: 24.5000 - size: 32.0000 - loss: 5.0763 - val_loss: 5.1068\n",
      "Epoch 20/150\n",
      "50/50 [==============================] - ETA: 0s - batch: 24.5000 - size: 32.0000 - loss: 4.9931Get map.\n"
     ]
    },
    {
     "name": "stderr",
     "output_type": "stream",
     "text": [
      "100%|██████████| 179/179 [00:01<00:00, 144.11it/s]\n"
     ]
    },
    {
     "name": "stdout",
     "output_type": "stream",
     "text": [
      "Calculate Map.\n",
      "Path '.temp_map_out/results' already exists.\n",
      "11.82% = good AP \t||\tscore_threhold=0.5 : F1=0.01 ; Recall=0.56% ; Precision=100.00%\n",
      "mAP = 11.82%\n",
      "Path '/home/zhangyouan/桌面/zya/NN_net/network/SSD/IMX_681_ssd_mobilenet_git/keras/detection/SSD_ipynb_transfer_callback/output/20230922/loss_2023_09_22_11_54_22' already exists.\n",
      "Get map done.\n",
      "50/50 [==============================] - 6s 122ms/step - batch: 24.5000 - size: 32.0000 - loss: 4.9931 - val_loss: 4.9050\n",
      "Epoch 21/150\n",
      "50/50 [==============================] - 4s 74ms/step - batch: 24.5000 - size: 32.0000 - loss: 4.7452 - val_loss: 4.5446\n",
      "Epoch 22/150\n",
      "50/50 [==============================] - 4s 77ms/step - batch: 24.5000 - size: 32.0000 - loss: 4.4399 - val_loss: 4.2357\n",
      "Epoch 23/150\n",
      "50/50 [==============================] - 4s 75ms/step - batch: 24.5000 - size: 32.0000 - loss: 4.0786 - val_loss: 3.9487\n",
      "Epoch 24/150\n",
      "50/50 [==============================] - 4s 75ms/step - batch: 24.5000 - size: 32.0000 - loss: 3.9172 - val_loss: 3.7665\n",
      "Epoch 25/150\n",
      "50/50 [==============================] - 4s 75ms/step - batch: 24.5000 - size: 32.0000 - loss: 3.7116 - val_loss: 3.5203\n",
      "Epoch 26/150\n",
      "50/50 [==============================] - 4s 75ms/step - batch: 24.5000 - size: 32.0000 - loss: 3.5317 - val_loss: 3.3451\n",
      "Epoch 27/150\n",
      "50/50 [==============================] - 4s 75ms/step - batch: 24.5000 - size: 32.0000 - loss: 3.3085 - val_loss: 3.3023\n",
      "Epoch 28/150\n",
      "50/50 [==============================] - 4s 76ms/step - batch: 24.5000 - size: 32.0000 - loss: 3.2123 - val_loss: 3.1053\n",
      "Epoch 29/150\n",
      "50/50 [==============================] - 4s 76ms/step - batch: 24.5000 - size: 32.0000 - loss: 3.0720 - val_loss: 2.9853\n",
      "Epoch 30/150\n",
      "50/50 [==============================] - ETA: 0s - batch: 24.5000 - size: 32.0000 - loss: 2.8289Get map.\n"
     ]
    },
    {
     "name": "stderr",
     "output_type": "stream",
     "text": [
      "100%|██████████| 179/179 [00:01<00:00, 154.12it/s]\n"
     ]
    },
    {
     "name": "stdout",
     "output_type": "stream",
     "text": [
      "Calculate Map.\n",
      "Path '.temp_map_out/results' already exists.\n",
      "81.26% = good AP \t||\tscore_threhold=0.5 : F1=0.81 ; Recall=75.98% ; Precision=87.18%\n",
      "mAP = 81.26%\n",
      "Path '/home/zhangyouan/桌面/zya/NN_net/network/SSD/IMX_681_ssd_mobilenet_git/keras/detection/SSD_ipynb_transfer_callback/output/20230922/loss_2023_09_22_11_54_22' already exists.\n",
      "Get map done.\n",
      "50/50 [==============================] - 6s 121ms/step - batch: 24.5000 - size: 32.0000 - loss: 2.8289 - val_loss: 2.7606\n",
      "Epoch 31/150\n",
      "50/50 [==============================] - 4s 74ms/step - batch: 24.5000 - size: 32.0000 - loss: 2.7683 - val_loss: 2.6984\n",
      "Epoch 32/150\n",
      "50/50 [==============================] - 4s 75ms/step - batch: 24.5000 - size: 32.0000 - loss: 2.6547 - val_loss: 2.7703\n",
      "Epoch 33/150\n",
      "50/50 [==============================] - 4s 75ms/step - batch: 24.5000 - size: 32.0000 - loss: 2.5868 - val_loss: 2.5249\n",
      "Epoch 34/150\n",
      "50/50 [==============================] - 4s 75ms/step - batch: 24.5000 - size: 32.0000 - loss: 2.4494 - val_loss: 2.5543\n",
      "Epoch 35/150\n",
      "50/50 [==============================] - 4s 74ms/step - batch: 24.5000 - size: 32.0000 - loss: 2.4161 - val_loss: 2.4737\n",
      "Epoch 36/150\n",
      "50/50 [==============================] - 4s 75ms/step - batch: 24.5000 - size: 32.0000 - loss: 2.2008 - val_loss: 2.3128\n",
      "Epoch 37/150\n",
      "50/50 [==============================] - 4s 77ms/step - batch: 24.5000 - size: 32.0000 - loss: 2.2990 - val_loss: 2.3176\n",
      "Epoch 38/150\n",
      "50/50 [==============================] - 4s 77ms/step - batch: 24.5000 - size: 32.0000 - loss: 2.1927 - val_loss: 2.2807\n",
      "Epoch 39/150\n",
      "50/50 [==============================] - 4s 79ms/step - batch: 24.5000 - size: 32.0000 - loss: 2.0976 - val_loss: 2.2269\n",
      "Epoch 40/150\n",
      "50/50 [==============================] - ETA: 0s - batch: 24.5000 - size: 32.0000 - loss: 2.1602Get map.\n"
     ]
    },
    {
     "name": "stderr",
     "output_type": "stream",
     "text": [
      "100%|██████████| 179/179 [00:01<00:00, 170.77it/s]\n"
     ]
    },
    {
     "name": "stdout",
     "output_type": "stream",
     "text": [
      "Calculate Map.\n",
      "Path '.temp_map_out/results' already exists.\n",
      "91.11% = good AP \t||\tscore_threhold=0.5 : F1=0.89 ; Recall=83.24% ; Precision=95.51%\n",
      "mAP = 91.11%\n",
      "Path '/home/zhangyouan/桌面/zya/NN_net/network/SSD/IMX_681_ssd_mobilenet_git/keras/detection/SSD_ipynb_transfer_callback/output/20230922/loss_2023_09_22_11_54_22' already exists.\n",
      "Get map done.\n",
      "50/50 [==============================] - 6s 122ms/step - batch: 24.5000 - size: 32.0000 - loss: 2.1602 - val_loss: 2.1180\n",
      "Epoch 41/150\n",
      "50/50 [==============================] - 4s 76ms/step - batch: 24.5000 - size: 32.0000 - loss: 2.0507 - val_loss: 2.1400\n",
      "Epoch 42/150\n",
      "50/50 [==============================] - 4s 76ms/step - batch: 24.5000 - size: 32.0000 - loss: 2.0073 - val_loss: 2.1592\n",
      "Epoch 43/150\n",
      "50/50 [==============================] - 4s 76ms/step - batch: 24.5000 - size: 32.0000 - loss: 1.9881 - val_loss: 2.2068\n",
      "Epoch 44/150\n",
      "50/50 [==============================] - 4s 78ms/step - batch: 24.5000 - size: 32.0000 - loss: 2.0323 - val_loss: 2.1295\n",
      "Epoch 45/150\n",
      "50/50 [==============================] - 4s 76ms/step - batch: 24.5000 - size: 32.0000 - loss: 1.9543 - val_loss: 2.0091\n",
      "Epoch 46/150\n",
      "50/50 [==============================] - 4s 76ms/step - batch: 24.5000 - size: 32.0000 - loss: 1.8402 - val_loss: 2.0170\n",
      "Epoch 47/150\n",
      "50/50 [==============================] - 4s 76ms/step - batch: 24.5000 - size: 32.0000 - loss: 1.8540 - val_loss: 1.9949\n",
      "Epoch 48/150\n",
      "50/50 [==============================] - 4s 76ms/step - batch: 24.5000 - size: 32.0000 - loss: 1.8033 - val_loss: 2.0030\n",
      "Epoch 49/150\n",
      "50/50 [==============================] - 4s 76ms/step - batch: 24.5000 - size: 32.0000 - loss: 1.8041 - val_loss: 1.9354\n",
      "Epoch 50/150\n",
      "50/50 [==============================] - ETA: 0s - batch: 24.5000 - size: 32.0000 - loss: 1.7650Get map.\n"
     ]
    },
    {
     "name": "stderr",
     "output_type": "stream",
     "text": [
      "100%|██████████| 179/179 [00:00<00:00, 202.83it/s]\n"
     ]
    },
    {
     "name": "stdout",
     "output_type": "stream",
     "text": [
      "Calculate Map.\n",
      "Path '.temp_map_out/results' already exists.\n",
      "91.27% = good AP \t||\tscore_threhold=0.5 : F1=0.91 ; Recall=86.03% ; Precision=96.25%\n",
      "mAP = 91.27%\n",
      "Path '/home/zhangyouan/桌面/zya/NN_net/network/SSD/IMX_681_ssd_mobilenet_git/keras/detection/SSD_ipynb_transfer_callback/output/20230922/loss_2023_09_22_11_54_22' already exists.\n",
      "Get map done.\n",
      "50/50 [==============================] - 5s 98ms/step - batch: 24.5000 - size: 32.0000 - loss: 1.7650 - val_loss: 1.9680\n",
      "Epoch 51/150\n",
      "50/50 [==============================] - 4s 76ms/step - batch: 24.5000 - size: 32.0000 - loss: 1.7804 - val_loss: 1.9281\n",
      "Epoch 52/150\n",
      "50/50 [==============================] - 4s 74ms/step - batch: 24.5000 - size: 32.0000 - loss: 1.7081 - val_loss: 1.9829\n",
      "Epoch 53/150\n",
      "50/50 [==============================] - 4s 75ms/step - batch: 24.5000 - size: 32.0000 - loss: 1.7146 - val_loss: 1.8666\n",
      "Epoch 54/150\n",
      "50/50 [==============================] - 4s 77ms/step - batch: 24.5000 - size: 32.0000 - loss: 1.6893 - val_loss: 1.8911\n",
      "Epoch 55/150\n",
      "50/50 [==============================] - 4s 75ms/step - batch: 24.5000 - size: 32.0000 - loss: 1.6528 - val_loss: 1.9249\n",
      "Epoch 56/150\n",
      "50/50 [==============================] - 4s 78ms/step - batch: 24.5000 - size: 32.0000 - loss: 1.6399 - val_loss: 1.8625\n",
      "Epoch 57/150\n",
      "50/50 [==============================] - 4s 75ms/step - batch: 24.5000 - size: 32.0000 - loss: 1.6484 - val_loss: 1.8623\n",
      "Epoch 58/150\n",
      "50/50 [==============================] - 4s 75ms/step - batch: 24.5000 - size: 32.0000 - loss: 1.6360 - val_loss: 1.8915\n",
      "Epoch 59/150\n",
      "50/50 [==============================] - 4s 75ms/step - batch: 24.5000 - size: 32.0000 - loss: 1.5977 - val_loss: 1.8473\n",
      "Epoch 60/150\n",
      "50/50 [==============================] - ETA: 0s - batch: 24.5000 - size: 32.0000 - loss: 1.5780Get map.\n"
     ]
    },
    {
     "name": "stderr",
     "output_type": "stream",
     "text": [
      "100%|██████████| 179/179 [00:00<00:00, 193.09it/s]\n"
     ]
    },
    {
     "name": "stdout",
     "output_type": "stream",
     "text": [
      "Calculate Map.\n",
      "Path '.temp_map_out/results' already exists.\n",
      "91.25% = good AP \t||\tscore_threhold=0.5 : F1=0.92 ; Recall=87.71% ; Precision=96.32%\n",
      "mAP = 91.25%\n",
      "Path '/home/zhangyouan/桌面/zya/NN_net/network/SSD/IMX_681_ssd_mobilenet_git/keras/detection/SSD_ipynb_transfer_callback/output/20230922/loss_2023_09_22_11_54_22' already exists.\n",
      "Get map done.\n",
      "50/50 [==============================] - 5s 99ms/step - batch: 24.5000 - size: 32.0000 - loss: 1.5780 - val_loss: 1.8810\n",
      "Epoch 61/150\n",
      "50/50 [==============================] - 4s 76ms/step - batch: 24.5000 - size: 32.0000 - loss: 1.5548 - val_loss: 1.8969\n",
      "Epoch 62/150\n",
      "50/50 [==============================] - 4s 77ms/step - batch: 24.5000 - size: 32.0000 - loss: 1.5386 - val_loss: 1.8391\n",
      "Epoch 63/150\n",
      "50/50 [==============================] - 4s 77ms/step - batch: 24.5000 - size: 32.0000 - loss: 1.5220 - val_loss: 1.8153\n",
      "Epoch 64/150\n",
      "50/50 [==============================] - 4s 74ms/step - batch: 24.5000 - size: 32.0000 - loss: 1.5501 - val_loss: 1.8660\n",
      "Epoch 65/150\n",
      "50/50 [==============================] - 4s 74ms/step - batch: 24.5000 - size: 32.0000 - loss: 1.4731 - val_loss: 1.8444\n",
      "Epoch 66/150\n",
      "50/50 [==============================] - 4s 74ms/step - batch: 24.5000 - size: 32.0000 - loss: 1.4961 - val_loss: 1.8224\n",
      "Epoch 67/150\n",
      "50/50 [==============================] - 4s 77ms/step - batch: 24.5000 - size: 32.0000 - loss: 1.4846 - val_loss: 1.8379\n",
      "Epoch 68/150\n",
      "50/50 [==============================] - 4s 75ms/step - batch: 24.5000 - size: 32.0000 - loss: 1.4774 - val_loss: 1.8124\n",
      "Epoch 69/150\n",
      "50/50 [==============================] - 4s 75ms/step - batch: 24.5000 - size: 32.0000 - loss: 1.5900 - val_loss: 1.8461\n",
      "Epoch 70/150\n",
      "50/50 [==============================] - ETA: 0s - batch: 24.5000 - size: 32.0000 - loss: 1.4510Get map.\n"
     ]
    },
    {
     "name": "stderr",
     "output_type": "stream",
     "text": [
      "100%|██████████| 179/179 [00:00<00:00, 185.88it/s]\n"
     ]
    },
    {
     "name": "stdout",
     "output_type": "stream",
     "text": [
      "Calculate Map.\n",
      "Path '.temp_map_out/results' already exists.\n",
      "93.06% = good AP \t||\tscore_threhold=0.5 : F1=0.93 ; Recall=89.94% ; Precision=96.41%\n",
      "mAP = 93.06%\n",
      "Path '/home/zhangyouan/桌面/zya/NN_net/network/SSD/IMX_681_ssd_mobilenet_git/keras/detection/SSD_ipynb_transfer_callback/output/20230922/loss_2023_09_22_11_54_22' already exists.\n",
      "Get map done.\n",
      "50/50 [==============================] - 5s 99ms/step - batch: 24.5000 - size: 32.0000 - loss: 1.4510 - val_loss: 1.7595\n",
      "Epoch 71/150\n",
      "50/50 [==============================] - 4s 74ms/step - batch: 24.5000 - size: 32.0000 - loss: 1.4291 - val_loss: 1.7791\n",
      "Epoch 72/150\n",
      "50/50 [==============================] - 4s 77ms/step - batch: 24.5000 - size: 32.0000 - loss: 1.4248 - val_loss: 1.7796\n",
      "Epoch 73/150\n",
      "50/50 [==============================] - 4s 75ms/step - batch: 24.5000 - size: 32.0000 - loss: 1.4240 - val_loss: 1.7917\n",
      "Epoch 74/150\n",
      "50/50 [==============================] - 4s 74ms/step - batch: 24.5000 - size: 32.0000 - loss: 1.4218 - val_loss: 1.7949\n",
      "Epoch 75/150\n",
      "50/50 [==============================] - 4s 74ms/step - batch: 24.5000 - size: 32.0000 - loss: 1.3965 - val_loss: 1.7964\n",
      "Epoch 76/150\n",
      "50/50 [==============================] - 4s 74ms/step - batch: 24.5000 - size: 32.0000 - loss: 1.3806 - val_loss: 1.8002\n",
      "Epoch 77/150\n",
      "50/50 [==============================] - 4s 75ms/step - batch: 24.5000 - size: 32.0000 - loss: 1.3582 - val_loss: 1.7946\n",
      "Epoch 78/150\n",
      "50/50 [==============================] - 4s 75ms/step - batch: 24.5000 - size: 32.0000 - loss: 1.3769 - val_loss: 1.7690\n",
      "Epoch 79/150\n",
      "50/50 [==============================] - 4s 75ms/step - batch: 24.5000 - size: 32.0000 - loss: 1.3887 - val_loss: 1.7905\n",
      "Epoch 80/150\n",
      "50/50 [==============================] - ETA: 0s - batch: 24.5000 - size: 32.0000 - loss: 1.3313Get map.\n"
     ]
    },
    {
     "name": "stderr",
     "output_type": "stream",
     "text": [
      "100%|██████████| 179/179 [00:00<00:00, 188.44it/s]\n"
     ]
    },
    {
     "name": "stdout",
     "output_type": "stream",
     "text": [
      "Calculate Map.\n",
      "Path '.temp_map_out/results' already exists.\n",
      "93.05% = good AP \t||\tscore_threhold=0.5 : F1=0.94 ; Recall=89.39% ; Precision=98.16%\n",
      "mAP = 93.05%\n",
      "Path '/home/zhangyouan/桌面/zya/NN_net/network/SSD/IMX_681_ssd_mobilenet_git/keras/detection/SSD_ipynb_transfer_callback/output/20230922/loss_2023_09_22_11_54_22' already exists.\n",
      "Get map done.\n",
      "50/50 [==============================] - 5s 101ms/step - batch: 24.5000 - size: 32.0000 - loss: 1.3313 - val_loss: 1.8140\n",
      "Epoch 81/150\n",
      "50/50 [==============================] - 4s 74ms/step - batch: 24.5000 - size: 32.0000 - loss: 1.3990 - val_loss: 1.7443\n",
      "Epoch 82/150\n",
      "50/50 [==============================] - 4s 75ms/step - batch: 24.5000 - size: 32.0000 - loss: 1.3128 - val_loss: 1.7366\n",
      "Epoch 83/150\n",
      "50/50 [==============================] - 4s 75ms/step - batch: 24.5000 - size: 32.0000 - loss: 1.3487 - val_loss: 1.8089\n",
      "Epoch 84/150\n",
      "50/50 [==============================] - 4s 75ms/step - batch: 24.5000 - size: 32.0000 - loss: 1.3406 - val_loss: 1.7914\n",
      "Epoch 85/150\n",
      "50/50 [==============================] - 4s 75ms/step - batch: 24.5000 - size: 32.0000 - loss: 1.3431 - val_loss: 1.7619\n",
      "Epoch 86/150\n",
      "50/50 [==============================] - 4s 76ms/step - batch: 24.5000 - size: 32.0000 - loss: 1.2797 - val_loss: 1.8063\n",
      "Epoch 87/150\n",
      "50/50 [==============================] - 4s 77ms/step - batch: 24.5000 - size: 32.0000 - loss: 1.3436 - val_loss: 1.7762\n",
      "Epoch 88/150\n",
      "50/50 [==============================] - 4s 79ms/step - batch: 24.5000 - size: 32.0000 - loss: 1.2781 - val_loss: 1.7683\n",
      "Epoch 89/150\n",
      "50/50 [==============================] - 4s 78ms/step - batch: 24.5000 - size: 32.0000 - loss: 1.2717 - val_loss: 1.7608\n",
      "Epoch 90/150\n",
      "50/50 [==============================] - ETA: 0s - batch: 24.5000 - size: 32.0000 - loss: 1.3119Get map.\n"
     ]
    },
    {
     "name": "stderr",
     "output_type": "stream",
     "text": [
      "100%|██████████| 179/179 [00:00<00:00, 192.92it/s]\n"
     ]
    },
    {
     "name": "stdout",
     "output_type": "stream",
     "text": [
      "Calculate Map.\n",
      "Path '.temp_map_out/results' already exists.\n",
      "92.38% = good AP \t||\tscore_threhold=0.5 : F1=0.93 ; Recall=88.83% ; Precision=96.95%\n",
      "mAP = 92.38%\n",
      "Path '/home/zhangyouan/桌面/zya/NN_net/network/SSD/IMX_681_ssd_mobilenet_git/keras/detection/SSD_ipynb_transfer_callback/output/20230922/loss_2023_09_22_11_54_22' already exists.\n",
      "Get map done.\n",
      "50/50 [==============================] - 5s 101ms/step - batch: 24.5000 - size: 32.0000 - loss: 1.3119 - val_loss: 1.7900\n",
      "Epoch 91/150\n",
      "50/50 [==============================] - 4s 76ms/step - batch: 24.5000 - size: 32.0000 - loss: 1.2465 - val_loss: 1.7868\n",
      "Epoch 92/150\n",
      "50/50 [==============================] - 4s 77ms/step - batch: 24.5000 - size: 32.0000 - loss: 1.3044 - val_loss: 1.7490\n",
      "Epoch 93/150\n",
      "50/50 [==============================] - 4s 78ms/step - batch: 24.5000 - size: 32.0000 - loss: 1.2613 - val_loss: 1.7764\n",
      "Epoch 94/150\n",
      "50/50 [==============================] - 4s 77ms/step - batch: 24.5000 - size: 32.0000 - loss: 1.2529 - val_loss: 1.7429\n",
      "Epoch 95/150\n",
      "50/50 [==============================] - 4s 77ms/step - batch: 24.5000 - size: 32.0000 - loss: 1.2781 - val_loss: 1.7444\n",
      "Epoch 96/150\n",
      "50/50 [==============================] - 4s 77ms/step - batch: 24.5000 - size: 32.0000 - loss: 1.2560 - val_loss: 1.7807\n",
      "Epoch 97/150\n",
      "50/50 [==============================] - 4s 76ms/step - batch: 24.5000 - size: 32.0000 - loss: 1.2273 - val_loss: 1.7589\n",
      "Epoch 98/150\n",
      "50/50 [==============================] - 4s 76ms/step - batch: 24.5000 - size: 32.0000 - loss: 1.2553 - val_loss: 1.7748\n",
      "Epoch 99/150\n",
      "50/50 [==============================] - 4s 76ms/step - batch: 24.5000 - size: 32.0000 - loss: 1.2275 - val_loss: 1.7773\n",
      "Epoch 100/150\n",
      "50/50 [==============================] - ETA: 0s - batch: 24.5000 - size: 32.0000 - loss: 1.2297Get map.\n"
     ]
    },
    {
     "name": "stderr",
     "output_type": "stream",
     "text": [
      "100%|██████████| 179/179 [00:00<00:00, 201.91it/s]\n"
     ]
    },
    {
     "name": "stdout",
     "output_type": "stream",
     "text": [
      "Calculate Map.\n",
      "Path '.temp_map_out/results' already exists.\n",
      "93.01% = good AP \t||\tscore_threhold=0.5 : F1=0.95 ; Recall=91.62% ; Precision=97.62%\n",
      "mAP = 93.01%\n",
      "Path '/home/zhangyouan/桌面/zya/NN_net/network/SSD/IMX_681_ssd_mobilenet_git/keras/detection/SSD_ipynb_transfer_callback/output/20230922/loss_2023_09_22_11_54_22' already exists.\n",
      "Get map done.\n",
      "50/50 [==============================] - 5s 99ms/step - batch: 24.5000 - size: 32.0000 - loss: 1.2297 - val_loss: 1.7412\n",
      "Epoch 101/150\n",
      "50/50 [==============================] - 4s 76ms/step - batch: 24.5000 - size: 32.0000 - loss: 1.2366 - val_loss: 1.7242\n",
      "Epoch 102/150\n",
      "50/50 [==============================] - 4s 76ms/step - batch: 24.5000 - size: 32.0000 - loss: 1.2174 - val_loss: 1.7549\n",
      "Epoch 103/150\n",
      "50/50 [==============================] - 4s 74ms/step - batch: 24.5000 - size: 32.0000 - loss: 1.2219 - val_loss: 1.7673\n",
      "Epoch 104/150\n",
      "50/50 [==============================] - 4s 76ms/step - batch: 24.5000 - size: 32.0000 - loss: 1.2117 - val_loss: 1.7645\n",
      "Epoch 105/150\n",
      "50/50 [==============================] - 4s 76ms/step - batch: 24.5000 - size: 32.0000 - loss: 1.2025 - val_loss: 1.7469\n",
      "Epoch 106/150\n",
      "50/50 [==============================] - 4s 75ms/step - batch: 24.5000 - size: 32.0000 - loss: 1.2127 - val_loss: 1.7462\n",
      "Epoch 107/150\n",
      "50/50 [==============================] - 4s 76ms/step - batch: 24.5000 - size: 32.0000 - loss: 1.1932 - val_loss: 1.7846\n",
      "Epoch 108/150\n",
      "50/50 [==============================] - 4s 79ms/step - batch: 24.5000 - size: 32.0000 - loss: 1.2006 - val_loss: 1.7548\n",
      "Epoch 109/150\n",
      "50/50 [==============================] - 4s 75ms/step - batch: 24.5000 - size: 32.0000 - loss: 1.2105 - val_loss: 1.7805\n",
      "Epoch 110/150\n",
      "50/50 [==============================] - ETA: 0s - batch: 24.5000 - size: 32.0000 - loss: 1.1936Get map.\n"
     ]
    },
    {
     "name": "stderr",
     "output_type": "stream",
     "text": [
      "100%|██████████| 179/179 [00:00<00:00, 183.30it/s]\n"
     ]
    },
    {
     "name": "stdout",
     "output_type": "stream",
     "text": [
      "Calculate Map.\n",
      "Path '.temp_map_out/results' already exists.\n",
      "93.07% = good AP \t||\tscore_threhold=0.5 : F1=0.94 ; Recall=91.62% ; Precision=96.47%\n",
      "mAP = 93.07%\n",
      "Path '/home/zhangyouan/桌面/zya/NN_net/network/SSD/IMX_681_ssd_mobilenet_git/keras/detection/SSD_ipynb_transfer_callback/output/20230922/loss_2023_09_22_11_54_22' already exists.\n",
      "Get map done.\n",
      "50/50 [==============================] - 5s 100ms/step - batch: 24.5000 - size: 32.0000 - loss: 1.1936 - val_loss: 1.7316\n",
      "Epoch 111/150\n",
      "50/50 [==============================] - 4s 75ms/step - batch: 24.5000 - size: 32.0000 - loss: 1.1999 - val_loss: 1.7685\n",
      "Epoch 112/150\n",
      "50/50 [==============================] - 4s 76ms/step - batch: 24.5000 - size: 32.0000 - loss: 1.1943 - val_loss: 1.7789\n",
      "Epoch 113/150\n",
      "50/50 [==============================] - 4s 75ms/step - batch: 24.5000 - size: 32.0000 - loss: 1.1647 - val_loss: 1.7568\n",
      "Epoch 114/150\n",
      "50/50 [==============================] - 4s 75ms/step - batch: 24.5000 - size: 32.0000 - loss: 1.2095 - val_loss: 1.7827\n",
      "Epoch 115/150\n",
      "50/50 [==============================] - 4s 76ms/step - batch: 24.5000 - size: 32.0000 - loss: 1.1743 - val_loss: 1.7624\n",
      "Epoch 116/150\n",
      "50/50 [==============================] - 4s 75ms/step - batch: 24.5000 - size: 32.0000 - loss: 1.1862 - val_loss: 1.7552\n",
      "Epoch 117/150\n",
      "50/50 [==============================] - 4s 75ms/step - batch: 24.5000 - size: 32.0000 - loss: 1.1749 - val_loss: 1.7639\n",
      "Epoch 118/150\n",
      "50/50 [==============================] - 4s 75ms/step - batch: 24.5000 - size: 32.0000 - loss: 1.1711 - val_loss: 1.7478\n",
      "Epoch 119/150\n",
      "50/50 [==============================] - 4s 75ms/step - batch: 24.5000 - size: 32.0000 - loss: 1.1815 - val_loss: 1.7553\n",
      "Epoch 120/150\n",
      "50/50 [==============================] - ETA: 0s - batch: 24.5000 - size: 32.0000 - loss: 1.1748Get map.\n"
     ]
    },
    {
     "name": "stderr",
     "output_type": "stream",
     "text": [
      "100%|██████████| 179/179 [00:00<00:00, 197.91it/s]\n"
     ]
    },
    {
     "name": "stdout",
     "output_type": "stream",
     "text": [
      "Calculate Map.\n",
      "Path '.temp_map_out/results' already exists.\n",
      "93.13% = good AP \t||\tscore_threhold=0.5 : F1=0.94 ; Recall=91.62% ; Precision=97.04%\n",
      "mAP = 93.13%\n",
      "Path '/home/zhangyouan/桌面/zya/NN_net/network/SSD/IMX_681_ssd_mobilenet_git/keras/detection/SSD_ipynb_transfer_callback/output/20230922/loss_2023_09_22_11_54_22' already exists.\n",
      "Get map done.\n",
      "50/50 [==============================] - 5s 97ms/step - batch: 24.5000 - size: 32.0000 - loss: 1.1748 - val_loss: 1.7679\n",
      "Epoch 121/150\n",
      "50/50 [==============================] - 4s 74ms/step - batch: 24.5000 - size: 32.0000 - loss: 1.1545 - val_loss: 1.7365\n",
      "Epoch 122/150\n",
      "50/50 [==============================] - 4s 75ms/step - batch: 24.5000 - size: 32.0000 - loss: 1.1668 - val_loss: 1.7596\n",
      "Epoch 123/150\n",
      "50/50 [==============================] - 4s 75ms/step - batch: 24.5000 - size: 32.0000 - loss: 1.1329 - val_loss: 1.7478\n",
      "Epoch 124/150\n",
      "50/50 [==============================] - 4s 75ms/step - batch: 24.5000 - size: 32.0000 - loss: 1.1701 - val_loss: 1.7584\n",
      "Epoch 125/150\n",
      "50/50 [==============================] - 4s 75ms/step - batch: 24.5000 - size: 32.0000 - loss: 1.1747 - val_loss: 1.7590\n",
      "Epoch 126/150\n",
      "50/50 [==============================] - 4s 74ms/step - batch: 24.5000 - size: 32.0000 - loss: 1.1468 - val_loss: 1.7336\n",
      "Epoch 127/150\n",
      "50/50 [==============================] - 4s 74ms/step - batch: 24.5000 - size: 32.0000 - loss: 1.1380 - val_loss: 1.7597\n",
      "Epoch 128/150\n",
      "50/50 [==============================] - 4s 75ms/step - batch: 24.5000 - size: 32.0000 - loss: 1.1801 - val_loss: 1.7598\n",
      "Epoch 129/150\n",
      "50/50 [==============================] - 4s 74ms/step - batch: 24.5000 - size: 32.0000 - loss: 1.1443 - val_loss: 1.7616\n",
      "Epoch 130/150\n",
      "50/50 [==============================] - ETA: 0s - batch: 24.5000 - size: 32.0000 - loss: 1.1536Get map.\n"
     ]
    },
    {
     "name": "stderr",
     "output_type": "stream",
     "text": [
      "100%|██████████| 179/179 [00:00<00:00, 196.05it/s]\n"
     ]
    },
    {
     "name": "stdout",
     "output_type": "stream",
     "text": [
      "Calculate Map.\n",
      "Path '.temp_map_out/results' already exists.\n",
      "93.14% = good AP \t||\tscore_threhold=0.5 : F1=0.94 ; Recall=91.62% ; Precision=97.04%\n",
      "mAP = 93.14%\n",
      "Path '/home/zhangyouan/桌面/zya/NN_net/network/SSD/IMX_681_ssd_mobilenet_git/keras/detection/SSD_ipynb_transfer_callback/output/20230922/loss_2023_09_22_11_54_22' already exists.\n",
      "Get map done.\n",
      "50/50 [==============================] - 5s 97ms/step - batch: 24.5000 - size: 32.0000 - loss: 1.1536 - val_loss: 1.7584\n",
      "Epoch 131/150\n",
      "50/50 [==============================] - 4s 75ms/step - batch: 24.5000 - size: 32.0000 - loss: 1.1746 - val_loss: 1.7454\n",
      "Epoch 132/150\n",
      "50/50 [==============================] - 4s 75ms/step - batch: 24.5000 - size: 32.0000 - loss: 1.1215 - val_loss: 1.7471\n",
      "Epoch 133/150\n",
      "50/50 [==============================] - 4s 75ms/step - batch: 24.5000 - size: 32.0000 - loss: 1.1559 - val_loss: 1.7395\n",
      "Epoch 134/150\n",
      "50/50 [==============================] - 4s 75ms/step - batch: 24.5000 - size: 32.0000 - loss: 1.1623 - val_loss: 1.7481\n",
      "Epoch 135/150\n",
      "50/50 [==============================] - 4s 75ms/step - batch: 24.5000 - size: 32.0000 - loss: 1.1245 - val_loss: 1.7595\n",
      "Epoch 136/150\n",
      "50/50 [==============================] - 4s 75ms/step - batch: 24.5000 - size: 32.0000 - loss: 1.1450 - val_loss: 1.7597\n",
      "Epoch 137/150\n",
      "50/50 [==============================] - 4s 76ms/step - batch: 24.5000 - size: 32.0000 - loss: 1.1261 - val_loss: 1.7539\n",
      "Epoch 138/150\n",
      "50/50 [==============================] - 4s 77ms/step - batch: 24.5000 - size: 32.0000 - loss: 1.1394 - val_loss: 1.7538\n",
      "Epoch 139/150\n",
      "50/50 [==============================] - 4s 77ms/step - batch: 24.5000 - size: 32.0000 - loss: 1.1659 - val_loss: 1.7467\n",
      "Epoch 140/150\n",
      "50/50 [==============================] - ETA: 0s - batch: 24.5000 - size: 32.0000 - loss: 1.1477Get map.\n"
     ]
    },
    {
     "name": "stderr",
     "output_type": "stream",
     "text": [
      "100%|██████████| 179/179 [00:00<00:00, 186.75it/s]\n"
     ]
    },
    {
     "name": "stdout",
     "output_type": "stream",
     "text": [
      "Calculate Map.\n",
      "Path '.temp_map_out/results' already exists.\n",
      "93.15% = good AP \t||\tscore_threhold=0.5 : F1=0.94 ; Recall=91.62% ; Precision=97.04%\n",
      "mAP = 93.15%\n",
      "Path '/home/zhangyouan/桌面/zya/NN_net/network/SSD/IMX_681_ssd_mobilenet_git/keras/detection/SSD_ipynb_transfer_callback/output/20230922/loss_2023_09_22_11_54_22' already exists.\n",
      "Get map done.\n",
      "50/50 [==============================] - 5s 102ms/step - batch: 24.5000 - size: 32.0000 - loss: 1.1477 - val_loss: 1.7533\n",
      "Epoch 141/150\n",
      "50/50 [==============================] - 4s 76ms/step - batch: 24.5000 - size: 32.0000 - loss: 1.1368 - val_loss: 1.7513\n",
      "Epoch 142/150\n",
      "50/50 [==============================] - 4s 77ms/step - batch: 24.5000 - size: 32.0000 - loss: 1.1339 - val_loss: 1.7479\n",
      "Epoch 143/150\n",
      "50/50 [==============================] - 4s 77ms/step - batch: 24.5000 - size: 32.0000 - loss: 1.1387 - val_loss: 1.7492\n",
      "Epoch 144/150\n",
      "50/50 [==============================] - 4s 77ms/step - batch: 24.5000 - size: 32.0000 - loss: 1.1500 - val_loss: 1.7504\n",
      "Epoch 145/150\n",
      "50/50 [==============================] - 4s 76ms/step - batch: 24.5000 - size: 32.0000 - loss: 1.1187 - val_loss: 1.7538\n",
      "Epoch 146/150\n",
      "50/50 [==============================] - 4s 76ms/step - batch: 24.5000 - size: 32.0000 - loss: 1.1532 - val_loss: 1.7518\n",
      "Epoch 147/150\n",
      "50/50 [==============================] - 4s 76ms/step - batch: 24.5000 - size: 32.0000 - loss: 1.1375 - val_loss: 1.7519\n",
      "Epoch 148/150\n",
      "50/50 [==============================] - 4s 76ms/step - batch: 24.5000 - size: 32.0000 - loss: 1.1277 - val_loss: 1.7518\n",
      "Epoch 149/150\n",
      "50/50 [==============================] - 4s 76ms/step - batch: 24.5000 - size: 32.0000 - loss: 1.1350 - val_loss: 1.7515\n",
      "Epoch 150/150\n",
      "50/50 [==============================] - ETA: 0s - batch: 24.5000 - size: 32.0000 - loss: 1.1321Get map.\n"
     ]
    },
    {
     "name": "stderr",
     "output_type": "stream",
     "text": [
      "100%|██████████| 179/179 [00:00<00:00, 202.56it/s]\n"
     ]
    },
    {
     "name": "stdout",
     "output_type": "stream",
     "text": [
      "Calculate Map.\n",
      "Path '.temp_map_out/results' already exists.\n",
      "93.15% = good AP \t||\tscore_threhold=0.5 : F1=0.94 ; Recall=91.62% ; Precision=97.04%\n",
      "mAP = 93.15%\n",
      "Path '/home/zhangyouan/桌面/zya/NN_net/network/SSD/IMX_681_ssd_mobilenet_git/keras/detection/SSD_ipynb_transfer_callback/output/20230922/loss_2023_09_22_11_54_22' already exists.\n",
      "Get map done.\n",
      "50/50 [==============================] - 5s 98ms/step - batch: 24.5000 - size: 32.0000 - loss: 1.1321 - val_loss: 1.7515\n"
     ]
    },
    {
     "name": "stderr",
     "output_type": "stream",
     "text": [
      "/home/zhangyouan/anaconda3/envs/stc/lib/python3.10/site-packages/keras/src/engine/training.py:3000: UserWarning: You are saving your model as an HDF5 file via `model.save()`. This file format is considered legacy. We recommend using instead the native Keras format, e.g. `model.save('my_model.keras')`.\n",
      "  saving_api.save_model(\n"
     ]
    },
    {
     "name": "stdout",
     "output_type": "stream",
     "text": [
      "INFO:tensorflow:Assets written to: /home/zhangyouan/桌面/zya/NN_net/network/SSD/IMX_681_ssd_mobilenet_git/keras/detection/SSD_ipynb_transfer_callback/output/20230922/good_detection_test_callback_2.pb/assets\n"
     ]
    },
    {
     "name": "stderr",
     "output_type": "stream",
     "text": [
      "INFO:tensorflow:Assets written to: /home/zhangyouan/桌面/zya/NN_net/network/SSD/IMX_681_ssd_mobilenet_git/keras/detection/SSD_ipynb_transfer_callback/output/20230922/good_detection_test_callback_2.pb/assets\n"
     ]
    }
   ],
   "source": [
    "from keras.regularizers import l2\n",
    "\n",
    "if __name__ == \"__main__\":\n",
    "    \n",
    "    # 设置训练参数\n",
    "    Epoch = 150  # 训练100 epochs\n",
    "    lr = 1e-3  # Adam优化器，所以较小的学习率\n",
    "    optimizer_type = \"Adam\"\n",
    "    momentum = 0.937\n",
    "    batch_size = 32\n",
    "    imgcolor = 'grey'  # imgcolor选“rgb” or “grey”, 则处理图像变单通道或者三通道\n",
    "    tmp_dir = str(datetime.datetime.strftime(datetime.datetime.now(), '%Y%m%d'))\n",
    "    save_dir = \"/home/zhangyouan/桌面/zya/NN_net/network/SSD/IMX_681_ssd_mobilenet_git/keras/detection/SSD_ipynb_transfer_callback/output/\"+tmp_dir\n",
    "    \n",
    "    # 设置SSD参数\n",
    "    cls_name_path = \"./model_data/voc_classes.txt\"  # 导入目标检测类别；\n",
    "    input_shape = [120, 160]  # 输入的尺寸大小\n",
    "    anchor_size = [32, 59, 86, 113, 141, 168]  # 用于设定先验框的大小，根据公式计算而来；如果要检测小物体，修改浅层先验框的大小，越小的话，识别的物体越小；    \n",
    "    train_annotation_path = '/home/zhangyouan/桌面/zya/NN_net/network/SSD/IMX_681_ssd_mobilenet_git/Img_Pro/preprocessing/2007_trainval.txt'  # 训练图片路径和标签\n",
    "    val_annotation_path = '/home/zhangyouan/桌面/zya/NN_net/network/SSD/IMX_681_ssd_mobilenet_git/Img_Pro/preprocessing/2007_test.txt'  # 验证图片路径和标签\n",
    "    \n",
    "    # 1. 获取classes和anchor\n",
    "    class_names, num_cls = get_classes(cls_name_path)\n",
    "    num_cls += 1  # 增加一个背景类别\n",
    "    print(\"class_names:\", class_names, \"num_classes:\", num_cls)\n",
    "    \n",
    "    # 2. 获取anchors, 输出的是归一化之后的anchors\n",
    "    # anchor = get_anchors(input_shape, anchor_size)\n",
    "    anchor = infer_anchor()\n",
    "    print(\"type:\",type(anchor), \"shape:\", np.shape(anchor))\n",
    "\n",
    "    # 3. 模型编译\n",
    "    K.clear_session()\n",
    "    model_path = \"\"\n",
    "    # model_path = \"./output/20230804_3/good_detection_test_callback.h5\"\n",
    "    model = SSD300((input_shape[0], input_shape[1], 1), num_cls)\n",
    "    # model.save(\"template.h5\")\n",
    "    # model.summary()\n",
    "    if model_path != \"\":\n",
    "        model.load_weights(model_path, by_name = True, skip_mismatch=True)\n",
    "       \n",
    "    # 4. 优化器\n",
    "    # optimizer = Adam(lr = lr, beta_1=momentum)\n",
    "    # optimizer = Adam(lr=0.001, beta_1=0.9, beta_2=0.999, epsilon=1e-08, decay=0.0)\n",
    "    optimizer = legacy.Adam(learning_rate=0.001, beta_1=0.9, beta_2=0.999, epsilon=1e-08, decay=0.0)  # 2.10新特性，Adam要从legacy里面提取\n",
    "    \n",
    "    # 5. 导入数据集\n",
    "    with open(train_annotation_path, encoding='utf-8') as f:\n",
    "        train_lines = f.readlines()\n",
    "    with open(val_annotation_path, encoding='utf-8') as f:\n",
    "        val_lines = f.readlines()\n",
    "    num_train = len(train_lines)\n",
    "    num_val = len(val_lines)\n",
    "    epoch_step = num_train // batch_size\n",
    "    epoch_step_val = num_val // batch_size\n",
    "    train_dataloader = SSDDatasets(train_lines, input_shape, anchor, batch_size, num_cls, train=False, imgcolor=imgcolor)\n",
    "    val_dataloader = SSDDatasets(val_lines, input_shape, anchor, batch_size, num_cls, train=False, imgcolor=imgcolor)\n",
    "    print('Train on {} samples, val on {} samples, with batch size {}.'.format(num_train, num_val, batch_size))\n",
    "    \n",
    "    # 6. 编译模型\n",
    "    # losses = {'mbox_loc_final':MultiboxLoss(num_cls, neg_pos_ratio=3.0).compute_loc_loss,\n",
    "            #   'cls_conf_final':MultiboxLoss(num_cls, neg_pos_ratio=3.0).compute_conf_loss}\n",
    "    # losses2 = [MultiboxLoss(num_cls, neg_pos_ratio=3.0).compute_loc_loss,MultiboxLoss(num_cls, neg_pos_ratio=3.0).compute_conf_loss]\n",
    "    model.compile(optimizer=optimizer, loss = MultiboxLoss(num_cls, neg_pos_ratio=3.0).compute_loss)\n",
    "    \n",
    "    # 7. 设计learning rate;\n",
    "    total_steps = int(Epoch * num_train / batch_size)\n",
    "    # 7.1 compute the number of warmup batches.\n",
    "    warmup_epochs = 10\n",
    "    warmup_steps = int(warmup_epochs * num_train / batch_size)\n",
    "    # 7.2 create the learning rate scheduler\n",
    "    warm_up_lr = WarmUpCosineDecayScheduler(learning_rate_base=lr,\n",
    "                                            total_steps=total_steps,\n",
    "                                            warmup_learning_rate=4e-06,\n",
    "                                            warmup_steps=warmup_steps,\n",
    "                                            hold_base_rate_steps=20)\n",
    "    time_str = datetime.datetime.strftime(datetime.datetime.now(), '%Y_%m_%d_%H_%M_%S')\n",
    "    log_dir = os.path.join(save_dir, \"loss_\" + str(time_str))\n",
    "    \n",
    "    # # 8. 精度评价: pending --> 还没构建；\n",
    "    eval_flag = True\n",
    "    eval_period = 10\n",
    "    eval_callback = EvalCallback(model, input_shape, anchor, class_names, num_cls, val_lines, log_dir, eval_flag=eval_flag, period = eval_period)\n",
    "    show_config(\n",
    "        classes_path=cls_name_path, model_path=model_path, input_shape=input_shape, \\\n",
    "        Epoch=Epoch, batch_size=batch_size, \\\n",
    "        lr=lr, optimizer_type=optimizer_type, momentum=momentum, \\\n",
    "        num_train=num_train, num_val=num_val\n",
    "    )\n",
    "    \n",
    "    callbacks_list = [\n",
    "        # 早停回调，keras.callbacks.EarlyStopping(monitor='val_accuracy'， patience=4)\n",
    "        warm_up_lr, # 学习率的调整\n",
    "        # 学习率调整方法2. keras.callbacks.ReduceLROnPlateau(monitor='val_loss', factor=0.1, patience=2, verbose=0, mode='auto',min_lr=0.000001),\n",
    "        # Epoch结束回调LearningRateSchrduler(schrduler, verbose=1),\n",
    "        keras.callbacks.TensorBoard(log_dir=os.path.join(save_dir, 'unetlogs'), update_freq=1000), #参数分别为日志存储路径和每多少step进行一次记录，此处不应取太小，会拖慢训练过程\n",
    "        eval_callback,  # 精度评价；\n",
    "    ]\n",
    "    # 8. 开始训练；\n",
    "    history = model.fit_generator(\n",
    "        generator=train_dataloader,\n",
    "        steps_per_epoch=epoch_step,\n",
    "        validation_data=val_dataloader,\n",
    "        validation_steps=epoch_step_val,\n",
    "        epochs=Epoch,\n",
    "        # callbacks = [warm_up_lr]\n",
    "        callbacks = callbacks_list   \n",
    "    )  # 使用tensorboard --logdir=\"\" 调用查看loss\n",
    "    \n",
    "    record_log(history, filename = os.path.join(save_dir, \"unetlogs/log.txt\"))\n",
    "    model.save(os.path.join(save_dir, \"good_detection_test_callback_2.h5\"))\n",
    "    model.save(os.path.join(save_dir, \"good_detection_test_callback_2.pb\"))"
   ]
  },
  {
   "cell_type": "code",
   "execution_count": 1,
   "metadata": {},
   "outputs": [
    {
     "name": "stdout",
     "output_type": "stream",
     "text": [
      "no accuracy, only loss.\n"
     ]
    },
    {
     "data": {
      "image/png": "[encoded data removed]",
      "text/plain": [
       "<Figure size 640x480 with 1 Axes>"
      ]
     },
     "metadata": {},
     "output_type": "display_data"
    }
   ],
   "source": [
    "from log_record import record_log, read_log\n",
    "from utils import visual_train\n",
    "\n",
    "history = read_log(\"/home/zhangyouan/桌面/zya/NN_net/network/SSD/IMX_681_ssd_mobilenet_git/keras/detection/SSD_ipynb_transfer_callback/output/20230922/unetlogs/log.txt\")\n",
    "visual_train(history)"
   ]
  },
  {
   "cell_type": "code",
   "execution_count": 2,
   "metadata": {},
   "outputs": [
    {
     "name": "stdout",
     "output_type": "stream",
     "text": [
      "no accuracy, only loss.\n"
     ]
    },
    {
     "data": {
      "image/png": "[encoded data removed]",
      "text/plain": [
       "<Figure size 640x480 with 1 Axes>"
      ]
     },
     "metadata": {},
     "output_type": "display_data"
    }
   ],
   "source": [
    "from log_record import record_log, read_log\n",
    "from utils import visual_train\n",
    "\n",
    "history = read_log(\"/home/zhangyouan/桌面/zya/NN_net/network/SSD/IMX_681_ssd_mobilenet_git/keras/detection/SSD_ipynb/output/20230816_1/unetlogs/log.txt\")\n",
    "visual_train(history)"
   ]
  }
 ],
 "metadata": {
  "kernelspec": {
   "display_name": "Python 3.10.4 ('stc')",
   "language": "python",
   "name": "python3"
  },
  "language_info": {
   "codemirror_mode": {
    "name": "ipython",
    "version": 3
   },
   "file_extension": ".py",
   "mimetype": "text/x-python",
   "name": "python",
   "nbconvert_exporter": "python",
   "pygments_lexer": "ipython3",
   "version": "3.10.4"
  },
  "orig_nbformat": 4,
  "vscode": {
   "interpreter": {
    "hash": "f6a050d9f10360465fbc02ae273ccd06cb1948ad5cd96cc14a3b3a9694a266bf"
   }
  }
 },
 "nbformat": 4,
 "nbformat_minor": 2
}
