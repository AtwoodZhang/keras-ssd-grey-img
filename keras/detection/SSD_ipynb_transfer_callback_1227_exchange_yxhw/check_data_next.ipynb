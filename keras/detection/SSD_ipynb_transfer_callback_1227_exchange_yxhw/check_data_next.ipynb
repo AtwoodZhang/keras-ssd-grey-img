{
 "cells": [
  {
   "cell_type": "code",
   "execution_count": 3,
   "metadata": {},
   "outputs": [
    {
     "name": "stdout",
     "output_type": "stream",
     "text": [
      "(1, 120, 160, 1)\n",
      "(1, 1242, 7)\n"
     ]
    }
   ],
   "source": [
    "from Datasets import SSDDatasets\n",
    "from Anchors import get_anchors\n",
    "import numpy as np\n",
    "\n",
    "input_shape = [120, 160]  # 输入的尺寸大小\n",
    "anchor_size = [32, 59, 86, 113, 141, 168]\n",
    "batch_size = 1\n",
    "num_cls=2\n",
    "imgcolor = 'grey'\n",
    "\n",
    "anchor = get_anchors(input_shape, anchor_size)\n",
    "val_annotation_path = r'/home/zhangyouan/桌面/zya/dataset/681/hand/2007_val.txt'  # 验证图片路径和标签\n",
    "with open(val_annotation_path, encoding='utf-8') as f:\n",
    "    val_lines = f.readlines()\n",
    "val_dataloader = SSDDatasets(val_lines, input_shape, anchor, batch_size, num_cls, train=False, imgcolor=imgcolor)\n",
    "val_iterator = iter(val_dataloader)\n",
    "img_data, box_data = next(val_iterator)\n",
    "print(np.shape(img_data))\n",
    "print(np.shape(box_data))"
   ]
  }
 ],
 "metadata": {
  "kernelspec": {
   "display_name": "stc",
   "language": "python",
   "name": "python3"
  },
  "language_info": {
   "codemirror_mode": {
    "name": "ipython",
    "version": 3
   },
   "file_extension": ".py",
   "mimetype": "text/x-python",
   "name": "python",
   "nbconvert_exporter": "python",
   "pygments_lexer": "ipython3",
   "version": "3.10.4"
  }
 },
 "nbformat": 4,
 "nbformat_minor": 2
}
