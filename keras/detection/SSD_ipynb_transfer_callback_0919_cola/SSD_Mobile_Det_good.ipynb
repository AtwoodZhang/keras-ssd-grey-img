{
 "cells": [
  {
   "cell_type": "code",
   "execution_count": 6,
   "metadata": {},
   "outputs": [],
   "source": [
    "import sys\n",
    "sys.path.append('./')\n",
    "import numpy as np\n",
    "import os\n",
    "import datetime\n",
    "import keras.backend as K\n",
    "import tensorflow as tf\n",
    "from keras.layers import Conv2D, Dense, DepthwiseConv2D,add\n",
    "from keras.optimizers import SGD, Adam\n",
    "import numpy as np\n",
    "import math\n",
    "import keras\n",
    "from PIL import Image\n",
    "from random import shuffle\n",
    "from keras import layers as KL\n",
    "from Anchors import get_anchors\n",
    "from Datasets import SSDDatasets\n",
    "from learning_rate import WarmUpCosineDecayScheduler\n",
    "from loss import MultiboxLoss\n",
    "from Models import SSD300\n",
    "from utils import get_classes, show_config\n",
    "from log_record import record_log, read_log\n",
    "from keras.callbacks import (EarlyStopping, LearningRateScheduler,\n",
    "                             ModelCheckpoint, TensorBoard)\n",
    "from callbacks import (ExponentDecayScheduler, LossHistory,\n",
    "                       ParallelModelCheckpoint, EvalCallback)\n"
   ]
  },
  {
   "cell_type": "code",
   "execution_count": 14,
   "metadata": {},
   "outputs": [
    {
     "name": "stdout",
     "output_type": "stream",
     "text": [
      "class_names: ['cola'] num_classes: 2\n",
      "type: <class 'numpy.ndarray'> shape: (1242, 4)\n",
      "Train on 1089 samples, val on 122 samples, with batch size 32.\n"
     ]
    },
    {
     "name": "stderr",
     "output_type": "stream",
     "text": [
      "2023-12-06 09:08:36.782821: W tensorflow/c/c_api.cc:304] Operation '{name:'DepthwiseConv2D_loc_DD4_1/depthwise_kernel/Assign' id:1424 op device:{requested: '', assigned: ''} def:{{{node DepthwiseConv2D_loc_DD4_1/depthwise_kernel/Assign}} = AssignVariableOp[_has_manual_control_dependencies=true, dtype=DT_FLOAT, validate_shape=false](DepthwiseConv2D_loc_DD4_1/depthwise_kernel, DepthwiseConv2D_loc_DD4_1/depthwise_kernel/Initializer/stateless_random_uniform)}}' was changed by setting attribute after it was run by a session. This mutation will have no effect, and will trigger an error in the future. Either don't modify nodes after running them or create a new session.\n"
     ]
    },
    {
     "name": "stdout",
     "output_type": "stream",
     "text": [
      "Configurations:\n",
      "----------------------------------------------------------------------\n",
      "|                     keys |                                   values|\n",
      "----------------------------------------------------------------------\n",
      "|             classes_path |             ./model_data/voc_classes.txt|\n",
      "|               model_path |                                         |\n",
      "|              input_shape |                               [120, 160]|\n",
      "|                    Epoch |                                      500|\n",
      "|               batch_size |                                       32|\n",
      "|                       lr |                                    0.001|\n",
      "|           optimizer_type |                                     Adam|\n",
      "|                 momentum |                                    0.937|\n",
      "|                num_train |                                     1089|\n",
      "|                  num_val |                                      122|\n",
      "----------------------------------------------------------------------\n"
     ]
    },
    {
     "name": "stderr",
     "output_type": "stream",
     "text": [
      "/tmp/ipykernel_26706/2269547623.py:100: UserWarning: `model.fit_generator` is deprecated and will be removed in a future version. Please use `Model.fit`, which supports generators.\n",
      "  history = model.fit_generator(\n"
     ]
    },
    {
     "name": "stdout",
     "output_type": "stream",
     "text": [
      "Epoch 1/500\n"
     ]
    },
    {
     "name": "stderr",
     "output_type": "stream",
     "text": [
      "2023-12-06 09:08:37.391937: W tensorflow/c/c_api.cc:304] Operation '{name:'beta_2/Assign' id:1916 op device:{requested: '', assigned: ''} def:{{{node beta_2/Assign}} = AssignVariableOp[_has_manual_control_dependencies=true, dtype=DT_FLOAT, validate_shape=false](beta_2, beta_2/Initializer/initial_value)}}' was changed by setting attribute after it was run by a session. This mutation will have no effect, and will trigger an error in the future. Either don't modify nodes after running them or create a new session.\n",
      "2023-12-06 09:08:39.282428: W tensorflow/c/c_api.cc:304] Operation '{name:'loss/AddN' id:1780 op device:{requested: '', assigned: ''} def:{{{node loss/AddN}} = AddN[N=2, T=DT_FLOAT, _has_manual_control_dependencies=true](loss/mul, loss/Conv2D_layer13/kernel/Regularizer/mul)}}' was changed by setting attribute after it was run by a session. This mutation will have no effect, and will trigger an error in the future. Either don't modify nodes after running them or create a new session.\n",
      "2023-12-06 09:08:39.620471: W tensorflow/c/c_api.cc:304] Operation '{name:'training/Adam/Conv2D_layer8/kernel/m/Assign' id:2770 op device:{requested: '', assigned: ''} def:{{{node training/Adam/Conv2D_layer8/kernel/m/Assign}} = AssignVariableOp[_has_manual_control_dependencies=true, dtype=DT_FLOAT, validate_shape=false](training/Adam/Conv2D_layer8/kernel/m, training/Adam/Conv2D_layer8/kernel/m/Initializer/zeros)}}' was changed by setting attribute after it was run by a session. This mutation will have no effect, and will trigger an error in the future. Either don't modify nodes after running them or create a new session.\n"
     ]
    },
    {
     "name": "stdout",
     "output_type": "stream",
     "text": [
      " 2/34 [>.............................] - ETA: 4s - batch: 0.5000 - size: 32.0000 - loss: 6.8966      "
     ]
    },
    {
     "name": "stderr",
     "output_type": "stream",
     "text": [
      "2023-12-06 09:08:40.995484: I tensorflow/tsl/profiler/lib/profiler_session.cc:104] Profiler session initializing.\n",
      "2023-12-06 09:08:40.995509: I tensorflow/tsl/profiler/lib/profiler_session.cc:119] Profiler session started.\n",
      "2023-12-06 09:08:41.118603: I tensorflow/tsl/profiler/lib/profiler_session.cc:70] Profiler session collecting data.\n",
      "2023-12-06 09:08:41.120216: I tensorflow/tsl/profiler/lib/profiler_session.cc:131] Profiler session tear down.\n",
      "2023-12-06 09:08:41.120301: I tensorflow/tsl/profiler/rpc/client/save_profile.cc:144] Collecting XSpace to repository: /home/zhangyouan/桌面/zya/NN_net/network/SSD/IMX_681_ssd_mobilenet_git/keras/detection/SSD_ipynb_transfer_callback_0919_cola/output/20231205/unetlogs/plugins/profile/2023_12_06_09_08_41/SSSLXSRVLS001.xplane.pb\n"
     ]
    },
    {
     "name": "stdout",
     "output_type": "stream",
     "text": [
      "34/34 [==============================] - ETA: 0s - batch: 16.5000 - size: 32.0000 - loss: 6.6662"
     ]
    },
    {
     "name": "stderr",
     "output_type": "stream",
     "text": [
      "/home/zhangyouan/anaconda3/envs/stc/lib/python3.10/site-packages/keras/src/engine/training_v1.py:2335: UserWarning: `Model.state_updates` will be removed in a future version. This property should not be used in TensorFlow 2.0, as `updates` are applied automatically.\n",
      "  updates = self.state_updates\n",
      "2023-12-06 09:08:44.493676: W tensorflow/c/c_api.cc:304] Operation '{name:'loss/AddN' id:1780 op device:{requested: '', assigned: ''} def:{{{node loss/AddN}} = AddN[N=2, T=DT_FLOAT, _has_manual_control_dependencies=true](loss/mul, loss/Conv2D_layer13/kernel/Regularizer/mul)}}' was changed by setting attribute after it was run by a session. This mutation will have no effect, and will trigger an error in the future. Either don't modify nodes after running them or create a new session.\n"
     ]
    },
    {
     "name": "stdout",
     "output_type": "stream",
     "text": [
      "34/34 [==============================] - 7s 115ms/step - batch: 16.5000 - size: 32.0000 - loss: 6.6662 - val_loss: 6.9887\n",
      "Epoch 2/500\n",
      "34/34 [==============================] - 3s 92ms/step - batch: 16.5000 - size: 32.0000 - loss: 6.6110 - val_loss: 6.9437\n",
      "Epoch 3/500\n",
      "34/34 [==============================] - 4s 124ms/step - batch: 16.5000 - size: 32.0000 - loss: 6.6115 - val_loss: 6.8661\n",
      "Epoch 4/500\n",
      "34/34 [==============================] - 4s 123ms/step - batch: 16.5000 - size: 32.0000 - loss: 6.4284 - val_loss: 6.6878\n",
      "Epoch 5/500\n",
      "34/34 [==============================] - 4s 124ms/step - batch: 16.5000 - size: 32.0000 - loss: 6.2151 - val_loss: 6.3362\n",
      "Epoch 6/500\n",
      "34/34 [==============================] - 4s 123ms/step - batch: 16.5000 - size: 32.0000 - loss: 6.0007 - val_loss: 6.1371\n",
      "Epoch 7/500\n",
      "34/34 [==============================] - 4s 126ms/step - batch: 16.5000 - size: 32.0000 - loss: 5.8278 - val_loss: 5.9943\n",
      "Epoch 8/500\n",
      "34/34 [==============================] - 4s 123ms/step - batch: 16.5000 - size: 32.0000 - loss: 5.6623 - val_loss: 5.7745\n",
      "Epoch 9/500\n",
      "34/34 [==============================] - 4s 122ms/step - batch: 16.5000 - size: 32.0000 - loss: 5.4541 - val_loss: 5.5875\n",
      "Epoch 10/500\n",
      "34/34 [==============================] - ETA: 0s - batch: 16.5000 - size: 32.0000 - loss: 5.2179Get map.\n"
     ]
    },
    {
     "name": "stderr",
     "output_type": "stream",
     "text": [
      "  0%|          | 0/122 [00:00<?, ?it/s]/home/zhangyouan/anaconda3/envs/stc/lib/python3.10/site-packages/keras/src/engine/training_v1.py:2359: UserWarning: `Model.state_updates` will be removed in a future version. This property should not be used in TensorFlow 2.0, as `updates` are applied automatically.\n",
      "  updates=self.state_updates,\n",
      "2023-12-06 09:09:21.397396: W tensorflow/c/c_api.cc:304] Operation '{name:'predictions/concat' id:1603 op device:{requested: '', assigned: ''} def:{{{node predictions/concat}} = ConcatV2[N=2, T=DT_FLOAT, Tidx=DT_INT32, _has_manual_control_dependencies=true](mbox_loc_final/Reshape, cls_conf_final/Softmax, predictions/concat/axis)}}' was changed by setting attribute after it was run by a session. This mutation will have no effect, and will trigger an error in the future. Either don't modify nodes after running them or create a new session.\n",
      "100%|██████████| 122/122 [00:01<00:00, 63.17it/s]\n"
     ]
    },
    {
     "name": "stdout",
     "output_type": "stream",
     "text": [
      "Calculate Map.\n",
      "Path '.temp_map_out/results' already exists.\n",
      "0.44% = cola AP \t||\tscore_threhold=0.5 : F1=0.00 ; Recall=0.00% ; Precision=0.00%\n",
      "mAP = 0.44%\n",
      "Path '/home/zhangyouan/桌面/zya/NN_net/network/SSD/IMX_681_ssd_mobilenet_git/keras/detection/SSD_ipynb_transfer_callback_0919_cola/output/20231205/loss_2023_12_06_09_08_36' created successfully.\n",
      "Get map done.\n",
      "34/34 [==============================] - 8s 226ms/step - batch: 16.5000 - size: 32.0000 - loss: 5.2179 - val_loss: 5.4736\n",
      "Epoch 11/500\n",
      "34/34 [==============================] - 3s 98ms/step - batch: 16.5000 - size: 32.0000 - loss: 5.1710 - val_loss: 5.3903\n",
      "Epoch 12/500\n",
      "34/34 [==============================] - 3s 103ms/step - batch: 16.5000 - size: 32.0000 - loss: 5.0796 - val_loss: 5.3686\n",
      "Epoch 13/500\n",
      "34/34 [==============================] - 4s 122ms/step - batch: 16.5000 - size: 32.0000 - loss: 5.0360 - val_loss: 5.3681\n",
      "Epoch 14/500\n",
      "34/34 [==============================] - 4s 122ms/step - batch: 16.5000 - size: 32.0000 - loss: 5.1080 - val_loss: 5.3267\n",
      "Epoch 15/500\n",
      "34/34 [==============================] - 4s 120ms/step - batch: 16.5000 - size: 32.0000 - loss: 5.0033 - val_loss: 5.3454\n",
      "Epoch 16/500\n",
      "34/34 [==============================] - 4s 122ms/step - batch: 16.5000 - size: 32.0000 - loss: 4.9722 - val_loss: 5.3068\n",
      "Epoch 17/500\n",
      "34/34 [==============================] - 4s 123ms/step - batch: 16.5000 - size: 32.0000 - loss: 4.9842 - val_loss: 5.3454\n",
      "Epoch 18/500\n",
      "34/34 [==============================] - 4s 123ms/step - batch: 16.5000 - size: 32.0000 - loss: 4.9894 - val_loss: 5.3484\n",
      "Epoch 19/500\n",
      "34/34 [==============================] - 4s 123ms/step - batch: 16.5000 - size: 32.0000 - loss: 5.0011 - val_loss: 5.3219\n",
      "Epoch 20/500\n",
      "34/34 [==============================] - ETA: 0s - batch: 16.5000 - size: 32.0000 - loss: 4.9026Get map.\n"
     ]
    },
    {
     "name": "stderr",
     "output_type": "stream",
     "text": [
      "100%|██████████| 122/122 [00:01<00:00, 84.40it/s]\n"
     ]
    },
    {
     "name": "stdout",
     "output_type": "stream",
     "text": [
      "Calculate Map.\n",
      "Path '.temp_map_out/results' already exists.\n",
      "0.82% = cola AP \t||\tscore_threhold=0.5 : F1=0.00 ; Recall=0.00% ; Precision=0.00%\n",
      "mAP = 0.82%\n",
      "Path '/home/zhangyouan/桌面/zya/NN_net/network/SSD/IMX_681_ssd_mobilenet_git/keras/detection/SSD_ipynb_transfer_callback_0919_cola/output/20231205/loss_2023_12_06_09_08_36' already exists.\n",
      "Get map done.\n",
      "34/34 [==============================] - 7s 217ms/step - batch: 16.5000 - size: 32.0000 - loss: 4.9026 - val_loss: 5.3371\n",
      "Epoch 21/500\n",
      "34/34 [==============================] - 3s 96ms/step - batch: 16.5000 - size: 32.0000 - loss: 4.9784 - val_loss: 5.3369\n",
      "Epoch 22/500\n",
      "34/34 [==============================] - 3s 102ms/step - batch: 16.5000 - size: 32.0000 - loss: 4.9903 - val_loss: 5.3394\n",
      "Epoch 23/500\n",
      "34/34 [==============================] - 4s 121ms/step - batch: 16.5000 - size: 32.0000 - loss: 4.9145 - val_loss: 5.3283\n",
      "Epoch 24/500\n",
      "34/34 [==============================] - 4s 122ms/step - batch: 16.5000 - size: 32.0000 - loss: 4.9620 - val_loss: 5.3272\n",
      "Epoch 25/500\n",
      "34/34 [==============================] - 4s 124ms/step - batch: 16.5000 - size: 32.0000 - loss: 4.9092 - val_loss: 5.3281\n",
      "Epoch 26/500\n",
      "34/34 [==============================] - 4s 121ms/step - batch: 16.5000 - size: 32.0000 - loss: 4.8903 - val_loss: 5.3261\n",
      "Epoch 27/500\n",
      "34/34 [==============================] - 4s 125ms/step - batch: 16.5000 - size: 32.0000 - loss: 4.9365 - val_loss: 5.3258\n",
      "Epoch 28/500\n",
      "34/34 [==============================] - 4s 122ms/step - batch: 16.5000 - size: 32.0000 - loss: 4.9209 - val_loss: 5.3264\n",
      "Epoch 29/500\n",
      "34/34 [==============================] - 4s 123ms/step - batch: 16.5000 - size: 32.0000 - loss: 4.9031 - val_loss: 5.3359\n",
      "Epoch 30/500\n",
      "34/34 [==============================] - ETA: 0s - batch: 16.5000 - size: 32.0000 - loss: 4.8813Get map.\n"
     ]
    },
    {
     "name": "stderr",
     "output_type": "stream",
     "text": [
      "100%|██████████| 122/122 [00:01<00:00, 80.11it/s]\n"
     ]
    },
    {
     "name": "stdout",
     "output_type": "stream",
     "text": [
      "Calculate Map.\n",
      "Path '.temp_map_out/results' already exists.\n",
      "0.22% = cola AP \t||\tscore_threhold=0.5 : F1=0.00 ; Recall=0.00% ; Precision=0.00%\n",
      "mAP = 0.22%\n",
      "Path '/home/zhangyouan/桌面/zya/NN_net/network/SSD/IMX_681_ssd_mobilenet_git/keras/detection/SSD_ipynb_transfer_callback_0919_cola/output/20231205/loss_2023_12_06_09_08_36' already exists.\n",
      "Get map done.\n",
      "34/34 [==============================] - 7s 215ms/step - batch: 16.5000 - size: 32.0000 - loss: 4.8813 - val_loss: 5.3469\n",
      "Epoch 31/500\n",
      "34/34 [==============================] - 3s 94ms/step - batch: 16.5000 - size: 32.0000 - loss: 4.9088 - val_loss: 5.3493\n",
      "Epoch 32/500\n",
      "34/34 [==============================] - 4s 116ms/step - batch: 16.5000 - size: 32.0000 - loss: 4.8996 - val_loss: 5.3578\n",
      "Epoch 33/500\n",
      "34/34 [==============================] - 4s 122ms/step - batch: 16.5000 - size: 32.0000 - loss: 4.8994 - val_loss: 5.3464\n",
      "Epoch 34/500\n",
      "34/34 [==============================] - 4s 124ms/step - batch: 16.5000 - size: 32.0000 - loss: 4.8859 - val_loss: 5.3495\n",
      "Epoch 35/500\n",
      "34/34 [==============================] - 4s 125ms/step - batch: 16.5000 - size: 32.0000 - loss: 4.8542 - val_loss: 5.3358\n",
      "Epoch 36/500\n",
      "34/34 [==============================] - 4s 122ms/step - batch: 16.5000 - size: 32.0000 - loss: 4.8714 - val_loss: 5.3427\n",
      "Epoch 37/500\n",
      "34/34 [==============================] - 4s 124ms/step - batch: 16.5000 - size: 32.0000 - loss: 4.7671 - val_loss: 5.3528\n",
      "Epoch 38/500\n",
      "34/34 [==============================] - 4s 122ms/step - batch: 16.5000 - size: 32.0000 - loss: 4.9094 - val_loss: 5.3388\n",
      "Epoch 39/500\n",
      "34/34 [==============================] - 4s 122ms/step - batch: 16.5000 - size: 32.0000 - loss: 4.8502 - val_loss: 5.3305\n",
      "Epoch 40/500\n",
      "34/34 [==============================] - ETA: 0s - batch: 16.5000 - size: 32.0000 - loss: 4.8500Get map.\n"
     ]
    },
    {
     "name": "stderr",
     "output_type": "stream",
     "text": [
      "100%|██████████| 122/122 [00:01<00:00, 74.72it/s]\n"
     ]
    },
    {
     "name": "stdout",
     "output_type": "stream",
     "text": [
      "Calculate Map.\n",
      "Path '.temp_map_out/results' already exists.\n",
      "1.02% = cola AP \t||\tscore_threhold=0.5 : F1=0.00 ; Recall=0.00% ; Precision=0.00%\n",
      "mAP = 1.02%\n",
      "Path '/home/zhangyouan/桌面/zya/NN_net/network/SSD/IMX_681_ssd_mobilenet_git/keras/detection/SSD_ipynb_transfer_callback_0919_cola/output/20231205/loss_2023_12_06_09_08_36' already exists.\n",
      "Get map done.\n",
      "34/34 [==============================] - 7s 215ms/step - batch: 16.5000 - size: 32.0000 - loss: 4.8500 - val_loss: 5.3375\n",
      "Epoch 41/500\n",
      "34/34 [==============================] - 3s 85ms/step - batch: 16.5000 - size: 32.0000 - loss: 4.8728 - val_loss: 5.3774\n",
      "Epoch 42/500\n",
      "34/34 [==============================] - 4s 123ms/step - batch: 16.5000 - size: 32.0000 - loss: 4.8209 - val_loss: 5.3307\n",
      "Epoch 43/500\n",
      "34/34 [==============================] - 4s 123ms/step - batch: 16.5000 - size: 32.0000 - loss: 4.8626 - val_loss: 5.3305\n",
      "Epoch 44/500\n",
      "34/34 [==============================] - 4s 123ms/step - batch: 16.5000 - size: 32.0000 - loss: 4.8199 - val_loss: 5.3160\n",
      "Epoch 45/500\n",
      "34/34 [==============================] - 4s 121ms/step - batch: 16.5000 - size: 32.0000 - loss: 4.7798 - val_loss: 5.3078\n",
      "Epoch 46/500\n",
      "34/34 [==============================] - 4s 122ms/step - batch: 16.5000 - size: 32.0000 - loss: 4.7318 - val_loss: 5.2648\n",
      "Epoch 47/500\n",
      "34/34 [==============================] - 4s 123ms/step - batch: 16.5000 - size: 32.0000 - loss: 4.7972 - val_loss: 5.2691\n",
      "Epoch 48/500\n",
      "34/34 [==============================] - 4s 122ms/step - batch: 16.5000 - size: 32.0000 - loss: 4.6327 - val_loss: 5.2529\n",
      "Epoch 49/500\n",
      "34/34 [==============================] - 4s 123ms/step - batch: 16.5000 - size: 32.0000 - loss: 4.6406 - val_loss: 5.1217\n",
      "Epoch 50/500\n",
      "34/34 [==============================] - ETA: 0s - batch: 16.5000 - size: 32.0000 - loss: 4.5975Get map.\n"
     ]
    },
    {
     "name": "stderr",
     "output_type": "stream",
     "text": [
      "100%|██████████| 122/122 [00:01<00:00, 73.36it/s]\n"
     ]
    },
    {
     "name": "stdout",
     "output_type": "stream",
     "text": [
      "Calculate Map.\n",
      "Path '.temp_map_out/results' already exists.\n",
      "6.35% = cola AP \t||\tscore_threhold=0.5 : F1=0.00 ; Recall=0.00% ; Precision=0.00%\n",
      "mAP = 6.35%\n",
      "Path '/home/zhangyouan/桌面/zya/NN_net/network/SSD/IMX_681_ssd_mobilenet_git/keras/detection/SSD_ipynb_transfer_callback_0919_cola/output/20231205/loss_2023_12_06_09_08_36' already exists.\n",
      "Get map done.\n",
      "34/34 [==============================] - 7s 209ms/step - batch: 16.5000 - size: 32.0000 - loss: 4.5975 - val_loss: 5.1282\n",
      "Epoch 51/500\n",
      "34/34 [==============================] - 3s 83ms/step - batch: 16.5000 - size: 32.0000 - loss: 4.5586 - val_loss: 5.0859\n",
      "Epoch 52/500\n",
      "34/34 [==============================] - 4s 122ms/step - batch: 16.5000 - size: 32.0000 - loss: 4.4197 - val_loss: 4.9939\n",
      "Epoch 53/500\n",
      "34/34 [==============================] - 4s 122ms/step - batch: 16.5000 - size: 32.0000 - loss: 4.4126 - val_loss: 4.9586\n",
      "Epoch 54/500\n",
      "34/34 [==============================] - 4s 124ms/step - batch: 16.5000 - size: 32.0000 - loss: 4.3271 - val_loss: 4.9506\n",
      "Epoch 55/500\n",
      "34/34 [==============================] - 4s 124ms/step - batch: 16.5000 - size: 32.0000 - loss: 4.2108 - val_loss: 4.8786\n",
      "Epoch 56/500\n",
      "34/34 [==============================] - 4s 122ms/step - batch: 16.5000 - size: 32.0000 - loss: 4.1357 - val_loss: 4.8264\n",
      "Epoch 57/500\n",
      "34/34 [==============================] - 4s 122ms/step - batch: 16.5000 - size: 32.0000 - loss: 4.0513 - val_loss: 4.8634\n",
      "Epoch 58/500\n",
      "34/34 [==============================] - 4s 122ms/step - batch: 16.5000 - size: 32.0000 - loss: 4.0506 - val_loss: 4.8327\n",
      "Epoch 59/500\n",
      "34/34 [==============================] - 4s 121ms/step - batch: 16.5000 - size: 32.0000 - loss: 3.9561 - val_loss: 4.7867\n",
      "Epoch 60/500\n",
      "34/34 [==============================] - ETA: 0s - batch: 16.5000 - size: 32.0000 - loss: 3.9209Get map.\n"
     ]
    },
    {
     "name": "stderr",
     "output_type": "stream",
     "text": [
      "100%|██████████| 122/122 [00:01<00:00, 75.47it/s]\n"
     ]
    },
    {
     "name": "stdout",
     "output_type": "stream",
     "text": [
      "Calculate Map.\n",
      "Path '.temp_map_out/results' already exists.\n",
      "33.77% = cola AP \t||\tscore_threhold=0.5 : F1=0.03 ; Recall=1.67% ; Precision=100.00%\n",
      "mAP = 33.77%\n",
      "Path '/home/zhangyouan/桌面/zya/NN_net/network/SSD/IMX_681_ssd_mobilenet_git/keras/detection/SSD_ipynb_transfer_callback_0919_cola/output/20231205/loss_2023_12_06_09_08_36' already exists.\n",
      "Get map done.\n",
      "34/34 [==============================] - 7s 210ms/step - batch: 16.5000 - size: 32.0000 - loss: 3.9209 - val_loss: 4.7530\n",
      "Epoch 61/500\n",
      "34/34 [==============================] - 3s 88ms/step - batch: 16.5000 - size: 32.0000 - loss: 3.7535 - val_loss: 4.6888\n",
      "Epoch 62/500\n",
      "34/34 [==============================] - 4s 122ms/step - batch: 16.5000 - size: 32.0000 - loss: 3.7859 - val_loss: 4.6650\n",
      "Epoch 63/500\n",
      "34/34 [==============================] - 4s 124ms/step - batch: 16.5000 - size: 32.0000 - loss: 3.6594 - val_loss: 4.5911\n",
      "Epoch 64/500\n",
      "34/34 [==============================] - 4s 122ms/step - batch: 16.5000 - size: 32.0000 - loss: 3.6127 - val_loss: 4.6029\n",
      "Epoch 65/500\n",
      "34/34 [==============================] - 4s 122ms/step - batch: 16.5000 - size: 32.0000 - loss: 3.5829 - val_loss: 4.6339\n",
      "Epoch 66/500\n",
      "34/34 [==============================] - 4s 125ms/step - batch: 16.5000 - size: 32.0000 - loss: 3.4918 - val_loss: 4.6251\n",
      "Epoch 67/500\n",
      "34/34 [==============================] - 4s 122ms/step - batch: 16.5000 - size: 32.0000 - loss: 3.4420 - val_loss: 4.4141\n",
      "Epoch 68/500\n",
      "34/34 [==============================] - 4s 127ms/step - batch: 16.5000 - size: 32.0000 - loss: 3.3684 - val_loss: 4.5271\n",
      "Epoch 69/500\n",
      "34/34 [==============================] - 4s 121ms/step - batch: 16.5000 - size: 32.0000 - loss: 3.2709 - val_loss: 4.3477\n",
      "Epoch 70/500\n",
      "34/34 [==============================] - ETA: 0s - batch: 16.5000 - size: 32.0000 - loss: 3.2451Get map.\n"
     ]
    },
    {
     "name": "stderr",
     "output_type": "stream",
     "text": [
      "100%|██████████| 122/122 [00:01<00:00, 74.88it/s]\n"
     ]
    },
    {
     "name": "stdout",
     "output_type": "stream",
     "text": [
      "Calculate Map.\n",
      "Path '.temp_map_out/results' already exists.\n",
      "52.94% = cola AP \t||\tscore_threhold=0.5 : F1=0.47 ; Recall=31.67% ; Precision=90.48%\n",
      "mAP = 52.94%\n",
      "Path '/home/zhangyouan/桌面/zya/NN_net/network/SSD/IMX_681_ssd_mobilenet_git/keras/detection/SSD_ipynb_transfer_callback_0919_cola/output/20231205/loss_2023_12_06_09_08_36' already exists.\n",
      "Get map done.\n",
      "34/34 [==============================] - 7s 210ms/step - batch: 16.5000 - size: 32.0000 - loss: 3.2451 - val_loss: 4.3538\n",
      "Epoch 71/500\n",
      "34/34 [==============================] - 3s 91ms/step - batch: 16.5000 - size: 32.0000 - loss: 3.1761 - val_loss: 4.2784\n",
      "Epoch 72/500\n",
      "34/34 [==============================] - 4s 125ms/step - batch: 16.5000 - size: 32.0000 - loss: 3.0863 - val_loss: 4.2067\n",
      "Epoch 73/500\n",
      "34/34 [==============================] - 4s 123ms/step - batch: 16.5000 - size: 32.0000 - loss: 2.9898 - val_loss: 4.1215\n",
      "Epoch 74/500\n",
      "34/34 [==============================] - 4s 124ms/step - batch: 16.5000 - size: 32.0000 - loss: 2.9708 - val_loss: 4.2148\n",
      "Epoch 75/500\n",
      "34/34 [==============================] - 4s 122ms/step - batch: 16.5000 - size: 32.0000 - loss: 2.9055 - val_loss: 4.2483\n",
      "Epoch 76/500\n",
      "34/34 [==============================] - 4s 122ms/step - batch: 16.5000 - size: 32.0000 - loss: 2.8330 - val_loss: 4.1782\n",
      "Epoch 77/500\n",
      "34/34 [==============================] - 4s 123ms/step - batch: 16.5000 - size: 32.0000 - loss: 2.7305 - val_loss: 4.0248\n",
      "Epoch 78/500\n",
      "34/34 [==============================] - 4s 122ms/step - batch: 16.5000 - size: 32.0000 - loss: 2.6863 - val_loss: 4.0819\n",
      "Epoch 79/500\n",
      "34/34 [==============================] - 4s 125ms/step - batch: 16.5000 - size: 32.0000 - loss: 2.5971 - val_loss: 3.9605\n",
      "Epoch 80/500\n",
      "34/34 [==============================] - ETA: 0s - batch: 16.5000 - size: 32.0000 - loss: 2.6045Get map.\n"
     ]
    },
    {
     "name": "stderr",
     "output_type": "stream",
     "text": [
      "100%|██████████| 122/122 [00:01<00:00, 78.45it/s]\n"
     ]
    },
    {
     "name": "stdout",
     "output_type": "stream",
     "text": [
      "Calculate Map.\n",
      "Path '.temp_map_out/results' already exists.\n",
      "59.46% = cola AP \t||\tscore_threhold=0.5 : F1=0.63 ; Recall=55.00% ; Precision=73.33%\n",
      "mAP = 59.46%\n",
      "Path '/home/zhangyouan/桌面/zya/NN_net/network/SSD/IMX_681_ssd_mobilenet_git/keras/detection/SSD_ipynb_transfer_callback_0919_cola/output/20231205/loss_2023_12_06_09_08_36' already exists.\n",
      "Get map done.\n",
      "34/34 [==============================] - 7s 205ms/step - batch: 16.5000 - size: 32.0000 - loss: 2.6045 - val_loss: 4.0345\n",
      "Epoch 81/500\n",
      "34/34 [==============================] - 3s 86ms/step - batch: 16.5000 - size: 32.0000 - loss: 2.4267 - val_loss: 3.9295\n",
      "Epoch 82/500\n",
      "34/34 [==============================] - 4s 122ms/step - batch: 16.5000 - size: 32.0000 - loss: 2.4384 - val_loss: 3.9598\n",
      "Epoch 83/500\n",
      "34/34 [==============================] - 4s 122ms/step - batch: 16.5000 - size: 32.0000 - loss: 2.3629 - val_loss: 4.1035\n",
      "Epoch 84/500\n",
      "34/34 [==============================] - 4s 120ms/step - batch: 16.5000 - size: 32.0000 - loss: 2.2779 - val_loss: 3.9326\n",
      "Epoch 85/500\n",
      "34/34 [==============================] - 4s 122ms/step - batch: 16.5000 - size: 32.0000 - loss: 2.2326 - val_loss: 3.9679\n",
      "Epoch 86/500\n",
      "34/34 [==============================] - 4s 120ms/step - batch: 16.5000 - size: 32.0000 - loss: 2.2838 - val_loss: 4.1107\n",
      "Epoch 87/500\n",
      "34/34 [==============================] - 4s 122ms/step - batch: 16.5000 - size: 32.0000 - loss: 2.1605 - val_loss: 4.0089\n",
      "Epoch 88/500\n",
      "34/34 [==============================] - 4s 122ms/step - batch: 16.5000 - size: 32.0000 - loss: 2.1069 - val_loss: 3.9210\n",
      "Epoch 89/500\n",
      "34/34 [==============================] - 4s 122ms/step - batch: 16.5000 - size: 32.0000 - loss: 2.0843 - val_loss: 4.0893\n",
      "Epoch 90/500\n",
      "34/34 [==============================] - ETA: 0s - batch: 16.5000 - size: 32.0000 - loss: 2.0819Get map.\n"
     ]
    },
    {
     "name": "stderr",
     "output_type": "stream",
     "text": [
      "100%|██████████| 122/122 [00:01<00:00, 78.63it/s]\n"
     ]
    },
    {
     "name": "stdout",
     "output_type": "stream",
     "text": [
      "Calculate Map.\n",
      "Path '.temp_map_out/results' already exists.\n",
      "58.98% = cola AP \t||\tscore_threhold=0.5 : F1=0.59 ; Recall=53.33% ; Precision=65.31%\n",
      "mAP = 58.98%\n",
      "Path '/home/zhangyouan/桌面/zya/NN_net/network/SSD/IMX_681_ssd_mobilenet_git/keras/detection/SSD_ipynb_transfer_callback_0919_cola/output/20231205/loss_2023_12_06_09_08_36' already exists.\n",
      "Get map done.\n",
      "34/34 [==============================] - 7s 212ms/step - batch: 16.5000 - size: 32.0000 - loss: 2.0819 - val_loss: 4.0252\n",
      "Epoch 91/500\n",
      "34/34 [==============================] - 3s 85ms/step - batch: 16.5000 - size: 32.0000 - loss: 1.9997 - val_loss: 3.8975\n",
      "Epoch 92/500\n",
      "34/34 [==============================] - 4s 122ms/step - batch: 16.5000 - size: 32.0000 - loss: 2.0156 - val_loss: 3.9490\n",
      "Epoch 93/500\n",
      "34/34 [==============================] - 4s 126ms/step - batch: 16.5000 - size: 32.0000 - loss: 1.9263 - val_loss: 4.0626\n",
      "Epoch 94/500\n",
      "34/34 [==============================] - 4s 125ms/step - batch: 16.5000 - size: 32.0000 - loss: 1.8541 - val_loss: 4.0501\n",
      "Epoch 95/500\n",
      "34/34 [==============================] - 4s 122ms/step - batch: 16.5000 - size: 32.0000 - loss: 1.8136 - val_loss: 4.0715\n",
      "Epoch 96/500\n",
      "34/34 [==============================] - 4s 123ms/step - batch: 16.5000 - size: 32.0000 - loss: 1.7442 - val_loss: 4.1228\n",
      "Epoch 97/500\n",
      "34/34 [==============================] - 4s 127ms/step - batch: 16.5000 - size: 32.0000 - loss: 1.7299 - val_loss: 4.1883\n",
      "Epoch 98/500\n",
      "34/34 [==============================] - 4s 122ms/step - batch: 16.5000 - size: 32.0000 - loss: 1.7001 - val_loss: 4.1780\n",
      "Epoch 99/500\n",
      "34/34 [==============================] - 4s 126ms/step - batch: 16.5000 - size: 32.0000 - loss: 1.6908 - val_loss: 4.2876\n",
      "Epoch 100/500\n",
      "34/34 [==============================] - ETA: 0s - batch: 16.5000 - size: 32.0000 - loss: 1.6865Get map.\n"
     ]
    },
    {
     "name": "stderr",
     "output_type": "stream",
     "text": [
      "100%|██████████| 122/122 [00:01<00:00, 96.27it/s]\n"
     ]
    },
    {
     "name": "stdout",
     "output_type": "stream",
     "text": [
      "Calculate Map.\n",
      "Path '.temp_map_out/results' already exists.\n",
      "57.45% = cola AP \t||\tscore_threhold=0.5 : F1=0.59 ; Recall=51.67% ; Precision=68.89%\n",
      "mAP = 57.45%\n",
      "Path '/home/zhangyouan/桌面/zya/NN_net/network/SSD/IMX_681_ssd_mobilenet_git/keras/detection/SSD_ipynb_transfer_callback_0919_cola/output/20231205/loss_2023_12_06_09_08_36' already exists.\n",
      "Get map done.\n",
      "34/34 [==============================] - 7s 196ms/step - batch: 16.5000 - size: 32.0000 - loss: 1.6865 - val_loss: 4.1713\n",
      "Epoch 101/500\n",
      "34/34 [==============================] - 3s 83ms/step - batch: 16.5000 - size: 32.0000 - loss: 1.6270 - val_loss: 4.3631\n",
      "Epoch 102/500\n",
      "34/34 [==============================] - 4s 123ms/step - batch: 16.5000 - size: 32.0000 - loss: 1.5406 - val_loss: 4.2644\n",
      "Epoch 103/500\n",
      "34/34 [==============================] - 4s 123ms/step - batch: 16.5000 - size: 32.0000 - loss: 1.5154 - val_loss: 4.2826\n",
      "Epoch 104/500\n",
      "34/34 [==============================] - 4s 122ms/step - batch: 16.5000 - size: 32.0000 - loss: 1.5363 - val_loss: 4.3827\n",
      "Epoch 105/500\n",
      "34/34 [==============================] - 4s 125ms/step - batch: 16.5000 - size: 32.0000 - loss: 1.4861 - val_loss: 4.3988\n",
      "Epoch 106/500\n",
      "34/34 [==============================] - 4s 120ms/step - batch: 16.5000 - size: 32.0000 - loss: 1.4866 - val_loss: 4.4111\n",
      "Epoch 107/500\n",
      "34/34 [==============================] - 4s 121ms/step - batch: 16.5000 - size: 32.0000 - loss: 1.4489 - val_loss: 4.3159\n",
      "Epoch 108/500\n",
      "34/34 [==============================] - 4s 122ms/step - batch: 16.5000 - size: 32.0000 - loss: 1.4160 - val_loss: 4.5329\n",
      "Epoch 109/500\n",
      "34/34 [==============================] - 4s 122ms/step - batch: 16.5000 - size: 32.0000 - loss: 1.4253 - val_loss: 4.4222\n",
      "Epoch 110/500\n",
      "34/34 [==============================] - ETA: 0s - batch: 16.5000 - size: 32.0000 - loss: 1.3191Get map.\n"
     ]
    },
    {
     "name": "stderr",
     "output_type": "stream",
     "text": [
      "100%|██████████| 122/122 [00:01<00:00, 101.43it/s]\n"
     ]
    },
    {
     "name": "stdout",
     "output_type": "stream",
     "text": [
      "Calculate Map.\n",
      "Path '.temp_map_out/results' already exists.\n",
      "56.30% = cola AP \t||\tscore_threhold=0.5 : F1=0.58 ; Recall=55.00% ; Precision=61.11%\n",
      "mAP = 56.30%\n",
      "Path '/home/zhangyouan/桌面/zya/NN_net/network/SSD/IMX_681_ssd_mobilenet_git/keras/detection/SSD_ipynb_transfer_callback_0919_cola/output/20231205/loss_2023_12_06_09_08_36' already exists.\n",
      "Get map done.\n",
      "34/34 [==============================] - 6s 172ms/step - batch: 16.5000 - size: 32.0000 - loss: 1.3191 - val_loss: 4.6550\n",
      "Epoch 111/500\n",
      "34/34 [==============================] - 3s 99ms/step - batch: 16.5000 - size: 32.0000 - loss: 1.3450 - val_loss: 4.5540\n",
      "Epoch 112/500\n",
      "34/34 [==============================] - 4s 105ms/step - batch: 16.5000 - size: 32.0000 - loss: 1.3229 - val_loss: 4.6920\n",
      "Epoch 113/500\n",
      "34/34 [==============================] - 4s 122ms/step - batch: 16.5000 - size: 32.0000 - loss: 1.2532 - val_loss: 4.6608\n",
      "Epoch 114/500\n",
      "34/34 [==============================] - 4s 123ms/step - batch: 16.5000 - size: 32.0000 - loss: 1.2460 - val_loss: 4.6635\n",
      "Epoch 115/500\n",
      "34/34 [==============================] - 4s 125ms/step - batch: 16.5000 - size: 32.0000 - loss: 1.2469 - val_loss: 4.7694\n",
      "Epoch 116/500\n",
      "34/34 [==============================] - 4s 122ms/step - batch: 16.5000 - size: 32.0000 - loss: 1.2382 - val_loss: 4.7611\n",
      "Epoch 117/500\n",
      "34/34 [==============================] - 4s 123ms/step - batch: 16.5000 - size: 32.0000 - loss: 1.2382 - val_loss: 4.6321\n",
      "Epoch 118/500\n",
      "34/34 [==============================] - 4s 123ms/step - batch: 16.5000 - size: 32.0000 - loss: 1.2298 - val_loss: 4.8724\n",
      "Epoch 119/500\n",
      "34/34 [==============================] - 4s 121ms/step - batch: 16.5000 - size: 32.0000 - loss: 1.1311 - val_loss: 4.7831\n",
      "Epoch 120/500\n",
      "34/34 [==============================] - ETA: 0s - batch: 16.5000 - size: 32.0000 - loss: 1.1255Get map.\n"
     ]
    },
    {
     "name": "stderr",
     "output_type": "stream",
     "text": [
      "100%|██████████| 122/122 [00:01<00:00, 107.56it/s]\n"
     ]
    },
    {
     "name": "stdout",
     "output_type": "stream",
     "text": [
      "Calculate Map.\n",
      "Path '.temp_map_out/results' already exists.\n",
      "60.77% = cola AP \t||\tscore_threhold=0.5 : F1=0.64 ; Recall=61.67% ; Precision=67.27%\n",
      "mAP = 60.77%\n",
      "Path '/home/zhangyouan/桌面/zya/NN_net/network/SSD/IMX_681_ssd_mobilenet_git/keras/detection/SSD_ipynb_transfer_callback_0919_cola/output/20231205/loss_2023_12_06_09_08_36' already exists.\n",
      "Get map done.\n",
      "34/34 [==============================] - 6s 164ms/step - batch: 16.5000 - size: 32.0000 - loss: 1.1255 - val_loss: 4.8687\n",
      "Epoch 121/500\n",
      "34/34 [==============================] - 4s 123ms/step - batch: 16.5000 - size: 32.0000 - loss: 1.0821 - val_loss: 5.0552\n",
      "Epoch 122/500\n",
      "34/34 [==============================] - 3s 80ms/step - batch: 16.5000 - size: 32.0000 - loss: 1.1318 - val_loss: 5.0865\n",
      "Epoch 123/500\n",
      "34/34 [==============================] - 4s 122ms/step - batch: 16.5000 - size: 32.0000 - loss: 1.0988 - val_loss: 5.0704\n",
      "Epoch 124/500\n",
      "34/34 [==============================] - 4s 124ms/step - batch: 16.5000 - size: 32.0000 - loss: 1.0542 - val_loss: 5.0492\n",
      "Epoch 125/500\n",
      "34/34 [==============================] - 4s 124ms/step - batch: 16.5000 - size: 32.0000 - loss: 1.0555 - val_loss: 5.0226\n",
      "Epoch 126/500\n",
      "34/34 [==============================] - 4s 123ms/step - batch: 16.5000 - size: 32.0000 - loss: 1.0566 - val_loss: 5.1765\n",
      "Epoch 127/500\n",
      "34/34 [==============================] - 4s 123ms/step - batch: 16.5000 - size: 32.0000 - loss: 1.0034 - val_loss: 5.3497\n",
      "Epoch 128/500\n",
      "34/34 [==============================] - 4s 123ms/step - batch: 16.5000 - size: 32.0000 - loss: 1.0079 - val_loss: 5.1036\n",
      "Epoch 129/500\n",
      "34/34 [==============================] - 4s 124ms/step - batch: 16.5000 - size: 32.0000 - loss: 0.9665 - val_loss: 5.4445\n",
      "Epoch 130/500\n",
      "34/34 [==============================] - ETA: 0s - batch: 16.5000 - size: 32.0000 - loss: 0.9989Get map.\n"
     ]
    },
    {
     "name": "stderr",
     "output_type": "stream",
     "text": [
      "100%|██████████| 122/122 [00:01<00:00, 111.79it/s]\n"
     ]
    },
    {
     "name": "stdout",
     "output_type": "stream",
     "text": [
      "Calculate Map.\n",
      "Path '.temp_map_out/results' already exists.\n",
      "59.08% = cola AP \t||\tscore_threhold=0.5 : F1=0.62 ; Recall=60.00% ; Precision=64.29%\n",
      "mAP = 59.08%\n",
      "Path '/home/zhangyouan/桌面/zya/NN_net/network/SSD/IMX_681_ssd_mobilenet_git/keras/detection/SSD_ipynb_transfer_callback_0919_cola/output/20231205/loss_2023_12_06_09_08_36' already exists.\n",
      "Get map done.\n",
      "34/34 [==============================] - 6s 170ms/step - batch: 16.5000 - size: 32.0000 - loss: 0.9989 - val_loss: 5.2581\n",
      "Epoch 131/500\n",
      "34/34 [==============================] - 4s 122ms/step - batch: 16.5000 - size: 32.0000 - loss: 0.9991 - val_loss: 5.4050\n",
      "Epoch 132/500\n",
      "34/34 [==============================] - 4s 107ms/step - batch: 16.5000 - size: 32.0000 - loss: 0.9963 - val_loss: 5.2004\n",
      "Epoch 133/500\n",
      "34/34 [==============================] - 3s 98ms/step - batch: 16.5000 - size: 32.0000 - loss: 0.9933 - val_loss: 5.2803\n",
      "Epoch 134/500\n",
      "34/34 [==============================] - 4s 122ms/step - batch: 16.5000 - size: 32.0000 - loss: 0.9252 - val_loss: 5.3448\n",
      "Epoch 135/500\n",
      "34/34 [==============================] - 4s 122ms/step - batch: 16.5000 - size: 32.0000 - loss: 0.9133 - val_loss: 5.4298\n",
      "Epoch 136/500\n",
      "34/34 [==============================] - 4s 122ms/step - batch: 16.5000 - size: 32.0000 - loss: 0.9030 - val_loss: 5.4255\n",
      "Epoch 137/500\n",
      "34/34 [==============================] - 4s 125ms/step - batch: 16.5000 - size: 32.0000 - loss: 0.8997 - val_loss: 5.3801\n",
      "Epoch 138/500\n",
      "34/34 [==============================] - 4s 125ms/step - batch: 16.5000 - size: 32.0000 - loss: 0.8874 - val_loss: 5.4815\n",
      "Epoch 139/500\n",
      "34/34 [==============================] - 4s 124ms/step - batch: 16.5000 - size: 32.0000 - loss: 0.8400 - val_loss: 5.4286\n",
      "Epoch 140/500\n",
      "34/34 [==============================] - ETA: 0s - batch: 16.5000 - size: 32.0000 - loss: 0.8222Get map.\n"
     ]
    },
    {
     "name": "stderr",
     "output_type": "stream",
     "text": [
      "100%|██████████| 122/122 [00:01<00:00, 110.99it/s]\n"
     ]
    },
    {
     "name": "stdout",
     "output_type": "stream",
     "text": [
      "Calculate Map.\n",
      "Path '.temp_map_out/results' already exists.\n",
      "64.45% = cola AP \t||\tscore_threhold=0.5 : F1=0.69 ; Recall=63.33% ; Precision=76.00%\n",
      "mAP = 64.45%\n",
      "Path '/home/zhangyouan/桌面/zya/NN_net/network/SSD/IMX_681_ssd_mobilenet_git/keras/detection/SSD_ipynb_transfer_callback_0919_cola/output/20231205/loss_2023_12_06_09_08_36' already exists.\n",
      "Get map done.\n",
      "34/34 [==============================] - 6s 166ms/step - batch: 16.5000 - size: 32.0000 - loss: 0.8222 - val_loss: 5.5979\n",
      "Epoch 141/500\n",
      "34/34 [==============================] - 4s 120ms/step - batch: 16.5000 - size: 32.0000 - loss: 0.8652 - val_loss: 5.8832\n",
      "Epoch 142/500\n",
      "34/34 [==============================] - 4s 122ms/step - batch: 16.5000 - size: 32.0000 - loss: 0.8362 - val_loss: 5.8377\n",
      "Epoch 143/500\n",
      "34/34 [==============================] - 3s 86ms/step - batch: 16.5000 - size: 32.0000 - loss: 0.8389 - val_loss: 5.7764\n",
      "Epoch 144/500\n",
      "34/34 [==============================] - 4s 123ms/step - batch: 16.5000 - size: 32.0000 - loss: 0.8048 - val_loss: 5.6605\n",
      "Epoch 145/500\n",
      "34/34 [==============================] - 4s 123ms/step - batch: 16.5000 - size: 32.0000 - loss: 0.8022 - val_loss: 5.6017\n",
      "Epoch 146/500\n",
      "34/34 [==============================] - 4s 125ms/step - batch: 16.5000 - size: 32.0000 - loss: 0.7863 - val_loss: 5.8392\n",
      "Epoch 147/500\n",
      "34/34 [==============================] - 4s 124ms/step - batch: 16.5000 - size: 32.0000 - loss: 0.7683 - val_loss: 5.7409\n",
      "Epoch 148/500\n",
      "34/34 [==============================] - 4s 124ms/step - batch: 16.5000 - size: 32.0000 - loss: 0.7630 - val_loss: 5.9184\n",
      "Epoch 149/500\n",
      "34/34 [==============================] - 4s 123ms/step - batch: 16.5000 - size: 32.0000 - loss: 0.7321 - val_loss: 5.8459\n",
      "Epoch 150/500\n",
      "34/34 [==============================] - ETA: 0s - batch: 16.5000 - size: 32.0000 - loss: 0.7852Get map.\n"
     ]
    },
    {
     "name": "stderr",
     "output_type": "stream",
     "text": [
      "100%|██████████| 122/122 [00:01<00:00, 109.83it/s]\n"
     ]
    },
    {
     "name": "stdout",
     "output_type": "stream",
     "text": [
      "Calculate Map.\n",
      "Path '.temp_map_out/results' already exists.\n",
      "61.55% = cola AP \t||\tscore_threhold=0.5 : F1=0.68 ; Recall=66.67% ; Precision=70.18%\n",
      "mAP = 61.55%\n",
      "Path '/home/zhangyouan/桌面/zya/NN_net/network/SSD/IMX_681_ssd_mobilenet_git/keras/detection/SSD_ipynb_transfer_callback_0919_cola/output/20231205/loss_2023_12_06_09_08_36' already exists.\n",
      "Get map done.\n",
      "34/34 [==============================] - 6s 167ms/step - batch: 16.5000 - size: 32.0000 - loss: 0.7852 - val_loss: 6.0820\n",
      "Epoch 151/500\n",
      "34/34 [==============================] - 4s 122ms/step - batch: 16.5000 - size: 32.0000 - loss: 0.7407 - val_loss: 5.9315\n",
      "Epoch 152/500\n",
      "34/34 [==============================] - 4s 125ms/step - batch: 16.5000 - size: 32.0000 - loss: 0.7211 - val_loss: 6.0087\n",
      "Epoch 153/500\n",
      "34/34 [==============================] - 3s 100ms/step - batch: 16.5000 - size: 32.0000 - loss: 0.7179 - val_loss: 5.9150\n",
      "Epoch 154/500\n",
      "34/34 [==============================] - 4s 121ms/step - batch: 16.5000 - size: 32.0000 - loss: 0.7282 - val_loss: 5.9444\n",
      "Epoch 155/500\n",
      "34/34 [==============================] - 4s 123ms/step - batch: 16.5000 - size: 32.0000 - loss: 0.6681 - val_loss: 5.9959\n",
      "Epoch 156/500\n",
      "34/34 [==============================] - 4s 121ms/step - batch: 16.5000 - size: 32.0000 - loss: 0.7112 - val_loss: 5.9863\n",
      "Epoch 157/500\n",
      "34/34 [==============================] - 4s 121ms/step - batch: 16.5000 - size: 32.0000 - loss: 0.7410 - val_loss: 6.0448\n",
      "Epoch 158/500\n",
      "34/34 [==============================] - 4s 121ms/step - batch: 16.5000 - size: 32.0000 - loss: 0.7244 - val_loss: 5.8584\n",
      "Epoch 159/500\n",
      "34/34 [==============================] - 4s 123ms/step - batch: 16.5000 - size: 32.0000 - loss: 0.6645 - val_loss: 6.0398\n",
      "Epoch 160/500\n",
      "34/34 [==============================] - ETA: 0s - batch: 16.5000 - size: 32.0000 - loss: 0.6308Get map.\n"
     ]
    },
    {
     "name": "stderr",
     "output_type": "stream",
     "text": [
      "100%|██████████| 122/122 [00:01<00:00, 112.94it/s]\n"
     ]
    },
    {
     "name": "stdout",
     "output_type": "stream",
     "text": [
      "Calculate Map.\n",
      "Path '.temp_map_out/results' already exists.\n",
      "60.22% = cola AP \t||\tscore_threhold=0.5 : F1=0.66 ; Recall=63.33% ; Precision=69.09%\n",
      "mAP = 60.22%\n",
      "Path '/home/zhangyouan/桌面/zya/NN_net/network/SSD/IMX_681_ssd_mobilenet_git/keras/detection/SSD_ipynb_transfer_callback_0919_cola/output/20231205/loss_2023_12_06_09_08_36' already exists.\n",
      "Get map done.\n",
      "34/34 [==============================] - 6s 167ms/step - batch: 16.5000 - size: 32.0000 - loss: 0.6308 - val_loss: 6.2860\n",
      "Epoch 161/500\n",
      "34/34 [==============================] - 4s 123ms/step - batch: 16.5000 - size: 32.0000 - loss: 0.6578 - val_loss: 6.0678\n",
      "Epoch 162/500\n",
      "34/34 [==============================] - 4s 123ms/step - batch: 16.5000 - size: 32.0000 - loss: 0.6265 - val_loss: 6.3591\n",
      "Epoch 163/500\n",
      "34/34 [==============================] - 3s 101ms/step - batch: 16.5000 - size: 32.0000 - loss: 0.6439 - val_loss: 6.4197\n",
      "Epoch 164/500\n",
      "34/34 [==============================] - 4s 122ms/step - batch: 16.5000 - size: 32.0000 - loss: 0.6095 - val_loss: 6.1619\n",
      "Epoch 165/500\n",
      "34/34 [==============================] - 4s 122ms/step - batch: 16.5000 - size: 32.0000 - loss: 0.6054 - val_loss: 6.1946\n",
      "Epoch 166/500\n",
      "34/34 [==============================] - 4s 122ms/step - batch: 16.5000 - size: 32.0000 - loss: 0.6344 - val_loss: 6.2712\n",
      "Epoch 167/500\n",
      "34/34 [==============================] - 4s 122ms/step - batch: 16.5000 - size: 32.0000 - loss: 0.5977 - val_loss: 6.3058\n",
      "Epoch 168/500\n",
      "34/34 [==============================] - 4s 126ms/step - batch: 16.5000 - size: 32.0000 - loss: 0.6079 - val_loss: 6.3662\n",
      "Epoch 169/500\n",
      "34/34 [==============================] - 4s 125ms/step - batch: 16.5000 - size: 32.0000 - loss: 0.5934 - val_loss: 6.4500\n",
      "Epoch 170/500\n",
      "34/34 [==============================] - ETA: 0s - batch: 16.5000 - size: 32.0000 - loss: 0.5637Get map.\n"
     ]
    },
    {
     "name": "stderr",
     "output_type": "stream",
     "text": [
      "100%|██████████| 122/122 [00:01<00:00, 108.54it/s]\n"
     ]
    },
    {
     "name": "stdout",
     "output_type": "stream",
     "text": [
      "Calculate Map.\n",
      "Path '.temp_map_out/results' already exists.\n",
      "62.14% = cola AP \t||\tscore_threhold=0.5 : F1=0.67 ; Recall=65.00% ; Precision=68.42%\n",
      "mAP = 62.14%\n",
      "Path '/home/zhangyouan/桌面/zya/NN_net/network/SSD/IMX_681_ssd_mobilenet_git/keras/detection/SSD_ipynb_transfer_callback_0919_cola/output/20231205/loss_2023_12_06_09_08_36' already exists.\n",
      "Get map done.\n",
      "34/34 [==============================] - 6s 169ms/step - batch: 16.5000 - size: 32.0000 - loss: 0.5637 - val_loss: 6.4178\n",
      "Epoch 171/500\n",
      "34/34 [==============================] - 4s 125ms/step - batch: 16.5000 - size: 32.0000 - loss: 0.5837 - val_loss: 6.3732\n",
      "Epoch 172/500\n",
      "34/34 [==============================] - 4s 122ms/step - batch: 16.5000 - size: 32.0000 - loss: 0.5506 - val_loss: 6.6018\n",
      "Epoch 173/500\n",
      "34/34 [==============================] - 3s 102ms/step - batch: 16.5000 - size: 32.0000 - loss: 0.5548 - val_loss: 6.6046\n",
      "Epoch 174/500\n",
      "34/34 [==============================] - 4s 121ms/step - batch: 16.5000 - size: 32.0000 - loss: 0.5414 - val_loss: 6.3629\n",
      "Epoch 175/500\n",
      "34/34 [==============================] - 4s 121ms/step - batch: 16.5000 - size: 32.0000 - loss: 0.5204 - val_loss: 6.6412\n",
      "Epoch 176/500\n",
      "34/34 [==============================] - 4s 120ms/step - batch: 16.5000 - size: 32.0000 - loss: 0.5154 - val_loss: 6.5155\n",
      "Epoch 177/500\n",
      "34/34 [==============================] - 4s 125ms/step - batch: 16.5000 - size: 32.0000 - loss: 0.5203 - val_loss: 6.5340\n",
      "Epoch 178/500\n",
      "34/34 [==============================] - 4s 121ms/step - batch: 16.5000 - size: 32.0000 - loss: 0.5386 - val_loss: 6.4513\n",
      "Epoch 179/500\n",
      "34/34 [==============================] - 4s 123ms/step - batch: 16.5000 - size: 32.0000 - loss: 0.5309 - val_loss: 6.6404\n",
      "Epoch 180/500\n",
      "34/34 [==============================] - ETA: 0s - batch: 16.5000 - size: 32.0000 - loss: 0.5853Get map.\n"
     ]
    },
    {
     "name": "stderr",
     "output_type": "stream",
     "text": [
      "100%|██████████| 122/122 [00:01<00:00, 111.71it/s]\n"
     ]
    },
    {
     "name": "stdout",
     "output_type": "stream",
     "text": [
      "Calculate Map.\n",
      "Path '.temp_map_out/results' already exists.\n",
      "63.77% = cola AP \t||\tscore_threhold=0.5 : F1=0.69 ; Recall=68.33% ; Precision=70.69%\n",
      "mAP = 63.77%\n",
      "Path '/home/zhangyouan/桌面/zya/NN_net/network/SSD/IMX_681_ssd_mobilenet_git/keras/detection/SSD_ipynb_transfer_callback_0919_cola/output/20231205/loss_2023_12_06_09_08_36' already exists.\n",
      "Get map done.\n",
      "34/34 [==============================] - 6s 167ms/step - batch: 16.5000 - size: 32.0000 - loss: 0.5853 - val_loss: 6.4745\n",
      "Epoch 181/500\n",
      "34/34 [==============================] - 4s 122ms/step - batch: 16.5000 - size: 32.0000 - loss: 0.5633 - val_loss: 6.5971\n",
      "Epoch 182/500\n",
      "34/34 [==============================] - 4s 121ms/step - batch: 16.5000 - size: 32.0000 - loss: 0.5607 - val_loss: 6.5139\n",
      "Epoch 183/500\n",
      "34/34 [==============================] - 3s 103ms/step - batch: 16.5000 - size: 32.0000 - loss: 0.6165 - val_loss: 6.6521\n",
      "Epoch 184/500\n",
      "34/34 [==============================] - 4s 123ms/step - batch: 16.5000 - size: 32.0000 - loss: 0.5524 - val_loss: 6.6342\n",
      "Epoch 185/500\n",
      "34/34 [==============================] - 4s 122ms/step - batch: 16.5000 - size: 32.0000 - loss: 0.4827 - val_loss: 6.5152\n",
      "Epoch 186/500\n",
      "34/34 [==============================] - 4s 124ms/step - batch: 16.5000 - size: 32.0000 - loss: 0.5225 - val_loss: 6.7009\n",
      "Epoch 187/500\n",
      "34/34 [==============================] - 4s 122ms/step - batch: 16.5000 - size: 32.0000 - loss: 0.4755 - val_loss: 6.7169\n",
      "Epoch 188/500\n",
      "34/34 [==============================] - 4s 121ms/step - batch: 16.5000 - size: 32.0000 - loss: 0.4449 - val_loss: 6.7499\n",
      "Epoch 189/500\n",
      "34/34 [==============================] - 4s 122ms/step - batch: 16.5000 - size: 32.0000 - loss: 0.4248 - val_loss: 6.9122\n",
      "Epoch 190/500\n",
      "34/34 [==============================] - ETA: 0s - batch: 16.5000 - size: 32.0000 - loss: 0.4543Get map.\n"
     ]
    },
    {
     "name": "stderr",
     "output_type": "stream",
     "text": [
      "100%|██████████| 122/122 [00:01<00:00, 109.28it/s]\n"
     ]
    },
    {
     "name": "stdout",
     "output_type": "stream",
     "text": [
      "Calculate Map.\n",
      "Path '.temp_map_out/results' already exists.\n",
      "61.83% = cola AP \t||\tscore_threhold=0.5 : F1=0.65 ; Recall=63.33% ; Precision=66.67%\n",
      "mAP = 61.83%\n",
      "Path '/home/zhangyouan/桌面/zya/NN_net/network/SSD/IMX_681_ssd_mobilenet_git/keras/detection/SSD_ipynb_transfer_callback_0919_cola/output/20231205/loss_2023_12_06_09_08_36' already exists.\n",
      "Get map done.\n",
      "34/34 [==============================] - 6s 167ms/step - batch: 16.5000 - size: 32.0000 - loss: 0.4543 - val_loss: 6.8093\n",
      "Epoch 191/500\n",
      "34/34 [==============================] - 4s 119ms/step - batch: 16.5000 - size: 32.0000 - loss: 0.4100 - val_loss: 6.8555\n",
      "Epoch 192/500\n",
      "34/34 [==============================] - 4s 121ms/step - batch: 16.5000 - size: 32.0000 - loss: 0.4306 - val_loss: 6.9506\n",
      "Epoch 193/500\n",
      "34/34 [==============================] - 3s 102ms/step - batch: 16.5000 - size: 32.0000 - loss: 0.4254 - val_loss: 6.9436\n",
      "Epoch 194/500\n",
      "34/34 [==============================] - 4s 123ms/step - batch: 16.5000 - size: 32.0000 - loss: 0.4160 - val_loss: 6.8660\n",
      "Epoch 195/500\n",
      "34/34 [==============================] - 4s 121ms/step - batch: 16.5000 - size: 32.0000 - loss: 0.4320 - val_loss: 6.8092\n",
      "Epoch 196/500\n",
      "34/34 [==============================] - 4s 121ms/step - batch: 16.5000 - size: 32.0000 - loss: 0.4040 - val_loss: 6.9181\n",
      "Epoch 197/500\n",
      "34/34 [==============================] - 4s 124ms/step - batch: 16.5000 - size: 32.0000 - loss: 0.4257 - val_loss: 7.0009\n",
      "Epoch 198/500\n",
      "34/34 [==============================] - 4s 122ms/step - batch: 16.5000 - size: 32.0000 - loss: 0.3835 - val_loss: 6.9551\n",
      "Epoch 199/500\n",
      "34/34 [==============================] - 4s 122ms/step - batch: 16.5000 - size: 32.0000 - loss: 0.4222 - val_loss: 7.1131\n",
      "Epoch 200/500\n",
      "34/34 [==============================] - ETA: 0s - batch: 16.5000 - size: 32.0000 - loss: 0.4143Get map.\n"
     ]
    },
    {
     "name": "stderr",
     "output_type": "stream",
     "text": [
      "100%|██████████| 122/122 [00:01<00:00, 108.44it/s]\n"
     ]
    },
    {
     "name": "stdout",
     "output_type": "stream",
     "text": [
      "Calculate Map.\n",
      "Path '.temp_map_out/results' already exists.\n",
      "64.68% = cola AP \t||\tscore_threhold=0.5 : F1=0.68 ; Recall=65.00% ; Precision=72.22%\n",
      "mAP = 64.68%\n",
      "Path '/home/zhangyouan/桌面/zya/NN_net/network/SSD/IMX_681_ssd_mobilenet_git/keras/detection/SSD_ipynb_transfer_callback_0919_cola/output/20231205/loss_2023_12_06_09_08_36' already exists.\n",
      "Get map done.\n",
      "34/34 [==============================] - 6s 166ms/step - batch: 16.5000 - size: 32.0000 - loss: 0.4143 - val_loss: 7.1572\n",
      "Epoch 201/500\n",
      "34/34 [==============================] - 4s 122ms/step - batch: 16.5000 - size: 32.0000 - loss: 0.4667 - val_loss: 6.9936\n",
      "Epoch 202/500\n",
      "34/34 [==============================] - 4s 122ms/step - batch: 16.5000 - size: 32.0000 - loss: 0.4730 - val_loss: 7.0001\n",
      "Epoch 203/500\n",
      "34/34 [==============================] - 3s 100ms/step - batch: 16.5000 - size: 32.0000 - loss: 0.4540 - val_loss: 6.8364\n",
      "Epoch 204/500\n",
      "34/34 [==============================] - 4s 124ms/step - batch: 16.5000 - size: 32.0000 - loss: 0.4549 - val_loss: 7.0929\n",
      "Epoch 205/500\n",
      "34/34 [==============================] - 4s 124ms/step - batch: 16.5000 - size: 32.0000 - loss: 0.4040 - val_loss: 7.3686\n",
      "Epoch 206/500\n",
      "34/34 [==============================] - 4s 123ms/step - batch: 16.5000 - size: 32.0000 - loss: 0.3959 - val_loss: 7.3705\n",
      "Epoch 207/500\n",
      "34/34 [==============================] - 4s 122ms/step - batch: 16.5000 - size: 32.0000 - loss: 0.3824 - val_loss: 7.2514\n",
      "Epoch 208/500\n",
      "34/34 [==============================] - 4s 125ms/step - batch: 16.5000 - size: 32.0000 - loss: 0.3663 - val_loss: 7.0909\n",
      "Epoch 209/500\n",
      "34/34 [==============================] - 4s 124ms/step - batch: 16.5000 - size: 32.0000 - loss: 0.3687 - val_loss: 7.1147\n",
      "Epoch 210/500\n",
      "34/34 [==============================] - ETA: 0s - batch: 16.5000 - size: 32.0000 - loss: 0.3575Get map.\n"
     ]
    },
    {
     "name": "stderr",
     "output_type": "stream",
     "text": [
      "100%|██████████| 122/122 [00:01<00:00, 108.04it/s]\n"
     ]
    },
    {
     "name": "stdout",
     "output_type": "stream",
     "text": [
      "Calculate Map.\n",
      "Path '.temp_map_out/results' already exists.\n",
      "63.08% = cola AP \t||\tscore_threhold=0.5 : F1=0.64 ; Recall=65.00% ; Precision=62.90%\n",
      "mAP = 63.08%\n",
      "Path '/home/zhangyouan/桌面/zya/NN_net/network/SSD/IMX_681_ssd_mobilenet_git/keras/detection/SSD_ipynb_transfer_callback_0919_cola/output/20231205/loss_2023_12_06_09_08_36' already exists.\n",
      "Get map done.\n",
      "34/34 [==============================] - 6s 170ms/step - batch: 16.5000 - size: 32.0000 - loss: 0.3575 - val_loss: 7.1961\n",
      "Epoch 211/500\n",
      "34/34 [==============================] - 4s 123ms/step - batch: 16.5000 - size: 32.0000 - loss: 0.3644 - val_loss: 7.1785\n",
      "Epoch 212/500\n",
      "34/34 [==============================] - 4s 122ms/step - batch: 16.5000 - size: 32.0000 - loss: 0.3546 - val_loss: 7.1754\n",
      "Epoch 213/500\n",
      "34/34 [==============================] - 3s 101ms/step - batch: 16.5000 - size: 32.0000 - loss: 0.3475 - val_loss: 7.2817\n",
      "Epoch 214/500\n",
      "34/34 [==============================] - 4s 123ms/step - batch: 16.5000 - size: 32.0000 - loss: 0.3403 - val_loss: 7.1853\n",
      "Epoch 215/500\n",
      "34/34 [==============================] - 4s 125ms/step - batch: 16.5000 - size: 32.0000 - loss: 0.3244 - val_loss: 7.3658\n",
      "Epoch 216/500\n",
      "34/34 [==============================] - 4s 125ms/step - batch: 16.5000 - size: 32.0000 - loss: 0.3123 - val_loss: 7.3452\n",
      "Epoch 217/500\n",
      "34/34 [==============================] - 4s 122ms/step - batch: 16.5000 - size: 32.0000 - loss: 0.3347 - val_loss: 7.3059\n",
      "Epoch 218/500\n",
      "34/34 [==============================] - 4s 123ms/step - batch: 16.5000 - size: 32.0000 - loss: 0.3036 - val_loss: 7.3876\n",
      "Epoch 219/500\n",
      "34/34 [==============================] - 4s 124ms/step - batch: 16.5000 - size: 32.0000 - loss: 0.3220 - val_loss: 7.3461\n",
      "Epoch 220/500\n",
      "34/34 [==============================] - ETA: 0s - batch: 16.5000 - size: 32.0000 - loss: 0.3282Get map.\n"
     ]
    },
    {
     "name": "stderr",
     "output_type": "stream",
     "text": [
      "100%|██████████| 122/122 [00:01<00:00, 111.42it/s]\n"
     ]
    },
    {
     "name": "stdout",
     "output_type": "stream",
     "text": [
      "Calculate Map.\n",
      "Path '.temp_map_out/results' already exists.\n",
      "63.79% = cola AP \t||\tscore_threhold=0.5 : F1=0.66 ; Recall=70.00% ; Precision=61.76%\n",
      "mAP = 63.79%\n",
      "Path '/home/zhangyouan/桌面/zya/NN_net/network/SSD/IMX_681_ssd_mobilenet_git/keras/detection/SSD_ipynb_transfer_callback_0919_cola/output/20231205/loss_2023_12_06_09_08_36' already exists.\n",
      "Get map done.\n",
      "34/34 [==============================] - 6s 165ms/step - batch: 16.5000 - size: 32.0000 - loss: 0.3282 - val_loss: 7.3497\n",
      "Epoch 221/500\n",
      "34/34 [==============================] - 4s 125ms/step - batch: 16.5000 - size: 32.0000 - loss: 0.2904 - val_loss: 7.5152\n",
      "Epoch 222/500\n",
      "34/34 [==============================] - 4s 123ms/step - batch: 16.5000 - size: 32.0000 - loss: 0.3366 - val_loss: 7.4211\n",
      "Epoch 223/500\n",
      "34/34 [==============================] - 3s 103ms/step - batch: 16.5000 - size: 32.0000 - loss: 0.3053 - val_loss: 7.5456\n",
      "Epoch 224/500\n",
      "34/34 [==============================] - 4s 124ms/step - batch: 16.5000 - size: 32.0000 - loss: 0.3182 - val_loss: 7.4817\n",
      "Epoch 225/500\n",
      "34/34 [==============================] - 4s 123ms/step - batch: 16.5000 - size: 32.0000 - loss: 0.2944 - val_loss: 7.6186\n",
      "Epoch 226/500\n",
      "34/34 [==============================] - 4s 122ms/step - batch: 16.5000 - size: 32.0000 - loss: 0.3043 - val_loss: 7.5867\n",
      "Epoch 227/500\n",
      "34/34 [==============================] - 4s 124ms/step - batch: 16.5000 - size: 32.0000 - loss: 0.3007 - val_loss: 7.5339\n",
      "Epoch 228/500\n",
      "34/34 [==============================] - 4s 122ms/step - batch: 16.5000 - size: 32.0000 - loss: 0.2857 - val_loss: 7.5233\n",
      "Epoch 229/500\n",
      "34/34 [==============================] - 4s 123ms/step - batch: 16.5000 - size: 32.0000 - loss: 0.3028 - val_loss: 7.6885\n",
      "Epoch 230/500\n",
      "34/34 [==============================] - ETA: 0s - batch: 16.5000 - size: 32.0000 - loss: 0.3019Get map.\n"
     ]
    },
    {
     "name": "stderr",
     "output_type": "stream",
     "text": [
      "100%|██████████| 122/122 [00:01<00:00, 112.77it/s]\n"
     ]
    },
    {
     "name": "stdout",
     "output_type": "stream",
     "text": [
      "Calculate Map.\n",
      "Path '.temp_map_out/results' already exists.\n",
      "59.46% = cola AP \t||\tscore_threhold=0.5 : F1=0.63 ; Recall=65.00% ; Precision=61.90%\n",
      "mAP = 59.46%\n",
      "Path '/home/zhangyouan/桌面/zya/NN_net/network/SSD/IMX_681_ssd_mobilenet_git/keras/detection/SSD_ipynb_transfer_callback_0919_cola/output/20231205/loss_2023_12_06_09_08_36' already exists.\n",
      "Get map done.\n",
      "34/34 [==============================] - 5s 163ms/step - batch: 16.5000 - size: 32.0000 - loss: 0.3019 - val_loss: 7.5759\n",
      "Epoch 231/500\n",
      "34/34 [==============================] - 4s 124ms/step - batch: 16.5000 - size: 32.0000 - loss: 0.2844 - val_loss: 7.5823\n",
      "Epoch 232/500\n",
      "34/34 [==============================] - 4s 124ms/step - batch: 16.5000 - size: 32.0000 - loss: 0.2910 - val_loss: 7.6651\n",
      "Epoch 233/500\n",
      "34/34 [==============================] - 4s 106ms/step - batch: 16.5000 - size: 32.0000 - loss: 0.2863 - val_loss: 7.7050\n",
      "Epoch 234/500\n",
      "34/34 [==============================] - 4s 123ms/step - batch: 16.5000 - size: 32.0000 - loss: 0.2822 - val_loss: 7.7281\n",
      "Epoch 235/500\n",
      "34/34 [==============================] - 4s 123ms/step - batch: 16.5000 - size: 32.0000 - loss: 0.2923 - val_loss: 7.6366\n",
      "Epoch 236/500\n",
      "34/34 [==============================] - 4s 124ms/step - batch: 16.5000 - size: 32.0000 - loss: 0.2925 - val_loss: 7.9874\n",
      "Epoch 237/500\n",
      "34/34 [==============================] - 4s 124ms/step - batch: 16.5000 - size: 32.0000 - loss: 0.2636 - val_loss: 7.7113\n",
      "Epoch 238/500\n",
      "34/34 [==============================] - 4s 123ms/step - batch: 16.5000 - size: 32.0000 - loss: 0.2700 - val_loss: 7.8931\n",
      "Epoch 239/500\n",
      "34/34 [==============================] - 4s 123ms/step - batch: 16.5000 - size: 32.0000 - loss: 0.2791 - val_loss: 7.8019\n",
      "Epoch 240/500\n",
      "34/34 [==============================] - ETA: 0s - batch: 16.5000 - size: 32.0000 - loss: 0.2689Get map.\n"
     ]
    },
    {
     "name": "stderr",
     "output_type": "stream",
     "text": [
      "100%|██████████| 122/122 [00:01<00:00, 117.62it/s]\n"
     ]
    },
    {
     "name": "stdout",
     "output_type": "stream",
     "text": [
      "Calculate Map.\n",
      "Path '.temp_map_out/results' already exists.\n",
      "64.19% = cola AP \t||\tscore_threhold=0.5 : F1=0.63 ; Recall=66.67% ; Precision=60.61%\n",
      "mAP = 64.19%\n",
      "Path '/home/zhangyouan/桌面/zya/NN_net/network/SSD/IMX_681_ssd_mobilenet_git/keras/detection/SSD_ipynb_transfer_callback_0919_cola/output/20231205/loss_2023_12_06_09_08_36' already exists.\n",
      "Get map done.\n",
      "34/34 [==============================] - 5s 159ms/step - batch: 16.5000 - size: 32.0000 - loss: 0.2689 - val_loss: 7.7818\n",
      "Epoch 241/500\n",
      "34/34 [==============================] - 4s 124ms/step - batch: 16.5000 - size: 32.0000 - loss: 0.2551 - val_loss: 7.8913\n",
      "Epoch 242/500\n",
      "34/34 [==============================] - 4s 123ms/step - batch: 16.5000 - size: 32.0000 - loss: 0.2818 - val_loss: 7.9488\n",
      "Epoch 243/500\n",
      "34/34 [==============================] - 4s 107ms/step - batch: 16.5000 - size: 32.0000 - loss: 0.2817 - val_loss: 7.9532\n",
      "Epoch 244/500\n",
      "34/34 [==============================] - 4s 125ms/step - batch: 16.5000 - size: 32.0000 - loss: 0.3071 - val_loss: 8.3099\n",
      "Epoch 245/500\n",
      "34/34 [==============================] - 4s 126ms/step - batch: 16.5000 - size: 32.0000 - loss: 0.3497 - val_loss: 7.8613\n",
      "Epoch 246/500\n",
      "34/34 [==============================] - 4s 121ms/step - batch: 16.5000 - size: 32.0000 - loss: 0.3216 - val_loss: 7.9440\n",
      "Epoch 247/500\n",
      "34/34 [==============================] - 4s 121ms/step - batch: 16.5000 - size: 32.0000 - loss: 0.3619 - val_loss: 7.9837\n",
      "Epoch 248/500\n",
      "34/34 [==============================] - 4s 121ms/step - batch: 16.5000 - size: 32.0000 - loss: 0.3359 - val_loss: 7.7418\n",
      "Epoch 249/500\n",
      "34/34 [==============================] - 4s 122ms/step - batch: 16.5000 - size: 32.0000 - loss: 0.2642 - val_loss: 7.6962\n",
      "Epoch 250/500\n",
      "34/34 [==============================] - ETA: 0s - batch: 16.5000 - size: 32.0000 - loss: 0.2382Get map.\n"
     ]
    },
    {
     "name": "stderr",
     "output_type": "stream",
     "text": [
      "100%|██████████| 122/122 [00:01<00:00, 113.95it/s]\n"
     ]
    },
    {
     "name": "stdout",
     "output_type": "stream",
     "text": [
      "Calculate Map.\n",
      "Path '.temp_map_out/results' already exists.\n",
      "58.35% = cola AP \t||\tscore_threhold=0.5 : F1=0.59 ; Recall=63.33% ; Precision=55.88%\n",
      "mAP = 58.35%\n",
      "Path '/home/zhangyouan/桌面/zya/NN_net/network/SSD/IMX_681_ssd_mobilenet_git/keras/detection/SSD_ipynb_transfer_callback_0919_cola/output/20231205/loss_2023_12_06_09_08_36' already exists.\n",
      "Get map done.\n",
      "34/34 [==============================] - 6s 165ms/step - batch: 16.5000 - size: 32.0000 - loss: 0.2382 - val_loss: 7.9982\n",
      "Epoch 251/500\n",
      "34/34 [==============================] - 4s 122ms/step - batch: 16.5000 - size: 32.0000 - loss: 0.2306 - val_loss: 7.9419\n",
      "Epoch 252/500\n",
      "34/34 [==============================] - 4s 117ms/step - batch: 16.5000 - size: 32.0000 - loss: 0.2255 - val_loss: 7.9958\n",
      "Epoch 253/500\n",
      "34/34 [==============================] - 4s 113ms/step - batch: 16.5000 - size: 32.0000 - loss: 0.2229 - val_loss: 8.0468\n",
      "Epoch 254/500\n",
      "34/34 [==============================] - 4s 123ms/step - batch: 16.5000 - size: 32.0000 - loss: 0.2142 - val_loss: 8.0304\n",
      "Epoch 255/500\n",
      "34/34 [==============================] - 4s 122ms/step - batch: 16.5000 - size: 32.0000 - loss: 0.2103 - val_loss: 8.0719\n",
      "Epoch 256/500\n",
      "34/34 [==============================] - 4s 122ms/step - batch: 16.5000 - size: 32.0000 - loss: 0.2105 - val_loss: 8.1541\n",
      "Epoch 257/500\n",
      "34/34 [==============================] - 4s 122ms/step - batch: 16.5000 - size: 32.0000 - loss: 0.2061 - val_loss: 8.1101\n",
      "Epoch 258/500\n",
      "34/34 [==============================] - 4s 127ms/step - batch: 16.5000 - size: 32.0000 - loss: 0.2048 - val_loss: 8.1142\n",
      "Epoch 259/500\n",
      "34/34 [==============================] - 4s 122ms/step - batch: 16.5000 - size: 32.0000 - loss: 0.1967 - val_loss: 8.2056\n",
      "Epoch 260/500\n",
      "34/34 [==============================] - ETA: 0s - batch: 16.5000 - size: 32.0000 - loss: 0.2128Get map.\n"
     ]
    },
    {
     "name": "stderr",
     "output_type": "stream",
     "text": [
      "100%|██████████| 122/122 [00:00<00:00, 122.21it/s]\n"
     ]
    },
    {
     "name": "stdout",
     "output_type": "stream",
     "text": [
      "Calculate Map.\n",
      "Path '.temp_map_out/results' already exists.\n",
      "60.89% = cola AP \t||\tscore_threhold=0.5 : F1=0.60 ; Recall=65.00% ; Precision=56.52%\n",
      "mAP = 60.89%\n",
      "Path '/home/zhangyouan/桌面/zya/NN_net/network/SSD/IMX_681_ssd_mobilenet_git/keras/detection/SSD_ipynb_transfer_callback_0919_cola/output/20231205/loss_2023_12_06_09_08_36' already exists.\n",
      "Get map done.\n",
      "34/34 [==============================] - 6s 164ms/step - batch: 16.5000 - size: 32.0000 - loss: 0.2128 - val_loss: 8.1948\n",
      "Epoch 261/500\n",
      "34/34 [==============================] - 4s 121ms/step - batch: 16.5000 - size: 32.0000 - loss: 0.1993 - val_loss: 8.2875\n",
      "Epoch 262/500\n",
      "34/34 [==============================] - 4s 112ms/step - batch: 16.5000 - size: 32.0000 - loss: 0.2099 - val_loss: 8.2019\n",
      "Epoch 263/500\n",
      "34/34 [==============================] - 4s 111ms/step - batch: 16.5000 - size: 32.0000 - loss: 0.2050 - val_loss: 8.3028\n",
      "Epoch 264/500\n",
      "34/34 [==============================] - 4s 123ms/step - batch: 16.5000 - size: 32.0000 - loss: 0.2076 - val_loss: 8.2431\n",
      "Epoch 265/500\n",
      "34/34 [==============================] - 4s 125ms/step - batch: 16.5000 - size: 32.0000 - loss: 0.2022 - val_loss: 8.3563\n",
      "Epoch 266/500\n",
      "34/34 [==============================] - 4s 124ms/step - batch: 16.5000 - size: 32.0000 - loss: 0.2036 - val_loss: 8.3183\n",
      "Epoch 267/500\n",
      "34/34 [==============================] - 4s 125ms/step - batch: 16.5000 - size: 32.0000 - loss: 0.1934 - val_loss: 8.2474\n",
      "Epoch 268/500\n",
      "34/34 [==============================] - 4s 122ms/step - batch: 16.5000 - size: 32.0000 - loss: 0.2081 - val_loss: 8.3585\n",
      "Epoch 269/500\n",
      "34/34 [==============================] - 4s 123ms/step - batch: 16.5000 - size: 32.0000 - loss: 0.1923 - val_loss: 8.3308\n",
      "Epoch 270/500\n",
      "34/34 [==============================] - ETA: 0s - batch: 16.5000 - size: 32.0000 - loss: 0.1885Get map.\n"
     ]
    },
    {
     "name": "stderr",
     "output_type": "stream",
     "text": [
      "100%|██████████| 122/122 [00:01<00:00, 114.04it/s]\n"
     ]
    },
    {
     "name": "stdout",
     "output_type": "stream",
     "text": [
      "Calculate Map.\n",
      "Path '.temp_map_out/results' already exists.\n",
      "61.18% = cola AP \t||\tscore_threhold=0.5 : F1=0.62 ; Recall=66.67% ; Precision=58.82%\n",
      "mAP = 61.18%\n",
      "Path '/home/zhangyouan/桌面/zya/NN_net/network/SSD/IMX_681_ssd_mobilenet_git/keras/detection/SSD_ipynb_transfer_callback_0919_cola/output/20231205/loss_2023_12_06_09_08_36' already exists.\n",
      "Get map done.\n",
      "34/34 [==============================] - 6s 166ms/step - batch: 16.5000 - size: 32.0000 - loss: 0.1885 - val_loss: 8.3956\n",
      "Epoch 271/500\n",
      "34/34 [==============================] - 4s 122ms/step - batch: 16.5000 - size: 32.0000 - loss: 0.1883 - val_loss: 8.3832\n",
      "Epoch 272/500\n",
      "34/34 [==============================] - 4s 116ms/step - batch: 16.5000 - size: 32.0000 - loss: 0.1797 - val_loss: 8.4472\n",
      "Epoch 273/500\n",
      "34/34 [==============================] - 4s 118ms/step - batch: 16.5000 - size: 32.0000 - loss: 0.1904 - val_loss: 8.3385\n",
      "Epoch 274/500\n",
      "34/34 [==============================] - 4s 125ms/step - batch: 16.5000 - size: 32.0000 - loss: 0.1870 - val_loss: 8.3987\n",
      "Epoch 275/500\n",
      "34/34 [==============================] - 4s 122ms/step - batch: 16.5000 - size: 32.0000 - loss: 0.1780 - val_loss: 8.4990\n",
      "Epoch 276/500\n",
      "34/34 [==============================] - 4s 122ms/step - batch: 16.5000 - size: 32.0000 - loss: 0.1892 - val_loss: 8.3776\n",
      "Epoch 277/500\n",
      "34/34 [==============================] - 4s 122ms/step - batch: 16.5000 - size: 32.0000 - loss: 0.1734 - val_loss: 8.4612\n",
      "Epoch 278/500\n",
      "34/34 [==============================] - 4s 125ms/step - batch: 16.5000 - size: 32.0000 - loss: 0.1780 - val_loss: 8.3756\n",
      "Epoch 279/500\n",
      "34/34 [==============================] - 4s 125ms/step - batch: 16.5000 - size: 32.0000 - loss: 0.1795 - val_loss: 8.3767\n",
      "Epoch 280/500\n",
      "34/34 [==============================] - ETA: 0s - batch: 16.5000 - size: 32.0000 - loss: 0.1784Get map.\n"
     ]
    },
    {
     "name": "stderr",
     "output_type": "stream",
     "text": [
      "100%|██████████| 122/122 [00:01<00:00, 110.21it/s]\n"
     ]
    },
    {
     "name": "stdout",
     "output_type": "stream",
     "text": [
      "Calculate Map.\n",
      "Path '.temp_map_out/results' already exists.\n",
      "57.31% = cola AP \t||\tscore_threhold=0.5 : F1=0.61 ; Recall=63.33% ; Precision=58.46%\n",
      "mAP = 57.31%\n",
      "Path '/home/zhangyouan/桌面/zya/NN_net/network/SSD/IMX_681_ssd_mobilenet_git/keras/detection/SSD_ipynb_transfer_callback_0919_cola/output/20231205/loss_2023_12_06_09_08_36' already exists.\n",
      "Get map done.\n",
      "34/34 [==============================] - 6s 168ms/step - batch: 16.5000 - size: 32.0000 - loss: 0.1784 - val_loss: 8.5110\n",
      "Epoch 281/500\n",
      "34/34 [==============================] - 4s 121ms/step - batch: 16.5000 - size: 32.0000 - loss: 0.1775 - val_loss: 8.6012\n",
      "Epoch 282/500\n",
      "34/34 [==============================] - 4s 105ms/step - batch: 16.5000 - size: 32.0000 - loss: 0.1814 - val_loss: 8.4556\n",
      "Epoch 283/500\n",
      "34/34 [==============================] - 4s 122ms/step - batch: 16.5000 - size: 32.0000 - loss: 0.1792 - val_loss: 8.5068\n",
      "Epoch 284/500\n",
      "34/34 [==============================] - 4s 122ms/step - batch: 16.5000 - size: 32.0000 - loss: 0.1959 - val_loss: 8.5207\n",
      "Epoch 285/500\n",
      "34/34 [==============================] - 4s 124ms/step - batch: 16.5000 - size: 32.0000 - loss: 0.2052 - val_loss: 8.6760\n",
      "Epoch 286/500\n",
      "34/34 [==============================] - 4s 123ms/step - batch: 16.5000 - size: 32.0000 - loss: 0.2171 - val_loss: 8.5050\n",
      "Epoch 287/500\n",
      "34/34 [==============================] - 4s 122ms/step - batch: 16.5000 - size: 32.0000 - loss: 0.2075 - val_loss: 8.5141\n",
      "Epoch 288/500\n",
      "34/34 [==============================] - 4s 124ms/step - batch: 16.5000 - size: 32.0000 - loss: 0.2064 - val_loss: 8.5933\n",
      "Epoch 289/500\n",
      "34/34 [==============================] - 4s 122ms/step - batch: 16.5000 - size: 32.0000 - loss: 0.1799 - val_loss: 8.5340\n",
      "Epoch 290/500\n",
      "34/34 [==============================] - ETA: 0s - batch: 16.5000 - size: 32.0000 - loss: 0.1690Get map.\n"
     ]
    },
    {
     "name": "stderr",
     "output_type": "stream",
     "text": [
      "100%|██████████| 122/122 [00:01<00:00, 109.13it/s]\n"
     ]
    },
    {
     "name": "stdout",
     "output_type": "stream",
     "text": [
      "Calculate Map.\n",
      "Path '.temp_map_out/results' already exists.\n",
      "60.20% = cola AP \t||\tscore_threhold=0.5 : F1=0.60 ; Recall=65.00% ; Precision=55.71%\n",
      "mAP = 60.20%\n",
      "Path '/home/zhangyouan/桌面/zya/NN_net/network/SSD/IMX_681_ssd_mobilenet_git/keras/detection/SSD_ipynb_transfer_callback_0919_cola/output/20231205/loss_2023_12_06_09_08_36' already exists.\n",
      "Get map done.\n",
      "34/34 [==============================] - 6s 166ms/step - batch: 16.5000 - size: 32.0000 - loss: 0.1690 - val_loss: 8.6715\n",
      "Epoch 291/500\n",
      "34/34 [==============================] - 4s 124ms/step - batch: 16.5000 - size: 32.0000 - loss: 0.1725 - val_loss: 8.4665\n",
      "Epoch 292/500\n",
      "34/34 [==============================] - 3s 100ms/step - batch: 16.5000 - size: 32.0000 - loss: 0.1697 - val_loss: 8.6102\n",
      "Epoch 293/500\n",
      "34/34 [==============================] - 4s 122ms/step - batch: 16.5000 - size: 32.0000 - loss: 0.1543 - val_loss: 8.6317\n",
      "Epoch 294/500\n",
      "34/34 [==============================] - 4s 122ms/step - batch: 16.5000 - size: 32.0000 - loss: 0.1646 - val_loss: 8.5640\n",
      "Epoch 295/500\n",
      "34/34 [==============================] - 4s 120ms/step - batch: 16.5000 - size: 32.0000 - loss: 0.1538 - val_loss: 8.6394\n",
      "Epoch 296/500\n",
      "34/34 [==============================] - 4s 122ms/step - batch: 16.5000 - size: 32.0000 - loss: 0.1557 - val_loss: 8.7488\n",
      "Epoch 297/500\n",
      "34/34 [==============================] - 4s 120ms/step - batch: 16.5000 - size: 32.0000 - loss: 0.1498 - val_loss: 8.6750\n",
      "Epoch 298/500\n",
      "34/34 [==============================] - 4s 122ms/step - batch: 16.5000 - size: 32.0000 - loss: 0.1537 - val_loss: 8.6527\n",
      "Epoch 299/500\n",
      "34/34 [==============================] - 4s 121ms/step - batch: 16.5000 - size: 32.0000 - loss: 0.1576 - val_loss: 8.7026\n",
      "Epoch 300/500\n",
      "34/34 [==============================] - ETA: 0s - batch: 16.5000 - size: 32.0000 - loss: 0.1481Get map.\n"
     ]
    },
    {
     "name": "stderr",
     "output_type": "stream",
     "text": [
      "100%|██████████| 122/122 [00:01<00:00, 114.32it/s]\n"
     ]
    },
    {
     "name": "stdout",
     "output_type": "stream",
     "text": [
      "Calculate Map.\n",
      "Path '.temp_map_out/results' already exists.\n",
      "57.73% = cola AP \t||\tscore_threhold=0.5 : F1=0.58 ; Recall=61.67% ; Precision=55.22%\n",
      "mAP = 57.73%\n",
      "Path '/home/zhangyouan/桌面/zya/NN_net/network/SSD/IMX_681_ssd_mobilenet_git/keras/detection/SSD_ipynb_transfer_callback_0919_cola/output/20231205/loss_2023_12_06_09_08_36' already exists.\n",
      "Get map done.\n",
      "34/34 [==============================] - 6s 164ms/step - batch: 16.5000 - size: 32.0000 - loss: 0.1481 - val_loss: 8.7168\n",
      "Epoch 301/500\n",
      "34/34 [==============================] - 4s 124ms/step - batch: 16.5000 - size: 32.0000 - loss: 0.1526 - val_loss: 8.6338\n",
      "Epoch 302/500\n",
      "34/34 [==============================] - 3s 102ms/step - batch: 16.5000 - size: 32.0000 - loss: 0.1462 - val_loss: 8.7464\n",
      "Epoch 303/500\n",
      "34/34 [==============================] - 4s 122ms/step - batch: 16.5000 - size: 32.0000 - loss: 0.1457 - val_loss: 8.7791\n",
      "Epoch 304/500\n",
      "34/34 [==============================] - 4s 122ms/step - batch: 16.5000 - size: 32.0000 - loss: 0.1438 - val_loss: 8.7571\n",
      "Epoch 305/500\n",
      "34/34 [==============================] - 4s 127ms/step - batch: 16.5000 - size: 32.0000 - loss: 0.1498 - val_loss: 8.7660\n",
      "Epoch 306/500\n",
      "34/34 [==============================] - 4s 123ms/step - batch: 16.5000 - size: 32.0000 - loss: 0.1474 - val_loss: 8.8296\n",
      "Epoch 307/500\n",
      "34/34 [==============================] - 4s 124ms/step - batch: 16.5000 - size: 32.0000 - loss: 0.1464 - val_loss: 8.7829\n",
      "Epoch 308/500\n",
      "34/34 [==============================] - 4s 123ms/step - batch: 16.5000 - size: 32.0000 - loss: 0.1455 - val_loss: 8.7927\n",
      "Epoch 309/500\n",
      "34/34 [==============================] - 4s 124ms/step - batch: 16.5000 - size: 32.0000 - loss: 0.1433 - val_loss: 8.8271\n",
      "Epoch 310/500\n",
      "34/34 [==============================] - ETA: 0s - batch: 16.5000 - size: 32.0000 - loss: 0.1375Get map.\n"
     ]
    },
    {
     "name": "stderr",
     "output_type": "stream",
     "text": [
      "100%|██████████| 122/122 [00:01<00:00, 112.27it/s]\n"
     ]
    },
    {
     "name": "stdout",
     "output_type": "stream",
     "text": [
      "Calculate Map.\n",
      "Path '.temp_map_out/results' already exists.\n",
      "58.86% = cola AP \t||\tscore_threhold=0.5 : F1=0.59 ; Recall=63.33% ; Precision=55.07%\n",
      "mAP = 58.86%\n",
      "Path '/home/zhangyouan/桌面/zya/NN_net/network/SSD/IMX_681_ssd_mobilenet_git/keras/detection/SSD_ipynb_transfer_callback_0919_cola/output/20231205/loss_2023_12_06_09_08_36' already exists.\n",
      "Get map done.\n",
      "34/34 [==============================] - 6s 166ms/step - batch: 16.5000 - size: 32.0000 - loss: 0.1375 - val_loss: 8.8638\n",
      "Epoch 311/500\n",
      "34/34 [==============================] - 4s 123ms/step - batch: 16.5000 - size: 32.0000 - loss: 0.1426 - val_loss: 8.7712\n",
      "Epoch 312/500\n",
      "34/34 [==============================] - 3s 101ms/step - batch: 16.5000 - size: 32.0000 - loss: 0.1394 - val_loss: 8.8024\n",
      "Epoch 313/500\n",
      "34/34 [==============================] - 4s 123ms/step - batch: 16.5000 - size: 32.0000 - loss: 0.1390 - val_loss: 8.8340\n",
      "Epoch 314/500\n",
      "34/34 [==============================] - 4s 126ms/step - batch: 16.5000 - size: 32.0000 - loss: 0.1375 - val_loss: 8.8230\n",
      "Epoch 315/500\n",
      "34/34 [==============================] - 4s 126ms/step - batch: 16.5000 - size: 32.0000 - loss: 0.1400 - val_loss: 8.9000\n",
      "Epoch 316/500\n",
      "34/34 [==============================] - 4s 122ms/step - batch: 16.5000 - size: 32.0000 - loss: 0.1365 - val_loss: 8.9784\n",
      "Epoch 317/500\n",
      "34/34 [==============================] - 4s 125ms/step - batch: 16.5000 - size: 32.0000 - loss: 0.1379 - val_loss: 8.9071\n",
      "Epoch 318/500\n",
      "34/34 [==============================] - 4s 122ms/step - batch: 16.5000 - size: 32.0000 - loss: 0.1396 - val_loss: 8.9713\n",
      "Epoch 319/500\n",
      "34/34 [==============================] - 4s 123ms/step - batch: 16.5000 - size: 32.0000 - loss: 0.1282 - val_loss: 8.8880\n",
      "Epoch 320/500\n",
      "34/34 [==============================] - ETA: 0s - batch: 16.5000 - size: 32.0000 - loss: 0.1401Get map.\n"
     ]
    },
    {
     "name": "stderr",
     "output_type": "stream",
     "text": [
      "100%|██████████| 122/122 [00:01<00:00, 112.90it/s]\n"
     ]
    },
    {
     "name": "stdout",
     "output_type": "stream",
     "text": [
      "Calculate Map.\n",
      "Path '.temp_map_out/results' already exists.\n",
      "61.69% = cola AP \t||\tscore_threhold=0.5 : F1=0.63 ; Recall=65.00% ; Precision=61.90%\n",
      "mAP = 61.69%\n",
      "Path '/home/zhangyouan/桌面/zya/NN_net/network/SSD/IMX_681_ssd_mobilenet_git/keras/detection/SSD_ipynb_transfer_callback_0919_cola/output/20231205/loss_2023_12_06_09_08_36' already exists.\n",
      "Get map done.\n",
      "34/34 [==============================] - 6s 166ms/step - batch: 16.5000 - size: 32.0000 - loss: 0.1401 - val_loss: 8.9222\n",
      "Epoch 321/500\n",
      "34/34 [==============================] - 4s 121ms/step - batch: 16.5000 - size: 32.0000 - loss: 0.1377 - val_loss: 8.9071\n",
      "Epoch 322/500\n",
      "34/34 [==============================] - 3s 102ms/step - batch: 16.5000 - size: 32.0000 - loss: 0.1400 - val_loss: 8.8593\n",
      "Epoch 323/500\n",
      "34/34 [==============================] - 4s 123ms/step - batch: 16.5000 - size: 32.0000 - loss: 0.1451 - val_loss: 8.9246\n",
      "Epoch 324/500\n",
      "34/34 [==============================] - 4s 125ms/step - batch: 16.5000 - size: 32.0000 - loss: 0.1301 - val_loss: 8.9421\n",
      "Epoch 325/500\n",
      "34/34 [==============================] - 4s 122ms/step - batch: 16.5000 - size: 32.0000 - loss: 0.1342 - val_loss: 8.9441\n",
      "Epoch 326/500\n",
      "34/34 [==============================] - 4s 123ms/step - batch: 16.5000 - size: 32.0000 - loss: 0.1276 - val_loss: 8.9732\n",
      "Epoch 327/500\n",
      "34/34 [==============================] - 4s 122ms/step - batch: 16.5000 - size: 32.0000 - loss: 0.1324 - val_loss: 8.9884\n",
      "Epoch 328/500\n",
      "34/34 [==============================] - 4s 123ms/step - batch: 16.5000 - size: 32.0000 - loss: 0.1272 - val_loss: 9.0497\n",
      "Epoch 329/500\n",
      "34/34 [==============================] - 4s 125ms/step - batch: 16.5000 - size: 32.0000 - loss: 0.1226 - val_loss: 9.0316\n",
      "Epoch 330/500\n",
      "34/34 [==============================] - ETA: 0s - batch: 16.5000 - size: 32.0000 - loss: 0.1288Get map.\n"
     ]
    },
    {
     "name": "stderr",
     "output_type": "stream",
     "text": [
      "100%|██████████| 122/122 [00:01<00:00, 114.11it/s]\n"
     ]
    },
    {
     "name": "stdout",
     "output_type": "stream",
     "text": [
      "Calculate Map.\n",
      "Path '.temp_map_out/results' already exists.\n",
      "59.94% = cola AP \t||\tscore_threhold=0.5 : F1=0.60 ; Recall=63.33% ; Precision=57.58%\n",
      "mAP = 59.94%\n",
      "Path '/home/zhangyouan/桌面/zya/NN_net/network/SSD/IMX_681_ssd_mobilenet_git/keras/detection/SSD_ipynb_transfer_callback_0919_cola/output/20231205/loss_2023_12_06_09_08_36' already exists.\n",
      "Get map done.\n",
      "34/34 [==============================] - 6s 165ms/step - batch: 16.5000 - size: 32.0000 - loss: 0.1288 - val_loss: 9.0484\n",
      "Epoch 331/500\n",
      "34/34 [==============================] - 4s 123ms/step - batch: 16.5000 - size: 32.0000 - loss: 0.1230 - val_loss: 8.9860\n",
      "Epoch 332/500\n",
      "34/34 [==============================] - 3s 102ms/step - batch: 16.5000 - size: 32.0000 - loss: 0.1181 - val_loss: 9.0476\n",
      "Epoch 333/500\n",
      "34/34 [==============================] - 4s 124ms/step - batch: 16.5000 - size: 32.0000 - loss: 0.1290 - val_loss: 9.0233\n",
      "Epoch 334/500\n",
      "34/34 [==============================] - 4s 123ms/step - batch: 16.5000 - size: 32.0000 - loss: 0.1188 - val_loss: 9.0903\n",
      "Epoch 335/500\n",
      "34/34 [==============================] - 4s 124ms/step - batch: 16.5000 - size: 32.0000 - loss: 0.1259 - val_loss: 9.0509\n",
      "Epoch 336/500\n",
      "34/34 [==============================] - 4s 122ms/step - batch: 16.5000 - size: 32.0000 - loss: 0.1220 - val_loss: 9.0970\n",
      "Epoch 337/500\n",
      "34/34 [==============================] - 4s 122ms/step - batch: 16.5000 - size: 32.0000 - loss: 0.1253 - val_loss: 9.1174\n",
      "Epoch 338/500\n",
      "34/34 [==============================] - 4s 124ms/step - batch: 16.5000 - size: 32.0000 - loss: 0.1158 - val_loss: 9.0461\n",
      "Epoch 339/500\n",
      "34/34 [==============================] - 4s 122ms/step - batch: 16.5000 - size: 32.0000 - loss: 0.1208 - val_loss: 9.0856\n",
      "Epoch 340/500\n",
      "34/34 [==============================] - ETA: 0s - batch: 16.5000 - size: 32.0000 - loss: 0.1193Get map.\n"
     ]
    },
    {
     "name": "stderr",
     "output_type": "stream",
     "text": [
      "100%|██████████| 122/122 [00:01<00:00, 111.22it/s]\n"
     ]
    },
    {
     "name": "stdout",
     "output_type": "stream",
     "text": [
      "Calculate Map.\n",
      "Path '.temp_map_out/results' already exists.\n",
      "59.01% = cola AP \t||\tscore_threhold=0.5 : F1=0.60 ; Recall=63.33% ; Precision=57.58%\n",
      "mAP = 59.01%\n",
      "Path '/home/zhangyouan/桌面/zya/NN_net/network/SSD/IMX_681_ssd_mobilenet_git/keras/detection/SSD_ipynb_transfer_callback_0919_cola/output/20231205/loss_2023_12_06_09_08_36' already exists.\n",
      "Get map done.\n",
      "34/34 [==============================] - 6s 166ms/step - batch: 16.5000 - size: 32.0000 - loss: 0.1193 - val_loss: 9.0568\n",
      "Epoch 341/500\n",
      "34/34 [==============================] - 4s 125ms/step - batch: 16.5000 - size: 32.0000 - loss: 0.1204 - val_loss: 9.1343\n",
      "Epoch 342/500\n",
      "34/34 [==============================] - 3s 104ms/step - batch: 16.5000 - size: 32.0000 - loss: 0.1143 - val_loss: 9.1018\n",
      "Epoch 343/500\n",
      "34/34 [==============================] - 4s 125ms/step - batch: 16.5000 - size: 32.0000 - loss: 0.1214 - val_loss: 9.1686\n",
      "Epoch 344/500\n",
      "34/34 [==============================] - 4s 123ms/step - batch: 16.5000 - size: 32.0000 - loss: 0.1234 - val_loss: 9.1545\n",
      "Epoch 345/500\n",
      "34/34 [==============================] - 4s 121ms/step - batch: 16.5000 - size: 32.0000 - loss: 0.1139 - val_loss: 9.1338\n",
      "Epoch 346/500\n",
      "34/34 [==============================] - 4s 122ms/step - batch: 16.5000 - size: 32.0000 - loss: 0.1198 - val_loss: 9.2200\n",
      "Epoch 347/500\n",
      "34/34 [==============================] - 4s 121ms/step - batch: 16.5000 - size: 32.0000 - loss: 0.1132 - val_loss: 9.1857\n",
      "Epoch 348/500\n",
      "34/34 [==============================] - 4s 122ms/step - batch: 16.5000 - size: 32.0000 - loss: 0.1148 - val_loss: 9.2457\n",
      "Epoch 349/500\n",
      "34/34 [==============================] - 4s 127ms/step - batch: 16.5000 - size: 32.0000 - loss: 0.1139 - val_loss: 9.1414\n",
      "Epoch 350/500\n",
      "34/34 [==============================] - ETA: 0s - batch: 16.5000 - size: 32.0000 - loss: 0.1129Get map.\n"
     ]
    },
    {
     "name": "stderr",
     "output_type": "stream",
     "text": [
      "100%|██████████| 122/122 [00:01<00:00, 114.65it/s]\n"
     ]
    },
    {
     "name": "stdout",
     "output_type": "stream",
     "text": [
      "Calculate Map.\n",
      "Path '.temp_map_out/results' already exists.\n",
      "57.01% = cola AP \t||\tscore_threhold=0.5 : F1=0.56 ; Recall=61.67% ; Precision=52.11%\n",
      "mAP = 57.01%\n",
      "Path '/home/zhangyouan/桌面/zya/NN_net/network/SSD/IMX_681_ssd_mobilenet_git/keras/detection/SSD_ipynb_transfer_callback_0919_cola/output/20231205/loss_2023_12_06_09_08_36' already exists.\n",
      "Get map done.\n",
      "34/34 [==============================] - 6s 164ms/step - batch: 16.5000 - size: 32.0000 - loss: 0.1129 - val_loss: 9.1698\n",
      "Epoch 351/500\n",
      "34/34 [==============================] - 4s 120ms/step - batch: 16.5000 - size: 32.0000 - loss: 0.1149 - val_loss: 9.2366\n",
      "Epoch 352/500\n",
      "34/34 [==============================] - 4s 106ms/step - batch: 16.5000 - size: 32.0000 - loss: 0.1103 - val_loss: 9.2486\n",
      "Epoch 353/500\n",
      "34/34 [==============================] - 4s 122ms/step - batch: 16.5000 - size: 32.0000 - loss: 0.1098 - val_loss: 9.2422\n",
      "Epoch 354/500\n",
      "34/34 [==============================] - 4s 122ms/step - batch: 16.5000 - size: 32.0000 - loss: 0.1107 - val_loss: 9.2128\n",
      "Epoch 355/500\n",
      "34/34 [==============================] - 4s 124ms/step - batch: 16.5000 - size: 32.0000 - loss: 0.1108 - val_loss: 9.2283\n",
      "Epoch 356/500\n",
      "34/34 [==============================] - 4s 121ms/step - batch: 16.5000 - size: 32.0000 - loss: 0.1070 - val_loss: 9.2215\n",
      "Epoch 357/500\n",
      "34/34 [==============================] - 4s 123ms/step - batch: 16.5000 - size: 32.0000 - loss: 0.1123 - val_loss: 9.2177\n",
      "Epoch 358/500\n",
      "34/34 [==============================] - 4s 126ms/step - batch: 16.5000 - size: 32.0000 - loss: 0.1060 - val_loss: 9.2591\n",
      "Epoch 359/500\n",
      "34/34 [==============================] - 4s 122ms/step - batch: 16.5000 - size: 32.0000 - loss: 0.1052 - val_loss: 9.2561\n",
      "Epoch 360/500\n",
      "34/34 [==============================] - ETA: 0s - batch: 16.5000 - size: 32.0000 - loss: 0.1056Get map.\n"
     ]
    },
    {
     "name": "stderr",
     "output_type": "stream",
     "text": [
      "100%|██████████| 122/122 [00:01<00:00, 115.04it/s]\n"
     ]
    },
    {
     "name": "stdout",
     "output_type": "stream",
     "text": [
      "Calculate Map.\n",
      "Path '.temp_map_out/results' already exists.\n",
      "58.63% = cola AP \t||\tscore_threhold=0.5 : F1=0.60 ; Recall=65.00% ; Precision=54.93%\n",
      "mAP = 58.63%\n",
      "Path '/home/zhangyouan/桌面/zya/NN_net/network/SSD/IMX_681_ssd_mobilenet_git/keras/detection/SSD_ipynb_transfer_callback_0919_cola/output/20231205/loss_2023_12_06_09_08_36' already exists.\n",
      "Get map done.\n",
      "34/34 [==============================] - 5s 162ms/step - batch: 16.5000 - size: 32.0000 - loss: 0.1056 - val_loss: 9.3212\n",
      "Epoch 361/500\n",
      "34/34 [==============================] - 4s 120ms/step - batch: 16.5000 - size: 32.0000 - loss: 0.1031 - val_loss: 9.2617\n",
      "Epoch 362/500\n",
      "34/34 [==============================] - 4s 106ms/step - batch: 16.5000 - size: 32.0000 - loss: 0.1072 - val_loss: 9.2641\n",
      "Epoch 363/500\n",
      "34/34 [==============================] - 4s 121ms/step - batch: 16.5000 - size: 32.0000 - loss: 0.1055 - val_loss: 9.2919\n",
      "Epoch 364/500\n",
      "34/34 [==============================] - 4s 123ms/step - batch: 16.5000 - size: 32.0000 - loss: 0.1102 - val_loss: 9.3158\n",
      "Epoch 365/500\n",
      "34/34 [==============================] - 4s 125ms/step - batch: 16.5000 - size: 32.0000 - loss: 0.1020 - val_loss: 9.2974\n",
      "Epoch 366/500\n",
      "34/34 [==============================] - 4s 123ms/step - batch: 16.5000 - size: 32.0000 - loss: 0.1036 - val_loss: 9.3231\n",
      "Epoch 367/500\n",
      "34/34 [==============================] - 4s 121ms/step - batch: 16.5000 - size: 32.0000 - loss: 0.1010 - val_loss: 9.3279\n",
      "Epoch 368/500\n",
      "34/34 [==============================] - 4s 122ms/step - batch: 16.5000 - size: 32.0000 - loss: 0.1074 - val_loss: 9.3372\n",
      "Epoch 369/500\n",
      "34/34 [==============================] - 4s 122ms/step - batch: 16.5000 - size: 32.0000 - loss: 0.0985 - val_loss: 9.3361\n",
      "Epoch 370/500\n",
      "34/34 [==============================] - ETA: 0s - batch: 16.5000 - size: 32.0000 - loss: 0.1054Get map.\n"
     ]
    },
    {
     "name": "stderr",
     "output_type": "stream",
     "text": [
      "100%|██████████| 122/122 [00:01<00:00, 111.66it/s]\n"
     ]
    },
    {
     "name": "stdout",
     "output_type": "stream",
     "text": [
      "Calculate Map.\n",
      "Path '.temp_map_out/results' already exists.\n",
      "58.33% = cola AP \t||\tscore_threhold=0.5 : F1=0.60 ; Recall=65.00% ; Precision=56.52%\n",
      "mAP = 58.33%\n",
      "Path '/home/zhangyouan/桌面/zya/NN_net/network/SSD/IMX_681_ssd_mobilenet_git/keras/detection/SSD_ipynb_transfer_callback_0919_cola/output/20231205/loss_2023_12_06_09_08_36' already exists.\n",
      "Get map done.\n",
      "34/34 [==============================] - 5s 162ms/step - batch: 16.5000 - size: 32.0000 - loss: 0.1054 - val_loss: 9.3266\n",
      "Epoch 371/500\n",
      "34/34 [==============================] - 4s 124ms/step - batch: 16.5000 - size: 32.0000 - loss: 0.1054 - val_loss: 9.3907\n",
      "Epoch 372/500\n",
      "34/34 [==============================] - 4s 105ms/step - batch: 16.5000 - size: 32.0000 - loss: 0.1063 - val_loss: 9.3198\n",
      "Epoch 373/500\n",
      "34/34 [==============================] - 4s 122ms/step - batch: 16.5000 - size: 32.0000 - loss: 0.0973 - val_loss: 9.3156\n",
      "Epoch 374/500\n",
      "34/34 [==============================] - 4s 125ms/step - batch: 16.5000 - size: 32.0000 - loss: 0.1028 - val_loss: 9.3928\n",
      "Epoch 375/500\n",
      "34/34 [==============================] - 4s 121ms/step - batch: 16.5000 - size: 32.0000 - loss: 0.1038 - val_loss: 9.3489\n",
      "Epoch 376/500\n",
      "34/34 [==============================] - 4s 121ms/step - batch: 16.5000 - size: 32.0000 - loss: 0.0982 - val_loss: 9.3466\n",
      "Epoch 377/500\n",
      "34/34 [==============================] - 4s 122ms/step - batch: 16.5000 - size: 32.0000 - loss: 0.0995 - val_loss: 9.4069\n",
      "Epoch 378/500\n",
      "34/34 [==============================] - 4s 122ms/step - batch: 16.5000 - size: 32.0000 - loss: 0.0956 - val_loss: 9.3877\n",
      "Epoch 379/500\n",
      "34/34 [==============================] - 4s 124ms/step - batch: 16.5000 - size: 32.0000 - loss: 0.1034 - val_loss: 9.4066\n",
      "Epoch 380/500\n",
      "34/34 [==============================] - ETA: 0s - batch: 16.5000 - size: 32.0000 - loss: 0.0972Get map.\n"
     ]
    },
    {
     "name": "stderr",
     "output_type": "stream",
     "text": [
      "100%|██████████| 122/122 [00:01<00:00, 117.22it/s]\n"
     ]
    },
    {
     "name": "stdout",
     "output_type": "stream",
     "text": [
      "Calculate Map.\n",
      "Path '.temp_map_out/results' already exists.\n",
      "57.90% = cola AP \t||\tscore_threhold=0.5 : F1=0.59 ; Recall=63.33% ; Precision=55.88%\n",
      "mAP = 57.90%\n",
      "Path '/home/zhangyouan/桌面/zya/NN_net/network/SSD/IMX_681_ssd_mobilenet_git/keras/detection/SSD_ipynb_transfer_callback_0919_cola/output/20231205/loss_2023_12_06_09_08_36' already exists.\n",
      "Get map done.\n",
      "34/34 [==============================] - 6s 165ms/step - batch: 16.5000 - size: 32.0000 - loss: 0.0972 - val_loss: 9.3724\n",
      "Epoch 381/500\n",
      "34/34 [==============================] - 4s 121ms/step - batch: 16.5000 - size: 32.0000 - loss: 0.0967 - val_loss: 9.3877\n",
      "Epoch 382/500\n",
      "34/34 [==============================] - 4s 113ms/step - batch: 16.5000 - size: 32.0000 - loss: 0.0980 - val_loss: 9.3904\n",
      "Epoch 383/500\n",
      "34/34 [==============================] - 4s 125ms/step - batch: 16.5000 - size: 32.0000 - loss: 0.0961 - val_loss: 9.4265\n",
      "Epoch 384/500\n",
      "34/34 [==============================] - 4s 122ms/step - batch: 16.5000 - size: 32.0000 - loss: 0.0970 - val_loss: 9.4380\n",
      "Epoch 385/500\n",
      "34/34 [==============================] - 4s 123ms/step - batch: 16.5000 - size: 32.0000 - loss: 0.0948 - val_loss: 9.3948\n",
      "Epoch 386/500\n",
      "34/34 [==============================] - 4s 123ms/step - batch: 16.5000 - size: 32.0000 - loss: 0.0968 - val_loss: 9.4298\n",
      "Epoch 387/500\n",
      "34/34 [==============================] - 4s 126ms/step - batch: 16.5000 - size: 32.0000 - loss: 0.0974 - val_loss: 9.4401\n",
      "Epoch 388/500\n",
      "34/34 [==============================] - 4s 122ms/step - batch: 16.5000 - size: 32.0000 - loss: 0.0914 - val_loss: 9.4228\n",
      "Epoch 389/500\n",
      "34/34 [==============================] - 4s 121ms/step - batch: 16.5000 - size: 32.0000 - loss: 0.0954 - val_loss: 9.4227\n",
      "Epoch 390/500\n",
      "34/34 [==============================] - ETA: 0s - batch: 16.5000 - size: 32.0000 - loss: 0.0944Get map.\n"
     ]
    },
    {
     "name": "stderr",
     "output_type": "stream",
     "text": [
      "100%|██████████| 122/122 [00:01<00:00, 118.80it/s]\n"
     ]
    },
    {
     "name": "stdout",
     "output_type": "stream",
     "text": [
      "Calculate Map.\n",
      "Path '.temp_map_out/results' already exists.\n",
      "57.04% = cola AP \t||\tscore_threhold=0.5 : F1=0.58 ; Recall=63.33% ; Precision=54.29%\n",
      "mAP = 57.04%\n",
      "Path '/home/zhangyouan/桌面/zya/NN_net/network/SSD/IMX_681_ssd_mobilenet_git/keras/detection/SSD_ipynb_transfer_callback_0919_cola/output/20231205/loss_2023_12_06_09_08_36' already exists.\n",
      "Get map done.\n",
      "34/34 [==============================] - 6s 165ms/step - batch: 16.5000 - size: 32.0000 - loss: 0.0944 - val_loss: 9.4329\n",
      "Epoch 391/500\n",
      "34/34 [==============================] - 4s 112ms/step - batch: 16.5000 - size: 32.0000 - loss: 0.1002 - val_loss: 9.4616\n",
      "Epoch 392/500\n",
      "34/34 [==============================] - 4s 122ms/step - batch: 16.5000 - size: 32.0000 - loss: 0.0917 - val_loss: 9.4962\n",
      "Epoch 393/500\n",
      "34/34 [==============================] - 4s 122ms/step - batch: 16.5000 - size: 32.0000 - loss: 0.0942 - val_loss: 9.4608\n",
      "Epoch 394/500\n",
      "34/34 [==============================] - 4s 122ms/step - batch: 16.5000 - size: 32.0000 - loss: 0.0951 - val_loss: 9.4582\n",
      "Epoch 395/500\n",
      "34/34 [==============================] - 4s 122ms/step - batch: 16.5000 - size: 32.0000 - loss: 0.0929 - val_loss: 9.4647\n",
      "Epoch 396/500\n",
      "34/34 [==============================] - 4s 123ms/step - batch: 16.5000 - size: 32.0000 - loss: 0.0944 - val_loss: 9.4649\n",
      "Epoch 397/500\n",
      "34/34 [==============================] - 4s 121ms/step - batch: 16.5000 - size: 32.0000 - loss: 0.0880 - val_loss: 9.4903\n",
      "Epoch 398/500\n",
      "34/34 [==============================] - 4s 122ms/step - batch: 16.5000 - size: 32.0000 - loss: 0.0963 - val_loss: 9.4830\n",
      "Epoch 399/500\n",
      "34/34 [==============================] - 4s 122ms/step - batch: 16.5000 - size: 32.0000 - loss: 0.0883 - val_loss: 9.4776\n",
      "Epoch 400/500\n",
      "34/34 [==============================] - ETA: 0s - batch: 16.5000 - size: 32.0000 - loss: 0.0938Get map.\n"
     ]
    },
    {
     "name": "stderr",
     "output_type": "stream",
     "text": [
      "100%|██████████| 122/122 [00:00<00:00, 123.61it/s]\n"
     ]
    },
    {
     "name": "stdout",
     "output_type": "stream",
     "text": [
      "Calculate Map.\n",
      "Path '.temp_map_out/results' already exists.\n",
      "58.06% = cola AP \t||\tscore_threhold=0.5 : F1=0.60 ; Recall=65.00% ; Precision=54.93%\n",
      "mAP = 58.06%\n",
      "Path '/home/zhangyouan/桌面/zya/NN_net/network/SSD/IMX_681_ssd_mobilenet_git/keras/detection/SSD_ipynb_transfer_callback_0919_cola/output/20231205/loss_2023_12_06_09_08_36' already exists.\n",
      "Get map done.\n",
      "34/34 [==============================] - 6s 164ms/step - batch: 16.5000 - size: 32.0000 - loss: 0.0938 - val_loss: 9.4840\n",
      "Epoch 401/500\n",
      "34/34 [==============================] - 4s 110ms/step - batch: 16.5000 - size: 32.0000 - loss: 0.0897 - val_loss: 9.5019\n",
      "Epoch 402/500\n",
      "34/34 [==============================] - 4s 119ms/step - batch: 16.5000 - size: 32.0000 - loss: 0.0890 - val_loss: 9.4920\n",
      "Epoch 403/500\n",
      "34/34 [==============================] - 4s 123ms/step - batch: 16.5000 - size: 32.0000 - loss: 0.0917 - val_loss: 9.4846\n",
      "Epoch 404/500\n",
      "34/34 [==============================] - 4s 122ms/step - batch: 16.5000 - size: 32.0000 - loss: 0.0918 - val_loss: 9.4936\n",
      "Epoch 405/500\n",
      "34/34 [==============================] - 4s 122ms/step - batch: 16.5000 - size: 32.0000 - loss: 0.0915 - val_loss: 9.4768\n",
      "Epoch 406/500\n",
      "34/34 [==============================] - 4s 125ms/step - batch: 16.5000 - size: 32.0000 - loss: 0.0884 - val_loss: 9.4929\n",
      "Epoch 407/500\n",
      "34/34 [==============================] - 4s 123ms/step - batch: 16.5000 - size: 32.0000 - loss: 0.0876 - val_loss: 9.5400\n",
      "Epoch 408/500\n",
      "34/34 [==============================] - 4s 122ms/step - batch: 16.5000 - size: 32.0000 - loss: 0.0933 - val_loss: 9.5247\n",
      "Epoch 409/500\n",
      "34/34 [==============================] - 4s 122ms/step - batch: 16.5000 - size: 32.0000 - loss: 0.0870 - val_loss: 9.5241\n",
      "Epoch 410/500\n",
      "34/34 [==============================] - ETA: 0s - batch: 16.5000 - size: 32.0000 - loss: 0.0869Get map.\n"
     ]
    },
    {
     "name": "stderr",
     "output_type": "stream",
     "text": [
      "100%|██████████| 122/122 [00:00<00:00, 128.45it/s]\n"
     ]
    },
    {
     "name": "stdout",
     "output_type": "stream",
     "text": [
      "Calculate Map.\n",
      "Path '.temp_map_out/results' already exists.\n",
      "57.89% = cola AP \t||\tscore_threhold=0.5 : F1=0.60 ; Recall=65.00% ; Precision=56.52%\n",
      "mAP = 57.89%\n",
      "Path '/home/zhangyouan/桌面/zya/NN_net/network/SSD/IMX_681_ssd_mobilenet_git/keras/detection/SSD_ipynb_transfer_callback_0919_cola/output/20231205/loss_2023_12_06_09_08_36' already exists.\n",
      "Get map done.\n",
      "34/34 [==============================] - 5s 162ms/step - batch: 16.5000 - size: 32.0000 - loss: 0.0869 - val_loss: 9.5387\n",
      "Epoch 411/500\n",
      "34/34 [==============================] - 4s 110ms/step - batch: 16.5000 - size: 32.0000 - loss: 0.0906 - val_loss: 9.5275\n",
      "Epoch 412/500\n",
      "34/34 [==============================] - 4s 122ms/step - batch: 16.5000 - size: 32.0000 - loss: 0.0907 - val_loss: 9.5152\n",
      "Epoch 413/500\n",
      "34/34 [==============================] - 4s 122ms/step - batch: 16.5000 - size: 32.0000 - loss: 0.0892 - val_loss: 9.5358\n",
      "Epoch 414/500\n",
      "34/34 [==============================] - 4s 122ms/step - batch: 16.5000 - size: 32.0000 - loss: 0.0874 - val_loss: 9.5396\n",
      "Epoch 415/500\n",
      "34/34 [==============================] - 4s 123ms/step - batch: 16.5000 - size: 32.0000 - loss: 0.0871 - val_loss: 9.5549\n",
      "Epoch 416/500\n",
      "34/34 [==============================] - 4s 122ms/step - batch: 16.5000 - size: 32.0000 - loss: 0.0851 - val_loss: 9.5270\n",
      "Epoch 417/500\n",
      "34/34 [==============================] - 4s 122ms/step - batch: 16.5000 - size: 32.0000 - loss: 0.0867 - val_loss: 9.5593\n",
      "Epoch 418/500\n",
      "34/34 [==============================] - 4s 125ms/step - batch: 16.5000 - size: 32.0000 - loss: 0.0881 - val_loss: 9.5443\n",
      "Epoch 419/500\n",
      "34/34 [==============================] - 4s 122ms/step - batch: 16.5000 - size: 32.0000 - loss: 0.0862 - val_loss: 9.5488\n",
      "Epoch 420/500\n",
      "34/34 [==============================] - ETA: 0s - batch: 16.5000 - size: 32.0000 - loss: 0.0866Get map.\n"
     ]
    },
    {
     "name": "stderr",
     "output_type": "stream",
     "text": [
      "100%|██████████| 122/122 [00:01<00:00, 117.63it/s]\n"
     ]
    },
    {
     "name": "stdout",
     "output_type": "stream",
     "text": [
      "Calculate Map.\n",
      "Path '.temp_map_out/results' already exists.\n",
      "57.71% = cola AP \t||\tscore_threhold=0.5 : F1=0.60 ; Recall=65.00% ; Precision=55.71%\n",
      "mAP = 57.71%\n",
      "Path '/home/zhangyouan/桌面/zya/NN_net/network/SSD/IMX_681_ssd_mobilenet_git/keras/detection/SSD_ipynb_transfer_callback_0919_cola/output/20231205/loss_2023_12_06_09_08_36' already exists.\n",
      "Get map done.\n",
      "34/34 [==============================] - 5s 163ms/step - batch: 16.5000 - size: 32.0000 - loss: 0.0866 - val_loss: 9.5565\n",
      "Epoch 421/500\n",
      "34/34 [==============================] - 4s 105ms/step - batch: 16.5000 - size: 32.0000 - loss: 0.0856 - val_loss: 9.5379\n",
      "Epoch 422/500\n",
      "34/34 [==============================] - 4s 125ms/step - batch: 16.5000 - size: 32.0000 - loss: 0.0854 - val_loss: 9.5578\n",
      "Epoch 423/500\n",
      "34/34 [==============================] - 4s 123ms/step - batch: 16.5000 - size: 32.0000 - loss: 0.0855 - val_loss: 9.5558\n",
      "Epoch 424/500\n",
      "34/34 [==============================] - 4s 123ms/step - batch: 16.5000 - size: 32.0000 - loss: 0.0849 - val_loss: 9.5672\n",
      "Epoch 425/500\n",
      "34/34 [==============================] - 4s 123ms/step - batch: 16.5000 - size: 32.0000 - loss: 0.0847 - val_loss: 9.5715\n",
      "Epoch 426/500\n",
      "34/34 [==============================] - 4s 124ms/step - batch: 16.5000 - size: 32.0000 - loss: 0.0867 - val_loss: 9.5639\n",
      "Epoch 427/500\n",
      "34/34 [==============================] - 4s 124ms/step - batch: 16.5000 - size: 32.0000 - loss: 0.0831 - val_loss: 9.5575\n",
      "Epoch 428/500\n",
      "34/34 [==============================] - 4s 123ms/step - batch: 16.5000 - size: 32.0000 - loss: 0.0852 - val_loss: 9.5875\n",
      "Epoch 429/500\n",
      "34/34 [==============================] - 4s 124ms/step - batch: 16.5000 - size: 32.0000 - loss: 0.0847 - val_loss: 9.5727\n",
      "Epoch 430/500\n",
      "34/34 [==============================] - ETA: 0s - batch: 16.5000 - size: 32.0000 - loss: 0.0856Get map.\n"
     ]
    },
    {
     "name": "stderr",
     "output_type": "stream",
     "text": [
      "100%|██████████| 122/122 [00:01<00:00, 111.60it/s]\n"
     ]
    },
    {
     "name": "stdout",
     "output_type": "stream",
     "text": [
      "Calculate Map.\n",
      "Path '.temp_map_out/results' already exists.\n",
      "57.85% = cola AP \t||\tscore_threhold=0.5 : F1=0.60 ; Recall=65.00% ; Precision=55.71%\n",
      "mAP = 57.85%\n",
      "Path '/home/zhangyouan/桌面/zya/NN_net/network/SSD/IMX_681_ssd_mobilenet_git/keras/detection/SSD_ipynb_transfer_callback_0919_cola/output/20231205/loss_2023_12_06_09_08_36' already exists.\n",
      "Get map done.\n",
      "34/34 [==============================] - 6s 169ms/step - batch: 16.5000 - size: 32.0000 - loss: 0.0856 - val_loss: 9.5804\n",
      "Epoch 431/500\n",
      "34/34 [==============================] - 3s 102ms/step - batch: 16.5000 - size: 32.0000 - loss: 0.0834 - val_loss: 9.5596\n",
      "Epoch 432/500\n",
      "34/34 [==============================] - 4s 122ms/step - batch: 16.5000 - size: 32.0000 - loss: 0.0836 - val_loss: 9.5778\n",
      "Epoch 433/500\n",
      "34/34 [==============================] - 4s 123ms/step - batch: 16.5000 - size: 32.0000 - loss: 0.0821 - val_loss: 9.5908\n",
      "Epoch 434/500\n",
      "34/34 [==============================] - 4s 125ms/step - batch: 16.5000 - size: 32.0000 - loss: 0.0862 - val_loss: 9.5929\n",
      "Epoch 435/500\n",
      "34/34 [==============================] - 4s 121ms/step - batch: 16.5000 - size: 32.0000 - loss: 0.0846 - val_loss: 9.5965\n",
      "Epoch 436/500\n",
      "34/34 [==============================] - 4s 122ms/step - batch: 16.5000 - size: 32.0000 - loss: 0.0826 - val_loss: 9.6065\n",
      "Epoch 437/500\n",
      "34/34 [==============================] - 4s 123ms/step - batch: 16.5000 - size: 32.0000 - loss: 0.0837 - val_loss: 9.5917\n",
      "Epoch 438/500\n",
      "34/34 [==============================] - 4s 123ms/step - batch: 16.5000 - size: 32.0000 - loss: 0.0804 - val_loss: 9.5868\n",
      "Epoch 439/500\n",
      "34/34 [==============================] - 4s 124ms/step - batch: 16.5000 - size: 32.0000 - loss: 0.0811 - val_loss: 9.5893\n",
      "Epoch 440/500\n",
      "34/34 [==============================] - ETA: 0s - batch: 16.5000 - size: 32.0000 - loss: 0.0864Get map.\n"
     ]
    },
    {
     "name": "stderr",
     "output_type": "stream",
     "text": [
      "100%|██████████| 122/122 [00:01<00:00, 103.87it/s]\n"
     ]
    },
    {
     "name": "stdout",
     "output_type": "stream",
     "text": [
      "Calculate Map.\n",
      "Path '.temp_map_out/results' already exists.\n",
      "57.88% = cola AP \t||\tscore_threhold=0.5 : F1=0.59 ; Recall=63.33% ; Precision=55.88%\n",
      "mAP = 57.88%\n",
      "Path '/home/zhangyouan/桌面/zya/NN_net/network/SSD/IMX_681_ssd_mobilenet_git/keras/detection/SSD_ipynb_transfer_callback_0919_cola/output/20231205/loss_2023_12_06_09_08_36' already exists.\n",
      "Get map done.\n",
      "34/34 [==============================] - 6s 168ms/step - batch: 16.5000 - size: 32.0000 - loss: 0.0864 - val_loss: 9.6062\n",
      "Epoch 441/500\n",
      "34/34 [==============================] - 4s 104ms/step - batch: 16.5000 - size: 32.0000 - loss: 0.0827 - val_loss: 9.5945\n",
      "Epoch 442/500\n",
      "34/34 [==============================] - 4s 122ms/step - batch: 16.5000 - size: 32.0000 - loss: 0.0864 - val_loss: 9.6086\n",
      "Epoch 443/500\n",
      "34/34 [==============================] - 4s 122ms/step - batch: 16.5000 - size: 32.0000 - loss: 0.0801 - val_loss: 9.6083\n",
      "Epoch 444/500\n",
      "34/34 [==============================] - 4s 122ms/step - batch: 16.5000 - size: 32.0000 - loss: 0.0901 - val_loss: 9.6044\n",
      "Epoch 445/500\n",
      "34/34 [==============================] - 4s 127ms/step - batch: 16.5000 - size: 32.0000 - loss: 0.0772 - val_loss: 9.6252\n",
      "Epoch 446/500\n",
      "34/34 [==============================] - 4s 123ms/step - batch: 16.5000 - size: 32.0000 - loss: 0.0827 - val_loss: 9.6087\n",
      "Epoch 447/500\n",
      "34/34 [==============================] - 4s 123ms/step - batch: 16.5000 - size: 32.0000 - loss: 0.0823 - val_loss: 9.6201\n",
      "Epoch 448/500\n",
      "34/34 [==============================] - 4s 122ms/step - batch: 16.5000 - size: 32.0000 - loss: 0.0885 - val_loss: 9.6254\n",
      "Epoch 449/500\n",
      "34/34 [==============================] - 4s 124ms/step - batch: 16.5000 - size: 32.0000 - loss: 0.0787 - val_loss: 9.6186\n",
      "Epoch 450/500\n",
      "34/34 [==============================] - ETA: 0s - batch: 16.5000 - size: 32.0000 - loss: 0.0808Get map.\n"
     ]
    },
    {
     "name": "stderr",
     "output_type": "stream",
     "text": [
      "100%|██████████| 122/122 [00:01<00:00, 114.48it/s]\n"
     ]
    },
    {
     "name": "stdout",
     "output_type": "stream",
     "text": [
      "Calculate Map.\n",
      "Path '.temp_map_out/results' already exists.\n",
      "57.88% = cola AP \t||\tscore_threhold=0.5 : F1=0.60 ; Recall=65.00% ; Precision=55.71%\n",
      "mAP = 57.88%\n",
      "Path '/home/zhangyouan/桌面/zya/NN_net/network/SSD/IMX_681_ssd_mobilenet_git/keras/detection/SSD_ipynb_transfer_callback_0919_cola/output/20231205/loss_2023_12_06_09_08_36' already exists.\n",
      "Get map done.\n",
      "34/34 [==============================] - 6s 166ms/step - batch: 16.5000 - size: 32.0000 - loss: 0.0808 - val_loss: 9.6222\n",
      "Epoch 451/500\n",
      "34/34 [==============================] - 4s 103ms/step - batch: 16.5000 - size: 32.0000 - loss: 0.0813 - val_loss: 9.6148\n",
      "Epoch 452/500\n",
      "34/34 [==============================] - 4s 123ms/step - batch: 16.5000 - size: 32.0000 - loss: 0.0830 - val_loss: 9.6173\n",
      "Epoch 453/500\n",
      "34/34 [==============================] - 4s 122ms/step - batch: 16.5000 - size: 32.0000 - loss: 0.0809 - val_loss: 9.6257\n",
      "Epoch 454/500\n",
      "34/34 [==============================] - 4s 128ms/step - batch: 16.5000 - size: 32.0000 - loss: 0.0828 - val_loss: 9.6227\n",
      "Epoch 455/500\n",
      "34/34 [==============================] - 4s 121ms/step - batch: 16.5000 - size: 32.0000 - loss: 0.0835 - val_loss: 9.6304\n",
      "Epoch 456/500\n",
      "34/34 [==============================] - 4s 123ms/step - batch: 16.5000 - size: 32.0000 - loss: 0.0806 - val_loss: 9.6317\n",
      "Epoch 457/500\n",
      "34/34 [==============================] - 4s 125ms/step - batch: 16.5000 - size: 32.0000 - loss: 0.0813 - val_loss: 9.6391\n",
      "Epoch 458/500\n",
      "34/34 [==============================] - 4s 126ms/step - batch: 16.5000 - size: 32.0000 - loss: 0.0827 - val_loss: 9.6333\n",
      "Epoch 459/500\n",
      "34/34 [==============================] - 4s 123ms/step - batch: 16.5000 - size: 32.0000 - loss: 0.0796 - val_loss: 9.6323\n",
      "Epoch 460/500\n",
      "34/34 [==============================] - ETA: 0s - batch: 16.5000 - size: 32.0000 - loss: 0.0818Get map.\n"
     ]
    },
    {
     "name": "stderr",
     "output_type": "stream",
     "text": [
      "100%|██████████| 122/122 [00:01<00:00, 114.05it/s]\n"
     ]
    },
    {
     "name": "stdout",
     "output_type": "stream",
     "text": [
      "Calculate Map.\n",
      "Path '.temp_map_out/results' already exists.\n",
      "57.87% = cola AP \t||\tscore_threhold=0.5 : F1=0.59 ; Recall=63.33% ; Precision=55.07%\n",
      "mAP = 57.87%\n",
      "Path '/home/zhangyouan/桌面/zya/NN_net/network/SSD/IMX_681_ssd_mobilenet_git/keras/detection/SSD_ipynb_transfer_callback_0919_cola/output/20231205/loss_2023_12_06_09_08_36' already exists.\n",
      "Get map done.\n",
      "34/34 [==============================] - 6s 165ms/step - batch: 16.5000 - size: 32.0000 - loss: 0.0818 - val_loss: 9.6232\n",
      "Epoch 461/500\n",
      "34/34 [==============================] - 3s 102ms/step - batch: 16.5000 - size: 32.0000 - loss: 0.0797 - val_loss: 9.6242\n",
      "Epoch 462/500\n",
      "34/34 [==============================] - 4s 122ms/step - batch: 16.5000 - size: 32.0000 - loss: 0.0820 - val_loss: 9.6343\n",
      "Epoch 463/500\n",
      "34/34 [==============================] - 4s 122ms/step - batch: 16.5000 - size: 32.0000 - loss: 0.0848 - val_loss: 9.6279\n",
      "Epoch 464/500\n",
      "34/34 [==============================] - 4s 122ms/step - batch: 16.5000 - size: 32.0000 - loss: 0.0822 - val_loss: 9.6357\n",
      "Epoch 465/500\n",
      "34/34 [==============================] - 4s 122ms/step - batch: 16.5000 - size: 32.0000 - loss: 0.0811 - val_loss: 9.6345\n",
      "Epoch 466/500\n",
      "34/34 [==============================] - 4s 122ms/step - batch: 16.5000 - size: 32.0000 - loss: 0.0768 - val_loss: 9.6368\n",
      "Epoch 467/500\n",
      "34/34 [==============================] - 4s 123ms/step - batch: 16.5000 - size: 32.0000 - loss: 0.0842 - val_loss: 9.6347\n",
      "Epoch 468/500\n",
      "34/34 [==============================] - 4s 120ms/step - batch: 16.5000 - size: 32.0000 - loss: 0.0802 - val_loss: 9.6341\n",
      "Epoch 469/500\n",
      "34/34 [==============================] - 4s 122ms/step - batch: 16.5000 - size: 32.0000 - loss: 0.0868 - val_loss: 9.6342\n",
      "Epoch 470/500\n",
      "34/34 [==============================] - ETA: 0s - batch: 16.5000 - size: 32.0000 - loss: 0.0806Get map.\n"
     ]
    },
    {
     "name": "stderr",
     "output_type": "stream",
     "text": [
      "100%|██████████| 122/122 [00:01<00:00, 111.05it/s]\n"
     ]
    },
    {
     "name": "stdout",
     "output_type": "stream",
     "text": [
      "Calculate Map.\n",
      "Path '.temp_map_out/results' already exists.\n",
      "57.83% = cola AP \t||\tscore_threhold=0.5 : F1=0.59 ; Recall=63.33% ; Precision=55.07%\n",
      "mAP = 57.83%\n",
      "Path '/home/zhangyouan/桌面/zya/NN_net/network/SSD/IMX_681_ssd_mobilenet_git/keras/detection/SSD_ipynb_transfer_callback_0919_cola/output/20231205/loss_2023_12_06_09_08_36' already exists.\n",
      "Get map done.\n",
      "34/34 [==============================] - 5s 162ms/step - batch: 16.5000 - size: 32.0000 - loss: 0.0806 - val_loss: 9.6360\n",
      "Epoch 471/500\n",
      "34/34 [==============================] - 3s 102ms/step - batch: 16.5000 - size: 32.0000 - loss: 0.0776 - val_loss: 9.6397\n",
      "Epoch 472/500\n",
      "34/34 [==============================] - 4s 122ms/step - batch: 16.5000 - size: 32.0000 - loss: 0.0823 - val_loss: 9.6362\n",
      "Epoch 473/500\n",
      "34/34 [==============================] - 4s 122ms/step - batch: 16.5000 - size: 32.0000 - loss: 0.0798 - val_loss: 9.6460\n",
      "Epoch 474/500\n",
      "34/34 [==============================] - 4s 121ms/step - batch: 16.5000 - size: 32.0000 - loss: 0.0826 - val_loss: 9.6431\n",
      "Epoch 475/500\n",
      "34/34 [==============================] - 4s 125ms/step - batch: 16.5000 - size: 32.0000 - loss: 0.0828 - val_loss: 9.6438\n",
      "Epoch 476/500\n",
      "34/34 [==============================] - 4s 124ms/step - batch: 16.5000 - size: 32.0000 - loss: 0.0800 - val_loss: 9.6433\n",
      "Epoch 477/500\n",
      "34/34 [==============================] - 4s 122ms/step - batch: 16.5000 - size: 32.0000 - loss: 0.0806 - val_loss: 9.6405\n",
      "Epoch 478/500\n",
      "34/34 [==============================] - 4s 122ms/step - batch: 16.5000 - size: 32.0000 - loss: 0.0778 - val_loss: 9.6431\n",
      "Epoch 479/500\n",
      "34/34 [==============================] - 4s 125ms/step - batch: 16.5000 - size: 32.0000 - loss: 0.0822 - val_loss: 9.6415\n",
      "Epoch 480/500\n",
      "34/34 [==============================] - ETA: 0s - batch: 16.5000 - size: 32.0000 - loss: 0.0815Get map.\n"
     ]
    },
    {
     "name": "stderr",
     "output_type": "stream",
     "text": [
      "100%|██████████| 122/122 [00:01<00:00, 112.51it/s]\n"
     ]
    },
    {
     "name": "stdout",
     "output_type": "stream",
     "text": [
      "Calculate Map.\n",
      "Path '.temp_map_out/results' already exists.\n",
      "57.83% = cola AP \t||\tscore_threhold=0.5 : F1=0.59 ; Recall=63.33% ; Precision=55.07%\n",
      "mAP = 57.83%\n",
      "Path '/home/zhangyouan/桌面/zya/NN_net/network/SSD/IMX_681_ssd_mobilenet_git/keras/detection/SSD_ipynb_transfer_callback_0919_cola/output/20231205/loss_2023_12_06_09_08_36' already exists.\n",
      "Get map done.\n",
      "34/34 [==============================] - 6s 165ms/step - batch: 16.5000 - size: 32.0000 - loss: 0.0815 - val_loss: 9.6447\n",
      "Epoch 481/500\n",
      "34/34 [==============================] - 3s 88ms/step - batch: 16.5000 - size: 32.0000 - loss: 0.0773 - val_loss: 9.6428\n",
      "Epoch 482/500\n",
      "34/34 [==============================] - 3s 74ms/step - batch: 16.5000 - size: 32.0000 - loss: 0.0837 - val_loss: 9.6424\n",
      "Epoch 483/500\n",
      "34/34 [==============================] - 3s 74ms/step - batch: 16.5000 - size: 32.0000 - loss: 0.0823 - val_loss: 9.6402\n",
      "Epoch 484/500\n",
      "34/34 [==============================] - 3s 74ms/step - batch: 16.5000 - size: 32.0000 - loss: 0.0800 - val_loss: 9.6425\n",
      "Epoch 485/500\n",
      "34/34 [==============================] - 3s 74ms/step - batch: 16.5000 - size: 32.0000 - loss: 0.0806 - val_loss: 9.6421\n",
      "Epoch 486/500\n",
      "34/34 [==============================] - 3s 74ms/step - batch: 16.5000 - size: 32.0000 - loss: 0.0776 - val_loss: 9.6430\n",
      "Epoch 487/500\n",
      "34/34 [==============================] - 3s 77ms/step - batch: 16.5000 - size: 32.0000 - loss: 0.0805 - val_loss: 9.6413\n",
      "Epoch 488/500\n",
      "34/34 [==============================] - 3s 77ms/step - batch: 16.5000 - size: 32.0000 - loss: 0.0790 - val_loss: 9.6422\n",
      "Epoch 489/500\n",
      "34/34 [==============================] - 3s 75ms/step - batch: 16.5000 - size: 32.0000 - loss: 0.0808 - val_loss: 9.6432\n",
      "Epoch 490/500\n",
      "34/34 [==============================] - ETA: 0s - batch: 16.5000 - size: 32.0000 - loss: 0.0801Get map.\n"
     ]
    },
    {
     "name": "stderr",
     "output_type": "stream",
     "text": [
      "100%|██████████| 122/122 [00:00<00:00, 237.00it/s]\n"
     ]
    },
    {
     "name": "stdout",
     "output_type": "stream",
     "text": [
      "Calculate Map.\n",
      "Path '.temp_map_out/results' already exists.\n",
      "57.84% = cola AP \t||\tscore_threhold=0.5 : F1=0.59 ; Recall=63.33% ; Precision=55.07%\n",
      "mAP = 57.84%\n",
      "Path '/home/zhangyouan/桌面/zya/NN_net/network/SSD/IMX_681_ssd_mobilenet_git/keras/detection/SSD_ipynb_transfer_callback_0919_cola/output/20231205/loss_2023_12_06_09_08_36' already exists.\n",
      "Get map done.\n",
      "34/34 [==============================] - 3s 95ms/step - batch: 16.5000 - size: 32.0000 - loss: 0.0801 - val_loss: 9.6434\n",
      "Epoch 491/500\n",
      "34/34 [==============================] - 2s 69ms/step - batch: 16.5000 - size: 32.0000 - loss: 0.0804 - val_loss: 9.6432\n",
      "Epoch 492/500\n",
      "34/34 [==============================] - 2s 70ms/step - batch: 16.5000 - size: 32.0000 - loss: 0.0798 - val_loss: 9.6428\n",
      "Epoch 493/500\n",
      "34/34 [==============================] - 2s 70ms/step - batch: 16.5000 - size: 32.0000 - loss: 0.0799 - val_loss: 9.6436\n",
      "Epoch 494/500\n",
      "34/34 [==============================] - 3s 74ms/step - batch: 16.5000 - size: 32.0000 - loss: 0.0801 - val_loss: 9.6439\n",
      "Epoch 495/500\n",
      "34/34 [==============================] - 2s 71ms/step - batch: 16.5000 - size: 32.0000 - loss: 0.0815 - val_loss: 9.6432\n",
      "Epoch 496/500\n",
      "34/34 [==============================] - 2s 71ms/step - batch: 16.5000 - size: 32.0000 - loss: 0.0773 - val_loss: 9.6433\n",
      "Epoch 497/500\n",
      "34/34 [==============================] - 2s 70ms/step - batch: 16.5000 - size: 32.0000 - loss: 0.0822 - val_loss: 9.6428\n",
      "Epoch 498/500\n",
      "34/34 [==============================] - 2s 71ms/step - batch: 16.5000 - size: 32.0000 - loss: 0.0787 - val_loss: 9.6431\n",
      "Epoch 499/500\n",
      "34/34 [==============================] - 2s 71ms/step - batch: 16.5000 - size: 32.0000 - loss: 0.0794 - val_loss: 9.6431\n",
      "Epoch 500/500\n",
      "34/34 [==============================] - ETA: 0s - batch: 16.5000 - size: 32.0000 - loss: 0.0804Get map.\n"
     ]
    },
    {
     "name": "stderr",
     "output_type": "stream",
     "text": [
      "100%|██████████| 122/122 [00:00<00:00, 193.86it/s]\n"
     ]
    },
    {
     "name": "stdout",
     "output_type": "stream",
     "text": [
      "Calculate Map.\n",
      "Path '.temp_map_out/results' already exists.\n",
      "57.84% = cola AP \t||\tscore_threhold=0.5 : F1=0.59 ; Recall=63.33% ; Precision=55.07%\n",
      "mAP = 57.84%\n",
      "Path '/home/zhangyouan/桌面/zya/NN_net/network/SSD/IMX_681_ssd_mobilenet_git/keras/detection/SSD_ipynb_transfer_callback_0919_cola/output/20231205/loss_2023_12_06_09_08_36' already exists.\n",
      "Get map done.\n",
      "34/34 [==============================] - 3s 94ms/step - batch: 16.5000 - size: 32.0000 - loss: 0.0804 - val_loss: 9.6431\n"
     ]
    },
    {
     "name": "stderr",
     "output_type": "stream",
     "text": [
      "/home/zhangyouan/anaconda3/envs/stc/lib/python3.10/site-packages/keras/src/engine/training.py:3000: UserWarning: You are saving your model as an HDF5 file via `model.save()`. This file format is considered legacy. We recommend using instead the native Keras format, e.g. `model.save('my_model.keras')`.\n",
      "  saving_api.save_model(\n"
     ]
    },
    {
     "name": "stdout",
     "output_type": "stream",
     "text": [
      "INFO:tensorflow:Assets written to: /home/zhangyouan/桌面/zya/NN_net/network/SSD/IMX_681_ssd_mobilenet_git/keras/detection/SSD_ipynb_transfer_callback_0919_cola/output/20231205/cola_detection_test_callback_2.pb/assets\n"
     ]
    },
    {
     "name": "stderr",
     "output_type": "stream",
     "text": [
      "INFO:tensorflow:Assets written to: /home/zhangyouan/桌面/zya/NN_net/network/SSD/IMX_681_ssd_mobilenet_git/keras/detection/SSD_ipynb_transfer_callback_0919_cola/output/20231205/cola_detection_test_callback_2.pb/assets\n"
     ]
    }
   ],
   "source": [
    "from keras.regularizers import l2\n",
    "\n",
    "if __name__ == \"__main__\":\n",
    "    \n",
    "    # 设置训练参数\n",
    "    Epoch = 500  # 训练100 epochs\n",
    "    lr = 1e-3  # Adam优化器，所以较小的学习率\n",
    "    optimizer_type = \"Adam\"\n",
    "    momentum = 0.937\n",
    "    batch_size = 32\n",
    "    imgcolor = 'grey'  # imgcolor选“rgb” or “grey”, 则处理图像变单通道或者三通道\n",
    "    tmp_dir = str(datetime.datetime.strftime(datetime.datetime.now(), '%Y%m%d'))\n",
    "    save_dir = \"/home/zhangyouan/桌面/zya/NN_net/network/SSD/IMX_681_ssd_mobilenet_git/keras/detection/SSD_ipynb_transfer_callback_0919_cola/output/20231205\"\n",
    "        \n",
    "    # 设置SSD参数\n",
    "    cls_name_path = \"./model_data/voc_classes.txt\"  # 导入目标检测类别；\n",
    "    input_shape = [120, 160]  # 输入的尺寸大小\n",
    "    anchor_size = [32, 59, 86, 113, 141, 168]  # 用于设定先验框的大小，根据公式计算而来；如果要检测小物体，修改浅层先验框的大小，越小的话，识别的物体越小；    \n",
    "    train_annotation_path = r'/home/zhangyouan/桌面/zya/dataset/681/cola_and_hand/2007_train.txt'  # 训练图片路径和标签\n",
    "    val_annotation_path = r'/home/zhangyouan/桌面/zya/dataset/681/cola_and_hand/2007_val.txt'  # 验证图片路径和标签\n",
    "        \n",
    "    # 1. 获取classes和anchor\n",
    "    class_names, num_cls = get_classes(cls_name_path)\n",
    "    num_cls += 1  # 增加一个背景类别\n",
    "    print(\"class_names:\", class_names, \"num_classes:\", num_cls)\n",
    "    \n",
    "    # 2. 获取anchors, 输出的是归一化之后的anchors\n",
    "    anchor = get_anchors(input_shape, anchor_size)\n",
    "    print(\"type:\",type(anchor), \"shape:\", np.shape(anchor))\n",
    "\n",
    "    # 3. 模型编译\n",
    "    K.clear_session()\n",
    "    model_path = \"\"\n",
    "    # model_path = \"./output/20230804_3/good_detection_test_callback.h5\"\n",
    "    model = SSD300((input_shape[0], input_shape[1], 1), num_cls)\n",
    "    # model.save(\"template.h5\")\n",
    "    # model.summary()\n",
    "    if model_path != \"\":\n",
    "        model.load_weights(model_path, by_name = True, skip_mismatch=True)\n",
    "       \n",
    "    # 4. 优化器\n",
    "    # optimizer = Adam(lr = lr, beta_1=momentum)\n",
    "    # optimizer = Adam(lr=0.001, beta_1=0.9, beta_2=0.999, epsilon=1e-08, decay=0.0)\n",
    "    from tensorflow.keras.optimizers import legacy\n",
    "    optimizer = legacy.Adam(learning_rate=0.001, beta_1=0.9, beta_2=0.999, epsilon=1e-08, decay=0.0)\n",
    "    \n",
    "    # 5. 导入数据集\n",
    "    with open(train_annotation_path, encoding='utf-8') as f:\n",
    "        train_lines = f.readlines()\n",
    "    with open(val_annotation_path, encoding='utf-8') as f:\n",
    "        val_lines = f.readlines()\n",
    "    num_train = len(train_lines)\n",
    "    num_val = len(val_lines)\n",
    "    epoch_step = num_train // batch_size\n",
    "    epoch_step_val = num_val // batch_size\n",
    "    train_dataloader = SSDDatasets(train_lines, input_shape, anchor, batch_size, num_cls, train=False, imgcolor=imgcolor)\n",
    "    val_dataloader = SSDDatasets(val_lines, input_shape, anchor, batch_size, num_cls, train=False, imgcolor=imgcolor)\n",
    "    print('Train on {} samples, val on {} samples, with batch size {}.'.format(num_train, num_val, batch_size))\n",
    "    \n",
    "    # 6. 编译模型\n",
    "    # losses = {'mbox_loc_final':MultiboxLoss(num_cls, neg_pos_ratio=3.0).compute_loc_loss,\n",
    "            #   'cls_conf_final':MultiboxLoss(num_cls, neg_pos_ratio=3.0).compute_conf_loss}\n",
    "    # losses2 = [MultiboxLoss(num_cls, neg_pos_ratio=3.0).compute_loc_loss,MultiboxLoss(num_cls, neg_pos_ratio=3.0).compute_conf_loss]\n",
    "    model.compile(optimizer=optimizer, loss = MultiboxLoss(num_cls, neg_pos_ratio=3.0).compute_loss)\n",
    "    \n",
    "    # 7. 设计learning rate;\n",
    "    total_steps = int(Epoch * num_train / batch_size)\n",
    "    # 7.1 compute the number of warmup batches.\n",
    "    warmup_epochs = 10\n",
    "    warmup_steps = int(warmup_epochs * num_train / batch_size)\n",
    "    # 7.2 create the learning rate scheduler\n",
    "    warm_up_lr = WarmUpCosineDecayScheduler(learning_rate_base=lr,\n",
    "                                            total_steps=total_steps,\n",
    "                                            warmup_learning_rate=4e-06,\n",
    "                                            warmup_steps=warmup_steps,\n",
    "                                            hold_base_rate_steps=20)\n",
    "    time_str = datetime.datetime.strftime(datetime.datetime.now(), '%Y_%m_%d_%H_%M_%S')\n",
    "    log_dir = os.path.join(save_dir, \"loss_\" + str(time_str))\n",
    "    \n",
    "    # # 8. 精度评价: pending --> 还没构建；\n",
    "    eval_flag = True\n",
    "    eval_period = 10\n",
    "    eval_callback = EvalCallback(model, input_shape, anchor, class_names, num_cls, val_lines, log_dir, eval_flag=eval_flag, period = eval_period)\n",
    "    show_config(\n",
    "        classes_path=cls_name_path, model_path=model_path, input_shape=input_shape, \\\n",
    "        Epoch=Epoch, batch_size=batch_size, \\\n",
    "        lr=lr, optimizer_type=optimizer_type, momentum=momentum, \\\n",
    "        num_train=num_train, num_val=num_val\n",
    "    )\n",
    "    \n",
    "    callbacks_list = [\n",
    "        # 早停回调，keras.callbacks.EarlyStopping(monitor='val_accuracy'， patience=4)\n",
    "        warm_up_lr, # 学习率的调整\n",
    "        # 学习率调整方法2. keras.callbacks.ReduceLROnPlateau(monitor='val_loss', factor=0.1, patience=2, verbose=0, mode='auto',min_lr=0.000001),\n",
    "        # Epoch结束回调LearningRateSchrduler(schrduler, verbose=1),\n",
    "        keras.callbacks.TensorBoard(log_dir=os.path.join(save_dir, 'unetlogs'), update_freq=1000), #参数分别为日志存储路径和每多少step进行一次记录，此处不应取太小，会拖慢训练过程\n",
    "        eval_callback,  # 精度评价；\n",
    "    ]\n",
    "    # 8. 开始训练；\n",
    "    history = model.fit_generator(\n",
    "        generator=train_dataloader,\n",
    "        steps_per_epoch=epoch_step,\n",
    "        validation_data=val_dataloader,\n",
    "        validation_steps=epoch_step_val,\n",
    "        epochs=Epoch,\n",
    "        # callbacks = [warm_up_lr]\n",
    "        callbacks = callbacks_list   \n",
    "    )  # 使用tensorboard --logdir=\"\" 调用查看loss\n",
    "    \n",
    "    record_log(history, filename = os.path.join(save_dir, \"unetlogs/log.txt\"))\n",
    "    model.save(os.path.join(save_dir, \"cola_detection_test_callback_2.h5\"))\n",
    "    model.save(os.path.join(save_dir, \"cola_detection_test_callback_2.pb\"))"
   ]
  },
  {
   "cell_type": "code",
   "execution_count": 15,
   "metadata": {},
   "outputs": [
    {
     "name": "stdout",
     "output_type": "stream",
     "text": [
      "no accuracy, only loss.\n"
     ]
    }
   ],
   "source": [
    "from log_record import record_log, read_log\n",
    "from utils import visual_train\n",
    "\n",
    "history = read_log(\"/home/zhangyouan/桌面/zya/NN_net/network/SSD/IMX_681_ssd_mobilenet_git/keras/detection/SSD_ipynb_transfer_callback/output/20230819/unetlogs/log.txt\")\n",
    "visual_train(history)"
   ]
  },
  {
   "cell_type": "code",
   "execution_count": 12,
   "metadata": {},
   "outputs": [
    {
     "name": "stdout",
     "output_type": "stream",
     "text": [
      "no accuracy, only loss.\n"
     ]
    }
   ],
   "source": [
    "from log_record import record_log, read_log\n",
    "from utils import visual_train\n",
    "\n",
    "history = read_log(\"/home/zhangyouan/桌面/zya/NN_net/network/SSD/IMX_681_ssd_mobilenet_git/keras/detection/SSD_ipynb_transfer_callback_0919_cola/output/20231205/unetlogs/log.txt\")\n",
    "visual_train(history)"
   ]
  }
 ],
 "metadata": {
  "kernelspec": {
   "display_name": "Python 3.10.4 ('stc': conda)",
   "language": "python",
   "name": "python3"
  },
  "language_info": {
   "codemirror_mode": {
    "name": "ipython",
    "version": 3
   },
   "file_extension": ".py",
   "mimetype": "text/x-python",
   "name": "python",
   "nbconvert_exporter": "python",
   "pygments_lexer": "ipython3",
   "version": "3.10.4"
  },
  "orig_nbformat": 4,
  "vscode": {
   "interpreter": {
    "hash": "f6a050d9f10360465fbc02ae273ccd06cb1948ad5cd96cc14a3b3a9694a266bf"
   }
  }
 },
 "nbformat": 4,
 "nbformat_minor": 2
}
