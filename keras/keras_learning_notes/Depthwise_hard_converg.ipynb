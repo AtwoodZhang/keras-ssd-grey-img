{
 "cells": [
  {
   "cell_type": "markdown",
   "metadata": {},
   "source": [
    "# 1. 深度可分离卷积的局限性"
   ]
  },
  {
   "cell_type": "code",
   "execution_count": 2,
   "metadata": {},
   "outputs": [
    {
     "data": {
      "text/plain": [
       "'\\n 1) 为了做模型压缩,常见方法是将正常卷积换成seperable卷积, (可分离卷积)\\n\\n 即： Conv2D = Depthwise + PointWise\\n    a. 正常卷积的大小：\\n kernel_size_w * kernel_size_h * input_channel * output_channel.\\n    b. seperable卷积的大小;\\n kernel_size_w * kernel_size_h * input_channel + input_channel * output_channel.\\n'"
      ]
     },
     "execution_count": 2,
     "metadata": {},
     "output_type": "execute_result"
    }
   ],
   "source": [
    "\"\"\"\n",
    " 1) 为了做模型压缩,常见方法是将正常卷积换成seperable卷积, (可分离卷积)\n",
    "\n",
    " 即： Conv2D = Depthwise + PointWise\n",
    "    a. 正常卷积的大小：\n",
    " kernel_size_w * kernel_size_h * input_channel * output_channel.\n",
    "    b. seperable卷积的大小;\n",
    " kernel_size_w * kernel_size_h * input_channel + input_channel * output_channel.\n",
    "\"\"\""
   ]
  },
  {
   "cell_type": "markdown",
   "metadata": {},
   "source": [
    "# 2. 关于DepthWise不太容易收敛这个问题。"
   ]
  },
  {
   "cell_type": "code",
   "execution_count": null,
   "metadata": {},
   "outputs": [],
   "source": [
    "# mobilenet V2中解释：\n",
    "# 经过激活层的tensor H*W*D，的兴趣，可能只分布在激活层的一个低维子空间，\n",
    "# 利用这一点，使用1*1卷积，将tensor降维，但是由于relu的存在，将会损失较多信息；"
   ]
  },
  {
   "cell_type": "markdown",
   "metadata": {},
   "source": [
    "https://blog.csdn.net/cuifan0814/article/details/104428037#:~:text=%E5%9B%A0%E6%AD%A4%E5%9C%A8%E8%AE%AD%E7%BB%83depthwise%20%E7%BB%93%E6%9E%84%E7%9A%84%E6%A8%A1%E5%9E%8B%E6%97%B6%E5%AE%B9%E6%98%93%E5%87%BA%E7%8E%B0%E4%B8%8D%E6%94%B6%E6%95%9B%26%5D%E7%9A%84%E6%83%85%E5%86%B5%EF%BC%8C%E5%8F%AF%E4%BB%A5%E9%80%9A%E8%BF%87%E5%90%91moblienet%20v2%E4%B8%AD%E4%B8%80%E6%A0%B7%E5%B0%86%E8%A6%81%E5%81%9Arelu%20%E5%B1%82%E7%9A%84channels,%E5%A2%9E%E5%A4%9A%E3%80%82%20%E6%88%96%E8%80%85%E5%8A%A0%E4%B8%8Askip-connection%20%E5%B0%86%E8%BE%93%E5%85%A5%E7%89%B9%E5%BE%81%E5%92%8C%E7%BB%8F%E8%BF%87relu%20%E7%9A%84%E6%95%B0%E6%8D%AE%E7%BB%93%E5%90%88%E5%9C%A8%E4%B8%80%E8%B5%B7%EF%BC%8C%E4%BC%9A%E5%87%8F%E8%BD%BBrelu%20%E9%80%A0%E6%88%90%E7%9A%84%E4%B8%8D%E6%94%B6%E6%95%9B%E6%83%85%E5%86%B5%E3%80%82\n"
   ]
  },
  {
   "cell_type": "markdown",
   "metadata": {},
   "source": [
    "# 3. 解决方法："
   ]
  },
  {
   "cell_type": "code",
   "execution_count": 3,
   "metadata": {},
   "outputs": [],
   "source": [
    "# 因此在训练depthwise 结构的模型时容易出现不收敛的情况，\n",
    "# 可以通过向moblienet v2中一样将要做relu 层的channels 增多。 \n",
    "# 或者加上skip-connection 将输入特征和经过relu 的数据结合在一起，\n",
    "# 会减轻relu 造成的不收敛情况。"
   ]
  }
 ],
 "metadata": {
  "kernelspec": {
   "display_name": "Python 3.10.4 ('stc')",
   "language": "python",
   "name": "python3"
  },
  "language_info": {
   "codemirror_mode": {
    "name": "ipython",
    "version": 3
   },
   "file_extension": ".py",
   "mimetype": "text/x-python",
   "name": "python",
   "nbconvert_exporter": "python",
   "pygments_lexer": "ipython3",
   "version": "3.10.4"
  },
  "orig_nbformat": 4,
  "vscode": {
   "interpreter": {
    "hash": "f6a050d9f10360465fbc02ae273ccd06cb1948ad5cd96cc14a3b3a9694a266bf"
   }
  }
 },
 "nbformat": 4,
 "nbformat_minor": 2
}
