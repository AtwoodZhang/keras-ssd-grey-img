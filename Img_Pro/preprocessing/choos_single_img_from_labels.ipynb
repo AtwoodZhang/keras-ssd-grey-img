{
 "cells": [
  {
   "cell_type": "code",
   "execution_count": 96,
   "metadata": {},
   "outputs": [],
   "source": [
    "#----------------------------------------------------------#\n",
    "# 只提取一个标签，并删除其他标签，并删除不包含该标签的文件；\n",
    "#----------------------------------------------------------#\n",
    "import os\n",
    "import xml.etree.ElementTree as ET\n",
    "\n",
    "\n",
    "def whether_has_label(label, old_xml_path, new_xml_path):\n",
    "    #------------------------------#\n",
    "    # 判断是否有label在这棵树里面；有，返回1， 无，返回0，\n",
    "    # 删除非label的obj.\n",
    "    # 返回tree.\n",
    "    #------------------------------#  \n",
    "    result = 0 \n",
    "    label_count = 0\n",
    "    tree = ET.parse(old_xml_path)\n",
    "    root = tree.getroot()\n",
    "    for obj in root.findall('object'):\n",
    "        tmp1 = obj.find('name').text\n",
    "        if obj.find(\"name\").text != label:\n",
    "            root.remove(obj)\n",
    "        if obj.find(\"name\").text == label:\n",
    "            label_count += 1\n",
    "            result = 1\n",
    "\n",
    "    if result == 1:\n",
    "        tree.write(new_xml_path)   \n",
    "    # if label_count > 1:\n",
    "    #     print(new_xml_path)\n",
    "    return result, label_count"
   ]
  },
  {
   "cell_type": "code",
   "execution_count": 97,
   "metadata": {},
   "outputs": [
    {
     "name": "stdout",
     "output_type": "stream",
     "text": [
      "label: dog\n",
      "label_count: 538\n"
     ]
    }
   ],
   "source": [
    "def choose_imgandlabel_from_label(label):\n",
    "    \n",
    "    \n",
    "    Annotation_path = r\"/home/zya/zya/AI/Dataset/voc/VOCdevkit/VOC2007/Annotations/\"\n",
    "    Image_path = r\"/home/zya/zya/AI/Dataset/voc/VOCdevkit/VOC2007/JPEGImages/\"\n",
    "    new_img_path = \"/home/zya/zya/AI/Dataset/voc/VOCdevkit/VOC2007_label/JPEGImages/\" # 有label的img的存储位置；\n",
    "    new_anno_path = \"/home/zya/zya/AI/Dataset/voc/VOCdevkit/VOC2007_label/Annotations/\"  # 有label的anno的存储位置;\n",
    "    \n",
    "    Image_name_list = os.listdir(Image_path)\n",
    "    Anno_name_list = os.listdir(Annotation_path)\n",
    "    Image_name_list = sorted(Image_name_list)\n",
    "    Anno_name_list = sorted(Anno_name_list)\n",
    "    # print(Image_name_list[0:3])\n",
    "    # print(Anno_name_list[0:3])\n",
    "    \n",
    "    label_count = 0\n",
    "    for i, key in enumerate(Anno_name_list):\n",
    "        Anno_path = Annotation_path+key\n",
    "        new_label_anno_path = new_anno_path + key\n",
    "        label_result, l_count = whether_has_label(label, Anno_path, new_label_anno_path)\n",
    "        label_count = label_count + l_count\n",
    "\n",
    "    print(\"label:\", label1)\n",
    "    print(\"label_count:\", label_count)\n",
    "    return\n",
    "\n",
    "\n",
    "if __name__ == \"__main__\":\n",
    "    label1 = \"dog\"\n",
    "    choose_imgandlabel_from_label(label1)\n",
    "    "
   ]
  },
  {
   "cell_type": "code",
   "execution_count": null,
   "metadata": {},
   "outputs": [],
   "source": [
    "# test1 xml"
   ]
  },
  {
   "cell_type": "code",
   "execution_count": 88,
   "metadata": {},
   "outputs": [],
   "source": [
    "def cope_anno(label, Annotation_path,write_path):\n",
    "    tree = ET.parse(Annotation_path)\n",
    "    root = tree.getroot()\n",
    "    # print(root.tag)\n",
    "    tmp = []\n",
    "    for obj in root.findall('object'):\n",
    "        tmp1 = obj.find('name').text\n",
    "        if tmp1==label:\n",
    "            print(\"1\")\n",
    "            root.remove(obj)\n",
    "    tree.write(write_path)        "
   ]
  },
  {
   "cell_type": "code",
   "execution_count": 90,
   "metadata": {},
   "outputs": [
    {
     "name": "stdout",
     "output_type": "stream",
     "text": [
      "1\n",
      "1\n",
      "1\n"
     ]
    }
   ],
   "source": [
    "import os\n",
    "import xml.etree.ElementTree as ET\n",
    "\n",
    "Annotation_path = r\"/home/zya/zya/AI/NNet/detection/preprocessing/000021.xml\"\n",
    "write_path = r\"/home/zya/zya/AI/NNet/detection/preprocessing/2012_001.xml\"\n",
    "\n",
    "label = \"person\"\n",
    "cope_anno(label, Annotation_path, write_path)\n",
    "# whether_has_label(label, Annotation_path, write_path)\n",
    "# a, b = whether_has_label(label, Annotation_path, write_path)       "
   ]
  }
 ],
 "metadata": {
  "kernelspec": {
   "display_name": "Python 3.10.4 ('stc')",
   "language": "python",
   "name": "python3"
  },
  "language_info": {
   "codemirror_mode": {
    "name": "ipython",
    "version": 3
   },
   "file_extension": ".py",
   "mimetype": "text/x-python",
   "name": "python",
   "nbconvert_exporter": "python",
   "pygments_lexer": "ipython3",
   "version": "3.10.4"
  },
  "orig_nbformat": 4,
  "vscode": {
   "interpreter": {
    "hash": "f6a050d9f10360465fbc02ae273ccd06cb1948ad5cd96cc14a3b3a9694a266bf"
   }
  }
 },
 "nbformat": 4,
 "nbformat_minor": 2
}
