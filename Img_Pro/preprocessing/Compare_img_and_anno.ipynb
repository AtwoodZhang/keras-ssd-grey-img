{
 "cells": [
  {
   "cell_type": "code",
   "execution_count": 11,
   "id": "2c297798",
   "metadata": {},
   "outputs": [],
   "source": [
    "import os\n",
    "import sys\n",
    "\n",
    "\n",
    "Anno_path = r\"C:\\Users\\7000031151\\OneDrive - Sony\\04_IMX681\\Experiments\\Dataset_681_1\\good_slice_jpg_anno\"\n",
    "JPEG_path = r\"C:\\Users\\7000031151\\OneDrive - Sony\\04_IMX681\\Experiments\\Dataset_681_1\\good_slice_jpg\""
   ]
  },
  {
   "cell_type": "code",
   "execution_count": 12,
   "id": "09bda233",
   "metadata": {},
   "outputs": [
    {
     "name": "stdout",
     "output_type": "stream",
     "text": [
      "['230317_110146_00000.xml', '230317_110151_00002.xml', '230317_110152_00003.xml']\n",
      "['230317_110146_00000', '230317_110151_00002', '230317_110152_00003']\n",
      "['230317_110146_00000.jpg', '230317_110151_00002.jpg', '230317_110152_00003.jpg']\n",
      "['230317_110146_00000', '230317_110151_00002', '230317_110152_00003']\n"
     ]
    }
   ],
   "source": [
    "Anno_list = os.listdir(Anno_path)\n",
    "Anno_name_list = [x[0:-4] for x in Anno_list ]\n",
    "Anno_name_list = sorted(Anno_name_list)\n",
    "print(Anno_list[0:3])\n",
    "print(Anno_name_list[0:3])\n",
    "JPEG_list = os.listdir(JPEG_path)\n",
    "JPEG_name_list = [x[0:-4] for x in JPEG_list ]\n",
    "JPEG_name_list = sorted(JPEG_name_list)\n",
    "print(JPEG_list[0:3])\n",
    "print(JPEG_name_list[0:3])"
   ]
  },
  {
   "cell_type": "code",
   "execution_count": 13,
   "id": "2b58fcf1",
   "metadata": {},
   "outputs": [
    {
     "name": "stdout",
     "output_type": "stream",
     "text": [
      "recent Anno count: 866\n",
      "recent JPEG count: 866\n"
     ]
    }
   ],
   "source": [
    "for i in JPEG_name_list:\n",
    "    if i not in Anno_name_list:\n",
    "        no_anno_jpg_name = i+\".jpg\"\n",
    "        no_anno_jpg_path = JPEG_path + \"/\" + no_anno_jpg_name\n",
    "        # print(no_anno_jpg_path)\n",
    "        os.remove(no_anno_jpg_path)\n",
    "\n",
    "Anno_new_list = os.listdir(Anno_path)\n",
    "JPEG_new_list = os.listdir(JPEG_path)\n",
    "\n",
    "print(\"recent Anno count:\",len(Anno_new_list))\n",
    "print(\"recent JPEG count:\",len(JPEG_new_list))"
   ]
  },
  {
   "cell_type": "code",
   "execution_count": null,
   "id": "ef79881a",
   "metadata": {},
   "outputs": [],
   "source": []
  }
 ],
 "metadata": {
  "kernelspec": {
   "display_name": "Python 3 (ipykernel)",
   "language": "python",
   "name": "python3"
  },
  "language_info": {
   "codemirror_mode": {
    "name": "ipython",
    "version": 3
   },
   "file_extension": ".py",
   "mimetype": "text/x-python",
   "name": "python",
   "nbconvert_exporter": "python",
   "pygments_lexer": "ipython3",
   "version": "3.10.4"
  }
 },
 "nbformat": 4,
 "nbformat_minor": 5
}
