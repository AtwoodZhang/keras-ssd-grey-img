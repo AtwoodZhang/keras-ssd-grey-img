{
 "cells": [
  {
   "cell_type": "code",
   "execution_count": 8,
   "metadata": {},
   "outputs": [
    {
     "name": "stderr",
     "output_type": "stream",
     "text": [
      "C:\\Users\\7000031151\\AppData\\Local\\Temp\\ipykernel_29608\\657925010.py:21: DeprecationWarning: ANTIALIAS is deprecated and will be removed in Pillow 10 (2023-07-01). Use Resampling.LANCZOS instead.\n",
      "  resized_image = image.resize(target_size, Image.ANTIALIAS)\n"
     ]
    },
    {
     "name": "stdout",
     "output_type": "stream",
     "text": [
      "Resize and label conversion completed.\n"
     ]
    }
   ],
   "source": [
    "from PIL import Image\n",
    "import os\n",
    "import json\n",
    "\n",
    "# 输入和输出文件夹\n",
    "input_folder = 'labeled_images'\n",
    "output_folder = 'resized_labeled_images'\n",
    "\n",
    "# 创建输出文件夹\n",
    "os.makedirs(output_folder, exist_ok=True)\n",
    "\n",
    "# 图片resize的目标尺寸\n",
    "target_size = (320, 320)\n",
    "\n",
    "# 遍历输入文件夹\n",
    "for file_name in os.listdir(input_folder):\n",
    "    # 图片文件处理\n",
    "    if file_name.endswith('.jpg'):\n",
    "        image_path = os.path.join(input_folder, file_name)\n",
    "        image = Image.open(image_path)\n",
    "        resized_image = image.resize(target_size, Image.ANTIALIAS)\n",
    "        resized_image_path = os.path.join(output_folder, file_name)\n",
    "        resized_image.save(resized_image_path)\n",
    "\n",
    "        # 标签文件处理\n",
    "        label_file_path = os.path.join(input_folder, file_name.replace('.jpg', '_labels.txt'))\n",
    "        if os.path.exists(label_file_path):\n",
    "            with open(label_file_path, 'r') as label_file:\n",
    "                labels = label_file.readlines()\n",
    "\n",
    "            # 对每个标签进行处理\n",
    "            resized_labels = []\n",
    "            for label in labels:\n",
    "                label_parts = label.strip().split()\n",
    "                label_name = label_parts[0]\n",
    "                left = float(label_parts[1]) * target_size[0]\n",
    "                top = float(label_parts[2]) * target_size[1]\n",
    "                width = float(label_parts[3]) * target_size[0]\n",
    "                height = float(label_parts[4]) * target_size[1]\n",
    "\n",
    "                resized_label = {\n",
    "                    'label': label_name,\n",
    "                    'left': left,\n",
    "                    'top': top,\n",
    "                    'width': width,\n",
    "                    'height': height\n",
    "                }\n",
    "                resized_labels.append(resized_label)\n",
    "\n",
    "            # 将处理后的标签保存为json文件\n",
    "            json_file_name = file_name.replace('.jpg', '.json')\n",
    "            json_file_path = os.path.join(output_folder, json_file_name)\n",
    "            with open(json_file_path, 'w') as json_file:\n",
    "                json.dump(resized_labels, json_file, indent=4)\n",
    "\n",
    "print(\"Resize and label conversion completed.\")\n"
   ]
  }
 ],
 "metadata": {
  "kernelspec": {
   "display_name": "stc_cope",
   "language": "python",
   "name": "python3"
  },
  "language_info": {
   "codemirror_mode": {
    "name": "ipython",
    "version": 3
   },
   "file_extension": ".py",
   "mimetype": "text/x-python",
   "name": "python",
   "nbconvert_exporter": "python",
   "pygments_lexer": "ipython3",
   "version": "3.10.4"
  }
 },
 "nbformat": 4,
 "nbformat_minor": 2
}
